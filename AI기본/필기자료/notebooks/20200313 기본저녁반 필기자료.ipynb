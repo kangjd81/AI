{
 "cells": [
  {
   "cell_type": "markdown",
   "metadata": {
    "toc": true
   },
   "source": [
    "<h1>Table of Contents<span class=\"tocSkip\"></span></h1>\n",
    "<div class=\"toc\"><ul class=\"toc-item\"><li><span><a href=\"#scikit-learn\" data-toc-modified-id=\"scikit-learn-1\"><span class=\"toc-item-num\">1&nbsp;&nbsp;</span>scikit-learn</a></span><ul class=\"toc-item\"><li><span><a href=\"#Classification\" data-toc-modified-id=\"Classification-1.1\"><span class=\"toc-item-num\">1.1&nbsp;&nbsp;</span>Classification</a></span><ul class=\"toc-item\"><li><span><a href=\"#데이터-준비\" data-toc-modified-id=\"데이터-준비-1.1.1\"><span class=\"toc-item-num\">1.1.1&nbsp;&nbsp;</span>데이터 준비</a></span></li><li><span><a href=\"#KNeighborsClassifier\" data-toc-modified-id=\"KNeighborsClassifier-1.1.2\"><span class=\"toc-item-num\">1.1.2&nbsp;&nbsp;</span>KNeighborsClassifier</a></span><ul class=\"toc-item\"><li><span><a href=\"#import\" data-toc-modified-id=\"import-1.1.2.1\"><span class=\"toc-item-num\">1.1.2.1&nbsp;&nbsp;</span>import</a></span></li><li><span><a href=\"#instance\" data-toc-modified-id=\"instance-1.1.2.2\"><span class=\"toc-item-num\">1.1.2.2&nbsp;&nbsp;</span>instance</a></span></li><li><span><a href=\"#fit\" data-toc-modified-id=\"fit-1.1.2.3\"><span class=\"toc-item-num\">1.1.2.3&nbsp;&nbsp;</span>fit</a></span></li><li><span><a href=\"#predict\" data-toc-modified-id=\"predict-1.1.2.4\"><span class=\"toc-item-num\">1.1.2.4&nbsp;&nbsp;</span>predict</a></span></li></ul></li><li><span><a href=\"#MLPClassifier\" data-toc-modified-id=\"MLPClassifier-1.1.3\"><span class=\"toc-item-num\">1.1.3&nbsp;&nbsp;</span>MLPClassifier</a></span><ul class=\"toc-item\"><li><span><a href=\"#import\" data-toc-modified-id=\"import-1.1.3.1\"><span class=\"toc-item-num\">1.1.3.1&nbsp;&nbsp;</span>import</a></span></li><li><span><a href=\"#instance\" data-toc-modified-id=\"instance-1.1.3.2\"><span class=\"toc-item-num\">1.1.3.2&nbsp;&nbsp;</span>instance</a></span></li><li><span><a href=\"#fit\" data-toc-modified-id=\"fit-1.1.3.3\"><span class=\"toc-item-num\">1.1.3.3&nbsp;&nbsp;</span>fit</a></span></li><li><span><a href=\"#predict\" data-toc-modified-id=\"predict-1.1.3.4\"><span class=\"toc-item-num\">1.1.3.4&nbsp;&nbsp;</span>predict</a></span></li></ul></li></ul></li><li><span><a href=\"#Regression\" data-toc-modified-id=\"Regression-1.2\"><span class=\"toc-item-num\">1.2&nbsp;&nbsp;</span>Regression</a></span><ul class=\"toc-item\"><li><span><a href=\"#데이터-준비\" data-toc-modified-id=\"데이터-준비-1.2.1\"><span class=\"toc-item-num\">1.2.1&nbsp;&nbsp;</span>데이터 준비</a></span><ul class=\"toc-item\"><li><span><a href=\"#분석용-데이터-준비\" data-toc-modified-id=\"분석용-데이터-준비-1.2.1.1\"><span class=\"toc-item-num\">1.2.1.1&nbsp;&nbsp;</span>분석용 데이터 준비</a></span></li></ul></li><li><span><a href=\"#KNeighborsRegressor\" data-toc-modified-id=\"KNeighborsRegressor-1.2.2\"><span class=\"toc-item-num\">1.2.2&nbsp;&nbsp;</span>KNeighborsRegressor</a></span><ul class=\"toc-item\"><li><span><a href=\"#import\" data-toc-modified-id=\"import-1.2.2.1\"><span class=\"toc-item-num\">1.2.2.1&nbsp;&nbsp;</span>import</a></span></li><li><span><a href=\"#instance\" data-toc-modified-id=\"instance-1.2.2.2\"><span class=\"toc-item-num\">1.2.2.2&nbsp;&nbsp;</span>instance</a></span></li><li><span><a href=\"#fit\" data-toc-modified-id=\"fit-1.2.2.3\"><span class=\"toc-item-num\">1.2.2.3&nbsp;&nbsp;</span>fit</a></span></li><li><span><a href=\"#predict\" data-toc-modified-id=\"predict-1.2.2.4\"><span class=\"toc-item-num\">1.2.2.4&nbsp;&nbsp;</span>predict</a></span></li></ul></li></ul></li></ul></li><li><span><a href=\"#folium\" data-toc-modified-id=\"folium-2\"><span class=\"toc-item-num\">2&nbsp;&nbsp;</span>folium</a></span><ul class=\"toc-item\"><li><span><a href=\"#단계구분도-(Choropleth)\" data-toc-modified-id=\"단계구분도-(Choropleth)-2.1\"><span class=\"toc-item-num\">2.1&nbsp;&nbsp;</span>단계구분도 (Choropleth)</a></span></li></ul></li></ul></div>"
   ]
  },
  {
   "cell_type": "markdown",
   "metadata": {},
   "source": [
    "# [AI 오픈 이노베이션] 기본 저녁반<a class=\"tocSkip\">\n",
    "GitHub link: <a href=\"https://github.com/realblack0/ai_lecture_fundamental\">here</a>  \n",
    "E-Mail: realblack0@gmail.com"
   ]
  },
  {
   "cell_type": "markdown",
   "metadata": {},
   "source": [
    "## scikit-learn"
   ]
  },
  {
   "cell_type": "markdown",
   "metadata": {},
   "source": [
    "**기계학습 분류**\n",
    "- supervisor learning (지도 학습)\n",
    "    - classification\n",
    "    - regression\n",
    "- unsupervisor learning (비지도 학습)\n",
    "- reinforcement learning (강화학습)"
   ]
  },
  {
   "cell_type": "markdown",
   "metadata": {},
   "source": [
    "scikit-learn(사이킷런)은 기계학습용 라이브러리이다.  \n",
    "`datasets` 모듈에는 연습용 데이터가 있다."
   ]
  },
  {
   "cell_type": "code",
   "execution_count": 3,
   "metadata": {},
   "outputs": [],
   "source": [
    "from sklearn.datasets import load_iris\n",
    "import pandas as pd"
   ]
  },
  {
   "cell_type": "markdown",
   "metadata": {},
   "source": [
    "### Classification"
   ]
  },
  {
   "cell_type": "markdown",
   "metadata": {},
   "source": [
    "#### 데이터 준비"
   ]
  },
  {
   "cell_type": "markdown",
   "metadata": {},
   "source": [
    "scikit-learn은 numpy를 기반으로 만들어졌다.  \n",
    "pandas를 기반으로 만들어지지는 않았지만 연동은 된다."
   ]
  },
  {
   "cell_type": "code",
   "execution_count": 126,
   "metadata": {},
   "outputs": [],
   "source": [
    "data = load_iris()"
   ]
  },
  {
   "cell_type": "code",
   "execution_count": 127,
   "metadata": {},
   "outputs": [
    {
     "data": {
      "text/plain": [
       "['DESCR', 'data', 'feature_names', 'filename', 'target', 'target_names']"
      ]
     },
     "execution_count": 127,
     "metadata": {},
     "output_type": "execute_result"
    }
   ],
   "source": [
    "dir(data)"
   ]
  },
  {
   "cell_type": "markdown",
   "metadata": {},
   "source": [
    "pandas의 편리한 기능을 활용하기 위해서 DataFrame으로 변환한다.  \n",
    "data에는 훈련데이터, feature_names에는 훈련데이터의 각 feature의 이름이 들어있다. feature name을 열인덱스로 지정한다."
   ]
  },
  {
   "cell_type": "code",
   "execution_count": 128,
   "metadata": {},
   "outputs": [],
   "source": [
    "data_ = pd.DataFrame(data.data, columns=data.feature_names)"
   ]
  },
  {
   "cell_type": "code",
   "execution_count": 129,
   "metadata": {},
   "outputs": [
    {
     "data": {
      "text/html": [
       "<div>\n",
       "<style scoped>\n",
       "    .dataframe tbody tr th:only-of-type {\n",
       "        vertical-align: middle;\n",
       "    }\n",
       "\n",
       "    .dataframe tbody tr th {\n",
       "        vertical-align: top;\n",
       "    }\n",
       "\n",
       "    .dataframe thead th {\n",
       "        text-align: right;\n",
       "    }\n",
       "</style>\n",
       "<table border=\"1\" class=\"dataframe\">\n",
       "  <thead>\n",
       "    <tr style=\"text-align: right;\">\n",
       "      <th></th>\n",
       "      <th>sepal length (cm)</th>\n",
       "      <th>sepal width (cm)</th>\n",
       "      <th>petal length (cm)</th>\n",
       "      <th>petal width (cm)</th>\n",
       "    </tr>\n",
       "  </thead>\n",
       "  <tbody>\n",
       "    <tr>\n",
       "      <th>0</th>\n",
       "      <td>5.1</td>\n",
       "      <td>3.5</td>\n",
       "      <td>1.4</td>\n",
       "      <td>0.2</td>\n",
       "    </tr>\n",
       "    <tr>\n",
       "      <th>1</th>\n",
       "      <td>4.9</td>\n",
       "      <td>3.0</td>\n",
       "      <td>1.4</td>\n",
       "      <td>0.2</td>\n",
       "    </tr>\n",
       "    <tr>\n",
       "      <th>2</th>\n",
       "      <td>4.7</td>\n",
       "      <td>3.2</td>\n",
       "      <td>1.3</td>\n",
       "      <td>0.2</td>\n",
       "    </tr>\n",
       "    <tr>\n",
       "      <th>3</th>\n",
       "      <td>4.6</td>\n",
       "      <td>3.1</td>\n",
       "      <td>1.5</td>\n",
       "      <td>0.2</td>\n",
       "    </tr>\n",
       "    <tr>\n",
       "      <th>4</th>\n",
       "      <td>5.0</td>\n",
       "      <td>3.6</td>\n",
       "      <td>1.4</td>\n",
       "      <td>0.2</td>\n",
       "    </tr>\n",
       "    <tr>\n",
       "      <th>...</th>\n",
       "      <td>...</td>\n",
       "      <td>...</td>\n",
       "      <td>...</td>\n",
       "      <td>...</td>\n",
       "    </tr>\n",
       "    <tr>\n",
       "      <th>145</th>\n",
       "      <td>6.7</td>\n",
       "      <td>3.0</td>\n",
       "      <td>5.2</td>\n",
       "      <td>2.3</td>\n",
       "    </tr>\n",
       "    <tr>\n",
       "      <th>146</th>\n",
       "      <td>6.3</td>\n",
       "      <td>2.5</td>\n",
       "      <td>5.0</td>\n",
       "      <td>1.9</td>\n",
       "    </tr>\n",
       "    <tr>\n",
       "      <th>147</th>\n",
       "      <td>6.5</td>\n",
       "      <td>3.0</td>\n",
       "      <td>5.2</td>\n",
       "      <td>2.0</td>\n",
       "    </tr>\n",
       "    <tr>\n",
       "      <th>148</th>\n",
       "      <td>6.2</td>\n",
       "      <td>3.4</td>\n",
       "      <td>5.4</td>\n",
       "      <td>2.3</td>\n",
       "    </tr>\n",
       "    <tr>\n",
       "      <th>149</th>\n",
       "      <td>5.9</td>\n",
       "      <td>3.0</td>\n",
       "      <td>5.1</td>\n",
       "      <td>1.8</td>\n",
       "    </tr>\n",
       "  </tbody>\n",
       "</table>\n",
       "<p>150 rows × 4 columns</p>\n",
       "</div>"
      ],
      "text/plain": [
       "     sepal length (cm)  sepal width (cm)  petal length (cm)  petal width (cm)\n",
       "0                  5.1               3.5                1.4               0.2\n",
       "1                  4.9               3.0                1.4               0.2\n",
       "2                  4.7               3.2                1.3               0.2\n",
       "3                  4.6               3.1                1.5               0.2\n",
       "4                  5.0               3.6                1.4               0.2\n",
       "..                 ...               ...                ...               ...\n",
       "145                6.7               3.0                5.2               2.3\n",
       "146                6.3               2.5                5.0               1.9\n",
       "147                6.5               3.0                5.2               2.0\n",
       "148                6.2               3.4                5.4               2.3\n",
       "149                5.9               3.0                5.1               1.8\n",
       "\n",
       "[150 rows x 4 columns]"
      ]
     },
     "execution_count": 129,
     "metadata": {},
     "output_type": "execute_result"
    }
   ],
   "source": [
    "data_"
   ]
  },
  {
   "cell_type": "markdown",
   "metadata": {},
   "source": [
    "target에는 정답 데이터가 들어있다.  \n",
    "정답 데이터의 열 이름은 보통 target 이라고 한다."
   ]
  },
  {
   "cell_type": "code",
   "execution_count": 130,
   "metadata": {},
   "outputs": [],
   "source": [
    "data_t = pd.DataFrame(data.target, columns=[\"target\"]) # columns=target_names를 사용하지 않음"
   ]
  },
  {
   "cell_type": "code",
   "execution_count": 131,
   "metadata": {},
   "outputs": [
    {
     "data": {
      "text/html": [
       "<div>\n",
       "<style scoped>\n",
       "    .dataframe tbody tr th:only-of-type {\n",
       "        vertical-align: middle;\n",
       "    }\n",
       "\n",
       "    .dataframe tbody tr th {\n",
       "        vertical-align: top;\n",
       "    }\n",
       "\n",
       "    .dataframe thead th {\n",
       "        text-align: right;\n",
       "    }\n",
       "</style>\n",
       "<table border=\"1\" class=\"dataframe\">\n",
       "  <thead>\n",
       "    <tr style=\"text-align: right;\">\n",
       "      <th></th>\n",
       "      <th>target</th>\n",
       "    </tr>\n",
       "  </thead>\n",
       "  <tbody>\n",
       "    <tr>\n",
       "      <th>0</th>\n",
       "      <td>0</td>\n",
       "    </tr>\n",
       "    <tr>\n",
       "      <th>1</th>\n",
       "      <td>0</td>\n",
       "    </tr>\n",
       "    <tr>\n",
       "      <th>2</th>\n",
       "      <td>0</td>\n",
       "    </tr>\n",
       "    <tr>\n",
       "      <th>3</th>\n",
       "      <td>0</td>\n",
       "    </tr>\n",
       "    <tr>\n",
       "      <th>4</th>\n",
       "      <td>0</td>\n",
       "    </tr>\n",
       "    <tr>\n",
       "      <th>...</th>\n",
       "      <td>...</td>\n",
       "    </tr>\n",
       "    <tr>\n",
       "      <th>145</th>\n",
       "      <td>2</td>\n",
       "    </tr>\n",
       "    <tr>\n",
       "      <th>146</th>\n",
       "      <td>2</td>\n",
       "    </tr>\n",
       "    <tr>\n",
       "      <th>147</th>\n",
       "      <td>2</td>\n",
       "    </tr>\n",
       "    <tr>\n",
       "      <th>148</th>\n",
       "      <td>2</td>\n",
       "    </tr>\n",
       "    <tr>\n",
       "      <th>149</th>\n",
       "      <td>2</td>\n",
       "    </tr>\n",
       "  </tbody>\n",
       "</table>\n",
       "<p>150 rows × 1 columns</p>\n",
       "</div>"
      ],
      "text/plain": [
       "     target\n",
       "0         0\n",
       "1         0\n",
       "2         0\n",
       "3         0\n",
       "4         0\n",
       "..      ...\n",
       "145       2\n",
       "146       2\n",
       "147       2\n",
       "148       2\n",
       "149       2\n",
       "\n",
       "[150 rows x 1 columns]"
      ]
     },
     "execution_count": 131,
     "metadata": {},
     "output_type": "execute_result"
    }
   ],
   "source": [
    "data_t"
   ]
  },
  {
   "cell_type": "markdown",
   "metadata": {},
   "source": [
    "target_names는 target 값의 원래 이름이다.  "
   ]
  },
  {
   "cell_type": "code",
   "execution_count": 11,
   "metadata": {},
   "outputs": [
    {
     "data": {
      "text/plain": [
       "array(['setosa', 'versicolor', 'virginica'], dtype='<U10')"
      ]
     },
     "execution_count": 11,
     "metadata": {},
     "output_type": "execute_result"
    }
   ],
   "source": [
    "data.target_names"
   ]
  },
  {
   "cell_type": "markdown",
   "metadata": {},
   "source": [
    "예를 들어, target 값이 0이면 해당 데이터는 setosa 이다."
   ]
  },
  {
   "cell_type": "code",
   "execution_count": 137,
   "metadata": {},
   "outputs": [
    {
     "data": {
      "text/plain": [
       "target    0\n",
       "Name: 1, dtype: int32"
      ]
     },
     "execution_count": 137,
     "metadata": {},
     "output_type": "execute_result"
    }
   ],
   "source": [
    "data_t.loc[1]"
   ]
  },
  {
   "cell_type": "code",
   "execution_count": 138,
   "metadata": {},
   "outputs": [
    {
     "data": {
      "text/plain": [
       "array(['setosa'], dtype='<U10')"
      ]
     },
     "execution_count": 138,
     "metadata": {},
     "output_type": "execute_result"
    }
   ],
   "source": [
    "data.target_names[data_t.loc[1]]"
   ]
  },
  {
   "cell_type": "markdown",
   "metadata": {},
   "source": [
    "훈련데이터와 정답데이터를 합쳐서 데이터셋을 만든다."
   ]
  },
  {
   "cell_type": "code",
   "execution_count": 9,
   "metadata": {},
   "outputs": [],
   "source": [
    "iris = pd.concat([data_, data_t], axis=1)"
   ]
  },
  {
   "cell_type": "code",
   "execution_count": 10,
   "metadata": {},
   "outputs": [
    {
     "data": {
      "text/html": [
       "<div>\n",
       "<style scoped>\n",
       "    .dataframe tbody tr th:only-of-type {\n",
       "        vertical-align: middle;\n",
       "    }\n",
       "\n",
       "    .dataframe tbody tr th {\n",
       "        vertical-align: top;\n",
       "    }\n",
       "\n",
       "    .dataframe thead th {\n",
       "        text-align: right;\n",
       "    }\n",
       "</style>\n",
       "<table border=\"1\" class=\"dataframe\">\n",
       "  <thead>\n",
       "    <tr style=\"text-align: right;\">\n",
       "      <th></th>\n",
       "      <th>sepal length (cm)</th>\n",
       "      <th>sepal width (cm)</th>\n",
       "      <th>petal length (cm)</th>\n",
       "      <th>petal width (cm)</th>\n",
       "      <th>target</th>\n",
       "    </tr>\n",
       "  </thead>\n",
       "  <tbody>\n",
       "    <tr>\n",
       "      <th>0</th>\n",
       "      <td>5.1</td>\n",
       "      <td>3.5</td>\n",
       "      <td>1.4</td>\n",
       "      <td>0.2</td>\n",
       "      <td>0</td>\n",
       "    </tr>\n",
       "    <tr>\n",
       "      <th>1</th>\n",
       "      <td>4.9</td>\n",
       "      <td>3.0</td>\n",
       "      <td>1.4</td>\n",
       "      <td>0.2</td>\n",
       "      <td>0</td>\n",
       "    </tr>\n",
       "    <tr>\n",
       "      <th>2</th>\n",
       "      <td>4.7</td>\n",
       "      <td>3.2</td>\n",
       "      <td>1.3</td>\n",
       "      <td>0.2</td>\n",
       "      <td>0</td>\n",
       "    </tr>\n",
       "    <tr>\n",
       "      <th>3</th>\n",
       "      <td>4.6</td>\n",
       "      <td>3.1</td>\n",
       "      <td>1.5</td>\n",
       "      <td>0.2</td>\n",
       "      <td>0</td>\n",
       "    </tr>\n",
       "    <tr>\n",
       "      <th>4</th>\n",
       "      <td>5.0</td>\n",
       "      <td>3.6</td>\n",
       "      <td>1.4</td>\n",
       "      <td>0.2</td>\n",
       "      <td>0</td>\n",
       "    </tr>\n",
       "    <tr>\n",
       "      <th>...</th>\n",
       "      <td>...</td>\n",
       "      <td>...</td>\n",
       "      <td>...</td>\n",
       "      <td>...</td>\n",
       "      <td>...</td>\n",
       "    </tr>\n",
       "    <tr>\n",
       "      <th>145</th>\n",
       "      <td>6.7</td>\n",
       "      <td>3.0</td>\n",
       "      <td>5.2</td>\n",
       "      <td>2.3</td>\n",
       "      <td>2</td>\n",
       "    </tr>\n",
       "    <tr>\n",
       "      <th>146</th>\n",
       "      <td>6.3</td>\n",
       "      <td>2.5</td>\n",
       "      <td>5.0</td>\n",
       "      <td>1.9</td>\n",
       "      <td>2</td>\n",
       "    </tr>\n",
       "    <tr>\n",
       "      <th>147</th>\n",
       "      <td>6.5</td>\n",
       "      <td>3.0</td>\n",
       "      <td>5.2</td>\n",
       "      <td>2.0</td>\n",
       "      <td>2</td>\n",
       "    </tr>\n",
       "    <tr>\n",
       "      <th>148</th>\n",
       "      <td>6.2</td>\n",
       "      <td>3.4</td>\n",
       "      <td>5.4</td>\n",
       "      <td>2.3</td>\n",
       "      <td>2</td>\n",
       "    </tr>\n",
       "    <tr>\n",
       "      <th>149</th>\n",
       "      <td>5.9</td>\n",
       "      <td>3.0</td>\n",
       "      <td>5.1</td>\n",
       "      <td>1.8</td>\n",
       "      <td>2</td>\n",
       "    </tr>\n",
       "  </tbody>\n",
       "</table>\n",
       "<p>150 rows × 5 columns</p>\n",
       "</div>"
      ],
      "text/plain": [
       "     sepal length (cm)  sepal width (cm)  petal length (cm)  petal width (cm)  \\\n",
       "0                  5.1               3.5                1.4               0.2   \n",
       "1                  4.9               3.0                1.4               0.2   \n",
       "2                  4.7               3.2                1.3               0.2   \n",
       "3                  4.6               3.1                1.5               0.2   \n",
       "4                  5.0               3.6                1.4               0.2   \n",
       "..                 ...               ...                ...               ...   \n",
       "145                6.7               3.0                5.2               2.3   \n",
       "146                6.3               2.5                5.0               1.9   \n",
       "147                6.5               3.0                5.2               2.0   \n",
       "148                6.2               3.4                5.4               2.3   \n",
       "149                5.9               3.0                5.1               1.8   \n",
       "\n",
       "     target  \n",
       "0         0  \n",
       "1         0  \n",
       "2         0  \n",
       "3         0  \n",
       "4         0  \n",
       "..      ...  \n",
       "145       2  \n",
       "146       2  \n",
       "147       2  \n",
       "148       2  \n",
       "149       2  \n",
       "\n",
       "[150 rows x 5 columns]"
      ]
     },
     "execution_count": 10,
     "metadata": {},
     "output_type": "execute_result"
    }
   ],
   "source": [
    "iris"
   ]
  },
  {
   "cell_type": "markdown",
   "metadata": {},
   "source": [
    "**중요**\n",
    "- DataFrame의 각 행에서 feature들은 target을 대표할 수 있어야 한다.\n",
    "- 데이터가 아무리 많아도 데이터가 대표성을 갖지 못하면 기계할 수 없다."
   ]
  },
  {
   "cell_type": "markdown",
   "metadata": {},
   "source": [
    "데이터가 준비된 다음에는, 어떤 문제를 해결할 것인가 정해야 한다.  \n",
    "iris 데이터는 붓꽃의 꽃잎과 꽃받침의 길이와 넓이를 이용해서 붓꽃의 종류를 예측하는 문제이다.  \n",
    "붓꽃의 종류는 3가지로 한정된 숫자 내에서 분류하는 것이므로 Classification(분류) 문제이다.  "
   ]
  },
  {
   "cell_type": "markdown",
   "metadata": {},
   "source": [
    "#### KNeighborsClassifier"
   ]
  },
  {
   "cell_type": "markdown",
   "metadata": {},
   "source": [
    "scikit-learn에서 Classification 문제를 해결하는 알고리즘은 모두 Classifier라는 이름을 가지고 있다.  \n",
    "scikit-learn은 이름 규칙이 통일되어 있어서 사용하기 편리하다.  "
   ]
  },
  {
   "cell_type": "markdown",
   "metadata": {},
   "source": [
    "##### import"
   ]
  },
  {
   "cell_type": "markdown",
   "metadata": {},
   "source": [
    "KNeighobors 알고리즘은 나와 가까운 이웃(Neighbors)을 K개 찾아서 비교하는 알고리즘이다."
   ]
  },
  {
   "cell_type": "code",
   "execution_count": 12,
   "metadata": {},
   "outputs": [],
   "source": [
    "from sklearn.neighbors import KNeighborsClassifier"
   ]
  },
  {
   "cell_type": "markdown",
   "metadata": {},
   "source": [
    "##### instance"
   ]
  },
  {
   "cell_type": "markdown",
   "metadata": {},
   "source": [
    "`KNeighborsClassifier`은 이름이 camel 방식인 것으로부터 class 임을 알수 있다.  \n",
    "class는 인스턴스화해서 사용한다.  \n",
    "shift + tab을 눌러보면 다양한 옵션이 있다.  \n",
    "`n_neighbors`는 나와 가까운 이웃을 몇개를 찾을 것인지를 정하는 파라미터이다. "
   ]
  },
  {
   "cell_type": "code",
   "execution_count": 20,
   "metadata": {},
   "outputs": [],
   "source": [
    "knn = KNeighborsClassifier(n_neighbors=3)"
   ]
  },
  {
   "cell_type": "markdown",
   "metadata": {},
   "source": [
    "기계학습이란 기계가 데이터를 보고 학습하여 파라미터를 찾는 과정을 일컫는다.  \n",
    "그러나, 기계학습에서는 기계가 스스로 학습할 수 없는 파라미터가 존재한다.  \n",
    "이런 파라미터는 사람이 직접 정해줘야하고 하이퍼 파라미터라고 부른다.  \n",
    "scikit-learn에서는 알고리즘을 인스턴스화할 때 하이퍼 파라미터를 설정한다."
   ]
  },
  {
   "cell_type": "code",
   "execution_count": 21,
   "metadata": {},
   "outputs": [
    {
     "data": {
      "text/plain": [
       "{'n_neighbors': 3,\n",
       " 'radius': None,\n",
       " 'algorithm': 'auto',\n",
       " 'leaf_size': 30,\n",
       " 'metric': 'minkowski',\n",
       " 'metric_params': None,\n",
       " 'p': 2,\n",
       " 'n_jobs': None,\n",
       " 'weights': 'uniform'}"
      ]
     },
     "execution_count": 21,
     "metadata": {},
     "output_type": "execute_result"
    }
   ],
   "source": [
    "vars(knn) # vars로 모델의 하이퍼 파라미터 볼 수 있음"
   ]
  },
  {
   "cell_type": "markdown",
   "metadata": {},
   "source": [
    "##### fit"
   ]
  },
  {
   "cell_type": "markdown",
   "metadata": {},
   "source": [
    "통계에서는 학습하는 것을 fit(적합)한다고 하고, CS에서는 학습하는 것을 training, learn 이라고 한다.  \n",
    "일반적으로 통계용어를 따라서 학습을 fit이라고 부른다. "
   ]
  },
  {
   "cell_type": "markdown",
   "metadata": {},
   "source": [
    "`fit` 메소드의 shift + tab을 보면 X(대문자)와 y(소문자)를 받는다.  \n",
    "수학에서 보통 대문자는 행렬, 소문자는 벡터를 의미한다. (X:행렬, y:벡터)"
   ]
  },
  {
   "cell_type": "code",
   "execution_count": 22,
   "metadata": {},
   "outputs": [
    {
     "data": {
      "text/plain": [
       "KNeighborsClassifier(algorithm='auto', leaf_size=30, metric='minkowski',\n",
       "                     metric_params=None, n_jobs=None, n_neighbors=3, p=2,\n",
       "                     weights='uniform')"
      ]
     },
     "execution_count": 22,
     "metadata": {},
     "output_type": "execute_result"
    }
   ],
   "source": [
    "knn.fit(iris.iloc[:,:-1], iris.iloc[:,-1])"
   ]
  },
  {
   "cell_type": "markdown",
   "metadata": {},
   "source": [
    "fit하면 데이터가 모델에 저장된다."
   ]
  },
  {
   "cell_type": "code",
   "execution_count": 25,
   "metadata": {
    "scrolled": true
   },
   "outputs": [
    {
     "data": {
      "text/plain": [
       "{'n_neighbors': 3,\n",
       " 'radius': None,\n",
       " 'algorithm': 'auto',\n",
       " 'leaf_size': 30,\n",
       " 'metric': 'minkowski',\n",
       " 'metric_params': None,\n",
       " 'p': 2,\n",
       " 'n_jobs': None,\n",
       " 'weights': 'uniform',\n",
       " 'outputs_2d_': False,\n",
       " 'classes_': array([0, 1, 2]),\n",
       " '_y': array([0, 0, 0, 0, 0, 0, 0, 0, 0, 0, 0, 0, 0, 0, 0, 0, 0, 0, 0, 0, 0, 0,\n",
       "        0, 0, 0, 0, 0, 0, 0, 0, 0, 0, 0, 0, 0, 0, 0, 0, 0, 0, 0, 0, 0, 0,\n",
       "        0, 0, 0, 0, 0, 0, 1, 1, 1, 1, 1, 1, 1, 1, 1, 1, 1, 1, 1, 1, 1, 1,\n",
       "        1, 1, 1, 1, 1, 1, 1, 1, 1, 1, 1, 1, 1, 1, 1, 1, 1, 1, 1, 1, 1, 1,\n",
       "        1, 1, 1, 1, 1, 1, 1, 1, 1, 1, 1, 1, 2, 2, 2, 2, 2, 2, 2, 2, 2, 2,\n",
       "        2, 2, 2, 2, 2, 2, 2, 2, 2, 2, 2, 2, 2, 2, 2, 2, 2, 2, 2, 2, 2, 2,\n",
       "        2, 2, 2, 2, 2, 2, 2, 2, 2, 2, 2, 2, 2, 2, 2, 2, 2, 2]),\n",
       " 'effective_metric_params_': {},\n",
       " 'effective_metric_': 'euclidean',\n",
       " '_fit_method': 'kd_tree',\n",
       " '_fit_X': array([[5.1, 3.5, 1.4, 0.2],\n",
       "        [4.9, 3. , 1.4, 0.2],\n",
       "        [4.7, 3.2, 1.3, 0.2],\n",
       "        [4.6, 3.1, 1.5, 0.2],\n",
       "        [5. , 3.6, 1.4, 0.2],\n",
       "        [5.4, 3.9, 1.7, 0.4],\n",
       "        [4.6, 3.4, 1.4, 0.3],\n",
       "        [5. , 3.4, 1.5, 0.2],\n",
       "        [4.4, 2.9, 1.4, 0.2],\n",
       "        [4.9, 3.1, 1.5, 0.1],\n",
       "        [5.4, 3.7, 1.5, 0.2],\n",
       "        [4.8, 3.4, 1.6, 0.2],\n",
       "        [4.8, 3. , 1.4, 0.1],\n",
       "        [4.3, 3. , 1.1, 0.1],\n",
       "        [5.8, 4. , 1.2, 0.2],\n",
       "        [5.7, 4.4, 1.5, 0.4],\n",
       "        [5.4, 3.9, 1.3, 0.4],\n",
       "        [5.1, 3.5, 1.4, 0.3],\n",
       "        [5.7, 3.8, 1.7, 0.3],\n",
       "        [5.1, 3.8, 1.5, 0.3],\n",
       "        [5.4, 3.4, 1.7, 0.2],\n",
       "        [5.1, 3.7, 1.5, 0.4],\n",
       "        [4.6, 3.6, 1. , 0.2],\n",
       "        [5.1, 3.3, 1.7, 0.5],\n",
       "        [4.8, 3.4, 1.9, 0.2],\n",
       "        [5. , 3. , 1.6, 0.2],\n",
       "        [5. , 3.4, 1.6, 0.4],\n",
       "        [5.2, 3.5, 1.5, 0.2],\n",
       "        [5.2, 3.4, 1.4, 0.2],\n",
       "        [4.7, 3.2, 1.6, 0.2],\n",
       "        [4.8, 3.1, 1.6, 0.2],\n",
       "        [5.4, 3.4, 1.5, 0.4],\n",
       "        [5.2, 4.1, 1.5, 0.1],\n",
       "        [5.5, 4.2, 1.4, 0.2],\n",
       "        [4.9, 3.1, 1.5, 0.2],\n",
       "        [5. , 3.2, 1.2, 0.2],\n",
       "        [5.5, 3.5, 1.3, 0.2],\n",
       "        [4.9, 3.6, 1.4, 0.1],\n",
       "        [4.4, 3. , 1.3, 0.2],\n",
       "        [5.1, 3.4, 1.5, 0.2],\n",
       "        [5. , 3.5, 1.3, 0.3],\n",
       "        [4.5, 2.3, 1.3, 0.3],\n",
       "        [4.4, 3.2, 1.3, 0.2],\n",
       "        [5. , 3.5, 1.6, 0.6],\n",
       "        [5.1, 3.8, 1.9, 0.4],\n",
       "        [4.8, 3. , 1.4, 0.3],\n",
       "        [5.1, 3.8, 1.6, 0.2],\n",
       "        [4.6, 3.2, 1.4, 0.2],\n",
       "        [5.3, 3.7, 1.5, 0.2],\n",
       "        [5. , 3.3, 1.4, 0.2],\n",
       "        [7. , 3.2, 4.7, 1.4],\n",
       "        [6.4, 3.2, 4.5, 1.5],\n",
       "        [6.9, 3.1, 4.9, 1.5],\n",
       "        [5.5, 2.3, 4. , 1.3],\n",
       "        [6.5, 2.8, 4.6, 1.5],\n",
       "        [5.7, 2.8, 4.5, 1.3],\n",
       "        [6.3, 3.3, 4.7, 1.6],\n",
       "        [4.9, 2.4, 3.3, 1. ],\n",
       "        [6.6, 2.9, 4.6, 1.3],\n",
       "        [5.2, 2.7, 3.9, 1.4],\n",
       "        [5. , 2. , 3.5, 1. ],\n",
       "        [5.9, 3. , 4.2, 1.5],\n",
       "        [6. , 2.2, 4. , 1. ],\n",
       "        [6.1, 2.9, 4.7, 1.4],\n",
       "        [5.6, 2.9, 3.6, 1.3],\n",
       "        [6.7, 3.1, 4.4, 1.4],\n",
       "        [5.6, 3. , 4.5, 1.5],\n",
       "        [5.8, 2.7, 4.1, 1. ],\n",
       "        [6.2, 2.2, 4.5, 1.5],\n",
       "        [5.6, 2.5, 3.9, 1.1],\n",
       "        [5.9, 3.2, 4.8, 1.8],\n",
       "        [6.1, 2.8, 4. , 1.3],\n",
       "        [6.3, 2.5, 4.9, 1.5],\n",
       "        [6.1, 2.8, 4.7, 1.2],\n",
       "        [6.4, 2.9, 4.3, 1.3],\n",
       "        [6.6, 3. , 4.4, 1.4],\n",
       "        [6.8, 2.8, 4.8, 1.4],\n",
       "        [6.7, 3. , 5. , 1.7],\n",
       "        [6. , 2.9, 4.5, 1.5],\n",
       "        [5.7, 2.6, 3.5, 1. ],\n",
       "        [5.5, 2.4, 3.8, 1.1],\n",
       "        [5.5, 2.4, 3.7, 1. ],\n",
       "        [5.8, 2.7, 3.9, 1.2],\n",
       "        [6. , 2.7, 5.1, 1.6],\n",
       "        [5.4, 3. , 4.5, 1.5],\n",
       "        [6. , 3.4, 4.5, 1.6],\n",
       "        [6.7, 3.1, 4.7, 1.5],\n",
       "        [6.3, 2.3, 4.4, 1.3],\n",
       "        [5.6, 3. , 4.1, 1.3],\n",
       "        [5.5, 2.5, 4. , 1.3],\n",
       "        [5.5, 2.6, 4.4, 1.2],\n",
       "        [6.1, 3. , 4.6, 1.4],\n",
       "        [5.8, 2.6, 4. , 1.2],\n",
       "        [5. , 2.3, 3.3, 1. ],\n",
       "        [5.6, 2.7, 4.2, 1.3],\n",
       "        [5.7, 3. , 4.2, 1.2],\n",
       "        [5.7, 2.9, 4.2, 1.3],\n",
       "        [6.2, 2.9, 4.3, 1.3],\n",
       "        [5.1, 2.5, 3. , 1.1],\n",
       "        [5.7, 2.8, 4.1, 1.3],\n",
       "        [6.3, 3.3, 6. , 2.5],\n",
       "        [5.8, 2.7, 5.1, 1.9],\n",
       "        [7.1, 3. , 5.9, 2.1],\n",
       "        [6.3, 2.9, 5.6, 1.8],\n",
       "        [6.5, 3. , 5.8, 2.2],\n",
       "        [7.6, 3. , 6.6, 2.1],\n",
       "        [4.9, 2.5, 4.5, 1.7],\n",
       "        [7.3, 2.9, 6.3, 1.8],\n",
       "        [6.7, 2.5, 5.8, 1.8],\n",
       "        [7.2, 3.6, 6.1, 2.5],\n",
       "        [6.5, 3.2, 5.1, 2. ],\n",
       "        [6.4, 2.7, 5.3, 1.9],\n",
       "        [6.8, 3. , 5.5, 2.1],\n",
       "        [5.7, 2.5, 5. , 2. ],\n",
       "        [5.8, 2.8, 5.1, 2.4],\n",
       "        [6.4, 3.2, 5.3, 2.3],\n",
       "        [6.5, 3. , 5.5, 1.8],\n",
       "        [7.7, 3.8, 6.7, 2.2],\n",
       "        [7.7, 2.6, 6.9, 2.3],\n",
       "        [6. , 2.2, 5. , 1.5],\n",
       "        [6.9, 3.2, 5.7, 2.3],\n",
       "        [5.6, 2.8, 4.9, 2. ],\n",
       "        [7.7, 2.8, 6.7, 2. ],\n",
       "        [6.3, 2.7, 4.9, 1.8],\n",
       "        [6.7, 3.3, 5.7, 2.1],\n",
       "        [7.2, 3.2, 6. , 1.8],\n",
       "        [6.2, 2.8, 4.8, 1.8],\n",
       "        [6.1, 3. , 4.9, 1.8],\n",
       "        [6.4, 2.8, 5.6, 2.1],\n",
       "        [7.2, 3. , 5.8, 1.6],\n",
       "        [7.4, 2.8, 6.1, 1.9],\n",
       "        [7.9, 3.8, 6.4, 2. ],\n",
       "        [6.4, 2.8, 5.6, 2.2],\n",
       "        [6.3, 2.8, 5.1, 1.5],\n",
       "        [6.1, 2.6, 5.6, 1.4],\n",
       "        [7.7, 3. , 6.1, 2.3],\n",
       "        [6.3, 3.4, 5.6, 2.4],\n",
       "        [6.4, 3.1, 5.5, 1.8],\n",
       "        [6. , 3. , 4.8, 1.8],\n",
       "        [6.9, 3.1, 5.4, 2.1],\n",
       "        [6.7, 3.1, 5.6, 2.4],\n",
       "        [6.9, 3.1, 5.1, 2.3],\n",
       "        [5.8, 2.7, 5.1, 1.9],\n",
       "        [6.8, 3.2, 5.9, 2.3],\n",
       "        [6.7, 3.3, 5.7, 2.5],\n",
       "        [6.7, 3. , 5.2, 2.3],\n",
       "        [6.3, 2.5, 5. , 1.9],\n",
       "        [6.5, 3. , 5.2, 2. ],\n",
       "        [6.2, 3.4, 5.4, 2.3],\n",
       "        [5.9, 3. , 5.1, 1.8]]),\n",
       " '_tree': <sklearn.neighbors.kd_tree.KDTree at 0x142707c1768>}"
      ]
     },
     "execution_count": 25,
     "metadata": {},
     "output_type": "execute_result"
    }
   ],
   "source": [
    "vars(knn)"
   ]
  },
  {
   "cell_type": "markdown",
   "metadata": {},
   "source": [
    "##### predict"
   ]
  },
  {
   "cell_type": "markdown",
   "metadata": {},
   "source": [
    "`fit`하고 나면 예측할 수 있다.  \n",
    "`predict`에 데이터를 넣으면 target을 예측한다."
   ]
  },
  {
   "cell_type": "code",
   "execution_count": 23,
   "metadata": {},
   "outputs": [
    {
     "data": {
      "text/plain": [
       "array([1])"
      ]
     },
     "execution_count": 23,
     "metadata": {},
     "output_type": "execute_result"
    }
   ],
   "source": [
    "# 예측할 때는 2차원으로 입력\n",
    "knn.predict([[3, 3, 3, 3]])"
   ]
  },
  {
   "cell_type": "code",
   "execution_count": 24,
   "metadata": {},
   "outputs": [
    {
     "data": {
      "text/plain": [
       "'versicolor'"
      ]
     },
     "execution_count": 24,
     "metadata": {},
     "output_type": "execute_result"
    }
   ],
   "source": [
    "# 1 => 모델이 versicolor라고 예측했음\n",
    "data.target_names[1]"
   ]
  },
  {
   "cell_type": "markdown",
   "metadata": {},
   "source": [
    "#### MLPClassifier"
   ]
  },
  {
   "cell_type": "markdown",
   "metadata": {},
   "source": [
    "MLP는 Multi Layer Perceptron의 약자이며, 딥러닝의 근간이 되는 알고리즘이다.  \n"
   ]
  },
  {
   "cell_type": "markdown",
   "metadata": {},
   "source": [
    "##### import"
   ]
  },
  {
   "cell_type": "markdown",
   "metadata": {},
   "source": [
    "`MLPClassifier`는 Classifier 이름이 붙었으므로 classification용 알고리즘이다."
   ]
  },
  {
   "cell_type": "code",
   "execution_count": 27,
   "metadata": {},
   "outputs": [],
   "source": [
    "from sklearn.neural_network import MLPClassifier"
   ]
  },
  {
   "cell_type": "markdown",
   "metadata": {},
   "source": [
    "##### instance"
   ]
  },
  {
   "cell_type": "markdown",
   "metadata": {},
   "source": [
    "클래스는 항상 인스턴스화 후 사용한다."
   ]
  },
  {
   "cell_type": "code",
   "execution_count": 28,
   "metadata": {},
   "outputs": [],
   "source": [
    "mlp = MLPClassifier()"
   ]
  },
  {
   "cell_type": "markdown",
   "metadata": {},
   "source": [
    "##### fit"
   ]
  },
  {
   "cell_type": "markdown",
   "metadata": {},
   "source": [
    "fit하면 예측할 수 있는 능력이 생긴다."
   ]
  },
  {
   "cell_type": "code",
   "execution_count": 29,
   "metadata": {},
   "outputs": [
    {
     "name": "stderr",
     "output_type": "stream",
     "text": [
      "C:\\Users\\JINHYO\\Anaconda3\\lib\\site-packages\\sklearn\\neural_network\\multilayer_perceptron.py:566: ConvergenceWarning: Stochastic Optimizer: Maximum iterations (200) reached and the optimization hasn't converged yet.\n",
      "  % self.max_iter, ConvergenceWarning)\n"
     ]
    },
    {
     "data": {
      "text/plain": [
       "MLPClassifier(activation='relu', alpha=0.0001, batch_size='auto', beta_1=0.9,\n",
       "              beta_2=0.999, early_stopping=False, epsilon=1e-08,\n",
       "              hidden_layer_sizes=(100,), learning_rate='constant',\n",
       "              learning_rate_init=0.001, max_iter=200, momentum=0.9,\n",
       "              n_iter_no_change=10, nesterovs_momentum=True, power_t=0.5,\n",
       "              random_state=None, shuffle=True, solver='adam', tol=0.0001,\n",
       "              validation_fraction=0.1, verbose=False, warm_start=False)"
      ]
     },
     "execution_count": 29,
     "metadata": {},
     "output_type": "execute_result"
    }
   ],
   "source": [
    "mlp.fit(iris.loc[:,:\"petal width (cm)\"], iris[\"target\"]) # 판다스 열 뽑는 다양한 기법 알아야한다."
   ]
  },
  {
   "cell_type": "markdown",
   "metadata": {},
   "source": [
    "##### predict"
   ]
  },
  {
   "cell_type": "markdown",
   "metadata": {},
   "source": [
    "예측결과가 knn과 결과가 다르다.\n",
    "알고리즘에 따라서 성능이 달라진다."
   ]
  },
  {
   "cell_type": "code",
   "execution_count": 30,
   "metadata": {},
   "outputs": [
    {
     "data": {
      "text/plain": [
       "array([2])"
      ]
     },
     "execution_count": 30,
     "metadata": {},
     "output_type": "execute_result"
    }
   ],
   "source": [
    "mlp.predict([[3 , 3, 3, 3]])"
   ]
  },
  {
   "cell_type": "markdown",
   "metadata": {},
   "source": [
    "### Regression"
   ]
  },
  {
   "cell_type": "markdown",
   "metadata": {},
   "source": [
    "Regression은 예측해야할 정답이 연속형 범주인 경우이다.  \n",
    "classification 문제는 유한한 개수 범위 내에서 예측하는 것과 차이가 있다."
   ]
  },
  {
   "cell_type": "markdown",
   "metadata": {},
   "source": [
    "#### 데이터 준비"
   ]
  },
  {
   "cell_type": "code",
   "execution_count": 31,
   "metadata": {},
   "outputs": [],
   "source": [
    "from sklearn.datasets import load_boston"
   ]
  },
  {
   "cell_type": "code",
   "execution_count": 32,
   "metadata": {},
   "outputs": [],
   "source": [
    "data = load_boston()"
   ]
  },
  {
   "cell_type": "markdown",
   "metadata": {},
   "source": [
    "data는 dict 타입처럼 보인다."
   ]
  },
  {
   "cell_type": "code",
   "execution_count": 35,
   "metadata": {
    "scrolled": true
   },
   "outputs": [
    {
     "data": {
      "text/plain": [
       "{'data': array([[6.3200e-03, 1.8000e+01, 2.3100e+00, ..., 1.5300e+01, 3.9690e+02,\n",
       "         4.9800e+00],\n",
       "        [2.7310e-02, 0.0000e+00, 7.0700e+00, ..., 1.7800e+01, 3.9690e+02,\n",
       "         9.1400e+00],\n",
       "        [2.7290e-02, 0.0000e+00, 7.0700e+00, ..., 1.7800e+01, 3.9283e+02,\n",
       "         4.0300e+00],\n",
       "        ...,\n",
       "        [6.0760e-02, 0.0000e+00, 1.1930e+01, ..., 2.1000e+01, 3.9690e+02,\n",
       "         5.6400e+00],\n",
       "        [1.0959e-01, 0.0000e+00, 1.1930e+01, ..., 2.1000e+01, 3.9345e+02,\n",
       "         6.4800e+00],\n",
       "        [4.7410e-02, 0.0000e+00, 1.1930e+01, ..., 2.1000e+01, 3.9690e+02,\n",
       "         7.8800e+00]]),\n",
       " 'target': array([24. , 21.6, 34.7, 33.4, 36.2, 28.7, 22.9, 27.1, 16.5, 18.9, 15. ,\n",
       "        18.9, 21.7, 20.4, 18.2, 19.9, 23.1, 17.5, 20.2, 18.2, 13.6, 19.6,\n",
       "        15.2, 14.5, 15.6, 13.9, 16.6, 14.8, 18.4, 21. , 12.7, 14.5, 13.2,\n",
       "        13.1, 13.5, 18.9, 20. , 21. , 24.7, 30.8, 34.9, 26.6, 25.3, 24.7,\n",
       "        21.2, 19.3, 20. , 16.6, 14.4, 19.4, 19.7, 20.5, 25. , 23.4, 18.9,\n",
       "        35.4, 24.7, 31.6, 23.3, 19.6, 18.7, 16. , 22.2, 25. , 33. , 23.5,\n",
       "        19.4, 22. , 17.4, 20.9, 24.2, 21.7, 22.8, 23.4, 24.1, 21.4, 20. ,\n",
       "        20.8, 21.2, 20.3, 28. , 23.9, 24.8, 22.9, 23.9, 26.6, 22.5, 22.2,\n",
       "        23.6, 28.7, 22.6, 22. , 22.9, 25. , 20.6, 28.4, 21.4, 38.7, 43.8,\n",
       "        33.2, 27.5, 26.5, 18.6, 19.3, 20.1, 19.5, 19.5, 20.4, 19.8, 19.4,\n",
       "        21.7, 22.8, 18.8, 18.7, 18.5, 18.3, 21.2, 19.2, 20.4, 19.3, 22. ,\n",
       "        20.3, 20.5, 17.3, 18.8, 21.4, 15.7, 16.2, 18. , 14.3, 19.2, 19.6,\n",
       "        23. , 18.4, 15.6, 18.1, 17.4, 17.1, 13.3, 17.8, 14. , 14.4, 13.4,\n",
       "        15.6, 11.8, 13.8, 15.6, 14.6, 17.8, 15.4, 21.5, 19.6, 15.3, 19.4,\n",
       "        17. , 15.6, 13.1, 41.3, 24.3, 23.3, 27. , 50. , 50. , 50. , 22.7,\n",
       "        25. , 50. , 23.8, 23.8, 22.3, 17.4, 19.1, 23.1, 23.6, 22.6, 29.4,\n",
       "        23.2, 24.6, 29.9, 37.2, 39.8, 36.2, 37.9, 32.5, 26.4, 29.6, 50. ,\n",
       "        32. , 29.8, 34.9, 37. , 30.5, 36.4, 31.1, 29.1, 50. , 33.3, 30.3,\n",
       "        34.6, 34.9, 32.9, 24.1, 42.3, 48.5, 50. , 22.6, 24.4, 22.5, 24.4,\n",
       "        20. , 21.7, 19.3, 22.4, 28.1, 23.7, 25. , 23.3, 28.7, 21.5, 23. ,\n",
       "        26.7, 21.7, 27.5, 30.1, 44.8, 50. , 37.6, 31.6, 46.7, 31.5, 24.3,\n",
       "        31.7, 41.7, 48.3, 29. , 24. , 25.1, 31.5, 23.7, 23.3, 22. , 20.1,\n",
       "        22.2, 23.7, 17.6, 18.5, 24.3, 20.5, 24.5, 26.2, 24.4, 24.8, 29.6,\n",
       "        42.8, 21.9, 20.9, 44. , 50. , 36. , 30.1, 33.8, 43.1, 48.8, 31. ,\n",
       "        36.5, 22.8, 30.7, 50. , 43.5, 20.7, 21.1, 25.2, 24.4, 35.2, 32.4,\n",
       "        32. , 33.2, 33.1, 29.1, 35.1, 45.4, 35.4, 46. , 50. , 32.2, 22. ,\n",
       "        20.1, 23.2, 22.3, 24.8, 28.5, 37.3, 27.9, 23.9, 21.7, 28.6, 27.1,\n",
       "        20.3, 22.5, 29. , 24.8, 22. , 26.4, 33.1, 36.1, 28.4, 33.4, 28.2,\n",
       "        22.8, 20.3, 16.1, 22.1, 19.4, 21.6, 23.8, 16.2, 17.8, 19.8, 23.1,\n",
       "        21. , 23.8, 23.1, 20.4, 18.5, 25. , 24.6, 23. , 22.2, 19.3, 22.6,\n",
       "        19.8, 17.1, 19.4, 22.2, 20.7, 21.1, 19.5, 18.5, 20.6, 19. , 18.7,\n",
       "        32.7, 16.5, 23.9, 31.2, 17.5, 17.2, 23.1, 24.5, 26.6, 22.9, 24.1,\n",
       "        18.6, 30.1, 18.2, 20.6, 17.8, 21.7, 22.7, 22.6, 25. , 19.9, 20.8,\n",
       "        16.8, 21.9, 27.5, 21.9, 23.1, 50. , 50. , 50. , 50. , 50. , 13.8,\n",
       "        13.8, 15. , 13.9, 13.3, 13.1, 10.2, 10.4, 10.9, 11.3, 12.3,  8.8,\n",
       "         7.2, 10.5,  7.4, 10.2, 11.5, 15.1, 23.2,  9.7, 13.8, 12.7, 13.1,\n",
       "        12.5,  8.5,  5. ,  6.3,  5.6,  7.2, 12.1,  8.3,  8.5,  5. , 11.9,\n",
       "        27.9, 17.2, 27.5, 15. , 17.2, 17.9, 16.3,  7. ,  7.2,  7.5, 10.4,\n",
       "         8.8,  8.4, 16.7, 14.2, 20.8, 13.4, 11.7,  8.3, 10.2, 10.9, 11. ,\n",
       "         9.5, 14.5, 14.1, 16.1, 14.3, 11.7, 13.4,  9.6,  8.7,  8.4, 12.8,\n",
       "        10.5, 17.1, 18.4, 15.4, 10.8, 11.8, 14.9, 12.6, 14.1, 13. , 13.4,\n",
       "        15.2, 16.1, 17.8, 14.9, 14.1, 12.7, 13.5, 14.9, 20. , 16.4, 17.7,\n",
       "        19.5, 20.2, 21.4, 19.9, 19. , 19.1, 19.1, 20.1, 19.9, 19.6, 23.2,\n",
       "        29.8, 13.8, 13.3, 16.7, 12. , 14.6, 21.4, 23. , 23.7, 25. , 21.8,\n",
       "        20.6, 21.2, 19.1, 20.6, 15.2,  7. ,  8.1, 13.6, 20.1, 21.8, 24.5,\n",
       "        23.1, 19.7, 18.3, 21.2, 17.5, 16.8, 22.4, 20.6, 23.9, 22. , 11.9]),\n",
       " 'feature_names': array(['CRIM', 'ZN', 'INDUS', 'CHAS', 'NOX', 'RM', 'AGE', 'DIS', 'RAD',\n",
       "        'TAX', 'PTRATIO', 'B', 'LSTAT'], dtype='<U7'),\n",
       " 'DESCR': \".. _boston_dataset:\\n\\nBoston house prices dataset\\n---------------------------\\n\\n**Data Set Characteristics:**  \\n\\n    :Number of Instances: 506 \\n\\n    :Number of Attributes: 13 numeric/categorical predictive. Median Value (attribute 14) is usually the target.\\n\\n    :Attribute Information (in order):\\n        - CRIM     per capita crime rate by town\\n        - ZN       proportion of residential land zoned for lots over 25,000 sq.ft.\\n        - INDUS    proportion of non-retail business acres per town\\n        - CHAS     Charles River dummy variable (= 1 if tract bounds river; 0 otherwise)\\n        - NOX      nitric oxides concentration (parts per 10 million)\\n        - RM       average number of rooms per dwelling\\n        - AGE      proportion of owner-occupied units built prior to 1940\\n        - DIS      weighted distances to five Boston employment centres\\n        - RAD      index of accessibility to radial highways\\n        - TAX      full-value property-tax rate per $10,000\\n        - PTRATIO  pupil-teacher ratio by town\\n        - B        1000(Bk - 0.63)^2 where Bk is the proportion of blacks by town\\n        - LSTAT    % lower status of the population\\n        - MEDV     Median value of owner-occupied homes in $1000's\\n\\n    :Missing Attribute Values: None\\n\\n    :Creator: Harrison, D. and Rubinfeld, D.L.\\n\\nThis is a copy of UCI ML housing dataset.\\nhttps://archive.ics.uci.edu/ml/machine-learning-databases/housing/\\n\\n\\nThis dataset was taken from the StatLib library which is maintained at Carnegie Mellon University.\\n\\nThe Boston house-price data of Harrison, D. and Rubinfeld, D.L. 'Hedonic\\nprices and the demand for clean air', J. Environ. Economics & Management,\\nvol.5, 81-102, 1978.   Used in Belsley, Kuh & Welsch, 'Regression diagnostics\\n...', Wiley, 1980.   N.B. Various transformations are used in the table on\\npages 244-261 of the latter.\\n\\nThe Boston house-price data has been used in many machine learning papers that address regression\\nproblems.   \\n     \\n.. topic:: References\\n\\n   - Belsley, Kuh & Welsch, 'Regression diagnostics: Identifying Influential Data and Sources of Collinearity', Wiley, 1980. 244-261.\\n   - Quinlan,R. (1993). Combining Instance-Based and Model-Based Learning. In Proceedings on the Tenth International Conference of Machine Learning, 236-243, University of Massachusetts, Amherst. Morgan Kaufmann.\\n\",\n",
       " 'filename': 'C:\\\\Users\\\\JINHYO\\\\Anaconda3\\\\lib\\\\site-packages\\\\sklearn\\\\datasets\\\\data\\\\boston_house_prices.csv'}"
      ]
     },
     "execution_count": 35,
     "metadata": {},
     "output_type": "execute_result"
    }
   ],
   "source": [
    "data"
   ]
  },
  {
   "cell_type": "markdown",
   "metadata": {},
   "source": [
    "dict는 key로 데이터를 꺼낼 수 있다."
   ]
  },
  {
   "cell_type": "code",
   "execution_count": 38,
   "metadata": {},
   "outputs": [
    {
     "data": {
      "text/plain": [
       "array(['CRIM', 'ZN', 'INDUS', 'CHAS', 'NOX', 'RM', 'AGE', 'DIS', 'RAD',\n",
       "       'TAX', 'PTRATIO', 'B', 'LSTAT'], dtype='<U7')"
      ]
     },
     "execution_count": 38,
     "metadata": {},
     "output_type": "execute_result"
    }
   ],
   "source": [
    "data[\"feature_names\"]"
   ]
  },
  {
   "cell_type": "markdown",
   "metadata": {},
   "source": [
    "dir로 나온 것은 ( . )으로 접근할 수 있다. "
   ]
  },
  {
   "cell_type": "code",
   "execution_count": 36,
   "metadata": {},
   "outputs": [
    {
     "data": {
      "text/plain": [
       "['DESCR', 'data', 'feature_names', 'filename', 'target']"
      ]
     },
     "execution_count": 36,
     "metadata": {},
     "output_type": "execute_result"
    }
   ],
   "source": [
    "dir(data) "
   ]
  },
  {
   "cell_type": "markdown",
   "metadata": {},
   "source": [
    "data는 dict를 상속해서 2가지 방식으로 값을 가져올 수 있게 만들었다."
   ]
  },
  {
   "cell_type": "code",
   "execution_count": 39,
   "metadata": {},
   "outputs": [
    {
     "data": {
      "text/plain": [
       "array(['CRIM', 'ZN', 'INDUS', 'CHAS', 'NOX', 'RM', 'AGE', 'DIS', 'RAD',\n",
       "       'TAX', 'PTRATIO', 'B', 'LSTAT'], dtype='<U7')"
      ]
     },
     "execution_count": 39,
     "metadata": {},
     "output_type": "execute_result"
    }
   ],
   "source": [
    "data.feature_names "
   ]
  },
  {
   "cell_type": "markdown",
   "metadata": {},
   "source": [
    "`DESCR`은 데이터의 설명(description)이 들어있다.  \n",
    "    - 데이터의 배경, 각 feature의 의미, 데이터 수집 방법 등\n",
    "어떤 문제든 데이터의 설명을 읽는 것으로부터 시작해야한다.  \n",
    "    - 예측 정확도를 높이기 위해서는 데이터를 잘 이해해야한다.  \n",
    "    - 데이터과학 경진대회 kaggle에도 항상 데이터 설명이 함께 제공된다."
   ]
  },
  {
   "cell_type": "code",
   "execution_count": 41,
   "metadata": {
    "scrolled": true
   },
   "outputs": [
    {
     "name": "stdout",
     "output_type": "stream",
     "text": [
      ".. _boston_dataset:\n",
      "\n",
      "Boston house prices dataset\n",
      "---------------------------\n",
      "\n",
      "**Data Set Characteristics:**  \n",
      "\n",
      "    :Number of Instances: 506 \n",
      "\n",
      "    :Number of Attributes: 13 numeric/categorical predictive. Median Value (attribute 14) is usually the target.\n",
      "\n",
      "    :Attribute Information (in order):\n",
      "        - CRIM     per capita crime rate by town\n",
      "        - ZN       proportion of residential land zoned for lots over 25,000 sq.ft.\n",
      "        - INDUS    proportion of non-retail business acres per town\n",
      "        - CHAS     Charles River dummy variable (= 1 if tract bounds river; 0 otherwise)\n",
      "        - NOX      nitric oxides concentration (parts per 10 million)\n",
      "        - RM       average number of rooms per dwelling\n",
      "        - AGE      proportion of owner-occupied units built prior to 1940\n",
      "        - DIS      weighted distances to five Boston employment centres\n",
      "        - RAD      index of accessibility to radial highways\n",
      "        - TAX      full-value property-tax rate per $10,000\n",
      "        - PTRATIO  pupil-teacher ratio by town\n",
      "        - B        1000(Bk - 0.63)^2 where Bk is the proportion of blacks by town\n",
      "        - LSTAT    % lower status of the population\n",
      "        - MEDV     Median value of owner-occupied homes in $1000's\n",
      "\n",
      "    :Missing Attribute Values: None\n",
      "\n",
      "    :Creator: Harrison, D. and Rubinfeld, D.L.\n",
      "\n",
      "This is a copy of UCI ML housing dataset.\n",
      "https://archive.ics.uci.edu/ml/machine-learning-databases/housing/\n",
      "\n",
      "\n",
      "This dataset was taken from the StatLib library which is maintained at Carnegie Mellon University.\n",
      "\n",
      "The Boston house-price data of Harrison, D. and Rubinfeld, D.L. 'Hedonic\n",
      "prices and the demand for clean air', J. Environ. Economics & Management,\n",
      "vol.5, 81-102, 1978.   Used in Belsley, Kuh & Welsch, 'Regression diagnostics\n",
      "...', Wiley, 1980.   N.B. Various transformations are used in the table on\n",
      "pages 244-261 of the latter.\n",
      "\n",
      "The Boston house-price data has been used in many machine learning papers that address regression\n",
      "problems.   \n",
      "     \n",
      ".. topic:: References\n",
      "\n",
      "   - Belsley, Kuh & Welsch, 'Regression diagnostics: Identifying Influential Data and Sources of Collinearity', Wiley, 1980. 244-261.\n",
      "   - Quinlan,R. (1993). Combining Instance-Based and Model-Based Learning. In Proceedings on the Tenth International Conference of Machine Learning, 236-243, University of Massachusetts, Amherst. Morgan Kaufmann.\n",
      "\n"
     ]
    }
   ],
   "source": [
    "print(data.DESCR)"
   ]
  },
  {
   "cell_type": "code",
   "execution_count": 42,
   "metadata": {},
   "outputs": [],
   "source": [
    "data_ = pd.DataFrame(data[\"data\"], columns=data.feature_names)"
   ]
  },
  {
   "cell_type": "code",
   "execution_count": 43,
   "metadata": {},
   "outputs": [
    {
     "data": {
      "text/html": [
       "<div>\n",
       "<style scoped>\n",
       "    .dataframe tbody tr th:only-of-type {\n",
       "        vertical-align: middle;\n",
       "    }\n",
       "\n",
       "    .dataframe tbody tr th {\n",
       "        vertical-align: top;\n",
       "    }\n",
       "\n",
       "    .dataframe thead th {\n",
       "        text-align: right;\n",
       "    }\n",
       "</style>\n",
       "<table border=\"1\" class=\"dataframe\">\n",
       "  <thead>\n",
       "    <tr style=\"text-align: right;\">\n",
       "      <th></th>\n",
       "      <th>CRIM</th>\n",
       "      <th>ZN</th>\n",
       "      <th>INDUS</th>\n",
       "      <th>CHAS</th>\n",
       "      <th>NOX</th>\n",
       "      <th>RM</th>\n",
       "      <th>AGE</th>\n",
       "      <th>DIS</th>\n",
       "      <th>RAD</th>\n",
       "      <th>TAX</th>\n",
       "      <th>PTRATIO</th>\n",
       "      <th>B</th>\n",
       "      <th>LSTAT</th>\n",
       "    </tr>\n",
       "  </thead>\n",
       "  <tbody>\n",
       "    <tr>\n",
       "      <th>0</th>\n",
       "      <td>0.00632</td>\n",
       "      <td>18.0</td>\n",
       "      <td>2.31</td>\n",
       "      <td>0.0</td>\n",
       "      <td>0.538</td>\n",
       "      <td>6.575</td>\n",
       "      <td>65.2</td>\n",
       "      <td>4.0900</td>\n",
       "      <td>1.0</td>\n",
       "      <td>296.0</td>\n",
       "      <td>15.3</td>\n",
       "      <td>396.90</td>\n",
       "      <td>4.98</td>\n",
       "    </tr>\n",
       "    <tr>\n",
       "      <th>1</th>\n",
       "      <td>0.02731</td>\n",
       "      <td>0.0</td>\n",
       "      <td>7.07</td>\n",
       "      <td>0.0</td>\n",
       "      <td>0.469</td>\n",
       "      <td>6.421</td>\n",
       "      <td>78.9</td>\n",
       "      <td>4.9671</td>\n",
       "      <td>2.0</td>\n",
       "      <td>242.0</td>\n",
       "      <td>17.8</td>\n",
       "      <td>396.90</td>\n",
       "      <td>9.14</td>\n",
       "    </tr>\n",
       "    <tr>\n",
       "      <th>2</th>\n",
       "      <td>0.02729</td>\n",
       "      <td>0.0</td>\n",
       "      <td>7.07</td>\n",
       "      <td>0.0</td>\n",
       "      <td>0.469</td>\n",
       "      <td>7.185</td>\n",
       "      <td>61.1</td>\n",
       "      <td>4.9671</td>\n",
       "      <td>2.0</td>\n",
       "      <td>242.0</td>\n",
       "      <td>17.8</td>\n",
       "      <td>392.83</td>\n",
       "      <td>4.03</td>\n",
       "    </tr>\n",
       "    <tr>\n",
       "      <th>3</th>\n",
       "      <td>0.03237</td>\n",
       "      <td>0.0</td>\n",
       "      <td>2.18</td>\n",
       "      <td>0.0</td>\n",
       "      <td>0.458</td>\n",
       "      <td>6.998</td>\n",
       "      <td>45.8</td>\n",
       "      <td>6.0622</td>\n",
       "      <td>3.0</td>\n",
       "      <td>222.0</td>\n",
       "      <td>18.7</td>\n",
       "      <td>394.63</td>\n",
       "      <td>2.94</td>\n",
       "    </tr>\n",
       "    <tr>\n",
       "      <th>4</th>\n",
       "      <td>0.06905</td>\n",
       "      <td>0.0</td>\n",
       "      <td>2.18</td>\n",
       "      <td>0.0</td>\n",
       "      <td>0.458</td>\n",
       "      <td>7.147</td>\n",
       "      <td>54.2</td>\n",
       "      <td>6.0622</td>\n",
       "      <td>3.0</td>\n",
       "      <td>222.0</td>\n",
       "      <td>18.7</td>\n",
       "      <td>396.90</td>\n",
       "      <td>5.33</td>\n",
       "    </tr>\n",
       "    <tr>\n",
       "      <th>...</th>\n",
       "      <td>...</td>\n",
       "      <td>...</td>\n",
       "      <td>...</td>\n",
       "      <td>...</td>\n",
       "      <td>...</td>\n",
       "      <td>...</td>\n",
       "      <td>...</td>\n",
       "      <td>...</td>\n",
       "      <td>...</td>\n",
       "      <td>...</td>\n",
       "      <td>...</td>\n",
       "      <td>...</td>\n",
       "      <td>...</td>\n",
       "    </tr>\n",
       "    <tr>\n",
       "      <th>501</th>\n",
       "      <td>0.06263</td>\n",
       "      <td>0.0</td>\n",
       "      <td>11.93</td>\n",
       "      <td>0.0</td>\n",
       "      <td>0.573</td>\n",
       "      <td>6.593</td>\n",
       "      <td>69.1</td>\n",
       "      <td>2.4786</td>\n",
       "      <td>1.0</td>\n",
       "      <td>273.0</td>\n",
       "      <td>21.0</td>\n",
       "      <td>391.99</td>\n",
       "      <td>9.67</td>\n",
       "    </tr>\n",
       "    <tr>\n",
       "      <th>502</th>\n",
       "      <td>0.04527</td>\n",
       "      <td>0.0</td>\n",
       "      <td>11.93</td>\n",
       "      <td>0.0</td>\n",
       "      <td>0.573</td>\n",
       "      <td>6.120</td>\n",
       "      <td>76.7</td>\n",
       "      <td>2.2875</td>\n",
       "      <td>1.0</td>\n",
       "      <td>273.0</td>\n",
       "      <td>21.0</td>\n",
       "      <td>396.90</td>\n",
       "      <td>9.08</td>\n",
       "    </tr>\n",
       "    <tr>\n",
       "      <th>503</th>\n",
       "      <td>0.06076</td>\n",
       "      <td>0.0</td>\n",
       "      <td>11.93</td>\n",
       "      <td>0.0</td>\n",
       "      <td>0.573</td>\n",
       "      <td>6.976</td>\n",
       "      <td>91.0</td>\n",
       "      <td>2.1675</td>\n",
       "      <td>1.0</td>\n",
       "      <td>273.0</td>\n",
       "      <td>21.0</td>\n",
       "      <td>396.90</td>\n",
       "      <td>5.64</td>\n",
       "    </tr>\n",
       "    <tr>\n",
       "      <th>504</th>\n",
       "      <td>0.10959</td>\n",
       "      <td>0.0</td>\n",
       "      <td>11.93</td>\n",
       "      <td>0.0</td>\n",
       "      <td>0.573</td>\n",
       "      <td>6.794</td>\n",
       "      <td>89.3</td>\n",
       "      <td>2.3889</td>\n",
       "      <td>1.0</td>\n",
       "      <td>273.0</td>\n",
       "      <td>21.0</td>\n",
       "      <td>393.45</td>\n",
       "      <td>6.48</td>\n",
       "    </tr>\n",
       "    <tr>\n",
       "      <th>505</th>\n",
       "      <td>0.04741</td>\n",
       "      <td>0.0</td>\n",
       "      <td>11.93</td>\n",
       "      <td>0.0</td>\n",
       "      <td>0.573</td>\n",
       "      <td>6.030</td>\n",
       "      <td>80.8</td>\n",
       "      <td>2.5050</td>\n",
       "      <td>1.0</td>\n",
       "      <td>273.0</td>\n",
       "      <td>21.0</td>\n",
       "      <td>396.90</td>\n",
       "      <td>7.88</td>\n",
       "    </tr>\n",
       "  </tbody>\n",
       "</table>\n",
       "<p>506 rows × 13 columns</p>\n",
       "</div>"
      ],
      "text/plain": [
       "        CRIM    ZN  INDUS  CHAS    NOX     RM   AGE     DIS  RAD    TAX  \\\n",
       "0    0.00632  18.0   2.31   0.0  0.538  6.575  65.2  4.0900  1.0  296.0   \n",
       "1    0.02731   0.0   7.07   0.0  0.469  6.421  78.9  4.9671  2.0  242.0   \n",
       "2    0.02729   0.0   7.07   0.0  0.469  7.185  61.1  4.9671  2.0  242.0   \n",
       "3    0.03237   0.0   2.18   0.0  0.458  6.998  45.8  6.0622  3.0  222.0   \n",
       "4    0.06905   0.0   2.18   0.0  0.458  7.147  54.2  6.0622  3.0  222.0   \n",
       "..       ...   ...    ...   ...    ...    ...   ...     ...  ...    ...   \n",
       "501  0.06263   0.0  11.93   0.0  0.573  6.593  69.1  2.4786  1.0  273.0   \n",
       "502  0.04527   0.0  11.93   0.0  0.573  6.120  76.7  2.2875  1.0  273.0   \n",
       "503  0.06076   0.0  11.93   0.0  0.573  6.976  91.0  2.1675  1.0  273.0   \n",
       "504  0.10959   0.0  11.93   0.0  0.573  6.794  89.3  2.3889  1.0  273.0   \n",
       "505  0.04741   0.0  11.93   0.0  0.573  6.030  80.8  2.5050  1.0  273.0   \n",
       "\n",
       "     PTRATIO       B  LSTAT  \n",
       "0       15.3  396.90   4.98  \n",
       "1       17.8  396.90   9.14  \n",
       "2       17.8  392.83   4.03  \n",
       "3       18.7  394.63   2.94  \n",
       "4       18.7  396.90   5.33  \n",
       "..       ...     ...    ...  \n",
       "501     21.0  391.99   9.67  \n",
       "502     21.0  396.90   9.08  \n",
       "503     21.0  396.90   5.64  \n",
       "504     21.0  393.45   6.48  \n",
       "505     21.0  396.90   7.88  \n",
       "\n",
       "[506 rows x 13 columns]"
      ]
     },
     "execution_count": 43,
     "metadata": {},
     "output_type": "execute_result"
    }
   ],
   "source": [
    "data_"
   ]
  },
  {
   "cell_type": "markdown",
   "metadata": {},
   "source": [
    "관례상 이름을 target이라고 한다. 일부 책에서는 class라고도 많이 한다.  \n",
    "pandas 열 이름을 정할 때는 항상 주의해야한다.\n",
    "    - 이미 pandas에 있는 메소드명과 겹치면 attribute 방식으로 열을 불러올 수 없다. (.으로 접근)\n",
    "    - class라는 이름은 python의 class와 헷갈릴 수 있으니 사용할 때 주의"
   ]
  },
  {
   "cell_type": "code",
   "execution_count": 44,
   "metadata": {},
   "outputs": [],
   "source": [
    "data_t = pd.DataFrame(data.target, columns=[\"target\"]) "
   ]
  },
  {
   "cell_type": "markdown",
   "metadata": {},
   "source": [
    "##### 분석용 데이터 준비\n",
    "- 데이터 병합 (concat, append, join, merge)\n",
    "- Tidy Data (데이터 상태에 따라)"
   ]
  },
  {
   "cell_type": "code",
   "execution_count": 45,
   "metadata": {},
   "outputs": [],
   "source": [
    "boston = pd.concat([data_, data_t], axis=1)"
   ]
  },
  {
   "cell_type": "markdown",
   "metadata": {},
   "source": [
    "데이터를 보고 어떤 문제인지 파악해야한다.  \n",
    "예측한다면 Classification(분류)? Regression(회귀)?  "
   ]
  },
  {
   "cell_type": "markdown",
   "metadata": {},
   "source": [
    "#### KNeighborsRegressor"
   ]
  },
  {
   "cell_type": "markdown",
   "metadata": {},
   "source": [
    "문제를 파악한 다음에는 알맞은 알고리즘을 선택한다.\n",
    "scikit-learn에는 알고리즘 이름에 Classifier, Regressor라고 붙어 있다."
   ]
  },
  {
   "cell_type": "markdown",
   "metadata": {},
   "source": [
    "##### import"
   ]
  },
  {
   "cell_type": "code",
   "execution_count": 46,
   "metadata": {},
   "outputs": [],
   "source": [
    "from sklearn.neighbors import KNeighborsRegressor"
   ]
  },
  {
   "cell_type": "markdown",
   "metadata": {},
   "source": [
    "##### instance"
   ]
  },
  {
   "cell_type": "markdown",
   "metadata": {},
   "source": [
    "인스턴스화할때는 하이퍼파라미터를 설정한다.  \n",
    "default가 성능이 좋은게 아님을 명심해야한다."
   ]
  },
  {
   "cell_type": "code",
   "execution_count": 47,
   "metadata": {},
   "outputs": [],
   "source": [
    "knn = KNeighborsRegressor() "
   ]
  },
  {
   "cell_type": "markdown",
   "metadata": {},
   "source": [
    "알고리즘별로 `vars`의 내용물(하이퍼 파라미터)이 다르다.  \n",
    "하이퍼파라미터를 바꾸면 모델의 성능이 바뀐다."
   ]
  },
  {
   "cell_type": "code",
   "execution_count": 48,
   "metadata": {},
   "outputs": [
    {
     "data": {
      "text/plain": [
       "{'n_neighbors': 5,\n",
       " 'radius': None,\n",
       " 'algorithm': 'auto',\n",
       " 'leaf_size': 30,\n",
       " 'metric': 'minkowski',\n",
       " 'metric_params': None,\n",
       " 'p': 2,\n",
       " 'n_jobs': None,\n",
       " 'weights': 'uniform'}"
      ]
     },
     "execution_count": 48,
     "metadata": {},
     "output_type": "execute_result"
    }
   ],
   "source": [
    "vars(knn) "
   ]
  },
  {
   "cell_type": "markdown",
   "metadata": {},
   "source": [
    "모델의 하이퍼 파라미터를 보는 방법은 `get_params`메도스도 있다."
   ]
  },
  {
   "cell_type": "code",
   "execution_count": 49,
   "metadata": {},
   "outputs": [
    {
     "data": {
      "text/plain": [
       "{'algorithm': 'auto',\n",
       " 'leaf_size': 30,\n",
       " 'metric': 'minkowski',\n",
       " 'metric_params': None,\n",
       " 'n_jobs': None,\n",
       " 'n_neighbors': 5,\n",
       " 'p': 2,\n",
       " 'weights': 'uniform'}"
      ]
     },
     "execution_count": 49,
     "metadata": {},
     "output_type": "execute_result"
    }
   ],
   "source": [
    "knn.get_params() # hyper-parameter : 학습할 수 없어서, 사람이 정해줘야 하는 파라미터"
   ]
  },
  {
   "cell_type": "markdown",
   "metadata": {},
   "source": [
    "vars와 get_params는 거의 비슷하다."
   ]
  },
  {
   "cell_type": "markdown",
   "metadata": {},
   "source": [
    "##### fit"
   ]
  },
  {
   "cell_type": "markdown",
   "metadata": {},
   "source": [
    "pandas에서 열을 뽑는 다양한 기법을 활용해서 알맞은 모양(shape)으로 데이터를 입력한다."
   ]
  },
  {
   "cell_type": "code",
   "execution_count": 50,
   "metadata": {},
   "outputs": [
    {
     "data": {
      "text/plain": [
       "KNeighborsRegressor(algorithm='auto', leaf_size=30, metric='minkowski',\n",
       "                    metric_params=None, n_jobs=None, n_neighbors=5, p=2,\n",
       "                    weights='uniform')"
      ]
     },
     "execution_count": 50,
     "metadata": {},
     "output_type": "execute_result"
    }
   ],
   "source": [
    "# knn.fit(boston.iloc[:,:-1], boston.target)\n",
    "# knn.fit(boston[boston.columns[:-1]], boston.loc[\"target\"])\n",
    "knn.fit(boston.iloc[:,:-1], boston[[\"target\"]])"
   ]
  },
  {
   "cell_type": "markdown",
   "metadata": {},
   "source": [
    "##### predict"
   ]
  },
  {
   "cell_type": "markdown",
   "metadata": {},
   "source": [
    "`predict`는 학습했던 데이터와 같은 모양으로 데이터를 받는다.  \n",
    "2차원으로 데이터를 학습했으므로, predict할 때도 2차원으로 모양을 맞춰줘야한다."
   ]
  },
  {
   "cell_type": "code",
   "execution_count": null,
   "metadata": {},
   "outputs": [],
   "source": [
    "# Error\n",
    "knn.predict(boston.loc[1][:-1])"
   ]
  },
  {
   "cell_type": "code",
   "execution_count": 53,
   "metadata": {},
   "outputs": [
    {
     "data": {
      "text/plain": [
       "CRIM         0.02731\n",
       "ZN           0.00000\n",
       "INDUS        7.07000\n",
       "CHAS         0.00000\n",
       "NOX          0.46900\n",
       "RM           6.42100\n",
       "AGE         78.90000\n",
       "DIS          4.96710\n",
       "RAD          2.00000\n",
       "TAX        242.00000\n",
       "PTRATIO     17.80000\n",
       "B          396.90000\n",
       "LSTAT        9.14000\n",
       "Name: 1, dtype: float64"
      ]
     },
     "execution_count": 53,
     "metadata": {},
     "output_type": "execute_result"
    }
   ],
   "source": [
    "# Series는 벡터와 같음 (1차원)\n",
    "boston.loc[1][:-1]"
   ]
  },
  {
   "cell_type": "markdown",
   "metadata": {},
   "source": [
    "모양이 맞으므로 아래 코드는 실행된다."
   ]
  },
  {
   "cell_type": "code",
   "execution_count": 62,
   "metadata": {},
   "outputs": [
    {
     "data": {
      "text/plain": [
       "array([22.9])"
      ]
     },
     "execution_count": 62,
     "metadata": {},
     "output_type": "execute_result"
    }
   ],
   "source": [
    "# 대문자 X : 행렬 (2차원)\n",
    "knn.predict([boston.loc[1][:-1]])"
   ]
  },
  {
   "cell_type": "markdown",
   "metadata": {},
   "source": [
    "numpy 데이터를 넣을 때에도 shape을 맞춰줘야한다."
   ]
  },
  {
   "cell_type": "code",
   "execution_count": 59,
   "metadata": {},
   "outputs": [],
   "source": [
    "a = boston.loc[1][:-1].values"
   ]
  },
  {
   "cell_type": "code",
   "execution_count": null,
   "metadata": {},
   "outputs": [],
   "source": [
    "# Error\n",
    "knn.predict(a)"
   ]
  },
  {
   "cell_type": "code",
   "execution_count": 61,
   "metadata": {},
   "outputs": [
    {
     "data": {
      "text/plain": [
       "array([22.9])"
      ]
     },
     "execution_count": 61,
     "metadata": {},
     "output_type": "execute_result"
    }
   ],
   "source": [
    "knn.predict(a.reshape(1,-1))"
   ]
  },
  {
   "cell_type": "markdown",
   "metadata": {},
   "source": [
    "예측한 데이터의 실제 답은 21.6이다."
   ]
  },
  {
   "cell_type": "code",
   "execution_count": 64,
   "metadata": {},
   "outputs": [
    {
     "data": {
      "text/plain": [
       "CRIM         0.02731\n",
       "ZN           0.00000\n",
       "INDUS        7.07000\n",
       "CHAS         0.00000\n",
       "NOX          0.46900\n",
       "RM           6.42100\n",
       "AGE         78.90000\n",
       "DIS          4.96710\n",
       "RAD          2.00000\n",
       "TAX        242.00000\n",
       "PTRATIO     17.80000\n",
       "B          396.90000\n",
       "LSTAT        9.14000\n",
       "target      21.60000\n",
       "Name: 1, dtype: float64"
      ]
     },
     "execution_count": 64,
     "metadata": {},
     "output_type": "execute_result"
    }
   ],
   "source": [
    "boston.loc[1]"
   ]
  },
  {
   "cell_type": "markdown",
   "metadata": {},
   "source": [
    "## folium"
   ]
  },
  {
   "cell_type": "markdown",
   "metadata": {},
   "source": [
    "### 단계구분도 (Choropleth)"
   ]
  },
  {
   "cell_type": "markdown",
   "metadata": {},
   "source": [
    "실습에 사용된 Geo Data는 LMS 수업게시판 3월 12일에 있습니다."
   ]
  },
  {
   "cell_type": "code",
   "execution_count": 65,
   "metadata": {},
   "outputs": [],
   "source": [
    "import folium"
   ]
  },
  {
   "cell_type": "code",
   "execution_count": 140,
   "metadata": {},
   "outputs": [],
   "source": [
    "# 상용데이터가 더 정확함. \n",
    "# 수작업으로 만들어진 무료 데이터\n",
    "seoul_geo_json = open('Geo Data/asset/seoul_municipalities_geo_simple.json',encoding='utf-8')\n",
    "geo_data = json.load(seoul_geo_json)"
   ]
  },
  {
   "cell_type": "markdown",
   "metadata": {},
   "source": [
    "`Choropleth`는 단계구분도를 만드는 함수이다.  \n",
    "geo_data 만으로는 단계구분도를 만들지 못한다."
   ]
  },
  {
   "cell_type": "code",
   "execution_count": 143,
   "metadata": {},
   "outputs": [],
   "source": [
    "m100 = folium.Map([37.5665, 126.9780])"
   ]
  },
  {
   "cell_type": "code",
   "execution_count": 144,
   "metadata": {},
   "outputs": [
    {
     "data": {
      "text/plain": [
       "<folium.features.Choropleth at 0x1427d599550>"
      ]
     },
     "execution_count": 144,
     "metadata": {},
     "output_type": "execute_result"
    }
   ],
   "source": [
    "folium.Choropleth(geo_data).add_to(m100)"
   ]
  },
  {
   "cell_type": "code",
   "execution_count": 73,
   "metadata": {},
   "outputs": [
    {
     "data": {
      "text/html": [
       "<div style=\"width:100%;\"><div style=\"position:relative;width:100%;height:0;padding-bottom:60%;\"><iframe src=\"data:text/html;charset=utf-8;base64,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\" style=\"position:absolute;width:100%;height:100%;left:0;top:0;border:none !important;\" allowfullscreen webkitallowfullscreen mozallowfullscreen></iframe></div></div>"
      ],
      "text/plain": [
       "<folium.folium.Map at 0x14275b2b780>"
      ]
     },
     "execution_count": 73,
     "metadata": {},
     "output_type": "execute_result"
    }
   ],
   "source": [
    "m100 "
   ]
  },
  {
   "cell_type": "markdown",
   "metadata": {},
   "source": [
    "`Choropleth`는 Pandas 데이터와 연동한다.  \n",
    "실습용 데이터를 pandas로 불러온다. "
   ]
  },
  {
   "cell_type": "code",
   "execution_count": 75,
   "metadata": {},
   "outputs": [],
   "source": [
    "sd = pd.read_csv('Geo Data/asset/seoul_geo_df.csv') # 가짜 데이터"
   ]
  },
  {
   "cell_type": "code",
   "execution_count": 77,
   "metadata": {},
   "outputs": [
    {
     "data": {
      "text/html": [
       "<div>\n",
       "<style scoped>\n",
       "    .dataframe tbody tr th:only-of-type {\n",
       "        vertical-align: middle;\n",
       "    }\n",
       "\n",
       "    .dataframe tbody tr th {\n",
       "        vertical-align: top;\n",
       "    }\n",
       "\n",
       "    .dataframe thead th {\n",
       "        text-align: right;\n",
       "    }\n",
       "</style>\n",
       "<table border=\"1\" class=\"dataframe\">\n",
       "  <thead>\n",
       "    <tr style=\"text-align: right;\">\n",
       "      <th></th>\n",
       "      <th>Unnamed: 0</th>\n",
       "      <th>base_year</th>\n",
       "      <th>code</th>\n",
       "      <th>name</th>\n",
       "      <th>name_eng</th>\n",
       "    </tr>\n",
       "  </thead>\n",
       "  <tbody>\n",
       "    <tr>\n",
       "      <th>0</th>\n",
       "      <td>0</td>\n",
       "      <td>2013</td>\n",
       "      <td>11250</td>\n",
       "      <td>강동구</td>\n",
       "      <td>Gangdong-gu</td>\n",
       "    </tr>\n",
       "    <tr>\n",
       "      <th>1</th>\n",
       "      <td>1</td>\n",
       "      <td>2013</td>\n",
       "      <td>11240</td>\n",
       "      <td>송파구</td>\n",
       "      <td>Songpa-gu</td>\n",
       "    </tr>\n",
       "    <tr>\n",
       "      <th>2</th>\n",
       "      <td>2</td>\n",
       "      <td>2013</td>\n",
       "      <td>11230</td>\n",
       "      <td>강남구</td>\n",
       "      <td>Gangnam-gu</td>\n",
       "    </tr>\n",
       "    <tr>\n",
       "      <th>3</th>\n",
       "      <td>3</td>\n",
       "      <td>2013</td>\n",
       "      <td>11220</td>\n",
       "      <td>서초구</td>\n",
       "      <td>Seocho-gu</td>\n",
       "    </tr>\n",
       "    <tr>\n",
       "      <th>4</th>\n",
       "      <td>4</td>\n",
       "      <td>2013</td>\n",
       "      <td>11210</td>\n",
       "      <td>관악구</td>\n",
       "      <td>Gwanak-gu</td>\n",
       "    </tr>\n",
       "    <tr>\n",
       "      <th>5</th>\n",
       "      <td>5</td>\n",
       "      <td>2013</td>\n",
       "      <td>11200</td>\n",
       "      <td>동작구</td>\n",
       "      <td>Dongjak-gu</td>\n",
       "    </tr>\n",
       "    <tr>\n",
       "      <th>6</th>\n",
       "      <td>6</td>\n",
       "      <td>2013</td>\n",
       "      <td>11190</td>\n",
       "      <td>영등포구</td>\n",
       "      <td>Yeongdeungpo-gu</td>\n",
       "    </tr>\n",
       "    <tr>\n",
       "      <th>7</th>\n",
       "      <td>7</td>\n",
       "      <td>2013</td>\n",
       "      <td>11180</td>\n",
       "      <td>금천구</td>\n",
       "      <td>Geumcheon-gu</td>\n",
       "    </tr>\n",
       "    <tr>\n",
       "      <th>8</th>\n",
       "      <td>8</td>\n",
       "      <td>2013</td>\n",
       "      <td>11170</td>\n",
       "      <td>구로구</td>\n",
       "      <td>Guro-gu</td>\n",
       "    </tr>\n",
       "    <tr>\n",
       "      <th>9</th>\n",
       "      <td>9</td>\n",
       "      <td>2013</td>\n",
       "      <td>11160</td>\n",
       "      <td>강서구</td>\n",
       "      <td>Gangseo-gu</td>\n",
       "    </tr>\n",
       "    <tr>\n",
       "      <th>10</th>\n",
       "      <td>10</td>\n",
       "      <td>2013</td>\n",
       "      <td>11150</td>\n",
       "      <td>양천구</td>\n",
       "      <td>Yangcheon-gu</td>\n",
       "    </tr>\n",
       "    <tr>\n",
       "      <th>11</th>\n",
       "      <td>11</td>\n",
       "      <td>2013</td>\n",
       "      <td>11140</td>\n",
       "      <td>마포구</td>\n",
       "      <td>Mapo-gu</td>\n",
       "    </tr>\n",
       "    <tr>\n",
       "      <th>12</th>\n",
       "      <td>12</td>\n",
       "      <td>2013</td>\n",
       "      <td>11130</td>\n",
       "      <td>서대문구</td>\n",
       "      <td>Seodaemun-gu</td>\n",
       "    </tr>\n",
       "    <tr>\n",
       "      <th>13</th>\n",
       "      <td>13</td>\n",
       "      <td>2013</td>\n",
       "      <td>11120</td>\n",
       "      <td>은평구</td>\n",
       "      <td>Eunpyeong-gu</td>\n",
       "    </tr>\n",
       "    <tr>\n",
       "      <th>14</th>\n",
       "      <td>14</td>\n",
       "      <td>2013</td>\n",
       "      <td>11110</td>\n",
       "      <td>노원구</td>\n",
       "      <td>Nowon-gu</td>\n",
       "    </tr>\n",
       "    <tr>\n",
       "      <th>15</th>\n",
       "      <td>15</td>\n",
       "      <td>2013</td>\n",
       "      <td>11100</td>\n",
       "      <td>도봉구</td>\n",
       "      <td>Dobong-gu</td>\n",
       "    </tr>\n",
       "    <tr>\n",
       "      <th>16</th>\n",
       "      <td>16</td>\n",
       "      <td>2013</td>\n",
       "      <td>11090</td>\n",
       "      <td>강북구</td>\n",
       "      <td>Gangbuk-gu</td>\n",
       "    </tr>\n",
       "    <tr>\n",
       "      <th>17</th>\n",
       "      <td>17</td>\n",
       "      <td>2013</td>\n",
       "      <td>11080</td>\n",
       "      <td>성북구</td>\n",
       "      <td>Seongbuk-gu</td>\n",
       "    </tr>\n",
       "    <tr>\n",
       "      <th>18</th>\n",
       "      <td>18</td>\n",
       "      <td>2013</td>\n",
       "      <td>11070</td>\n",
       "      <td>중랑구</td>\n",
       "      <td>Jungnang-gu</td>\n",
       "    </tr>\n",
       "    <tr>\n",
       "      <th>19</th>\n",
       "      <td>19</td>\n",
       "      <td>2013</td>\n",
       "      <td>11060</td>\n",
       "      <td>동대문구</td>\n",
       "      <td>Dongdaemun-gu</td>\n",
       "    </tr>\n",
       "    <tr>\n",
       "      <th>20</th>\n",
       "      <td>20</td>\n",
       "      <td>2013</td>\n",
       "      <td>11050</td>\n",
       "      <td>광진구</td>\n",
       "      <td>Gwangjin-gu</td>\n",
       "    </tr>\n",
       "    <tr>\n",
       "      <th>21</th>\n",
       "      <td>21</td>\n",
       "      <td>2013</td>\n",
       "      <td>11040</td>\n",
       "      <td>성동구</td>\n",
       "      <td>Seongdong-gu</td>\n",
       "    </tr>\n",
       "    <tr>\n",
       "      <th>22</th>\n",
       "      <td>22</td>\n",
       "      <td>2013</td>\n",
       "      <td>11030</td>\n",
       "      <td>용산구</td>\n",
       "      <td>Yongsan-gu</td>\n",
       "    </tr>\n",
       "    <tr>\n",
       "      <th>23</th>\n",
       "      <td>23</td>\n",
       "      <td>2013</td>\n",
       "      <td>11020</td>\n",
       "      <td>중구</td>\n",
       "      <td>Jung-gu</td>\n",
       "    </tr>\n",
       "    <tr>\n",
       "      <th>24</th>\n",
       "      <td>24</td>\n",
       "      <td>2013</td>\n",
       "      <td>11010</td>\n",
       "      <td>종로구</td>\n",
       "      <td>Jongno-gu</td>\n",
       "    </tr>\n",
       "  </tbody>\n",
       "</table>\n",
       "</div>"
      ],
      "text/plain": [
       "    Unnamed: 0  base_year   code  name         name_eng\n",
       "0            0       2013  11250   강동구      Gangdong-gu\n",
       "1            1       2013  11240   송파구        Songpa-gu\n",
       "2            2       2013  11230   강남구       Gangnam-gu\n",
       "3            3       2013  11220   서초구        Seocho-gu\n",
       "4            4       2013  11210   관악구        Gwanak-gu\n",
       "5            5       2013  11200   동작구       Dongjak-gu\n",
       "6            6       2013  11190  영등포구  Yeongdeungpo-gu\n",
       "7            7       2013  11180   금천구     Geumcheon-gu\n",
       "8            8       2013  11170   구로구          Guro-gu\n",
       "9            9       2013  11160   강서구       Gangseo-gu\n",
       "10          10       2013  11150   양천구     Yangcheon-gu\n",
       "11          11       2013  11140   마포구          Mapo-gu\n",
       "12          12       2013  11130  서대문구     Seodaemun-gu\n",
       "13          13       2013  11120   은평구     Eunpyeong-gu\n",
       "14          14       2013  11110   노원구         Nowon-gu\n",
       "15          15       2013  11100   도봉구        Dobong-gu\n",
       "16          16       2013  11090   강북구       Gangbuk-gu\n",
       "17          17       2013  11080   성북구      Seongbuk-gu\n",
       "18          18       2013  11070   중랑구      Jungnang-gu\n",
       "19          19       2013  11060  동대문구    Dongdaemun-gu\n",
       "20          20       2013  11050   광진구      Gwangjin-gu\n",
       "21          21       2013  11040   성동구     Seongdong-gu\n",
       "22          22       2013  11030   용산구       Yongsan-gu\n",
       "23          23       2013  11020    중구          Jung-gu\n",
       "24          24       2013  11010   종로구        Jongno-gu"
      ]
     },
     "execution_count": 77,
     "metadata": {},
     "output_type": "execute_result"
    }
   ],
   "source": [
    "sd"
   ]
  },
  {
   "cell_type": "markdown",
   "metadata": {},
   "source": [
    "DataFrame과 geo_data를 \"name\"을 기준으로 연동할 것이다.  \n",
    "geto_data의 \"name\"은 다음 위치에 있다."
   ]
  },
  {
   "cell_type": "code",
   "execution_count": 80,
   "metadata": {
    "scrolled": true
   },
   "outputs": [
    {
     "data": {
      "text/plain": [
       "'강동구'"
      ]
     },
     "execution_count": 80,
     "metadata": {},
     "output_type": "execute_result"
    }
   ],
   "source": [
    "geo_data[\"features\"][0][\"properties\"][\"name\"]"
   ]
  },
  {
   "cell_type": "code",
   "execution_count": 146,
   "metadata": {},
   "outputs": [
    {
     "data": {
      "text/plain": [
       "<folium.features.Choropleth at 0x1427d599940>"
      ]
     },
     "execution_count": 146,
     "metadata": {},
     "output_type": "execute_result"
    }
   ],
   "source": [
    "m100 = folium.Map([37.5665, 126.9780])\n",
    "\n",
    "folium.Choropleth(geo_data, \n",
    "                  sd,                    # data 는 pandas DataFrame or Series를 받는다. => pandas와 연동 가능 \n",
    "                  [\"name\", \"code\"],      # DataFrame에서 연동할 열 이름\n",
    "                  key_on=\"feature.properties.name\", # geo_data에서 연동할 값의 위치   # features 아님 주의\n",
    "                  fill_color=\"YlGn\",     #  단계구분을 표현할 색상 (colorbrewer 이름)\n",
    "                  nan_fill_color=\"black\" # nan 값이 있을 때 채울 색상\n",
    "                 ).add_to(m100) \n",
    "\n",
    "# shift + tab 보면 다양한 옵션을 조절 가능\n",
    "# topo json도 단계구분도 가능"
   ]
  },
  {
   "cell_type": "markdown",
   "metadata": {},
   "source": [
    "DataFrame의 값에 따라서 지역이 색칠되었다.  \n",
    "colorbrewer로 YlGn을 사용했기 때문에 색상범위가 yellow에서 green 사이로 표현된다.  \n",
    "우상단에 범례도 표시된다."
   ]
  },
  {
   "cell_type": "code",
   "execution_count": 147,
   "metadata": {},
   "outputs": [
    {
     "data": {
      "text/html": [
       "<div style=\"width:100%;\"><div style=\"position:relative;width:100%;height:0;padding-bottom:60%;\"><iframe src=\"data:text/html;charset=utf-8;base64,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\" style=\"position:absolute;width:100%;height:100%;left:0;top:0;border:none !important;\" allowfullscreen webkitallowfullscreen mozallowfullscreen></iframe></div></div>"
      ],
      "text/plain": [
       "<folium.folium.Map at 0x1427d5997f0>"
      ]
     },
     "execution_count": 147,
     "metadata": {},
     "output_type": "execute_result"
    }
   ],
   "source": [
    "m100"
   ]
  },
  {
   "cell_type": "code",
   "execution_count": null,
   "metadata": {},
   "outputs": [],
   "source": []
  }
 ],
 "metadata": {
  "kernelspec": {
   "display_name": "Python 3",
   "language": "python",
   "name": "python3"
  },
  "language_info": {
   "codemirror_mode": {
    "name": "ipython",
    "version": 3
   },
   "file_extension": ".py",
   "mimetype": "text/x-python",
   "name": "python",
   "nbconvert_exporter": "python",
   "pygments_lexer": "ipython3",
   "version": "3.7.3"
  },
  "toc": {
   "base_numbering": 1,
   "nav_menu": {},
   "number_sections": true,
   "sideBar": true,
   "skip_h1_title": true,
   "title_cell": "Table of Contents",
   "title_sidebar": "Contents",
   "toc_cell": true,
   "toc_position": {},
   "toc_section_display": true,
   "toc_window_display": true
  },
  "varInspector": {
   "cols": {
    "lenName": 16,
    "lenType": 16,
    "lenVar": 40
   },
   "kernels_config": {
    "python": {
     "delete_cmd_postfix": "",
     "delete_cmd_prefix": "del ",
     "library": "var_list.py",
     "varRefreshCmd": "print(var_dic_list())"
    },
    "r": {
     "delete_cmd_postfix": ") ",
     "delete_cmd_prefix": "rm(",
     "library": "var_list.r",
     "varRefreshCmd": "cat(var_dic_list()) "
    }
   },
   "types_to_exclude": [
    "module",
    "function",
    "builtin_function_or_method",
    "instance",
    "_Feature"
   ],
   "window_display": false
  }
 },
 "nbformat": 4,
 "nbformat_minor": 2
}
