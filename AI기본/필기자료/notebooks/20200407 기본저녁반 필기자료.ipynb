{
 "cells": [
  {
   "cell_type": "markdown",
   "metadata": {
    "toc": true
   },
   "source": [
    "<h1>Table of Contents<span class=\"tocSkip\"></span></h1>\n",
    "<div class=\"toc\"><ul class=\"toc-item\"><li><span><a href=\"#Tensorflow-tutorial-:-사전-제작된-에스티메이터\" data-toc-modified-id=\"Tensorflow-tutorial-:-사전-제작된-에스티메이터-1\"><span class=\"toc-item-num\">1&nbsp;&nbsp;</span>Tensorflow tutorial : <a href=\"https://www.tensorflow.org/tutorials/estimator/premade?hl=ko\" target=\"_blank\">사전 제작된 에스티메이터</a></a></span><ul class=\"toc-item\"><li><span><a href=\"#Dataset\" data-toc-modified-id=\"Dataset-1.1\"><span class=\"toc-item-num\">1.1&nbsp;&nbsp;</span>Dataset</a></span><ul class=\"toc-item\"><li><span><a href=\"#from_tensor_slices\" data-toc-modified-id=\"from_tensor_slices-1.1.1\"><span class=\"toc-item-num\">1.1.1&nbsp;&nbsp;</span>from_tensor_slices</a></span></li><li><span><a href=\"#take\" data-toc-modified-id=\"take-1.1.2\"><span class=\"toc-item-num\">1.1.2&nbsp;&nbsp;</span>take</a></span></li><li><span><a href=\"#shuffle\" data-toc-modified-id=\"shuffle-1.1.3\"><span class=\"toc-item-num\">1.1.3&nbsp;&nbsp;</span>shuffle</a></span></li><li><span><a href=\"#repeat\" data-toc-modified-id=\"repeat-1.1.4\"><span class=\"toc-item-num\">1.1.4&nbsp;&nbsp;</span>repeat</a></span></li><li><span><a href=\"#batch\" data-toc-modified-id=\"batch-1.1.5\"><span class=\"toc-item-num\">1.1.5&nbsp;&nbsp;</span>batch</a></span></li></ul></li><li><span><a href=\"#estimator\" data-toc-modified-id=\"estimator-1.2\"><span class=\"toc-item-num\">1.2&nbsp;&nbsp;</span>estimator</a></span></li></ul></li><li><span><a href=\"#model-zoo\" data-toc-modified-id=\"model-zoo-2\"><span class=\"toc-item-num\">2&nbsp;&nbsp;</span><a href=\"https://modelzoo.co/\" target=\"_blank\">model zoo</a></a></span></li><li><span><a href=\"#Tensorflow-tutorials-:-저장-및-로드\" data-toc-modified-id=\"Tensorflow-tutorials-:-저장-및-로드-3\"><span class=\"toc-item-num\">3&nbsp;&nbsp;</span>Tensorflow tutorials : <a href=\"https://www.tensorflow.org/tutorials/keras/save_and_load?hl=ko\" target=\"_blank\">저장 및 로드</a></a></span><ul class=\"toc-item\"><li><span><a href=\"#저장\" data-toc-modified-id=\"저장-3.1\"><span class=\"toc-item-num\">3.1&nbsp;&nbsp;</span>저장</a></span><ul class=\"toc-item\"><li><span><a href=\"#ModelCheckpoint\" data-toc-modified-id=\"ModelCheckpoint-3.1.1\"><span class=\"toc-item-num\">3.1.1&nbsp;&nbsp;</span>ModelCheckpoint</a></span><ul class=\"toc-item\"><li><span><a href=\"#save_weights_only\" data-toc-modified-id=\"save_weights_only-3.1.1.1\"><span class=\"toc-item-num\">3.1.1.1&nbsp;&nbsp;</span>save_weights_only</a></span></li></ul></li><li><span><a href=\"#save\" data-toc-modified-id=\"save-3.1.2\"><span class=\"toc-item-num\">3.1.2&nbsp;&nbsp;</span>save</a></span></li><li><span><a href=\"#save_weights\" data-toc-modified-id=\"save_weights-3.1.3\"><span class=\"toc-item-num\">3.1.3&nbsp;&nbsp;</span>save_weights</a></span></li></ul></li><li><span><a href=\"#로드\" data-toc-modified-id=\"로드-3.2\"><span class=\"toc-item-num\">3.2&nbsp;&nbsp;</span>로드</a></span><ul class=\"toc-item\"><li><span><a href=\"#load_model\" data-toc-modified-id=\"load_model-3.2.1\"><span class=\"toc-item-num\">3.2.1&nbsp;&nbsp;</span>load_model</a></span></li><li><span><a href=\"#load_weights\" data-toc-modified-id=\"load_weights-3.2.2\"><span class=\"toc-item-num\">3.2.2&nbsp;&nbsp;</span>load_weights</a></span></li></ul></li><li><span><a href=\"#pickle-복습\" data-toc-modified-id=\"pickle-복습-3.3\"><span class=\"toc-item-num\">3.3&nbsp;&nbsp;</span>pickle 복습</a></span></li><li><span><a href=\"#HDF5\" data-toc-modified-id=\"HDF5-3.4\"><span class=\"toc-item-num\">3.4&nbsp;&nbsp;</span>HDF5</a></span></li><li><span><a href=\"#문자열-formatting\" data-toc-modified-id=\"문자열-formatting-3.5\"><span class=\"toc-item-num\">3.5&nbsp;&nbsp;</span>문자열 formatting</a></span><ul class=\"toc-item\"><li><span><a href=\"#str.format\" data-toc-modified-id=\"str.format-3.5.1\"><span class=\"toc-item-num\">3.5.1&nbsp;&nbsp;</span>str.format</a></span></li><li><span><a href=\"#%-operator\" data-toc-modified-id=\"%-operator-3.5.2\"><span class=\"toc-item-num\">3.5.2&nbsp;&nbsp;</span>% operator</a></span></li><li><span><a href=\"#f-string\" data-toc-modified-id=\"f-string-3.5.3\"><span class=\"toc-item-num\">3.5.3&nbsp;&nbsp;</span>f string</a></span></li></ul></li></ul></li><li><span><a href=\"#Tensorflow-tutorials-:-Save-and-serialize-models-with-Keras\" data-toc-modified-id=\"Tensorflow-tutorials-:-Save-and-serialize-models-with-Keras-4\"><span class=\"toc-item-num\">4&nbsp;&nbsp;</span>Tensorflow tutorials : <a href=\"https://www.tensorflow.org/guide/keras/save_and_serialize?hl=ko\" target=\"_blank\">Save and serialize models with Keras</a></a></span></li><li><span><a href=\"#tpot\" data-toc-modified-id=\"tpot-5\"><span class=\"toc-item-num\">5&nbsp;&nbsp;</span>tpot</a></span></li></ul></div>"
   ]
  },
  {
   "cell_type": "markdown",
   "metadata": {},
   "source": [
    "\n",
    "# [AI 오픈 이노베이션] 기본 저녁반<a class=\"tocSkip\">\n",
    "GitHub link: [https://github.com/realblack0/ai_lecture_fundamental](https://github.com/realblack0/ai_lecture_fundamental)  \n",
    "E-Mail: realblack0@gmail.com"
   ]
  },
  {
   "cell_type": "markdown",
   "metadata": {},
   "source": [
    "## Tensorflow tutorial : [사전 제작된 에스티메이터](https://www.tensorflow.org/tutorials/estimator/premade?hl=ko)"
   ]
  },
  {
   "cell_type": "markdown",
   "metadata": {},
   "source": [
    "이번 수업은 tensorflow 공식 tutorial : [사전 제작된 에스티메이터](https://www.tensorflow.org/tutorials/estimator/premade?hl=ko)을 참조하였습니다."
   ]
  },
  {
   "cell_type": "code",
   "execution_count": 7,
   "metadata": {},
   "outputs": [],
   "source": [
    "import tensorflow as tf"
   ]
  },
  {
   "cell_type": "markdown",
   "metadata": {},
   "source": [
    "tutorial이 항상 좋은 것은 아니다. 자신들의 framework 기능을 최대한 많이 소개하기 위해서 굳이 안 써도 되는 기능도 사용한다.  \n",
    "`get_file`을 안 쓰더라도, pandas의 `read_csv`로 URL에서 데이터를 바로 가져올 수 있다.  \n",
    "이번에는 tutorial대로 `get_file`을 써본다."
   ]
  },
  {
   "cell_type": "code",
   "execution_count": 33,
   "metadata": {},
   "outputs": [
    {
     "name": "stdout",
     "output_type": "stream",
     "text": [
      "Downloading data from https://storage.googleapis.com/download.tensorflow.org/data/iris_training.csv\n",
      "\r",
      "8192/2194 [================================================================================================================] - 0s 0us/step\n"
     ]
    }
   ],
   "source": [
    "test = tf.keras.utils.get_file(\n",
    "    \"iris_training.csv\", \"https://storage.googleapis.com/download.tensorflow.org/data/iris_training.csv\")"
   ]
  },
  {
   "cell_type": "markdown",
   "metadata": {},
   "source": [
    "`get_file`은 데이터를 저장한 위치를 반환한다."
   ]
  },
  {
   "cell_type": "code",
   "execution_count": 34,
   "metadata": {},
   "outputs": [
    {
     "data": {
      "text/plain": [
       "'C:\\\\Users\\\\JINHYO\\\\.keras\\\\datasets\\\\iris_training.csv'"
      ]
     },
     "execution_count": 34,
     "metadata": {},
     "output_type": "execute_result"
    }
   ],
   "source": [
    "test"
   ]
  },
  {
   "cell_type": "markdown",
   "metadata": {},
   "source": [
    "DataFrame으로 읽어온다."
   ]
  },
  {
   "cell_type": "code",
   "execution_count": 9,
   "metadata": {},
   "outputs": [],
   "source": [
    "import pandas as pd"
   ]
  },
  {
   "cell_type": "code",
   "execution_count": 10,
   "metadata": {},
   "outputs": [],
   "source": [
    "data_ = pd.read_csv(test, header=None, skiprows=1)"
   ]
  },
  {
   "cell_type": "code",
   "execution_count": 11,
   "metadata": {},
   "outputs": [
    {
     "data": {
      "text/html": [
       "<div>\n",
       "<style scoped>\n",
       "    .dataframe tbody tr th:only-of-type {\n",
       "        vertical-align: middle;\n",
       "    }\n",
       "\n",
       "    .dataframe tbody tr th {\n",
       "        vertical-align: top;\n",
       "    }\n",
       "\n",
       "    .dataframe thead th {\n",
       "        text-align: right;\n",
       "    }\n",
       "</style>\n",
       "<table border=\"1\" class=\"dataframe\">\n",
       "  <thead>\n",
       "    <tr style=\"text-align: right;\">\n",
       "      <th></th>\n",
       "      <th>0</th>\n",
       "      <th>1</th>\n",
       "      <th>2</th>\n",
       "      <th>3</th>\n",
       "      <th>4</th>\n",
       "    </tr>\n",
       "  </thead>\n",
       "  <tbody>\n",
       "    <tr>\n",
       "      <th>0</th>\n",
       "      <td>6.4</td>\n",
       "      <td>2.8</td>\n",
       "      <td>5.6</td>\n",
       "      <td>2.2</td>\n",
       "      <td>2</td>\n",
       "    </tr>\n",
       "    <tr>\n",
       "      <th>1</th>\n",
       "      <td>5.0</td>\n",
       "      <td>2.3</td>\n",
       "      <td>3.3</td>\n",
       "      <td>1.0</td>\n",
       "      <td>1</td>\n",
       "    </tr>\n",
       "    <tr>\n",
       "      <th>2</th>\n",
       "      <td>4.9</td>\n",
       "      <td>2.5</td>\n",
       "      <td>4.5</td>\n",
       "      <td>1.7</td>\n",
       "      <td>2</td>\n",
       "    </tr>\n",
       "    <tr>\n",
       "      <th>3</th>\n",
       "      <td>4.9</td>\n",
       "      <td>3.1</td>\n",
       "      <td>1.5</td>\n",
       "      <td>0.1</td>\n",
       "      <td>0</td>\n",
       "    </tr>\n",
       "    <tr>\n",
       "      <th>4</th>\n",
       "      <td>5.7</td>\n",
       "      <td>3.8</td>\n",
       "      <td>1.7</td>\n",
       "      <td>0.3</td>\n",
       "      <td>0</td>\n",
       "    </tr>\n",
       "    <tr>\n",
       "      <th>...</th>\n",
       "      <td>...</td>\n",
       "      <td>...</td>\n",
       "      <td>...</td>\n",
       "      <td>...</td>\n",
       "      <td>...</td>\n",
       "    </tr>\n",
       "    <tr>\n",
       "      <th>115</th>\n",
       "      <td>5.5</td>\n",
       "      <td>2.6</td>\n",
       "      <td>4.4</td>\n",
       "      <td>1.2</td>\n",
       "      <td>1</td>\n",
       "    </tr>\n",
       "    <tr>\n",
       "      <th>116</th>\n",
       "      <td>5.7</td>\n",
       "      <td>3.0</td>\n",
       "      <td>4.2</td>\n",
       "      <td>1.2</td>\n",
       "      <td>1</td>\n",
       "    </tr>\n",
       "    <tr>\n",
       "      <th>117</th>\n",
       "      <td>4.4</td>\n",
       "      <td>2.9</td>\n",
       "      <td>1.4</td>\n",
       "      <td>0.2</td>\n",
       "      <td>0</td>\n",
       "    </tr>\n",
       "    <tr>\n",
       "      <th>118</th>\n",
       "      <td>4.8</td>\n",
       "      <td>3.0</td>\n",
       "      <td>1.4</td>\n",
       "      <td>0.1</td>\n",
       "      <td>0</td>\n",
       "    </tr>\n",
       "    <tr>\n",
       "      <th>119</th>\n",
       "      <td>5.5</td>\n",
       "      <td>2.4</td>\n",
       "      <td>3.7</td>\n",
       "      <td>1.0</td>\n",
       "      <td>1</td>\n",
       "    </tr>\n",
       "  </tbody>\n",
       "</table>\n",
       "<p>120 rows × 5 columns</p>\n",
       "</div>"
      ],
      "text/plain": [
       "       0    1    2    3  4\n",
       "0    6.4  2.8  5.6  2.2  2\n",
       "1    5.0  2.3  3.3  1.0  1\n",
       "2    4.9  2.5  4.5  1.7  2\n",
       "3    4.9  3.1  1.5  0.1  0\n",
       "4    5.7  3.8  1.7  0.3  0\n",
       "..   ...  ...  ...  ... ..\n",
       "115  5.5  2.6  4.4  1.2  1\n",
       "116  5.7  3.0  4.2  1.2  1\n",
       "117  4.4  2.9  1.4  0.2  0\n",
       "118  4.8  3.0  1.4  0.1  0\n",
       "119  5.5  2.4  3.7  1.0  1\n",
       "\n",
       "[120 rows x 5 columns]"
      ]
     },
     "execution_count": 11,
     "metadata": {},
     "output_type": "execute_result"
    }
   ],
   "source": [
    "data_"
   ]
  },
  {
   "cell_type": "code",
   "execution_count": 12,
   "metadata": {},
   "outputs": [
    {
     "name": "stdout",
     "output_type": "stream",
     "text": [
      "<class 'pandas.core.frame.DataFrame'>\n",
      "RangeIndex: 120 entries, 0 to 119\n",
      "Data columns (total 5 columns):\n",
      "0    120 non-null float64\n",
      "1    120 non-null float64\n",
      "2    120 non-null float64\n",
      "3    120 non-null float64\n",
      "4    120 non-null int64\n",
      "dtypes: float64(4), int64(1)\n",
      "memory usage: 4.8 KB\n"
     ]
    }
   ],
   "source": [
    "data_.info()"
   ]
  },
  {
   "cell_type": "markdown",
   "metadata": {},
   "source": [
    "대괄호 2개를 쓰면 fancy indexing이다.  \n",
    "fancy indexing은 열 1개만 뽑아도 DataFrame(2차원)이다."
   ]
  },
  {
   "cell_type": "code",
   "execution_count": 13,
   "metadata": {},
   "outputs": [
    {
     "data": {
      "text/html": [
       "<div>\n",
       "<style scoped>\n",
       "    .dataframe tbody tr th:only-of-type {\n",
       "        vertical-align: middle;\n",
       "    }\n",
       "\n",
       "    .dataframe tbody tr th {\n",
       "        vertical-align: top;\n",
       "    }\n",
       "\n",
       "    .dataframe thead th {\n",
       "        text-align: right;\n",
       "    }\n",
       "</style>\n",
       "<table border=\"1\" class=\"dataframe\">\n",
       "  <thead>\n",
       "    <tr style=\"text-align: right;\">\n",
       "      <th></th>\n",
       "      <th>0</th>\n",
       "    </tr>\n",
       "  </thead>\n",
       "  <tbody>\n",
       "    <tr>\n",
       "      <th>0</th>\n",
       "      <td>6.4</td>\n",
       "    </tr>\n",
       "    <tr>\n",
       "      <th>1</th>\n",
       "      <td>5.0</td>\n",
       "    </tr>\n",
       "    <tr>\n",
       "      <th>2</th>\n",
       "      <td>4.9</td>\n",
       "    </tr>\n",
       "    <tr>\n",
       "      <th>3</th>\n",
       "      <td>4.9</td>\n",
       "    </tr>\n",
       "    <tr>\n",
       "      <th>4</th>\n",
       "      <td>5.7</td>\n",
       "    </tr>\n",
       "    <tr>\n",
       "      <th>...</th>\n",
       "      <td>...</td>\n",
       "    </tr>\n",
       "    <tr>\n",
       "      <th>115</th>\n",
       "      <td>5.5</td>\n",
       "    </tr>\n",
       "    <tr>\n",
       "      <th>116</th>\n",
       "      <td>5.7</td>\n",
       "    </tr>\n",
       "    <tr>\n",
       "      <th>117</th>\n",
       "      <td>4.4</td>\n",
       "    </tr>\n",
       "    <tr>\n",
       "      <th>118</th>\n",
       "      <td>4.8</td>\n",
       "    </tr>\n",
       "    <tr>\n",
       "      <th>119</th>\n",
       "      <td>5.5</td>\n",
       "    </tr>\n",
       "  </tbody>\n",
       "</table>\n",
       "<p>120 rows × 1 columns</p>\n",
       "</div>"
      ],
      "text/plain": [
       "       0\n",
       "0    6.4\n",
       "1    5.0\n",
       "2    4.9\n",
       "3    4.9\n",
       "4    5.7\n",
       "..   ...\n",
       "115  5.5\n",
       "116  5.7\n",
       "117  4.4\n",
       "118  4.8\n",
       "119  5.5\n",
       "\n",
       "[120 rows x 1 columns]"
      ]
     },
     "execution_count": 13,
     "metadata": {},
     "output_type": "execute_result"
    }
   ],
   "source": [
    "data_[[0]]"
   ]
  },
  {
   "cell_type": "markdown",
   "metadata": {
    "heading_collapsed": true
   },
   "source": [
    "### Dataset"
   ]
  },
  {
   "cell_type": "markdown",
   "metadata": {
    "hidden": true
   },
   "source": [
    "#### from_tensor_slices"
   ]
  },
  {
   "cell_type": "markdown",
   "metadata": {
    "hidden": true
   },
   "source": [
    "`Dataset`의 class method인 `from_tensor_slices`로 인스턴스를 만들 수 있다. "
   ]
  },
  {
   "cell_type": "code",
   "execution_count": null,
   "metadata": {
    "hidden": true
   },
   "outputs": [],
   "source": [
    "# Error\n",
    "tf.data.Dataset.from_tensor_slices(data_[[0]])"
   ]
  },
  {
   "cell_type": "markdown",
   "metadata": {
    "hidden": true
   },
   "source": [
    "shape 맞춰줘야한다.  \n",
    "이름으로 접근하면 Series(1차원)로 반환한다."
   ]
  },
  {
   "cell_type": "code",
   "execution_count": 14,
   "metadata": {
    "hidden": true
   },
   "outputs": [
    {
     "data": {
      "text/plain": [
       "<TensorSliceDataset shapes: (), types: tf.float64>"
      ]
     },
     "execution_count": 14,
     "metadata": {},
     "output_type": "execute_result"
    }
   ],
   "source": [
    "tf.data.Dataset.from_tensor_slices(data_[0])"
   ]
  },
  {
   "cell_type": "markdown",
   "metadata": {
    "hidden": true
   },
   "source": [
    "`Dataset`은 내용을 바로 볼 수 없다. 값을 꺼내와야 볼 수 있다. eager tensor와 다르다.  \n",
    "tensorflow 2.x버전부터는 eager tensor를 지원한다.   \n",
    "eager tensor는 값을 바로 볼 수 있었다. "
   ]
  },
  {
   "cell_type": "code",
   "execution_count": 42,
   "metadata": {
    "hidden": true
   },
   "outputs": [],
   "source": [
    "# eager tensor\n",
    "a = tf.constant([1,2,3])"
   ]
  },
  {
   "cell_type": "code",
   "execution_count": 43,
   "metadata": {
    "hidden": true
   },
   "outputs": [
    {
     "data": {
      "text/plain": [
       "<tf.Tensor: id=18, shape=(3,), dtype=int32, numpy=array([1, 2, 3])>"
      ]
     },
     "execution_count": 43,
     "metadata": {},
     "output_type": "execute_result"
    }
   ],
   "source": [
    "# eager tensor는 numpy가 함께 나온다. \n",
    "a"
   ]
  },
  {
   "cell_type": "markdown",
   "metadata": {
    "hidden": true
   },
   "source": [
    "튜플로 묶어서 열을 여러개 넣어보자.  \n",
    "여러개 넣을 떄도 shape을 잘 맞춰야한다."
   ]
  },
  {
   "cell_type": "code",
   "execution_count": null,
   "metadata": {
    "hidden": true
   },
   "outputs": [],
   "source": [
    "# Error \n",
    "# 2차원\n",
    "data_tensor = tf.data.Dataset.from_tensor_slices((data_[[0]], data_[[1]], data_[[2]], data_[[3]], data_[[4]]))"
   ]
  },
  {
   "cell_type": "code",
   "execution_count": 62,
   "metadata": {
    "hidden": true
   },
   "outputs": [],
   "source": [
    "# 1차원\n",
    "data_tensor = tf.data.Dataset.from_tensor_slices((data_[0], data_[1], data_[2], data_[3], data_[4]))"
   ]
  },
  {
   "cell_type": "markdown",
   "metadata": {
    "hidden": true
   },
   "source": [
    "#### take"
   ]
  },
  {
   "cell_type": "markdown",
   "metadata": {
    "hidden": true
   },
   "source": [
    "`take`는 데이터를 가져온다."
   ]
  },
  {
   "cell_type": "code",
   "execution_count": 72,
   "metadata": {
    "hidden": true
   },
   "outputs": [
    {
     "name": "stdout",
     "output_type": "stream",
     "text": [
      "(<tf.Tensor: id=904, shape=(), dtype=float64, numpy=6.4>,\n",
      " <tf.Tensor: id=905, shape=(), dtype=float64, numpy=2.8>,\n",
      " <tf.Tensor: id=906, shape=(), dtype=float64, numpy=5.6>,\n",
      " <tf.Tensor: id=907, shape=(), dtype=float64, numpy=2.2>,\n",
      " <tf.Tensor: id=908, shape=(), dtype=int32, numpy=2>)\n",
      "(<tf.Tensor: id=909, shape=(), dtype=float64, numpy=5.0>,\n",
      " <tf.Tensor: id=910, shape=(), dtype=float64, numpy=2.3>,\n",
      " <tf.Tensor: id=911, shape=(), dtype=float64, numpy=3.3>,\n",
      " <tf.Tensor: id=912, shape=(), dtype=float64, numpy=1.0>,\n",
      " <tf.Tensor: id=913, shape=(), dtype=int32, numpy=1>)\n",
      "(<tf.Tensor: id=914, shape=(), dtype=float64, numpy=4.9>,\n",
      " <tf.Tensor: id=915, shape=(), dtype=float64, numpy=2.5>,\n",
      " <tf.Tensor: id=916, shape=(), dtype=float64, numpy=4.5>,\n",
      " <tf.Tensor: id=917, shape=(), dtype=float64, numpy=1.7>,\n",
      " <tf.Tensor: id=918, shape=(), dtype=int32, numpy=2>)\n"
     ]
    }
   ],
   "source": [
    "# 3개 가져옴\n",
    "from pprint import pprint\n",
    "for i in data_tensor.take(3):\n",
    "    pprint(i)"
   ]
  },
  {
   "cell_type": "markdown",
   "metadata": {
    "hidden": true
   },
   "source": [
    "#### shuffle"
   ]
  },
  {
   "cell_type": "markdown",
   "metadata": {
    "hidden": true
   },
   "source": [
    "`shuffle` 메소드는 데이터를 섞어준다."
   ]
  },
  {
   "cell_type": "code",
   "execution_count": 64,
   "metadata": {
    "hidden": true
   },
   "outputs": [],
   "source": [
    "data_tensor_shuffle = data_tensor.shuffle(1000)"
   ]
  },
  {
   "cell_type": "code",
   "execution_count": 65,
   "metadata": {
    "hidden": true
   },
   "outputs": [
    {
     "data": {
      "text/plain": [
       "<ShuffleDataset shapes: ((), (), (), (), ()), types: (tf.float64, tf.float64, tf.float64, tf.float64, tf.int32)>"
      ]
     },
     "execution_count": 65,
     "metadata": {},
     "output_type": "execute_result"
    }
   ],
   "source": [
    "data_tensor_shuffle"
   ]
  },
  {
   "cell_type": "markdown",
   "metadata": {
    "hidden": true
   },
   "source": [
    "shuffle 하기 전과 값이 달라졌다. "
   ]
  },
  {
   "cell_type": "code",
   "execution_count": 73,
   "metadata": {
    "hidden": true
   },
   "outputs": [
    {
     "name": "stdout",
     "output_type": "stream",
     "text": [
      "(<tf.Tensor: id=926, shape=(), dtype=float64, numpy=7.2>,\n",
      " <tf.Tensor: id=927, shape=(), dtype=float64, numpy=3.6>,\n",
      " <tf.Tensor: id=928, shape=(), dtype=float64, numpy=6.1>,\n",
      " <tf.Tensor: id=929, shape=(), dtype=float64, numpy=2.5>,\n",
      " <tf.Tensor: id=930, shape=(), dtype=int32, numpy=2>)\n",
      "(<tf.Tensor: id=931, shape=(), dtype=float64, numpy=6.1>,\n",
      " <tf.Tensor: id=932, shape=(), dtype=float64, numpy=2.8>,\n",
      " <tf.Tensor: id=933, shape=(), dtype=float64, numpy=4.7>,\n",
      " <tf.Tensor: id=934, shape=(), dtype=float64, numpy=1.2>,\n",
      " <tf.Tensor: id=935, shape=(), dtype=int32, numpy=1>)\n",
      "(<tf.Tensor: id=936, shape=(), dtype=float64, numpy=5.0>,\n",
      " <tf.Tensor: id=937, shape=(), dtype=float64, numpy=3.5>,\n",
      " <tf.Tensor: id=938, shape=(), dtype=float64, numpy=1.6>,\n",
      " <tf.Tensor: id=939, shape=(), dtype=float64, numpy=0.6>,\n",
      " <tf.Tensor: id=940, shape=(), dtype=int32, numpy=0>)\n"
     ]
    }
   ],
   "source": [
    "for i in data_tensor_shuffle.take(3):\n",
    "    pprint(i)"
   ]
  },
  {
   "cell_type": "markdown",
   "metadata": {
    "hidden": true
   },
   "source": [
    "#### repeat"
   ]
  },
  {
   "cell_type": "markdown",
   "metadata": {
    "hidden": true
   },
   "source": [
    "`repeat`은 반복시켜준다."
   ]
  },
  {
   "cell_type": "code",
   "execution_count": 79,
   "metadata": {
    "hidden": true
   },
   "outputs": [],
   "source": [
    "temp = tf.data.Dataset.from_tensor_slices([1, 2, 3]) "
   ]
  },
  {
   "cell_type": "code",
   "execution_count": 81,
   "metadata": {
    "hidden": true,
    "scrolled": false
   },
   "outputs": [
    {
     "data": {
      "text/plain": [
       "[<tf.Tensor: id=957, shape=(), dtype=int32, numpy=1>,\n",
       " <tf.Tensor: id=958, shape=(), dtype=int32, numpy=2>,\n",
       " <tf.Tensor: id=959, shape=(), dtype=int32, numpy=3>]"
      ]
     },
     "execution_count": 81,
     "metadata": {},
     "output_type": "execute_result"
    }
   ],
   "source": [
    "# repeat 안했을 때\n",
    "list(iter(temp))"
   ]
  },
  {
   "cell_type": "code",
   "execution_count": 82,
   "metadata": {
    "hidden": true
   },
   "outputs": [
    {
     "data": {
      "text/plain": [
       "[<tf.Tensor: id=967, shape=(), dtype=int32, numpy=1>,\n",
       " <tf.Tensor: id=968, shape=(), dtype=int32, numpy=2>,\n",
       " <tf.Tensor: id=969, shape=(), dtype=int32, numpy=3>,\n",
       " <tf.Tensor: id=970, shape=(), dtype=int32, numpy=1>,\n",
       " <tf.Tensor: id=971, shape=(), dtype=int32, numpy=2>,\n",
       " <tf.Tensor: id=972, shape=(), dtype=int32, numpy=3>,\n",
       " <tf.Tensor: id=973, shape=(), dtype=int32, numpy=1>,\n",
       " <tf.Tensor: id=974, shape=(), dtype=int32, numpy=2>,\n",
       " <tf.Tensor: id=975, shape=(), dtype=int32, numpy=3>]"
      ]
     },
     "execution_count": 82,
     "metadata": {},
     "output_type": "execute_result"
    }
   ],
   "source": [
    "# repeat 했을 때\n",
    "temp = temp.repeat(3) \n",
    "list(iter(temp)) "
   ]
  },
  {
   "cell_type": "markdown",
   "metadata": {
    "hidden": true
   },
   "source": [
    "`Dataset`의 `repeat`메소드는 numpy에 있는 tile과 같다."
   ]
  },
  {
   "cell_type": "code",
   "execution_count": 83,
   "metadata": {
    "hidden": true
   },
   "outputs": [],
   "source": [
    "import numpy as np"
   ]
  },
  {
   "cell_type": "code",
   "execution_count": 84,
   "metadata": {
    "hidden": true
   },
   "outputs": [
    {
     "data": {
      "text/plain": [
       "array([1, 2, 3, 1, 2, 3, 1, 2, 3])"
      ]
     },
     "execution_count": 84,
     "metadata": {},
     "output_type": "execute_result"
    }
   ],
   "source": [
    "np.tile([1,2,3], 3)"
   ]
  },
  {
   "cell_type": "markdown",
   "metadata": {
    "hidden": true
   },
   "source": [
    "numpy에는 값을 반복시켜주는 함수로 `repeat`과 `tile`이 있었다. "
   ]
  },
  {
   "cell_type": "code",
   "execution_count": 85,
   "metadata": {
    "hidden": true
   },
   "outputs": [
    {
     "data": {
      "text/plain": [
       "array([1, 1, 1, 2, 2, 2, 3, 3, 3])"
      ]
     },
     "execution_count": 85,
     "metadata": {},
     "output_type": "execute_result"
    }
   ],
   "source": [
    "np.repeat([1,2,3], 3)"
   ]
  },
  {
   "cell_type": "markdown",
   "metadata": {
    "hidden": true
   },
   "source": [
    "#### batch"
   ]
  },
  {
   "cell_type": "markdown",
   "metadata": {
    "hidden": true
   },
   "source": [
    "`batch`는 데이터를 묶어준다."
   ]
  },
  {
   "cell_type": "code",
   "execution_count": 87,
   "metadata": {
    "hidden": true
   },
   "outputs": [],
   "source": [
    "b = iter(data_tensor.batch(30))"
   ]
  },
  {
   "cell_type": "code",
   "execution_count": 88,
   "metadata": {
    "hidden": true
   },
   "outputs": [],
   "source": [
    "c = next(b)"
   ]
  },
  {
   "cell_type": "code",
   "execution_count": 89,
   "metadata": {
    "hidden": true
   },
   "outputs": [
    {
     "data": {
      "text/plain": [
       "(<tf.Tensor: id=984, shape=(30,), dtype=float64, numpy=\n",
       " array([6.4, 5. , 4.9, 4.9, 5.7, 4.4, 5.4, 6.9, 6.7, 5.1, 5.2, 6.9, 5.8,\n",
       "        5.4, 7.7, 6.3, 6.8, 7.6, 6.4, 5.7, 6.7, 6.4, 5.4, 6.1, 7.2, 5.2,\n",
       "        5.8, 5.9, 5.4, 6.7])>,\n",
       " <tf.Tensor: id=985, shape=(30,), dtype=float64, numpy=\n",
       " array([2.8, 2.3, 2.5, 3.1, 3.8, 3.2, 3.4, 3.1, 3.1, 3.7, 2.7, 3.1, 4. ,\n",
       "        3.9, 3.8, 3.3, 3.2, 3. , 3.2, 4.4, 3.3, 2.8, 3.9, 2.6, 3. , 3.5,\n",
       "        2.6, 3. , 3. , 3. ])>,\n",
       " <tf.Tensor: id=986, shape=(30,), dtype=float64, numpy=\n",
       " array([5.6, 3.3, 4.5, 1.5, 1.7, 1.3, 1.5, 5.1, 4.4, 1.5, 3.9, 4.9, 1.2,\n",
       "        1.7, 6.7, 4.7, 5.9, 6.6, 5.3, 1.5, 5.7, 5.6, 1.3, 5.6, 5.8, 1.5,\n",
       "        4. , 5.1, 4.5, 5. ])>,\n",
       " <tf.Tensor: id=987, shape=(30,), dtype=float64, numpy=\n",
       " array([2.2, 1. , 1.7, 0.1, 0.3, 0.2, 0.4, 2.3, 1.4, 0.4, 1.4, 1.5, 0.2,\n",
       "        0.4, 2.2, 1.6, 2.3, 2.1, 2.3, 0.4, 2.1, 2.1, 0.4, 1.4, 1.6, 0.2,\n",
       "        1.2, 1.8, 1.5, 1.7])>,\n",
       " <tf.Tensor: id=988, shape=(30,), dtype=int32, numpy=\n",
       " array([2, 1, 2, 0, 0, 0, 0, 2, 1, 0, 1, 1, 0, 0, 2, 1, 2, 2, 2, 0, 2, 2,\n",
       "        0, 2, 2, 0, 1, 2, 1, 1])>)"
      ]
     },
     "execution_count": 89,
     "metadata": {},
     "output_type": "execute_result"
    }
   ],
   "source": [
    "c"
   ]
  },
  {
   "cell_type": "markdown",
   "metadata": {
    "hidden": true
   },
   "source": [
    "열마다 데이터 30개씩 묶었다."
   ]
  },
  {
   "cell_type": "code",
   "execution_count": 94,
   "metadata": {
    "hidden": true
   },
   "outputs": [
    {
     "data": {
      "text/plain": [
       "TensorShape([30])"
      ]
     },
     "execution_count": 94,
     "metadata": {},
     "output_type": "execute_result"
    }
   ],
   "source": [
    "c[0].shape"
   ]
  },
  {
   "cell_type": "markdown",
   "metadata": {
    "hidden": true
   },
   "source": [
    "batch size를 바꿔서 비교해보자"
   ]
  },
  {
   "cell_type": "code",
   "execution_count": 95,
   "metadata": {
    "hidden": true
   },
   "outputs": [],
   "source": [
    "b = iter(data_tensor.batch(10))"
   ]
  },
  {
   "cell_type": "code",
   "execution_count": 96,
   "metadata": {
    "hidden": true
   },
   "outputs": [],
   "source": [
    "c = next(b)"
   ]
  },
  {
   "cell_type": "code",
   "execution_count": 99,
   "metadata": {
    "hidden": true
   },
   "outputs": [
    {
     "data": {
      "text/plain": [
       "TensorShape([10])"
      ]
     },
     "execution_count": 99,
     "metadata": {},
     "output_type": "execute_result"
    }
   ],
   "source": [
    "# 비교 \n",
    "c[0].shape"
   ]
  },
  {
   "cell_type": "markdown",
   "metadata": {},
   "source": [
    "### estimator"
   ]
  },
  {
   "cell_type": "markdown",
   "metadata": {},
   "source": [
    "이번 수업에서 최종적으로 사용해보려는 것은 estimator이다.  \n",
    "사용법은 다음과 같다."
   ]
  },
  {
   "cell_type": "code",
   "execution_count": null,
   "metadata": {},
   "outputs": [],
   "source": [
    "# 튜토리얼 코드\n",
    "\n",
    "# Build a DNN with 2 hidden layers with 30 and 10 hidden nodes each.\n",
    "classifier = tf.estimator.DNNClassifier(\n",
    "    feature_columns=my_feature_columns,\n",
    "    # Two hidden layers of 30 and 10 nodes respectively.\n",
    "    hidden_units=[30, 10],\n",
    "    # The model must choose between 3 classes.\n",
    "    n_classes=3)"
   ]
  },
  {
   "cell_type": "markdown",
   "metadata": {},
   "source": [
    "estimator는 scikit-learn이랑 유사하게 만들었다.  \n",
    "- estimator는 `hidden_units`로 레이어의 노드 개수를 정한다.\n",
    "- scikit-learn은 `hidden_layer`로 레이어의 노드 개수를 정한다."
   ]
  },
  {
   "cell_type": "code",
   "execution_count": 100,
   "metadata": {},
   "outputs": [],
   "source": [
    "from sklearn.neural_network import MLPClassifier"
   ]
  },
  {
   "cell_type": "code",
   "execution_count": 101,
   "metadata": {},
   "outputs": [
    {
     "data": {
      "text/plain": [
       "MLPClassifier(activation='relu', alpha=0.0001, batch_size='auto', beta_1=0.9,\n",
       "              beta_2=0.999, early_stopping=False, epsilon=1e-08,\n",
       "              hidden_layer_sizes=(30, 102, 30), learning_rate='constant',\n",
       "              learning_rate_init=0.001, max_fun=15000, max_iter=200,\n",
       "              momentum=0.9, n_iter_no_change=10, nesterovs_momentum=True,\n",
       "              power_t=0.5, random_state=None, shuffle=True, solver='adam',\n",
       "              tol=0.0001, validation_fraction=0.1, verbose=False,\n",
       "              warm_start=False)"
      ]
     },
     "execution_count": 101,
     "metadata": {},
     "output_type": "execute_result"
    }
   ],
   "source": [
    "MLPClassifier(hidden_layer_sizes=(30,102,30))"
   ]
  },
  {
   "cell_type": "markdown",
   "metadata": {},
   "source": [
    "estimator의 특이점 : 학습할 때 `fit` 대신 `train`을 쓴다."
   ]
  },
  {
   "cell_type": "code",
   "execution_count": null,
   "metadata": {},
   "outputs": [],
   "source": [
    "# Train the Model.\n",
    "classifier.train(\n",
    "    input_fn=lambda: input_fn(train, train_y, training=True),\n",
    "    steps=5000)"
   ]
  },
  {
   "cell_type": "markdown",
   "metadata": {},
   "source": [
    "**estimator**\n",
    "- tensorflow에서도 estimator보다 keras를 사용하는 것을 권함.\n",
    "- 그러나, legacy system과의 호환을 위해서 아직 지원\n",
    "- 1버전대와의 호환을 위해서 아직 지원\n",
    "- 데이터를 tensor로 관리하기 때문에 효율적인 면이 있다."
   ]
  },
  {
   "cell_type": "markdown",
   "metadata": {
    "heading_collapsed": true
   },
   "source": [
    "## [model zoo](https://modelzoo.co/)"
   ]
  },
  {
   "cell_type": "markdown",
   "metadata": {
    "hidden": true
   },
   "source": [
    "- https://modelzoo.co/\n",
    "- 유명한 모델 이미 코드로 구현되어 공유되고 있다.\n",
    "- framework 별로 다 있다. \n",
    "- 구현 코드를 보면 대개 1000줄이 채 안된다. \n",
    "- 코드는 공개 되어있지만, 문제는 학습할 데이터를 구하기 어렵다."
   ]
  },
  {
   "cell_type": "markdown",
   "metadata": {},
   "source": [
    "## Tensorflow tutorials : [저장 및 로드](https://www.tensorflow.org/tutorials/keras/save_and_load?hl=ko)"
   ]
  },
  {
   "cell_type": "markdown",
   "metadata": {},
   "source": [
    "이번 수업은 tensorflow 공식 tutorial : [저장 및 로드](https://www.tensorflow.org/tutorials/keras/save_and_load?hl=ko)을 참조하였습니다."
   ]
  },
  {
   "cell_type": "code",
   "execution_count": 2,
   "metadata": {},
   "outputs": [],
   "source": [
    "import tensorflow as tf"
   ]
  },
  {
   "cell_type": "code",
   "execution_count": 3,
   "metadata": {},
   "outputs": [],
   "source": [
    "(X_train, y_train), (X_test, y_test) = tf.keras.datasets.mnist.load_data()"
   ]
  },
  {
   "cell_type": "code",
   "execution_count": 22,
   "metadata": {},
   "outputs": [],
   "source": [
    "import matplotlib.pyplot as plt"
   ]
  },
  {
   "cell_type": "code",
   "execution_count": 23,
   "metadata": {},
   "outputs": [
    {
     "data": {
      "text/plain": [
       "<matplotlib.image.AxesImage at 0x1b1ffb21cf8>"
      ]
     },
     "execution_count": 23,
     "metadata": {},
     "output_type": "execute_result"
    },
    {
     "data": {
      "image/png": "[encoded data removed]",
      "text/plain": [
       "<Figure size 432x288 with 1 Axes>"
      ]
     },
     "metadata": {
      "needs_background": "light"
     },
     "output_type": "display_data"
    }
   ],
   "source": [
    "plt.imshow(X_train[0], cmap=\"gray\")"
   ]
  },
  {
   "cell_type": "code",
   "execution_count": 4,
   "metadata": {},
   "outputs": [],
   "source": [
    "# 값을 0~1 사이로 바꾼다. (Min Max Scaling)\n",
    "X_train = X_train/255.\n",
    "X_test = X_test/255."
   ]
  },
  {
   "cell_type": "code",
   "execution_count": 5,
   "metadata": {},
   "outputs": [],
   "source": [
    "# 1차원으로 바꿔준다. (Flatten 대신)\n",
    "X_train = X_train.reshape(60000, 28*28)\n",
    "X_test = X_test.reshape(10000, -1)"
   ]
  },
  {
   "cell_type": "code",
   "execution_count": 6,
   "metadata": {},
   "outputs": [],
   "source": [
    "# 모델 만들기\n",
    "model = tf.keras.models.Sequential([\n",
    "    tf.keras.layers.Dense(64, input_shape=(28*28,), activation=\"relu\"), # 첫번째 레이어는 모양 맞추기\n",
    "    tf.keras.layers.Dense(64, activation=\"relu\"),                      \n",
    "    tf.keras.layers.Dense(10, activation=\"softmax\")                    # 마지막 레이어는 해결할 문제 종류에 따라서\n",
    "])"
   ]
  },
  {
   "cell_type": "code",
   "execution_count": 7,
   "metadata": {},
   "outputs": [],
   "source": [
    "# 학습 전략 세우기\n",
    "model.compile(loss=\"sparse_categorical_crossentropy\", optimizer=\"adam\", metrics=[\"acc\"])"
   ]
  },
  {
   "cell_type": "markdown",
   "metadata": {},
   "source": [
    "### 저장"
   ]
  },
  {
   "cell_type": "markdown",
   "metadata": {},
   "source": [
    "#### ModelCheckpoint"
   ]
  },
  {
   "cell_type": "markdown",
   "metadata": {},
   "source": [
    "epoch이 끝날 때마다 모델을 저장시키는 callback이다.  \n",
    "`Callback`을 상속 받아서 만들 필요 없이 미리 만들어져있는 callback이다."
   ]
  },
  {
   "cell_type": "code",
   "execution_count": 8,
   "metadata": {},
   "outputs": [],
   "source": [
    "from tensorflow.keras.callbacks import ModelCheckpoint"
   ]
  },
  {
   "cell_type": "code",
   "execution_count": 29,
   "metadata": {},
   "outputs": [],
   "source": [
    "import inspect"
   ]
  },
  {
   "cell_type": "markdown",
   "metadata": {},
   "source": [
    "epoch이 끝날 때마다 모델을 저장해놓는 기능이 미리 만들어져 있다. "
   ]
  },
  {
   "cell_type": "code",
   "execution_count": 30,
   "metadata": {},
   "outputs": [
    {
     "name": "stdout",
     "output_type": "stream",
     "text": [
      "  def on_epoch_end(self, epoch, logs=None):\n",
      "    self.epochs_since_last_save += 1\n",
      "    if self.save_freq == 'epoch':\n",
      "      if multi_worker_util.in_multi_worker_mode():\n",
      "        # Exclude training state variables in user-requested checkpoint file.\n",
      "        with self._training_state.untrack_vars():\n",
      "          self._save_model(epoch=epoch, logs=logs)\n",
      "      else:\n",
      "        self._save_model(epoch=epoch, logs=logs)\n",
      "    if multi_worker_util.in_multi_worker_mode():\n",
      "      # For multi-worker training, back up the weights and current training\n",
      "      # state for possible future recovery.\n",
      "      # TODO(rchao): Call `back_up` at finer period such as N steps.\n",
      "      self._training_state.back_up(epoch)\n",
      "\n"
     ]
    }
   ],
   "source": [
    "print(inspect.getsource(ModelCheckpoint.on_epoch_end))"
   ]
  },
  {
   "cell_type": "markdown",
   "metadata": {},
   "source": [
    "x 대신 아무 이름이나 붙여도 상관 없다. 모델이 저장될 folder path이다."
   ]
  },
  {
   "cell_type": "code",
   "execution_count": 31,
   "metadata": {},
   "outputs": [
    {
     "name": "stdout",
     "output_type": "stream",
     "text": [
      "Train on 60000 samples\n",
      "Epoch 1/5\n",
      "59296/60000 [============================>.] - ETA: 0s - loss: 0.2872 - acc: 0.9160"
     ]
    },
    {
     "name": "stderr",
     "output_type": "stream",
     "text": [
      "WARNING: Logging before flag parsing goes to stderr.\n",
      "W0408 16:32:45.887152 31724 deprecation.py:506] From C:\\Users\\JINHYO\\Anaconda3\\lib\\site-packages\\tensorflow_core\\python\\ops\\resource_variable_ops.py:1781: calling BaseResourceVariable.__init__ (from tensorflow.python.ops.resource_variable_ops) with constraint is deprecated and will be removed in a future version.\n",
      "Instructions for updating:\n",
      "If using Keras pass *_constraint arguments to layers.\n"
     ]
    },
    {
     "name": "stdout",
     "output_type": "stream",
     "text": [
      "60000/60000 [==============================] - 6s 93us/sample - loss: 0.2858 - acc: 0.9165\n",
      "Epoch 2/5\n",
      "60000/60000 [==============================] - 5s 83us/sample - loss: 0.1285 - acc: 0.9613\n",
      "Epoch 3/5\n",
      "60000/60000 [==============================] - 5s 82us/sample - loss: 0.0943 - acc: 0.9706\n",
      "Epoch 4/5\n",
      "60000/60000 [==============================] - 5s 82us/sample - loss: 0.0721 - acc: 0.9770\n",
      "Epoch 5/5\n",
      "60000/60000 [==============================] - 5s 81us/sample - loss: 0.0590 - acc: 0.9814\n"
     ]
    },
    {
     "data": {
      "text/plain": [
       "<tensorflow.python.keras.callbacks.History at 0x1b1800ed550>"
      ]
     },
     "execution_count": 31,
     "metadata": {},
     "output_type": "execute_result"
    }
   ],
   "source": [
    "model.fit(X_train, y_train, epochs=5, callbacks=[ModelCheckpoint(\"x\")])  "
   ]
  },
  {
   "cell_type": "markdown",
   "metadata": {},
   "source": [
    "학습을 하면 현재 작업 중인 파일의 디렉토리에 'x'라는 이름의 폴더가 생긴다.  \n",
    "해당 폴더를 확인해보면 모델이 저장되어 있다."
   ]
  },
  {
   "cell_type": "code",
   "execution_count": 32,
   "metadata": {},
   "outputs": [
    {
     "data": {
      "text/plain": [
       "['assets', 'saved_model.pb', 'variables']"
      ]
     },
     "execution_count": 32,
     "metadata": {},
     "output_type": "execute_result"
    }
   ],
   "source": [
    "import os \n",
    "os.listdir(\".\\\\x\")"
   ]
  },
  {
   "cell_type": "markdown",
   "metadata": {},
   "source": [
    "str.format 형식으로 filepath를 쓰면 epoch 별로 모델이 저장된다.  \n",
    "filepath를 formatting방식을 하지 않으면 마지막 모델만 저장된다. (매 epoch마다 덮어쓴다.)"
   ]
  },
  {
   "cell_type": "code",
   "execution_count": 33,
   "metadata": {
    "scrolled": false
   },
   "outputs": [
    {
     "name": "stdout",
     "output_type": "stream",
     "text": [
      "Train on 60000 samples\n",
      "Epoch 1/5\n",
      "60000/60000 [==============================] - 5s 79us/sample - loss: 0.0495 - acc: 0.9845\n",
      "Epoch 2/5\n",
      "60000/60000 [==============================] - 5s 82us/sample - loss: 0.0410 - acc: 0.9870\n",
      "Epoch 3/5\n",
      "60000/60000 [==============================] - 5s 78us/sample - loss: 0.0357 - acc: 0.9883\n",
      "Epoch 4/5\n",
      "60000/60000 [==============================] - 5s 76us/sample - loss: 0.0313 - acc: 0.9895\n",
      "Epoch 5/5\n",
      "60000/60000 [==============================] - 5s 79us/sample - loss: 0.0271 - acc: 0.9912\n"
     ]
    },
    {
     "data": {
      "text/plain": [
       "<tensorflow.python.keras.callbacks.History at 0x1b181721eb8>"
      ]
     },
     "execution_count": 33,
     "metadata": {},
     "output_type": "execute_result"
    }
   ],
   "source": [
    "model.fit(X_train, y_train, epochs=5, callbacks=[ModelCheckpoint(\"epoch\\\\{epoch:04d}\")]) "
   ]
  },
  {
   "cell_type": "markdown",
   "metadata": {},
   "source": [
    "epoch이라는 폴더 안에 epoch 번호별로 저장되었다."
   ]
  },
  {
   "cell_type": "code",
   "execution_count": 34,
   "metadata": {},
   "outputs": [
    {
     "data": {
      "text/plain": [
       "['0001', '0002', '0003', '0004', '0005']"
      ]
     },
     "execution_count": 34,
     "metadata": {},
     "output_type": "execute_result"
    }
   ],
   "source": [
    "os.listdir(\".\\\\epoch\")"
   ]
  },
  {
   "cell_type": "code",
   "execution_count": 35,
   "metadata": {},
   "outputs": [
    {
     "data": {
      "text/plain": [
       "['assets', 'saved_model.pb', 'variables']"
      ]
     },
     "execution_count": 35,
     "metadata": {},
     "output_type": "execute_result"
    }
   ],
   "source": [
    "os.listdir(\".\\\\epoch\\\\0001\")"
   ]
  },
  {
   "cell_type": "markdown",
   "metadata": {},
   "source": [
    "- 이름이 같으면 이전에 저장된 모델을 덮어쓴다.\n",
    "- 이름을 다르게 하면 epoch마다 저장할 수 있다.\n",
    "    - 이름 다르게 하는 것은 formating 활용\n",
    "- `ModelCheckpoint`는 기본적으로 파이썬 포맷으로만 저장이 되기 때문에 다른 언어에서 활용할 수가 없다.\n",
    "    - 그러나 뭐는 좋다? 중간중간 과정을 다 저장할 수 있기 때문에 좋다.\n",
    "- `save`로 저장하면 범용 포맷(hdf5)로 저장되기 때문에 다른 언어에서도 활용할 수 있다."
   ]
  },
  {
   "cell_type": "markdown",
   "metadata": {},
   "source": [
    "##### save_weights_only"
   ]
  },
  {
   "cell_type": "markdown",
   "metadata": {},
   "source": [
    "모델의 가중치만 저장하는 옵션도 있다."
   ]
  },
  {
   "cell_type": "code",
   "execution_count": 9,
   "metadata": {},
   "outputs": [
    {
     "name": "stdout",
     "output_type": "stream",
     "text": [
      "Train on 60000 samples\n",
      "Epoch 1/5\n",
      "59616/60000 [============================>.] - ETA: 0s - loss: 0.2702 - acc: 0.9223\n",
      "Epoch 00001: saving model to weights\\cp-0001.ckpt\n",
      "60000/60000 [==============================] - 5s 77us/sample - loss: 0.2691 - acc: 0.9226\n",
      "Epoch 2/5\n",
      "59232/60000 [============================>.] - ETA: 0s - loss: 0.1202 - acc: 0.9633\n",
      "Epoch 00002: saving model to weights\\cp-0002.ckpt\n",
      "60000/60000 [==============================] - 4s 67us/sample - loss: 0.1205 - acc: 0.9632\n",
      "Epoch 3/5\n",
      "59200/60000 [============================>.] - ETA: 0s - loss: 0.0908 - acc: 0.9722\n",
      "Epoch 00003: saving model to weights\\cp-0003.ckpt\n",
      "60000/60000 [==============================] - 4s 67us/sample - loss: 0.0904 - acc: 0.9723\n",
      "Epoch 4/5\n",
      "59712/60000 [============================>.] - ETA: 0s - loss: 0.0704 - acc: 0.9776\n",
      "Epoch 00004: saving model to weights\\cp-0004.ckpt\n",
      "60000/60000 [==============================] - 4s 67us/sample - loss: 0.0704 - acc: 0.9776\n",
      "Epoch 5/5\n",
      "59936/60000 [============================>.] - ETA: 0s - loss: 0.0586 - acc: 0.9814\n",
      "Epoch 00005: saving model to weights\\cp-0005.ckpt\n",
      "60000/60000 [==============================] - 4s 66us/sample - loss: 0.0586 - acc: 0.9814\n"
     ]
    },
    {
     "data": {
      "text/plain": [
       "<tensorflow.python.keras.callbacks.History at 0x274ef2d1cc0>"
      ]
     },
     "execution_count": 9,
     "metadata": {},
     "output_type": "execute_result"
    }
   ],
   "source": [
    "model.fit(X_train, y_train, epochs=5, \n",
    "          callbacks=[ModelCheckpoint(filepath=\"weights\\\\cp-{epoch:04d}.ckpt\", \n",
    "                                     verbose=1,                     # 말이 많은 정도를 의미한다. \n",
    "                                     save_weights_only=True)])      # 모델의 \"가중치\"만 저장한다."
   ]
  },
  {
   "cell_type": "code",
   "execution_count": 13,
   "metadata": {},
   "outputs": [
    {
     "data": {
      "text/plain": [
       "['checkpoint',\n",
       " 'cp-0001.ckpt.data-00000-of-00001',\n",
       " 'cp-0001.ckpt.index',\n",
       " 'cp-0002.ckpt.data-00000-of-00001',\n",
       " 'cp-0002.ckpt.index',\n",
       " 'cp-0003.ckpt.data-00000-of-00001',\n",
       " 'cp-0003.ckpt.index',\n",
       " 'cp-0004.ckpt.data-00000-of-00001',\n",
       " 'cp-0004.ckpt.index',\n",
       " 'cp-0005.ckpt.data-00000-of-00001',\n",
       " 'cp-0005.ckpt.index']"
      ]
     },
     "execution_count": 13,
     "metadata": {},
     "output_type": "execute_result"
    }
   ],
   "source": [
    "os.listdir(\".\\\\weights\")"
   ]
  },
  {
   "cell_type": "markdown",
   "metadata": {},
   "source": [
    "#### save"
   ]
  },
  {
   "cell_type": "markdown",
   "metadata": {},
   "source": [
    "전체 모델을 HDF5 파일로 저장한다.  \n",
    "범용적인 포맷이기 때문에 다른 언어에서도 사용할 수 있다.  \n",
    "`ModelCheckpoint`은 python pickling 방식으로 저장되기 때문에 python에서만 쓸 수 있는 차이가 있다."
   ]
  },
  {
   "cell_type": "code",
   "execution_count": 38,
   "metadata": {},
   "outputs": [],
   "source": [
    "model.save('my_model.h5')"
   ]
  },
  {
   "cell_type": "markdown",
   "metadata": {},
   "source": [
    "#### save_weights"
   ]
  },
  {
   "cell_type": "markdown",
   "metadata": {},
   "source": [
    "모델의 가중치만 저장한다.  \n",
    "`ModelCheckpoint`로 모델 저장할 때 `save_weights_only`옵션을 사용한 것과 같다.  "
   ]
  },
  {
   "cell_type": "code",
   "execution_count": 39,
   "metadata": {},
   "outputs": [],
   "source": [
    "# shift tab하면 HDF5가 눈에 거슬린다.\n",
    "model.save_weights('./checkpoints/my_checkpoint')"
   ]
  },
  {
   "cell_type": "markdown",
   "metadata": {},
   "source": [
    "### 로드"
   ]
  },
  {
   "cell_type": "markdown",
   "metadata": {},
   "source": [
    "#### load_model"
   ]
  },
  {
   "cell_type": "markdown",
   "metadata": {},
   "source": [
    "`save`로 저장한 모델 또는 `ModelCheckpoint`에서 저장한 모델을 로드할 때 사용한다.  \n",
    "가중치와 옵티마이저를 포함하여 정확히 동일한 모델을 다시 생성한다.  \n",
    "함수로 사용한다."
   ]
  },
  {
   "cell_type": "code",
   "execution_count": 40,
   "metadata": {},
   "outputs": [
    {
     "name": "stdout",
     "output_type": "stream",
     "text": [
      "Model: \"sequential\"\n",
      "_________________________________________________________________\n",
      "Layer (type)                 Output Shape              Param #   \n",
      "=================================================================\n",
      "dense_2 (Dense)              (None, 64)                50240     \n",
      "_________________________________________________________________\n",
      "dense_3 (Dense)              (None, 64)                4160      \n",
      "_________________________________________________________________\n",
      "dense_4 (Dense)              (None, 10)                650       \n",
      "=================================================================\n",
      "Total params: 55,050\n",
      "Trainable params: 55,050\n",
      "Non-trainable params: 0\n",
      "_________________________________________________________________\n"
     ]
    }
   ],
   "source": [
    "# save로 저장한 모델\n",
    "new_model = tf.keras.models.load_model('my_model.h5')\n",
    "new_model.summary()"
   ]
  },
  {
   "cell_type": "code",
   "execution_count": 41,
   "metadata": {},
   "outputs": [
    {
     "name": "stdout",
     "output_type": "stream",
     "text": [
      "Model: \"sequential\"\n",
      "_________________________________________________________________\n",
      "Layer (type)                 Output Shape              Param #   \n",
      "=================================================================\n",
      "dense_2 (Dense)              (None, 64)                50240     \n",
      "_________________________________________________________________\n",
      "dense_3 (Dense)              (None, 64)                4160      \n",
      "_________________________________________________________________\n",
      "dense_4 (Dense)              (None, 10)                650       \n",
      "=================================================================\n",
      "Total params: 55,050\n",
      "Trainable params: 55,050\n",
      "Non-trainable params: 0\n",
      "_________________________________________________________________\n"
     ]
    }
   ],
   "source": [
    "# ModelCheckpoint로 저장한 모델\n",
    "x_model = tf.keras.models.load_model('x')\n",
    "x_model.summary()"
   ]
  },
  {
   "cell_type": "markdown",
   "metadata": {},
   "source": [
    "#### load_weights"
   ]
  },
  {
   "cell_type": "markdown",
   "metadata": {},
   "source": [
    "`save_weights`로 저장한 가중치 또는 `ModelCheckpoint`에서 `save_weights_only`옵션을 사용한 가중치를 로드한다.  \n",
    "모델을 먼저 만들고 메소드로 사용한다.  \n",
    "모델의 구조와 가중치가 동일해야한다.  \n",
    "구조가 다르면 에러가 발생한다."
   ]
  },
  {
   "cell_type": "code",
   "execution_count": 42,
   "metadata": {},
   "outputs": [],
   "source": [
    "model2 = tf.keras.models.Sequential([\n",
    "    tf.keras.layers.Dense(64, input_shape=(28*28,), activation=\"relu\"),\n",
    "    tf.keras.layers.Dense(128, activation=\"relu\"), # 구조 다름 : 노드 수를 바꿈                     \n",
    "    tf.keras.layers.Dense(10, activation=\"softmax\")                    \n",
    "])"
   ]
  },
  {
   "cell_type": "code",
   "execution_count": null,
   "metadata": {},
   "outputs": [],
   "source": [
    "# Error\n",
    "model2.load_weights('./checkpoints/my_checkpoint')"
   ]
  },
  {
   "cell_type": "markdown",
   "metadata": {},
   "source": [
    "저장할 때의 모델과 구조가 동일해야 가중치를 불러올 수 있다."
   ]
  },
  {
   "cell_type": "code",
   "execution_count": 43,
   "metadata": {},
   "outputs": [],
   "source": [
    "model3 = tf.keras.models.Sequential([\n",
    "    tf.keras.layers.Dense(64, input_shape=(28*28,), activation=\"relu\"),\n",
    "    tf.keras.layers.Dense(64, activation=\"relu\"),                     \n",
    "    tf.keras.layers.Dense(10, activation=\"softmax\")                    \n",
    "])"
   ]
  },
  {
   "cell_type": "code",
   "execution_count": 44,
   "metadata": {},
   "outputs": [
    {
     "data": {
      "text/plain": [
       "<tensorflow.python.training.tracking.util.CheckpointLoadStatus at 0x1b1a19cd828>"
      ]
     },
     "execution_count": 44,
     "metadata": {},
     "output_type": "execute_result"
    }
   ],
   "source": [
    "# save_weights로 저장한 가중치\n",
    "model3.load_weights('./checkpoints/my_checkpoint')"
   ]
  },
  {
   "cell_type": "code",
   "execution_count": 45,
   "metadata": {},
   "outputs": [],
   "source": [
    "model4 = tf.keras.models.Sequential([\n",
    "    tf.keras.layers.Dense(64, input_shape=(28*28,), activation=\"relu\"),\n",
    "    tf.keras.layers.Dense(64, activation=\"relu\"),                     \n",
    "    tf.keras.layers.Dense(10, activation=\"softmax\")                    \n",
    "])"
   ]
  },
  {
   "cell_type": "code",
   "execution_count": 10,
   "metadata": {},
   "outputs": [
    {
     "data": {
      "text/plain": [
       "<tensorflow.python.training.tracking.util.CheckpointLoadStatus at 0x274ef7ceb00>"
      ]
     },
     "execution_count": 10,
     "metadata": {},
     "output_type": "execute_result"
    }
   ],
   "source": [
    "# ModelCheckpoint로 저장한 가중치\n",
    "model.load_weights(\"weights/cp-0005.ckpt\")"
   ]
  },
  {
   "cell_type": "markdown",
   "metadata": {},
   "source": [
    "### pickle 복습"
   ]
  },
  {
   "cell_type": "code",
   "execution_count": 113,
   "metadata": {},
   "outputs": [],
   "source": [
    "import pickle"
   ]
  },
  {
   "cell_type": "code",
   "execution_count": 114,
   "metadata": {},
   "outputs": [],
   "source": [
    "with open(\"test.x\", \"w\") as f:\n",
    "    f.write(\"asdfasdfasdfasdf\")"
   ]
  },
  {
   "cell_type": "code",
   "execution_count": 115,
   "metadata": {},
   "outputs": [],
   "source": [
    "di = {\"a\":1}"
   ]
  },
  {
   "cell_type": "code",
   "execution_count": null,
   "metadata": {},
   "outputs": [],
   "source": [
    "# Error\n",
    "# 저장은 문자열만 가능, 객체를 저장할 수 없다.\n",
    "with open(\"test.x\", \"w\") as f:\n",
    "    f.write(di)"
   ]
  },
  {
   "cell_type": "code",
   "execution_count": 120,
   "metadata": {},
   "outputs": [],
   "source": [
    "# pickle은 객체를 저장할 수 있다. \n",
    "# 다른 언어에서는 serialize라고도 부른다.\n",
    "with open(\"test.xy\", \"wb\") as f:\n",
    "    pickle.dump(di, f)"
   ]
  },
  {
   "cell_type": "code",
   "execution_count": 121,
   "metadata": {},
   "outputs": [],
   "source": [
    "with open(\"test.xy\", \"rb\") as f:\n",
    "    t = pickle.load(f)"
   ]
  },
  {
   "cell_type": "code",
   "execution_count": 122,
   "metadata": {},
   "outputs": [
    {
     "data": {
      "text/plain": [
       "{'a': 1}"
      ]
     },
     "execution_count": 122,
     "metadata": {},
     "output_type": "execute_result"
    }
   ],
   "source": [
    "t"
   ]
  },
  {
   "cell_type": "markdown",
   "metadata": {},
   "source": [
    "### HDF5"
   ]
  },
  {
   "cell_type": "markdown",
   "metadata": {},
   "source": [
    "- 계층적 데이터 형식(Hierachical Data Format)\n",
    "- 범용적으로 사용 가능하므로, 언어간 간극을 줄이는 역할을 한다. \n",
    "    - tensorflow는 안드로이드, java 등 다른 언어로도 존재한다. \n",
    "    - HDF5는 범용 포맷이므로 모델을 공유할 수 있다.\n",
    "- 구조가 다르면 못 불러들인다."
   ]
  },
  {
   "cell_type": "code",
   "execution_count": 123,
   "metadata": {},
   "outputs": [],
   "source": [
    "# h5라고도 쓴다. \n",
    "model.save_weights(\"x.h5\")"
   ]
  },
  {
   "cell_type": "markdown",
   "metadata": {},
   "source": [
    "hdf5는 파이썬 자체 포맷이 아니다.  \n",
    "이 애를 불러들이기 위해서는 새로운 모듈을 설치해야 한다."
   ]
  },
  {
   "cell_type": "code",
   "execution_count": null,
   "metadata": {},
   "outputs": [],
   "source": [
    "!pip install -q h5py ppyymal"
   ]
  },
  {
   "cell_type": "markdown",
   "metadata": {
    "heading_collapsed": true
   },
   "source": [
    "### 문자열 formatting"
   ]
  },
  {
   "cell_type": "markdown",
   "metadata": {
    "hidden": true
   },
   "source": [
    "문자열에는 `format`이란 메서드가 있다.  \n",
    "문자의 양식(format)을 미리 지정해놓고, 들어갈 값만 정하는 기능이다."
   ]
  },
  {
   "cell_type": "code",
   "execution_count": 113,
   "metadata": {
    "hidden": true
   },
   "outputs": [],
   "source": [
    "a = \"abc\""
   ]
  },
  {
   "cell_type": "code",
   "execution_count": 114,
   "metadata": {
    "hidden": true
   },
   "outputs": [
    {
     "data": {
      "text/plain": [
       "True"
      ]
     },
     "execution_count": 114,
     "metadata": {},
     "output_type": "execute_result"
    }
   ],
   "source": [
    "hasattr(a, \"format\")"
   ]
  },
  {
   "cell_type": "markdown",
   "metadata": {
    "hidden": true
   },
   "source": [
    "shift + tab을 눌러보면 문자열에서 중괄호{ }를 쓰라고 한다."
   ]
  },
  {
   "cell_type": "code",
   "execution_count": 104,
   "metadata": {
    "hidden": true
   },
   "outputs": [
    {
     "data": {
      "text/plain": [
       "'abc'"
      ]
     },
     "execution_count": 104,
     "metadata": {},
     "output_type": "execute_result"
    }
   ],
   "source": [
    "a.format()"
   ]
  },
  {
   "cell_type": "markdown",
   "metadata": {
    "hidden": true
   },
   "source": [
    "`format`은 중괄호인 부분을 인자로 주어진 값으로 대체해준다."
   ]
  },
  {
   "cell_type": "code",
   "execution_count": 105,
   "metadata": {
    "hidden": true
   },
   "outputs": [],
   "source": [
    "a = \"abc{t}\""
   ]
  },
  {
   "cell_type": "code",
   "execution_count": 106,
   "metadata": {
    "hidden": true
   },
   "outputs": [
    {
     "data": {
      "text/plain": [
       "'abc3'"
      ]
     },
     "execution_count": 106,
     "metadata": {},
     "output_type": "execute_result"
    }
   ],
   "source": [
    "a.format(t=3)"
   ]
  },
  {
   "cell_type": "markdown",
   "metadata": {
    "hidden": true
   },
   "source": [
    "python의 formatting은 3가지 방법이 있다.\n",
    "1. format 메서드\n",
    "2. % operator\n",
    "3. f-string"
   ]
  },
  {
   "cell_type": "markdown",
   "metadata": {
    "hidden": true
   },
   "source": [
    "#### str.format "
   ]
  },
  {
   "cell_type": "code",
   "execution_count": 119,
   "metadata": {
    "hidden": true
   },
   "outputs": [],
   "source": [
    "t = \"ffff{a}\""
   ]
  },
  {
   "cell_type": "code",
   "execution_count": 120,
   "metadata": {
    "hidden": true
   },
   "outputs": [
    {
     "data": {
      "text/plain": [
       "'ffff123'"
      ]
     },
     "execution_count": 120,
     "metadata": {},
     "output_type": "execute_result"
    }
   ],
   "source": [
    "t.format(a=123)"
   ]
  },
  {
   "cell_type": "markdown",
   "metadata": {
    "hidden": true
   },
   "source": [
    "key를 지정하지 않으면 순서대로 넣는다."
   ]
  },
  {
   "cell_type": "code",
   "execution_count": 133,
   "metadata": {
    "hidden": true
   },
   "outputs": [],
   "source": [
    "t = \"ffff{}{}\""
   ]
  },
  {
   "cell_type": "code",
   "execution_count": 134,
   "metadata": {
    "hidden": true
   },
   "outputs": [
    {
     "data": {
      "text/plain": [
       "'ffff12'"
      ]
     },
     "execution_count": 134,
     "metadata": {},
     "output_type": "execute_result"
    }
   ],
   "source": [
    "t.format(1, 2)"
   ]
  },
  {
   "cell_type": "markdown",
   "metadata": {
    "hidden": true
   },
   "source": [
    "#### % operator"
   ]
  },
  {
   "cell_type": "code",
   "execution_count": 127,
   "metadata": {
    "hidden": true
   },
   "outputs": [],
   "source": [
    "t = \"ffff%i\" % 123"
   ]
  },
  {
   "cell_type": "code",
   "execution_count": 128,
   "metadata": {
    "hidden": true
   },
   "outputs": [
    {
     "data": {
      "text/plain": [
       "'ffff123'"
      ]
     },
     "execution_count": 128,
     "metadata": {},
     "output_type": "execute_result"
    }
   ],
   "source": [
    "t"
   ]
  },
  {
   "cell_type": "markdown",
   "metadata": {
    "hidden": true
   },
   "source": [
    "집어넣을 값의 타입을 알려줘야 한다.  \n",
    "%i는 숫자형, %f는 소수형, %s는 문자열이다."
   ]
  },
  {
   "cell_type": "code",
   "execution_count": 129,
   "metadata": {
    "hidden": true
   },
   "outputs": [],
   "source": [
    "t = \"ffff%s\" % \"hello\""
   ]
  },
  {
   "cell_type": "code",
   "execution_count": 130,
   "metadata": {
    "hidden": true
   },
   "outputs": [
    {
     "data": {
      "text/plain": [
       "'ffffhello'"
      ]
     },
     "execution_count": 130,
     "metadata": {},
     "output_type": "execute_result"
    }
   ],
   "source": [
    "t"
   ]
  },
  {
   "cell_type": "code",
   "execution_count": 131,
   "metadata": {
    "hidden": true
   },
   "outputs": [],
   "source": [
    "t = \"ffff%f\" % 0.123"
   ]
  },
  {
   "cell_type": "code",
   "execution_count": 132,
   "metadata": {
    "hidden": true
   },
   "outputs": [
    {
     "data": {
      "text/plain": [
       "'ffff0.123000'"
      ]
     },
     "execution_count": 132,
     "metadata": {},
     "output_type": "execute_result"
    }
   ],
   "source": [
    "t"
   ]
  },
  {
   "cell_type": "markdown",
   "metadata": {
    "hidden": true
   },
   "source": [
    "#### f string"
   ]
  },
  {
   "cell_type": "markdown",
   "metadata": {
    "hidden": true
   },
   "source": [
    "문자열 앞에 f를 붙이면 괄호 안에 바로 객체를 쓸 수 있다.  \n",
    "python3 이후부터 사용 가능하다."
   ]
  },
  {
   "cell_type": "code",
   "execution_count": 115,
   "metadata": {
    "hidden": true
   },
   "outputs": [],
   "source": [
    "a = 123\n",
    "t = f\"ffff{a}\""
   ]
  },
  {
   "cell_type": "code",
   "execution_count": 116,
   "metadata": {
    "hidden": true
   },
   "outputs": [
    {
     "data": {
      "text/plain": [
       "'ffff123'"
      ]
     },
     "execution_count": 116,
     "metadata": {},
     "output_type": "execute_result"
    }
   ],
   "source": [
    "t"
   ]
  },
  {
   "cell_type": "markdown",
   "metadata": {
    "hidden": true
   },
   "source": [
    "함수도 넣을 수 있다."
   ]
  },
  {
   "cell_type": "code",
   "execution_count": 105,
   "metadata": {
    "hidden": true
   },
   "outputs": [],
   "source": [
    "def s():\n",
    "    pass"
   ]
  },
  {
   "cell_type": "code",
   "execution_count": 109,
   "metadata": {
    "hidden": true
   },
   "outputs": [],
   "source": [
    "t = f\"ffff{s}\""
   ]
  },
  {
   "cell_type": "code",
   "execution_count": 111,
   "metadata": {
    "hidden": true
   },
   "outputs": [
    {
     "data": {
      "text/plain": [
       "'ffff<function s at 0x000001F6D30DE158>'"
      ]
     },
     "execution_count": 111,
     "metadata": {},
     "output_type": "execute_result"
    }
   ],
   "source": [
    "t"
   ]
  },
  {
   "cell_type": "markdown",
   "metadata": {},
   "source": [
    "## Tensorflow tutorials : [Save and serialize models with Keras](https://www.tensorflow.org/guide/keras/save_and_serialize?hl=ko)"
   ]
  },
  {
   "cell_type": "markdown",
   "metadata": {},
   "source": [
    "이번 수업은 tensorflow 공식 tutorial : [Save and serialize models with Keras](https://www.tensorflow.org/guide/keras/save_and_serialize?hl=ko) 을 참조하였습니다."
   ]
  },
  {
   "cell_type": "code",
   "execution_count": 1,
   "metadata": {},
   "outputs": [],
   "source": [
    "import tensorflow as tf"
   ]
  },
  {
   "cell_type": "code",
   "execution_count": 4,
   "metadata": {},
   "outputs": [],
   "source": [
    "(x_train, y_train), (x_test, y_test) = tf.keras.datasets.mnist.load_data()"
   ]
  },
  {
   "cell_type": "code",
   "execution_count": 5,
   "metadata": {},
   "outputs": [],
   "source": [
    "x_train = x_train.reshape(-1, 28*28)\n",
    "x_test = x_test.reshape(-1, 28*28)"
   ]
  },
  {
   "cell_type": "code",
   "execution_count": 6,
   "metadata": {},
   "outputs": [],
   "source": [
    "inp = tf.keras.layers.Input(shape=(28*28,))"
   ]
  },
  {
   "cell_type": "code",
   "execution_count": 7,
   "metadata": {},
   "outputs": [],
   "source": [
    "layer1 = tf.keras.layers.Dense(64, activation=\"relu\")(inp)"
   ]
  },
  {
   "cell_type": "code",
   "execution_count": 8,
   "metadata": {},
   "outputs": [],
   "source": [
    "output = tf.keras.layers.Dense(10, activation=\"softmax\")(layer1)"
   ]
  },
  {
   "cell_type": "code",
   "execution_count": 9,
   "metadata": {},
   "outputs": [],
   "source": [
    "# functional API\n",
    "# Sequential은 multi-input, multi-out 못 만든다. \n",
    "# Model을 상속하면 못 만드는 모델 없다. \n",
    "model = tf.keras.models.Model(inp, output)"
   ]
  },
  {
   "cell_type": "code",
   "execution_count": 10,
   "metadata": {},
   "outputs": [],
   "source": [
    "model.compile(loss=tf.keras.losses.SparseCategoricalCrossentropy(from_logits=True),\n",
    "              optimizer=tf.keras.optimizers.RMSprop())"
   ]
  },
  {
   "cell_type": "code",
   "execution_count": null,
   "metadata": {},
   "outputs": [],
   "source": [
    "tf.keras.callbacks.ModelCheckpoint"
   ]
  },
  {
   "cell_type": "code",
   "execution_count": null,
   "metadata": {},
   "outputs": [],
   "source": [
    "model.save"
   ]
  },
  {
   "cell_type": "code",
   "execution_count": 13,
   "metadata": {},
   "outputs": [
    {
     "name": "stdout",
     "output_type": "stream",
     "text": [
      "Train on 60000 samples\n",
      "60000/60000 [==============================] - 3s 49us/sample - loss: 2.1383\n"
     ]
    }
   ],
   "source": [
    "history = model.fit(x_train, y_train,\n",
    "                    batch_size=64,\n",
    "                    epochs=1)"
   ]
  },
  {
   "cell_type": "code",
   "execution_count": 14,
   "metadata": {},
   "outputs": [],
   "source": [
    "# save는 범용으로 저장한다.\n",
    "# 범용이지만 python 자체에서는 바로 못 읽는다. h5py를 설치해야한다.\n",
    "# keras 자체적으로는 내부적으로 읽을 수 있지만, 내가 직접 보려면 h5py를 필요로한다.\n",
    "\n",
    "model.save('path_to_my_model.h5')"
   ]
  },
  {
   "cell_type": "code",
   "execution_count": 15,
   "metadata": {},
   "outputs": [],
   "source": [
    "# 요즘엔 기본적으로 설치되어 있다.\n",
    "import h5py"
   ]
  },
  {
   "cell_type": "code",
   "execution_count": 16,
   "metadata": {},
   "outputs": [],
   "source": [
    "import pandas as pd"
   ]
  },
  {
   "cell_type": "code",
   "execution_count": null,
   "metadata": {},
   "outputs": [],
   "source": [
    "# keras에서 저장한 거 pandas로 못 불러온다.\n",
    "# pandas는 직사각형에 넣을 수 있는 데이터만 불러올 수 있다. \n",
    "# keras는 hdf5는 hiearchical 구조로 저장되기 때문에 2차원으로 표현할 수 없다. 그래서 못 불러온다. \n",
    "pd.read_hdf('path_to_my_model.h5')"
   ]
  },
  {
   "cell_type": "code",
   "execution_count": 19,
   "metadata": {},
   "outputs": [],
   "source": [
    "# 저장하는건 save, 불러오는 건 load\n",
    "new_model = tf.keras.models.load_model('path_to_my_model.h5')"
   ]
  },
  {
   "cell_type": "code",
   "execution_count": 20,
   "metadata": {},
   "outputs": [
    {
     "name": "stdout",
     "output_type": "stream",
     "text": [
      "Model: \"model\"\n",
      "_________________________________________________________________\n",
      "Layer (type)                 Output Shape              Param #   \n",
      "=================================================================\n",
      "input_1 (InputLayer)         [(None, 784)]             0         \n",
      "_________________________________________________________________\n",
      "dense (Dense)                (None, 64)                50240     \n",
      "_________________________________________________________________\n",
      "dense_1 (Dense)              (None, 10)                650       \n",
      "=================================================================\n",
      "Total params: 50,890\n",
      "Trainable params: 50,890\n",
      "Non-trainable params: 0\n",
      "_________________________________________________________________\n"
     ]
    }
   ],
   "source": [
    "new_model.summary()"
   ]
  },
  {
   "cell_type": "markdown",
   "metadata": {},
   "source": [
    "numpy에서도 save, load로 저장 및 로드 가능했다. "
   ]
  },
  {
   "cell_type": "code",
   "execution_count": 134,
   "metadata": {},
   "outputs": [],
   "source": [
    "import numpy as np"
   ]
  },
  {
   "cell_type": "code",
   "execution_count": 139,
   "metadata": {},
   "outputs": [],
   "source": [
    "np.save(\"save.npy\", np.array([1,2,3]))"
   ]
  },
  {
   "cell_type": "code",
   "execution_count": 140,
   "metadata": {},
   "outputs": [
    {
     "data": {
      "text/plain": [
       "array([1, 2, 3])"
      ]
     },
     "execution_count": 140,
     "metadata": {},
     "output_type": "execute_result"
    }
   ],
   "source": [
    "np.load(\"save.npy\")"
   ]
  },
  {
   "cell_type": "markdown",
   "metadata": {},
   "source": [
    "## tpot"
   ]
  },
  {
   "cell_type": "markdown",
   "metadata": {},
   "source": [
    "**Auto ML**류의 라이브러리이다. \n",
    "\n",
    "유전자 알고리즘으로 최적화 조합을 찾아준다.  \n",
    "세대를 거쳐서 하이퍼 파라미터를 찾아준다."
   ]
  },
  {
   "cell_type": "code",
   "execution_count": null,
   "metadata": {},
   "outputs": [],
   "source": [
    "!pip install tpot"
   ]
  },
  {
   "cell_type": "code",
   "execution_count": 135,
   "metadata": {},
   "outputs": [],
   "source": [
    "# KerasClassifier, KerasRegressor와 비슷하다.\n",
    "from tpot import TPOTClassifier, TPOTRegressor"
   ]
  },
  {
   "cell_type": "code",
   "execution_count": 136,
   "metadata": {},
   "outputs": [],
   "source": [
    "from sklearn.datasets import load_iris"
   ]
  },
  {
   "cell_type": "code",
   "execution_count": 137,
   "metadata": {},
   "outputs": [],
   "source": [
    "# 간단한 실습을 위해서 세대 수를 줄였다.\n",
    "tpot = TPOTClassifier(generations=10, population_size=10) "
   ]
  },
  {
   "cell_type": "code",
   "execution_count": 138,
   "metadata": {},
   "outputs": [],
   "source": [
    "data = load_iris()"
   ]
  },
  {
   "cell_type": "code",
   "execution_count": 139,
   "metadata": {},
   "outputs": [
    {
     "data": {
      "text/plain": [
       "TPOTClassifier(config_dict=None, crossover_rate=0.1, cv=5,\n",
       "               disable_update_check=False, early_stop=None, generations=10,\n",
       "               max_eval_time_mins=5, max_time_mins=None, memory=None,\n",
       "               mutation_rate=0.9, n_jobs=1, offspring_size=None,\n",
       "               periodic_checkpoint_folder=None, population_size=10,\n",
       "               random_state=None, scoring=None, subsample=1.0, template=None,\n",
       "               use_dask=False, verbosity=0, warm_start=False)"
      ]
     },
     "execution_count": 139,
     "metadata": {},
     "output_type": "execute_result"
    }
   ],
   "source": [
    "tpot.fit(data.data, data.target)"
   ]
  },
  {
   "cell_type": "markdown",
   "metadata": {},
   "source": [
    "`export`하면 최적의 알고리즘과 함께 코드까지 만들어준다. "
   ]
  },
  {
   "cell_type": "code",
   "execution_count": 140,
   "metadata": {},
   "outputs": [],
   "source": [
    "tpot.export(\"test.py\")"
   ]
  },
  {
   "cell_type": "code",
   "execution_count": 142,
   "metadata": {},
   "outputs": [
    {
     "name": "stdout",
     "output_type": "stream",
     "text": [
      "import numpy as np\n",
      "import pandas as pd\n",
      "from sklearn.model_selection import train_test_split\n",
      "from sklearn.naive_bayes import MultinomialNB\n",
      "from sklearn.neighbors import KNeighborsClassifier\n",
      "from sklearn.pipeline import make_pipeline, make_union\n",
      "from tpot.builtins import StackingEstimator\n",
      "\n",
      "# NOTE: Make sure that the outcome column is labeled 'target' in the data file\n",
      "tpot_data = pd.read_csv('PATH/TO/DATA/FILE', sep='COLUMN_SEPARATOR', dtype=np.float64)\n",
      "features = tpot_data.drop('target', axis=1)\n",
      "training_features, testing_features, training_target, testing_target = \\\n",
      "            train_test_split(features, tpot_data['target'], random_state=None)\n",
      "\n",
      "# Average CV score on the training set was: 0.9866666666666667\n",
      "exported_pipeline = make_pipeline(\n",
      "    StackingEstimator(estimator=KNeighborsClassifier(n_neighbors=11, p=2, weights=\"distance\")),\n",
      "    MultinomialNB(alpha=10.0, fit_prior=False)\n",
      ")\n",
      "\n",
      "exported_pipeline.fit(training_features, training_target)\n",
      "results = exported_pipeline.predict(testing_features)\n",
      "\n"
     ]
    }
   ],
   "source": [
    "with open(\"test.py\", \"r\") as f:\n",
    "    print(f.read())"
   ]
  },
  {
   "cell_type": "markdown",
   "metadata": {},
   "source": [
    "**AutoML**\n",
    "- AutoML은 기본적인 전처리는 해주지만, data dependent한 전처리는 못한다.\n",
    "- AutoML에 관련된 연구는 많이 되고 있다.\n",
    "    - [autosklearn](https://automl.github.io/auto-sklearn/master/)\n",
    "    - [autokeras](https://autokeras.com/)\n",
    "- 아직까지는 사람이 전처리하는 성능을 못 따라오지만, 10년 이내에는 AutoML이 비개발자도 쉽게 모델 만들게 할 수 있을 것이라고 전망되고 있다.\n",
    "    - tensorflow에서도 클릭만으로 쉽게 모델 만들 수 있는 프레임워크를 개발 중이다.\n",
    "    - https://www.tensorflow.org/resources/tools?hl=ko"
   ]
  },
  {
   "cell_type": "code",
   "execution_count": null,
   "metadata": {},
   "outputs": [],
   "source": []
  }
 ],
 "metadata": {
  "kernelspec": {
   "display_name": "Python 3",
   "language": "python",
   "name": "python3"
  },
  "language_info": {
   "codemirror_mode": {
    "name": "ipython",
    "version": 3
   },
   "file_extension": ".py",
   "mimetype": "text/x-python",
   "name": "python",
   "nbconvert_exporter": "python",
   "pygments_lexer": "ipython3",
   "version": "3.7.3"
  },
  "toc": {
   "base_numbering": 1,
   "nav_menu": {},
   "number_sections": true,
   "sideBar": true,
   "skip_h1_title": true,
   "title_cell": "Table of Contents",
   "title_sidebar": "Contents",
   "toc_cell": true,
   "toc_position": {
    "height": "calc(100% - 180px)",
    "left": "10px",
    "top": "150px",
    "width": "307.2px"
   },
   "toc_section_display": true,
   "toc_window_display": true
  },
  "varInspector": {
   "cols": {
    "lenName": 16,
    "lenType": 16,
    "lenVar": 40
   },
   "kernels_config": {
    "python": {
     "delete_cmd_postfix": "",
     "delete_cmd_prefix": "del ",
     "library": "var_list.py",
     "varRefreshCmd": "print(var_dic_list())"
    },
    "r": {
     "delete_cmd_postfix": ") ",
     "delete_cmd_prefix": "rm(",
     "library": "var_list.r",
     "varRefreshCmd": "cat(var_dic_list()) "
    }
   },
   "types_to_exclude": [
    "module",
    "function",
    "builtin_function_or_method",
    "instance",
    "_Feature"
   ],
   "window_display": false
  }
 },
 "nbformat": 4,
 "nbformat_minor": 2
}
