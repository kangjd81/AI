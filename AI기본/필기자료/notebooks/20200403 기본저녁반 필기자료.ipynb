{
 "cells": [
  {
   "cell_type": "markdown",
   "metadata": {
    "toc": true
   },
   "source": [
    "<h1>Table of Contents<span class=\"tocSkip\"></span></h1>\n",
    "<div class=\"toc\"><ul class=\"toc-item\"><li><span><a href=\"#딥러닝\" data-toc-modified-id=\"딥러닝-1\"><span class=\"toc-item-num\">1&nbsp;&nbsp;</span>딥러닝</a></span></li><li><span><a href=\"#복습\" data-toc-modified-id=\"복습-2\"><span class=\"toc-item-num\">2&nbsp;&nbsp;</span>복습</a></span><ul class=\"toc-item\"><li><span><a href=\"#Tensorflow의-첫번째-tutorial-:-첫-번째-신경망-훈련하기:-기초적인-분류-문제\" data-toc-modified-id=\"Tensorflow의-첫번째-tutorial-:-첫-번째-신경망-훈련하기:-기초적인-분류-문제-2.1\"><span class=\"toc-item-num\">2.1&nbsp;&nbsp;</span>Tensorflow의 첫번째 tutorial : <a href=\"https://www.tensorflow.org/tutorials/keras/classification?hl=ko\" target=\"_blank\">첫 번째 신경망 훈련하기: 기초적인 분류 문제</a></a></span></li><li><span><a href=\"#Tensorflow의-두번째-tutorial-:-케라스와-텐서플로-허브를-사용한-영화-리뷰-텍스트-분류하기\" data-toc-modified-id=\"Tensorflow의-두번째-tutorial-:-케라스와-텐서플로-허브를-사용한-영화-리뷰-텍스트-분류하기-2.2\"><span class=\"toc-item-num\">2.2&nbsp;&nbsp;</span>Tensorflow의 두번째 tutorial : <a href=\"https://www.tensorflow.org/tutorials/keras/text_classification_with_hub?hl=ko\" target=\"_blank\">케라스와 텐서플로 허브를 사용한 영화 리뷰 텍스트 분류하기</a></a></span></li><li><span><a href=\"#Tensorflow의-세번째-tutorial-:-영화-리뷰를-사용한-텍스트-분류\" data-toc-modified-id=\"Tensorflow의-세번째-tutorial-:-영화-리뷰를-사용한-텍스트-분류-2.3\"><span class=\"toc-item-num\">2.3&nbsp;&nbsp;</span>Tensorflow의 세번째 tutorial : <a href=\"https://www.tensorflow.org/tutorials/keras/text_classification?hl=ko\" target=\"_blank\">영화 리뷰를 사용한 텍스트 분류</a></a></span></li></ul></li><li><span><a href=\"#Tensorflow의-네번째-tutorial-:-자동차-연비-예측하기:-회귀\" data-toc-modified-id=\"Tensorflow의-네번째-tutorial-:-자동차-연비-예측하기:-회귀-3\"><span class=\"toc-item-num\">3&nbsp;&nbsp;</span>Tensorflow의 네번째 tutorial : <a href=\"https://www.tensorflow.org/tutorials/keras/regression?hl=ko\" target=\"_blank\">자동차 연비 예측하기: 회귀</a></a></span><ul class=\"toc-item\"><li><span><a href=\"#데이터-구하기\" data-toc-modified-id=\"데이터-구하기-3.1\"><span class=\"toc-item-num\">3.1&nbsp;&nbsp;</span>데이터 구하기</a></span></li><li><span><a href=\"#데이터-정제하기,-데이터-조사하기\" data-toc-modified-id=\"데이터-정제하기,-데이터-조사하기-3.2\"><span class=\"toc-item-num\">3.2&nbsp;&nbsp;</span><a href=\"https://www.tensorflow.org/tutorials/keras/regression?hl=ko#%EB%8D%B0%EC%9D%B4%ED%84%B0_%EC%A0%95%EC%A0%9C%ED%95%98%EA%B8%B0\" target=\"_blank\">데이터 정제하기</a>, <a href=\"https://www.tensorflow.org/tutorials/keras/regression?hl=ko#%EB%8D%B0%EC%9D%B4%ED%84%B0_%EC%A1%B0%EC%82%AC%ED%95%98%EA%B8%B0\" target=\"_blank\">데이터 조사하기</a></a></span></li><li><span><a href=\"#데이터셋을-훈련-세트와-테스트-세트로-분할하기\" data-toc-modified-id=\"데이터셋을-훈련-세트와-테스트-세트로-분할하기-3.3\"><span class=\"toc-item-num\">3.3&nbsp;&nbsp;</span>데이터셋을 훈련 세트와 테스트 세트로 분할하기</a></span></li><li><span><a href=\"#특성과-레이블-분리하기\" data-toc-modified-id=\"특성과-레이블-분리하기-3.4\"><span class=\"toc-item-num\">3.4&nbsp;&nbsp;</span><a href=\"https://www.tensorflow.org/tutorials/keras/regression?hl=ko#%ED%8A%B9%EC%84%B1%EA%B3%BC_%EB%A0%88%EC%9D%B4%EB%B8%94_%EB%B6%84%EB%A6%AC%ED%95%98%EA%B8%B0\" target=\"_blank\">특성과 레이블 분리하기</a></a></span></li><li><span><a href=\"#모델-만들기\" data-toc-modified-id=\"모델-만들기-3.5\"><span class=\"toc-item-num\">3.5&nbsp;&nbsp;</span>모델 만들기</a></span></li><li><span><a href=\"#모델-훈련\" data-toc-modified-id=\"모델-훈련-3.6\"><span class=\"toc-item-num\">3.6&nbsp;&nbsp;</span><a href=\"https://www.tensorflow.org/tutorials/keras/regression?hl=ko#%EB%AA%A8%EB%8D%B8_%ED%9B%88%EB%A0%A8\" target=\"_blank\">모델 훈련</a></a></span></li></ul></li><li><span><a href=\"#callback\" data-toc-modified-id=\"callback-4\"><span class=\"toc-item-num\">4&nbsp;&nbsp;</span>callback</a></span><ul class=\"toc-item\"><li><span><a href=\"#Override\" data-toc-modified-id=\"Override-4.1\"><span class=\"toc-item-num\">4.1&nbsp;&nbsp;</span>Override</a></span></li><li><span><a href=\"#TensorBoard\" data-toc-modified-id=\"TensorBoard-4.2\"><span class=\"toc-item-num\">4.2&nbsp;&nbsp;</span>TensorBoard</a></span></li><li><span><a href=\"#EarlyStopping\" data-toc-modified-id=\"EarlyStopping-4.3\"><span class=\"toc-item-num\">4.3&nbsp;&nbsp;</span>EarlyStopping</a></span></li><li><span><a href=\"#history\" data-toc-modified-id=\"history-4.4\"><span class=\"toc-item-num\">4.4&nbsp;&nbsp;</span>history</a></span></li></ul></li><li><span><a href=\"#혼자서-공부하는-법\" data-toc-modified-id=\"혼자서-공부하는-법-5\"><span class=\"toc-item-num\">5&nbsp;&nbsp;</span>혼자서 공부하는 법</a></span><ul class=\"toc-item\"><li><span><a href=\"#구조-관찰\" data-toc-modified-id=\"구조-관찰-5.1\"><span class=\"toc-item-num\">5.1&nbsp;&nbsp;</span>구조 관찰</a></span></li><li><span><a href=\"#레이어-관찰\" data-toc-modified-id=\"레이어-관찰-5.2\"><span class=\"toc-item-num\">5.2&nbsp;&nbsp;</span>레이어 관찰</a></span></li><li><span><a href=\"#업데이트-관찰\" data-toc-modified-id=\"업데이트-관찰-5.3\"><span class=\"toc-item-num\">5.3&nbsp;&nbsp;</span>업데이트 관찰</a></span></li></ul></li></ul></div>"
   ]
  },
  {
   "cell_type": "markdown",
   "metadata": {},
   "source": [
    "\n",
    "# [AI 오픈 이노베이션] 기본 저녁반<a class=\"tocSkip\">\n",
    "GitHub link: [https://github.com/realblack0/ai_lecture_fundamental](https://github.com/realblack0/ai_lecture_fundamental)  \n",
    "E-Mail: realblack0@gmail.com"
   ]
  },
  {
   "cell_type": "markdown",
   "metadata": {
    "heading_collapsed": true
   },
   "source": [
    "## 딥러닝"
   ]
  },
  {
   "cell_type": "markdown",
   "metadata": {
    "hidden": true
   },
   "source": [
    "- 딥러닝은 *기계학습 알고리즘* 중 하나  \n",
    "    - **Neural Network** or **Multilayer Perceptron**  \n",
    "    - layer가 많은 애가 딥러닝\n",
    "- Structure: Feature + Machine Learning\n",
    "- Learning Strategy\n",
    "- Learning Result Improvement"
   ]
  },
  {
   "cell_type": "markdown",
   "metadata": {
    "hidden": true
   },
   "source": [
    "- Overfitting을 막는 방법:\n",
    "    1. bias & variance 확인 / cross_validation\n",
    "    2. Data\n",
    "    3. Feature Selection & Dimension Reduction\n",
    "    4. Ensemble\n",
    "    5. L1 / L2 Regularizer\n",
    "    6. Dropout"
   ]
  },
  {
   "cell_type": "markdown",
   "metadata": {
    "hidden": true
   },
   "source": [
    "- 딥러닝의 특징:\n",
    "    - 사람이 담당했던 전처리 영역(비정형 데이터)이었던 특징(feature) 관련된 부분을 기계가 학습을 통해서 찾는 것"
   ]
  },
  {
   "cell_type": "markdown",
   "metadata": {
    "heading_collapsed": true
   },
   "source": [
    "## 복습"
   ]
  },
  {
   "cell_type": "markdown",
   "metadata": {
    "hidden": true
   },
   "source": [
    "딥러닝이 좋아요? 머신러닝이 좋아요? (X)  \n",
    "머신러닝 안에 딥러닝이 있다. (O)"
   ]
  },
  {
   "cell_type": "markdown",
   "metadata": {
    "hidden": true
   },
   "source": [
    "케라스가 딥러닝 프레임워크이다. → 틀린 말은 아니다. 그러나 *뉴럴 네트워크에 치중한 머신러닝 프레임워크*가 더 정확한 표현이다."
   ]
  },
  {
   "cell_type": "markdown",
   "metadata": {
    "heading_collapsed": true,
    "hidden": true
   },
   "source": [
    "### Tensorflow의 첫번째 tutorial : [첫 번째 신경망 훈련하기: 기초적인 분류 문제](https://www.tensorflow.org/tutorials/keras/classification?hl=ko)"
   ]
  },
  {
   "cell_type": "markdown",
   "metadata": {
    "hidden": true
   },
   "source": [
    "지난시간에 공부했던 내용은 딥러닝이라고 할 수 없다.  \n",
    "Layer가 Deep하지 않았기 떄문이다. 우리는 이제껏 딥러닝이 아니라 머신러닝을 한 것이다.  \n",
    "공식 홈페이지에서도 이 튜토리얼은 **케라스 레이어를 이용한 ML 기본사항** 섹션에 있다. 구글에서도 머신러닝 기본이라고 소개하고 있다."
   ]
  },
  {
   "cell_type": "markdown",
   "metadata": {
    "heading_collapsed": true,
    "hidden": true
   },
   "source": [
    "### Tensorflow의 두번째 tutorial : [케라스와 텐서플로 허브를 사용한 영화 리뷰 텍스트 분류하기](https://www.tensorflow.org/tutorials/keras/text_classification_with_hub?hl=ko)"
   ]
  },
  {
   "cell_type": "markdown",
   "metadata": {
    "hidden": true
   },
   "source": [
    "Transfer Learning은 핫한 기법이다.  \n",
    "남이 잘 만들어 놓은 모델을 가져다 쓰면 학습도 잘 되고 성능이 좋다.  \n",
    "개인이 빅데이터를 수집할 수도 없고, 개인 PC로 학습하면 몇년 걸리는데, tensorflow_hub를 이용하면 대기업이 빅데이터를 슈퍼컴퓨터로 학습시킨 모델 쉽게 사용할 수 있다.  \n",
    "구글에서 핫한 기능도 지원하는 것을 자랑하려고 tutorial 앞쪽에 넣어두었다.  "
   ]
  },
  {
   "cell_type": "markdown",
   "metadata": {
    "heading_collapsed": true,
    "hidden": true
   },
   "source": [
    "### Tensorflow의 세번째 tutorial : [영화 리뷰를 사용한 텍스트 분류](https://www.tensorflow.org/tutorials/keras/text_classification?hl=ko)"
   ]
  },
  {
   "cell_type": "markdown",
   "metadata": {
    "hidden": true
   },
   "source": [
    "딥러닝은 사람이 담당했던 전처리 영역(비정형 데이터)이었던 특징(feature) 관련된 부분을 기계가 학습을 통해서 찾는 것이다.  \n",
    "embedding layer는 자연어의 feature를 추출한다.  \n",
    "도메인(CV, NLP, Voice)별로 feature를 추출하는 기법이 있다."
   ]
  },
  {
   "cell_type": "markdown",
   "metadata": {},
   "source": [
    "## Tensorflow의 네번째 tutorial : [자동차 연비 예측하기: 회귀](https://www.tensorflow.org/tutorials/keras/regression?hl=ko)"
   ]
  },
  {
   "cell_type": "markdown",
   "metadata": {},
   "source": [
    "이번 수업은 tensorflow의 튜토리얼을 참조하였습니다."
   ]
  },
  {
   "cell_type": "markdown",
   "metadata": {},
   "source": [
    "### 데이터 구하기"
   ]
  },
  {
   "cell_type": "markdown",
   "metadata": {},
   "source": [
    "mpg 데이터를 seaborn에서 가져오는 방법을 배웠었다."
   ]
  },
  {
   "cell_type": "code",
   "execution_count": 1,
   "metadata": {},
   "outputs": [],
   "source": [
    "import seaborn as sns"
   ]
  },
  {
   "cell_type": "code",
   "execution_count": 2,
   "metadata": {},
   "outputs": [
    {
     "data": {
      "text/html": [
       "<div>\n",
       "<style scoped>\n",
       "    .dataframe tbody tr th:only-of-type {\n",
       "        vertical-align: middle;\n",
       "    }\n",
       "\n",
       "    .dataframe tbody tr th {\n",
       "        vertical-align: top;\n",
       "    }\n",
       "\n",
       "    .dataframe thead th {\n",
       "        text-align: right;\n",
       "    }\n",
       "</style>\n",
       "<table border=\"1\" class=\"dataframe\">\n",
       "  <thead>\n",
       "    <tr style=\"text-align: right;\">\n",
       "      <th></th>\n",
       "      <th>mpg</th>\n",
       "      <th>cylinders</th>\n",
       "      <th>displacement</th>\n",
       "      <th>horsepower</th>\n",
       "      <th>weight</th>\n",
       "      <th>acceleration</th>\n",
       "      <th>model_year</th>\n",
       "      <th>origin</th>\n",
       "      <th>name</th>\n",
       "    </tr>\n",
       "  </thead>\n",
       "  <tbody>\n",
       "    <tr>\n",
       "      <th>0</th>\n",
       "      <td>18.0</td>\n",
       "      <td>8</td>\n",
       "      <td>307.0</td>\n",
       "      <td>130.0</td>\n",
       "      <td>3504</td>\n",
       "      <td>12.0</td>\n",
       "      <td>70</td>\n",
       "      <td>usa</td>\n",
       "      <td>chevrolet chevelle malibu</td>\n",
       "    </tr>\n",
       "    <tr>\n",
       "      <th>1</th>\n",
       "      <td>15.0</td>\n",
       "      <td>8</td>\n",
       "      <td>350.0</td>\n",
       "      <td>165.0</td>\n",
       "      <td>3693</td>\n",
       "      <td>11.5</td>\n",
       "      <td>70</td>\n",
       "      <td>usa</td>\n",
       "      <td>buick skylark 320</td>\n",
       "    </tr>\n",
       "    <tr>\n",
       "      <th>2</th>\n",
       "      <td>18.0</td>\n",
       "      <td>8</td>\n",
       "      <td>318.0</td>\n",
       "      <td>150.0</td>\n",
       "      <td>3436</td>\n",
       "      <td>11.0</td>\n",
       "      <td>70</td>\n",
       "      <td>usa</td>\n",
       "      <td>plymouth satellite</td>\n",
       "    </tr>\n",
       "    <tr>\n",
       "      <th>3</th>\n",
       "      <td>16.0</td>\n",
       "      <td>8</td>\n",
       "      <td>304.0</td>\n",
       "      <td>150.0</td>\n",
       "      <td>3433</td>\n",
       "      <td>12.0</td>\n",
       "      <td>70</td>\n",
       "      <td>usa</td>\n",
       "      <td>amc rebel sst</td>\n",
       "    </tr>\n",
       "    <tr>\n",
       "      <th>4</th>\n",
       "      <td>17.0</td>\n",
       "      <td>8</td>\n",
       "      <td>302.0</td>\n",
       "      <td>140.0</td>\n",
       "      <td>3449</td>\n",
       "      <td>10.5</td>\n",
       "      <td>70</td>\n",
       "      <td>usa</td>\n",
       "      <td>ford torino</td>\n",
       "    </tr>\n",
       "    <tr>\n",
       "      <th>...</th>\n",
       "      <td>...</td>\n",
       "      <td>...</td>\n",
       "      <td>...</td>\n",
       "      <td>...</td>\n",
       "      <td>...</td>\n",
       "      <td>...</td>\n",
       "      <td>...</td>\n",
       "      <td>...</td>\n",
       "      <td>...</td>\n",
       "    </tr>\n",
       "    <tr>\n",
       "      <th>393</th>\n",
       "      <td>27.0</td>\n",
       "      <td>4</td>\n",
       "      <td>140.0</td>\n",
       "      <td>86.0</td>\n",
       "      <td>2790</td>\n",
       "      <td>15.6</td>\n",
       "      <td>82</td>\n",
       "      <td>usa</td>\n",
       "      <td>ford mustang gl</td>\n",
       "    </tr>\n",
       "    <tr>\n",
       "      <th>394</th>\n",
       "      <td>44.0</td>\n",
       "      <td>4</td>\n",
       "      <td>97.0</td>\n",
       "      <td>52.0</td>\n",
       "      <td>2130</td>\n",
       "      <td>24.6</td>\n",
       "      <td>82</td>\n",
       "      <td>europe</td>\n",
       "      <td>vw pickup</td>\n",
       "    </tr>\n",
       "    <tr>\n",
       "      <th>395</th>\n",
       "      <td>32.0</td>\n",
       "      <td>4</td>\n",
       "      <td>135.0</td>\n",
       "      <td>84.0</td>\n",
       "      <td>2295</td>\n",
       "      <td>11.6</td>\n",
       "      <td>82</td>\n",
       "      <td>usa</td>\n",
       "      <td>dodge rampage</td>\n",
       "    </tr>\n",
       "    <tr>\n",
       "      <th>396</th>\n",
       "      <td>28.0</td>\n",
       "      <td>4</td>\n",
       "      <td>120.0</td>\n",
       "      <td>79.0</td>\n",
       "      <td>2625</td>\n",
       "      <td>18.6</td>\n",
       "      <td>82</td>\n",
       "      <td>usa</td>\n",
       "      <td>ford ranger</td>\n",
       "    </tr>\n",
       "    <tr>\n",
       "      <th>397</th>\n",
       "      <td>31.0</td>\n",
       "      <td>4</td>\n",
       "      <td>119.0</td>\n",
       "      <td>82.0</td>\n",
       "      <td>2720</td>\n",
       "      <td>19.4</td>\n",
       "      <td>82</td>\n",
       "      <td>usa</td>\n",
       "      <td>chevy s-10</td>\n",
       "    </tr>\n",
       "  </tbody>\n",
       "</table>\n",
       "<p>398 rows × 9 columns</p>\n",
       "</div>"
      ],
      "text/plain": [
       "      mpg  cylinders  displacement  horsepower  weight  acceleration  \\\n",
       "0    18.0          8         307.0       130.0    3504          12.0   \n",
       "1    15.0          8         350.0       165.0    3693          11.5   \n",
       "2    18.0          8         318.0       150.0    3436          11.0   \n",
       "3    16.0          8         304.0       150.0    3433          12.0   \n",
       "4    17.0          8         302.0       140.0    3449          10.5   \n",
       "..    ...        ...           ...         ...     ...           ...   \n",
       "393  27.0          4         140.0        86.0    2790          15.6   \n",
       "394  44.0          4          97.0        52.0    2130          24.6   \n",
       "395  32.0          4         135.0        84.0    2295          11.6   \n",
       "396  28.0          4         120.0        79.0    2625          18.6   \n",
       "397  31.0          4         119.0        82.0    2720          19.4   \n",
       "\n",
       "     model_year  origin                       name  \n",
       "0            70     usa  chevrolet chevelle malibu  \n",
       "1            70     usa          buick skylark 320  \n",
       "2            70     usa         plymouth satellite  \n",
       "3            70     usa              amc rebel sst  \n",
       "4            70     usa                ford torino  \n",
       "..          ...     ...                        ...  \n",
       "393          82     usa            ford mustang gl  \n",
       "394          82  europe                  vw pickup  \n",
       "395          82     usa              dodge rampage  \n",
       "396          82     usa                ford ranger  \n",
       "397          82     usa                 chevy s-10  \n",
       "\n",
       "[398 rows x 9 columns]"
      ]
     },
     "execution_count": 2,
     "metadata": {},
     "output_type": "execute_result"
    }
   ],
   "source": [
    "sns.load_dataset(\"mpg\")"
   ]
  },
  {
   "cell_type": "markdown",
   "metadata": {},
   "source": [
    "pandas는 URL에서 바로 데이터 가져올 수 있는 것도 배웠었다.  \n",
    "uci 기계학습 데이터셋 저장소의 [mpg 데이터셋 주소](https://archive.ics.uci.edu/ml/machine-learning-databases/auto-mpg/)"
   ]
  },
  {
   "cell_type": "code",
   "execution_count": 3,
   "metadata": {},
   "outputs": [],
   "source": [
    "import pandas as pd"
   ]
  },
  {
   "cell_type": "code",
   "execution_count": null,
   "metadata": {},
   "outputs": [],
   "source": [
    "# SSLCertVerificationError\n",
    "data = pd.read_csv(\"https://archive.ics.uci.edu/ml/machine-learning-databases/auto-mpg/auto-mpg.data\")"
   ]
  },
  {
   "cell_type": "markdown",
   "metadata": {},
   "source": [
    "ssl 에러 고치는 꼼수: s 지우면 된다."
   ]
  },
  {
   "cell_type": "code",
   "execution_count": 4,
   "metadata": {},
   "outputs": [],
   "source": [
    "data = pd.read_csv(\"http://archive.ics.uci.edu/ml/machine-learning-databases/auto-mpg/auto-mpg.data\")"
   ]
  },
  {
   "cell_type": "code",
   "execution_count": 5,
   "metadata": {},
   "outputs": [
    {
     "data": {
      "text/html": [
       "<div>\n",
       "<style scoped>\n",
       "    .dataframe tbody tr th:only-of-type {\n",
       "        vertical-align: middle;\n",
       "    }\n",
       "\n",
       "    .dataframe tbody tr th {\n",
       "        vertical-align: top;\n",
       "    }\n",
       "\n",
       "    .dataframe thead th {\n",
       "        text-align: right;\n",
       "    }\n",
       "</style>\n",
       "<table border=\"1\" class=\"dataframe\">\n",
       "  <thead>\n",
       "    <tr style=\"text-align: right;\">\n",
       "      <th></th>\n",
       "      <th>18.0   8   307.0      130.0      3504.      12.0   70  1\\t\"chevrolet chevelle malibu\"</th>\n",
       "    </tr>\n",
       "  </thead>\n",
       "  <tbody>\n",
       "    <tr>\n",
       "      <th>0</th>\n",
       "      <td>15.0   8   350.0      165.0      3693.      11...</td>\n",
       "    </tr>\n",
       "    <tr>\n",
       "      <th>1</th>\n",
       "      <td>18.0   8   318.0      150.0      3436.      11...</td>\n",
       "    </tr>\n",
       "    <tr>\n",
       "      <th>2</th>\n",
       "      <td>16.0   8   304.0      150.0      3433.      12...</td>\n",
       "    </tr>\n",
       "    <tr>\n",
       "      <th>3</th>\n",
       "      <td>17.0   8   302.0      140.0      3449.      10...</td>\n",
       "    </tr>\n",
       "    <tr>\n",
       "      <th>4</th>\n",
       "      <td>15.0   8   429.0      198.0      4341.      10...</td>\n",
       "    </tr>\n",
       "    <tr>\n",
       "      <th>...</th>\n",
       "      <td>...</td>\n",
       "    </tr>\n",
       "    <tr>\n",
       "      <th>392</th>\n",
       "      <td>27.0   4   140.0      86.00      2790.      15...</td>\n",
       "    </tr>\n",
       "    <tr>\n",
       "      <th>393</th>\n",
       "      <td>44.0   4   97.00      52.00      2130.      24...</td>\n",
       "    </tr>\n",
       "    <tr>\n",
       "      <th>394</th>\n",
       "      <td>32.0   4   135.0      84.00      2295.      11...</td>\n",
       "    </tr>\n",
       "    <tr>\n",
       "      <th>395</th>\n",
       "      <td>28.0   4   120.0      79.00      2625.      18...</td>\n",
       "    </tr>\n",
       "    <tr>\n",
       "      <th>396</th>\n",
       "      <td>31.0   4   119.0      82.00      2720.      19...</td>\n",
       "    </tr>\n",
       "  </tbody>\n",
       "</table>\n",
       "<p>397 rows × 1 columns</p>\n",
       "</div>"
      ],
      "text/plain": [
       "    18.0   8   307.0      130.0      3504.      12.0   70  1\\t\"chevrolet chevelle malibu\"\n",
       "0    15.0   8   350.0      165.0      3693.      11...                                   \n",
       "1    18.0   8   318.0      150.0      3436.      11...                                   \n",
       "2    16.0   8   304.0      150.0      3433.      12...                                   \n",
       "3    17.0   8   302.0      140.0      3449.      10...                                   \n",
       "4    15.0   8   429.0      198.0      4341.      10...                                   \n",
       "..                                                 ...                                   \n",
       "392  27.0   4   140.0      86.00      2790.      15...                                   \n",
       "393  44.0   4   97.00      52.00      2130.      24...                                   \n",
       "394  32.0   4   135.0      84.00      2295.      11...                                   \n",
       "395  28.0   4   120.0      79.00      2625.      18...                                   \n",
       "396  31.0   4   119.0      82.00      2720.      19...                                   \n",
       "\n",
       "[397 rows x 1 columns]"
      ]
     },
     "execution_count": 5,
     "metadata": {},
     "output_type": "execute_result"
    }
   ],
   "source": [
    "data"
   ]
  },
  {
   "cell_type": "markdown",
   "metadata": {},
   "source": [
    "옵션을 이용해서 데이터를 올바른 모양으로 가져온다."
   ]
  },
  {
   "cell_type": "code",
   "execution_count": 6,
   "metadata": {},
   "outputs": [],
   "source": [
    "data = pd.read_csv(\"http://archive.ics.uci.edu/ml/machine-learning-databases/auto-mpg/auto-mpg.data\",\n",
    "                  sep=\" \",\n",
    "                  comment=\"\\t\",          # comment는 이 뒤에는 주석처리 하겠다는 뜻\n",
    "                  engine=\"python\",       # C 에러가 날 때\n",
    "                  skipinitialspace=True, # 얘는 name을 못 가져온다. 다른데서 전처리하고 가져와야함\n",
    "                  header=None)           # 첫번째 행이 column명이 되지 않도록"
   ]
  },
  {
   "cell_type": "code",
   "execution_count": 7,
   "metadata": {},
   "outputs": [
    {
     "data": {
      "text/html": [
       "<div>\n",
       "<style scoped>\n",
       "    .dataframe tbody tr th:only-of-type {\n",
       "        vertical-align: middle;\n",
       "    }\n",
       "\n",
       "    .dataframe tbody tr th {\n",
       "        vertical-align: top;\n",
       "    }\n",
       "\n",
       "    .dataframe thead th {\n",
       "        text-align: right;\n",
       "    }\n",
       "</style>\n",
       "<table border=\"1\" class=\"dataframe\">\n",
       "  <thead>\n",
       "    <tr style=\"text-align: right;\">\n",
       "      <th></th>\n",
       "      <th>0</th>\n",
       "      <th>1</th>\n",
       "      <th>2</th>\n",
       "      <th>3</th>\n",
       "      <th>4</th>\n",
       "      <th>5</th>\n",
       "      <th>6</th>\n",
       "      <th>7</th>\n",
       "    </tr>\n",
       "  </thead>\n",
       "  <tbody>\n",
       "    <tr>\n",
       "      <th>0</th>\n",
       "      <td>18.0</td>\n",
       "      <td>8</td>\n",
       "      <td>307.0</td>\n",
       "      <td>130.0</td>\n",
       "      <td>3504.0</td>\n",
       "      <td>12.0</td>\n",
       "      <td>70</td>\n",
       "      <td>1</td>\n",
       "    </tr>\n",
       "    <tr>\n",
       "      <th>1</th>\n",
       "      <td>15.0</td>\n",
       "      <td>8</td>\n",
       "      <td>350.0</td>\n",
       "      <td>165.0</td>\n",
       "      <td>3693.0</td>\n",
       "      <td>11.5</td>\n",
       "      <td>70</td>\n",
       "      <td>1</td>\n",
       "    </tr>\n",
       "    <tr>\n",
       "      <th>2</th>\n",
       "      <td>18.0</td>\n",
       "      <td>8</td>\n",
       "      <td>318.0</td>\n",
       "      <td>150.0</td>\n",
       "      <td>3436.0</td>\n",
       "      <td>11.0</td>\n",
       "      <td>70</td>\n",
       "      <td>1</td>\n",
       "    </tr>\n",
       "    <tr>\n",
       "      <th>3</th>\n",
       "      <td>16.0</td>\n",
       "      <td>8</td>\n",
       "      <td>304.0</td>\n",
       "      <td>150.0</td>\n",
       "      <td>3433.0</td>\n",
       "      <td>12.0</td>\n",
       "      <td>70</td>\n",
       "      <td>1</td>\n",
       "    </tr>\n",
       "    <tr>\n",
       "      <th>4</th>\n",
       "      <td>17.0</td>\n",
       "      <td>8</td>\n",
       "      <td>302.0</td>\n",
       "      <td>140.0</td>\n",
       "      <td>3449.0</td>\n",
       "      <td>10.5</td>\n",
       "      <td>70</td>\n",
       "      <td>1</td>\n",
       "    </tr>\n",
       "    <tr>\n",
       "      <th>...</th>\n",
       "      <td>...</td>\n",
       "      <td>...</td>\n",
       "      <td>...</td>\n",
       "      <td>...</td>\n",
       "      <td>...</td>\n",
       "      <td>...</td>\n",
       "      <td>...</td>\n",
       "      <td>...</td>\n",
       "    </tr>\n",
       "    <tr>\n",
       "      <th>393</th>\n",
       "      <td>27.0</td>\n",
       "      <td>4</td>\n",
       "      <td>140.0</td>\n",
       "      <td>86.00</td>\n",
       "      <td>2790.0</td>\n",
       "      <td>15.6</td>\n",
       "      <td>82</td>\n",
       "      <td>1</td>\n",
       "    </tr>\n",
       "    <tr>\n",
       "      <th>394</th>\n",
       "      <td>44.0</td>\n",
       "      <td>4</td>\n",
       "      <td>97.0</td>\n",
       "      <td>52.00</td>\n",
       "      <td>2130.0</td>\n",
       "      <td>24.6</td>\n",
       "      <td>82</td>\n",
       "      <td>2</td>\n",
       "    </tr>\n",
       "    <tr>\n",
       "      <th>395</th>\n",
       "      <td>32.0</td>\n",
       "      <td>4</td>\n",
       "      <td>135.0</td>\n",
       "      <td>84.00</td>\n",
       "      <td>2295.0</td>\n",
       "      <td>11.6</td>\n",
       "      <td>82</td>\n",
       "      <td>1</td>\n",
       "    </tr>\n",
       "    <tr>\n",
       "      <th>396</th>\n",
       "      <td>28.0</td>\n",
       "      <td>4</td>\n",
       "      <td>120.0</td>\n",
       "      <td>79.00</td>\n",
       "      <td>2625.0</td>\n",
       "      <td>18.6</td>\n",
       "      <td>82</td>\n",
       "      <td>1</td>\n",
       "    </tr>\n",
       "    <tr>\n",
       "      <th>397</th>\n",
       "      <td>31.0</td>\n",
       "      <td>4</td>\n",
       "      <td>119.0</td>\n",
       "      <td>82.00</td>\n",
       "      <td>2720.0</td>\n",
       "      <td>19.4</td>\n",
       "      <td>82</td>\n",
       "      <td>1</td>\n",
       "    </tr>\n",
       "  </tbody>\n",
       "</table>\n",
       "<p>398 rows × 8 columns</p>\n",
       "</div>"
      ],
      "text/plain": [
       "        0  1      2      3       4     5   6  7\n",
       "0    18.0  8  307.0  130.0  3504.0  12.0  70  1\n",
       "1    15.0  8  350.0  165.0  3693.0  11.5  70  1\n",
       "2    18.0  8  318.0  150.0  3436.0  11.0  70  1\n",
       "3    16.0  8  304.0  150.0  3433.0  12.0  70  1\n",
       "4    17.0  8  302.0  140.0  3449.0  10.5  70  1\n",
       "..    ... ..    ...    ...     ...   ...  .. ..\n",
       "393  27.0  4  140.0  86.00  2790.0  15.6  82  1\n",
       "394  44.0  4   97.0  52.00  2130.0  24.6  82  2\n",
       "395  32.0  4  135.0  84.00  2295.0  11.6  82  1\n",
       "396  28.0  4  120.0  79.00  2625.0  18.6  82  1\n",
       "397  31.0  4  119.0  82.00  2720.0  19.4  82  1\n",
       "\n",
       "[398 rows x 8 columns]"
      ]
     },
     "execution_count": 7,
     "metadata": {},
     "output_type": "execute_result"
    }
   ],
   "source": [
    "data"
   ]
  },
  {
   "cell_type": "markdown",
   "metadata": {},
   "source": [
    "`delim_whitespace`는 공백으로 구분되는 데이터를 로드할 때 유용하다."
   ]
  },
  {
   "cell_type": "code",
   "execution_count": 8,
   "metadata": {},
   "outputs": [],
   "source": [
    "data = pd.read_csv(\"http://archive.ics.uci.edu/ml/machine-learning-databases/auto-mpg/auto-mpg.data\", \n",
    "                   header=None,\n",
    "                   delim_whitespace=True)"
   ]
  },
  {
   "cell_type": "code",
   "execution_count": 9,
   "metadata": {},
   "outputs": [
    {
     "data": {
      "text/html": [
       "<div>\n",
       "<style scoped>\n",
       "    .dataframe tbody tr th:only-of-type {\n",
       "        vertical-align: middle;\n",
       "    }\n",
       "\n",
       "    .dataframe tbody tr th {\n",
       "        vertical-align: top;\n",
       "    }\n",
       "\n",
       "    .dataframe thead th {\n",
       "        text-align: right;\n",
       "    }\n",
       "</style>\n",
       "<table border=\"1\" class=\"dataframe\">\n",
       "  <thead>\n",
       "    <tr style=\"text-align: right;\">\n",
       "      <th></th>\n",
       "      <th>0</th>\n",
       "      <th>1</th>\n",
       "      <th>2</th>\n",
       "      <th>3</th>\n",
       "      <th>4</th>\n",
       "      <th>5</th>\n",
       "      <th>6</th>\n",
       "      <th>7</th>\n",
       "      <th>8</th>\n",
       "    </tr>\n",
       "  </thead>\n",
       "  <tbody>\n",
       "    <tr>\n",
       "      <th>0</th>\n",
       "      <td>18.0</td>\n",
       "      <td>8</td>\n",
       "      <td>307.0</td>\n",
       "      <td>130.0</td>\n",
       "      <td>3504.0</td>\n",
       "      <td>12.0</td>\n",
       "      <td>70</td>\n",
       "      <td>1</td>\n",
       "      <td>chevrolet chevelle malibu</td>\n",
       "    </tr>\n",
       "    <tr>\n",
       "      <th>1</th>\n",
       "      <td>15.0</td>\n",
       "      <td>8</td>\n",
       "      <td>350.0</td>\n",
       "      <td>165.0</td>\n",
       "      <td>3693.0</td>\n",
       "      <td>11.5</td>\n",
       "      <td>70</td>\n",
       "      <td>1</td>\n",
       "      <td>buick skylark 320</td>\n",
       "    </tr>\n",
       "    <tr>\n",
       "      <th>2</th>\n",
       "      <td>18.0</td>\n",
       "      <td>8</td>\n",
       "      <td>318.0</td>\n",
       "      <td>150.0</td>\n",
       "      <td>3436.0</td>\n",
       "      <td>11.0</td>\n",
       "      <td>70</td>\n",
       "      <td>1</td>\n",
       "      <td>plymouth satellite</td>\n",
       "    </tr>\n",
       "    <tr>\n",
       "      <th>3</th>\n",
       "      <td>16.0</td>\n",
       "      <td>8</td>\n",
       "      <td>304.0</td>\n",
       "      <td>150.0</td>\n",
       "      <td>3433.0</td>\n",
       "      <td>12.0</td>\n",
       "      <td>70</td>\n",
       "      <td>1</td>\n",
       "      <td>amc rebel sst</td>\n",
       "    </tr>\n",
       "    <tr>\n",
       "      <th>4</th>\n",
       "      <td>17.0</td>\n",
       "      <td>8</td>\n",
       "      <td>302.0</td>\n",
       "      <td>140.0</td>\n",
       "      <td>3449.0</td>\n",
       "      <td>10.5</td>\n",
       "      <td>70</td>\n",
       "      <td>1</td>\n",
       "      <td>ford torino</td>\n",
       "    </tr>\n",
       "    <tr>\n",
       "      <th>...</th>\n",
       "      <td>...</td>\n",
       "      <td>...</td>\n",
       "      <td>...</td>\n",
       "      <td>...</td>\n",
       "      <td>...</td>\n",
       "      <td>...</td>\n",
       "      <td>...</td>\n",
       "      <td>...</td>\n",
       "      <td>...</td>\n",
       "    </tr>\n",
       "    <tr>\n",
       "      <th>393</th>\n",
       "      <td>27.0</td>\n",
       "      <td>4</td>\n",
       "      <td>140.0</td>\n",
       "      <td>86.00</td>\n",
       "      <td>2790.0</td>\n",
       "      <td>15.6</td>\n",
       "      <td>82</td>\n",
       "      <td>1</td>\n",
       "      <td>ford mustang gl</td>\n",
       "    </tr>\n",
       "    <tr>\n",
       "      <th>394</th>\n",
       "      <td>44.0</td>\n",
       "      <td>4</td>\n",
       "      <td>97.0</td>\n",
       "      <td>52.00</td>\n",
       "      <td>2130.0</td>\n",
       "      <td>24.6</td>\n",
       "      <td>82</td>\n",
       "      <td>2</td>\n",
       "      <td>vw pickup</td>\n",
       "    </tr>\n",
       "    <tr>\n",
       "      <th>395</th>\n",
       "      <td>32.0</td>\n",
       "      <td>4</td>\n",
       "      <td>135.0</td>\n",
       "      <td>84.00</td>\n",
       "      <td>2295.0</td>\n",
       "      <td>11.6</td>\n",
       "      <td>82</td>\n",
       "      <td>1</td>\n",
       "      <td>dodge rampage</td>\n",
       "    </tr>\n",
       "    <tr>\n",
       "      <th>396</th>\n",
       "      <td>28.0</td>\n",
       "      <td>4</td>\n",
       "      <td>120.0</td>\n",
       "      <td>79.00</td>\n",
       "      <td>2625.0</td>\n",
       "      <td>18.6</td>\n",
       "      <td>82</td>\n",
       "      <td>1</td>\n",
       "      <td>ford ranger</td>\n",
       "    </tr>\n",
       "    <tr>\n",
       "      <th>397</th>\n",
       "      <td>31.0</td>\n",
       "      <td>4</td>\n",
       "      <td>119.0</td>\n",
       "      <td>82.00</td>\n",
       "      <td>2720.0</td>\n",
       "      <td>19.4</td>\n",
       "      <td>82</td>\n",
       "      <td>1</td>\n",
       "      <td>chevy s-10</td>\n",
       "    </tr>\n",
       "  </tbody>\n",
       "</table>\n",
       "<p>398 rows × 9 columns</p>\n",
       "</div>"
      ],
      "text/plain": [
       "        0  1      2      3       4     5   6  7                          8\n",
       "0    18.0  8  307.0  130.0  3504.0  12.0  70  1  chevrolet chevelle malibu\n",
       "1    15.0  8  350.0  165.0  3693.0  11.5  70  1          buick skylark 320\n",
       "2    18.0  8  318.0  150.0  3436.0  11.0  70  1         plymouth satellite\n",
       "3    16.0  8  304.0  150.0  3433.0  12.0  70  1              amc rebel sst\n",
       "4    17.0  8  302.0  140.0  3449.0  10.5  70  1                ford torino\n",
       "..    ... ..    ...    ...     ...   ...  .. ..                        ...\n",
       "393  27.0  4  140.0  86.00  2790.0  15.6  82  1            ford mustang gl\n",
       "394  44.0  4   97.0  52.00  2130.0  24.6  82  2                  vw pickup\n",
       "395  32.0  4  135.0  84.00  2295.0  11.6  82  1              dodge rampage\n",
       "396  28.0  4  120.0  79.00  2625.0  18.6  82  1                ford ranger\n",
       "397  31.0  4  119.0  82.00  2720.0  19.4  82  1                 chevy s-10\n",
       "\n",
       "[398 rows x 9 columns]"
      ]
     },
     "execution_count": 9,
     "metadata": {},
     "output_type": "execute_result"
    }
   ],
   "source": [
    "data"
   ]
  },
  {
   "cell_type": "markdown",
   "metadata": {},
   "source": [
    "모든 프레임워크의 tutorial은 자신들의 여러가지 기능을 익힐 수 있도록 구성되어 있다.  \n",
    "구글은 데이터 가져오는 기능도 있다는 것을 알려주려고 일부로 사용했다.  \n",
    "하지만 우리는 이 함수를 쓰지 않아도 pandas로 만드는 방법을 알고 있다.  \n",
    "데이터를 불러올 줄 아는 것이 모든 분석의 시작이다."
   ]
  },
  {
   "cell_type": "code",
   "execution_count": 10,
   "metadata": {},
   "outputs": [],
   "source": [
    "from tensorflow.keras.utils import get_file"
   ]
  },
  {
   "cell_type": "code",
   "execution_count": 25,
   "metadata": {},
   "outputs": [
    {
     "name": "stdout",
     "output_type": "stream",
     "text": [
      "Downloading data from http://archive.ics.uci.edu/ml/machine-learning-databases/auto-mpg/auto-mpg.data\n",
      "32768/30286 [================================] - 0s 5us/step\n"
     ]
    },
    {
     "data": {
      "text/plain": [
       "'C:\\\\Users\\\\JINHYO\\\\.keras\\\\datasets\\\\auto-mpg'"
      ]
     },
     "execution_count": 25,
     "metadata": {},
     "output_type": "execute_result"
    }
   ],
   "source": [
    "# 첫번째 인자는 name\n",
    "# 다운받은 데이터의 디렉토리를 return\n",
    "\n",
    "dataset_path = get_file(\"auto-mpg\", \"http://archive.ics.uci.edu/ml/machine-learning-databases/auto-mpg/auto-mpg.data\")\n",
    "dataset_path"
   ]
  },
  {
   "cell_type": "markdown",
   "metadata": {},
   "source": [
    "`get_file` 함수는 데이터를 다운로드 받는다. 이렇게 다운로드 받으면 캐시되어서 다음에 데이터 불러올 때는 빨리 로드할 수 있다.  \n",
    "pandas로 URL에서 데이터를 가져오는 기능은 매번 실행할 때마다 다운로드를 새로 실행한다.  \n",
    "빅데이터를 처리할 때는 pandas를 쓰는 것이 `get_file`보다 비효율적이다."
   ]
  },
  {
   "cell_type": "code",
   "execution_count": 12,
   "metadata": {},
   "outputs": [
    {
     "data": {
      "text/html": [
       "<div>\n",
       "<style scoped>\n",
       "    .dataframe tbody tr th:only-of-type {\n",
       "        vertical-align: middle;\n",
       "    }\n",
       "\n",
       "    .dataframe tbody tr th {\n",
       "        vertical-align: top;\n",
       "    }\n",
       "\n",
       "    .dataframe thead th {\n",
       "        text-align: right;\n",
       "    }\n",
       "</style>\n",
       "<table border=\"1\" class=\"dataframe\">\n",
       "  <thead>\n",
       "    <tr style=\"text-align: right;\">\n",
       "      <th></th>\n",
       "      <th>MPG</th>\n",
       "      <th>Cylinders</th>\n",
       "      <th>Displacement</th>\n",
       "      <th>Horsepower</th>\n",
       "      <th>Weight</th>\n",
       "      <th>Acceleration</th>\n",
       "      <th>Model Year</th>\n",
       "      <th>Origin</th>\n",
       "    </tr>\n",
       "  </thead>\n",
       "  <tbody>\n",
       "    <tr>\n",
       "      <th>393</th>\n",
       "      <td>27.0</td>\n",
       "      <td>4</td>\n",
       "      <td>140.0</td>\n",
       "      <td>86.0</td>\n",
       "      <td>2790.0</td>\n",
       "      <td>15.6</td>\n",
       "      <td>82</td>\n",
       "      <td>1</td>\n",
       "    </tr>\n",
       "    <tr>\n",
       "      <th>394</th>\n",
       "      <td>44.0</td>\n",
       "      <td>4</td>\n",
       "      <td>97.0</td>\n",
       "      <td>52.0</td>\n",
       "      <td>2130.0</td>\n",
       "      <td>24.6</td>\n",
       "      <td>82</td>\n",
       "      <td>2</td>\n",
       "    </tr>\n",
       "    <tr>\n",
       "      <th>395</th>\n",
       "      <td>32.0</td>\n",
       "      <td>4</td>\n",
       "      <td>135.0</td>\n",
       "      <td>84.0</td>\n",
       "      <td>2295.0</td>\n",
       "      <td>11.6</td>\n",
       "      <td>82</td>\n",
       "      <td>1</td>\n",
       "    </tr>\n",
       "    <tr>\n",
       "      <th>396</th>\n",
       "      <td>28.0</td>\n",
       "      <td>4</td>\n",
       "      <td>120.0</td>\n",
       "      <td>79.0</td>\n",
       "      <td>2625.0</td>\n",
       "      <td>18.6</td>\n",
       "      <td>82</td>\n",
       "      <td>1</td>\n",
       "    </tr>\n",
       "    <tr>\n",
       "      <th>397</th>\n",
       "      <td>31.0</td>\n",
       "      <td>4</td>\n",
       "      <td>119.0</td>\n",
       "      <td>82.0</td>\n",
       "      <td>2720.0</td>\n",
       "      <td>19.4</td>\n",
       "      <td>82</td>\n",
       "      <td>1</td>\n",
       "    </tr>\n",
       "  </tbody>\n",
       "</table>\n",
       "</div>"
      ],
      "text/plain": [
       "      MPG  Cylinders  Displacement  Horsepower  Weight  Acceleration  \\\n",
       "393  27.0          4         140.0        86.0  2790.0          15.6   \n",
       "394  44.0          4          97.0        52.0  2130.0          24.6   \n",
       "395  32.0          4         135.0        84.0  2295.0          11.6   \n",
       "396  28.0          4         120.0        79.0  2625.0          18.6   \n",
       "397  31.0          4         119.0        82.0  2720.0          19.4   \n",
       "\n",
       "     Model Year  Origin  \n",
       "393          82       1  \n",
       "394          82       2  \n",
       "395          82       1  \n",
       "396          82       1  \n",
       "397          82       1  "
      ]
     },
     "execution_count": 12,
     "metadata": {},
     "output_type": "execute_result"
    }
   ],
   "source": [
    "# 튜토리얼 코드\n",
    "\n",
    "column_names = ['MPG','Cylinders','Displacement','Horsepower','Weight',\n",
    "                'Acceleration', 'Model Year', 'Origin']\n",
    "raw_dataset = pd.read_csv(dataset_path, names=column_names,\n",
    "                      na_values = \"?\", comment='\\t',\n",
    "                      sep=\" \", skipinitialspace=True)\n",
    "\n",
    "dataset = raw_dataset.copy() # 데이터는 항상 원본 저장\n",
    "dataset.tail()"
   ]
  },
  {
   "cell_type": "markdown",
   "metadata": {
    "heading_collapsed": true
   },
   "source": [
    "### [데이터 정제하기](https://www.tensorflow.org/tutorials/keras/regression?hl=ko#%EB%8D%B0%EC%9D%B4%ED%84%B0_%EC%A0%95%EC%A0%9C%ED%95%98%EA%B8%B0), [데이터 조사하기](https://www.tensorflow.org/tutorials/keras/regression?hl=ko#%EB%8D%B0%EC%9D%B4%ED%84%B0_%EC%A1%B0%EC%82%AC%ED%95%98%EA%B8%B0)"
   ]
  },
  {
   "cell_type": "markdown",
   "metadata": {
    "hidden": true
   },
   "source": [
    "데이터 전처리, EDA, Visualization은 아주 중요하다.  \n",
    "우리는 딥러닝에 대해서 배우는 목적으로 tutorial을 살펴보는 것이므로 전처리 부분은 자세히 보지 않는다.  \n",
    "그동안 머신러닝 파트에서 많이 연습했기 때문에 생략하는 것일 뿐, 중요하지 않아서가 아니므로 오해하지 말자."
   ]
  },
  {
   "cell_type": "markdown",
   "metadata": {
    "hidden": true
   },
   "source": [
    "**tensorflow에서 missing data**  \n",
    "scikit-learn은 missing data 있으면 에러를 일으켰다.  \n",
    "tensorflow는 에러는 안나는데 학습이 안된다."
   ]
  },
  {
   "cell_type": "markdown",
   "metadata": {},
   "source": [
    "### 데이터셋을 훈련 세트와 테스트 세트로 분할하기"
   ]
  },
  {
   "cell_type": "markdown",
   "metadata": {},
   "source": [
    "이 튜토리얼은 4년 전에 나온 것인데, 그 때는 scikit-learn과 tensorflow는 경쟁상대였다.  \n",
    "구글 자존심상 공식 tutorial에 경쟁사의 기능(`train_test_split`)을 쓸 수 없기 때문에 `pop`을 이용해서 hold out하였다.  \n",
    "사람들이 왜 `train_test_split`이 편한데 안 쓰냐고 질문이 쇄도했다.  \n",
    "tensorflow 2버전부터는 이 튜토리얼 외의 공식문서에서 scikit-learn을 사용하기 시작했다."
   ]
  },
  {
   "cell_type": "code",
   "execution_count": 13,
   "metadata": {},
   "outputs": [],
   "source": [
    "# 튜토리얼 코드\n",
    "\n",
    "train_dataset = dataset.sample(frac=0.8, random_state=0)\n",
    "test_dataset = dataset.drop(train_dataset.index)"
   ]
  },
  {
   "cell_type": "markdown",
   "metadata": {},
   "source": [
    "복습: mutable의 결과 종류 3가지"
   ]
  },
  {
   "cell_type": "code",
   "execution_count": 14,
   "metadata": {},
   "outputs": [],
   "source": [
    "a = [1,2,3]"
   ]
  },
  {
   "cell_type": "code",
   "execution_count": 15,
   "metadata": {},
   "outputs": [],
   "source": [
    "# 자기 자신은 바뀌지만 return은 없는 경우\n",
    "a.append(4)"
   ]
  },
  {
   "cell_type": "code",
   "execution_count": 16,
   "metadata": {},
   "outputs": [
    {
     "data": {
      "text/plain": [
       "0"
      ]
     },
     "execution_count": 16,
     "metadata": {},
     "output_type": "execute_result"
    }
   ],
   "source": [
    "# 자기 자신은 그대로이고 return만 있는 경우\n",
    "a.index(1)"
   ]
  },
  {
   "cell_type": "code",
   "execution_count": 17,
   "metadata": {},
   "outputs": [],
   "source": [
    "# 자기 자신도 바뀌고 return도 있는 경우\n",
    "b = a.pop()"
   ]
  },
  {
   "cell_type": "code",
   "execution_count": 18,
   "metadata": {},
   "outputs": [
    {
     "data": {
      "text/plain": [
       "4"
      ]
     },
     "execution_count": 18,
     "metadata": {},
     "output_type": "execute_result"
    }
   ],
   "source": [
    "b"
   ]
  },
  {
   "cell_type": "code",
   "execution_count": 19,
   "metadata": {},
   "outputs": [
    {
     "data": {
      "text/plain": [
       "[1, 2, 3]"
      ]
     },
     "execution_count": 19,
     "metadata": {},
     "output_type": "execute_result"
    }
   ],
   "source": [
    "a"
   ]
  },
  {
   "cell_type": "code",
   "execution_count": 11,
   "metadata": {},
   "outputs": [
    {
     "data": {
      "text/html": [
       "<div>\n",
       "<style scoped>\n",
       "    .dataframe tbody tr th:only-of-type {\n",
       "        vertical-align: middle;\n",
       "    }\n",
       "\n",
       "    .dataframe tbody tr th {\n",
       "        vertical-align: top;\n",
       "    }\n",
       "\n",
       "    .dataframe thead th {\n",
       "        text-align: right;\n",
       "    }\n",
       "</style>\n",
       "<table border=\"1\" class=\"dataframe\">\n",
       "  <thead>\n",
       "    <tr style=\"text-align: right;\">\n",
       "      <th></th>\n",
       "      <th>0</th>\n",
       "      <th>1</th>\n",
       "      <th>2</th>\n",
       "      <th>3</th>\n",
       "      <th>4</th>\n",
       "      <th>5</th>\n",
       "      <th>6</th>\n",
       "      <th>7</th>\n",
       "      <th>8</th>\n",
       "    </tr>\n",
       "  </thead>\n",
       "  <tbody>\n",
       "    <tr>\n",
       "      <th>0</th>\n",
       "      <td>18.0</td>\n",
       "      <td>8</td>\n",
       "      <td>307.0</td>\n",
       "      <td>130.0</td>\n",
       "      <td>3504.0</td>\n",
       "      <td>12.0</td>\n",
       "      <td>70</td>\n",
       "      <td>1</td>\n",
       "      <td>chevrolet chevelle malibu</td>\n",
       "    </tr>\n",
       "    <tr>\n",
       "      <th>1</th>\n",
       "      <td>15.0</td>\n",
       "      <td>8</td>\n",
       "      <td>350.0</td>\n",
       "      <td>165.0</td>\n",
       "      <td>3693.0</td>\n",
       "      <td>11.5</td>\n",
       "      <td>70</td>\n",
       "      <td>1</td>\n",
       "      <td>buick skylark 320</td>\n",
       "    </tr>\n",
       "    <tr>\n",
       "      <th>2</th>\n",
       "      <td>18.0</td>\n",
       "      <td>8</td>\n",
       "      <td>318.0</td>\n",
       "      <td>150.0</td>\n",
       "      <td>3436.0</td>\n",
       "      <td>11.0</td>\n",
       "      <td>70</td>\n",
       "      <td>1</td>\n",
       "      <td>plymouth satellite</td>\n",
       "    </tr>\n",
       "    <tr>\n",
       "      <th>3</th>\n",
       "      <td>16.0</td>\n",
       "      <td>8</td>\n",
       "      <td>304.0</td>\n",
       "      <td>150.0</td>\n",
       "      <td>3433.0</td>\n",
       "      <td>12.0</td>\n",
       "      <td>70</td>\n",
       "      <td>1</td>\n",
       "      <td>amc rebel sst</td>\n",
       "    </tr>\n",
       "    <tr>\n",
       "      <th>4</th>\n",
       "      <td>17.0</td>\n",
       "      <td>8</td>\n",
       "      <td>302.0</td>\n",
       "      <td>140.0</td>\n",
       "      <td>3449.0</td>\n",
       "      <td>10.5</td>\n",
       "      <td>70</td>\n",
       "      <td>1</td>\n",
       "      <td>ford torino</td>\n",
       "    </tr>\n",
       "    <tr>\n",
       "      <th>...</th>\n",
       "      <td>...</td>\n",
       "      <td>...</td>\n",
       "      <td>...</td>\n",
       "      <td>...</td>\n",
       "      <td>...</td>\n",
       "      <td>...</td>\n",
       "      <td>...</td>\n",
       "      <td>...</td>\n",
       "      <td>...</td>\n",
       "    </tr>\n",
       "    <tr>\n",
       "      <th>393</th>\n",
       "      <td>27.0</td>\n",
       "      <td>4</td>\n",
       "      <td>140.0</td>\n",
       "      <td>86.00</td>\n",
       "      <td>2790.0</td>\n",
       "      <td>15.6</td>\n",
       "      <td>82</td>\n",
       "      <td>1</td>\n",
       "      <td>ford mustang gl</td>\n",
       "    </tr>\n",
       "    <tr>\n",
       "      <th>394</th>\n",
       "      <td>44.0</td>\n",
       "      <td>4</td>\n",
       "      <td>97.0</td>\n",
       "      <td>52.00</td>\n",
       "      <td>2130.0</td>\n",
       "      <td>24.6</td>\n",
       "      <td>82</td>\n",
       "      <td>2</td>\n",
       "      <td>vw pickup</td>\n",
       "    </tr>\n",
       "    <tr>\n",
       "      <th>395</th>\n",
       "      <td>32.0</td>\n",
       "      <td>4</td>\n",
       "      <td>135.0</td>\n",
       "      <td>84.00</td>\n",
       "      <td>2295.0</td>\n",
       "      <td>11.6</td>\n",
       "      <td>82</td>\n",
       "      <td>1</td>\n",
       "      <td>dodge rampage</td>\n",
       "    </tr>\n",
       "    <tr>\n",
       "      <th>396</th>\n",
       "      <td>28.0</td>\n",
       "      <td>4</td>\n",
       "      <td>120.0</td>\n",
       "      <td>79.00</td>\n",
       "      <td>2625.0</td>\n",
       "      <td>18.6</td>\n",
       "      <td>82</td>\n",
       "      <td>1</td>\n",
       "      <td>ford ranger</td>\n",
       "    </tr>\n",
       "    <tr>\n",
       "      <th>397</th>\n",
       "      <td>31.0</td>\n",
       "      <td>4</td>\n",
       "      <td>119.0</td>\n",
       "      <td>82.00</td>\n",
       "      <td>2720.0</td>\n",
       "      <td>19.4</td>\n",
       "      <td>82</td>\n",
       "      <td>1</td>\n",
       "      <td>chevy s-10</td>\n",
       "    </tr>\n",
       "  </tbody>\n",
       "</table>\n",
       "<p>398 rows × 9 columns</p>\n",
       "</div>"
      ],
      "text/plain": [
       "        0  1      2      3       4     5   6  7                          8\n",
       "0    18.0  8  307.0  130.0  3504.0  12.0  70  1  chevrolet chevelle malibu\n",
       "1    15.0  8  350.0  165.0  3693.0  11.5  70  1          buick skylark 320\n",
       "2    18.0  8  318.0  150.0  3436.0  11.0  70  1         plymouth satellite\n",
       "3    16.0  8  304.0  150.0  3433.0  12.0  70  1              amc rebel sst\n",
       "4    17.0  8  302.0  140.0  3449.0  10.5  70  1                ford torino\n",
       "..    ... ..    ...    ...     ...   ...  .. ..                        ...\n",
       "393  27.0  4  140.0  86.00  2790.0  15.6  82  1            ford mustang gl\n",
       "394  44.0  4   97.0  52.00  2130.0  24.6  82  2                  vw pickup\n",
       "395  32.0  4  135.0  84.00  2295.0  11.6  82  1              dodge rampage\n",
       "396  28.0  4  120.0  79.00  2625.0  18.6  82  1                ford ranger\n",
       "397  31.0  4  119.0  82.00  2720.0  19.4  82  1                 chevy s-10\n",
       "\n",
       "[398 rows x 9 columns]"
      ]
     },
     "execution_count": 11,
     "metadata": {},
     "output_type": "execute_result"
    }
   ],
   "source": [
    "# 직접 가져온 데이터로 학습\n",
    "data"
   ]
  },
  {
   "cell_type": "code",
   "execution_count": 13,
   "metadata": {},
   "outputs": [],
   "source": [
    "from sklearn.model_selection import train_test_split\n",
    "X_train, X_test, y_train, y_test = train_test_split(data.iloc[:, 1:-1], # targer과 name열 제외\n",
    "                                                    data.iloc[:, 0])    # target이 첫번째 열"
   ]
  },
  {
   "cell_type": "markdown",
   "metadata": {
    "heading_collapsed": true
   },
   "source": [
    "### [특성과 레이블 분리하기](https://www.tensorflow.org/tutorials/keras/regression?hl=ko#%ED%8A%B9%EC%84%B1%EA%B3%BC_%EB%A0%88%EC%9D%B4%EB%B8%94_%EB%B6%84%EB%A6%AC%ED%95%98%EA%B8%B0)"
   ]
  },
  {
   "cell_type": "markdown",
   "metadata": {
    "hidden": true
   },
   "source": [
    "또 `pop`을 사용했다."
   ]
  },
  {
   "cell_type": "code",
   "execution_count": 20,
   "metadata": {
    "hidden": true
   },
   "outputs": [],
   "source": [
    "# 튜토리얼 코드\n",
    "\n",
    "train_labels = train_dataset.pop('MPG')\n",
    "test_labels = test_dataset.pop('MPG')"
   ]
  },
  {
   "cell_type": "markdown",
   "metadata": {},
   "source": [
    "### 모델 만들기"
   ]
  },
  {
   "cell_type": "markdown",
   "metadata": {},
   "source": [
    "데이터가 작아서 딥러닝은 안 쓴다.   \n",
    "하지만 뉴럴 네트워크는 쓸 수 있다. "
   ]
  },
  {
   "cell_type": "code",
   "execution_count": 14,
   "metadata": {},
   "outputs": [],
   "source": [
    "from tensorflow.keras.models import Sequential, Model"
   ]
  },
  {
   "cell_type": "code",
   "execution_count": 15,
   "metadata": {},
   "outputs": [],
   "source": [
    "from tensorflow.keras.layers import Dense"
   ]
  },
  {
   "cell_type": "code",
   "execution_count": 16,
   "metadata": {},
   "outputs": [],
   "source": [
    "model = Sequential([\n",
    "    Dense(16, input_shape=(7,), activation=\"relu\"), \n",
    "    Dense(16, activation=\"relu\"),\n",
    "    Dense(1)\n",
    "])"
   ]
  },
  {
   "cell_type": "code",
   "execution_count": 17,
   "metadata": {},
   "outputs": [
    {
     "name": "stdout",
     "output_type": "stream",
     "text": [
      "Model: \"sequential\"\n",
      "_________________________________________________________________\n",
      "Layer (type)                 Output Shape              Param #   \n",
      "=================================================================\n",
      "dense (Dense)                (None, 16)                128       \n",
      "_________________________________________________________________\n",
      "dense_1 (Dense)              (None, 16)                272       \n",
      "_________________________________________________________________\n",
      "dense_2 (Dense)              (None, 1)                 17        \n",
      "=================================================================\n",
      "Total params: 417\n",
      "Trainable params: 417\n",
      "Non-trainable params: 0\n",
      "_________________________________________________________________\n"
     ]
    }
   ],
   "source": [
    "model.summary()"
   ]
  },
  {
   "cell_type": "markdown",
   "metadata": {},
   "source": [
    "분류 문제에서는 'categorical_crossentropy'를 썼다. 회귀 문제에서는 주로 'mse'를 쓴다.  \n",
    "mse는 Mean Squared Error(평균제곱오차)의 약자이다."
   ]
  },
  {
   "cell_type": "code",
   "execution_count": 18,
   "metadata": {},
   "outputs": [],
   "source": [
    "model.compile(loss=\"mse\", optimizer=\"adam\") # metric은 생략할 수 있다."
   ]
  },
  {
   "cell_type": "markdown",
   "metadata": {},
   "source": [
    "### [모델 훈련](https://www.tensorflow.org/tutorials/keras/regression?hl=ko#%EB%AA%A8%EB%8D%B8_%ED%9B%88%EB%A0%A8)"
   ]
  },
  {
   "cell_type": "code",
   "execution_count": null,
   "metadata": {},
   "outputs": [],
   "source": [
    "# Error\n",
    "result = model.fit(X_train, y_train, epochs=5)"
   ]
  },
  {
   "cell_type": "markdown",
   "metadata": {},
   "source": [
    "? 값이 있어서 에러가 발생했다. \n",
    "```\n",
    "ValueError: could not convert string to float: '?'\n",
    "```"
   ]
  },
  {
   "cell_type": "markdown",
   "metadata": {},
   "source": [
    "\"3\"열에 데이터에 문자열 \"?\"이 있다."
   ]
  },
  {
   "cell_type": "code",
   "execution_count": 20,
   "metadata": {},
   "outputs": [
    {
     "name": "stderr",
     "output_type": "stream",
     "text": [
      "C:\\Users\\JINHYO\\Anaconda3\\lib\\site-packages\\pandas\\core\\ops\\__init__.py:1115: FutureWarning: elementwise comparison failed; returning scalar instead, but in the future will perform elementwise comparison\n",
      "  result = method(y)\n"
     ]
    },
    {
     "data": {
      "text/plain": [
       "0    0\n",
       "1    0\n",
       "2    0\n",
       "3    6\n",
       "4    0\n",
       "5    0\n",
       "6    0\n",
       "7    0\n",
       "8    0\n",
       "dtype: int64"
      ]
     },
     "execution_count": 20,
     "metadata": {},
     "output_type": "execute_result"
    }
   ],
   "source": [
    "(data == \"?\").sum(axis=0)"
   ]
  },
  {
   "cell_type": "code",
   "execution_count": 21,
   "metadata": {},
   "outputs": [],
   "source": [
    "data_raw = data.copy()"
   ]
  },
  {
   "cell_type": "code",
   "execution_count": 22,
   "metadata": {},
   "outputs": [],
   "source": [
    "data[3] = data[3].map({\"?\":0})"
   ]
  },
  {
   "cell_type": "code",
   "execution_count": 23,
   "metadata": {},
   "outputs": [],
   "source": [
    "# 다시 split\n",
    "X_train, X_test, y_train, y_test = train_test_split(data.iloc[:, 1:-1], data.iloc[:, 0]) "
   ]
  },
  {
   "cell_type": "markdown",
   "metadata": {},
   "source": [
    "loss가 nan이 나오면 학습이 안되고 있는 것이다.  "
   ]
  },
  {
   "cell_type": "code",
   "execution_count": 24,
   "metadata": {},
   "outputs": [
    {
     "name": "stderr",
     "output_type": "stream",
     "text": [
      "W0405 17:55:05.340538 21980 training.py:504] Falling back from v2 loop because of error: Failed to find data adapter that can handle input: <class 'pandas.core.frame.DataFrame'>, <class 'NoneType'>\n"
     ]
    },
    {
     "name": "stdout",
     "output_type": "stream",
     "text": [
      "Train on 298 samples\n",
      "Epoch 1/5\n",
      "298/298 [==============================] - 0s 60us/sample - loss: nan\n",
      "Epoch 2/5\n",
      "298/298 [==============================] - 0s 60us/sample - loss: nan\n",
      "Epoch 3/5\n",
      "298/298 [==============================] - 0s 57us/sample - loss: nan\n",
      "Epoch 4/5\n",
      "298/298 [==============================] - 0s 57us/sample - loss: nan\n",
      "Epoch 5/5\n",
      "298/298 [==============================] - 0s 50us/sample - loss: nan\n"
     ]
    }
   ],
   "source": [
    "result = model.fit(X_train, y_train, epochs=5)"
   ]
  },
  {
   "cell_type": "markdown",
   "metadata": {},
   "source": [
    "tensorflow는 데이터에 NaN이 있으면 실행은 되지만 학습이 안된다. scikit-learn은 데이터 nan이 있으면 에러를 일으켰다.  \n",
    "pandas `map`에서 딕셔너리를 쓸 경우, 해당하는 key가 없으면 NaN으로 치환한다."
   ]
  },
  {
   "cell_type": "code",
   "execution_count": 25,
   "metadata": {},
   "outputs": [
    {
     "data": {
      "text/plain": [
       "0     NaN\n",
       "1     NaN\n",
       "2     NaN\n",
       "3     NaN\n",
       "4     NaN\n",
       "       ..\n",
       "393   NaN\n",
       "394   NaN\n",
       "395   NaN\n",
       "396   NaN\n",
       "397   NaN\n",
       "Name: 3, Length: 398, dtype: float64"
      ]
     },
     "execution_count": 25,
     "metadata": {},
     "output_type": "execute_result"
    }
   ],
   "source": [
    "data[3]"
   ]
  },
  {
   "cell_type": "markdown",
   "metadata": {},
   "source": [
    "함수로 다시 `map`한다."
   ]
  },
  {
   "cell_type": "code",
   "execution_count": 26,
   "metadata": {},
   "outputs": [],
   "source": [
    "data = data_raw.copy() # 데이터 복구"
   ]
  },
  {
   "cell_type": "code",
   "execution_count": 27,
   "metadata": {},
   "outputs": [
    {
     "data": {
      "text/plain": [
       "0      130.0\n",
       "1      165.0\n",
       "2      150.0\n",
       "3      150.0\n",
       "4      140.0\n",
       "       ...  \n",
       "393    86.00\n",
       "394    52.00\n",
       "395    84.00\n",
       "396    79.00\n",
       "397    82.00\n",
       "Name: 3, Length: 398, dtype: object"
      ]
     },
     "execution_count": 27,
     "metadata": {},
     "output_type": "execute_result"
    }
   ],
   "source": [
    "data[3]"
   ]
  },
  {
   "cell_type": "code",
   "execution_count": 28,
   "metadata": {},
   "outputs": [],
   "source": [
    "data[3] = data[3].map(lambda x:0 if x==\"?\" else x)"
   ]
  },
  {
   "cell_type": "code",
   "execution_count": 29,
   "metadata": {},
   "outputs": [
    {
     "data": {
      "text/plain": [
       "0      130.0\n",
       "1      165.0\n",
       "2      150.0\n",
       "3      150.0\n",
       "4      140.0\n",
       "       ...  \n",
       "393    86.00\n",
       "394    52.00\n",
       "395    84.00\n",
       "396    79.00\n",
       "397    82.00\n",
       "Name: 3, Length: 398, dtype: object"
      ]
     },
     "execution_count": 29,
     "metadata": {},
     "output_type": "execute_result"
    }
   ],
   "source": [
    "data[3]"
   ]
  },
  {
   "cell_type": "code",
   "execution_count": 30,
   "metadata": {},
   "outputs": [],
   "source": [
    "# 다시 split\n",
    "X_train, X_test, y_train, y_test = train_test_split(data.iloc[:, 1:-1], data.iloc[:, 0]) "
   ]
  },
  {
   "cell_type": "code",
   "execution_count": 31,
   "metadata": {},
   "outputs": [],
   "source": [
    "model = Sequential([\n",
    "    Dense(16, input_shape=(7,), activation=\"relu\"), \n",
    "    Dense(16, activation=\"relu\"),\n",
    "    Dense(1)\n",
    "])"
   ]
  },
  {
   "cell_type": "code",
   "execution_count": 32,
   "metadata": {},
   "outputs": [],
   "source": [
    "model.compile(loss=\"mse\", optimizer=\"adam\")"
   ]
  },
  {
   "cell_type": "code",
   "execution_count": 33,
   "metadata": {},
   "outputs": [
    {
     "name": "stderr",
     "output_type": "stream",
     "text": [
      "W0405 17:55:38.325605 21980 training.py:504] Falling back from v2 loop because of error: Failed to find data adapter that can handle input: <class 'pandas.core.frame.DataFrame'>, <class 'NoneType'>\n"
     ]
    },
    {
     "name": "stdout",
     "output_type": "stream",
     "text": [
      "Train on 298 samples\n",
      "Epoch 1/5\n",
      "298/298 [==============================] - 0s 324us/sample - loss: 459061.7179\n",
      "Epoch 2/5\n",
      "298/298 [==============================] - 0s 60us/sample - loss: 291630.1588\n",
      "Epoch 3/5\n",
      "298/298 [==============================] - 0s 57us/sample - loss: 178557.1963\n",
      "Epoch 4/5\n",
      "298/298 [==============================] - 0s 70us/sample - loss: 100095.2433\n",
      "Epoch 5/5\n",
      "298/298 [==============================] - 0s 60us/sample - loss: 50831.0808\n"
     ]
    }
   ],
   "source": [
    "result = model.fit(X_train, y_train, epochs=5)"
   ]
  },
  {
   "cell_type": "markdown",
   "metadata": {},
   "source": [
    "\"3\" 열은 object 타입이다.  \n",
    "데이터는 숫자로 바꿔줘야한다."
   ]
  },
  {
   "cell_type": "code",
   "execution_count": 34,
   "metadata": {},
   "outputs": [
    {
     "name": "stdout",
     "output_type": "stream",
     "text": [
      "<class 'pandas.core.frame.DataFrame'>\n",
      "RangeIndex: 398 entries, 0 to 397\n",
      "Data columns (total 9 columns):\n",
      "0    398 non-null float64\n",
      "1    398 non-null int64\n",
      "2    398 non-null float64\n",
      "3    398 non-null object\n",
      "4    398 non-null float64\n",
      "5    398 non-null float64\n",
      "6    398 non-null int64\n",
      "7    398 non-null int64\n",
      "8    398 non-null object\n",
      "dtypes: float64(4), int64(3), object(2)\n",
      "memory usage: 28.1+ KB\n"
     ]
    }
   ],
   "source": [
    "data.info()"
   ]
  },
  {
   "cell_type": "code",
   "execution_count": 35,
   "metadata": {},
   "outputs": [],
   "source": [
    "data[3] = data[3].astype(\"float32\")"
   ]
  },
  {
   "cell_type": "code",
   "execution_count": 36,
   "metadata": {},
   "outputs": [
    {
     "data": {
      "text/plain": [
       "array([130., 165., 150., 150., 140., 198., 220., 215., 225., 190., 170.,\n",
       "       160., 150., 225.,  95.,  95.,  97.,  85.,  88.,  46.,  87.,  90.,\n",
       "        95., 113.,  90., 215., 200., 210., 193.,  88.,  90.,  95.,   0.,\n",
       "       100., 105., 100.,  88., 100., 165., 175., 153., 150., 180., 170.,\n",
       "       175., 110.,  72., 100.,  88.,  86.,  90.,  70.,  76.,  65.,  69.,\n",
       "        60.,  70.,  95.,  80.,  54.,  90.,  86., 165., 175., 150., 153.,\n",
       "       150., 208., 155., 160., 190.,  97., 150., 130., 140., 150., 112.,\n",
       "        76.,  87.,  69.,  86.,  92.,  97.,  80.,  88., 175., 150., 145.,\n",
       "       137., 150., 198., 150., 158., 150., 215., 225., 175., 105., 100.,\n",
       "       100.,  88.,  95.,  46., 150., 167., 170., 180., 100.,  88.,  72.,\n",
       "        94.,  90.,  85., 107.,  90., 145., 230.,  49.,  75.,  91., 112.,\n",
       "       150., 110., 122., 180.,  95.,   0., 100., 100.,  67.,  80.,  65.,\n",
       "        75., 100., 110., 105., 140., 150., 150., 140., 150.,  83.,  67.,\n",
       "        78.,  52.,  61.,  75.,  75.,  75.,  97.,  93.,  67.,  95., 105.,\n",
       "        72.,  72., 170., 145., 150., 148., 110., 105., 110.,  95., 110.,\n",
       "       110., 129.,  75.,  83., 100.,  78.,  96.,  71.,  97.,  97.,  70.,\n",
       "        90.,  95.,  88.,  98., 115.,  53.,  86.,  81.,  92.,  79.,  83.,\n",
       "       140., 150., 120., 152., 100., 105.,  81.,  90.,  52.,  60.,  70.,\n",
       "        53., 100.,  78., 110.,  95.,  71.,  70.,  75.,  72., 102., 150.,\n",
       "        88., 108., 120., 180., 145., 130., 150.,  68.,  80.,  58.,  96.,\n",
       "        70., 145., 110., 145., 130., 110., 105., 100.,  98., 180., 170.,\n",
       "       190., 149.,  78.,  88.,  75.,  89.,  63.,  83.,  67.,  78.,  97.,\n",
       "       110., 110.,  48.,  66.,  52.,  70.,  60., 110., 140., 139., 105.,\n",
       "        95.,  85.,  88., 100.,  90., 105.,  85., 110., 120., 145., 165.,\n",
       "       139., 140.,  68.,  95.,  97.,  75.,  95., 105.,  85.,  97., 103.,\n",
       "       125., 115., 133.,  71.,  68., 115.,  85.,  88.,  90., 110., 130.,\n",
       "       129., 138., 135., 155., 142., 125., 150.,  71.,  65.,  80.,  80.,\n",
       "        77., 125.,  71.,  90.,  70.,  70.,  65.,  69.,  90., 115., 115.,\n",
       "        90.,  76.,  60.,  70.,  65.,  90.,  88.,  90.,  90.,  78.,  90.,\n",
       "        75.,  92.,  75.,  65., 105.,  65.,  48.,  48.,  67.,  67.,  67.,\n",
       "         0.,  67.,  62., 132., 100.,  88.,   0.,  72.,  84.,  84.,  92.,\n",
       "       110.,  84.,  58.,  64.,  60.,  67.,  65.,  62.,  68.,  63.,  65.,\n",
       "        65.,  74.,   0.,  75.,  75., 100.,  74.,  80.,  76., 116., 120.,\n",
       "       110., 105.,  88.,  85.,  88.,  88.,  88.,  85.,  84.,  90.,  92.,\n",
       "         0.,  74.,  68.,  68.,  63.,  70.,  88.,  75.,  70.,  67.,  67.,\n",
       "        67., 110.,  85.,  92., 112.,  96.,  84.,  90.,  86.,  52.,  84.,\n",
       "        79.,  82.], dtype=float32)"
      ]
     },
     "execution_count": 36,
     "metadata": {},
     "output_type": "execute_result"
    }
   ],
   "source": [
    "# astype은 numpy에서 가져온 기능이다.\n",
    "data[3].values.astype(\"float32\")"
   ]
  },
  {
   "cell_type": "code",
   "execution_count": 37,
   "metadata": {},
   "outputs": [
    {
     "name": "stdout",
     "output_type": "stream",
     "text": [
      "<class 'pandas.core.frame.DataFrame'>\n",
      "RangeIndex: 398 entries, 0 to 397\n",
      "Data columns (total 9 columns):\n",
      "0    398 non-null float64\n",
      "1    398 non-null int64\n",
      "2    398 non-null float64\n",
      "3    398 non-null float32\n",
      "4    398 non-null float64\n",
      "5    398 non-null float64\n",
      "6    398 non-null int64\n",
      "7    398 non-null int64\n",
      "8    398 non-null object\n",
      "dtypes: float32(1), float64(4), int64(3), object(1)\n",
      "memory usage: 26.6+ KB\n"
     ]
    }
   ],
   "source": [
    "data.info()"
   ]
  },
  {
   "cell_type": "code",
   "execution_count": 38,
   "metadata": {},
   "outputs": [],
   "source": [
    "# 다시 split\n",
    "X_train, X_test, y_train, y_test = train_test_split(data.iloc[:, 1:-1], data.iloc[:, 0]) "
   ]
  },
  {
   "cell_type": "code",
   "execution_count": 39,
   "metadata": {},
   "outputs": [],
   "source": [
    "model = Sequential([\n",
    "    Dense(16, input_shape=(7,), activation=\"relu\"), \n",
    "    Dense(16, activation=\"relu\"),\n",
    "    Dense(1)\n",
    "])"
   ]
  },
  {
   "cell_type": "code",
   "execution_count": 40,
   "metadata": {},
   "outputs": [],
   "source": [
    "model.compile(loss=\"mse\", optimizer=\"adam\")"
   ]
  },
  {
   "cell_type": "markdown",
   "metadata": {},
   "source": [
    "`fit`은 학습 중간 결과물을 반환한다."
   ]
  },
  {
   "cell_type": "code",
   "execution_count": 41,
   "metadata": {},
   "outputs": [
    {
     "name": "stderr",
     "output_type": "stream",
     "text": [
      "W0405 17:56:19.658519 21980 training.py:504] Falling back from v2 loop because of error: Failed to find data adapter that can handle input: <class 'pandas.core.frame.DataFrame'>, <class 'NoneType'>\n"
     ]
    },
    {
     "name": "stdout",
     "output_type": "stream",
     "text": [
      "Train on 298 samples\n",
      "Epoch 1/5\n",
      "298/298 [==============================] - 0s 305us/sample - loss: 15714.3181\n",
      "Epoch 2/5\n",
      "298/298 [==============================] - 0s 57us/sample - loss: 5635.5365\n",
      "Epoch 3/5\n",
      "298/298 [==============================] - 0s 54us/sample - loss: 1368.5759\n",
      "Epoch 4/5\n",
      "298/298 [==============================] - 0s 54us/sample - loss: 1071.0058\n",
      "Epoch 5/5\n",
      "298/298 [==============================] - 0s 54us/sample - loss: 967.5763\n"
     ]
    }
   ],
   "source": [
    "result = model.fit(X_train, y_train, epochs=5)"
   ]
  },
  {
   "cell_type": "markdown",
   "metadata": {},
   "source": [
    "metrics를 compile하지 않아서 loss만 나온다."
   ]
  },
  {
   "cell_type": "code",
   "execution_count": 42,
   "metadata": {},
   "outputs": [
    {
     "data": {
      "text/plain": [
       "{'loss': [15714.318082463822,\n",
       "  5635.5364637950925,\n",
       "  1368.5758998794045,\n",
       "  1071.0057901472053,\n",
       "  967.5762979392238]}"
      ]
     },
     "execution_count": 42,
     "metadata": {},
     "output_type": "execute_result"
    }
   ],
   "source": [
    "result.history"
   ]
  },
  {
   "cell_type": "markdown",
   "metadata": {},
   "source": [
    "다시 모델을 만들고 metrics를 여러개를 써보자"
   ]
  },
  {
   "cell_type": "code",
   "execution_count": 65,
   "metadata": {},
   "outputs": [],
   "source": [
    "model2 = Sequential([\n",
    "    Dense(16, input_shape=(7,), activation=\"relu\"), \n",
    "    Dense(16, activation=\"relu\"),\n",
    "    Dense(1)\n",
    "])"
   ]
  },
  {
   "cell_type": "markdown",
   "metadata": {},
   "source": [
    "regression 문제는 classification과 다른 metric을 쓴다.  \n",
    "mae는 Mean Absolute Error(평균절대오차)의 약자이다."
   ]
  },
  {
   "cell_type": "code",
   "execution_count": 66,
   "metadata": {},
   "outputs": [],
   "source": [
    "model2.compile(loss=\"mse\", optimizer=\"adam\", metrics=[\"mae\", \"mse\"])"
   ]
  },
  {
   "cell_type": "code",
   "execution_count": 67,
   "metadata": {},
   "outputs": [
    {
     "name": "stderr",
     "output_type": "stream",
     "text": [
      "W0405 09:57:17.701701 12256 training.py:504] Falling back from v2 loop because of error: Failed to find data adapter that can handle input: <class 'pandas.core.frame.DataFrame'>, <class 'NoneType'>\n"
     ]
    },
    {
     "name": "stdout",
     "output_type": "stream",
     "text": [
      "Train on 298 samples\n",
      "Epoch 1/5\n",
      "298/298 [==============================] - 0s 283us/sample - loss: 30180.9894 - mae: 156.1868 - mse: 30180.9902\n",
      "Epoch 2/5\n",
      "298/298 [==============================] - 0s 59us/sample - loss: 2479.0672 - mae: 39.2561 - mse: 2479.0671\n",
      "Epoch 3/5\n",
      "298/298 [==============================] - 0s 57us/sample - loss: 2928.1881 - mae: 44.6214 - mse: 2928.1882\n",
      "Epoch 4/5\n",
      "298/298 [==============================] - 0s 50us/sample - loss: 526.0090 - mae: 20.4820 - mse: 526.0090\n",
      "Epoch 5/5\n",
      "298/298 [==============================] - 0s 54us/sample - loss: 487.7066 - mae: 19.4574 - mse: 487.7065\n"
     ]
    }
   ],
   "source": [
    "result2 = model2.fit(X_train, y_train, epochs=5)"
   ]
  },
  {
   "cell_type": "markdown",
   "metadata": {},
   "source": [
    "metric을 여러개 쓰면 history에 종류별로 추가된다."
   ]
  },
  {
   "cell_type": "code",
   "execution_count": 68,
   "metadata": {},
   "outputs": [
    {
     "data": {
      "text/plain": [
       "{'loss': [30180.989361039745,\n",
       "  2479.067171442429,\n",
       "  2928.1880607861,\n",
       "  526.0089901917733,\n",
       "  487.70656647138145],\n",
       " 'mae': [156.18678, 39.256138, 44.6214, 20.48203, 19.457365],\n",
       " 'mse': [30180.99, 2479.0671, 2928.1882, 526.00903, 487.70654]}"
      ]
     },
     "execution_count": 68,
     "metadata": {},
     "output_type": "execute_result"
    }
   ],
   "source": [
    "result2.history"
   ]
  },
  {
   "cell_type": "markdown",
   "metadata": {
    "heading_collapsed": true
   },
   "source": [
    "## callback"
   ]
  },
  {
   "cell_type": "markdown",
   "metadata": {
    "hidden": true
   },
   "source": [
    "callback은 딥러닝 전용 기능이다.(Not for Machine Learning)"
   ]
  },
  {
   "cell_type": "code",
   "execution_count": 82,
   "metadata": {
    "hidden": true
   },
   "outputs": [],
   "source": [
    "from tensorflow.keras.callbacks import Callback"
   ]
  },
  {
   "cell_type": "code",
   "execution_count": 83,
   "metadata": {
    "hidden": true
   },
   "outputs": [
    {
     "data": {
      "text/plain": [
       "['__class__',\n",
       " '__delattr__',\n",
       " '__dict__',\n",
       " '__dir__',\n",
       " '__doc__',\n",
       " '__eq__',\n",
       " '__format__',\n",
       " '__ge__',\n",
       " '__getattribute__',\n",
       " '__gt__',\n",
       " '__hash__',\n",
       " '__init__',\n",
       " '__init_subclass__',\n",
       " '__le__',\n",
       " '__lt__',\n",
       " '__module__',\n",
       " '__ne__',\n",
       " '__new__',\n",
       " '__reduce__',\n",
       " '__reduce_ex__',\n",
       " '__repr__',\n",
       " '__setattr__',\n",
       " '__sizeof__',\n",
       " '__str__',\n",
       " '__subclasshook__',\n",
       " '__weakref__',\n",
       " '_keras_api_names',\n",
       " '_keras_api_names_v1',\n",
       " 'on_batch_begin',\n",
       " 'on_batch_end',\n",
       " 'on_epoch_begin',\n",
       " 'on_epoch_end',\n",
       " 'on_predict_batch_begin',\n",
       " 'on_predict_batch_end',\n",
       " 'on_predict_begin',\n",
       " 'on_predict_end',\n",
       " 'on_test_batch_begin',\n",
       " 'on_test_batch_end',\n",
       " 'on_test_begin',\n",
       " 'on_test_end',\n",
       " 'on_train_batch_begin',\n",
       " 'on_train_batch_end',\n",
       " 'on_train_begin',\n",
       " 'on_train_end',\n",
       " 'set_model',\n",
       " 'set_params']"
      ]
     },
     "execution_count": 83,
     "metadata": {},
     "output_type": "execute_result"
    }
   ],
   "source": [
    "dir(Callback) # 처음보면 dir"
   ]
  },
  {
   "cell_type": "markdown",
   "metadata": {
    "heading_collapsed": true,
    "hidden": true
   },
   "source": [
    "### Override"
   ]
  },
  {
   "cell_type": "markdown",
   "metadata": {
    "hidden": true
   },
   "source": [
    "Callback을 상속받아 메소드를 override하면 나만의 callback을 만들 수 있다.  \n",
    "`on_epoch_begin`은 epoch가 시작할때마다 실행되는 메소드이고, `on_epoch_end`는 epoch이 끝날 때마다 실행되는 메소드이다.  \n",
    "이 메소드들을 override하면 epoch이 시작하고 끝날 때마다 내가 원하는 기능이 실행되도록 할 수 있다. "
   ]
  },
  {
   "cell_type": "markdown",
   "metadata": {
    "hidden": true
   },
   "source": [
    ">**예시**  \n",
    "예를 들어, 메신저 API와 연동하면 epoch이 끝날때마다 학습 중간결과를 메시지로 보내도록 할 수 있다."
   ]
  },
  {
   "cell_type": "markdown",
   "metadata": {
    "hidden": true
   },
   "source": [
    "※ 참고  \n",
    "overriding\n",
    "- 상속받을 때 부모의 기능과 같은 이름으로 기능을 재정의한다. 부모의 기능을 덮어써서 원래 기능을 대신한다.  \n",
    "\n",
    "overloading \n",
    "- 이름은 같지만 기능이 다른 메소드를 여러개 만들고, 매개변수의 유형과 개수에 따라서 적합한 메소드가 실행되는 기법\n",
    "- python은 overloading을 지원하지 않는다."
   ]
  },
  {
   "cell_type": "code",
   "execution_count": null,
   "metadata": {
    "hidden": true
   },
   "outputs": [],
   "source": [
    "# override의 기본 모양\n",
    "\n",
    "class MyCallback(Callback):\n",
    "    def on_epoch_begin(self):\n",
    "        pass\n",
    "    def on_epoch_end(self):\n",
    "        pass"
   ]
  },
  {
   "cell_type": "markdown",
   "metadata": {
    "hidden": true
   },
   "source": [
    "overriding할 때는 원래의 메소드와 인자를 똑같이 해줘야 한다. "
   ]
  },
  {
   "cell_type": "code",
   "execution_count": 57,
   "metadata": {
    "hidden": true
   },
   "outputs": [],
   "source": [
    "?Callback.on_epoch_begin"
   ]
  },
  {
   "cell_type": "markdown",
   "metadata": {
    "hidden": true
   },
   "source": [
    "\n",
    "```python\n",
    "Signature: Callback.on_epoch_begin(self, epoch, logs=None)\n",
    "```"
   ]
  },
  {
   "cell_type": "markdown",
   "metadata": {
    "hidden": true
   },
   "source": [
    "`on_epoch_begin`을 override해서 epoch이 시작할 때 \"시작\"이 프린트 되도록하는 callback을 만들어보자."
   ]
  },
  {
   "cell_type": "code",
   "execution_count": 87,
   "metadata": {
    "hidden": true
   },
   "outputs": [],
   "source": [
    "class MyCallback(Callback):\n",
    "    def on_epoch_begin(self, epoch, logs=None):\n",
    "        print(\"시작\")"
   ]
  },
  {
   "cell_type": "code",
   "execution_count": 88,
   "metadata": {
    "hidden": true
   },
   "outputs": [],
   "source": [
    "model.compile(loss=\"mse\", optimizer=\"adam\")"
   ]
  },
  {
   "cell_type": "code",
   "execution_count": 89,
   "metadata": {
    "hidden": true
   },
   "outputs": [
    {
     "name": "stderr",
     "output_type": "stream",
     "text": [
      "W0405 10:41:30.634251 12256 training.py:504] Falling back from v2 loop because of error: Failed to find data adapter that can handle input: <class 'pandas.core.frame.DataFrame'>, <class 'NoneType'>\n"
     ]
    },
    {
     "name": "stdout",
     "output_type": "stream",
     "text": [
      "Train on 298 samples\n",
      "시작\n",
      "298/298 [==============================] - 0s 221us/sample - loss: 727.5594\n"
     ]
    },
    {
     "data": {
      "text/plain": [
       "<tensorflow.python.keras.callbacks.History at 0x1f020394eb8>"
      ]
     },
     "execution_count": 89,
     "metadata": {},
     "output_type": "execute_result"
    }
   ],
   "source": [
    "model.fit(X_train, y_train, callbacks=[MyCallback()])"
   ]
  },
  {
   "cell_type": "markdown",
   "metadata": {
    "hidden": true
   },
   "source": [
    "epoch이 종료할 때 \"끝\"이 출력되도록 해보자 "
   ]
  },
  {
   "cell_type": "code",
   "execution_count": 74,
   "metadata": {
    "hidden": true
   },
   "outputs": [],
   "source": [
    "# parameter 확인 후 똑같이 맞춰준다.\n",
    "?Callback.on_epoch_end"
   ]
  },
  {
   "cell_type": "code",
   "execution_count": 90,
   "metadata": {
    "hidden": true
   },
   "outputs": [],
   "source": [
    "class MyCallback(Callback):\n",
    "    def on_epoch_begin(self, epoch, logs=None):\n",
    "        print(\"시작\")\n",
    "    def on_epoch_end(self, epoch, logs=None):\n",
    "        print(\"\\n끝\")"
   ]
  },
  {
   "cell_type": "code",
   "execution_count": 91,
   "metadata": {
    "hidden": true
   },
   "outputs": [
    {
     "name": "stderr",
     "output_type": "stream",
     "text": [
      "W0405 10:42:43.580042 12256 training.py:504] Falling back from v2 loop because of error: Failed to find data adapter that can handle input: <class 'pandas.core.frame.DataFrame'>, <class 'NoneType'>\n"
     ]
    },
    {
     "name": "stdout",
     "output_type": "stream",
     "text": [
      "Train on 298 samples\n",
      "시작\n",
      " 32/298 [==>...........................] - ETA: 0s - loss: 773.3939\n",
      "끝\n",
      "298/298 [==============================] - 0s 50us/sample - loss: 425.9647\n"
     ]
    },
    {
     "data": {
      "text/plain": [
       "<tensorflow.python.keras.callbacks.History at 0x1f0202ba780>"
      ]
     },
     "execution_count": 91,
     "metadata": {},
     "output_type": "execute_result"
    }
   ],
   "source": [
    "model.fit(X_train, y_train, callbacks=[MyCallback()])"
   ]
  },
  {
   "cell_type": "markdown",
   "metadata": {
    "heading_collapsed": true,
    "hidden": true
   },
   "source": [
    "### TensorBoard"
   ]
  },
  {
   "cell_type": "markdown",
   "metadata": {
    "hidden": true
   },
   "source": [
    "Tensorboard는 학습결과를 시각화해주는 툴이다.  \n",
    "학습의 중간 결과를 수집하기 위해서 callback을 이용한다."
   ]
  },
  {
   "cell_type": "code",
   "execution_count": 93,
   "metadata": {
    "hidden": true
   },
   "outputs": [],
   "source": [
    "from tensorflow.keras.callbacks import TensorBoard"
   ]
  },
  {
   "cell_type": "code",
   "execution_count": 130,
   "metadata": {
    "hidden": true
   },
   "outputs": [
    {
     "name": "stderr",
     "output_type": "stream",
     "text": [
      "W0405 11:24:04.407788 12256 training.py:504] Falling back from v2 loop because of error: Failed to find data adapter that can handle input: <class 'pandas.core.frame.DataFrame'>, <class 'NoneType'>\n"
     ]
    },
    {
     "name": "stdout",
     "output_type": "stream",
     "text": [
      "Train on 298 samples\n",
      "시작\n",
      "Epoch 1/5\n",
      " 32/298 [==>...........................] - ETA: 0s - loss: 19.7444\n",
      "끝\n",
      "298/298 [==============================] - 0s 134us/sample - loss: 16.5191\n",
      "시작\n",
      "Epoch 2/5\n",
      " 32/298 [==>...........................] - ETA: 0s - loss: 30.1931\n",
      "끝\n",
      "298/298 [==============================] - 0s 54us/sample - loss: 22.9471\n",
      "시작\n",
      "Epoch 3/5\n",
      " 32/298 [==>...........................] - ETA: 0s - loss: 21.7306\n",
      "끝\n",
      "298/298 [==============================] - 0s 50us/sample - loss: 17.2574\n",
      "시작\n",
      "Epoch 4/5\n",
      " 32/298 [==>...........................] - ETA: 0s - loss: 18.0186\n",
      "끝\n",
      "298/298 [==============================] - 0s 60us/sample - loss: 18.1944\n",
      "시작\n",
      "Epoch 5/5\n",
      " 32/298 [==>...........................] - ETA: 0s - loss: 11.3479\n",
      "끝\n",
      "298/298 [==============================] - 0s 60us/sample - loss: 22.6356\n"
     ]
    },
    {
     "data": {
      "text/plain": [
       "<tensorflow.python.keras.callbacks.History at 0x1f0221cb390>"
      ]
     },
     "execution_count": 130,
     "metadata": {},
     "output_type": "execute_result"
    }
   ],
   "source": [
    "model.fit(X_train, y_train, epochs=5, callbacks=[MyCallback(), TensorBoard()])"
   ]
  },
  {
   "cell_type": "markdown",
   "metadata": {
    "hidden": true
   },
   "source": [
    "TensorBoard는 Line magic으로 시각화를 볼 수 있다.  \n",
    "`%tensorboard` 기능이 활성화되어 있는지 확인한다.\n",
    "\n",
    "**참고**  \n",
    "Magic Command는 IPython에서 시스템 동작을 쉽게 제어할 수 있는 특수 명령어이다. %로 시작하여 명령어를 입력한다. %를 1개 사용할 때와 2개를 사용할 때 기능상 차이가 있다. 만약 Magic Command와 동일한 이름의 변수가 선언되지 않았다면, %없이 명령어만으로 Magic Command를 실행할 수도 있다. 현재 사용가능한 Magic Command는 `%lsmagic`을 이용하여 확인할 수 있다. `%magic`은 매직 리스트에 있는 모든 항목과 매직 함수 설명을 제공한다.\n",
    "\n",
    "- %(명령어) : Line magic, 셀 내의 라인 독립 실행\n",
    "- %%(명령어) : Cell magic, 셀 내의 전체 내용 관련 실행"
   ]
  },
  {
   "cell_type": "code",
   "execution_count": 95,
   "metadata": {
    "hidden": true
   },
   "outputs": [
    {
     "data": {
      "application/json": {
       "cell": {
        "!": "OSMagics",
        "HTML": "Other",
        "SVG": "Other",
        "bash": "Other",
        "capture": "ExecutionMagics",
        "cmd": "Other",
        "debug": "ExecutionMagics",
        "file": "Other",
        "html": "DisplayMagics",
        "javascript": "DisplayMagics",
        "js": "DisplayMagics",
        "latex": "DisplayMagics",
        "markdown": "DisplayMagics",
        "perl": "Other",
        "prun": "ExecutionMagics",
        "pypy": "Other",
        "python": "Other",
        "python2": "Other",
        "python3": "Other",
        "ruby": "Other",
        "script": "ScriptMagics",
        "sh": "Other",
        "svg": "DisplayMagics",
        "sx": "OSMagics",
        "system": "OSMagics",
        "time": "ExecutionMagics",
        "timeit": "ExecutionMagics",
        "writefile": "OSMagics"
       },
       "line": {
        "alias": "OSMagics",
        "alias_magic": "BasicMagics",
        "autoawait": "AsyncMagics",
        "autocall": "AutoMagics",
        "automagic": "AutoMagics",
        "autosave": "KernelMagics",
        "bookmark": "OSMagics",
        "cd": "OSMagics",
        "clear": "KernelMagics",
        "cls": "KernelMagics",
        "colors": "BasicMagics",
        "conda": "PackagingMagics",
        "config": "ConfigMagics",
        "connect_info": "KernelMagics",
        "copy": "Other",
        "ddir": "Other",
        "debug": "ExecutionMagics",
        "dhist": "OSMagics",
        "dirs": "OSMagics",
        "doctest_mode": "BasicMagics",
        "echo": "Other",
        "ed": "Other",
        "edit": "KernelMagics",
        "env": "OSMagics",
        "gui": "BasicMagics",
        "hist": "Other",
        "history": "HistoryMagics",
        "killbgscripts": "ScriptMagics",
        "ldir": "Other",
        "less": "KernelMagics",
        "load": "CodeMagics",
        "load_ext": "ExtensionMagics",
        "loadpy": "CodeMagics",
        "logoff": "LoggingMagics",
        "logon": "LoggingMagics",
        "logstart": "LoggingMagics",
        "logstate": "LoggingMagics",
        "logstop": "LoggingMagics",
        "ls": "Other",
        "lsmagic": "BasicMagics",
        "macro": "ExecutionMagics",
        "magic": "BasicMagics",
        "matplotlib": "PylabMagics",
        "mkdir": "Other",
        "more": "KernelMagics",
        "notebook": "BasicMagics",
        "page": "BasicMagics",
        "pastebin": "CodeMagics",
        "pdb": "ExecutionMagics",
        "pdef": "NamespaceMagics",
        "pdoc": "NamespaceMagics",
        "pfile": "NamespaceMagics",
        "pinfo": "NamespaceMagics",
        "pinfo2": "NamespaceMagics",
        "pip": "PackagingMagics",
        "popd": "OSMagics",
        "pprint": "BasicMagics",
        "precision": "BasicMagics",
        "prun": "ExecutionMagics",
        "psearch": "NamespaceMagics",
        "psource": "NamespaceMagics",
        "pushd": "OSMagics",
        "pwd": "OSMagics",
        "pycat": "OSMagics",
        "pylab": "PylabMagics",
        "qtconsole": "KernelMagics",
        "quickref": "BasicMagics",
        "recall": "HistoryMagics",
        "rehashx": "OSMagics",
        "reload_ext": "ExtensionMagics",
        "ren": "Other",
        "rep": "Other",
        "rerun": "HistoryMagics",
        "reset": "NamespaceMagics",
        "reset_selective": "NamespaceMagics",
        "rmdir": "Other",
        "run": "ExecutionMagics",
        "save": "CodeMagics",
        "sc": "OSMagics",
        "set_env": "OSMagics",
        "store": "StoreMagics",
        "sx": "OSMagics",
        "system": "OSMagics",
        "tb": "ExecutionMagics",
        "time": "ExecutionMagics",
        "timeit": "ExecutionMagics",
        "unalias": "OSMagics",
        "unload_ext": "ExtensionMagics",
        "who": "NamespaceMagics",
        "who_ls": "NamespaceMagics",
        "whos": "NamespaceMagics",
        "xdel": "NamespaceMagics",
        "xmode": "BasicMagics"
       }
      },
      "text/plain": [
       "Available line magics:\n",
       "%alias  %alias_magic  %autoawait  %autocall  %automagic  %autosave  %bookmark  %cd  %clear  %cls  %colors  %conda  %config  %connect_info  %copy  %ddir  %debug  %dhist  %dirs  %doctest_mode  %echo  %ed  %edit  %env  %gui  %hist  %history  %killbgscripts  %ldir  %less  %load  %load_ext  %loadpy  %logoff  %logon  %logstart  %logstate  %logstop  %ls  %lsmagic  %macro  %magic  %matplotlib  %mkdir  %more  %notebook  %page  %pastebin  %pdb  %pdef  %pdoc  %pfile  %pinfo  %pinfo2  %pip  %popd  %pprint  %precision  %prun  %psearch  %psource  %pushd  %pwd  %pycat  %pylab  %qtconsole  %quickref  %recall  %rehashx  %reload_ext  %ren  %rep  %rerun  %reset  %reset_selective  %rmdir  %run  %save  %sc  %set_env  %store  %sx  %system  %tb  %time  %timeit  %unalias  %unload_ext  %who  %who_ls  %whos  %xdel  %xmode\n",
       "\n",
       "Available cell magics:\n",
       "%%!  %%HTML  %%SVG  %%bash  %%capture  %%cmd  %%debug  %%file  %%html  %%javascript  %%js  %%latex  %%markdown  %%perl  %%prun  %%pypy  %%python  %%python2  %%python3  %%ruby  %%script  %%sh  %%svg  %%sx  %%system  %%time  %%timeit  %%writefile\n",
       "\n",
       "Automagic is ON, % prefix IS NOT needed for line magics."
      ]
     },
     "execution_count": 95,
     "metadata": {},
     "output_type": "execute_result"
    }
   ],
   "source": [
    "%lsmagic"
   ]
  },
  {
   "cell_type": "markdown",
   "metadata": {
    "hidden": true
   },
   "source": [
    "현재 매직명령어 tensorboard가 활성화되어 있지 않으므로 `%load_ext`으로 기능을 활성화한다. "
   ]
  },
  {
   "cell_type": "code",
   "execution_count": 133,
   "metadata": {
    "hidden": true
   },
   "outputs": [],
   "source": [
    "%load_ext tensorboard"
   ]
  },
  {
   "cell_type": "markdown",
   "metadata": {
    "hidden": true
   },
   "source": [
    "`%tensorboard`가 Available line magics에 추가되었는지 확인한다."
   ]
  },
  {
   "cell_type": "code",
   "execution_count": 97,
   "metadata": {
    "hidden": true
   },
   "outputs": [
    {
     "data": {
      "application/json": {
       "cell": {
        "!": "OSMagics",
        "HTML": "Other",
        "SVG": "Other",
        "bash": "Other",
        "capture": "ExecutionMagics",
        "cmd": "Other",
        "debug": "ExecutionMagics",
        "file": "Other",
        "html": "DisplayMagics",
        "javascript": "DisplayMagics",
        "js": "DisplayMagics",
        "latex": "DisplayMagics",
        "markdown": "DisplayMagics",
        "perl": "Other",
        "prun": "ExecutionMagics",
        "pypy": "Other",
        "python": "Other",
        "python2": "Other",
        "python3": "Other",
        "ruby": "Other",
        "script": "ScriptMagics",
        "sh": "Other",
        "svg": "DisplayMagics",
        "sx": "OSMagics",
        "system": "OSMagics",
        "time": "ExecutionMagics",
        "timeit": "ExecutionMagics",
        "writefile": "OSMagics"
       },
       "line": {
        "alias": "OSMagics",
        "alias_magic": "BasicMagics",
        "autoawait": "AsyncMagics",
        "autocall": "AutoMagics",
        "automagic": "AutoMagics",
        "autosave": "KernelMagics",
        "bookmark": "OSMagics",
        "cd": "OSMagics",
        "clear": "KernelMagics",
        "cls": "KernelMagics",
        "colors": "BasicMagics",
        "conda": "PackagingMagics",
        "config": "ConfigMagics",
        "connect_info": "KernelMagics",
        "copy": "Other",
        "ddir": "Other",
        "debug": "ExecutionMagics",
        "dhist": "OSMagics",
        "dirs": "OSMagics",
        "doctest_mode": "BasicMagics",
        "echo": "Other",
        "ed": "Other",
        "edit": "KernelMagics",
        "env": "OSMagics",
        "gui": "BasicMagics",
        "hist": "Other",
        "history": "HistoryMagics",
        "killbgscripts": "ScriptMagics",
        "ldir": "Other",
        "less": "KernelMagics",
        "load": "CodeMagics",
        "load_ext": "ExtensionMagics",
        "loadpy": "CodeMagics",
        "logoff": "LoggingMagics",
        "logon": "LoggingMagics",
        "logstart": "LoggingMagics",
        "logstate": "LoggingMagics",
        "logstop": "LoggingMagics",
        "ls": "Other",
        "lsmagic": "BasicMagics",
        "macro": "ExecutionMagics",
        "magic": "BasicMagics",
        "matplotlib": "PylabMagics",
        "mkdir": "Other",
        "more": "KernelMagics",
        "notebook": "BasicMagics",
        "page": "BasicMagics",
        "pastebin": "CodeMagics",
        "pdb": "ExecutionMagics",
        "pdef": "NamespaceMagics",
        "pdoc": "NamespaceMagics",
        "pfile": "NamespaceMagics",
        "pinfo": "NamespaceMagics",
        "pinfo2": "NamespaceMagics",
        "pip": "PackagingMagics",
        "popd": "OSMagics",
        "pprint": "BasicMagics",
        "precision": "BasicMagics",
        "prun": "ExecutionMagics",
        "psearch": "NamespaceMagics",
        "psource": "NamespaceMagics",
        "pushd": "OSMagics",
        "pwd": "OSMagics",
        "pycat": "OSMagics",
        "pylab": "PylabMagics",
        "qtconsole": "KernelMagics",
        "quickref": "BasicMagics",
        "recall": "HistoryMagics",
        "rehashx": "OSMagics",
        "reload_ext": "ExtensionMagics",
        "ren": "Other",
        "rep": "Other",
        "rerun": "HistoryMagics",
        "reset": "NamespaceMagics",
        "reset_selective": "NamespaceMagics",
        "rmdir": "Other",
        "run": "ExecutionMagics",
        "save": "CodeMagics",
        "sc": "OSMagics",
        "set_env": "OSMagics",
        "store": "StoreMagics",
        "sx": "OSMagics",
        "system": "OSMagics",
        "tb": "ExecutionMagics",
        "tensorboard": "Other",
        "time": "ExecutionMagics",
        "timeit": "ExecutionMagics",
        "unalias": "OSMagics",
        "unload_ext": "ExtensionMagics",
        "who": "NamespaceMagics",
        "who_ls": "NamespaceMagics",
        "whos": "NamespaceMagics",
        "xdel": "NamespaceMagics",
        "xmode": "BasicMagics"
       }
      },
      "text/plain": [
       "Available line magics:\n",
       "%alias  %alias_magic  %autoawait  %autocall  %automagic  %autosave  %bookmark  %cd  %clear  %cls  %colors  %conda  %config  %connect_info  %copy  %ddir  %debug  %dhist  %dirs  %doctest_mode  %echo  %ed  %edit  %env  %gui  %hist  %history  %killbgscripts  %ldir  %less  %load  %load_ext  %loadpy  %logoff  %logon  %logstart  %logstate  %logstop  %ls  %lsmagic  %macro  %magic  %matplotlib  %mkdir  %more  %notebook  %page  %pastebin  %pdb  %pdef  %pdoc  %pfile  %pinfo  %pinfo2  %pip  %popd  %pprint  %precision  %prun  %psearch  %psource  %pushd  %pwd  %pycat  %pylab  %qtconsole  %quickref  %recall  %rehashx  %reload_ext  %ren  %rep  %rerun  %reset  %reset_selective  %rmdir  %run  %save  %sc  %set_env  %store  %sx  %system  %tb  %tensorboard  %time  %timeit  %unalias  %unload_ext  %who  %who_ls  %whos  %xdel  %xmode\n",
       "\n",
       "Available cell magics:\n",
       "%%!  %%HTML  %%SVG  %%bash  %%capture  %%cmd  %%debug  %%file  %%html  %%javascript  %%js  %%latex  %%markdown  %%perl  %%prun  %%pypy  %%python  %%python2  %%python3  %%ruby  %%script  %%sh  %%svg  %%sx  %%system  %%time  %%timeit  %%writefile\n",
       "\n",
       "Automagic is ON, % prefix IS NOT needed for line magics."
      ]
     },
     "execution_count": 97,
     "metadata": {},
     "output_type": "execute_result"
    }
   ],
   "source": [
    "%lsmagic"
   ]
  },
  {
   "cell_type": "markdown",
   "metadata": {
    "hidden": true
   },
   "source": [
    "tensorboard는 옵션을 주어야한다. "
   ]
  },
  {
   "cell_type": "code",
   "execution_count": 101,
   "metadata": {
    "hidden": true
   },
   "outputs": [
    {
     "data": {
      "text/plain": [
       "ERROR: Failed to launch TensorBoard (exited with 1).\n",
       "Contents of stderr:\n",
       "Error: A logdir or db must be specified. For example `tensorboard --logdir mylogdir` or `tensorboard --db sqlite:~/.tensorboard.db`. Run `tensorboard --helpfull` for details and examples."
      ]
     },
     "metadata": {},
     "output_type": "display_data"
    }
   ],
   "source": [
    "# Error\n",
    "%tensorboard"
   ]
  },
  {
   "cell_type": "markdown",
   "metadata": {
    "hidden": true
   },
   "source": [
    "다음과 같이 옵션을 주면, `TensorBoard` 콜백으로 수집된 로그를 그래프로 시각화해준다.  \n",
    "정상적으로 실행되면 output에서 interactive UI가 보인다.  PC 성능에 따라서 오래 걸릴 수 있다. 실행은 되었는데 화면이 안보일 경우 windows 방화벽 문제일 수도 있다."
   ]
  },
  {
   "cell_type": "code",
   "execution_count": 138,
   "metadata": {
    "hidden": true
   },
   "outputs": [
    {
     "data": {
      "text/plain": [
       "ERROR: Timed out waiting for TensorBoard to start. It may still be running as pid 12420."
      ]
     },
     "metadata": {},
     "output_type": "display_data"
    }
   ],
   "source": [
    "%tensorboard --logdir logs "
   ]
  },
  {
   "cell_type": "markdown",
   "metadata": {
    "heading_collapsed": true,
    "hidden": true
   },
   "source": [
    "### EarlyStopping"
   ]
  },
  {
   "cell_type": "markdown",
   "metadata": {
    "hidden": true
   },
   "source": [
    "Early Stopping은 학습을 조기종료하여 overfitting을 방지하는 기법이다.  \n",
    "기본적으로 validation의 loss를 기준으로 종료 시점을 결정한다. (다양한 옵션 가능)"
   ]
  },
  {
   "cell_type": "code",
   "execution_count": 114,
   "metadata": {
    "hidden": true
   },
   "outputs": [],
   "source": [
    "from tensorflow.keras.callbacks import EarlyStopping"
   ]
  },
  {
   "cell_type": "markdown",
   "metadata": {
    "hidden": true
   },
   "source": [
    "epochs을 100으로 지정했지만, 학습이 조기 종료되었다."
   ]
  },
  {
   "cell_type": "code",
   "execution_count": 123,
   "metadata": {
    "hidden": true
   },
   "outputs": [
    {
     "name": "stdout",
     "output_type": "stream",
     "text": [
      "Train on 208 samples, validate on 90 samples\n",
      "Epoch 1/100\n",
      "208/208 [==============================] - 0s 163us/sample - loss: 18.3719 - val_loss: 26.4058\n",
      "Epoch 2/100\n",
      "208/208 [==============================] - 0s 135us/sample - loss: 19.4878 - val_loss: 17.8237\n",
      "Epoch 3/100\n",
      "208/208 [==============================] - 0s 120us/sample - loss: 14.6023 - val_loss: 17.0688\n",
      "Epoch 4/100\n",
      "208/208 [==============================] - 0s 130us/sample - loss: 13.1784 - val_loss: 16.9161\n",
      "Epoch 5/100\n",
      "208/208 [==============================] - 0s 111us/sample - loss: 17.6649 - val_loss: 20.4186\n"
     ]
    }
   ],
   "source": [
    "result = model.fit(X_train.values, y_train.values, \n",
    "                  epochs=100, \n",
    "                  validation_split=0.3,\n",
    "                  callbacks=[EarlyStopping()])"
   ]
  },
  {
   "cell_type": "markdown",
   "metadata": {
    "hidden": true
   },
   "source": [
    "Early Stopping은 전통적인 머신러닝 기법에서부터 사용하던 기법이다."
   ]
  },
  {
   "cell_type": "code",
   "execution_count": 102,
   "metadata": {
    "hidden": true
   },
   "outputs": [],
   "source": [
    "from sklearn.ensemble import ExtraTreesClassifier # Ensemble류 모델에 Early stopping 개념 "
   ]
  },
  {
   "cell_type": "code",
   "execution_count": 108,
   "metadata": {
    "hidden": true
   },
   "outputs": [],
   "source": [
    "iris = sns.load_dataset('iris')"
   ]
  },
  {
   "cell_type": "code",
   "execution_count": 103,
   "metadata": {
    "hidden": true
   },
   "outputs": [],
   "source": [
    "etc = ExtraTreesClassifier(min_impurity_split=1e-7) # min_impurity_split이 Early Stopping의 역할을 한다."
   ]
  },
  {
   "cell_type": "code",
   "execution_count": 109,
   "metadata": {
    "hidden": true
   },
   "outputs": [
    {
     "name": "stderr",
     "output_type": "stream",
     "text": [
      "C:\\Users\\JINHYO\\Anaconda3\\lib\\site-packages\\sklearn\\tree\\_classes.py:301: FutureWarning: The min_impurity_split parameter is deprecated. Its default value will change from 1e-7 to 0 in version 0.23, and it will be removed in 0.25. Use the min_impurity_decrease parameter instead.\n",
      "  FutureWarning)\n"
     ]
    },
    {
     "data": {
      "text/plain": [
       "ExtraTreesClassifier(bootstrap=False, ccp_alpha=0.0, class_weight=None,\n",
       "                     criterion='gini', max_depth=None, max_features='auto',\n",
       "                     max_leaf_nodes=None, max_samples=None,\n",
       "                     min_impurity_decrease=0.0, min_impurity_split=1e-07,\n",
       "                     min_samples_leaf=1, min_samples_split=2,\n",
       "                     min_weight_fraction_leaf=0.0, n_estimators=100,\n",
       "                     n_jobs=None, oob_score=False, random_state=None, verbose=0,\n",
       "                     warm_start=False)"
      ]
     },
     "execution_count": 109,
     "metadata": {},
     "output_type": "execute_result"
    }
   ],
   "source": [
    "etc.fit(iris.iloc[:, :-1], iris.iloc[:, -1])"
   ]
  },
  {
   "cell_type": "markdown",
   "metadata": {
    "hidden": true
   },
   "source": [
    "### history"
   ]
  },
  {
   "cell_type": "markdown",
   "metadata": {
    "hidden": true
   },
   "source": [
    "history callback은 `fit`할때 내부적으로 자동 적용된다.  \n",
    "그래서 result에서 history를 볼 수 있다."
   ]
  },
  {
   "cell_type": "code",
   "execution_count": 110,
   "metadata": {
    "hidden": true
   },
   "outputs": [],
   "source": [
    "from tensorflow.keras.callbacks import History"
   ]
  },
  {
   "cell_type": "code",
   "execution_count": 111,
   "metadata": {
    "hidden": true
   },
   "outputs": [
    {
     "data": {
      "text/plain": [
       "tensorflow.python.keras.callbacks.History"
      ]
     },
     "execution_count": 111,
     "metadata": {},
     "output_type": "execute_result"
    }
   ],
   "source": [
    "History"
   ]
  },
  {
   "cell_type": "code",
   "execution_count": 112,
   "metadata": {
    "hidden": true
   },
   "outputs": [
    {
     "name": "stderr",
     "output_type": "stream",
     "text": [
      "W0405 11:12:19.762949 12256 training.py:504] Falling back from v2 loop because of error: Failed to find data adapter that can handle input: <class 'pandas.core.frame.DataFrame'>, <class 'NoneType'>\n"
     ]
    },
    {
     "name": "stdout",
     "output_type": "stream",
     "text": [
      "Train on 298 samples\n",
      "298/298 [==============================] - 0s 57us/sample - loss: 223.9518\n"
     ]
    }
   ],
   "source": [
    "result = model.fit(X_train, y_train)"
   ]
  },
  {
   "cell_type": "code",
   "execution_count": 113,
   "metadata": {
    "hidden": true
   },
   "outputs": [
    {
     "data": {
      "text/plain": [
       "{'loss': [223.95178396749816]}"
      ]
     },
     "execution_count": 113,
     "metadata": {},
     "output_type": "execute_result"
    }
   ],
   "source": [
    "result.history # history callback이 자동으로 기본 적용되어있다."
   ]
  },
  {
   "cell_type": "markdown",
   "metadata": {
    "heading_collapsed": true
   },
   "source": [
    "## 혼자서 공부하는 법"
   ]
  },
  {
   "cell_type": "markdown",
   "metadata": {
    "heading_collapsed": true,
    "hidden": true
   },
   "source": [
    "### 구조 관찰"
   ]
  },
  {
   "cell_type": "markdown",
   "metadata": {
    "hidden": true
   },
   "source": [
    "단순한 구조의 뉴럴네트워크를 만들어서 입력과 출력이 어떻게 변화하는지 관찰해보면 딥러닝을 이해하는데 도움이 된다."
   ]
  },
  {
   "cell_type": "code",
   "execution_count": 141,
   "metadata": {
    "hidden": true
   },
   "outputs": [],
   "source": [
    "import tensorflow as tf"
   ]
  },
  {
   "cell_type": "code",
   "execution_count": 101,
   "metadata": {
    "hidden": true
   },
   "outputs": [],
   "source": [
    "model = tf.keras.models.Sequential([\n",
    "    tf.keras.layers.Dense(2, input_shape=(2,))\n",
    "])"
   ]
  },
  {
   "cell_type": "markdown",
   "metadata": {
    "hidden": true
   },
   "source": [
    "위 모델의 구조는 대략 다음과 같다."
   ]
  },
  {
   "attachments": {
    "image.png": {
     "image/png": "[encoded data removed]"
    }
   },
   "cell_type": "markdown",
   "metadata": {
    "hidden": true
   },
   "source": [
    "![image.png](attachment:image.png)"
   ]
  },
  {
   "cell_type": "markdown",
   "metadata": {
    "hidden": true
   },
   "source": [
    "간단한 인풋 데이터를 만든다. "
   ]
  },
  {
   "cell_type": "code",
   "execution_count": 102,
   "metadata": {
    "hidden": true
   },
   "outputs": [],
   "source": [
    "import numpy as np"
   ]
  },
  {
   "cell_type": "code",
   "execution_count": 103,
   "metadata": {
    "hidden": true
   },
   "outputs": [],
   "source": [
    "# feature는 2, batch는 2\n",
    "a = np.array([\n",
    "    [1,2],\n",
    "    [3,4]\n",
    "])"
   ]
  },
  {
   "cell_type": "markdown",
   "metadata": {
    "hidden": true
   },
   "source": [
    "`predict`를 해본다.  \n",
    "feed forward이므로 앞에서부터 단순히 weight를 곱한다."
   ]
  },
  {
   "cell_type": "code",
   "execution_count": 104,
   "metadata": {
    "hidden": true
   },
   "outputs": [
    {
     "data": {
      "text/plain": [
       "array([[1.413641 , 1.2395843],\n",
       "       [2.940303 , 3.5760336]], dtype=float32)"
      ]
     },
     "execution_count": 104,
     "metadata": {},
     "output_type": "execute_result"
    }
   ],
   "source": [
    "model.predict(a)"
   ]
  },
  {
   "cell_type": "markdown",
   "metadata": {
    "hidden": true
   },
   "source": [
    "`kernel_initializer`는 weight의 초기값을 지정한다. ones는 weight의 초기값을 모두 1로 한다."
   ]
  },
  {
   "cell_type": "code",
   "execution_count": 110,
   "metadata": {
    "hidden": true
   },
   "outputs": [],
   "source": [
    "model = tf.keras.models.Sequential([\n",
    "    tf.keras.layers.Dense(2, kernel_initializer=\"ones\", input_shape=(2,))\n",
    "])"
   ]
  },
  {
   "cell_type": "markdown",
   "metadata": {
    "hidden": true
   },
   "source": [
    "weight가 모두 1이므로 다음과 같은 결과가 나온다.  \n",
    "첫번째 데이터는 1 x 1 + 2 x 1,   1 x 1 + 2 x 1  \n",
    "두번째 데이터는 3 x 1 + 4 x 1,   3 x 1 + 4 x 1  "
   ]
  },
  {
   "cell_type": "code",
   "execution_count": 111,
   "metadata": {
    "hidden": true
   },
   "outputs": [
    {
     "data": {
      "text/plain": [
       "array([[3., 3.],\n",
       "       [7., 7.]], dtype=float32)"
      ]
     },
     "execution_count": 111,
     "metadata": {},
     "output_type": "execute_result"
    }
   ],
   "source": [
    "model.predict(a)"
   ]
  },
  {
   "cell_type": "markdown",
   "metadata": {
    "hidden": true
   },
   "source": [
    "weight의 초기값을 0으로 하면 0이 곱해져서 모두 0이 된다.  \n",
    "첫번째 데이터는 1 x 0 + 2 x 0,   1 x 0 + 2 x 0  \n",
    "두번째 데이터는 3 x 0 + 4 x 0,   3 x 0 + 4 x 0  "
   ]
  },
  {
   "cell_type": "code",
   "execution_count": 107,
   "metadata": {
    "hidden": true
   },
   "outputs": [],
   "source": [
    "model = tf.keras.models.Sequential([\n",
    "    tf.keras.layers.Dense(2, kernel_initializer=\"zeros\", input_shape=(2,))\n",
    "])"
   ]
  },
  {
   "cell_type": "code",
   "execution_count": 108,
   "metadata": {
    "hidden": true
   },
   "outputs": [
    {
     "data": {
      "text/plain": [
       "array([[0., 0.],\n",
       "       [0., 0.]], dtype=float32)"
      ]
     },
     "execution_count": 108,
     "metadata": {},
     "output_type": "execute_result"
    }
   ],
   "source": [
    "model.predict(a)"
   ]
  },
  {
   "cell_type": "markdown",
   "metadata": {
    "hidden": true
   },
   "source": [
    "`bias_initializer`는 bias의 초기값을 정한다."
   ]
  },
  {
   "cell_type": "markdown",
   "metadata": {
    "hidden": true
   },
   "source": [
    "bias가 모두 1이므로,    \n",
    "첫번째 데이터는 1 x 0 + 2 x 0 + 1,   1 x 0 + 2 x 0 + 1   \n",
    "두번째 데이터는 3 x 0 + 4 x 0 + 1,   3 x 0 + 4 x 0 + 1 "
   ]
  },
  {
   "cell_type": "code",
   "execution_count": 118,
   "metadata": {
    "hidden": true
   },
   "outputs": [],
   "source": [
    "model = tf.keras.models.Sequential([\n",
    "    tf.keras.layers.Dense(2, kernel_initializer=\"zeros\", bias_initializer=\"ones\", input_shape=(2,))\n",
    "])"
   ]
  },
  {
   "cell_type": "code",
   "execution_count": 114,
   "metadata": {
    "hidden": true
   },
   "outputs": [
    {
     "data": {
      "text/plain": [
       "array([[1., 1.],\n",
       "       [1., 1.]], dtype=float32)"
      ]
     },
     "execution_count": 114,
     "metadata": {},
     "output_type": "execute_result"
    }
   ],
   "source": [
    "model.predict(a)"
   ]
  },
  {
   "cell_type": "markdown",
   "metadata": {
    "hidden": true
   },
   "source": [
    "intitializer를 지정하지 않으면 랜덤값으로 초기화된다.  \n",
    "정확히 말하자면 xavier initialization 방식으로 초기화된다.  \n",
    "\n",
    "커널 이니셜라이즈만 7~8개 방식이 있다.  \n",
    "\n",
    "`use_bia`s를 False로 두면 bias를 안 쓴다. "
   ]
  },
  {
   "cell_type": "markdown",
   "metadata": {
    "hidden": true
   },
   "source": [
    "batch 개수를 늘려보자."
   ]
  },
  {
   "cell_type": "code",
   "execution_count": 116,
   "metadata": {
    "hidden": true
   },
   "outputs": [],
   "source": [
    "# batch 3\n",
    "a = np.array([\n",
    "    [1,2],\n",
    "    [3,4],\n",
    "    [4,5]\n",
    "])"
   ]
  },
  {
   "cell_type": "code",
   "execution_count": 119,
   "metadata": {
    "hidden": true
   },
   "outputs": [
    {
     "data": {
      "text/plain": [
       "array([[1., 1.],\n",
       "       [1., 1.],\n",
       "       [1., 1.]], dtype=float32)"
      ]
     },
     "execution_count": 119,
     "metadata": {},
     "output_type": "execute_result"
    }
   ],
   "source": [
    "# 3개\n",
    "model.predict(a)"
   ]
  },
  {
   "cell_type": "code",
   "execution_count": 120,
   "metadata": {
    "hidden": true
   },
   "outputs": [
    {
     "name": "stdout",
     "output_type": "stream",
     "text": [
      "Model: \"sequential_7\"\n",
      "_________________________________________________________________\n",
      "Layer (type)                 Output Shape              Param #   \n",
      "=================================================================\n",
      "dense_13 (Dense)             (None, 2)                 6         \n",
      "=================================================================\n",
      "Total params: 6\n",
      "Trainable params: 6\n",
      "Non-trainable params: 0\n",
      "_________________________________________________________________\n"
     ]
    }
   ],
   "source": [
    "model.summary()"
   ]
  },
  {
   "cell_type": "markdown",
   "metadata": {
    "hidden": true
   },
   "source": [
    "위의 `summary`를 해석해보자.  \n",
    "output shape은 (None, 2)이다. 첫번째 차원이 None인 이유는 batch size에 따라 달라지기 때문이다.  \n",
    "현재 모델의 parameter 개수는 weight 4개 + bias 2개 이므로 총 6개이다.  "
   ]
  },
  {
   "cell_type": "markdown",
   "metadata": {
    "hidden": true
   },
   "source": [
    "연산 과정은 행렬 곱과 덧셈으로 볼 수 있다. ($n$은 batch size, bias는 broadcating )  \n",
    "$$\n",
    "\\left[ \\begin{array}{c} x_{11} \\ x_{12} \\\\ x_{11} \\ x_{12} \\\\  : \\\\ x_{n1} \\ x_{n2} \\end{array} \\right] \\times \n",
    "\\left[ \\begin{array}{c} w_1 \\ w_3 \\\\ w_2 \\ w_4  \\end{array} \\right] + \n",
    "\\left[ \\begin{array}{c} b_1 \\ b_2 \\\\ b_1 \\ b_2 \\\\ : \\\\ b_1 \\ b_2 \\end{array} \\right]\n",
    "$$"
   ]
  },
  {
   "cell_type": "markdown",
   "metadata": {
    "hidden": true
   },
   "source": [
    "weight와 bias를 합쳐서 표기하는 문헌도 있다.  \n",
    "$$\n",
    "\\left[ \\begin{array}{c} 1 \\ x_{11} \\ x_{12} \\\\ 1 \\ x_{11} \\ x_{12} \\\\  : \\\\ 1 \\ x_{n1} \\ x_{n2} \\end{array} \\right] \\times \n",
    "\\left[ \\begin{array}{c} b_1 \\ b_2 \\\\ w_1 \\ w_3 \\\\ w_2 \\ w_4  \\end{array} \\right] \n",
    "$$"
   ]
  },
  {
   "cell_type": "markdown",
   "metadata": {
    "hidden": true
   },
   "source": [
    "레이어를 2개 쌓았을 때 output shape과 parameter 개수가 어떻게 될지 생각해보자."
   ]
  },
  {
   "cell_type": "code",
   "execution_count": 121,
   "metadata": {
    "hidden": true
   },
   "outputs": [],
   "source": [
    "model = tf.keras.models.Sequential([\n",
    "    tf.keras.layers.Dense(2, kernel_initializer=\"ones\", bias_initializer=\"ones\", input_shape=(2,)),\n",
    "    tf.keras.layers.Dense(2, kernel_initializer=\"ones\", bias_initializer=\"ones\")\n",
    "])"
   ]
  },
  {
   "cell_type": "code",
   "execution_count": 122,
   "metadata": {
    "hidden": true
   },
   "outputs": [
    {
     "name": "stdout",
     "output_type": "stream",
     "text": [
      "Model: \"sequential_8\"\n",
      "_________________________________________________________________\n",
      "Layer (type)                 Output Shape              Param #   \n",
      "=================================================================\n",
      "dense_14 (Dense)             (None, 2)                 6         \n",
      "_________________________________________________________________\n",
      "dense_15 (Dense)             (None, 2)                 6         \n",
      "=================================================================\n",
      "Total params: 12\n",
      "Trainable params: 12\n",
      "Non-trainable params: 0\n",
      "_________________________________________________________________\n"
     ]
    }
   ],
   "source": [
    "model.summary() # input 2개, node 2개라서 4 + bias 2"
   ]
  },
  {
   "cell_type": "code",
   "execution_count": 123,
   "metadata": {
    "hidden": true
   },
   "outputs": [
    {
     "data": {
      "text/plain": [
       "array([[ 9.,  9.],\n",
       "       [17., 17.],\n",
       "       [21., 21.]], dtype=float32)"
      ]
     },
     "execution_count": 123,
     "metadata": {},
     "output_type": "execute_result"
    }
   ],
   "source": [
    "model.predict(a)"
   ]
  },
  {
   "cell_type": "markdown",
   "metadata": {
    "hidden": true
   },
   "source": [
    "`input_shape`을 바꾸면 output shape과 parameter 개수가 어떻게 바뀔지 예상해보자."
   ]
  },
  {
   "cell_type": "code",
   "execution_count": 124,
   "metadata": {
    "hidden": true
   },
   "outputs": [],
   "source": [
    "model = tf.keras.models.Sequential([\n",
    "    tf.keras.layers.Dense(2, kernel_initializer=\"ones\", bias_initializer=\"ones\", input_shape=(3,)),\n",
    "    tf.keras.layers.Dense(2, kernel_initializer=\"ones\", bias_initializer=\"ones\")\n",
    "])"
   ]
  },
  {
   "attachments": {
    "image.png": {
     "image/png": "[encoded data removed]"
    }
   },
   "cell_type": "markdown",
   "metadata": {
    "hidden": true
   },
   "source": [
    "![image.png](attachment:image.png)"
   ]
  },
  {
   "cell_type": "code",
   "execution_count": 125,
   "metadata": {
    "hidden": true
   },
   "outputs": [
    {
     "name": "stdout",
     "output_type": "stream",
     "text": [
      "Model: \"sequential_9\"\n",
      "_________________________________________________________________\n",
      "Layer (type)                 Output Shape              Param #   \n",
      "=================================================================\n",
      "dense_16 (Dense)             (None, 2)                 8         \n",
      "_________________________________________________________________\n",
      "dense_17 (Dense)             (None, 2)                 6         \n",
      "=================================================================\n",
      "Total params: 14\n",
      "Trainable params: 14\n",
      "Non-trainable params: 0\n",
      "_________________________________________________________________\n"
     ]
    }
   ],
   "source": [
    "model.summary()"
   ]
  },
  {
   "cell_type": "markdown",
   "metadata": {
    "hidden": true
   },
   "source": [
    "더 복잡한 구조일 때는 output shape과 parameter 개수가 어떻게 바뀔지 예측해보자."
   ]
  },
  {
   "cell_type": "code",
   "execution_count": 126,
   "metadata": {
    "hidden": true
   },
   "outputs": [],
   "source": [
    "model = tf.keras.models.Sequential([\n",
    "    tf.keras.layers.Dense(4, kernel_initializer=\"ones\", bias_initializer=\"ones\", input_shape=(4,)),\n",
    "    tf.keras.layers.Dense(3, kernel_initializer=\"ones\", use_bias=False),\n",
    "    tf.keras.layers.Dense(3, kernel_initializer=\"ones\", bias_initializer=\"zeros\")\n",
    "])"
   ]
  },
  {
   "cell_type": "code",
   "execution_count": 128,
   "metadata": {
    "hidden": true
   },
   "outputs": [
    {
     "data": {
      "text/plain": [
       "(20, 12, 12)"
      ]
     },
     "execution_count": 128,
     "metadata": {},
     "output_type": "execute_result"
    }
   ],
   "source": [
    "(4*4+4) , (4*3) , (3*3+3) # layer 1, layer 2, layer 3\n",
    "                          # input x output + bias"
   ]
  },
  {
   "cell_type": "code",
   "execution_count": 129,
   "metadata": {
    "hidden": true
   },
   "outputs": [
    {
     "name": "stdout",
     "output_type": "stream",
     "text": [
      "Model: \"sequential_10\"\n",
      "_________________________________________________________________\n",
      "Layer (type)                 Output Shape              Param #   \n",
      "=================================================================\n",
      "dense_18 (Dense)             (None, 4)                 20        \n",
      "_________________________________________________________________\n",
      "dense_19 (Dense)             (None, 3)                 12        \n",
      "_________________________________________________________________\n",
      "dense_20 (Dense)             (None, 3)                 12        \n",
      "=================================================================\n",
      "Total params: 44\n",
      "Trainable params: 44\n",
      "Non-trainable params: 0\n",
      "_________________________________________________________________\n"
     ]
    }
   ],
   "source": [
    "model.summary()"
   ]
  },
  {
   "cell_type": "markdown",
   "metadata": {
    "hidden": true
   },
   "source": [
    "모델에 이름을 붙일 수 있다. "
   ]
  },
  {
   "cell_type": "code",
   "execution_count": 142,
   "metadata": {
    "hidden": true
   },
   "outputs": [],
   "source": [
    "model = tf.keras.models.Sequential([\n",
    "    tf.keras.layers.Dense(4, kernel_initializer=\"ones\", bias_initializer=\"ones\", input_shape=(4,)),\n",
    "    tf.keras.layers.Dense(3, kernel_initializer=\"ones\", use_bias=False),\n",
    "    tf.keras.layers.Dense(3, kernel_initializer=\"ones\", bias_initializer=\"zeros\")\n",
    "], name=\"AI이노베이션\")"
   ]
  },
  {
   "cell_type": "code",
   "execution_count": 143,
   "metadata": {
    "hidden": true
   },
   "outputs": [
    {
     "name": "stdout",
     "output_type": "stream",
     "text": [
      "Model: \"AI이노베이션\"\n",
      "_________________________________________________________________\n",
      "Layer (type)                 Output Shape              Param #   \n",
      "=================================================================\n",
      "dense_26 (Dense)             (None, 4)                 20        \n",
      "_________________________________________________________________\n",
      "dense_27 (Dense)             (None, 3)                 12        \n",
      "_________________________________________________________________\n",
      "dense_28 (Dense)             (None, 3)                 12        \n",
      "=================================================================\n",
      "Total params: 44\n",
      "Trainable params: 44\n",
      "Non-trainable params: 0\n",
      "_________________________________________________________________\n"
     ]
    }
   ],
   "source": [
    "model.summary() # 한글 버그가 있다. tensorboard할 때 에러 날 수도 있으니까 가능한 영어로 쓰자"
   ]
  },
  {
   "cell_type": "markdown",
   "metadata": {
    "hidden": true
   },
   "source": [
    "layer에도 이름을 붙일 수 있다.  \n",
    "지금은 레이어가 몇개 없어서 괜찮지만, 나중에 레이어가 많아지면 숫자로 관리하기가 힘들다.  "
   ]
  },
  {
   "cell_type": "code",
   "execution_count": 152,
   "metadata": {
    "hidden": true
   },
   "outputs": [],
   "source": [
    "model = tf.keras.models.Sequential([\n",
    "    tf.keras.layers.Dense(4, kernel_initializer=\"ones\", bias_initializer=\"ones\", input_shape=(4,), name=\"subway\"),\n",
    "    tf.keras.layers.Dense(3, kernel_initializer=\"ones\", use_bias=False),\n",
    "    tf.keras.layers.Dense(3, kernel_initializer=\"ones\", bias_initializer=\"zeros\")\n",
    "], name=\"AI이노베이션\")"
   ]
  },
  {
   "cell_type": "code",
   "execution_count": 153,
   "metadata": {
    "hidden": true
   },
   "outputs": [
    {
     "name": "stdout",
     "output_type": "stream",
     "text": [
      "Model: \"AI이노베이션\"\n",
      "_________________________________________________________________\n",
      "Layer (type)                 Output Shape              Param #   \n",
      "=================================================================\n",
      "subway (Dense)               (None, 4)                 20        \n",
      "_________________________________________________________________\n",
      "dense_35 (Dense)             (None, 3)                 12        \n",
      "_________________________________________________________________\n",
      "dense_36 (Dense)             (None, 3)                 12        \n",
      "=================================================================\n",
      "Total params: 44\n",
      "Trainable params: 44\n",
      "Non-trainable params: 0\n",
      "_________________________________________________________________\n"
     ]
    }
   ],
   "source": [
    "model.summary()"
   ]
  },
  {
   "cell_type": "markdown",
   "metadata": {
    "heading_collapsed": true,
    "hidden": true
   },
   "source": [
    "### 레이어 관찰"
   ]
  },
  {
   "cell_type": "markdown",
   "metadata": {
    "hidden": true
   },
   "source": [
    "`layers`는 모델 레이어의 리스트이다."
   ]
  },
  {
   "cell_type": "code",
   "execution_count": 154,
   "metadata": {
    "hidden": true
   },
   "outputs": [
    {
     "data": {
      "text/plain": [
       "[<tensorflow.python.keras.layers.core.Dense at 0x1f0224deef0>,\n",
       " <tensorflow.python.keras.layers.core.Dense at 0x1f0224de518>,\n",
       " <tensorflow.python.keras.layers.core.Dense at 0x1f02253b128>]"
      ]
     },
     "execution_count": 154,
     "metadata": {},
     "output_type": "execute_result"
    }
   ],
   "source": [
    "model.layers"
   ]
  },
  {
   "cell_type": "markdown",
   "metadata": {
    "hidden": true
   },
   "source": [
    "리스트이므로 indexing, slicing 가능하다."
   ]
  },
  {
   "cell_type": "code",
   "execution_count": 156,
   "metadata": {
    "hidden": true
   },
   "outputs": [
    {
     "data": {
      "text/plain": [
       "<tensorflow.python.keras.layers.core.Dense at 0x1f0224deef0>"
      ]
     },
     "execution_count": 156,
     "metadata": {},
     "output_type": "execute_result"
    }
   ],
   "source": [
    "model.layers[0]"
   ]
  },
  {
   "cell_type": "markdown",
   "metadata": {
    "hidden": true
   },
   "source": [
    "이름으로도 layer를 가져올 수 있다."
   ]
  },
  {
   "cell_type": "code",
   "execution_count": 157,
   "metadata": {
    "hidden": true
   },
   "outputs": [
    {
     "data": {
      "text/plain": [
       "<tensorflow.python.keras.layers.core.Dense at 0x1f0224deef0>"
      ]
     },
     "execution_count": 157,
     "metadata": {},
     "output_type": "execute_result"
    }
   ],
   "source": [
    "model.get_layer(\"subway\")"
   ]
  },
  {
   "cell_type": "markdown",
   "metadata": {
    "hidden": true
   },
   "source": [
    "레이어의 weight 가져올 수 있다. "
   ]
  },
  {
   "cell_type": "code",
   "execution_count": 137,
   "metadata": {
    "hidden": true
   },
   "outputs": [
    {
     "data": {
      "text/plain": [
       "[<tf.Variable 'dense_24/kernel:0' shape=(4, 3) dtype=float32, numpy=\n",
       " array([[1., 1., 1.],\n",
       "        [1., 1., 1.],\n",
       "        [1., 1., 1.],\n",
       "        [1., 1., 1.]], dtype=float32)>]"
      ]
     },
     "execution_count": 137,
     "metadata": {},
     "output_type": "execute_result"
    }
   ],
   "source": [
    "model.layers[1].weights"
   ]
  },
  {
   "cell_type": "markdown",
   "metadata": {
    "hidden": true
   },
   "source": [
    "두번째 layer는 `use_bias=False`라서 bias가 없다."
   ]
  },
  {
   "cell_type": "code",
   "execution_count": 138,
   "metadata": {
    "hidden": true
   },
   "outputs": [],
   "source": [
    "model.layers[1].bias"
   ]
  },
  {
   "cell_type": "markdown",
   "metadata": {
    "hidden": true
   },
   "source": [
    "첫번째 layer는 bias가 있다. "
   ]
  },
  {
   "cell_type": "markdown",
   "metadata": {
    "hidden": true
   },
   "source": [
    "weight는 2차인데 bias는 1차원이다."
   ]
  },
  {
   "cell_type": "code",
   "execution_count": 139,
   "metadata": {
    "hidden": true
   },
   "outputs": [
    {
     "data": {
      "text/plain": [
       "<tf.Variable 'ss/bias:0' shape=(4,) dtype=float32, numpy=array([1., 1., 1., 1.], dtype=float32)>"
      ]
     },
     "execution_count": 139,
     "metadata": {},
     "output_type": "execute_result"
    }
   ],
   "source": [
    "model.layers[0].bias"
   ]
  },
  {
   "cell_type": "markdown",
   "metadata": {
    "hidden": true
   },
   "source": [
    "layer의 unit 개수도 알 수 있다."
   ]
  },
  {
   "cell_type": "code",
   "execution_count": 140,
   "metadata": {
    "hidden": true
   },
   "outputs": [
    {
     "data": {
      "text/plain": [
       "3"
      ]
     },
     "execution_count": 140,
     "metadata": {},
     "output_type": "execute_result"
    }
   ],
   "source": [
    "model.layers[2].units"
   ]
  },
  {
   "cell_type": "markdown",
   "metadata": {
    "heading_collapsed": true,
    "hidden": true
   },
   "source": [
    "### 업데이트 관찰"
   ]
  },
  {
   "cell_type": "markdown",
   "metadata": {
    "hidden": true
   },
   "source": [
    "input shape만 넣어주면 알아서 행렬로 다 만들어준다. "
   ]
  },
  {
   "cell_type": "code",
   "execution_count": 164,
   "metadata": {
    "hidden": true
   },
   "outputs": [],
   "source": [
    "# Error: 무엇이 에러일까?\n",
    "model = tf.keras.models.Sequential([\n",
    "    tf.keras.layers.Dense(4, kernel_initializer=\"ones\", bias_initializer=\"ones\", name=\"ss\"),\n",
    "    tf.keras.layers.Dense(3, kernel_initializer=\"ones\", bias_initializer=\"zeros\")\n",
    "])"
   ]
  },
  {
   "cell_type": "code",
   "execution_count": 165,
   "metadata": {
    "hidden": true
   },
   "outputs": [
    {
     "name": "stdout",
     "output_type": "stream",
     "text": [
      "Model: \"sequential_10\"\n",
      "_________________________________________________________________\n",
      "Layer (type)                 Output Shape              Param #   \n",
      "=================================================================\n",
      "ss (Dense)                   (None, 4)                 12        \n",
      "_________________________________________________________________\n",
      "dense_38 (Dense)             (None, 3)                 15        \n",
      "=================================================================\n",
      "Total params: 27\n",
      "Trainable params: 27\n",
      "Non-trainable params: 0\n",
      "_________________________________________________________________\n"
     ]
    }
   ],
   "source": [
    "model.summary()"
   ]
  },
  {
   "cell_type": "code",
   "execution_count": 211,
   "metadata": {
    "hidden": true
   },
   "outputs": [],
   "source": [
    "# input shape가 없으면 에러\n",
    "model = tf.keras.models.Sequential([\n",
    "    tf.keras.layers.Dense(4, kernel_initializer=\"ones\", bias_initializer=\"ones\", input_shape=(2,)),\n",
    "    tf.keras.layers.Dense(1)\n",
    "])"
   ]
  },
  {
   "cell_type": "markdown",
   "metadata": {
    "hidden": true
   },
   "source": [
    "이제 학습시키면 weight가 어떻게 바뀌는지 살펴보자"
   ]
  },
  {
   "cell_type": "code",
   "execution_count": 212,
   "metadata": {
    "hidden": true
   },
   "outputs": [],
   "source": [
    "a = np.array([\n",
    "    [1,2],\n",
    "    [3,2]\n",
    "])\n",
    "\n",
    "b = np.array([0,1])"
   ]
  },
  {
   "cell_type": "code",
   "execution_count": 213,
   "metadata": {
    "hidden": true
   },
   "outputs": [],
   "source": [
    "model.compile(loss=\"binary_crossentropy\", optimizer=\"adam\")"
   ]
  },
  {
   "cell_type": "code",
   "execution_count": 214,
   "metadata": {
    "hidden": true
   },
   "outputs": [
    {
     "name": "stdout",
     "output_type": "stream",
     "text": [
      "Train on 2 samples\n",
      "2/2 [==============================] - 0s 198ms/sample - loss: 0.9790\n"
     ]
    },
    {
     "data": {
      "text/plain": [
       "<tensorflow.python.keras.callbacks.History at 0x1f026844438>"
      ]
     },
     "execution_count": 214,
     "metadata": {},
     "output_type": "execute_result"
    }
   ],
   "source": [
    "model.fit(a, b)"
   ]
  },
  {
   "cell_type": "code",
   "execution_count": 215,
   "metadata": {
    "hidden": true,
    "scrolled": true
   },
   "outputs": [
    {
     "data": {
      "text/plain": [
       "[<tf.Variable 'dense_47/kernel:0' shape=(2, 4) dtype=float32, numpy=\n",
       " array([[1.001, 0.999, 1.001, 0.999],\n",
       "        [1.001, 0.999, 1.001, 0.999]], dtype=float32)>,\n",
       " <tf.Variable 'dense_47/bias:0' shape=(4,) dtype=float32, numpy=array([1.001, 0.999, 1.001, 0.999], dtype=float32)>]"
      ]
     },
     "execution_count": 215,
     "metadata": {},
     "output_type": "execute_result"
    }
   ],
   "source": [
    "model.layers[0].weights"
   ]
  },
  {
   "cell_type": "markdown",
   "metadata": {
    "hidden": true
   },
   "source": [
    "weight, bias 초기화를 지정하지 않고 모델을 만들어 보자"
   ]
  },
  {
   "cell_type": "code",
   "execution_count": 216,
   "metadata": {
    "hidden": true
   },
   "outputs": [],
   "source": [
    "model = tf.keras.models.Sequential([\n",
    "    tf.keras.layers.Dense(4, input_shape=(2,)),\n",
    "    tf.keras.layers.Dense(1)\n",
    "])"
   ]
  },
  {
   "cell_type": "code",
   "execution_count": 217,
   "metadata": {
    "hidden": true
   },
   "outputs": [],
   "source": [
    "model.compile(loss=\"binary_crossentropy\", optimizer=\"adam\")"
   ]
  },
  {
   "cell_type": "code",
   "execution_count": 218,
   "metadata": {
    "hidden": true
   },
   "outputs": [
    {
     "name": "stdout",
     "output_type": "stream",
     "text": [
      "Train on 2 samples\n",
      "2/2 [==============================] - 0s 204ms/sample - loss: 7.7108\n"
     ]
    },
    {
     "data": {
      "text/plain": [
       "<tensorflow.python.keras.callbacks.History at 0x1f027d26c18>"
      ]
     },
     "execution_count": 218,
     "metadata": {},
     "output_type": "execute_result"
    }
   ],
   "source": [
    "model.fit(a, b)"
   ]
  },
  {
   "cell_type": "code",
   "execution_count": 219,
   "metadata": {
    "hidden": true,
    "scrolled": true
   },
   "outputs": [
    {
     "data": {
      "text/plain": [
       "[<tf.Variable 'dense_49/kernel:0' shape=(2, 4) dtype=float32, numpy=\n",
       " array([[-0.26607305, -0.35957855, -0.1270538 ,  0.18013676],\n",
       "        [-0.1568287 ,  0.34513575,  0.3282928 ,  0.3118294 ]],\n",
       "       dtype=float32)>,\n",
       " <tf.Variable 'dense_49/bias:0' shape=(4,) dtype=float32, numpy=array([-0.00099998,  0.00099999, -0.00099998,  0.00099999], dtype=float32)>]"
      ]
     },
     "execution_count": 219,
     "metadata": {},
     "output_type": "execute_result"
    }
   ],
   "source": [
    "# 현재 weight 확인\n",
    "model.layers[0].weights"
   ]
  },
  {
   "cell_type": "code",
   "execution_count": 220,
   "metadata": {
    "hidden": true
   },
   "outputs": [
    {
     "name": "stdout",
     "output_type": "stream",
     "text": [
      "Train on 2 samples\n",
      "2/2 [==============================] - 0s 6ms/sample - loss: 7.7004\n"
     ]
    },
    {
     "data": {
      "text/plain": [
       "<tensorflow.python.keras.callbacks.History at 0x1f0281c1240>"
      ]
     },
     "execution_count": 220,
     "metadata": {},
     "output_type": "execute_result"
    }
   ],
   "source": [
    "model.fit(a, b)"
   ]
  },
  {
   "cell_type": "code",
   "execution_count": 221,
   "metadata": {
    "hidden": true
   },
   "outputs": [
    {
     "data": {
      "text/plain": [
       "[<tf.Variable 'dense_49/kernel:0' shape=(2, 4) dtype=float32, numpy=\n",
       " array([[-0.26707256, -0.3585792 , -0.1280531 ,  0.18113619],\n",
       "        [-0.15782823,  0.3461351 ,  0.3272935 ,  0.3128288 ]],\n",
       "       dtype=float32)>,\n",
       " <tf.Variable 'dense_49/bias:0' shape=(4,) dtype=float32, numpy=array([-0.00199949,  0.00199936, -0.00199928,  0.00199942], dtype=float32)>]"
      ]
     },
     "execution_count": 221,
     "metadata": {},
     "output_type": "execute_result"
    }
   ],
   "source": [
    "# 학습 전 weight와 비교\n",
    "model.layers[0].weights"
   ]
  },
  {
   "cell_type": "markdown",
   "metadata": {
    "hidden": true
   },
   "source": [
    "data가 2개 밖에 없어서 weight가 많이 안 바뀐다 "
   ]
  },
  {
   "cell_type": "code",
   "execution_count": 222,
   "metadata": {
    "hidden": true
   },
   "outputs": [],
   "source": [
    "# 데이터 개수 늘리기\n",
    "\n",
    "a = np.array([\n",
    "    [1,2],\n",
    "    [3,2],\n",
    "    [1,5],\n",
    "    [1,4],\n",
    "    [2,4],\n",
    "    [5,3],\n",
    "    [2,7]\n",
    "])\n",
    "\n",
    "b = np.array([0,1,0,1,1,0,0])"
   ]
  },
  {
   "cell_type": "code",
   "execution_count": 223,
   "metadata": {
    "hidden": true
   },
   "outputs": [],
   "source": [
    "from copy import deepcopy"
   ]
  },
  {
   "cell_type": "code",
   "execution_count": 224,
   "metadata": {
    "hidden": true
   },
   "outputs": [
    {
     "name": "stdout",
     "output_type": "stream",
     "text": [
      "Train on 7 samples\n",
      "\r",
      "7/7 [==============================] - 0s 1ms/sample - loss: 8.7686\n"
     ]
    }
   ],
   "source": [
    "model.fit(a, b)\n",
    "weights1 = deepcopy(model.layers[0].weights)"
   ]
  },
  {
   "cell_type": "code",
   "execution_count": 225,
   "metadata": {
    "hidden": true
   },
   "outputs": [
    {
     "name": "stdout",
     "output_type": "stream",
     "text": [
      "Train on 7 samples\n",
      "\r",
      "7/7 [==============================] - 0s 1ms/sample - loss: 8.7661\n"
     ]
    }
   ],
   "source": [
    "model.fit(a, b)\n",
    "weights2 = deepcopy(model.layers[0].weights)"
   ]
  },
  {
   "cell_type": "code",
   "execution_count": 226,
   "metadata": {
    "hidden": true
   },
   "outputs": [
    {
     "name": "stdout",
     "output_type": "stream",
     "text": [
      "Train on 7 samples\n",
      "\r",
      "7/7 [==============================] - 0s 1ms/sample - loss: 8.7638\n"
     ]
    }
   ],
   "source": [
    "model.fit(a, b)\n",
    "weights3 = deepcopy(model.layers[0].weights)"
   ]
  },
  {
   "cell_type": "markdown",
   "metadata": {
    "hidden": true
   },
   "source": [
    "numpy 포맷으로 바꾸면 보기 편하다."
   ]
  },
  {
   "cell_type": "code",
   "execution_count": 227,
   "metadata": {
    "hidden": true
   },
   "outputs": [
    {
     "name": "stdout",
     "output_type": "stream",
     "text": [
      "1차 학습 weight\n",
      " [[-0.26795423 -0.35769835 -0.12893364  0.18201737]\n",
      " [-0.15870988  0.34701595  0.32641295  0.31370997]]\n",
      "2차 학습 weight\n",
      " [[-0.2687726  -0.3568816  -0.1297498   0.18283477]\n",
      " [-0.15952826  0.3478327   0.32559678  0.3145274 ]]\n",
      "3차 학습 weight\n",
      " [[-0.2695521  -0.35610455 -0.13052592  0.1836128 ]\n",
      " [-0.16030778  0.34860975  0.32482067  0.3153054 ]]\n"
     ]
    }
   ],
   "source": [
    "print(\"1차 학습 weight\\n\", weights1[0].numpy())\n",
    "print(\"2차 학습 weight\\n\", weights2[0].numpy())\n",
    "print(\"3차 학습 weight\\n\", weights3[0].numpy())"
   ]
  },
  {
   "cell_type": "markdown",
   "metadata": {
    "hidden": true
   },
   "source": [
    "data가 작아서 혹은 data가 엉터리라서 학습이 잘 안되나 보다"
   ]
  },
  {
   "cell_type": "code",
   "execution_count": 197,
   "metadata": {
    "hidden": true
   },
   "outputs": [],
   "source": [
    "import pandas as pd"
   ]
  },
  {
   "cell_type": "code",
   "execution_count": 229,
   "metadata": {
    "hidden": true
   },
   "outputs": [],
   "source": [
    "x = pd.DataFrame(a, columns=[\"x\", \"y\"])\n",
    "y = pd.DataFrame(b, columns=[\"target\"])\n",
    "z = pd.concat([x, y], axis=1)"
   ]
  },
  {
   "cell_type": "code",
   "execution_count": 230,
   "metadata": {
    "hidden": true
   },
   "outputs": [
    {
     "data": {
      "text/html": [
       "<div>\n",
       "<style scoped>\n",
       "    .dataframe tbody tr th:only-of-type {\n",
       "        vertical-align: middle;\n",
       "    }\n",
       "\n",
       "    .dataframe tbody tr th {\n",
       "        vertical-align: top;\n",
       "    }\n",
       "\n",
       "    .dataframe thead th {\n",
       "        text-align: right;\n",
       "    }\n",
       "</style>\n",
       "<table border=\"1\" class=\"dataframe\">\n",
       "  <thead>\n",
       "    <tr style=\"text-align: right;\">\n",
       "      <th></th>\n",
       "      <th>x</th>\n",
       "      <th>y</th>\n",
       "      <th>target</th>\n",
       "    </tr>\n",
       "  </thead>\n",
       "  <tbody>\n",
       "    <tr>\n",
       "      <th>0</th>\n",
       "      <td>1</td>\n",
       "      <td>2</td>\n",
       "      <td>0</td>\n",
       "    </tr>\n",
       "    <tr>\n",
       "      <th>1</th>\n",
       "      <td>3</td>\n",
       "      <td>2</td>\n",
       "      <td>1</td>\n",
       "    </tr>\n",
       "    <tr>\n",
       "      <th>2</th>\n",
       "      <td>1</td>\n",
       "      <td>5</td>\n",
       "      <td>0</td>\n",
       "    </tr>\n",
       "    <tr>\n",
       "      <th>3</th>\n",
       "      <td>1</td>\n",
       "      <td>4</td>\n",
       "      <td>1</td>\n",
       "    </tr>\n",
       "    <tr>\n",
       "      <th>4</th>\n",
       "      <td>2</td>\n",
       "      <td>4</td>\n",
       "      <td>1</td>\n",
       "    </tr>\n",
       "    <tr>\n",
       "      <th>5</th>\n",
       "      <td>5</td>\n",
       "      <td>3</td>\n",
       "      <td>0</td>\n",
       "    </tr>\n",
       "    <tr>\n",
       "      <th>6</th>\n",
       "      <td>2</td>\n",
       "      <td>7</td>\n",
       "      <td>0</td>\n",
       "    </tr>\n",
       "  </tbody>\n",
       "</table>\n",
       "</div>"
      ],
      "text/plain": [
       "   x  y  target\n",
       "0  1  2       0\n",
       "1  3  2       1\n",
       "2  1  5       0\n",
       "3  1  4       1\n",
       "4  2  4       1\n",
       "5  5  3       0\n",
       "6  2  7       0"
      ]
     },
     "execution_count": 230,
     "metadata": {},
     "output_type": "execute_result"
    }
   ],
   "source": [
    "z"
   ]
  },
  {
   "cell_type": "markdown",
   "metadata": {
    "hidden": true
   },
   "source": [
    "데이터의 대표성이 부족하면 학습이 되지 않는다."
   ]
  },
  {
   "cell_type": "code",
   "execution_count": 231,
   "metadata": {
    "hidden": true
   },
   "outputs": [
    {
     "data": {
      "text/plain": [
       "<matplotlib.axes._subplots.AxesSubplot at 0x1f02830b198>"
      ]
     },
     "execution_count": 231,
     "metadata": {},
     "output_type": "execute_result"
    },
    {
     "data": {
      "image/png": "[encoded data removed]",
      "text/plain": [
       "<Figure size 432x288 with 1 Axes>"
      ]
     },
     "metadata": {
      "needs_background": "light"
     },
     "output_type": "display_data"
    }
   ],
   "source": [
    "sns.scatterplot(\"x\", \"y\", \"target\", data=z)"
   ]
  },
  {
   "cell_type": "markdown",
   "metadata": {
    "hidden": true
   },
   "source": [
    "모델에 모델을 넣을 수도 있다."
   ]
  },
  {
   "cell_type": "code",
   "execution_count": 232,
   "metadata": {
    "hidden": true
   },
   "outputs": [],
   "source": [
    "# Error 안남\n",
    "model2 = tf.keras.models.Sequential([\n",
    "    tf.keras.layers.Dense(4),\n",
    "    model,\n",
    "])"
   ]
  },
  {
   "cell_type": "markdown",
   "metadata": {
    "hidden": true
   },
   "source": [
    "`summary`할 떄 에러가 발생한다."
   ]
  },
  {
   "cell_type": "code",
   "execution_count": null,
   "metadata": {
    "hidden": true
   },
   "outputs": [],
   "source": [
    "# Error\n",
    "model2.summary()"
   ]
  },
  {
   "cell_type": "markdown",
   "metadata": {
    "hidden": true
   },
   "source": [
    "순서를 바꾸면 된다."
   ]
  },
  {
   "cell_type": "code",
   "execution_count": 234,
   "metadata": {
    "hidden": true
   },
   "outputs": [],
   "source": [
    "model2 = tf.keras.models.Sequential([\n",
    "    model,\n",
    "    tf.keras.layers.Dense(4)\n",
    "])"
   ]
  },
  {
   "cell_type": "code",
   "execution_count": 235,
   "metadata": {
    "hidden": true
   },
   "outputs": [
    {
     "name": "stdout",
     "output_type": "stream",
     "text": [
      "Model: \"sequential_18\"\n",
      "_________________________________________________________________\n",
      "Layer (type)                 Output Shape              Param #   \n",
      "=================================================================\n",
      "sequential_16 (Sequential)   (None, 1)                 17        \n",
      "_________________________________________________________________\n",
      "dense_52 (Dense)             (None, 4)                 8         \n",
      "=================================================================\n",
      "Total params: 25\n",
      "Trainable params: 25\n",
      "Non-trainable params: 0\n",
      "_________________________________________________________________\n"
     ]
    }
   ],
   "source": [
    "model2.summary()"
   ]
  },
  {
   "cell_type": "markdown",
   "metadata": {
    "hidden": true
   },
   "source": [
    "- 작은 모델을 붙여서 큰 모델을 만들 수 있다.  \n",
    "- 모델을 별도로 학습시켜서 붙이는 경우도 있다. \n",
    "- 내부구조가 왜 이렇게 된다? 내부구조가 다 매트릭스이기 때문이다.\n",
    "- keras는 정해진 매트릭스를 자동으로 생성시켜주는 구문이라고 생각하면 된다. "
   ]
  },
  {
   "cell_type": "code",
   "execution_count": null,
   "metadata": {
    "hidden": true
   },
   "outputs": [],
   "source": []
  }
 ],
 "metadata": {
  "kernelspec": {
   "display_name": "Python 3",
   "language": "python",
   "name": "python3"
  },
  "language_info": {
   "codemirror_mode": {
    "name": "ipython",
    "version": 3
   },
   "file_extension": ".py",
   "mimetype": "text/x-python",
   "name": "python",
   "nbconvert_exporter": "python",
   "pygments_lexer": "ipython3",
   "version": "3.7.3"
  },
  "toc": {
   "base_numbering": 1,
   "nav_menu": {},
   "number_sections": true,
   "sideBar": true,
   "skip_h1_title": true,
   "title_cell": "Table of Contents",
   "title_sidebar": "Contents",
   "toc_cell": true,
   "toc_position": {
    "height": "calc(100% - 180px)",
    "left": "10px",
    "top": "150px",
    "width": "307.2px"
   },
   "toc_section_display": true,
   "toc_window_display": true
  },
  "varInspector": {
   "cols": {
    "lenName": 16,
    "lenType": 16,
    "lenVar": 40
   },
   "kernels_config": {
    "python": {
     "delete_cmd_postfix": "",
     "delete_cmd_prefix": "del ",
     "library": "var_list.py",
     "varRefreshCmd": "print(var_dic_list())"
    },
    "r": {
     "delete_cmd_postfix": ") ",
     "delete_cmd_prefix": "rm(",
     "library": "var_list.r",
     "varRefreshCmd": "cat(var_dic_list()) "
    }
   },
   "types_to_exclude": [
    "module",
    "function",
    "builtin_function_or_method",
    "instance",
    "_Feature"
   ],
   "window_display": false
  }
 },
 "nbformat": 4,
 "nbformat_minor": 2
}
