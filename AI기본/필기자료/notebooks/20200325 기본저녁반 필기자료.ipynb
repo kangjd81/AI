{
 "cells": [
  {
   "cell_type": "markdown",
   "metadata": {
    "toc": true
   },
   "source": [
    "<h1>Table of Contents<span class=\"tocSkip\"></span></h1>\n",
    "<div class=\"toc\"><ul class=\"toc-item\"><li><span><a href=\"#mpg-data\" data-toc-modified-id=\"mpg-data-1\"><span class=\"toc-item-num\">1&nbsp;&nbsp;</span>mpg data</a></span></li><li><span><a href=\"#EDA\" data-toc-modified-id=\"EDA-2\"><span class=\"toc-item-num\">2&nbsp;&nbsp;</span>EDA</a></span></li><li><span><a href=\"#missing-data\" data-toc-modified-id=\"missing-data-3\"><span class=\"toc-item-num\">3&nbsp;&nbsp;</span>missing data</a></span><ul class=\"toc-item\"><li><span><a href=\"#KNNImputer\" data-toc-modified-id=\"KNNImputer-3.1\"><span class=\"toc-item-num\">3.1&nbsp;&nbsp;</span>KNNImputer</a></span></li><li><span><a href=\"#SimpleImputer\" data-toc-modified-id=\"SimpleImputer-3.2\"><span class=\"toc-item-num\">3.2&nbsp;&nbsp;</span>SimpleImputer</a></span></li><li><span><a href=\"#fillna\" data-toc-modified-id=\"fillna-3.3\"><span class=\"toc-item-num\">3.3&nbsp;&nbsp;</span>fillna</a></span></li></ul></li><li><span><a href=\"#encoding\" data-toc-modified-id=\"encoding-4\"><span class=\"toc-item-num\">4&nbsp;&nbsp;</span>encoding</a></span></li><li><span><a href=\"#scaling\" data-toc-modified-id=\"scaling-5\"><span class=\"toc-item-num\">5&nbsp;&nbsp;</span>scaling</a></span></li><li><span><a href=\"#learning-curve\" data-toc-modified-id=\"learning-curve-6\"><span class=\"toc-item-num\">6&nbsp;&nbsp;</span>learning curve</a></span></li><li><span><a href=\"#feature-selection\" data-toc-modified-id=\"feature-selection-7\"><span class=\"toc-item-num\">7&nbsp;&nbsp;</span>feature selection</a></span><ul class=\"toc-item\"><li><span><a href=\"#Filter\" data-toc-modified-id=\"Filter-7.1\"><span class=\"toc-item-num\">7.1&nbsp;&nbsp;</span>Filter</a></span></li><li><span><a href=\"#Wrapper\" data-toc-modified-id=\"Wrapper-7.2\"><span class=\"toc-item-num\">7.2&nbsp;&nbsp;</span>Wrapper</a></span><ul class=\"toc-item\"><li><span><a href=\"#Recursive-Feature-Extraction\" data-toc-modified-id=\"Recursive-Feature-Extraction-7.2.1\"><span class=\"toc-item-num\">7.2.1&nbsp;&nbsp;</span>Recursive Feature Extraction</a></span></li><li><span><a href=\"#boolean-indexing-복습\" data-toc-modified-id=\"boolean-indexing-복습-7.2.2\"><span class=\"toc-item-num\">7.2.2&nbsp;&nbsp;</span>boolean indexing 복습</a></span></li><li><span><a href=\"#insert\" data-toc-modified-id=\"insert-7.2.3\"><span class=\"toc-item-num\">7.2.3&nbsp;&nbsp;</span>insert</a></span></li></ul></li></ul></li><li><span><a href=\"#Embedded\" data-toc-modified-id=\"Embedded-8\"><span class=\"toc-item-num\">8&nbsp;&nbsp;</span>Embedded</a></span><ul class=\"toc-item\"><li><span><a href=\"#CART(Classification-And-Regression-Tree)\" data-toc-modified-id=\"CART(Classification-And-Regression-Tree)-8.1\"><span class=\"toc-item-num\">8.1&nbsp;&nbsp;</span>CART(Classification And Regression Tree)</a></span></li></ul></li><li><span><a href=\"#parametric-VS-non-parametric\" data-toc-modified-id=\"parametric-VS-non-parametric-9\"><span class=\"toc-item-num\">9&nbsp;&nbsp;</span>parametric VS non-parametric</a></span></li><li><span><a href=\"#ensemble\" data-toc-modified-id=\"ensemble-10\"><span class=\"toc-item-num\">10&nbsp;&nbsp;</span>ensemble</a></span><ul class=\"toc-item\"><li><span><a href=\"#VotingClassifier\" data-toc-modified-id=\"VotingClassifier-10.1\"><span class=\"toc-item-num\">10.1&nbsp;&nbsp;</span>VotingClassifier</a></span><ul class=\"toc-item\"><li><span><a href=\"#weights\" data-toc-modified-id=\"weights-10.1.1\"><span class=\"toc-item-num\">10.1.1&nbsp;&nbsp;</span>weights</a></span></li></ul></li><li><span><a href=\"#VotingClassifier-+-Pipeline-+-GridSearchCV\" data-toc-modified-id=\"VotingClassifier-+-Pipeline-+-GridSearchCV-10.2\"><span class=\"toc-item-num\">10.2&nbsp;&nbsp;</span>VotingClassifier + Pipeline + GridSearchCV</a></span></li></ul></li><li><span><a href=\"#GridSearchCV의-내부-구조\" data-toc-modified-id=\"GridSearchCV의-내부-구조-11\"><span class=\"toc-item-num\">11&nbsp;&nbsp;</span>GridSearchCV의 내부 구조</a></span><ul class=\"toc-item\"><li><span><a href=\"#param_grid에-딕셔너리-1개\" data-toc-modified-id=\"param_grid에-딕셔너리-1개-11.1\"><span class=\"toc-item-num\">11.1&nbsp;&nbsp;</span>param_grid에 딕셔너리 1개</a></span></li><li><span><a href=\"#param_grid에-리스트-안에-딕셔너리\" data-toc-modified-id=\"param_grid에-리스트-안에-딕셔너리-11.2\"><span class=\"toc-item-num\">11.2&nbsp;&nbsp;</span>param_grid에 리스트 안에 딕셔너리</a></span></li></ul></li></ul></div>"
   ]
  },
  {
   "cell_type": "markdown",
   "metadata": {},
   "source": [
    "# [AI 오픈 이노베이션] 기본 저녁반<a class=\"tocSkip\">\n",
    "GitHub link: [https://github.com/realblack0/ai_lecture_fundamental](https://github.com/realblack0/ai_lecture_fundamental)  \n",
    "E-Mail: realblack0@gmail.com"
   ]
  },
  {
   "cell_type": "markdown",
   "metadata": {},
   "source": [
    "## mpg data "
   ]
  },
  {
   "cell_type": "code",
   "execution_count": 1,
   "metadata": {},
   "outputs": [],
   "source": [
    "import seaborn as sns"
   ]
  },
  {
   "cell_type": "code",
   "execution_count": 51,
   "metadata": {},
   "outputs": [],
   "source": [
    "mpg = sns.load_dataset(\"mpg\")"
   ]
  },
  {
   "cell_type": "code",
   "execution_count": 3,
   "metadata": {},
   "outputs": [
    {
     "data": {
      "text/html": [
       "<div>\n",
       "<style scoped>\n",
       "    .dataframe tbody tr th:only-of-type {\n",
       "        vertical-align: middle;\n",
       "    }\n",
       "\n",
       "    .dataframe tbody tr th {\n",
       "        vertical-align: top;\n",
       "    }\n",
       "\n",
       "    .dataframe thead th {\n",
       "        text-align: right;\n",
       "    }\n",
       "</style>\n",
       "<table border=\"1\" class=\"dataframe\">\n",
       "  <thead>\n",
       "    <tr style=\"text-align: right;\">\n",
       "      <th></th>\n",
       "      <th>mpg</th>\n",
       "      <th>cylinders</th>\n",
       "      <th>displacement</th>\n",
       "      <th>horsepower</th>\n",
       "      <th>weight</th>\n",
       "      <th>acceleration</th>\n",
       "      <th>model_year</th>\n",
       "      <th>origin</th>\n",
       "      <th>name</th>\n",
       "    </tr>\n",
       "  </thead>\n",
       "  <tbody>\n",
       "    <tr>\n",
       "      <th>0</th>\n",
       "      <td>18.0</td>\n",
       "      <td>8</td>\n",
       "      <td>307.0</td>\n",
       "      <td>130.0</td>\n",
       "      <td>3504</td>\n",
       "      <td>12.0</td>\n",
       "      <td>70</td>\n",
       "      <td>usa</td>\n",
       "      <td>chevrolet chevelle malibu</td>\n",
       "    </tr>\n",
       "    <tr>\n",
       "      <th>1</th>\n",
       "      <td>15.0</td>\n",
       "      <td>8</td>\n",
       "      <td>350.0</td>\n",
       "      <td>165.0</td>\n",
       "      <td>3693</td>\n",
       "      <td>11.5</td>\n",
       "      <td>70</td>\n",
       "      <td>usa</td>\n",
       "      <td>buick skylark 320</td>\n",
       "    </tr>\n",
       "    <tr>\n",
       "      <th>2</th>\n",
       "      <td>18.0</td>\n",
       "      <td>8</td>\n",
       "      <td>318.0</td>\n",
       "      <td>150.0</td>\n",
       "      <td>3436</td>\n",
       "      <td>11.0</td>\n",
       "      <td>70</td>\n",
       "      <td>usa</td>\n",
       "      <td>plymouth satellite</td>\n",
       "    </tr>\n",
       "    <tr>\n",
       "      <th>3</th>\n",
       "      <td>16.0</td>\n",
       "      <td>8</td>\n",
       "      <td>304.0</td>\n",
       "      <td>150.0</td>\n",
       "      <td>3433</td>\n",
       "      <td>12.0</td>\n",
       "      <td>70</td>\n",
       "      <td>usa</td>\n",
       "      <td>amc rebel sst</td>\n",
       "    </tr>\n",
       "    <tr>\n",
       "      <th>4</th>\n",
       "      <td>17.0</td>\n",
       "      <td>8</td>\n",
       "      <td>302.0</td>\n",
       "      <td>140.0</td>\n",
       "      <td>3449</td>\n",
       "      <td>10.5</td>\n",
       "      <td>70</td>\n",
       "      <td>usa</td>\n",
       "      <td>ford torino</td>\n",
       "    </tr>\n",
       "    <tr>\n",
       "      <th>...</th>\n",
       "      <td>...</td>\n",
       "      <td>...</td>\n",
       "      <td>...</td>\n",
       "      <td>...</td>\n",
       "      <td>...</td>\n",
       "      <td>...</td>\n",
       "      <td>...</td>\n",
       "      <td>...</td>\n",
       "      <td>...</td>\n",
       "    </tr>\n",
       "    <tr>\n",
       "      <th>393</th>\n",
       "      <td>27.0</td>\n",
       "      <td>4</td>\n",
       "      <td>140.0</td>\n",
       "      <td>86.0</td>\n",
       "      <td>2790</td>\n",
       "      <td>15.6</td>\n",
       "      <td>82</td>\n",
       "      <td>usa</td>\n",
       "      <td>ford mustang gl</td>\n",
       "    </tr>\n",
       "    <tr>\n",
       "      <th>394</th>\n",
       "      <td>44.0</td>\n",
       "      <td>4</td>\n",
       "      <td>97.0</td>\n",
       "      <td>52.0</td>\n",
       "      <td>2130</td>\n",
       "      <td>24.6</td>\n",
       "      <td>82</td>\n",
       "      <td>europe</td>\n",
       "      <td>vw pickup</td>\n",
       "    </tr>\n",
       "    <tr>\n",
       "      <th>395</th>\n",
       "      <td>32.0</td>\n",
       "      <td>4</td>\n",
       "      <td>135.0</td>\n",
       "      <td>84.0</td>\n",
       "      <td>2295</td>\n",
       "      <td>11.6</td>\n",
       "      <td>82</td>\n",
       "      <td>usa</td>\n",
       "      <td>dodge rampage</td>\n",
       "    </tr>\n",
       "    <tr>\n",
       "      <th>396</th>\n",
       "      <td>28.0</td>\n",
       "      <td>4</td>\n",
       "      <td>120.0</td>\n",
       "      <td>79.0</td>\n",
       "      <td>2625</td>\n",
       "      <td>18.6</td>\n",
       "      <td>82</td>\n",
       "      <td>usa</td>\n",
       "      <td>ford ranger</td>\n",
       "    </tr>\n",
       "    <tr>\n",
       "      <th>397</th>\n",
       "      <td>31.0</td>\n",
       "      <td>4</td>\n",
       "      <td>119.0</td>\n",
       "      <td>82.0</td>\n",
       "      <td>2720</td>\n",
       "      <td>19.4</td>\n",
       "      <td>82</td>\n",
       "      <td>usa</td>\n",
       "      <td>chevy s-10</td>\n",
       "    </tr>\n",
       "  </tbody>\n",
       "</table>\n",
       "<p>398 rows × 9 columns</p>\n",
       "</div>"
      ],
      "text/plain": [
       "      mpg  cylinders  displacement  horsepower  weight  acceleration  \\\n",
       "0    18.0          8         307.0       130.0    3504          12.0   \n",
       "1    15.0          8         350.0       165.0    3693          11.5   \n",
       "2    18.0          8         318.0       150.0    3436          11.0   \n",
       "3    16.0          8         304.0       150.0    3433          12.0   \n",
       "4    17.0          8         302.0       140.0    3449          10.5   \n",
       "..    ...        ...           ...         ...     ...           ...   \n",
       "393  27.0          4         140.0        86.0    2790          15.6   \n",
       "394  44.0          4          97.0        52.0    2130          24.6   \n",
       "395  32.0          4         135.0        84.0    2295          11.6   \n",
       "396  28.0          4         120.0        79.0    2625          18.6   \n",
       "397  31.0          4         119.0        82.0    2720          19.4   \n",
       "\n",
       "     model_year  origin                       name  \n",
       "0            70     usa  chevrolet chevelle malibu  \n",
       "1            70     usa          buick skylark 320  \n",
       "2            70     usa         plymouth satellite  \n",
       "3            70     usa              amc rebel sst  \n",
       "4            70     usa                ford torino  \n",
       "..          ...     ...                        ...  \n",
       "393          82     usa            ford mustang gl  \n",
       "394          82  europe                  vw pickup  \n",
       "395          82     usa              dodge rampage  \n",
       "396          82     usa                ford ranger  \n",
       "397          82     usa                 chevy s-10  \n",
       "\n",
       "[398 rows x 9 columns]"
      ]
     },
     "execution_count": 3,
     "metadata": {},
     "output_type": "execute_result"
    }
   ],
   "source": [
    "mpg"
   ]
  },
  {
   "cell_type": "markdown",
   "metadata": {},
   "source": [
    "## EDA"
   ]
  },
  {
   "cell_type": "code",
   "execution_count": 4,
   "metadata": {},
   "outputs": [
    {
     "name": "stdout",
     "output_type": "stream",
     "text": [
      "<class 'pandas.core.frame.DataFrame'>\n",
      "RangeIndex: 398 entries, 0 to 397\n",
      "Data columns (total 9 columns):\n",
      "mpg             398 non-null float64\n",
      "cylinders       398 non-null int64\n",
      "displacement    398 non-null float64\n",
      "horsepower      392 non-null float64\n",
      "weight          398 non-null int64\n",
      "acceleration    398 non-null float64\n",
      "model_year      398 non-null int64\n",
      "origin          398 non-null object\n",
      "name            398 non-null object\n",
      "dtypes: float64(4), int64(3), object(2)\n",
      "memory usage: 28.1+ KB\n"
     ]
    }
   ],
   "source": [
    "mpg.info()"
   ]
  },
  {
   "cell_type": "code",
   "execution_count": 206,
   "metadata": {},
   "outputs": [
    {
     "data": {
      "text/html": [
       "<div>\n",
       "<style scoped>\n",
       "    .dataframe tbody tr th:only-of-type {\n",
       "        vertical-align: middle;\n",
       "    }\n",
       "\n",
       "    .dataframe tbody tr th {\n",
       "        vertical-align: top;\n",
       "    }\n",
       "\n",
       "    .dataframe thead th {\n",
       "        text-align: right;\n",
       "    }\n",
       "</style>\n",
       "<table border=\"1\" class=\"dataframe\">\n",
       "  <thead>\n",
       "    <tr style=\"text-align: right;\">\n",
       "      <th></th>\n",
       "      <th>mpg</th>\n",
       "      <th>cylinders</th>\n",
       "      <th>displacement</th>\n",
       "      <th>horsepower</th>\n",
       "      <th>weight</th>\n",
       "      <th>acceleration</th>\n",
       "      <th>model_year</th>\n",
       "    </tr>\n",
       "  </thead>\n",
       "  <tbody>\n",
       "    <tr>\n",
       "      <th>count</th>\n",
       "      <td>398.000000</td>\n",
       "      <td>398.000000</td>\n",
       "      <td>398.000000</td>\n",
       "      <td>392.000000</td>\n",
       "      <td>398.000000</td>\n",
       "      <td>398.000000</td>\n",
       "      <td>398.000000</td>\n",
       "    </tr>\n",
       "    <tr>\n",
       "      <th>mean</th>\n",
       "      <td>23.514573</td>\n",
       "      <td>5.454774</td>\n",
       "      <td>193.425879</td>\n",
       "      <td>104.469388</td>\n",
       "      <td>2970.424623</td>\n",
       "      <td>15.568090</td>\n",
       "      <td>76.010050</td>\n",
       "    </tr>\n",
       "    <tr>\n",
       "      <th>std</th>\n",
       "      <td>7.815984</td>\n",
       "      <td>1.701004</td>\n",
       "      <td>104.269838</td>\n",
       "      <td>38.491160</td>\n",
       "      <td>846.841774</td>\n",
       "      <td>2.757689</td>\n",
       "      <td>3.697627</td>\n",
       "    </tr>\n",
       "    <tr>\n",
       "      <th>min</th>\n",
       "      <td>9.000000</td>\n",
       "      <td>3.000000</td>\n",
       "      <td>68.000000</td>\n",
       "      <td>46.000000</td>\n",
       "      <td>1613.000000</td>\n",
       "      <td>8.000000</td>\n",
       "      <td>70.000000</td>\n",
       "    </tr>\n",
       "    <tr>\n",
       "      <th>25%</th>\n",
       "      <td>17.500000</td>\n",
       "      <td>4.000000</td>\n",
       "      <td>104.250000</td>\n",
       "      <td>75.000000</td>\n",
       "      <td>2223.750000</td>\n",
       "      <td>13.825000</td>\n",
       "      <td>73.000000</td>\n",
       "    </tr>\n",
       "    <tr>\n",
       "      <th>50%</th>\n",
       "      <td>23.000000</td>\n",
       "      <td>4.000000</td>\n",
       "      <td>148.500000</td>\n",
       "      <td>93.500000</td>\n",
       "      <td>2803.500000</td>\n",
       "      <td>15.500000</td>\n",
       "      <td>76.000000</td>\n",
       "    </tr>\n",
       "    <tr>\n",
       "      <th>75%</th>\n",
       "      <td>29.000000</td>\n",
       "      <td>8.000000</td>\n",
       "      <td>262.000000</td>\n",
       "      <td>126.000000</td>\n",
       "      <td>3608.000000</td>\n",
       "      <td>17.175000</td>\n",
       "      <td>79.000000</td>\n",
       "    </tr>\n",
       "    <tr>\n",
       "      <th>max</th>\n",
       "      <td>46.600000</td>\n",
       "      <td>8.000000</td>\n",
       "      <td>455.000000</td>\n",
       "      <td>230.000000</td>\n",
       "      <td>5140.000000</td>\n",
       "      <td>24.800000</td>\n",
       "      <td>82.000000</td>\n",
       "    </tr>\n",
       "  </tbody>\n",
       "</table>\n",
       "</div>"
      ],
      "text/plain": [
       "              mpg   cylinders  displacement  horsepower       weight  \\\n",
       "count  398.000000  398.000000    398.000000  392.000000   398.000000   \n",
       "mean    23.514573    5.454774    193.425879  104.469388  2970.424623   \n",
       "std      7.815984    1.701004    104.269838   38.491160   846.841774   \n",
       "min      9.000000    3.000000     68.000000   46.000000  1613.000000   \n",
       "25%     17.500000    4.000000    104.250000   75.000000  2223.750000   \n",
       "50%     23.000000    4.000000    148.500000   93.500000  2803.500000   \n",
       "75%     29.000000    8.000000    262.000000  126.000000  3608.000000   \n",
       "max     46.600000    8.000000    455.000000  230.000000  5140.000000   \n",
       "\n",
       "       acceleration  model_year  \n",
       "count    398.000000  398.000000  \n",
       "mean      15.568090   76.010050  \n",
       "std        2.757689    3.697627  \n",
       "min        8.000000   70.000000  \n",
       "25%       13.825000   73.000000  \n",
       "50%       15.500000   76.000000  \n",
       "75%       17.175000   79.000000  \n",
       "max       24.800000   82.000000  "
      ]
     },
     "execution_count": 206,
     "metadata": {},
     "output_type": "execute_result"
    }
   ],
   "source": [
    "mpg.describe()"
   ]
  },
  {
   "cell_type": "code",
   "execution_count": 7,
   "metadata": {},
   "outputs": [
    {
     "data": {
      "text/plain": [
       "<matplotlib.axes._subplots.AxesSubplot at 0x1e378a3c898>"
      ]
     },
     "execution_count": 7,
     "metadata": {},
     "output_type": "execute_result"
    },
    {
     "data": {
      "image/png": "[encoded data removed]",
      "text/plain": [
       "<Figure size 432x288 with 1 Axes>"
      ]
     },
     "metadata": {
      "needs_background": "light"
     },
     "output_type": "display_data"
    }
   ],
   "source": [
    "mpg.boxplot()"
   ]
  },
  {
   "cell_type": "markdown",
   "metadata": {},
   "source": [
    "위까지의 기초 분석만으로도 다음을 파악할 수 있어야 한다.\n",
    "- horsepower : missing data 있음\n",
    "- origin, name : encoding 필요함\n",
    "- weight : scaling 필요함\n",
    "- mpg : regression 문제"
   ]
  },
  {
   "cell_type": "code",
   "execution_count": 8,
   "metadata": {},
   "outputs": [
    {
     "data": {
      "text/plain": [
       "<seaborn.axisgrid.PairGrid at 0x1e37ca11198>"
      ]
     },
     "execution_count": 8,
     "metadata": {},
     "output_type": "execute_result"
    },
    {
     "data": {
      "image/png": "[encoded data removed]",
      "text/plain": [
       "<Figure size 1260x1260 with 56 Axes>"
      ]
     },
     "metadata": {
      "needs_background": "light"
     },
     "output_type": "display_data"
    }
   ],
   "source": [
    "sns.pairplot(mpg)"
   ]
  },
  {
   "cell_type": "code",
   "execution_count": 10,
   "metadata": {},
   "outputs": [
    {
     "data": {
      "text/plain": [
       "<matplotlib.axes._subplots.AxesSubplot at 0x1e37c3c9080>"
      ]
     },
     "execution_count": 10,
     "metadata": {},
     "output_type": "execute_result"
    },
    {
     "data": {
      "image/png": "[encoded data removed]",
      "text/plain": [
       "<Figure size 432x288 with 2 Axes>"
      ]
     },
     "metadata": {
      "needs_background": "light"
     },
     "output_type": "display_data"
    }
   ],
   "source": [
    "sns.heatmap(mpg.corr(), annot=True)"
   ]
  },
  {
   "cell_type": "markdown",
   "metadata": {},
   "source": [
    "위의 pairplot과 heatmap을 통해서 상관관계가 아주 큰 feature들을 찾을 수 있다.  \n",
    "이 경우, 다중공선성 문제가 발생할 수 있다.  \n",
    "\n",
    "> **다중공선성(Multicollinearity)** \n",
    "> - 관련성이 많은 feature가 2개 이상 있을 때 성능에 부정적인 영향을 미칠 수 있다.  \n",
    "> - 통계에서 자주 나오는 용어이다.\n",
    "> - 해결방법 : 중복 feature 제거하기"
   ]
  },
  {
   "cell_type": "code",
   "execution_count": 11,
   "metadata": {},
   "outputs": [],
   "source": [
    "import missingno as mino"
   ]
  },
  {
   "cell_type": "code",
   "execution_count": 13,
   "metadata": {},
   "outputs": [
    {
     "data": {
      "text/plain": [
       "<matplotlib.axes._subplots.AxesSubplot at 0x1e37f9dc748>"
      ]
     },
     "execution_count": 13,
     "metadata": {},
     "output_type": "execute_result"
    },
    {
     "data": {
      "image/png": "[encoded data removed]",
      "text/plain": [
       "<Figure size 1800x720 with 2 Axes>"
      ]
     },
     "metadata": {
      "needs_background": "light"
     },
     "output_type": "display_data"
    }
   ],
   "source": [
    "mino.matrix(mpg)"
   ]
  },
  {
   "cell_type": "markdown",
   "metadata": {},
   "source": [
    "missing data를 찾을 때 `missingno` 라이브러리가 유용하다."
   ]
  },
  {
   "cell_type": "markdown",
   "metadata": {},
   "source": [
    "## missing data"
   ]
  },
  {
   "cell_type": "markdown",
   "metadata": {},
   "source": [
    "missing data 비율을 보니 무시하기에는 아깝다. 채우는게 좋겠다."
   ]
  },
  {
   "cell_type": "code",
   "execution_count": 19,
   "metadata": {},
   "outputs": [
    {
     "data": {
      "text/plain": [
       "0.01507537688442211"
      ]
     },
     "execution_count": 19,
     "metadata": {},
     "output_type": "execute_result"
    }
   ],
   "source": [
    "sum(mpg.horsepower.isna()) / len(mpg)"
   ]
  },
  {
   "cell_type": "markdown",
   "metadata": {},
   "source": [
    "### KNNImputer"
   ]
  },
  {
   "cell_type": "markdown",
   "metadata": {},
   "source": [
    "scikit-learn의 `impute`모듈에는 missing data를 채워주는 기능들이 있다.  \n",
    "※ 버전에 따라서 `impute`모듈이 아니라 `preprocessing`에 있을 수도 있음"
   ]
  },
  {
   "cell_type": "markdown",
   "metadata": {},
   "source": [
    "그중 `KNNImputer`는 KNN을 이용해서 missing data를 처리해주는 방식이다."
   ]
  },
  {
   "cell_type": "code",
   "execution_count": 20,
   "metadata": {},
   "outputs": [],
   "source": [
    "from sklearn.impute import KNNImputer"
   ]
  },
  {
   "cell_type": "code",
   "execution_count": 21,
   "metadata": {},
   "outputs": [],
   "source": [
    "knni = KNNImputer() # shift + tab 보면 KNN 알고리즘 처럼 n_neighbors 옵션 있음."
   ]
  },
  {
   "cell_type": "code",
   "execution_count": null,
   "metadata": {},
   "outputs": [],
   "source": [
    "# Error\n",
    "knni.fit_transform(mpg.horsepower)"
   ]
  },
  {
   "cell_type": "markdown",
   "metadata": {},
   "source": [
    "에러메시지를 보면 차원 문제이다.\n",
    "```\n",
    "Reshape your data either using array.reshape(-1, 1) if your data has a single feature or array.reshape(1, -1) if it contains a single sample.\n",
    "```"
   ]
  },
  {
   "cell_type": "code",
   "execution_count": 24,
   "metadata": {},
   "outputs": [
    {
     "data": {
      "text/plain": [
       "array([[130.        ],\n",
       "       [165.        ],\n",
       "       [150.        ],\n",
       "       [150.        ],\n",
       "       [140.        ],\n",
       "       [198.        ],\n",
       "       [220.        ],\n",
       "       [215.        ],\n",
       "       [225.        ],\n",
       "       [190.        ],\n",
       "       [170.        ],\n",
       "       [160.        ],\n",
       "       [150.        ],\n",
       "       [225.        ],\n",
       "       [ 95.        ],\n",
       "       [ 95.        ],\n",
       "       [ 97.        ],\n",
       "       [ 85.        ],\n",
       "       [ 88.        ],\n",
       "       [ 46.        ],\n",
       "       [ 87.        ],\n",
       "       [ 90.        ],\n",
       "       [ 95.        ],\n",
       "       [113.        ],\n",
       "       [ 90.        ],\n",
       "       [215.        ],\n",
       "       [200.        ],\n",
       "       [210.        ],\n",
       "       [193.        ],\n",
       "       [ 88.        ],\n",
       "       [ 90.        ],\n",
       "       [ 95.        ],\n",
       "       [104.46938776],\n",
       "       [100.        ],\n",
       "       [105.        ],\n",
       "       [100.        ],\n",
       "       [ 88.        ],\n",
       "       [100.        ],\n",
       "       [165.        ],\n",
       "       [175.        ],\n",
       "       [153.        ],\n",
       "       [150.        ],\n",
       "       [180.        ],\n",
       "       [170.        ],\n",
       "       [175.        ],\n",
       "       [110.        ],\n",
       "       [ 72.        ],\n",
       "       [100.        ],\n",
       "       [ 88.        ],\n",
       "       [ 86.        ],\n",
       "       [ 90.        ],\n",
       "       [ 70.        ],\n",
       "       [ 76.        ],\n",
       "       [ 65.        ],\n",
       "       [ 69.        ],\n",
       "       [ 60.        ],\n",
       "       [ 70.        ],\n",
       "       [ 95.        ],\n",
       "       [ 80.        ],\n",
       "       [ 54.        ],\n",
       "       [ 90.        ],\n",
       "       [ 86.        ],\n",
       "       [165.        ],\n",
       "       [175.        ],\n",
       "       [150.        ],\n",
       "       [153.        ],\n",
       "       [150.        ],\n",
       "       [208.        ],\n",
       "       [155.        ],\n",
       "       [160.        ],\n",
       "       [190.        ],\n",
       "       [ 97.        ],\n",
       "       [150.        ],\n",
       "       [130.        ],\n",
       "       [140.        ],\n",
       "       [150.        ],\n",
       "       [112.        ],\n",
       "       [ 76.        ],\n",
       "       [ 87.        ],\n",
       "       [ 69.        ],\n",
       "       [ 86.        ],\n",
       "       [ 92.        ],\n",
       "       [ 97.        ],\n",
       "       [ 80.        ],\n",
       "       [ 88.        ],\n",
       "       [175.        ],\n",
       "       [150.        ],\n",
       "       [145.        ],\n",
       "       [137.        ],\n",
       "       [150.        ],\n",
       "       [198.        ],\n",
       "       [150.        ],\n",
       "       [158.        ],\n",
       "       [150.        ],\n",
       "       [215.        ],\n",
       "       [225.        ],\n",
       "       [175.        ],\n",
       "       [105.        ],\n",
       "       [100.        ],\n",
       "       [100.        ],\n",
       "       [ 88.        ],\n",
       "       [ 95.        ],\n",
       "       [ 46.        ],\n",
       "       [150.        ],\n",
       "       [167.        ],\n",
       "       [170.        ],\n",
       "       [180.        ],\n",
       "       [100.        ],\n",
       "       [ 88.        ],\n",
       "       [ 72.        ],\n",
       "       [ 94.        ],\n",
       "       [ 90.        ],\n",
       "       [ 85.        ],\n",
       "       [107.        ],\n",
       "       [ 90.        ],\n",
       "       [145.        ],\n",
       "       [230.        ],\n",
       "       [ 49.        ],\n",
       "       [ 75.        ],\n",
       "       [ 91.        ],\n",
       "       [112.        ],\n",
       "       [150.        ],\n",
       "       [110.        ],\n",
       "       [122.        ],\n",
       "       [180.        ],\n",
       "       [ 95.        ],\n",
       "       [104.46938776],\n",
       "       [100.        ],\n",
       "       [100.        ],\n",
       "       [ 67.        ],\n",
       "       [ 80.        ],\n",
       "       [ 65.        ],\n",
       "       [ 75.        ],\n",
       "       [100.        ],\n",
       "       [110.        ],\n",
       "       [105.        ],\n",
       "       [140.        ],\n",
       "       [150.        ],\n",
       "       [150.        ],\n",
       "       [140.        ],\n",
       "       [150.        ],\n",
       "       [ 83.        ],\n",
       "       [ 67.        ],\n",
       "       [ 78.        ],\n",
       "       [ 52.        ],\n",
       "       [ 61.        ],\n",
       "       [ 75.        ],\n",
       "       [ 75.        ],\n",
       "       [ 75.        ],\n",
       "       [ 97.        ],\n",
       "       [ 93.        ],\n",
       "       [ 67.        ],\n",
       "       [ 95.        ],\n",
       "       [105.        ],\n",
       "       [ 72.        ],\n",
       "       [ 72.        ],\n",
       "       [170.        ],\n",
       "       [145.        ],\n",
       "       [150.        ],\n",
       "       [148.        ],\n",
       "       [110.        ],\n",
       "       [105.        ],\n",
       "       [110.        ],\n",
       "       [ 95.        ],\n",
       "       [110.        ],\n",
       "       [110.        ],\n",
       "       [129.        ],\n",
       "       [ 75.        ],\n",
       "       [ 83.        ],\n",
       "       [100.        ],\n",
       "       [ 78.        ],\n",
       "       [ 96.        ],\n",
       "       [ 71.        ],\n",
       "       [ 97.        ],\n",
       "       [ 97.        ],\n",
       "       [ 70.        ],\n",
       "       [ 90.        ],\n",
       "       [ 95.        ],\n",
       "       [ 88.        ],\n",
       "       [ 98.        ],\n",
       "       [115.        ],\n",
       "       [ 53.        ],\n",
       "       [ 86.        ],\n",
       "       [ 81.        ],\n",
       "       [ 92.        ],\n",
       "       [ 79.        ],\n",
       "       [ 83.        ],\n",
       "       [140.        ],\n",
       "       [150.        ],\n",
       "       [120.        ],\n",
       "       [152.        ],\n",
       "       [100.        ],\n",
       "       [105.        ],\n",
       "       [ 81.        ],\n",
       "       [ 90.        ],\n",
       "       [ 52.        ],\n",
       "       [ 60.        ],\n",
       "       [ 70.        ],\n",
       "       [ 53.        ],\n",
       "       [100.        ],\n",
       "       [ 78.        ],\n",
       "       [110.        ],\n",
       "       [ 95.        ],\n",
       "       [ 71.        ],\n",
       "       [ 70.        ],\n",
       "       [ 75.        ],\n",
       "       [ 72.        ],\n",
       "       [102.        ],\n",
       "       [150.        ],\n",
       "       [ 88.        ],\n",
       "       [108.        ],\n",
       "       [120.        ],\n",
       "       [180.        ],\n",
       "       [145.        ],\n",
       "       [130.        ],\n",
       "       [150.        ],\n",
       "       [ 68.        ],\n",
       "       [ 80.        ],\n",
       "       [ 58.        ],\n",
       "       [ 96.        ],\n",
       "       [ 70.        ],\n",
       "       [145.        ],\n",
       "       [110.        ],\n",
       "       [145.        ],\n",
       "       [130.        ],\n",
       "       [110.        ],\n",
       "       [105.        ],\n",
       "       [100.        ],\n",
       "       [ 98.        ],\n",
       "       [180.        ],\n",
       "       [170.        ],\n",
       "       [190.        ],\n",
       "       [149.        ],\n",
       "       [ 78.        ],\n",
       "       [ 88.        ],\n",
       "       [ 75.        ],\n",
       "       [ 89.        ],\n",
       "       [ 63.        ],\n",
       "       [ 83.        ],\n",
       "       [ 67.        ],\n",
       "       [ 78.        ],\n",
       "       [ 97.        ],\n",
       "       [110.        ],\n",
       "       [110.        ],\n",
       "       [ 48.        ],\n",
       "       [ 66.        ],\n",
       "       [ 52.        ],\n",
       "       [ 70.        ],\n",
       "       [ 60.        ],\n",
       "       [110.        ],\n",
       "       [140.        ],\n",
       "       [139.        ],\n",
       "       [105.        ],\n",
       "       [ 95.        ],\n",
       "       [ 85.        ],\n",
       "       [ 88.        ],\n",
       "       [100.        ],\n",
       "       [ 90.        ],\n",
       "       [105.        ],\n",
       "       [ 85.        ],\n",
       "       [110.        ],\n",
       "       [120.        ],\n",
       "       [145.        ],\n",
       "       [165.        ],\n",
       "       [139.        ],\n",
       "       [140.        ],\n",
       "       [ 68.        ],\n",
       "       [ 95.        ],\n",
       "       [ 97.        ],\n",
       "       [ 75.        ],\n",
       "       [ 95.        ],\n",
       "       [105.        ],\n",
       "       [ 85.        ],\n",
       "       [ 97.        ],\n",
       "       [103.        ],\n",
       "       [125.        ],\n",
       "       [115.        ],\n",
       "       [133.        ],\n",
       "       [ 71.        ],\n",
       "       [ 68.        ],\n",
       "       [115.        ],\n",
       "       [ 85.        ],\n",
       "       [ 88.        ],\n",
       "       [ 90.        ],\n",
       "       [110.        ],\n",
       "       [130.        ],\n",
       "       [129.        ],\n",
       "       [138.        ],\n",
       "       [135.        ],\n",
       "       [155.        ],\n",
       "       [142.        ],\n",
       "       [125.        ],\n",
       "       [150.        ],\n",
       "       [ 71.        ],\n",
       "       [ 65.        ],\n",
       "       [ 80.        ],\n",
       "       [ 80.        ],\n",
       "       [ 77.        ],\n",
       "       [125.        ],\n",
       "       [ 71.        ],\n",
       "       [ 90.        ],\n",
       "       [ 70.        ],\n",
       "       [ 70.        ],\n",
       "       [ 65.        ],\n",
       "       [ 69.        ],\n",
       "       [ 90.        ],\n",
       "       [115.        ],\n",
       "       [115.        ],\n",
       "       [ 90.        ],\n",
       "       [ 76.        ],\n",
       "       [ 60.        ],\n",
       "       [ 70.        ],\n",
       "       [ 65.        ],\n",
       "       [ 90.        ],\n",
       "       [ 88.        ],\n",
       "       [ 90.        ],\n",
       "       [ 90.        ],\n",
       "       [ 78.        ],\n",
       "       [ 90.        ],\n",
       "       [ 75.        ],\n",
       "       [ 92.        ],\n",
       "       [ 75.        ],\n",
       "       [ 65.        ],\n",
       "       [105.        ],\n",
       "       [ 65.        ],\n",
       "       [ 48.        ],\n",
       "       [ 48.        ],\n",
       "       [ 67.        ],\n",
       "       [ 67.        ],\n",
       "       [ 67.        ],\n",
       "       [104.46938776],\n",
       "       [ 67.        ],\n",
       "       [ 62.        ],\n",
       "       [132.        ],\n",
       "       [100.        ],\n",
       "       [ 88.        ],\n",
       "       [104.46938776],\n",
       "       [ 72.        ],\n",
       "       [ 84.        ],\n",
       "       [ 84.        ],\n",
       "       [ 92.        ],\n",
       "       [110.        ],\n",
       "       [ 84.        ],\n",
       "       [ 58.        ],\n",
       "       [ 64.        ],\n",
       "       [ 60.        ],\n",
       "       [ 67.        ],\n",
       "       [ 65.        ],\n",
       "       [ 62.        ],\n",
       "       [ 68.        ],\n",
       "       [ 63.        ],\n",
       "       [ 65.        ],\n",
       "       [ 65.        ],\n",
       "       [ 74.        ],\n",
       "       [104.46938776],\n",
       "       [ 75.        ],\n",
       "       [ 75.        ],\n",
       "       [100.        ],\n",
       "       [ 74.        ],\n",
       "       [ 80.        ],\n",
       "       [ 76.        ],\n",
       "       [116.        ],\n",
       "       [120.        ],\n",
       "       [110.        ],\n",
       "       [105.        ],\n",
       "       [ 88.        ],\n",
       "       [ 85.        ],\n",
       "       [ 88.        ],\n",
       "       [ 88.        ],\n",
       "       [ 88.        ],\n",
       "       [ 85.        ],\n",
       "       [ 84.        ],\n",
       "       [ 90.        ],\n",
       "       [ 92.        ],\n",
       "       [104.46938776],\n",
       "       [ 74.        ],\n",
       "       [ 68.        ],\n",
       "       [ 68.        ],\n",
       "       [ 63.        ],\n",
       "       [ 70.        ],\n",
       "       [ 88.        ],\n",
       "       [ 75.        ],\n",
       "       [ 70.        ],\n",
       "       [ 67.        ],\n",
       "       [ 67.        ],\n",
       "       [ 67.        ],\n",
       "       [110.        ],\n",
       "       [ 85.        ],\n",
       "       [ 92.        ],\n",
       "       [112.        ],\n",
       "       [ 96.        ],\n",
       "       [ 84.        ],\n",
       "       [ 90.        ],\n",
       "       [ 86.        ],\n",
       "       [ 52.        ],\n",
       "       [ 84.        ],\n",
       "       [ 79.        ],\n",
       "       [ 82.        ]])"
      ]
     },
     "execution_count": 24,
     "metadata": {},
     "output_type": "execute_result"
    }
   ],
   "source": [
    "knni.fit_transform(mpg[[\"horsepower\"]]) # fancy index -> 2차원"
   ]
  },
  {
   "cell_type": "markdown",
   "metadata": {},
   "source": [
    "### SimpleImputer"
   ]
  },
  {
   "cell_type": "markdown",
   "metadata": {},
   "source": [
    "`SimpleImputer`는 간단한 방법으로 missing data를 채워준다.  \n",
    "`strategy`옵션은 mean, median, most_frequent 통계값으로 missing data를 채운다.  \n",
    "constant로 할 경우, `fill_value` 값으로 일괄적으로 채운다."
   ]
  },
  {
   "cell_type": "code",
   "execution_count": 25,
   "metadata": {},
   "outputs": [],
   "source": [
    "from sklearn.impute import SimpleImputer"
   ]
  },
  {
   "cell_type": "code",
   "execution_count": 26,
   "metadata": {},
   "outputs": [],
   "source": [
    "si = SimpleImputer() # default strategy : mean"
   ]
  },
  {
   "cell_type": "code",
   "execution_count": 27,
   "metadata": {
    "scrolled": true
   },
   "outputs": [
    {
     "data": {
      "text/plain": [
       "array([[130.        ],\n",
       "       [165.        ],\n",
       "       [150.        ],\n",
       "       [150.        ],\n",
       "       [140.        ],\n",
       "       [198.        ],\n",
       "       [220.        ],\n",
       "       [215.        ],\n",
       "       [225.        ],\n",
       "       [190.        ],\n",
       "       [170.        ],\n",
       "       [160.        ],\n",
       "       [150.        ],\n",
       "       [225.        ],\n",
       "       [ 95.        ],\n",
       "       [ 95.        ],\n",
       "       [ 97.        ],\n",
       "       [ 85.        ],\n",
       "       [ 88.        ],\n",
       "       [ 46.        ],\n",
       "       [ 87.        ],\n",
       "       [ 90.        ],\n",
       "       [ 95.        ],\n",
       "       [113.        ],\n",
       "       [ 90.        ],\n",
       "       [215.        ],\n",
       "       [200.        ],\n",
       "       [210.        ],\n",
       "       [193.        ],\n",
       "       [ 88.        ],\n",
       "       [ 90.        ],\n",
       "       [ 95.        ],\n",
       "       [104.46938776],\n",
       "       [100.        ],\n",
       "       [105.        ],\n",
       "       [100.        ],\n",
       "       [ 88.        ],\n",
       "       [100.        ],\n",
       "       [165.        ],\n",
       "       [175.        ],\n",
       "       [153.        ],\n",
       "       [150.        ],\n",
       "       [180.        ],\n",
       "       [170.        ],\n",
       "       [175.        ],\n",
       "       [110.        ],\n",
       "       [ 72.        ],\n",
       "       [100.        ],\n",
       "       [ 88.        ],\n",
       "       [ 86.        ],\n",
       "       [ 90.        ],\n",
       "       [ 70.        ],\n",
       "       [ 76.        ],\n",
       "       [ 65.        ],\n",
       "       [ 69.        ],\n",
       "       [ 60.        ],\n",
       "       [ 70.        ],\n",
       "       [ 95.        ],\n",
       "       [ 80.        ],\n",
       "       [ 54.        ],\n",
       "       [ 90.        ],\n",
       "       [ 86.        ],\n",
       "       [165.        ],\n",
       "       [175.        ],\n",
       "       [150.        ],\n",
       "       [153.        ],\n",
       "       [150.        ],\n",
       "       [208.        ],\n",
       "       [155.        ],\n",
       "       [160.        ],\n",
       "       [190.        ],\n",
       "       [ 97.        ],\n",
       "       [150.        ],\n",
       "       [130.        ],\n",
       "       [140.        ],\n",
       "       [150.        ],\n",
       "       [112.        ],\n",
       "       [ 76.        ],\n",
       "       [ 87.        ],\n",
       "       [ 69.        ],\n",
       "       [ 86.        ],\n",
       "       [ 92.        ],\n",
       "       [ 97.        ],\n",
       "       [ 80.        ],\n",
       "       [ 88.        ],\n",
       "       [175.        ],\n",
       "       [150.        ],\n",
       "       [145.        ],\n",
       "       [137.        ],\n",
       "       [150.        ],\n",
       "       [198.        ],\n",
       "       [150.        ],\n",
       "       [158.        ],\n",
       "       [150.        ],\n",
       "       [215.        ],\n",
       "       [225.        ],\n",
       "       [175.        ],\n",
       "       [105.        ],\n",
       "       [100.        ],\n",
       "       [100.        ],\n",
       "       [ 88.        ],\n",
       "       [ 95.        ],\n",
       "       [ 46.        ],\n",
       "       [150.        ],\n",
       "       [167.        ],\n",
       "       [170.        ],\n",
       "       [180.        ],\n",
       "       [100.        ],\n",
       "       [ 88.        ],\n",
       "       [ 72.        ],\n",
       "       [ 94.        ],\n",
       "       [ 90.        ],\n",
       "       [ 85.        ],\n",
       "       [107.        ],\n",
       "       [ 90.        ],\n",
       "       [145.        ],\n",
       "       [230.        ],\n",
       "       [ 49.        ],\n",
       "       [ 75.        ],\n",
       "       [ 91.        ],\n",
       "       [112.        ],\n",
       "       [150.        ],\n",
       "       [110.        ],\n",
       "       [122.        ],\n",
       "       [180.        ],\n",
       "       [ 95.        ],\n",
       "       [104.46938776],\n",
       "       [100.        ],\n",
       "       [100.        ],\n",
       "       [ 67.        ],\n",
       "       [ 80.        ],\n",
       "       [ 65.        ],\n",
       "       [ 75.        ],\n",
       "       [100.        ],\n",
       "       [110.        ],\n",
       "       [105.        ],\n",
       "       [140.        ],\n",
       "       [150.        ],\n",
       "       [150.        ],\n",
       "       [140.        ],\n",
       "       [150.        ],\n",
       "       [ 83.        ],\n",
       "       [ 67.        ],\n",
       "       [ 78.        ],\n",
       "       [ 52.        ],\n",
       "       [ 61.        ],\n",
       "       [ 75.        ],\n",
       "       [ 75.        ],\n",
       "       [ 75.        ],\n",
       "       [ 97.        ],\n",
       "       [ 93.        ],\n",
       "       [ 67.        ],\n",
       "       [ 95.        ],\n",
       "       [105.        ],\n",
       "       [ 72.        ],\n",
       "       [ 72.        ],\n",
       "       [170.        ],\n",
       "       [145.        ],\n",
       "       [150.        ],\n",
       "       [148.        ],\n",
       "       [110.        ],\n",
       "       [105.        ],\n",
       "       [110.        ],\n",
       "       [ 95.        ],\n",
       "       [110.        ],\n",
       "       [110.        ],\n",
       "       [129.        ],\n",
       "       [ 75.        ],\n",
       "       [ 83.        ],\n",
       "       [100.        ],\n",
       "       [ 78.        ],\n",
       "       [ 96.        ],\n",
       "       [ 71.        ],\n",
       "       [ 97.        ],\n",
       "       [ 97.        ],\n",
       "       [ 70.        ],\n",
       "       [ 90.        ],\n",
       "       [ 95.        ],\n",
       "       [ 88.        ],\n",
       "       [ 98.        ],\n",
       "       [115.        ],\n",
       "       [ 53.        ],\n",
       "       [ 86.        ],\n",
       "       [ 81.        ],\n",
       "       [ 92.        ],\n",
       "       [ 79.        ],\n",
       "       [ 83.        ],\n",
       "       [140.        ],\n",
       "       [150.        ],\n",
       "       [120.        ],\n",
       "       [152.        ],\n",
       "       [100.        ],\n",
       "       [105.        ],\n",
       "       [ 81.        ],\n",
       "       [ 90.        ],\n",
       "       [ 52.        ],\n",
       "       [ 60.        ],\n",
       "       [ 70.        ],\n",
       "       [ 53.        ],\n",
       "       [100.        ],\n",
       "       [ 78.        ],\n",
       "       [110.        ],\n",
       "       [ 95.        ],\n",
       "       [ 71.        ],\n",
       "       [ 70.        ],\n",
       "       [ 75.        ],\n",
       "       [ 72.        ],\n",
       "       [102.        ],\n",
       "       [150.        ],\n",
       "       [ 88.        ],\n",
       "       [108.        ],\n",
       "       [120.        ],\n",
       "       [180.        ],\n",
       "       [145.        ],\n",
       "       [130.        ],\n",
       "       [150.        ],\n",
       "       [ 68.        ],\n",
       "       [ 80.        ],\n",
       "       [ 58.        ],\n",
       "       [ 96.        ],\n",
       "       [ 70.        ],\n",
       "       [145.        ],\n",
       "       [110.        ],\n",
       "       [145.        ],\n",
       "       [130.        ],\n",
       "       [110.        ],\n",
       "       [105.        ],\n",
       "       [100.        ],\n",
       "       [ 98.        ],\n",
       "       [180.        ],\n",
       "       [170.        ],\n",
       "       [190.        ],\n",
       "       [149.        ],\n",
       "       [ 78.        ],\n",
       "       [ 88.        ],\n",
       "       [ 75.        ],\n",
       "       [ 89.        ],\n",
       "       [ 63.        ],\n",
       "       [ 83.        ],\n",
       "       [ 67.        ],\n",
       "       [ 78.        ],\n",
       "       [ 97.        ],\n",
       "       [110.        ],\n",
       "       [110.        ],\n",
       "       [ 48.        ],\n",
       "       [ 66.        ],\n",
       "       [ 52.        ],\n",
       "       [ 70.        ],\n",
       "       [ 60.        ],\n",
       "       [110.        ],\n",
       "       [140.        ],\n",
       "       [139.        ],\n",
       "       [105.        ],\n",
       "       [ 95.        ],\n",
       "       [ 85.        ],\n",
       "       [ 88.        ],\n",
       "       [100.        ],\n",
       "       [ 90.        ],\n",
       "       [105.        ],\n",
       "       [ 85.        ],\n",
       "       [110.        ],\n",
       "       [120.        ],\n",
       "       [145.        ],\n",
       "       [165.        ],\n",
       "       [139.        ],\n",
       "       [140.        ],\n",
       "       [ 68.        ],\n",
       "       [ 95.        ],\n",
       "       [ 97.        ],\n",
       "       [ 75.        ],\n",
       "       [ 95.        ],\n",
       "       [105.        ],\n",
       "       [ 85.        ],\n",
       "       [ 97.        ],\n",
       "       [103.        ],\n",
       "       [125.        ],\n",
       "       [115.        ],\n",
       "       [133.        ],\n",
       "       [ 71.        ],\n",
       "       [ 68.        ],\n",
       "       [115.        ],\n",
       "       [ 85.        ],\n",
       "       [ 88.        ],\n",
       "       [ 90.        ],\n",
       "       [110.        ],\n",
       "       [130.        ],\n",
       "       [129.        ],\n",
       "       [138.        ],\n",
       "       [135.        ],\n",
       "       [155.        ],\n",
       "       [142.        ],\n",
       "       [125.        ],\n",
       "       [150.        ],\n",
       "       [ 71.        ],\n",
       "       [ 65.        ],\n",
       "       [ 80.        ],\n",
       "       [ 80.        ],\n",
       "       [ 77.        ],\n",
       "       [125.        ],\n",
       "       [ 71.        ],\n",
       "       [ 90.        ],\n",
       "       [ 70.        ],\n",
       "       [ 70.        ],\n",
       "       [ 65.        ],\n",
       "       [ 69.        ],\n",
       "       [ 90.        ],\n",
       "       [115.        ],\n",
       "       [115.        ],\n",
       "       [ 90.        ],\n",
       "       [ 76.        ],\n",
       "       [ 60.        ],\n",
       "       [ 70.        ],\n",
       "       [ 65.        ],\n",
       "       [ 90.        ],\n",
       "       [ 88.        ],\n",
       "       [ 90.        ],\n",
       "       [ 90.        ],\n",
       "       [ 78.        ],\n",
       "       [ 90.        ],\n",
       "       [ 75.        ],\n",
       "       [ 92.        ],\n",
       "       [ 75.        ],\n",
       "       [ 65.        ],\n",
       "       [105.        ],\n",
       "       [ 65.        ],\n",
       "       [ 48.        ],\n",
       "       [ 48.        ],\n",
       "       [ 67.        ],\n",
       "       [ 67.        ],\n",
       "       [ 67.        ],\n",
       "       [104.46938776],\n",
       "       [ 67.        ],\n",
       "       [ 62.        ],\n",
       "       [132.        ],\n",
       "       [100.        ],\n",
       "       [ 88.        ],\n",
       "       [104.46938776],\n",
       "       [ 72.        ],\n",
       "       [ 84.        ],\n",
       "       [ 84.        ],\n",
       "       [ 92.        ],\n",
       "       [110.        ],\n",
       "       [ 84.        ],\n",
       "       [ 58.        ],\n",
       "       [ 64.        ],\n",
       "       [ 60.        ],\n",
       "       [ 67.        ],\n",
       "       [ 65.        ],\n",
       "       [ 62.        ],\n",
       "       [ 68.        ],\n",
       "       [ 63.        ],\n",
       "       [ 65.        ],\n",
       "       [ 65.        ],\n",
       "       [ 74.        ],\n",
       "       [104.46938776],\n",
       "       [ 75.        ],\n",
       "       [ 75.        ],\n",
       "       [100.        ],\n",
       "       [ 74.        ],\n",
       "       [ 80.        ],\n",
       "       [ 76.        ],\n",
       "       [116.        ],\n",
       "       [120.        ],\n",
       "       [110.        ],\n",
       "       [105.        ],\n",
       "       [ 88.        ],\n",
       "       [ 85.        ],\n",
       "       [ 88.        ],\n",
       "       [ 88.        ],\n",
       "       [ 88.        ],\n",
       "       [ 85.        ],\n",
       "       [ 84.        ],\n",
       "       [ 90.        ],\n",
       "       [ 92.        ],\n",
       "       [104.46938776],\n",
       "       [ 74.        ],\n",
       "       [ 68.        ],\n",
       "       [ 68.        ],\n",
       "       [ 63.        ],\n",
       "       [ 70.        ],\n",
       "       [ 88.        ],\n",
       "       [ 75.        ],\n",
       "       [ 70.        ],\n",
       "       [ 67.        ],\n",
       "       [ 67.        ],\n",
       "       [ 67.        ],\n",
       "       [110.        ],\n",
       "       [ 85.        ],\n",
       "       [ 92.        ],\n",
       "       [112.        ],\n",
       "       [ 96.        ],\n",
       "       [ 84.        ],\n",
       "       [ 90.        ],\n",
       "       [ 86.        ],\n",
       "       [ 52.        ],\n",
       "       [ 84.        ],\n",
       "       [ 79.        ],\n",
       "       [ 82.        ]])"
      ]
     },
     "execution_count": 27,
     "metadata": {},
     "output_type": "execute_result"
    }
   ],
   "source": [
    "si.fit_transform(mpg[[\"horsepower\"]])"
   ]
  },
  {
   "cell_type": "markdown",
   "metadata": {},
   "source": [
    "### fillna"
   ]
  },
  {
   "cell_type": "markdown",
   "metadata": {},
   "source": [
    "pandas에서 missing data 채우는 `fillna`도 배웠다."
   ]
  },
  {
   "cell_type": "code",
   "execution_count": 207,
   "metadata": {},
   "outputs": [
    {
     "data": {
      "text/plain": [
       "0      130.0\n",
       "1      165.0\n",
       "2      150.0\n",
       "3      150.0\n",
       "4      140.0\n",
       "       ...  \n",
       "393     86.0\n",
       "394     52.0\n",
       "395     84.0\n",
       "396     79.0\n",
       "397     82.0\n",
       "Name: horsepower, Length: 398, dtype: float64"
      ]
     },
     "execution_count": 207,
     "metadata": {},
     "output_type": "execute_result"
    }
   ],
   "source": [
    "mpg.horsepower.fillna(10)"
   ]
  },
  {
   "cell_type": "markdown",
   "metadata": {},
   "source": [
    "## encoding"
   ]
  },
  {
   "cell_type": "markdown",
   "metadata": {},
   "source": [
    "origin 열에는 고유한 값이 3개 있다."
   ]
  },
  {
   "cell_type": "code",
   "execution_count": 33,
   "metadata": {},
   "outputs": [
    {
     "data": {
      "text/plain": [
       "count     398\n",
       "unique      3\n",
       "top       usa\n",
       "freq      249\n",
       "Name: origin, dtype: object"
      ]
     },
     "execution_count": 33,
     "metadata": {},
     "output_type": "execute_result"
    }
   ],
   "source": [
    "mpg.origin.describe()"
   ]
  },
  {
   "cell_type": "markdown",
   "metadata": {},
   "source": [
    "3가지 고유값의 비율을 확인해본다.  \n",
    "어떤 고유값이 압도적으로 많거나 하면 아웃라이어이거나, 의미가 없다.  \n",
    "origin은 의미 있어 보인다."
   ]
  },
  {
   "cell_type": "code",
   "execution_count": 29,
   "metadata": {},
   "outputs": [
    {
     "data": {
      "text/plain": [
       "usa       249\n",
       "japan      79\n",
       "europe     70\n",
       "Name: origin, dtype: int64"
      ]
     },
     "execution_count": 29,
     "metadata": {},
     "output_type": "execute_result"
    }
   ],
   "source": [
    "mpg.origin.value_counts()"
   ]
  },
  {
   "cell_type": "code",
   "execution_count": 41,
   "metadata": {},
   "outputs": [
    {
     "data": {
      "text/plain": [
       "<matplotlib.axes._subplots.AxesSubplot at 0x1e301b0c668>"
      ]
     },
     "execution_count": 41,
     "metadata": {},
     "output_type": "execute_result"
    },
    {
     "data": {
      "image/png": "[encoded data removed]",
      "text/plain": [
       "<Figure size 432x288 with 1 Axes>"
      ]
     },
     "metadata": {
      "needs_background": "light"
     },
     "output_type": "display_data"
    }
   ],
   "source": [
    "mpg.origin.value_counts().plot.bar()"
   ]
  },
  {
   "cell_type": "markdown",
   "metadata": {},
   "source": [
    "name 열에는 총 398개 데이터 중에 고유값이 305개나 있다.  \n",
    "너무 종류가 많아서 대표성이 거의 없다. name 열은 버리기로 한다. "
   ]
  },
  {
   "cell_type": "code",
   "execution_count": 30,
   "metadata": {},
   "outputs": [
    {
     "data": {
      "text/plain": [
       "count            398\n",
       "unique           305\n",
       "top       ford pinto\n",
       "freq               6\n",
       "Name: name, dtype: object"
      ]
     },
     "execution_count": 30,
     "metadata": {},
     "output_type": "execute_result"
    }
   ],
   "source": [
    "mpg.name.describe()"
   ]
  },
  {
   "cell_type": "code",
   "execution_count": 31,
   "metadata": {},
   "outputs": [],
   "source": [
    "mpg_raw = mpg.copy() # 원본 복사"
   ]
  },
  {
   "cell_type": "code",
   "execution_count": 52,
   "metadata": {},
   "outputs": [],
   "source": [
    "mpg.drop(columns=\"name\", inplace=True)"
   ]
  },
  {
   "cell_type": "markdown",
   "metadata": {},
   "source": [
    "origin 열을 one hot encoding 한다."
   ]
  },
  {
   "cell_type": "code",
   "execution_count": 34,
   "metadata": {},
   "outputs": [],
   "source": [
    "import pandas as pd"
   ]
  },
  {
   "cell_type": "code",
   "execution_count": 35,
   "metadata": {},
   "outputs": [
    {
     "data": {
      "text/html": [
       "<div>\n",
       "<style scoped>\n",
       "    .dataframe tbody tr th:only-of-type {\n",
       "        vertical-align: middle;\n",
       "    }\n",
       "\n",
       "    .dataframe tbody tr th {\n",
       "        vertical-align: top;\n",
       "    }\n",
       "\n",
       "    .dataframe thead th {\n",
       "        text-align: right;\n",
       "    }\n",
       "</style>\n",
       "<table border=\"1\" class=\"dataframe\">\n",
       "  <thead>\n",
       "    <tr style=\"text-align: right;\">\n",
       "      <th></th>\n",
       "      <th>europe</th>\n",
       "      <th>japan</th>\n",
       "      <th>usa</th>\n",
       "    </tr>\n",
       "  </thead>\n",
       "  <tbody>\n",
       "    <tr>\n",
       "      <th>0</th>\n",
       "      <td>0</td>\n",
       "      <td>0</td>\n",
       "      <td>1</td>\n",
       "    </tr>\n",
       "    <tr>\n",
       "      <th>1</th>\n",
       "      <td>0</td>\n",
       "      <td>0</td>\n",
       "      <td>1</td>\n",
       "    </tr>\n",
       "    <tr>\n",
       "      <th>2</th>\n",
       "      <td>0</td>\n",
       "      <td>0</td>\n",
       "      <td>1</td>\n",
       "    </tr>\n",
       "    <tr>\n",
       "      <th>3</th>\n",
       "      <td>0</td>\n",
       "      <td>0</td>\n",
       "      <td>1</td>\n",
       "    </tr>\n",
       "    <tr>\n",
       "      <th>4</th>\n",
       "      <td>0</td>\n",
       "      <td>0</td>\n",
       "      <td>1</td>\n",
       "    </tr>\n",
       "    <tr>\n",
       "      <th>...</th>\n",
       "      <td>...</td>\n",
       "      <td>...</td>\n",
       "      <td>...</td>\n",
       "    </tr>\n",
       "    <tr>\n",
       "      <th>393</th>\n",
       "      <td>0</td>\n",
       "      <td>0</td>\n",
       "      <td>1</td>\n",
       "    </tr>\n",
       "    <tr>\n",
       "      <th>394</th>\n",
       "      <td>1</td>\n",
       "      <td>0</td>\n",
       "      <td>0</td>\n",
       "    </tr>\n",
       "    <tr>\n",
       "      <th>395</th>\n",
       "      <td>0</td>\n",
       "      <td>0</td>\n",
       "      <td>1</td>\n",
       "    </tr>\n",
       "    <tr>\n",
       "      <th>396</th>\n",
       "      <td>0</td>\n",
       "      <td>0</td>\n",
       "      <td>1</td>\n",
       "    </tr>\n",
       "    <tr>\n",
       "      <th>397</th>\n",
       "      <td>0</td>\n",
       "      <td>0</td>\n",
       "      <td>1</td>\n",
       "    </tr>\n",
       "  </tbody>\n",
       "</table>\n",
       "<p>398 rows × 3 columns</p>\n",
       "</div>"
      ],
      "text/plain": [
       "     europe  japan  usa\n",
       "0         0      0    1\n",
       "1         0      0    1\n",
       "2         0      0    1\n",
       "3         0      0    1\n",
       "4         0      0    1\n",
       "..      ...    ...  ...\n",
       "393       0      0    1\n",
       "394       1      0    0\n",
       "395       0      0    1\n",
       "396       0      0    1\n",
       "397       0      0    1\n",
       "\n",
       "[398 rows x 3 columns]"
      ]
     },
     "execution_count": 35,
     "metadata": {},
     "output_type": "execute_result"
    }
   ],
   "source": [
    "pd.get_dummies(mpg.origin)"
   ]
  },
  {
   "cell_type": "markdown",
   "metadata": {},
   "source": [
    "origin 열을 one hot encoding 한 뒤 합쳐준다.  \n",
    "origin 열은 이제 사용하지 않으므로 버린다.  \n",
    "DataFrame을 변형하기 전에는 항상 copy해두는 것이 좋다"
   ]
  },
  {
   "cell_type": "code",
   "execution_count": 53,
   "metadata": {},
   "outputs": [],
   "source": [
    "mpg_fe = pd.concat([mpg, pd.get_dummies(mpg.origin)], axis=1).drop(columns=[\"origin\"])"
   ]
  },
  {
   "cell_type": "code",
   "execution_count": 39,
   "metadata": {},
   "outputs": [
    {
     "data": {
      "text/html": [
       "<div>\n",
       "<style scoped>\n",
       "    .dataframe tbody tr th:only-of-type {\n",
       "        vertical-align: middle;\n",
       "    }\n",
       "\n",
       "    .dataframe tbody tr th {\n",
       "        vertical-align: top;\n",
       "    }\n",
       "\n",
       "    .dataframe thead th {\n",
       "        text-align: right;\n",
       "    }\n",
       "</style>\n",
       "<table border=\"1\" class=\"dataframe\">\n",
       "  <thead>\n",
       "    <tr style=\"text-align: right;\">\n",
       "      <th></th>\n",
       "      <th>mpg</th>\n",
       "      <th>cylinders</th>\n",
       "      <th>displacement</th>\n",
       "      <th>horsepower</th>\n",
       "      <th>weight</th>\n",
       "      <th>acceleration</th>\n",
       "      <th>model_year</th>\n",
       "      <th>europe</th>\n",
       "      <th>japan</th>\n",
       "      <th>usa</th>\n",
       "    </tr>\n",
       "  </thead>\n",
       "  <tbody>\n",
       "    <tr>\n",
       "      <th>0</th>\n",
       "      <td>18.0</td>\n",
       "      <td>8</td>\n",
       "      <td>307.0</td>\n",
       "      <td>130.0</td>\n",
       "      <td>3504</td>\n",
       "      <td>12.0</td>\n",
       "      <td>70</td>\n",
       "      <td>0</td>\n",
       "      <td>0</td>\n",
       "      <td>1</td>\n",
       "    </tr>\n",
       "    <tr>\n",
       "      <th>1</th>\n",
       "      <td>15.0</td>\n",
       "      <td>8</td>\n",
       "      <td>350.0</td>\n",
       "      <td>165.0</td>\n",
       "      <td>3693</td>\n",
       "      <td>11.5</td>\n",
       "      <td>70</td>\n",
       "      <td>0</td>\n",
       "      <td>0</td>\n",
       "      <td>1</td>\n",
       "    </tr>\n",
       "    <tr>\n",
       "      <th>2</th>\n",
       "      <td>18.0</td>\n",
       "      <td>8</td>\n",
       "      <td>318.0</td>\n",
       "      <td>150.0</td>\n",
       "      <td>3436</td>\n",
       "      <td>11.0</td>\n",
       "      <td>70</td>\n",
       "      <td>0</td>\n",
       "      <td>0</td>\n",
       "      <td>1</td>\n",
       "    </tr>\n",
       "    <tr>\n",
       "      <th>3</th>\n",
       "      <td>16.0</td>\n",
       "      <td>8</td>\n",
       "      <td>304.0</td>\n",
       "      <td>150.0</td>\n",
       "      <td>3433</td>\n",
       "      <td>12.0</td>\n",
       "      <td>70</td>\n",
       "      <td>0</td>\n",
       "      <td>0</td>\n",
       "      <td>1</td>\n",
       "    </tr>\n",
       "    <tr>\n",
       "      <th>4</th>\n",
       "      <td>17.0</td>\n",
       "      <td>8</td>\n",
       "      <td>302.0</td>\n",
       "      <td>140.0</td>\n",
       "      <td>3449</td>\n",
       "      <td>10.5</td>\n",
       "      <td>70</td>\n",
       "      <td>0</td>\n",
       "      <td>0</td>\n",
       "      <td>1</td>\n",
       "    </tr>\n",
       "    <tr>\n",
       "      <th>...</th>\n",
       "      <td>...</td>\n",
       "      <td>...</td>\n",
       "      <td>...</td>\n",
       "      <td>...</td>\n",
       "      <td>...</td>\n",
       "      <td>...</td>\n",
       "      <td>...</td>\n",
       "      <td>...</td>\n",
       "      <td>...</td>\n",
       "      <td>...</td>\n",
       "    </tr>\n",
       "    <tr>\n",
       "      <th>393</th>\n",
       "      <td>27.0</td>\n",
       "      <td>4</td>\n",
       "      <td>140.0</td>\n",
       "      <td>86.0</td>\n",
       "      <td>2790</td>\n",
       "      <td>15.6</td>\n",
       "      <td>82</td>\n",
       "      <td>0</td>\n",
       "      <td>0</td>\n",
       "      <td>1</td>\n",
       "    </tr>\n",
       "    <tr>\n",
       "      <th>394</th>\n",
       "      <td>44.0</td>\n",
       "      <td>4</td>\n",
       "      <td>97.0</td>\n",
       "      <td>52.0</td>\n",
       "      <td>2130</td>\n",
       "      <td>24.6</td>\n",
       "      <td>82</td>\n",
       "      <td>1</td>\n",
       "      <td>0</td>\n",
       "      <td>0</td>\n",
       "    </tr>\n",
       "    <tr>\n",
       "      <th>395</th>\n",
       "      <td>32.0</td>\n",
       "      <td>4</td>\n",
       "      <td>135.0</td>\n",
       "      <td>84.0</td>\n",
       "      <td>2295</td>\n",
       "      <td>11.6</td>\n",
       "      <td>82</td>\n",
       "      <td>0</td>\n",
       "      <td>0</td>\n",
       "      <td>1</td>\n",
       "    </tr>\n",
       "    <tr>\n",
       "      <th>396</th>\n",
       "      <td>28.0</td>\n",
       "      <td>4</td>\n",
       "      <td>120.0</td>\n",
       "      <td>79.0</td>\n",
       "      <td>2625</td>\n",
       "      <td>18.6</td>\n",
       "      <td>82</td>\n",
       "      <td>0</td>\n",
       "      <td>0</td>\n",
       "      <td>1</td>\n",
       "    </tr>\n",
       "    <tr>\n",
       "      <th>397</th>\n",
       "      <td>31.0</td>\n",
       "      <td>4</td>\n",
       "      <td>119.0</td>\n",
       "      <td>82.0</td>\n",
       "      <td>2720</td>\n",
       "      <td>19.4</td>\n",
       "      <td>82</td>\n",
       "      <td>0</td>\n",
       "      <td>0</td>\n",
       "      <td>1</td>\n",
       "    </tr>\n",
       "  </tbody>\n",
       "</table>\n",
       "<p>398 rows × 10 columns</p>\n",
       "</div>"
      ],
      "text/plain": [
       "      mpg  cylinders  displacement  horsepower  weight  acceleration  \\\n",
       "0    18.0          8         307.0       130.0    3504          12.0   \n",
       "1    15.0          8         350.0       165.0    3693          11.5   \n",
       "2    18.0          8         318.0       150.0    3436          11.0   \n",
       "3    16.0          8         304.0       150.0    3433          12.0   \n",
       "4    17.0          8         302.0       140.0    3449          10.5   \n",
       "..    ...        ...           ...         ...     ...           ...   \n",
       "393  27.0          4         140.0        86.0    2790          15.6   \n",
       "394  44.0          4          97.0        52.0    2130          24.6   \n",
       "395  32.0          4         135.0        84.0    2295          11.6   \n",
       "396  28.0          4         120.0        79.0    2625          18.6   \n",
       "397  31.0          4         119.0        82.0    2720          19.4   \n",
       "\n",
       "     model_year  europe  japan  usa  \n",
       "0            70       0      0    1  \n",
       "1            70       0      0    1  \n",
       "2            70       0      0    1  \n",
       "3            70       0      0    1  \n",
       "4            70       0      0    1  \n",
       "..          ...     ...    ...  ...  \n",
       "393          82       0      0    1  \n",
       "394          82       1      0    0  \n",
       "395          82       0      0    1  \n",
       "396          82       0      0    1  \n",
       "397          82       0      0    1  \n",
       "\n",
       "[398 rows x 10 columns]"
      ]
     },
     "execution_count": 39,
     "metadata": {},
     "output_type": "execute_result"
    }
   ],
   "source": [
    "mpg_fe"
   ]
  },
  {
   "cell_type": "markdown",
   "metadata": {},
   "source": [
    "`KNNImputer`는 mutable이 아니므로, missing data는 채웠지만 실제 DataFrame에 반영되지는 않았다.  \n",
    "변경사항을 반영하려면 재할당해야 한다.  \n",
    "\n",
    "origin을 숫자로 바꿨기 때문에, `KNNInputer`에도 넣을 수 있다.  \n",
    "위에서는 `KNNImputer`에 1개 열만 넣었지만, 다른 열도 함께 넣는 것이 missing data를 더 효과적으로 예측해서 채울 것이다."
   ]
  },
  {
   "cell_type": "code",
   "execution_count": 42,
   "metadata": {},
   "outputs": [],
   "source": [
    "knni = KNNImputer()"
   ]
  },
  {
   "cell_type": "code",
   "execution_count": 54,
   "metadata": {},
   "outputs": [
    {
     "data": {
      "text/plain": [
       "array([[ 18.,   8., 307., ...,   0.,   0.,   1.],\n",
       "       [ 15.,   8., 350., ...,   0.,   0.,   1.],\n",
       "       [ 18.,   8., 318., ...,   0.,   0.,   1.],\n",
       "       ...,\n",
       "       [ 32.,   4., 135., ...,   0.,   0.,   1.],\n",
       "       [ 28.,   4., 120., ...,   0.,   0.,   1.],\n",
       "       [ 31.,   4., 119., ...,   0.,   0.,   1.]])"
      ]
     },
     "execution_count": 54,
     "metadata": {},
     "output_type": "execute_result"
    }
   ],
   "source": [
    "knni.fit_transform(mpg_fe) # ndarray"
   ]
  },
  {
   "cell_type": "markdown",
   "metadata": {},
   "source": [
    "`KNNImputer`는 numpy array로 결과를 반환한다.  \n",
    "horsepower에 해당하는 열만 슬라이싱해서 DataFrame에 바로 할당할 수 있다.  \n",
    "DataFrame으로 변환해서 다시 슬라이싱한 다음 할당하지 않아도 된다."
   ]
  },
  {
   "cell_type": "code",
   "execution_count": 55,
   "metadata": {},
   "outputs": [],
   "source": [
    "mpg_fe.horsepower = knni.fit_transform(mpg_fe)[:, 3] # tip"
   ]
  },
  {
   "cell_type": "code",
   "execution_count": 56,
   "metadata": {},
   "outputs": [
    {
     "data": {
      "text/html": [
       "<div>\n",
       "<style scoped>\n",
       "    .dataframe tbody tr th:only-of-type {\n",
       "        vertical-align: middle;\n",
       "    }\n",
       "\n",
       "    .dataframe tbody tr th {\n",
       "        vertical-align: top;\n",
       "    }\n",
       "\n",
       "    .dataframe thead th {\n",
       "        text-align: right;\n",
       "    }\n",
       "</style>\n",
       "<table border=\"1\" class=\"dataframe\">\n",
       "  <thead>\n",
       "    <tr style=\"text-align: right;\">\n",
       "      <th></th>\n",
       "      <th>mpg</th>\n",
       "      <th>cylinders</th>\n",
       "      <th>displacement</th>\n",
       "      <th>horsepower</th>\n",
       "      <th>weight</th>\n",
       "      <th>acceleration</th>\n",
       "      <th>model_year</th>\n",
       "      <th>europe</th>\n",
       "      <th>japan</th>\n",
       "      <th>usa</th>\n",
       "    </tr>\n",
       "  </thead>\n",
       "  <tbody>\n",
       "    <tr>\n",
       "      <th>0</th>\n",
       "      <td>18.0</td>\n",
       "      <td>8</td>\n",
       "      <td>307.0</td>\n",
       "      <td>130.0</td>\n",
       "      <td>3504</td>\n",
       "      <td>12.0</td>\n",
       "      <td>70</td>\n",
       "      <td>0</td>\n",
       "      <td>0</td>\n",
       "      <td>1</td>\n",
       "    </tr>\n",
       "    <tr>\n",
       "      <th>1</th>\n",
       "      <td>15.0</td>\n",
       "      <td>8</td>\n",
       "      <td>350.0</td>\n",
       "      <td>165.0</td>\n",
       "      <td>3693</td>\n",
       "      <td>11.5</td>\n",
       "      <td>70</td>\n",
       "      <td>0</td>\n",
       "      <td>0</td>\n",
       "      <td>1</td>\n",
       "    </tr>\n",
       "    <tr>\n",
       "      <th>2</th>\n",
       "      <td>18.0</td>\n",
       "      <td>8</td>\n",
       "      <td>318.0</td>\n",
       "      <td>150.0</td>\n",
       "      <td>3436</td>\n",
       "      <td>11.0</td>\n",
       "      <td>70</td>\n",
       "      <td>0</td>\n",
       "      <td>0</td>\n",
       "      <td>1</td>\n",
       "    </tr>\n",
       "    <tr>\n",
       "      <th>3</th>\n",
       "      <td>16.0</td>\n",
       "      <td>8</td>\n",
       "      <td>304.0</td>\n",
       "      <td>150.0</td>\n",
       "      <td>3433</td>\n",
       "      <td>12.0</td>\n",
       "      <td>70</td>\n",
       "      <td>0</td>\n",
       "      <td>0</td>\n",
       "      <td>1</td>\n",
       "    </tr>\n",
       "    <tr>\n",
       "      <th>4</th>\n",
       "      <td>17.0</td>\n",
       "      <td>8</td>\n",
       "      <td>302.0</td>\n",
       "      <td>140.0</td>\n",
       "      <td>3449</td>\n",
       "      <td>10.5</td>\n",
       "      <td>70</td>\n",
       "      <td>0</td>\n",
       "      <td>0</td>\n",
       "      <td>1</td>\n",
       "    </tr>\n",
       "    <tr>\n",
       "      <th>...</th>\n",
       "      <td>...</td>\n",
       "      <td>...</td>\n",
       "      <td>...</td>\n",
       "      <td>...</td>\n",
       "      <td>...</td>\n",
       "      <td>...</td>\n",
       "      <td>...</td>\n",
       "      <td>...</td>\n",
       "      <td>...</td>\n",
       "      <td>...</td>\n",
       "    </tr>\n",
       "    <tr>\n",
       "      <th>393</th>\n",
       "      <td>27.0</td>\n",
       "      <td>4</td>\n",
       "      <td>140.0</td>\n",
       "      <td>86.0</td>\n",
       "      <td>2790</td>\n",
       "      <td>15.6</td>\n",
       "      <td>82</td>\n",
       "      <td>0</td>\n",
       "      <td>0</td>\n",
       "      <td>1</td>\n",
       "    </tr>\n",
       "    <tr>\n",
       "      <th>394</th>\n",
       "      <td>44.0</td>\n",
       "      <td>4</td>\n",
       "      <td>97.0</td>\n",
       "      <td>52.0</td>\n",
       "      <td>2130</td>\n",
       "      <td>24.6</td>\n",
       "      <td>82</td>\n",
       "      <td>1</td>\n",
       "      <td>0</td>\n",
       "      <td>0</td>\n",
       "    </tr>\n",
       "    <tr>\n",
       "      <th>395</th>\n",
       "      <td>32.0</td>\n",
       "      <td>4</td>\n",
       "      <td>135.0</td>\n",
       "      <td>84.0</td>\n",
       "      <td>2295</td>\n",
       "      <td>11.6</td>\n",
       "      <td>82</td>\n",
       "      <td>0</td>\n",
       "      <td>0</td>\n",
       "      <td>1</td>\n",
       "    </tr>\n",
       "    <tr>\n",
       "      <th>396</th>\n",
       "      <td>28.0</td>\n",
       "      <td>4</td>\n",
       "      <td>120.0</td>\n",
       "      <td>79.0</td>\n",
       "      <td>2625</td>\n",
       "      <td>18.6</td>\n",
       "      <td>82</td>\n",
       "      <td>0</td>\n",
       "      <td>0</td>\n",
       "      <td>1</td>\n",
       "    </tr>\n",
       "    <tr>\n",
       "      <th>397</th>\n",
       "      <td>31.0</td>\n",
       "      <td>4</td>\n",
       "      <td>119.0</td>\n",
       "      <td>82.0</td>\n",
       "      <td>2720</td>\n",
       "      <td>19.4</td>\n",
       "      <td>82</td>\n",
       "      <td>0</td>\n",
       "      <td>0</td>\n",
       "      <td>1</td>\n",
       "    </tr>\n",
       "  </tbody>\n",
       "</table>\n",
       "<p>398 rows × 10 columns</p>\n",
       "</div>"
      ],
      "text/plain": [
       "      mpg  cylinders  displacement  horsepower  weight  acceleration  \\\n",
       "0    18.0          8         307.0       130.0    3504          12.0   \n",
       "1    15.0          8         350.0       165.0    3693          11.5   \n",
       "2    18.0          8         318.0       150.0    3436          11.0   \n",
       "3    16.0          8         304.0       150.0    3433          12.0   \n",
       "4    17.0          8         302.0       140.0    3449          10.5   \n",
       "..    ...        ...           ...         ...     ...           ...   \n",
       "393  27.0          4         140.0        86.0    2790          15.6   \n",
       "394  44.0          4          97.0        52.0    2130          24.6   \n",
       "395  32.0          4         135.0        84.0    2295          11.6   \n",
       "396  28.0          4         120.0        79.0    2625          18.6   \n",
       "397  31.0          4         119.0        82.0    2720          19.4   \n",
       "\n",
       "     model_year  europe  japan  usa  \n",
       "0            70       0      0    1  \n",
       "1            70       0      0    1  \n",
       "2            70       0      0    1  \n",
       "3            70       0      0    1  \n",
       "4            70       0      0    1  \n",
       "..          ...     ...    ...  ...  \n",
       "393          82       0      0    1  \n",
       "394          82       1      0    0  \n",
       "395          82       0      0    1  \n",
       "396          82       0      0    1  \n",
       "397          82       0      0    1  \n",
       "\n",
       "[398 rows x 10 columns]"
      ]
     },
     "execution_count": 56,
     "metadata": {},
     "output_type": "execute_result"
    }
   ],
   "source": [
    "mpg_fe"
   ]
  },
  {
   "cell_type": "markdown",
   "metadata": {},
   "source": [
    "## scaling"
   ]
  },
  {
   "cell_type": "markdown",
   "metadata": {},
   "source": [
    "먼저 scaling 전의 성능을 보자."
   ]
  },
  {
   "cell_type": "code",
   "execution_count": 59,
   "metadata": {},
   "outputs": [],
   "source": [
    "from sklearn.model_selection import cross_val_score\n",
    "from sklearn.neighbors import KNeighborsRegressor"
   ]
  },
  {
   "cell_type": "code",
   "execution_count": 222,
   "metadata": {},
   "outputs": [
    {
     "data": {
      "text/plain": [
       "array([ 0.48223447,  0.54218606,  0.37652329,  0.66388138,  0.57622535,\n",
       "        0.80246091,  0.739464  ,  0.6719732 , -0.94377113,  0.01109262])"
      ]
     },
     "execution_count": 222,
     "metadata": {},
     "output_type": "execute_result"
    }
   ],
   "source": [
    "cross_val_score(KNeighborsRegressor(), mpg_fe.iloc[:, 1:], mpg_fe.mpg, cv=10) # mpg는 첫번째 열이다."
   ]
  },
  {
   "cell_type": "markdown",
   "metadata": {},
   "source": [
    "weight는 다른 feature에 비해서 값의 범위가 너무 넓었다.  \n",
    "상대적으로 큰 영향력을 가져서 성능에 부정적인 영향을 미칠 수 있으므로 값의 범위를 정규화시켜준다.  \n",
    "`StandardScaler`은 평균이 0, 표준편차가 1이 되도록 정규화한다."
   ]
  },
  {
   "cell_type": "code",
   "execution_count": 64,
   "metadata": {},
   "outputs": [],
   "source": [
    "from sklearn.preprocessing import StandardScaler"
   ]
  },
  {
   "cell_type": "code",
   "execution_count": 65,
   "metadata": {},
   "outputs": [],
   "source": [
    "ss = StandardScaler()"
   ]
  },
  {
   "cell_type": "code",
   "execution_count": 68,
   "metadata": {},
   "outputs": [],
   "source": [
    "mpg_fe_raw = mpg_fe.copy() # DataFrame으로 변형할때마다 중간 저장하는 것이 좋다."
   ]
  },
  {
   "cell_type": "code",
   "execution_count": 70,
   "metadata": {},
   "outputs": [],
   "source": [
    "mpg_fe.weight = ss.fit_transform(mpg_fe[[\"weight\"]])"
   ]
  },
  {
   "cell_type": "markdown",
   "metadata": {},
   "source": [
    "정규화 전과 후의 성능을 비교해보자. "
   ]
  },
  {
   "cell_type": "code",
   "execution_count": 220,
   "metadata": {},
   "outputs": [
    {
     "data": {
      "text/plain": [
       "array([0.79651959, 0.8303199 , 0.68817461, 0.75988165, 0.51287973,\n",
       "       0.85524473, 0.76316936, 0.67596134, 0.1187478 , 0.27528427])"
      ]
     },
     "execution_count": 220,
     "metadata": {},
     "output_type": "execute_result"
    }
   ],
   "source": [
    "cross_val_score(KNeighborsRegressor(), mpg_fe.iloc[:, 1:], mpg_fe.mpg, cv=10)"
   ]
  },
  {
   "cell_type": "markdown",
   "metadata": {},
   "source": [
    "## learning curve"
   ]
  },
  {
   "cell_type": "markdown",
   "metadata": {},
   "source": [
    "learning curve는 1) 데이터의 양은 충분한지, 2) 오버피팅은 없는지 확인하는 용도이다."
   ]
  },
  {
   "cell_type": "code",
   "execution_count": 73,
   "metadata": {},
   "outputs": [],
   "source": [
    "from sklearn.model_selection import learning_curve\n",
    "from sklearn_evaluation import plot"
   ]
  },
  {
   "cell_type": "code",
   "execution_count": 85,
   "metadata": {},
   "outputs": [],
   "source": [
    "train_size, train_score, test_score = learning_curve(KNeighborsRegressor(), mpg_fe.iloc[:, 1:], mpg_fe.mpg, cv=10)"
   ]
  },
  {
   "cell_type": "code",
   "execution_count": 86,
   "metadata": {},
   "outputs": [
    {
     "data": {
      "text/plain": [
       "<matplotlib.axes._subplots.AxesSubplot at 0x1e302f33710>"
      ]
     },
     "execution_count": 86,
     "metadata": {},
     "output_type": "execute_result"
    },
    {
     "data": {
      "image/png": "[encoded data removed]",
      "text/plain": [
       "<Figure size 432x288 with 1 Axes>"
      ]
     },
     "metadata": {
      "needs_background": "light"
     },
     "output_type": "display_data"
    }
   ],
   "source": [
    "plot.learning_curve(train_score, test_score, train_size)"
   ]
  },
  {
   "cell_type": "markdown",
   "metadata": {},
   "source": [
    "## feature selection"
   ]
  },
  {
   "cell_type": "markdown",
   "metadata": {},
   "source": [
    "fature를 골라 차원을 줄이는 방법은 3가지가 있다.  \n",
    "1) Filter  2) Wrapper  3) Embeded"
   ]
  },
  {
   "cell_type": "markdown",
   "metadata": {},
   "source": [
    "### Filter"
   ]
  },
  {
   "cell_type": "markdown",
   "metadata": {},
   "source": [
    "`SelectKBest`는 통계에 의해서 원하는 만큼 feature를 골라준다."
   ]
  },
  {
   "cell_type": "code",
   "execution_count": 91,
   "metadata": {},
   "outputs": [],
   "source": [
    "from sklearn.feature_selection import chi2, SelectKBest, f_regression"
   ]
  },
  {
   "cell_type": "markdown",
   "metadata": {},
   "source": [
    "인스턴스할 때 첫번째 인자는 통계 함수, 두번째 인자는 뽑을 feature 개수이다."
   ]
  },
  {
   "cell_type": "code",
   "execution_count": 225,
   "metadata": {},
   "outputs": [],
   "source": [
    "sb = SelectKBest(chi2(, 6)"
   ]
  },
  {
   "cell_type": "code",
   "execution_count": null,
   "metadata": {},
   "outputs": [],
   "source": [
    "# Error\n",
    "sb.fit_transform(mpg_fe.iloc[:, 1:], mpg_fe.mpg)"
   ]
  },
  {
   "cell_type": "markdown",
   "metadata": {},
   "source": [
    "에러 메시지는 다음과 같다.  \n",
    "chi2(카이제곱)은 빈도의 특화값으로 계산한다.  \n",
    "빈도가 음수일 수는 없기 때문에 Error가 발생하였다.  \n",
    "weights를 `StandardScaler`로 정규화했기 때문이다.  \n",
    "`MinMaxScaler`로 했었다면 실행되었을 것이다. (0~1 사이의 값으로 변환함)\n",
    "```\n",
    "ValueError: Input X must be non-negative.\n",
    "```"
   ]
  },
  {
   "cell_type": "markdown",
   "metadata": {},
   "source": [
    "scaler 대신에 통계함수를 바꿔보자.  \n",
    "`f_regression`은 회귀 계수에 대한 f검정이다.  \n",
    "`chi2`와 달리 음수에도 사용할 수 있다."
   ]
  },
  {
   "cell_type": "code",
   "execution_count": 231,
   "metadata": {},
   "outputs": [],
   "source": [
    "sb = SelectKBest(f_regression) # k default = 10"
   ]
  },
  {
   "cell_type": "code",
   "execution_count": null,
   "metadata": {},
   "outputs": [],
   "source": [
    "# Error\n",
    "sb.fit_transform(mpg_fe.iloc[:, 1:], mpg_fe.mpg)"
   ]
  },
  {
   "cell_type": "code",
   "execution_count": 235,
   "metadata": {},
   "outputs": [
    {
     "data": {
      "text/plain": [
       "10"
      ]
     },
     "execution_count": 235,
     "metadata": {},
     "output_type": "execute_result"
    }
   ],
   "source": [
    "len(mpg_fe.columns)"
   ]
  },
  {
   "cell_type": "markdown",
   "metadata": {},
   "source": [
    "에러메시지를 보면 k의 크기 때문이다.  \n",
    "mpg_fe의 feature는 9인데, k를 10으로 설정했기 때문에 에러가 발생했다.\n",
    "```python\n",
    "ValueError: k should be >=0, <= n_features = 9; got 10. Use k='all' to return all features.\n",
    "```"
   ]
  },
  {
   "cell_type": "markdown",
   "metadata": {},
   "source": [
    "k의 크기를 feature 개수보다 작게하면 정상 실행된다."
   ]
  },
  {
   "cell_type": "code",
   "execution_count": 237,
   "metadata": {},
   "outputs": [],
   "source": [
    "sb = SelectKBest(f_regression, 6)"
   ]
  },
  {
   "cell_type": "code",
   "execution_count": 238,
   "metadata": {},
   "outputs": [
    {
     "data": {
      "text/plain": [
       "{'score_func': <function sklearn.feature_selection._univariate_selection.f_regression(X, y, center=True)>,\n",
       " 'k': 6}"
      ]
     },
     "execution_count": 238,
     "metadata": {},
     "output_type": "execute_result"
    }
   ],
   "source": [
    "vars(sb) # 인자로 넣은 f_regression과 6이 있음"
   ]
  },
  {
   "cell_type": "code",
   "execution_count": 239,
   "metadata": {},
   "outputs": [
    {
     "data": {
      "text/plain": [
       "array([[ 8.00000000e+00,  3.07000000e+02,  1.30000000e+02,\n",
       "         6.30869874e-01,  7.00000000e+01,  1.00000000e+00],\n",
       "       [ 8.00000000e+00,  3.50000000e+02,  1.65000000e+02,\n",
       "         8.54332971e-01,  7.00000000e+01,  1.00000000e+00],\n",
       "       [ 8.00000000e+00,  3.18000000e+02,  1.50000000e+02,\n",
       "         5.50470453e-01,  7.00000000e+01,  1.00000000e+00],\n",
       "       ...,\n",
       "       [ 4.00000000e+00,  1.35000000e+02,  8.40000000e+01,\n",
       "        -7.98584540e-01,  8.20000000e+01,  1.00000000e+00],\n",
       "       [ 4.00000000e+00,  1.20000000e+02,  7.90000000e+01,\n",
       "        -4.08410879e-01,  8.20000000e+01,  1.00000000e+00],\n",
       "       [ 4.00000000e+00,  1.19000000e+02,  8.20000000e+01,\n",
       "        -2.96088158e-01,  8.20000000e+01,  1.00000000e+00]])"
      ]
     },
     "execution_count": 239,
     "metadata": {},
     "output_type": "execute_result"
    }
   ],
   "source": [
    "sb.fit_transform(mpg_fe.iloc[:, 1:], mpg_fe.mpg)"
   ]
  },
  {
   "cell_type": "markdown",
   "metadata": {},
   "source": [
    "`fit_transform` 후에는 scores_와 pvalues_가 추가된다. 이를 기준으로 feature를 선택한 것이다."
   ]
  },
  {
   "cell_type": "code",
   "execution_count": 240,
   "metadata": {},
   "outputs": [
    {
     "data": {
      "text/plain": [
       "{'score_func': <function sklearn.feature_selection._univariate_selection.f_regression(X, y, center=True)>,\n",
       " 'k': 6,\n",
       " 'scores_': array([597.07704785, 724.99430337, 604.97498021, 888.85068265,\n",
       "         84.95770025, 199.98200802,  28.47937509,  96.24236669,\n",
       "        188.79672604]),\n",
       " 'pvalues_': array([4.50399225e-081, 1.65588891e-091, 9.36049118e-082, 2.97279956e-103,\n",
       "        1.82309154e-018, 4.84493581e-037, 1.59766263e-007, 1.75813203e-020,\n",
       "        2.10249105e-035])}"
      ]
     },
     "execution_count": 240,
     "metadata": {},
     "output_type": "execute_result"
    }
   ],
   "source": [
    "vars(sb)"
   ]
  },
  {
   "cell_type": "markdown",
   "metadata": {},
   "source": [
    "### Wrapper"
   ]
  },
  {
   "cell_type": "markdown",
   "metadata": {},
   "source": [
    "wrapper는 알고리즘과 연동하는 방식이다.  "
   ]
  },
  {
   "cell_type": "markdown",
   "metadata": {},
   "source": [
    "- Forward Selection(전진 선택)\n",
    "    - 변수가 없는 상태로 시작하며 반복할 때마다 가장 중요한 변수를 추가하여 더 이상 성능의 향상이 없을 때까지 변수를 추가한다.\n",
    "- Backward Elimination(후방 제거)\n",
    "    - 모든 변수를 가지고 시작하며, 가장 덜 중요한 변수를 하나씩 제거하면서 모델의 성능을 향상시킨다. 더 이상 성능의 향상이 없을 때까지 반복한다.\n",
    "- Stepwise Selection(단계별 선택)\n",
    "    - Foward Selection 과 Backward Elimination 을 결합하여 사용하는 방식으로, 모든  변수를 가지고 시작하여 가장 도움이 되지 않는 변수를 삭제하거나, 모델에서 빠져있는 변수 중에서 가장 중요한 변수를 추가하는 방법이다. 이와 같이 변수를 추가 또는 삭제를 반복한다. 반대로 아무것도 없는 모델에서 출발해 변수를 추가, 삭제를 반복할 수도 있다. \n",
    "  \n",
    "※ 출처: https://m.blog.naver.com/euleekwon/221465108279"
   ]
  },
  {
   "cell_type": "markdown",
   "metadata": {},
   "source": [
    "#### Recursive Feature Extraction"
   ]
  },
  {
   "cell_type": "markdown",
   "metadata": {},
   "source": [
    "`RFE`는 Recursive Feature Extraction의 약자이며, Backward Elimination 방법에 해당한다.  \n",
    "모든 변수를 우선 다 포함시킨 후 반복해서 학습을 진행하면서 중요도가 낮은 변수를 하나씩 제거하는 방식이다.  \n",
    "recursive라는 말 그대로 하나 실험해보고 다시 재귀하여 다시 실험한다.  \n",
    "여러가지 경우의 수를 일일히 실험해본다는 점에서 `GridSearchCV`와 비슷하다. 이러한 방식을 brute force 탐색 방식이라고 한다."
   ]
  },
  {
   "cell_type": "code",
   "execution_count": 100,
   "metadata": {},
   "outputs": [],
   "source": [
    "from sklearn.feature_selection import RFE # Recursive Feature Extraction"
   ]
  },
  {
   "cell_type": "markdown",
   "metadata": {},
   "source": [
    "wrapper는 알고리즘과 연동하는 방식이므로 인스턴스할 때 estimator를 인자로 넣어야한다.  "
   ]
  },
  {
   "cell_type": "code",
   "execution_count": 101,
   "metadata": {},
   "outputs": [],
   "source": [
    "rfe = RFE(KNeighborsRegressor())"
   ]
  },
  {
   "cell_type": "code",
   "execution_count": null,
   "metadata": {},
   "outputs": [],
   "source": [
    "# Error\n",
    "rfe.fit_transform(mpg_fe.iloc[:, 1:], mpg_fe.mpg)"
   ]
  },
  {
   "cell_type": "markdown",
   "metadata": {},
   "source": [
    "에러 메시지는 다음과 같다.  \n",
    "모델이 \"coef_\"나 \"feature_importances_\"라는 속성을 가지고 있어야 한다고 한다.  \n",
    "wrapper 방식은 특정 알고리즘에서만 가능하다.\n",
    "\n",
    "```\n",
    "RuntimeError: The classifier does not expose \"coef_\" or \"feature_importances_\" attributes\n",
    "```"
   ]
  },
  {
   "cell_type": "code",
   "execution_count": 103,
   "metadata": {},
   "outputs": [],
   "source": [
    "from sklearn.linear_model import LinearRegression"
   ]
  },
  {
   "cell_type": "code",
   "execution_count": 104,
   "metadata": {},
   "outputs": [],
   "source": [
    "rfe = RFE(LinearRegression())"
   ]
  },
  {
   "cell_type": "markdown",
   "metadata": {},
   "source": [
    "결과는 numpy array로 반환된다."
   ]
  },
  {
   "cell_type": "code",
   "execution_count": 105,
   "metadata": {},
   "outputs": [
    {
     "data": {
      "text/plain": [
       "array([[ 0.63086987, 70.        ,  0.        ,  1.        ],\n",
       "       [ 0.85433297, 70.        ,  0.        ,  1.        ],\n",
       "       [ 0.55047045, 70.        ,  0.        ,  1.        ],\n",
       "       ...,\n",
       "       [-0.79858454, 82.        ,  0.        ,  1.        ],\n",
       "       [-0.40841088, 82.        ,  0.        ,  1.        ],\n",
       "       [-0.29608816, 82.        ,  0.        ,  1.        ]])"
      ]
     },
     "execution_count": 105,
     "metadata": {},
     "output_type": "execute_result"
    }
   ],
   "source": [
    "rfe.fit_transform(mpg_fe.iloc[:, 1:], mpg_fe.mpg)"
   ]
  },
  {
   "cell_type": "markdown",
   "metadata": {},
   "source": [
    "`support_`는 선택된 feature와 선택되지 않은 feature를 `True`, `False`로 알려준다.  \n",
    "boolean 인덱싱에 편리하다."
   ]
  },
  {
   "cell_type": "code",
   "execution_count": 106,
   "metadata": {},
   "outputs": [
    {
     "data": {
      "text/plain": [
       "{'estimator': LinearRegression(copy_X=True, fit_intercept=True, n_jobs=None, normalize=False),\n",
       " 'n_features_to_select': None,\n",
       " 'step': 1,\n",
       " 'verbose': 0,\n",
       " 'estimator_': LinearRegression(copy_X=True, fit_intercept=True, n_jobs=None, normalize=False),\n",
       " 'n_features_': 4,\n",
       " 'support_': array([False, False, False,  True, False,  True, False,  True,  True]),\n",
       " 'ranking_': array([3, 5, 6, 1, 4, 1, 2, 1, 1])}"
      ]
     },
     "execution_count": 106,
     "metadata": {},
     "output_type": "execute_result"
    }
   ],
   "source": [
    "vars(rfe)"
   ]
  },
  {
   "cell_type": "markdown",
   "metadata": {},
   "source": [
    "`n_features_to_select`는 최종 선택될 feature의 개수를 미리 지정한다.  \n",
    "우선순위(`ranking_`)가 높은 순으로 `support_`에 `True`로 추가된다. "
   ]
  },
  {
   "cell_type": "code",
   "execution_count": 107,
   "metadata": {},
   "outputs": [],
   "source": [
    "rfe = RFE(LinearRegression(), n_features_to_select=6)"
   ]
  },
  {
   "cell_type": "code",
   "execution_count": 108,
   "metadata": {},
   "outputs": [
    {
     "data": {
      "text/plain": [
       "array([[ 8.        ,  0.63086987, 70.        ,  0.        ,  0.        ,\n",
       "         1.        ],\n",
       "       [ 8.        ,  0.85433297, 70.        ,  0.        ,  0.        ,\n",
       "         1.        ],\n",
       "       [ 8.        ,  0.55047045, 70.        ,  0.        ,  0.        ,\n",
       "         1.        ],\n",
       "       ...,\n",
       "       [ 4.        , -0.79858454, 82.        ,  0.        ,  0.        ,\n",
       "         1.        ],\n",
       "       [ 4.        , -0.40841088, 82.        ,  0.        ,  0.        ,\n",
       "         1.        ],\n",
       "       [ 4.        , -0.29608816, 82.        ,  0.        ,  0.        ,\n",
       "         1.        ]])"
      ]
     },
     "execution_count": 108,
     "metadata": {},
     "output_type": "execute_result"
    }
   ],
   "source": [
    "rfe.fit_transform(mpg_fe.iloc[:, 1:], mpg_fe.mpg)"
   ]
  },
  {
   "cell_type": "code",
   "execution_count": 109,
   "metadata": {},
   "outputs": [
    {
     "data": {
      "text/plain": [
       "{'estimator': LinearRegression(copy_X=True, fit_intercept=True, n_jobs=None, normalize=False),\n",
       " 'n_features_to_select': 6,\n",
       " 'step': 1,\n",
       " 'verbose': 0,\n",
       " 'estimator_': LinearRegression(copy_X=True, fit_intercept=True, n_jobs=None, normalize=False),\n",
       " 'n_features_': 6,\n",
       " 'support_': array([ True, False, False,  True, False,  True,  True,  True,  True]),\n",
       " 'ranking_': array([1, 3, 4, 1, 2, 1, 1, 1, 1])}"
      ]
     },
     "execution_count": 109,
     "metadata": {},
     "output_type": "execute_result"
    }
   ],
   "source": [
    "vars(rfe)"
   ]
  },
  {
   "cell_type": "code",
   "execution_count": 116,
   "metadata": {},
   "outputs": [
    {
     "data": {
      "text/plain": [
       "array([ True, False, False,  True, False,  True,  True,  True,  True])"
      ]
     },
     "execution_count": 116,
     "metadata": {},
     "output_type": "execute_result"
    }
   ],
   "source": [
    "rfe.support_"
   ]
  },
  {
   "cell_type": "markdown",
   "metadata": {},
   "source": [
    "`support_`로 바로 boolean indexing할 수 없다.  "
   ]
  },
  {
   "cell_type": "code",
   "execution_count": null,
   "metadata": {},
   "outputs": [],
   "source": [
    "# Error\n",
    "mpg_fe[rfe.support_]"
   ]
  },
  {
   "cell_type": "markdown",
   "metadata": {},
   "source": [
    "pandas의 indexing은 기본적으로 row를 가져온다.  \n",
    "길이가 안 맞기 때문에 에러가 발생한다.\n",
    "```\n",
    "ValueError: Item wrong length 9 instead of 398.\n",
    "```"
   ]
  },
  {
   "cell_type": "markdown",
   "metadata": {},
   "source": [
    "`columns`를 boolean indexing해서 select된 column의 이름만 가져와보자."
   ]
  },
  {
   "cell_type": "code",
   "execution_count": null,
   "metadata": {},
   "outputs": [],
   "source": [
    "# Error\n",
    "mpg_fe.columns[rfe.support_]"
   ]
  },
  {
   "cell_type": "markdown",
   "metadata": {},
   "source": [
    "target을 빼고 feature 9개에 대해서만 `True`, `False`로 만들었다.  \n",
    "mpg_fe에는 target이 포함되어 있기 때문에 column이 10개인데 `True`, `False`는 9개 뿐이라서 에러가 발생한다.\n",
    "```\n",
    "IndexError: boolean index did not match indexed array along dimension 0; dimension is 10 but corresponding boolean dimension is 9\n",
    "```"
   ]
  },
  {
   "cell_type": "markdown",
   "metadata": {},
   "source": [
    "target을 빼고 boolean indexing하면 선택된 feature 이름만 가져올 수 있다. "
   ]
  },
  {
   "cell_type": "code",
   "execution_count": 252,
   "metadata": {},
   "outputs": [
    {
     "data": {
      "text/plain": [
       "Index(['cylinders', 'weight', 'model_year', 'europe', 'japan', 'usa'], dtype='object')"
      ]
     },
     "execution_count": 252,
     "metadata": {},
     "output_type": "execute_result"
    }
   ],
   "source": [
    "mpg_fe.columns[1:][rfe.support_]"
   ]
  },
  {
   "cell_type": "markdown",
   "metadata": {},
   "source": [
    "pandas에서 fancy indexing해서 이름으로 column을 가져올 수 있다."
   ]
  },
  {
   "cell_type": "code",
   "execution_count": 255,
   "metadata": {},
   "outputs": [
    {
     "data": {
      "text/html": [
       "<div>\n",
       "<style scoped>\n",
       "    .dataframe tbody tr th:only-of-type {\n",
       "        vertical-align: middle;\n",
       "    }\n",
       "\n",
       "    .dataframe tbody tr th {\n",
       "        vertical-align: top;\n",
       "    }\n",
       "\n",
       "    .dataframe thead th {\n",
       "        text-align: right;\n",
       "    }\n",
       "</style>\n",
       "<table border=\"1\" class=\"dataframe\">\n",
       "  <thead>\n",
       "    <tr style=\"text-align: right;\">\n",
       "      <th></th>\n",
       "      <th>cylinders</th>\n",
       "      <th>weight</th>\n",
       "      <th>model_year</th>\n",
       "      <th>europe</th>\n",
       "      <th>japan</th>\n",
       "      <th>usa</th>\n",
       "    </tr>\n",
       "  </thead>\n",
       "  <tbody>\n",
       "    <tr>\n",
       "      <th>0</th>\n",
       "      <td>8</td>\n",
       "      <td>0.630870</td>\n",
       "      <td>70</td>\n",
       "      <td>0</td>\n",
       "      <td>0</td>\n",
       "      <td>1</td>\n",
       "    </tr>\n",
       "    <tr>\n",
       "      <th>1</th>\n",
       "      <td>8</td>\n",
       "      <td>0.854333</td>\n",
       "      <td>70</td>\n",
       "      <td>0</td>\n",
       "      <td>0</td>\n",
       "      <td>1</td>\n",
       "    </tr>\n",
       "    <tr>\n",
       "      <th>2</th>\n",
       "      <td>8</td>\n",
       "      <td>0.550470</td>\n",
       "      <td>70</td>\n",
       "      <td>0</td>\n",
       "      <td>0</td>\n",
       "      <td>1</td>\n",
       "    </tr>\n",
       "    <tr>\n",
       "      <th>3</th>\n",
       "      <td>8</td>\n",
       "      <td>0.546923</td>\n",
       "      <td>70</td>\n",
       "      <td>0</td>\n",
       "      <td>0</td>\n",
       "      <td>1</td>\n",
       "    </tr>\n",
       "    <tr>\n",
       "      <th>4</th>\n",
       "      <td>8</td>\n",
       "      <td>0.565841</td>\n",
       "      <td>70</td>\n",
       "      <td>0</td>\n",
       "      <td>0</td>\n",
       "      <td>1</td>\n",
       "    </tr>\n",
       "    <tr>\n",
       "      <th>...</th>\n",
       "      <td>...</td>\n",
       "      <td>...</td>\n",
       "      <td>...</td>\n",
       "      <td>...</td>\n",
       "      <td>...</td>\n",
       "      <td>...</td>\n",
       "    </tr>\n",
       "    <tr>\n",
       "      <th>393</th>\n",
       "      <td>4</td>\n",
       "      <td>-0.213324</td>\n",
       "      <td>82</td>\n",
       "      <td>0</td>\n",
       "      <td>0</td>\n",
       "      <td>1</td>\n",
       "    </tr>\n",
       "    <tr>\n",
       "      <th>394</th>\n",
       "      <td>4</td>\n",
       "      <td>-0.993671</td>\n",
       "      <td>82</td>\n",
       "      <td>1</td>\n",
       "      <td>0</td>\n",
       "      <td>0</td>\n",
       "    </tr>\n",
       "    <tr>\n",
       "      <th>395</th>\n",
       "      <td>4</td>\n",
       "      <td>-0.798585</td>\n",
       "      <td>82</td>\n",
       "      <td>0</td>\n",
       "      <td>0</td>\n",
       "      <td>1</td>\n",
       "    </tr>\n",
       "    <tr>\n",
       "      <th>396</th>\n",
       "      <td>4</td>\n",
       "      <td>-0.408411</td>\n",
       "      <td>82</td>\n",
       "      <td>0</td>\n",
       "      <td>0</td>\n",
       "      <td>1</td>\n",
       "    </tr>\n",
       "    <tr>\n",
       "      <th>397</th>\n",
       "      <td>4</td>\n",
       "      <td>-0.296088</td>\n",
       "      <td>82</td>\n",
       "      <td>0</td>\n",
       "      <td>0</td>\n",
       "      <td>1</td>\n",
       "    </tr>\n",
       "  </tbody>\n",
       "</table>\n",
       "<p>398 rows × 6 columns</p>\n",
       "</div>"
      ],
      "text/plain": [
       "     cylinders    weight  model_year  europe  japan  usa\n",
       "0            8  0.630870          70       0      0    1\n",
       "1            8  0.854333          70       0      0    1\n",
       "2            8  0.550470          70       0      0    1\n",
       "3            8  0.546923          70       0      0    1\n",
       "4            8  0.565841          70       0      0    1\n",
       "..         ...       ...         ...     ...    ...  ...\n",
       "393          4 -0.213324          82       0      0    1\n",
       "394          4 -0.993671          82       1      0    0\n",
       "395          4 -0.798585          82       0      0    1\n",
       "396          4 -0.408411          82       0      0    1\n",
       "397          4 -0.296088          82       0      0    1\n",
       "\n",
       "[398 rows x 6 columns]"
      ]
     },
     "execution_count": 255,
     "metadata": {},
     "output_type": "execute_result"
    }
   ],
   "source": [
    "mpg_fe[mpg_fe.columns[1:][rfe.support_]]"
   ]
  },
  {
   "cell_type": "markdown",
   "metadata": {},
   "source": [
    "#### boolean indexing 복습"
   ]
  },
  {
   "cell_type": "markdown",
   "metadata": {},
   "source": [
    "numpy는 True, False로 뽑을 수 있다. \n",
    "\n",
    "pandas는 Ture, False로 뽑을 수는 있는데 좀 다르다.\n",
    "    - pandas는 기본적으로 행을 뽑는다.\n",
    "    - 대신, 이름을 쓰면 열 뽑는다."
   ]
  },
  {
   "cell_type": "markdown",
   "metadata": {},
   "source": [
    "numpy boolean indexing"
   ]
  },
  {
   "cell_type": "code",
   "execution_count": 110,
   "metadata": {},
   "outputs": [],
   "source": [
    "import numpy as np"
   ]
  },
  {
   "cell_type": "code",
   "execution_count": 257,
   "metadata": {},
   "outputs": [
    {
     "data": {
      "text/plain": [
       "array([[ 0,  1,  2,  3,  4],\n",
       "       [ 5,  6,  7,  8,  9],\n",
       "       [10, 11, 12, 13, 14],\n",
       "       [15, 16, 17, 18, 19],\n",
       "       [20, 21, 22, 23, 24]])"
      ]
     },
     "execution_count": 257,
     "metadata": {},
     "output_type": "execute_result"
    }
   ],
   "source": [
    "a = np.arange(25).reshape(5, 5)\n",
    "a"
   ]
  },
  {
   "cell_type": "code",
   "execution_count": 258,
   "metadata": {},
   "outputs": [
    {
     "data": {
      "text/plain": [
       "array([[ 0,  1,  2,  3,  4],\n",
       "       [10, 11, 12, 13, 14],\n",
       "       [15, 16, 17, 18, 19]])"
      ]
     },
     "execution_count": 258,
     "metadata": {},
     "output_type": "execute_result"
    }
   ],
   "source": [
    "# 행을 뽑음\n",
    "a[[True, False, True, True, False]]"
   ]
  },
  {
   "cell_type": "code",
   "execution_count": 259,
   "metadata": {},
   "outputs": [
    {
     "data": {
      "text/plain": [
       "array([[ 0,  2,  3],\n",
       "       [ 5,  7,  8],\n",
       "       [10, 12, 13],\n",
       "       [15, 17, 18],\n",
       "       [20, 22, 23]])"
      ]
     },
     "execution_count": 259,
     "metadata": {},
     "output_type": "execute_result"
    }
   ],
   "source": [
    "# 열도 boolean indexing 가능\n",
    "a[:, [True, False, True, True, False]]"
   ]
  },
  {
   "cell_type": "markdown",
   "metadata": {},
   "source": [
    "pandas boolean indexing"
   ]
  },
  {
   "cell_type": "code",
   "execution_count": 117,
   "metadata": {},
   "outputs": [],
   "source": [
    "iris = sns.load_dataset(\"iris\")"
   ]
  },
  {
   "cell_type": "code",
   "execution_count": null,
   "metadata": {},
   "outputs": [],
   "source": [
    "# Error\n",
    "# pandas는 row를 뽑는데 길이가 안맞음\n",
    "iris[[True, True, True, True, False]]"
   ]
  },
  {
   "cell_type": "code",
   "execution_count": 119,
   "metadata": {},
   "outputs": [
    {
     "data": {
      "text/plain": [
       "Index(['sepal_length', 'sepal_width', 'petal_length', 'petal_width'], dtype='object')"
      ]
     },
     "execution_count": 119,
     "metadata": {},
     "output_type": "execute_result"
    }
   ],
   "source": [
    "iris.columns[:-1] # columns로 열 이름만 가져옴"
   ]
  },
  {
   "cell_type": "code",
   "execution_count": 120,
   "metadata": {},
   "outputs": [
    {
     "data": {
      "text/html": [
       "<div>\n",
       "<style scoped>\n",
       "    .dataframe tbody tr th:only-of-type {\n",
       "        vertical-align: middle;\n",
       "    }\n",
       "\n",
       "    .dataframe tbody tr th {\n",
       "        vertical-align: top;\n",
       "    }\n",
       "\n",
       "    .dataframe thead th {\n",
       "        text-align: right;\n",
       "    }\n",
       "</style>\n",
       "<table border=\"1\" class=\"dataframe\">\n",
       "  <thead>\n",
       "    <tr style=\"text-align: right;\">\n",
       "      <th></th>\n",
       "      <th>sepal_length</th>\n",
       "      <th>sepal_width</th>\n",
       "      <th>petal_length</th>\n",
       "      <th>petal_width</th>\n",
       "    </tr>\n",
       "  </thead>\n",
       "  <tbody>\n",
       "    <tr>\n",
       "      <th>0</th>\n",
       "      <td>5.1</td>\n",
       "      <td>3.5</td>\n",
       "      <td>1.4</td>\n",
       "      <td>0.2</td>\n",
       "    </tr>\n",
       "    <tr>\n",
       "      <th>1</th>\n",
       "      <td>4.9</td>\n",
       "      <td>3.0</td>\n",
       "      <td>1.4</td>\n",
       "      <td>0.2</td>\n",
       "    </tr>\n",
       "    <tr>\n",
       "      <th>2</th>\n",
       "      <td>4.7</td>\n",
       "      <td>3.2</td>\n",
       "      <td>1.3</td>\n",
       "      <td>0.2</td>\n",
       "    </tr>\n",
       "    <tr>\n",
       "      <th>3</th>\n",
       "      <td>4.6</td>\n",
       "      <td>3.1</td>\n",
       "      <td>1.5</td>\n",
       "      <td>0.2</td>\n",
       "    </tr>\n",
       "    <tr>\n",
       "      <th>4</th>\n",
       "      <td>5.0</td>\n",
       "      <td>3.6</td>\n",
       "      <td>1.4</td>\n",
       "      <td>0.2</td>\n",
       "    </tr>\n",
       "    <tr>\n",
       "      <th>...</th>\n",
       "      <td>...</td>\n",
       "      <td>...</td>\n",
       "      <td>...</td>\n",
       "      <td>...</td>\n",
       "    </tr>\n",
       "    <tr>\n",
       "      <th>145</th>\n",
       "      <td>6.7</td>\n",
       "      <td>3.0</td>\n",
       "      <td>5.2</td>\n",
       "      <td>2.3</td>\n",
       "    </tr>\n",
       "    <tr>\n",
       "      <th>146</th>\n",
       "      <td>6.3</td>\n",
       "      <td>2.5</td>\n",
       "      <td>5.0</td>\n",
       "      <td>1.9</td>\n",
       "    </tr>\n",
       "    <tr>\n",
       "      <th>147</th>\n",
       "      <td>6.5</td>\n",
       "      <td>3.0</td>\n",
       "      <td>5.2</td>\n",
       "      <td>2.0</td>\n",
       "    </tr>\n",
       "    <tr>\n",
       "      <th>148</th>\n",
       "      <td>6.2</td>\n",
       "      <td>3.4</td>\n",
       "      <td>5.4</td>\n",
       "      <td>2.3</td>\n",
       "    </tr>\n",
       "    <tr>\n",
       "      <th>149</th>\n",
       "      <td>5.9</td>\n",
       "      <td>3.0</td>\n",
       "      <td>5.1</td>\n",
       "      <td>1.8</td>\n",
       "    </tr>\n",
       "  </tbody>\n",
       "</table>\n",
       "<p>150 rows × 4 columns</p>\n",
       "</div>"
      ],
      "text/plain": [
       "     sepal_length  sepal_width  petal_length  petal_width\n",
       "0             5.1          3.5           1.4          0.2\n",
       "1             4.9          3.0           1.4          0.2\n",
       "2             4.7          3.2           1.3          0.2\n",
       "3             4.6          3.1           1.5          0.2\n",
       "4             5.0          3.6           1.4          0.2\n",
       "..            ...          ...           ...          ...\n",
       "145           6.7          3.0           5.2          2.3\n",
       "146           6.3          2.5           5.0          1.9\n",
       "147           6.5          3.0           5.2          2.0\n",
       "148           6.2          3.4           5.4          2.3\n",
       "149           5.9          3.0           5.1          1.8\n",
       "\n",
       "[150 rows x 4 columns]"
      ]
     },
     "execution_count": 120,
     "metadata": {},
     "output_type": "execute_result"
    }
   ],
   "source": [
    "iris[iris.columns[:-1]] # 이름으로 팬시 인덱싱 \n",
    "                        # 열 뽑아오기 가능"
   ]
  },
  {
   "cell_type": "markdown",
   "metadata": {},
   "source": [
    "#### insert"
   ]
  },
  {
   "cell_type": "markdown",
   "metadata": {},
   "source": [
    "`columns`와 `support_`의 길이를 맞추기 위해서 `support_`에 `True`를 하나 추가하는 방법을 쓸 수 있다."
   ]
  },
  {
   "cell_type": "markdown",
   "metadata": {},
   "source": [
    "list에서는 더하기 연산자로 값을 추가할 수 있었다."
   ]
  },
  {
   "cell_type": "code",
   "execution_count": 262,
   "metadata": {},
   "outputs": [
    {
     "data": {
      "text/plain": [
       "[1, 2, 3, 1]"
      ]
     },
     "execution_count": 262,
     "metadata": {},
     "output_type": "execute_result"
    }
   ],
   "source": [
    "a = [1,2,3] \n",
    "a + [1]"
   ]
  },
  {
   "cell_type": "markdown",
   "metadata": {},
   "source": [
    "numpy는 broadcasting이 되어버린다."
   ]
  },
  {
   "cell_type": "code",
   "execution_count": 263,
   "metadata": {},
   "outputs": [
    {
     "data": {
      "text/plain": [
       "array([2, 3, 4])"
      ]
     },
     "execution_count": 263,
     "metadata": {},
     "output_type": "execute_result"
    }
   ],
   "source": [
    "a_np = np.array(a)\n",
    "a + np.array([1])"
   ]
  },
  {
   "cell_type": "markdown",
   "metadata": {},
   "source": [
    "list는 `insert` 메소드로 특정 위치에 값을 집어 넣을 수 있다"
   ]
  },
  {
   "cell_type": "code",
   "execution_count": 264,
   "metadata": {},
   "outputs": [],
   "source": [
    "a.insert(3, 1) # index 3 자리에 1을 추가"
   ]
  },
  {
   "cell_type": "code",
   "execution_count": 265,
   "metadata": {},
   "outputs": [
    {
     "data": {
      "text/plain": [
       "[1, 2, 3, 1]"
      ]
     },
     "execution_count": 265,
     "metadata": {},
     "output_type": "execute_result"
    }
   ],
   "source": [
    "a"
   ]
  },
  {
   "cell_type": "markdown",
   "metadata": {},
   "source": [
    "numpy에도 `insert`가 있다."
   ]
  },
  {
   "cell_type": "code",
   "execution_count": 135,
   "metadata": {},
   "outputs": [
    {
     "data": {
      "text/plain": [
       "array([1, 5, 2, 3])"
      ]
     },
     "execution_count": 135,
     "metadata": {},
     "output_type": "execute_result"
    }
   ],
   "source": [
    "np.insert(a_np, 1, 5) # index 1 자리에 5 추가"
   ]
  },
  {
   "cell_type": "markdown",
   "metadata": {},
   "source": [
    "target 위치에 `True`를 집어넣은 후 boolean indexing하면 mpg 열을 포함해서 인덱싱된다."
   ]
  },
  {
   "cell_type": "code",
   "execution_count": 136,
   "metadata": {},
   "outputs": [
    {
     "data": {
      "text/plain": [
       "array([ True,  True, False, False,  True, False,  True,  True,  True,\n",
       "        True])"
      ]
     },
     "execution_count": 136,
     "metadata": {},
     "output_type": "execute_result"
    }
   ],
   "source": [
    "np.insert(rfe.support_, 0, True)"
   ]
  },
  {
   "cell_type": "code",
   "execution_count": 137,
   "metadata": {},
   "outputs": [
    {
     "data": {
      "text/plain": [
       "Index(['mpg', 'cylinders', 'weight', 'model_year', 'europe', 'japan', 'usa'], dtype='object')"
      ]
     },
     "execution_count": 137,
     "metadata": {},
     "output_type": "execute_result"
    }
   ],
   "source": [
    "mpg_fe.columns[np.insert(rfe.support_, 0, True)]"
   ]
  },
  {
   "cell_type": "markdown",
   "metadata": {},
   "source": [
    "그대로 fancy indexing할 수 있다."
   ]
  },
  {
   "cell_type": "code",
   "execution_count": 139,
   "metadata": {},
   "outputs": [
    {
     "data": {
      "text/html": [
       "<div>\n",
       "<style scoped>\n",
       "    .dataframe tbody tr th:only-of-type {\n",
       "        vertical-align: middle;\n",
       "    }\n",
       "\n",
       "    .dataframe tbody tr th {\n",
       "        vertical-align: top;\n",
       "    }\n",
       "\n",
       "    .dataframe thead th {\n",
       "        text-align: right;\n",
       "    }\n",
       "</style>\n",
       "<table border=\"1\" class=\"dataframe\">\n",
       "  <thead>\n",
       "    <tr style=\"text-align: right;\">\n",
       "      <th></th>\n",
       "      <th>mpg</th>\n",
       "      <th>cylinders</th>\n",
       "      <th>weight</th>\n",
       "      <th>model_year</th>\n",
       "      <th>europe</th>\n",
       "      <th>japan</th>\n",
       "      <th>usa</th>\n",
       "    </tr>\n",
       "  </thead>\n",
       "  <tbody>\n",
       "    <tr>\n",
       "      <th>0</th>\n",
       "      <td>18.0</td>\n",
       "      <td>8</td>\n",
       "      <td>0.630870</td>\n",
       "      <td>70</td>\n",
       "      <td>0</td>\n",
       "      <td>0</td>\n",
       "      <td>1</td>\n",
       "    </tr>\n",
       "    <tr>\n",
       "      <th>1</th>\n",
       "      <td>15.0</td>\n",
       "      <td>8</td>\n",
       "      <td>0.854333</td>\n",
       "      <td>70</td>\n",
       "      <td>0</td>\n",
       "      <td>0</td>\n",
       "      <td>1</td>\n",
       "    </tr>\n",
       "    <tr>\n",
       "      <th>2</th>\n",
       "      <td>18.0</td>\n",
       "      <td>8</td>\n",
       "      <td>0.550470</td>\n",
       "      <td>70</td>\n",
       "      <td>0</td>\n",
       "      <td>0</td>\n",
       "      <td>1</td>\n",
       "    </tr>\n",
       "    <tr>\n",
       "      <th>3</th>\n",
       "      <td>16.0</td>\n",
       "      <td>8</td>\n",
       "      <td>0.546923</td>\n",
       "      <td>70</td>\n",
       "      <td>0</td>\n",
       "      <td>0</td>\n",
       "      <td>1</td>\n",
       "    </tr>\n",
       "    <tr>\n",
       "      <th>4</th>\n",
       "      <td>17.0</td>\n",
       "      <td>8</td>\n",
       "      <td>0.565841</td>\n",
       "      <td>70</td>\n",
       "      <td>0</td>\n",
       "      <td>0</td>\n",
       "      <td>1</td>\n",
       "    </tr>\n",
       "    <tr>\n",
       "      <th>...</th>\n",
       "      <td>...</td>\n",
       "      <td>...</td>\n",
       "      <td>...</td>\n",
       "      <td>...</td>\n",
       "      <td>...</td>\n",
       "      <td>...</td>\n",
       "      <td>...</td>\n",
       "    </tr>\n",
       "    <tr>\n",
       "      <th>393</th>\n",
       "      <td>27.0</td>\n",
       "      <td>4</td>\n",
       "      <td>-0.213324</td>\n",
       "      <td>82</td>\n",
       "      <td>0</td>\n",
       "      <td>0</td>\n",
       "      <td>1</td>\n",
       "    </tr>\n",
       "    <tr>\n",
       "      <th>394</th>\n",
       "      <td>44.0</td>\n",
       "      <td>4</td>\n",
       "      <td>-0.993671</td>\n",
       "      <td>82</td>\n",
       "      <td>1</td>\n",
       "      <td>0</td>\n",
       "      <td>0</td>\n",
       "    </tr>\n",
       "    <tr>\n",
       "      <th>395</th>\n",
       "      <td>32.0</td>\n",
       "      <td>4</td>\n",
       "      <td>-0.798585</td>\n",
       "      <td>82</td>\n",
       "      <td>0</td>\n",
       "      <td>0</td>\n",
       "      <td>1</td>\n",
       "    </tr>\n",
       "    <tr>\n",
       "      <th>396</th>\n",
       "      <td>28.0</td>\n",
       "      <td>4</td>\n",
       "      <td>-0.408411</td>\n",
       "      <td>82</td>\n",
       "      <td>0</td>\n",
       "      <td>0</td>\n",
       "      <td>1</td>\n",
       "    </tr>\n",
       "    <tr>\n",
       "      <th>397</th>\n",
       "      <td>31.0</td>\n",
       "      <td>4</td>\n",
       "      <td>-0.296088</td>\n",
       "      <td>82</td>\n",
       "      <td>0</td>\n",
       "      <td>0</td>\n",
       "      <td>1</td>\n",
       "    </tr>\n",
       "  </tbody>\n",
       "</table>\n",
       "<p>398 rows × 7 columns</p>\n",
       "</div>"
      ],
      "text/plain": [
       "      mpg  cylinders    weight  model_year  europe  japan  usa\n",
       "0    18.0          8  0.630870          70       0      0    1\n",
       "1    15.0          8  0.854333          70       0      0    1\n",
       "2    18.0          8  0.550470          70       0      0    1\n",
       "3    16.0          8  0.546923          70       0      0    1\n",
       "4    17.0          8  0.565841          70       0      0    1\n",
       "..    ...        ...       ...         ...     ...    ...  ...\n",
       "393  27.0          4 -0.213324          82       0      0    1\n",
       "394  44.0          4 -0.993671          82       1      0    0\n",
       "395  32.0          4 -0.798585          82       0      0    1\n",
       "396  28.0          4 -0.408411          82       0      0    1\n",
       "397  31.0          4 -0.296088          82       0      0    1\n",
       "\n",
       "[398 rows x 7 columns]"
      ]
     },
     "execution_count": 139,
     "metadata": {},
     "output_type": "execute_result"
    }
   ],
   "source": [
    "mpg_fe[mpg_fe.columns[np.insert(rfe.support_, 0, True)]]"
   ]
  },
  {
   "cell_type": "markdown",
   "metadata": {},
   "source": [
    "다음처럼 columns에서 target열을 뺌으로써 길이를 맞출 수도 있다.  \n",
    "하지만 실무에서는 feature의 개수가 너무 많아서 어디서 부터 끊어야할지 알 수 없거나, target이 중간에 껴있는 경우도 있다.  \n",
    "복잡한 상황에서는 `insert`로 특정 위치에 값을 집어 넣는 방식이 유용하므로 알고 있어야 한다."
   ]
  },
  {
   "cell_type": "code",
   "execution_count": 144,
   "metadata": {},
   "outputs": [
    {
     "data": {
      "text/plain": [
       "Index(['cylinders', 'weight', 'model_year', 'europe', 'japan', 'usa'], dtype='object')"
      ]
     },
     "execution_count": 144,
     "metadata": {},
     "output_type": "execute_result"
    }
   ],
   "source": [
    "mpg_fe.columns[1:][rfe.support_]"
   ]
  },
  {
   "cell_type": "markdown",
   "metadata": {},
   "source": [
    "## Embedded"
   ]
  },
  {
   "cell_type": "markdown",
   "metadata": {},
   "source": [
    "알고리즘 자체에서 feature selection 할 수 있도록 feature의 중요도를 체크해주는 기능이 있다.   \n",
    "알고리즘 자체에 내장된 기능을 사용하는 방법을 Embedded라고 한다."
   ]
  },
  {
   "cell_type": "markdown",
   "metadata": {},
   "source": [
    "### CART(Classification And Regression Tree)"
   ]
  },
  {
   "cell_type": "code",
   "execution_count": 145,
   "metadata": {},
   "outputs": [],
   "source": [
    "from sklearn.tree import DecisionTreeRegressor"
   ]
  },
  {
   "cell_type": "markdown",
   "metadata": {},
   "source": [
    "의사결정나무(DecisionTree)는 다음과 같은 방식으로 동작한다.  \n",
    "마치 나무의 줄기가 뻗어나가는 것 같다고 하여 나무라는 이름이 붙었다."
   ]
  },
  {
   "attachments": {
    "image.png": {
     "image/png": "[encoded data removed]"
    }
   },
   "cell_type": "markdown",
   "metadata": {},
   "source": [
    "![image.png](attachment:image.png)"
   ]
  },
  {
   "cell_type": "markdown",
   "metadata": {},
   "source": [
    "> **참고**  \n",
    "scikit에 있는 기본적인 DecisionTree는 모두 노드를 binary 분기 한다.  \n",
    "다른 프레임워크에서는 노드가 분기할 때 몇개로 나눠질 것인지 정할 수 있다. "
   ]
  },
  {
   "cell_type": "code",
   "execution_count": 267,
   "metadata": {},
   "outputs": [],
   "source": [
    "dt = DecisionTreeRegressor()"
   ]
  },
  {
   "cell_type": "markdown",
   "metadata": {},
   "source": [
    "`fit`하기 전에는 `feature_importance_`가 없다."
   ]
  },
  {
   "cell_type": "code",
   "execution_count": 270,
   "metadata": {},
   "outputs": [
    {
     "data": {
      "text/plain": [
       "False"
      ]
     },
     "execution_count": 270,
     "metadata": {},
     "output_type": "execute_result"
    }
   ],
   "source": [
    "hasattr(dt, \"feature_importances_\")"
   ]
  },
  {
   "cell_type": "code",
   "execution_count": 271,
   "metadata": {},
   "outputs": [
    {
     "data": {
      "text/plain": [
       "DecisionTreeRegressor(ccp_alpha=0.0, criterion='mse', max_depth=None,\n",
       "                      max_features=None, max_leaf_nodes=None,\n",
       "                      min_impurity_decrease=0.0, min_impurity_split=None,\n",
       "                      min_samples_leaf=1, min_samples_split=2,\n",
       "                      min_weight_fraction_leaf=0.0, presort='deprecated',\n",
       "                      random_state=None, splitter='best')"
      ]
     },
     "execution_count": 271,
     "metadata": {},
     "output_type": "execute_result"
    }
   ],
   "source": [
    "dt.fit(mpg_fe.iloc[:, 1:], mpg_fe.mpg)"
   ]
  },
  {
   "cell_type": "markdown",
   "metadata": {},
   "source": [
    "`fit` 후에는 `feature_importances_`가 생긴다."
   ]
  },
  {
   "cell_type": "code",
   "execution_count": 272,
   "metadata": {},
   "outputs": [
    {
     "data": {
      "text/plain": [
       "True"
      ]
     },
     "execution_count": 272,
     "metadata": {},
     "output_type": "execute_result"
    }
   ],
   "source": [
    "hasattr(dt, \"feature_importances_\")"
   ]
  },
  {
   "cell_type": "code",
   "execution_count": 153,
   "metadata": {},
   "outputs": [
    {
     "data": {
      "text/plain": [
       "array([2.74189782e-03, 6.08008037e-01, 1.73381185e-01, 6.58459672e-02,\n",
       "       2.01934463e-02, 1.13573861e-01, 1.16551196e-04, 1.54913560e-02,\n",
       "       6.47697534e-04])"
      ]
     },
     "execution_count": 153,
     "metadata": {},
     "output_type": "execute_result"
    }
   ],
   "source": [
    "dt.feature_importances_"
   ]
  },
  {
   "cell_type": "code",
   "execution_count": 278,
   "metadata": {},
   "outputs": [
    {
     "data": {
      "text/plain": [
       "array([0, 8, 6, 7, 4, 3, 5, 2, 1], dtype=int64)"
      ]
     },
     "execution_count": 278,
     "metadata": {},
     "output_type": "execute_result"
    }
   ],
   "source": [
    "dt.feature_importances_.argsort() # 중요도 순으로 인덱스 정렬(오름차순)"
   ]
  },
  {
   "cell_type": "code",
   "execution_count": 279,
   "metadata": {},
   "outputs": [
    {
     "data": {
      "text/plain": [
       "array([1, 2, 5], dtype=int64)"
      ]
     },
     "execution_count": 279,
     "metadata": {},
     "output_type": "execute_result"
    }
   ],
   "source": [
    "dt.feature_importances_.argsort()[:-4:-1] # 중요도 높은 순 상위 3개 feature의 인덱스"
   ]
  },
  {
   "cell_type": "code",
   "execution_count": 282,
   "metadata": {},
   "outputs": [
    {
     "data": {
      "text/plain": [
       "Index(['displacement', 'horsepower', 'model_year'], dtype='object')"
      ]
     },
     "execution_count": 282,
     "metadata": {},
     "output_type": "execute_result"
    }
   ],
   "source": [
    "mpg_fe.columns[1:][dt.feature_importances_.argsort()[:-4:-1]] # columns에서 fancy indexing으로 이름 가져오기"
   ]
  },
  {
   "cell_type": "markdown",
   "metadata": {},
   "source": [
    "---"
   ]
  },
  {
   "cell_type": "markdown",
   "metadata": {},
   "source": [
    "**컬럼을 줄이는 방법 정리**\n",
    "\n",
    "1. filter: 단순히 통계값으로 판단\n",
    "    - 단점: 성능이 안좋다.\n",
    "2. wrapper: 모든 경우 테스트해서 성능 좋은거 찾는 방식\n",
    "    - 단점: computing resource 크다\n",
    "    - 단점: 오래 걸린다.\n",
    "3. embeded: 알고리즘 안에 중요도 체크\n",
    "    - 단점: 지원 안하는 알고리즘은 못 쓴다. \n",
    "    - 단점: 지원 안하는 알고리즘이 많다.\n",
    "    \n",
    "결국, 상황에 맞게 조절해야한다."
   ]
  },
  {
   "cell_type": "markdown",
   "metadata": {},
   "source": [
    "## parametric VS non-parametric"
   ]
  },
  {
   "cell_type": "markdown",
   "metadata": {},
   "source": [
    "머신러닝을 분류하는 방법에는 여러가지가 있다. (black box VS white box, linear VS non-linear 등)\n",
    "그 중 하나이다.\n",
    "\n",
    "- parametric\n",
    "    - 전통적인 통계 방법\n",
    "    - $y = ax+ b$ 처럼 어떤 식으로 모델링할 수 있을 것이라고 가정한다.\n",
    "    - 이때 $a$, $b$가 parameter이다.\n",
    "        - paramater를 찾기 때문에 parametric 방식이라고 한다.\n",
    "        - hyper parameter와 다르므로 혼동하지 않도록 주의.\n",
    "            - hyper parameter는 사람이 정하는것, parameter는 기계가 알아서 찾는 것.\n",
    "    - $a$, $b$ 만으로 표현할 수 있을 것이라는 가정이기 때문에, 가정이 틀리면 다 틀린다.\n",
    "    - 성능은 비교적 떨어지지만, parameter를 정해놓기 때문에 설명하기 좋다.\n",
    "- non-parametric\n",
    "    - 주로 CS쪽의 방법\n",
    "    - parameter를 가정하지 않고 모델링한다.\n",
    "    - 성능은 더 우수하지만, 설명하기 어렵다."
   ]
  },
  {
   "cell_type": "markdown",
   "metadata": {},
   "source": [
    "[Statistical Modeling: The Two Cultures](http://www.math.snu.ac.kr/~hichoi/machinelearning/reference/(Breiman)%20Statistical%20Modeling--The%20Two%20Cultures.pdf)\n",
    "\n",
    "- 논문 저자 leo breiman은 randomforest를 고안한 저명한 통계학자이다.\n",
    "- 데이터 자체에서 모델 만들 수 있다는 것을 증명하였다. \n",
    "- 통계하는 사람들도 더이상 parametric 방식 쓰지 마라!\n",
    "    - 이 사람 이전과 이후로 대세가 바뀌었다."
   ]
  },
  {
   "cell_type": "markdown",
   "metadata": {},
   "source": [
    "Statiscal Analysis(parametric)과 Machine Learning(non-parametric)은 경계가 모호해졌다.  \n",
    "하지만 지향점이 다르므로 차이는 있다.  \n",
    "  \n",
    "CS 기반은 성능이 중요하기 때문에 오버피팅에 민감하다.  \n",
    "통계 기반은 해석 불가에 민감하다.  \n",
    "  \n",
    "둘은 상호보완적인 관계이다.  \n",
    "넷플릭스 추천 대회에서는 CS 기반 모델이 성능은 제일 좋았지만, 해석할 수가 없었다. 결국 섞어서 하이브리드 모델을 사용했다."
   ]
  },
  {
   "cell_type": "markdown",
   "metadata": {},
   "source": [
    "\n",
    "## ensemble"
   ]
  },
  {
   "cell_type": "markdown",
   "metadata": {},
   "source": [
    "ensemble은 알고리즘을 섞어서 쓴다."
   ]
  },
  {
   "cell_type": "markdown",
   "metadata": {},
   "source": [
    "### VotingClassifier"
   ]
  },
  {
   "cell_type": "markdown",
   "metadata": {},
   "source": [
    "`VotingClassifier`는 알고리즘끼리 투표해서 최종 예측한다."
   ]
  },
  {
   "cell_type": "code",
   "execution_count": 154,
   "metadata": {},
   "outputs": [],
   "source": [
    "# ensemble\n",
    "from sklearn.ensemble import VotingClassifier"
   ]
  },
  {
   "cell_type": "code",
   "execution_count": 155,
   "metadata": {},
   "outputs": [],
   "source": [
    "# 섞을 알고리즘\n",
    "from sklearn.neighbors import KNeighborsClassifier\n",
    "from sklearn.linear_model import LogisticRegression"
   ]
  },
  {
   "cell_type": "code",
   "execution_count": 292,
   "metadata": {},
   "outputs": [],
   "source": [
    "# 데이터\n",
    "from sklearn.datasets import load_iris\n",
    "from sklearn.model_selection import train_test_split\n",
    "\n",
    "data = load_iris()\n",
    "data_pd = pd.DataFrame(data.data, columns=data.feature_names)\n",
    "data_ta = pd.DataFrame(data.target, columns=[\"target\"])\n",
    "iris = pd.concat([data_pd, data_ta], axis=1)\n",
    "X_train, X_test, y_train, y_test = train_test_split(iris.iloc[:, :-1], iris.iloc[:, -1])"
   ]
  },
  {
   "cell_type": "markdown",
   "metadata": {},
   "source": [
    "`VotingClassifier`의 파라미터 이름을 보자.  \n",
    "파라미터가 estimator\"s\"로 복수형이다. -> list로 알고리즘 여러개 쓴다."
   ]
  },
  {
   "cell_type": "code",
   "execution_count": 283,
   "metadata": {},
   "outputs": [],
   "source": [
    "vc = VotingClassifier([KNeighborsClassifier(), LogisticRegression()])"
   ]
  },
  {
   "cell_type": "code",
   "execution_count": null,
   "metadata": {},
   "outputs": [],
   "source": [
    "# error\n",
    "vc.fit(X_train, y_train)"
   ]
  },
  {
   "cell_type": "markdown",
   "metadata": {},
   "source": [
    "zip 에러가 발생했다.  \n",
    "알고리즘 이름과 알고리즘 인스턴스를 튜플로 묶어서 넣어야한다.  \n",
    "(`Pipeline`에서 했던 것처럼 리스트 안에 튜플)\n",
    "\n",
    "```\n",
    "TypeError: zip argument #1 must support iteration\n",
    "```"
   ]
  },
  {
   "cell_type": "code",
   "execution_count": 384,
   "metadata": {},
   "outputs": [],
   "source": [
    "vc = VotingClassifier([(\"KNN\", KNeighborsClassifier()), (\"Log\", LogisticRegression(max_iter=200))]) # warning떄문에 max_iter 씀"
   ]
  },
  {
   "cell_type": "code",
   "execution_count": 386,
   "metadata": {},
   "outputs": [
    {
     "data": {
      "text/plain": [
       "VotingClassifier(estimators=[('KNN',\n",
       "                              KNeighborsClassifier(algorithm='auto',\n",
       "                                                   leaf_size=30,\n",
       "                                                   metric='minkowski',\n",
       "                                                   metric_params=None,\n",
       "                                                   n_jobs=None, n_neighbors=5,\n",
       "                                                   p=2, weights='uniform')),\n",
       "                             ('Log',\n",
       "                              LogisticRegression(C=1.0, class_weight=None,\n",
       "                                                 dual=False, fit_intercept=True,\n",
       "                                                 intercept_scaling=1,\n",
       "                                                 l1_ratio=None, max_iter=200,\n",
       "                                                 multi_class='auto',\n",
       "                                                 n_jobs=None, penalty='l2',\n",
       "                                                 random_state=None,\n",
       "                                                 solver='lbfgs', tol=0.0001,\n",
       "                                                 verbose=0,\n",
       "                                                 warm_start=False))],\n",
       "                 flatten_transform=True, n_jobs=None, voting='hard',\n",
       "                 weights=None)"
      ]
     },
     "execution_count": 386,
     "metadata": {},
     "output_type": "execute_result"
    }
   ],
   "source": [
    "vc.fit(X_train, y_train)"
   ]
  },
  {
   "cell_type": "markdown",
   "metadata": {},
   "source": [
    "`LabelEncoder`가 들어있다. target이 문자열인데 내부에서 알아서 처리해줬다."
   ]
  },
  {
   "cell_type": "code",
   "execution_count": 387,
   "metadata": {},
   "outputs": [
    {
     "data": {
      "text/plain": [
       "{'estimators': [('KNN',\n",
       "   KNeighborsClassifier(algorithm='auto', leaf_size=30, metric='minkowski',\n",
       "                        metric_params=None, n_jobs=None, n_neighbors=5, p=2,\n",
       "                        weights='uniform')),\n",
       "  ('Log',\n",
       "   LogisticRegression(C=1.0, class_weight=None, dual=False, fit_intercept=True,\n",
       "                      intercept_scaling=1, l1_ratio=None, max_iter=200,\n",
       "                      multi_class='auto', n_jobs=None, penalty='l2',\n",
       "                      random_state=None, solver='lbfgs', tol=0.0001, verbose=0,\n",
       "                      warm_start=False))],\n",
       " 'voting': 'hard',\n",
       " 'weights': None,\n",
       " 'n_jobs': None,\n",
       " 'flatten_transform': True,\n",
       " 'le_': LabelEncoder(),\n",
       " 'classes_': array([0, 1, 2]),\n",
       " 'estimators_': [KNeighborsClassifier(algorithm='auto', leaf_size=30, metric='minkowski',\n",
       "                       metric_params=None, n_jobs=None, n_neighbors=5, p=2,\n",
       "                       weights='uniform'),\n",
       "  LogisticRegression(C=1.0, class_weight=None, dual=False, fit_intercept=True,\n",
       "                     intercept_scaling=1, l1_ratio=None, max_iter=200,\n",
       "                     multi_class='auto', n_jobs=None, penalty='l2',\n",
       "                     random_state=None, solver='lbfgs', tol=0.0001, verbose=0,\n",
       "                     warm_start=False)],\n",
       " 'named_estimators_': {'KNN': KNeighborsClassifier(algorithm='auto', leaf_size=30, metric='minkowski',\n",
       "                       metric_params=None, n_jobs=None, n_neighbors=5, p=2,\n",
       "                       weights='uniform'),\n",
       "  'Log': LogisticRegression(C=1.0, class_weight=None, dual=False, fit_intercept=True,\n",
       "                     intercept_scaling=1, l1_ratio=None, max_iter=200,\n",
       "                     multi_class='auto', n_jobs=None, penalty='l2',\n",
       "                     random_state=None, solver='lbfgs', tol=0.0001, verbose=0,\n",
       "                     warm_start=False)}}"
      ]
     },
     "execution_count": 387,
     "metadata": {},
     "output_type": "execute_result"
    }
   ],
   "source": [
    "vars(vc)"
   ]
  },
  {
   "cell_type": "markdown",
   "metadata": {},
   "source": [
    "`predict`는 알고리즘의 투표 결과를 바탕으로 최종 예측 알려준다."
   ]
  },
  {
   "cell_type": "code",
   "execution_count": 388,
   "metadata": {
    "scrolled": true
   },
   "outputs": [
    {
     "data": {
      "text/plain": [
       "array([0])"
      ]
     },
     "execution_count": 388,
     "metadata": {},
     "output_type": "execute_result"
    }
   ],
   "source": [
    "vc.predict([[3,3,3,3]])"
   ]
  },
  {
   "cell_type": "markdown",
   "metadata": {},
   "source": [
    "`score`는 `predict`를 기준으로 점수를 알려준다."
   ]
  },
  {
   "cell_type": "code",
   "execution_count": 389,
   "metadata": {},
   "outputs": [
    {
     "data": {
      "text/plain": [
       "0.9210526315789473"
      ]
     },
     "execution_count": 389,
     "metadata": {},
     "output_type": "execute_result"
    }
   ],
   "source": [
    "vc.score(X_test, y_test) "
   ]
  },
  {
   "cell_type": "markdown",
   "metadata": {},
   "source": [
    "`transform`은 각각의 알고리즘이 뭐라고 예측했는지 알려준다."
   ]
  },
  {
   "cell_type": "code",
   "execution_count": 390,
   "metadata": {},
   "outputs": [
    {
     "data": {
      "text/plain": [
       "array([[1, 0]], dtype=int64)"
      ]
     },
     "execution_count": 390,
     "metadata": {},
     "output_type": "execute_result"
    }
   ],
   "source": [
    "vc.transform([[3,3,3,3]]) # 요게 핵심!\n",
    "# KNN 예측, Logistic 예측"
   ]
  },
  {
   "cell_type": "markdown",
   "metadata": {},
   "source": [
    "`voting`은 어떻게 투표했는지 방법을 알려준다.  \n",
    "투표 방법에는 hard와 soft가 있다."
   ]
  },
  {
   "cell_type": "code",
   "execution_count": 391,
   "metadata": {},
   "outputs": [
    {
     "data": {
      "text/plain": [
       "'hard'"
      ]
     },
     "execution_count": 391,
     "metadata": {},
     "output_type": "execute_result"
    }
   ],
   "source": [
    "vc.voting "
   ]
  },
  {
   "cell_type": "markdown",
   "metadata": {},
   "source": [
    "- hard\n",
    "    - 알고리즘들이 예측한 class에 대한 다수결 투표\n",
    "    - 알고리즘이 서로 다른 예측했을 때, 내부구조상 두 예측의 정확도까지 보고 더 높은거 고른다. \n",
    "        - 공식문서에는 설명이 안나와있어서 바뀌었을 수도 있다.\n",
    "- soft \n",
    "    - 일종의 가중치 투표\n",
    "    - 알고리즘들이 예측한 확률의 합으로 결정"
   ]
  },
  {
   "cell_type": "code",
   "execution_count": 403,
   "metadata": {},
   "outputs": [],
   "source": [
    "vc = VotingClassifier([(\"KNN\", KNeighborsClassifier()), (\"Log\", LogisticRegression(max_iter=200))], voting=\"soft\") # warning떄문에 max_iter 씀"
   ]
  },
  {
   "cell_type": "code",
   "execution_count": 404,
   "metadata": {
    "scrolled": false
   },
   "outputs": [
    {
     "data": {
      "text/plain": [
       "VotingClassifier(estimators=[('KNN',\n",
       "                              KNeighborsClassifier(algorithm='auto',\n",
       "                                                   leaf_size=30,\n",
       "                                                   metric='minkowski',\n",
       "                                                   metric_params=None,\n",
       "                                                   n_jobs=None, n_neighbors=5,\n",
       "                                                   p=2, weights='uniform')),\n",
       "                             ('Log',\n",
       "                              LogisticRegression(C=1.0, class_weight=None,\n",
       "                                                 dual=False, fit_intercept=True,\n",
       "                                                 intercept_scaling=1,\n",
       "                                                 l1_ratio=None, max_iter=200,\n",
       "                                                 multi_class='auto',\n",
       "                                                 n_jobs=None, penalty='l2',\n",
       "                                                 random_state=None,\n",
       "                                                 solver='lbfgs', tol=0.0001,\n",
       "                                                 verbose=0,\n",
       "                                                 warm_start=False))],\n",
       "                 flatten_transform=True, n_jobs=None, voting='soft',\n",
       "                 weights=None)"
      ]
     },
     "execution_count": 404,
     "metadata": {},
     "output_type": "execute_result"
    }
   ],
   "source": [
    "vc.fit(X_train, y_train)"
   ]
  },
  {
   "cell_type": "code",
   "execution_count": 405,
   "metadata": {},
   "outputs": [
    {
     "data": {
      "text/plain": [
       "array([1])"
      ]
     },
     "execution_count": 405,
     "metadata": {},
     "output_type": "execute_result"
    }
   ],
   "source": [
    "vc.predict([[3,3,3,3]])"
   ]
  },
  {
   "cell_type": "code",
   "execution_count": 406,
   "metadata": {},
   "outputs": [
    {
     "data": {
      "text/plain": [
       "array([[0.31673386, 0.5939604 , 0.08930574]])"
      ]
     },
     "execution_count": 406,
     "metadata": {},
     "output_type": "execute_result"
    }
   ],
   "source": [
    "vc.predict_proba([[3,3,3,3]]) # voting=\"soft\"일떄만 가능"
   ]
  },
  {
   "cell_type": "code",
   "execution_count": 409,
   "metadata": {},
   "outputs": [
    {
     "data": {
      "text/plain": [
       "array([[0.        , 1.        , 0.        , 0.63346772, 0.18792079,\n",
       "        0.17861149]])"
      ]
     },
     "execution_count": 409,
     "metadata": {},
     "output_type": "execute_result"
    }
   ],
   "source": [
    "vc.transform([[3,3,3,3]]) # 앞 3개: KNN 예측 확률 / 뒤 3개: Logistic 예측 확률"
   ]
  },
  {
   "cell_type": "markdown",
   "metadata": {},
   "source": [
    "#### weights"
   ]
  },
  {
   "cell_type": "markdown",
   "metadata": {},
   "source": [
    "파라미터명이 복수형이다. weight\"s\" => list로 여러개 넣는다."
   ]
  },
  {
   "cell_type": "code",
   "execution_count": 392,
   "metadata": {},
   "outputs": [],
   "source": [
    "vc = VotingClassifier([(\"KNN\", KNeighborsClassifier()), (\"Log\", LogisticRegression())], weights=[2,1])"
   ]
  },
  {
   "cell_type": "code",
   "execution_count": 393,
   "metadata": {},
   "outputs": [
    {
     "name": "stderr",
     "output_type": "stream",
     "text": [
      "C:\\Users\\JINHYO\\Anaconda3\\lib\\site-packages\\sklearn\\linear_model\\_logistic.py:940: ConvergenceWarning: lbfgs failed to converge (status=1):\n",
      "STOP: TOTAL NO. of ITERATIONS REACHED LIMIT.\n",
      "\n",
      "Increase the number of iterations (max_iter) or scale the data as shown in:\n",
      "    https://scikit-learn.org/stable/modules/preprocessing.html\n",
      "Please also refer to the documentation for alternative solver options:\n",
      "    https://scikit-learn.org/stable/modules/linear_model.html#logistic-regression\n",
      "  extra_warning_msg=_LOGISTIC_SOLVER_CONVERGENCE_MSG)\n"
     ]
    },
    {
     "data": {
      "text/plain": [
       "VotingClassifier(estimators=[('KNN',\n",
       "                              KNeighborsClassifier(algorithm='auto',\n",
       "                                                   leaf_size=30,\n",
       "                                                   metric='minkowski',\n",
       "                                                   metric_params=None,\n",
       "                                                   n_jobs=None, n_neighbors=5,\n",
       "                                                   p=2, weights='uniform')),\n",
       "                             ('Log',\n",
       "                              LogisticRegression(C=1.0, class_weight=None,\n",
       "                                                 dual=False, fit_intercept=True,\n",
       "                                                 intercept_scaling=1,\n",
       "                                                 l1_ratio=None, max_iter=100,\n",
       "                                                 multi_class='auto',\n",
       "                                                 n_jobs=None, penalty='l2',\n",
       "                                                 random_state=None,\n",
       "                                                 solver='lbfgs', tol=0.0001,\n",
       "                                                 verbose=0,\n",
       "                                                 warm_start=False))],\n",
       "                 flatten_transform=True, n_jobs=None, voting='hard',\n",
       "                 weights=[2, 1])"
      ]
     },
     "execution_count": 393,
     "metadata": {},
     "output_type": "execute_result"
    }
   ],
   "source": [
    "vc.fit(X_train, y_train)"
   ]
  },
  {
   "cell_type": "markdown",
   "metadata": {},
   "source": [
    "KNN과 logisitc에 각각 가중치 2, 1을 줬다.  \n",
    "KNN의 투표는 표 2개만큼의 힘이 있다.  \n",
    "KNN이 1로 예측한게 2표, Logisitc이 0으로 예측한게 1표 의 효과이므로, 최종 1로 예측한다."
   ]
  },
  {
   "cell_type": "code",
   "execution_count": 394,
   "metadata": {},
   "outputs": [
    {
     "data": {
      "text/plain": [
       "array([[1, 0]], dtype=int64)"
      ]
     },
     "execution_count": 394,
     "metadata": {},
     "output_type": "execute_result"
    }
   ],
   "source": [
    "vc.transform([[3,3,3,3]])\n",
    "# KNN, Logistic"
   ]
  },
  {
   "cell_type": "code",
   "execution_count": 395,
   "metadata": {},
   "outputs": [
    {
     "data": {
      "text/plain": [
       "array([1])"
      ]
     },
     "execution_count": 395,
     "metadata": {},
     "output_type": "execute_result"
    }
   ],
   "source": [
    "vc.predict([[3,3,3,3]])"
   ]
  },
  {
   "cell_type": "markdown",
   "metadata": {},
   "source": [
    "### VotingClassifier + Pipeline + GridSearchCV"
   ]
  },
  {
   "cell_type": "markdown",
   "metadata": {},
   "source": [
    "`VotingCLassifier`를 `Pipeline`에 넣어도 잘 동작한다."
   ]
  },
  {
   "cell_type": "code",
   "execution_count": 305,
   "metadata": {},
   "outputs": [],
   "source": [
    "from sklearn.pipeline import Pipeline"
   ]
  },
  {
   "cell_type": "code",
   "execution_count": 418,
   "metadata": {},
   "outputs": [],
   "source": [
    "vc = VotingClassifier([(\"KNN\", KNeighborsClassifier()), (\"Log\", LogisticRegression(max_iter=200))]) # warning떄문에 max_iter 씀"
   ]
  },
  {
   "cell_type": "code",
   "execution_count": 419,
   "metadata": {},
   "outputs": [],
   "source": [
    "pipe = Pipeline([(\"Voting\", vc)])"
   ]
  },
  {
   "cell_type": "code",
   "execution_count": 420,
   "metadata": {
    "scrolled": true
   },
   "outputs": [
    {
     "data": {
      "text/plain": [
       "Pipeline(memory=None,\n",
       "         steps=[('Voting',\n",
       "                 VotingClassifier(estimators=[('KNN',\n",
       "                                               KNeighborsClassifier(algorithm='auto',\n",
       "                                                                    leaf_size=30,\n",
       "                                                                    metric='minkowski',\n",
       "                                                                    metric_params=None,\n",
       "                                                                    n_jobs=None,\n",
       "                                                                    n_neighbors=5,\n",
       "                                                                    p=2,\n",
       "                                                                    weights='uniform')),\n",
       "                                              ('Log',\n",
       "                                               LogisticRegression(C=1.0,\n",
       "                                                                  class_weight=None,\n",
       "                                                                  dual=False,\n",
       "                                                                  fit_intercept=True,\n",
       "                                                                  intercept_scaling=1,\n",
       "                                                                  l1_ratio=None,\n",
       "                                                                  max_iter=200,\n",
       "                                                                  multi_class='auto',\n",
       "                                                                  n_jobs=None,\n",
       "                                                                  penalty='l2',\n",
       "                                                                  random_state=None,\n",
       "                                                                  solver='lbfgs',\n",
       "                                                                  tol=0.0001,\n",
       "                                                                  verbose=0,\n",
       "                                                                  warm_start=False))],\n",
       "                                  flatten_transform=True, n_jobs=None,\n",
       "                                  voting='hard', weights=None))],\n",
       "         verbose=False)"
      ]
     },
     "execution_count": 420,
     "metadata": {},
     "output_type": "execute_result"
    }
   ],
   "source": [
    "pipe.fit(X_train, y_train)"
   ]
  },
  {
   "cell_type": "code",
   "execution_count": 421,
   "metadata": {},
   "outputs": [
    {
     "data": {
      "text/plain": [
       "0.9210526315789473"
      ]
     },
     "execution_count": 421,
     "metadata": {},
     "output_type": "execute_result"
    }
   ],
   "source": [
    "pipe.score(X_test, y_test)"
   ]
  },
  {
   "cell_type": "markdown",
   "metadata": {},
   "source": [
    "그렇다면, `VotingClassifier`와 결합한 `Pipeline`을 `GridSearchCV`에 넣어서 자동화할 수 있지 않을까?"
   ]
  },
  {
   "cell_type": "code",
   "execution_count": 422,
   "metadata": {},
   "outputs": [],
   "source": [
    "from sklearn.model_selection import GridSearchCV"
   ]
  },
  {
   "cell_type": "markdown",
   "metadata": {},
   "source": [
    "`GridSearchCV`는 `get_params`에 있는 것만 바꿀 수 있으므로, pipe의 `get_params`를 확인한다."
   ]
  },
  {
   "cell_type": "code",
   "execution_count": 423,
   "metadata": {
    "scrolled": true
   },
   "outputs": [
    {
     "data": {
      "text/plain": [
       "{'memory': None, 'steps': [('Voting', VotingClassifier(estimators=[('KNN',\n",
       "                                 KNeighborsClassifier(algorithm='auto',\n",
       "                                                      leaf_size=30,\n",
       "                                                      metric='minkowski',\n",
       "                                                      metric_params=None,\n",
       "                                                      n_jobs=None, n_neighbors=5,\n",
       "                                                      p=2, weights='uniform')),\n",
       "                                ('Log',\n",
       "                                 LogisticRegression(C=1.0, class_weight=None,\n",
       "                                                    dual=False, fit_intercept=True,\n",
       "                                                    intercept_scaling=1,\n",
       "                                                    l1_ratio=None, max_iter=200,\n",
       "                                                    multi_class='auto',\n",
       "                                                    n_jobs=None, penalty='l2',\n",
       "                                                    random_state=None,\n",
       "                                                    solver='lbfgs', tol=0.0001,\n",
       "                                                    verbose=0,\n",
       "                                                    warm_start=False))],\n",
       "                    flatten_transform=True, n_jobs=None, voting='hard',\n",
       "                    weights=None))], 'verbose': False, 'Voting': VotingClassifier(estimators=[('KNN',\n",
       "                               KNeighborsClassifier(algorithm='auto',\n",
       "                                                    leaf_size=30,\n",
       "                                                    metric='minkowski',\n",
       "                                                    metric_params=None,\n",
       "                                                    n_jobs=None, n_neighbors=5,\n",
       "                                                    p=2, weights='uniform')),\n",
       "                              ('Log',\n",
       "                               LogisticRegression(C=1.0, class_weight=None,\n",
       "                                                  dual=False, fit_intercept=True,\n",
       "                                                  intercept_scaling=1,\n",
       "                                                  l1_ratio=None, max_iter=200,\n",
       "                                                  multi_class='auto',\n",
       "                                                  n_jobs=None, penalty='l2',\n",
       "                                                  random_state=None,\n",
       "                                                  solver='lbfgs', tol=0.0001,\n",
       "                                                  verbose=0,\n",
       "                                                  warm_start=False))],\n",
       "                  flatten_transform=True, n_jobs=None, voting='hard',\n",
       "                  weights=None), 'Voting__estimators': [('KNN',\n",
       "   KNeighborsClassifier(algorithm='auto', leaf_size=30, metric='minkowski',\n",
       "                        metric_params=None, n_jobs=None, n_neighbors=5, p=2,\n",
       "                        weights='uniform')),\n",
       "  ('Log',\n",
       "   LogisticRegression(C=1.0, class_weight=None, dual=False, fit_intercept=True,\n",
       "                      intercept_scaling=1, l1_ratio=None, max_iter=200,\n",
       "                      multi_class='auto', n_jobs=None, penalty='l2',\n",
       "                      random_state=None, solver='lbfgs', tol=0.0001, verbose=0,\n",
       "                      warm_start=False))], 'Voting__flatten_transform': True, 'Voting__n_jobs': None, 'Voting__voting': 'hard', 'Voting__weights': None, 'Voting__KNN': KNeighborsClassifier(algorithm='auto', leaf_size=30, metric='minkowski',\n",
       "                      metric_params=None, n_jobs=None, n_neighbors=5, p=2,\n",
       "                      weights='uniform'), 'Voting__Log': LogisticRegression(C=1.0, class_weight=None, dual=False, fit_intercept=True,\n",
       "                    intercept_scaling=1, l1_ratio=None, max_iter=200,\n",
       "                    multi_class='auto', n_jobs=None, penalty='l2',\n",
       "                    random_state=None, solver='lbfgs', tol=0.0001, verbose=0,\n",
       "                    warm_start=False), 'Voting__KNN__algorithm': 'auto', 'Voting__KNN__leaf_size': 30, 'Voting__KNN__metric': 'minkowski', 'Voting__KNN__metric_params': None, 'Voting__KNN__n_jobs': None, 'Voting__KNN__n_neighbors': 5, 'Voting__KNN__p': 2, 'Voting__KNN__weights': 'uniform', 'Voting__Log__C': 1.0, 'Voting__Log__class_weight': None, 'Voting__Log__dual': False, 'Voting__Log__fit_intercept': True, 'Voting__Log__intercept_scaling': 1, 'Voting__Log__l1_ratio': None, 'Voting__Log__max_iter': 200, 'Voting__Log__multi_class': 'auto', 'Voting__Log__n_jobs': None, 'Voting__Log__penalty': 'l2', 'Voting__Log__random_state': None, 'Voting__Log__solver': 'lbfgs', 'Voting__Log__tol': 0.0001, 'Voting__Log__verbose': 0, 'Voting__Log__warm_start': False}"
      ]
     },
     "execution_count": 423,
     "metadata": {},
     "output_type": "execute_result"
    }
   ],
   "source": [
    "pipe.get_params()"
   ]
  },
  {
   "cell_type": "code",
   "execution_count": 424,
   "metadata": {
    "scrolled": true
   },
   "outputs": [
    {
     "name": "stdout",
     "output_type": "stream",
     "text": [
      "{'Voting': VotingClassifier(estimators=[('KNN',\n",
      "                              KNeighborsClassifier(algorithm='auto',\n",
      "                                                   leaf_size=30,\n",
      "                                                   metric='minkowski',\n",
      "                                                   metric_params=None,\n",
      "                                                   n_jobs=None, n_neighbors=5,\n",
      "                                                   p=2, weights='uniform')),\n",
      "                             ('Log',\n",
      "                              LogisticRegression(C=1.0, class_weight=None,\n",
      "                                                 dual=False, fit_intercept=True,\n",
      "                                                 intercept_scaling=1,\n",
      "                                                 l1_ratio=None, max_iter=200,\n",
      "                                                 multi_class='auto',\n",
      "                                                 n_jobs=None, penalty='l2',\n",
      "                                                 random_state=None,\n",
      "                                                 solver='lbfgs', tol=0.0001,\n",
      "                                                 verbose=0,\n",
      "                                                 warm_start=False))],\n",
      "                 flatten_transform=True, n_jobs=None, voting='hard',\n",
      "                 weights=None),\n",
      " 'Voting__KNN': KNeighborsClassifier(algorithm='auto', leaf_size=30, metric='minkowski',\n",
      "                     metric_params=None, n_jobs=None, n_neighbors=5, p=2,\n",
      "                     weights='uniform'),\n",
      " 'Voting__KNN__algorithm': 'auto',\n",
      " 'Voting__KNN__leaf_size': 30,\n",
      " 'Voting__KNN__metric': 'minkowski',\n",
      " 'Voting__KNN__metric_params': None,\n",
      " 'Voting__KNN__n_jobs': None,\n",
      " 'Voting__KNN__n_neighbors': 5,\n",
      " 'Voting__KNN__p': 2,\n",
      " 'Voting__KNN__weights': 'uniform',\n",
      " 'Voting__Log': LogisticRegression(C=1.0, class_weight=None, dual=False, fit_intercept=True,\n",
      "                   intercept_scaling=1, l1_ratio=None, max_iter=200,\n",
      "                   multi_class='auto', n_jobs=None, penalty='l2',\n",
      "                   random_state=None, solver='lbfgs', tol=0.0001, verbose=0,\n",
      "                   warm_start=False),\n",
      " 'Voting__Log__C': 1.0,\n",
      " 'Voting__Log__class_weight': None,\n",
      " 'Voting__Log__dual': False,\n",
      " 'Voting__Log__fit_intercept': True,\n",
      " 'Voting__Log__intercept_scaling': 1,\n",
      " 'Voting__Log__l1_ratio': None,\n",
      " 'Voting__Log__max_iter': 200,\n",
      " 'Voting__Log__multi_class': 'auto',\n",
      " 'Voting__Log__n_jobs': None,\n",
      " 'Voting__Log__penalty': 'l2',\n",
      " 'Voting__Log__random_state': None,\n",
      " 'Voting__Log__solver': 'lbfgs',\n",
      " 'Voting__Log__tol': 0.0001,\n",
      " 'Voting__Log__verbose': 0,\n",
      " 'Voting__Log__warm_start': False,\n",
      " 'Voting__estimators': [('KNN',\n",
      "                         KNeighborsClassifier(algorithm='auto', leaf_size=30, metric='minkowski',\n",
      "                     metric_params=None, n_jobs=None, n_neighbors=5, p=2,\n",
      "                     weights='uniform')),\n",
      "                        ('Log',\n",
      "                         LogisticRegression(C=1.0, class_weight=None, dual=False, fit_intercept=True,\n",
      "                   intercept_scaling=1, l1_ratio=None, max_iter=200,\n",
      "                   multi_class='auto', n_jobs=None, penalty='l2',\n",
      "                   random_state=None, solver='lbfgs', tol=0.0001, verbose=0,\n",
      "                   warm_start=False))],\n",
      " 'Voting__flatten_transform': True,\n",
      " 'Voting__n_jobs': None,\n",
      " 'Voting__voting': 'hard',\n",
      " 'Voting__weights': None,\n",
      " 'memory': None,\n",
      " 'steps': [('Voting',\n",
      "            VotingClassifier(estimators=[('KNN',\n",
      "                              KNeighborsClassifier(algorithm='auto',\n",
      "                                                   leaf_size=30,\n",
      "                                                   metric='minkowski',\n",
      "                                                   metric_params=None,\n",
      "                                                   n_jobs=None, n_neighbors=5,\n",
      "                                                   p=2, weights='uniform')),\n",
      "                             ('Log',\n",
      "                              LogisticRegression(C=1.0, class_weight=None,\n",
      "                                                 dual=False, fit_intercept=True,\n",
      "                                                 intercept_scaling=1,\n",
      "                                                 l1_ratio=None, max_iter=200,\n",
      "                                                 multi_class='auto',\n",
      "                                                 n_jobs=None, penalty='l2',\n",
      "                                                 random_state=None,\n",
      "                                                 solver='lbfgs', tol=0.0001,\n",
      "                                                 verbose=0,\n",
      "                                                 warm_start=False))],\n",
      "                 flatten_transform=True, n_jobs=None, voting='hard',\n",
      "                 weights=None))],\n",
      " 'verbose': False}\n"
     ]
    }
   ],
   "source": [
    "from pprint import pprint\n",
    "\n",
    "pprint(pipe.get_params()) # pprint를 쓰면 더 보기 편함"
   ]
  },
  {
   "cell_type": "markdown",
   "metadata": {},
   "source": [
    "`get_params`에 있는 이름으로 param_grid를 만든다."
   ]
  },
  {
   "cell_type": "code",
   "execution_count": 425,
   "metadata": {},
   "outputs": [],
   "source": [
    "grid = GridSearchCV(pipe, [{\"Voting__KNN__n_neighbors\":[2,3,4,5]}])"
   ]
  },
  {
   "cell_type": "code",
   "execution_count": 426,
   "metadata": {
    "scrolled": true
   },
   "outputs": [
    {
     "data": {
      "text/plain": [
       "GridSearchCV(cv=None, error_score=nan,\n",
       "             estimator=Pipeline(memory=None,\n",
       "                                steps=[('Voting',\n",
       "                                        VotingClassifier(estimators=[('KNN',\n",
       "                                                                      KNeighborsClassifier(algorithm='auto',\n",
       "                                                                                           leaf_size=30,\n",
       "                                                                                           metric='minkowski',\n",
       "                                                                                           metric_params=None,\n",
       "                                                                                           n_jobs=None,\n",
       "                                                                                           n_neighbors=5,\n",
       "                                                                                           p=2,\n",
       "                                                                                           weights='uniform')),\n",
       "                                                                     ('Log',\n",
       "                                                                      LogisticRegression(C=1.0,\n",
       "                                                                                         class_weight=None,\n",
       "                                                                                         dual=False,\n",
       "                                                                                         fit_intercept=True,\n",
       "                                                                                         intercept_...\n",
       "                                                                                         multi_class='auto',\n",
       "                                                                                         n_jobs=None,\n",
       "                                                                                         penalty='l2',\n",
       "                                                                                         random_state=None,\n",
       "                                                                                         solver='lbfgs',\n",
       "                                                                                         tol=0.0001,\n",
       "                                                                                         verbose=0,\n",
       "                                                                                         warm_start=False))],\n",
       "                                                         flatten_transform=True,\n",
       "                                                         n_jobs=None,\n",
       "                                                         voting='hard',\n",
       "                                                         weights=None))],\n",
       "                                verbose=False),\n",
       "             iid='deprecated', n_jobs=None,\n",
       "             param_grid=[{'Voting__KNN__n_neighbors': [2, 3, 4, 5]}],\n",
       "             pre_dispatch='2*n_jobs', refit=True, return_train_score=False,\n",
       "             scoring=None, verbose=0)"
      ]
     },
     "execution_count": 426,
     "metadata": {},
     "output_type": "execute_result"
    }
   ],
   "source": [
    "grid.fit(X_train, y_train)"
   ]
  },
  {
   "cell_type": "markdown",
   "metadata": {},
   "source": [
    "`VotingClassifier`의 하이퍼 파라미터를 `GridSearcCV`로 찾을 수 있다."
   ]
  },
  {
   "cell_type": "code",
   "execution_count": 427,
   "metadata": {},
   "outputs": [
    {
     "data": {
      "text/plain": [
       "{'Voting__KNN__n_neighbors': 3}"
      ]
     },
     "execution_count": 427,
     "metadata": {},
     "output_type": "execute_result"
    }
   ],
   "source": [
    "grid.best_params_"
   ]
  },
  {
   "cell_type": "markdown",
   "metadata": {},
   "source": [
    "`VotingClassifier`은 여러 알고리즘의 조합이다.  \n",
    "사용된 서로 다른 알고리즘의 하이퍼 파라미터를 각각 바꿔보자."
   ]
  },
  {
   "cell_type": "code",
   "execution_count": 428,
   "metadata": {},
   "outputs": [],
   "source": [
    "# 어제 했던 대로 리스트 안에 딕셔너리\n",
    "grid = GridSearchCV(pipe, [{\"Voting__KNN__n_neighbors\":[2,3,4,5]},\n",
    "                           {\"Voting__Log__C\":[1,2,3,4,5]}])"
   ]
  },
  {
   "cell_type": "code",
   "execution_count": 429,
   "metadata": {},
   "outputs": [
    {
     "data": {
      "text/plain": [
       "GridSearchCV(cv=None, error_score=nan,\n",
       "             estimator=Pipeline(memory=None,\n",
       "                                steps=[('Voting',\n",
       "                                        VotingClassifier(estimators=[('KNN',\n",
       "                                                                      KNeighborsClassifier(algorithm='auto',\n",
       "                                                                                           leaf_size=30,\n",
       "                                                                                           metric='minkowski',\n",
       "                                                                                           metric_params=None,\n",
       "                                                                                           n_jobs=None,\n",
       "                                                                                           n_neighbors=5,\n",
       "                                                                                           p=2,\n",
       "                                                                                           weights='uniform')),\n",
       "                                                                     ('Log',\n",
       "                                                                      LogisticRegression(C=1.0,\n",
       "                                                                                         class_weight=None,\n",
       "                                                                                         dual=False,\n",
       "                                                                                         fit_intercept=True,\n",
       "                                                                                         intercept_...\n",
       "                                                                                         penalty='l2',\n",
       "                                                                                         random_state=None,\n",
       "                                                                                         solver='lbfgs',\n",
       "                                                                                         tol=0.0001,\n",
       "                                                                                         verbose=0,\n",
       "                                                                                         warm_start=False))],\n",
       "                                                         flatten_transform=True,\n",
       "                                                         n_jobs=None,\n",
       "                                                         voting='hard',\n",
       "                                                         weights=None))],\n",
       "                                verbose=False),\n",
       "             iid='deprecated', n_jobs=None,\n",
       "             param_grid=[{'Voting__KNN__n_neighbors': [2, 3, 4, 5]},\n",
       "                         {'Voting__Log__C': [1, 2, 3, 4, 5]}],\n",
       "             pre_dispatch='2*n_jobs', refit=True, return_train_score=False,\n",
       "             scoring=None, verbose=0)"
      ]
     },
     "execution_count": 429,
     "metadata": {},
     "output_type": "execute_result"
    }
   ],
   "source": [
    "grid.fit(X_train, y_train)"
   ]
  },
  {
   "cell_type": "code",
   "execution_count": 430,
   "metadata": {},
   "outputs": [
    {
     "data": {
      "text/plain": [
       "{'Voting__KNN__n_neighbors': 3}"
      ]
     },
     "execution_count": 430,
     "metadata": {},
     "output_type": "execute_result"
    }
   ],
   "source": [
    "grid.best_params_"
   ]
  },
  {
   "cell_type": "markdown",
   "metadata": {},
   "source": [
    "estimator를 바꾸는 것이 아니기 때문에 param_grid에 딕셔너리를 두개 넣을 필요가 없다.  \n",
    "이제 동시에 찾는다."
   ]
  },
  {
   "cell_type": "code",
   "execution_count": 431,
   "metadata": {},
   "outputs": [],
   "source": [
    "grid = GridSearchCV(estimator=pipe, \n",
    "                    param_grid= {\"Voting__KNN__n_neighbors\":[2,3,4,5],\n",
    "                                   \"Voting__Log__C\":[1,2,3,4,5]})"
   ]
  },
  {
   "cell_type": "code",
   "execution_count": 432,
   "metadata": {},
   "outputs": [
    {
     "data": {
      "text/plain": [
       "GridSearchCV(cv=None, error_score=nan,\n",
       "             estimator=Pipeline(memory=None,\n",
       "                                steps=[('Voting',\n",
       "                                        VotingClassifier(estimators=[('KNN',\n",
       "                                                                      KNeighborsClassifier(algorithm='auto',\n",
       "                                                                                           leaf_size=30,\n",
       "                                                                                           metric='minkowski',\n",
       "                                                                                           metric_params=None,\n",
       "                                                                                           n_jobs=None,\n",
       "                                                                                           n_neighbors=5,\n",
       "                                                                                           p=2,\n",
       "                                                                                           weights='uniform')),\n",
       "                                                                     ('Log',\n",
       "                                                                      LogisticRegression(C=1.0,\n",
       "                                                                                         class_weight=None,\n",
       "                                                                                         dual=False,\n",
       "                                                                                         fit_intercept=True,\n",
       "                                                                                         intercept_...\n",
       "                                                                                         penalty='l2',\n",
       "                                                                                         random_state=None,\n",
       "                                                                                         solver='lbfgs',\n",
       "                                                                                         tol=0.0001,\n",
       "                                                                                         verbose=0,\n",
       "                                                                                         warm_start=False))],\n",
       "                                                         flatten_transform=True,\n",
       "                                                         n_jobs=None,\n",
       "                                                         voting='hard',\n",
       "                                                         weights=None))],\n",
       "                                verbose=False),\n",
       "             iid='deprecated', n_jobs=None,\n",
       "             param_grid={'Voting__KNN__n_neighbors': [2, 3, 4, 5],\n",
       "                         'Voting__Log__C': [1, 2, 3, 4, 5]},\n",
       "             pre_dispatch='2*n_jobs', refit=True, return_train_score=False,\n",
       "             scoring=None, verbose=0)"
      ]
     },
     "execution_count": 432,
     "metadata": {},
     "output_type": "execute_result"
    }
   ],
   "source": [
    "grid.fit(X_train, y_train)"
   ]
  },
  {
   "cell_type": "markdown",
   "metadata": {},
   "source": [
    "VotingClassifier는  \n",
    "n_neighbors가 5인 KNN 모델과, C가 1인 LogisticRegression 모델의 조합일 때,  \n",
    "가장 성능이 좋다."
   ]
  },
  {
   "cell_type": "code",
   "execution_count": 433,
   "metadata": {},
   "outputs": [
    {
     "data": {
      "text/plain": [
       "{'Voting__KNN__n_neighbors': 3, 'Voting__Log__C': 1}"
      ]
     },
     "execution_count": 433,
     "metadata": {},
     "output_type": "execute_result"
    }
   ],
   "source": [
    "grid.best_params_"
   ]
  },
  {
   "cell_type": "markdown",
   "metadata": {},
   "source": [
    "## GridSearchCV의 내부 구조"
   ]
  },
  {
   "cell_type": "markdown",
   "metadata": {},
   "source": [
    "### param_grid에 딕셔너리 1개"
   ]
  },
  {
   "cell_type": "markdown",
   "metadata": {},
   "source": [
    "- 딕셔너리 안에서는 하이퍼파라미터를 동시에 조합한다. \n",
    "\n",
    "param_grid를 다음과 같다고 했을때, 순서를 살펴보자.\n",
    "```python\n",
    "param_grid = {\"하이퍼파라미터_A\": [1,2], \"하이퍼파라미터_B\": [100, 200]}\n",
    "```\n",
    "\n",
    "**1차시기** : 각 파라미터의 첫번째 값으로 시작한다.\n",
    "\n",
    "|하이퍼파라미터_A|하이퍼파라미터_B|\n",
    "|:---:|:---:|\n",
    "|1|100|  "
   ]
  },
  {
   "cell_type": "markdown",
   "metadata": {},
   "source": [
    "**2차시기** : 뒤쪽 파라미터(B)를 바꿔본다.\n",
    "- 여러개 있으면 순서대로 대입해서 끝까지 바꿔본다.\n",
    "\n",
    "|하이퍼파라미터_A|하이퍼파라미터_B|\n",
    "|:---:|:---:|\n",
    "|1|**200**|"
   ]
  },
  {
   "cell_type": "markdown",
   "metadata": {},
   "source": [
    "**3차시기** : 뒤쪽 파라미터(B)를 다 바꿔 보았으므로, 그 앞의 파라미터(A)를 하나 바꾼다.\n",
    "- 뒤쪽 파라미터는 다시 첫번째 값으로 초기화한다.\n",
    "\n",
    "|하이퍼파라미터_A|하이퍼파라미터_B|\n",
    "|:---:|:---:|\n",
    "|**2**|**100**|"
   ]
  },
  {
   "cell_type": "markdown",
   "metadata": {},
   "source": [
    "**4차시기** : 2차 시기와 마찬가지로 뒤쪽 파라미터(B)를 순서대로 다시 대입한다.\n",
    "- 뒤쪽 파라미터(B)를 끝까지 대입한 다음에는, 다시 그 앞에 파라미터(A)를 바꾸고 반복한다.\n",
    "- 2차 ~ 4차를 계속 반복한다.\n",
    "\n",
    "|하이퍼파라미터_A|하이퍼파라미터_B|\n",
    "|:---:|:---:|\n",
    "|2|**200**|"
   ]
  },
  {
   "cell_type": "markdown",
   "metadata": {},
   "source": [
    "### param_grid에 리스트 안에 딕셔너리"
   ]
  },
  {
   "cell_type": "markdown",
   "metadata": {},
   "source": [
    "- 딕셔너리 하나는 하나의 차원을 의미한다. (딕셔너리 = 한 세트)\n",
    "- 다른 딕셔너리에는 서로 영향을 미치지 않는다. (서로 다른 차원)\n",
    "\n",
    "param_grid를 다음과 같다고 했을때, 순서를 살펴보자.\n",
    "```python\n",
    "param_grid = [{\"하이퍼파라미터_A\": [1,2]}, {\"하이퍼파라미터_B\": [100, 200]}]\n",
    "```\n",
    "\n",
    "**1차시기** : 첫번째 딕셔너리의 첫번째 값으로 초기화 한다.\n",
    "- 두번째 딕셔너리는 없는거나 마찬가지\n",
    "- 그냥 default값 쓴다. \n",
    "\n",
    "|하이퍼파라미터_A|하이퍼파라미터_B|\n",
    "|:---:|:---:|\n",
    "|1|default|\n",
    "\n",
    "**2차시기** : 첫번째 딕셔너리에 대하여 search한다.\n",
    "- 두번째 딕셔너리는 다른 차원이므로 건들지 않는다.\n",
    "\n",
    "|하이퍼파라미터_A|하이퍼파라미터_B|\n",
    "|:---:|:---:|\n",
    "|**2**|default|\n",
    "\n",
    "**3차시기** : 첫번째 딕셔너리가 끝나면 두번째 딕셔너리로 초기화한다.\n",
    "- 이제 첫번째 딕셔너리는 없는거나 마찬가지\n",
    "\n",
    "|하이퍼파라미터_A|하이퍼파라미터_B|\n",
    "|:---:|:---:|\n",
    "|default|**100**|\n",
    "\n",
    "**4차시기** : 두번째 딕셔너리에 대하여 search한다.\n",
    "\n",
    "|하이퍼파라미터_A|하이퍼파라미터_B|\n",
    "|:---:|:---:|\n",
    "|default|**200**|"
   ]
  },
  {
   "cell_type": "markdown",
   "metadata": {},
   "source": [
    "---"
   ]
  },
  {
   "cell_type": "markdown",
   "metadata": {},
   "source": [
    "**요약**\n",
    "- ensenble : 여러 알고리즘을 동시에 사용하는 것\n",
    "- weights 옵션으로 알고리즘의 비중을 바꿀 수 있다.\n",
    "- `transform` 메소드는 여러 알고리즘의 예측을 동시에 보여준다.\n",
    "- 알고리즘 4개를 앙상블했는데 그 중 3개가 잘못된 모델이면, 성능 안좋은 3개가 영향을 미친다. \n",
    "    - 실무적으로 쓰려면 성능이 좋은 모델로만 앙상블해야한다.\n",
    "    - `GridSearchCV`로 제일 좋은 하이퍼 파라미터 찾아서 쓴다.\n",
    "- `VotingClassifier`+`Pipeline`+`GridSearchCV` 조합으로 쓸때는,\n",
    "    - \"[Pipeline에 쓴 이름]\\_\\_[VotingClassifier에 쓴 이름]\\_\\_[하이퍼 파라미터 이름]\" 으로 바뀐다. (언더바 두개씩)\n",
    "- 잘 구성하면 앙상블이 그냥 모델 하나 쓰는 것보다 좋을 수 밖에 없다. \n",
    "- `VotingClassifier`는 실무에는 잘 안쓴다. \n",
    "    - 서로 비중이 동등하면 안된다.\n",
    "    - 오버피팅의 위험이 있다.\n",
    "- Bagging과 Boosting이 ensemble의 꽃이다. \n",
    "    - 내일 배울 예정"
   ]
  },
  {
   "cell_type": "code",
   "execution_count": null,
   "metadata": {},
   "outputs": [],
   "source": []
  }
 ],
 "metadata": {
  "kernelspec": {
   "display_name": "Python 3",
   "language": "python",
   "name": "python3"
  },
  "language_info": {
   "codemirror_mode": {
    "name": "ipython",
    "version": 3
   },
   "file_extension": ".py",
   "mimetype": "text/x-python",
   "name": "python",
   "nbconvert_exporter": "python",
   "pygments_lexer": "ipython3",
   "version": "3.7.3"
  },
  "toc": {
   "base_numbering": 1,
   "nav_menu": {},
   "number_sections": true,
   "sideBar": true,
   "skip_h1_title": true,
   "title_cell": "Table of Contents",
   "title_sidebar": "Contents",
   "toc_cell": true,
   "toc_position": {
    "height": "calc(100% - 180px)",
    "left": "10px",
    "top": "150px",
    "width": "307.2px"
   },
   "toc_section_display": true,
   "toc_window_display": true
  },
  "varInspector": {
   "cols": {
    "lenName": 16,
    "lenType": 16,
    "lenVar": 40
   },
   "kernels_config": {
    "python": {
     "delete_cmd_postfix": "",
     "delete_cmd_prefix": "del ",
     "library": "var_list.py",
     "varRefreshCmd": "print(var_dic_list())"
    },
    "r": {
     "delete_cmd_postfix": ") ",
     "delete_cmd_prefix": "rm(",
     "library": "var_list.r",
     "varRefreshCmd": "cat(var_dic_list()) "
    }
   },
   "types_to_exclude": [
    "module",
    "function",
    "builtin_function_or_method",
    "instance",
    "_Feature"
   ],
   "window_display": false
  }
 },
 "nbformat": 4,
 "nbformat_minor": 2
}
