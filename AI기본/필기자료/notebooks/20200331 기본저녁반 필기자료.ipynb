{
 "cells": [
  {
   "cell_type": "markdown",
   "metadata": {
    "toc": true
   },
   "source": [
    "<h1>Table of Contents<span class=\"tocSkip\"></span></h1>\n",
    "<div class=\"toc\"><ul class=\"toc-item\"><li><span><a href=\"#keras\" data-toc-modified-id=\"keras-1\"><span class=\"toc-item-num\">1&nbsp;&nbsp;</span>keras</a></span><ul class=\"toc-item\"><li><span><a href=\"#Sequential-:-뼈대-만들기\" data-toc-modified-id=\"Sequential-:-뼈대-만들기-1.1\"><span class=\"toc-item-num\">1.1&nbsp;&nbsp;</span>Sequential : 뼈대 만들기</a></span></li><li><span><a href=\"#compile-:-학습-전략\" data-toc-modified-id=\"compile-:-학습-전략-1.2\"><span class=\"toc-item-num\">1.2&nbsp;&nbsp;</span>compile : 학습 전략</a></span></li><li><span><a href=\"#fit-:-학습\" data-toc-modified-id=\"fit-:-학습-1.3\"><span class=\"toc-item-num\">1.3&nbsp;&nbsp;</span>fit : 학습</a></span></li><li><span><a href=\"#evaluate-:-성능평가\" data-toc-modified-id=\"evaluate-:-성능평가-1.4\"><span class=\"toc-item-num\">1.4&nbsp;&nbsp;</span>evaluate : 성능평가</a></span></li></ul></li><li><span><a href=\"#scaling\" data-toc-modified-id=\"scaling-2\"><span class=\"toc-item-num\">2&nbsp;&nbsp;</span>scaling</a></span></li><li><span><a href=\"#activation\" data-toc-modified-id=\"activation-3\"><span class=\"toc-item-num\">3&nbsp;&nbsp;</span>activation</a></span></li><li><span><a href=\"#advance-activation\" data-toc-modified-id=\"advance-activation-4\"><span class=\"toc-item-num\">4&nbsp;&nbsp;</span>advance activation</a></span><ul class=\"toc-item\"><li><span><a href=\"#활성함수-numpy로-만들어보기\" data-toc-modified-id=\"활성함수-numpy로-만들어보기-4.1\"><span class=\"toc-item-num\">4.1&nbsp;&nbsp;</span>활성함수 numpy로 만들어보기</a></span></li></ul></li><li><span><a href=\"#fashion-mnist\" data-toc-modified-id=\"fashion-mnist-5\"><span class=\"toc-item-num\">5&nbsp;&nbsp;</span>fashion mnist</a></span></li><li><span><a href=\"#history\" data-toc-modified-id=\"history-6\"><span class=\"toc-item-num\">6&nbsp;&nbsp;</span>history</a></span></li><li><span><a href=\"#learning-curve\" data-toc-modified-id=\"learning-curve-7\"><span class=\"toc-item-num\">7&nbsp;&nbsp;</span>learning curve</a></span><ul class=\"toc-item\"><li><span><a href=\"#scikit-learn-:-Learning-Curve\" data-toc-modified-id=\"scikit-learn-:-Learning-Curve-7.1\"><span class=\"toc-item-num\">7.1&nbsp;&nbsp;</span>scikit-learn : Learning Curve</a></span></li><li><span><a href=\"#scikit-elarn-:-Validation-Curve\" data-toc-modified-id=\"scikit-elarn-:-Validation-Curve-7.2\"><span class=\"toc-item-num\">7.2&nbsp;&nbsp;</span>scikit-elarn : Validation Curve</a></span></li><li><span><a href=\"#keras-:-Learning-Curve\" data-toc-modified-id=\"keras-:-Learning-Curve-7.3\"><span class=\"toc-item-num\">7.3&nbsp;&nbsp;</span>keras : Learning Curve</a></span></li><li><span><a href=\"#keras-:-Validation-Curve\" data-toc-modified-id=\"keras-:-Validation-Curve-7.4\"><span class=\"toc-item-num\">7.4&nbsp;&nbsp;</span>keras : Validation Curve</a></span></li></ul></li><li><span><a href=\"#predict\" data-toc-modified-id=\"predict-8\"><span class=\"toc-item-num\">8&nbsp;&nbsp;</span>predict</a></span></li></ul></div>"
   ]
  },
  {
   "cell_type": "markdown",
   "metadata": {},
   "source": [
    "# [AI 오픈 이노베이션] 기본 저녁반<a class=\"tocSkip\">\n",
    "GitHub link: [https://github.com/realblack0/ai_lecture_fundamental](https://github.com/realblack0/ai_lecture_fundamental)  \n",
    "E-Mail: realblack0@gmail.com"
   ]
  },
  {
   "cell_type": "markdown",
   "metadata": {},
   "source": [
    "## keras"
   ]
  },
  {
   "cell_type": "code",
   "execution_count": 1,
   "metadata": {},
   "outputs": [],
   "source": [
    "import tensorflow as tf"
   ]
  },
  {
   "cell_type": "code",
   "execution_count": 2,
   "metadata": {},
   "outputs": [],
   "source": [
    "from tensorflow.keras.datasets import mnist"
   ]
  },
  {
   "cell_type": "code",
   "execution_count": 3,
   "metadata": {},
   "outputs": [],
   "source": [
    "(X_train, y_train), (X_test, y_test) = mnist.load_data()"
   ]
  },
  {
   "cell_type": "code",
   "execution_count": 4,
   "metadata": {},
   "outputs": [
    {
     "data": {
      "text/plain": [
       "(60000, 28, 28)"
      ]
     },
     "execution_count": 4,
     "metadata": {},
     "output_type": "execute_result"
    }
   ],
   "source": [
    "# numpy array\n",
    "X_train.shape"
   ]
  },
  {
   "cell_type": "code",
   "execution_count": null,
   "metadata": {},
   "outputs": [],
   "source": [
    "# 셋 다 같음\n",
    "# 첫번째 데이터만 가져옴\n",
    "X_train[0, :, :]\n",
    "X_train[0, ...]\n",
    "X_train[0]"
   ]
  },
  {
   "cell_type": "markdown",
   "metadata": {},
   "source": [
    "shape으로 이미지 데이터를 파악할 수 있다.\n",
    "- 2차원 : 흑백 이미지\n",
    "- 3차원 : 컬러 이미지\n",
    "    - channel first : (channel, height, width)\n",
    "    - channel last : (height, width, channel)\n",
    "- 4차원 : 투명도가 있는 컬러 이미지(+알파 채널)"
   ]
  },
  {
   "cell_type": "code",
   "execution_count": 5,
   "metadata": {},
   "outputs": [
    {
     "data": {
      "text/plain": [
       "(28, 28)"
      ]
     },
     "execution_count": 5,
     "metadata": {},
     "output_type": "execute_result"
    }
   ],
   "source": [
    "X_train[2].shape"
   ]
  },
  {
   "cell_type": "markdown",
   "metadata": {},
   "source": [
    "이미지는 uint8 로 되어있다."
   ]
  },
  {
   "cell_type": "code",
   "execution_count": 7,
   "metadata": {},
   "outputs": [
    {
     "data": {
      "text/plain": [
       "dtype('uint8')"
      ]
     },
     "execution_count": 7,
     "metadata": {},
     "output_type": "execute_result"
    }
   ],
   "source": [
    "# unsigned integer 8bit\n",
    "X_train[2].dtype"
   ]
  },
  {
   "cell_type": "code",
   "execution_count": 17,
   "metadata": {},
   "outputs": [],
   "source": [
    "import matplotlib.pyplot as plt"
   ]
  },
  {
   "cell_type": "markdown",
   "metadata": {},
   "source": [
    "matplotlib은 흑백이미지를 알아서 컬러로 바꿔준다."
   ]
  },
  {
   "cell_type": "code",
   "execution_count": 9,
   "metadata": {},
   "outputs": [
    {
     "data": {
      "text/plain": [
       "<matplotlib.image.AxesImage at 0x1c305631278>"
      ]
     },
     "execution_count": 9,
     "metadata": {},
     "output_type": "execute_result"
    },
    {
     "data": {
      "image/png": "[encoded data removed]",
      "text/plain": [
       "<Figure size 432x288 with 1 Axes>"
      ]
     },
     "metadata": {
      "needs_background": "light"
     },
     "output_type": "display_data"
    }
   ],
   "source": [
    "plt.imshow(X_train[2])"
   ]
  },
  {
   "cell_type": "markdown",
   "metadata": {},
   "source": [
    "실제 흑백 이미지로 보려면 `cmap`을 지정해준다."
   ]
  },
  {
   "cell_type": "code",
   "execution_count": 10,
   "metadata": {},
   "outputs": [
    {
     "data": {
      "text/plain": [
       "<matplotlib.image.AxesImage at 0x1c3056b6ba8>"
      ]
     },
     "execution_count": 10,
     "metadata": {},
     "output_type": "execute_result"
    },
    {
     "data": {
      "image/png": "[encoded data removed]",
      "text/plain": [
       "<Figure size 432x288 with 1 Axes>"
      ]
     },
     "metadata": {
      "needs_background": "light"
     },
     "output_type": "display_data"
    }
   ],
   "source": [
    "plt.imshow(X_train[2], cmap=\"gray\")"
   ]
  },
  {
   "cell_type": "markdown",
   "metadata": {},
   "source": [
    "`reshape`으로 2차원으로 만들면 기계학습에 쓸 수 있다.  \n",
    "각 pixel을 iris의 꽃잎 폭, 길이 처럼 feature로 사용한다."
   ]
  },
  {
   "cell_type": "code",
   "execution_count": 11,
   "metadata": {},
   "outputs": [
    {
     "data": {
      "text/plain": [
       "array([[0, 0, 0, ..., 0, 0, 0],\n",
       "       [0, 0, 0, ..., 0, 0, 0],\n",
       "       [0, 0, 0, ..., 0, 0, 0],\n",
       "       ...,\n",
       "       [0, 0, 0, ..., 0, 0, 0],\n",
       "       [0, 0, 0, ..., 0, 0, 0],\n",
       "       [0, 0, 0, ..., 0, 0, 0]], dtype=uint8)"
      ]
     },
     "execution_count": 11,
     "metadata": {},
     "output_type": "execute_result"
    }
   ],
   "source": [
    "X_train.reshape(60000, -1)"
   ]
  },
  {
   "cell_type": "markdown",
   "metadata": {},
   "source": [
    "### Sequential : 뼈대 만들기"
   ]
  },
  {
   "cell_type": "markdown",
   "metadata": {},
   "source": [
    "tensorflow는 바로 서비스 가능한 수준이다.  \n",
    "scikit-learn은 실무에 바로 사용하기 어렵다. 분석에 집중되었다."
   ]
  },
  {
   "cell_type": "code",
   "execution_count": 12,
   "metadata": {},
   "outputs": [],
   "source": [
    "from tensorflow.keras.models import Sequential"
   ]
  },
  {
   "cell_type": "code",
   "execution_count": 14,
   "metadata": {},
   "outputs": [],
   "source": [
    "from tensorflow.keras.layers import Dense, Flatten"
   ]
  },
  {
   "cell_type": "markdown",
   "metadata": {},
   "source": [
    "`Flatten`은 데이터를 한줄로 펴주는 역할을 한다.  \n",
    "numpy에서는 `flatten`과 `ravel`로 array를 한 줄로 바꿀 수 있었다."
   ]
  },
  {
   "cell_type": "code",
   "execution_count": null,
   "metadata": {},
   "outputs": [],
   "source": [
    "X_train[2].flatten() # copy 방식\n",
    "X_train[2].ravel() # view 방식"
   ]
  },
  {
   "cell_type": "markdown",
   "metadata": {},
   "source": [
    "`Flatten`은 딥러닝 이론에는 없는 개념이다.  \n",
    "그러나 실제 코딩에 필요하다."
   ]
  },
  {
   "cell_type": "code",
   "execution_count": 19,
   "metadata": {},
   "outputs": [],
   "source": [
    "model = Sequential([\n",
    "    Flatten(input_shape=(28, 28)),  # 전처리 레이어 : 실제 학습은 안하는 레이어\n",
    "                                    # 첫번째 레이어는 input_shape을 써줘야함\n",
    "    Dense(16, activation=\"relu\"),   # hidden layer \n",
    "    Dense(10, activation=\"softmax\") # output layer\n",
    "])"
   ]
  },
  {
   "cell_type": "code",
   "execution_count": 20,
   "metadata": {},
   "outputs": [
    {
     "name": "stdout",
     "output_type": "stream",
     "text": [
      "Model: \"sequential\"\n",
      "_________________________________________________________________\n",
      "Layer (type)                 Output Shape              Param #   \n",
      "=================================================================\n",
      "flatten_1 (Flatten)          (None, 784)               0         \n",
      "_________________________________________________________________\n",
      "dense (Dense)                (None, 16)                12560     \n",
      "_________________________________________________________________\n",
      "dense_1 (Dense)              (None, 10)                170       \n",
      "=================================================================\n",
      "Total params: 12,730\n",
      "Trainable params: 12,730\n",
      "Non-trainable params: 0\n",
      "_________________________________________________________________\n"
     ]
    }
   ],
   "source": [
    "model.summary()"
   ]
  },
  {
   "cell_type": "markdown",
   "metadata": {},
   "source": [
    "### compile : 학습 전략"
   ]
  },
  {
   "cell_type": "code",
   "execution_count": 21,
   "metadata": {},
   "outputs": [],
   "source": [
    "model.compile(loss=\"categorical_crossentropy\", optimizer=\"adam\", metrics=[\"accuracy\"])"
   ]
  },
  {
   "cell_type": "code",
   "execution_count": null,
   "metadata": {},
   "outputs": [],
   "source": [
    "# Error\n",
    "# OneHotEncoding 안해서!\n",
    "model.fit(X_train, y_train)"
   ]
  },
  {
   "cell_type": "markdown",
   "metadata": {},
   "source": [
    "OneHotEncoding 방법\n",
    "- scikit-learn : OneHotEncoder\n",
    "- pandas : get_dummies\n",
    "- keras : to_categorical"
   ]
  },
  {
   "cell_type": "markdown",
   "metadata": {},
   "source": [
    "※ OneHotEncoding 안하고 LabelEncoding 그대로 쓰려면 \"sparse_categorical_crossentropy\" 쓴다."
   ]
  },
  {
   "cell_type": "code",
   "execution_count": 22,
   "metadata": {},
   "outputs": [],
   "source": [
    "from tensorflow.keras.utils import to_categorical"
   ]
  },
  {
   "cell_type": "code",
   "execution_count": 23,
   "metadata": {},
   "outputs": [
    {
     "data": {
      "text/plain": [
       "array([[0., 0., 0., ..., 0., 0., 0.],\n",
       "       [1., 0., 0., ..., 0., 0., 0.],\n",
       "       [0., 0., 0., ..., 0., 0., 0.],\n",
       "       ...,\n",
       "       [0., 0., 0., ..., 0., 0., 0.],\n",
       "       [0., 0., 0., ..., 0., 0., 0.],\n",
       "       [0., 0., 0., ..., 0., 1., 0.]], dtype=float32)"
      ]
     },
     "execution_count": 23,
     "metadata": {},
     "output_type": "execute_result"
    }
   ],
   "source": [
    "# One Hot Encoding\n",
    "to_categorical(y_train)"
   ]
  },
  {
   "cell_type": "markdown",
   "metadata": {},
   "source": [
    "### fit : 학습"
   ]
  },
  {
   "cell_type": "markdown",
   "metadata": {},
   "source": [
    "epoch마다 성능이 더 좋아진다."
   ]
  },
  {
   "cell_type": "code",
   "execution_count": 24,
   "metadata": {},
   "outputs": [
    {
     "name": "stdout",
     "output_type": "stream",
     "text": [
      "Train on 60000 samples\n",
      "Epoch 1/10\n",
      "60000/60000 [==============================] - 5s 83us/sample - loss: 2.3253 - accuracy: 0.4557\n",
      "Epoch 2/10\n",
      "60000/60000 [==============================] - 4s 69us/sample - loss: 0.9976 - accuracy: 0.6651\n",
      "Epoch 3/10\n",
      "60000/60000 [==============================] - 4s 63us/sample - loss: 0.7452 - accuracy: 0.7789\n",
      "Epoch 4/10\n",
      "60000/60000 [==============================] - 4s 64us/sample - loss: 0.6080 - accuracy: 0.8287\n",
      "Epoch 5/10\n",
      "60000/60000 [==============================] - 4s 64us/sample - loss: 0.4798 - accuracy: 0.8737\n",
      "Epoch 6/10\n",
      "60000/60000 [==============================] - 4s 66us/sample - loss: 0.4063 - accuracy: 0.8926\n",
      "Epoch 7/10\n",
      "60000/60000 [==============================] - 4s 65us/sample - loss: 0.3649 - accuracy: 0.9033\n",
      "Epoch 8/10\n",
      "60000/60000 [==============================] - 4s 65us/sample - loss: 0.3370 - accuracy: 0.9107\n",
      "Epoch 9/10\n",
      "60000/60000 [==============================] - 4s 68us/sample - loss: 0.3316 - accuracy: 0.9115\n",
      "Epoch 10/10\n",
      "60000/60000 [==============================] - 4s 68us/sample - loss: 0.3220 - accuracy: 0.9138\n"
     ]
    },
    {
     "data": {
      "text/plain": [
       "<tensorflow.python.keras.callbacks.History at 0x1c304f86b38>"
      ]
     },
     "execution_count": 24,
     "metadata": {},
     "output_type": "execute_result"
    }
   ],
   "source": [
    "model.fit(X_train, to_categorical(y_train), epochs=10)"
   ]
  },
  {
   "cell_type": "markdown",
   "metadata": {},
   "source": [
    "### evaluate : 성능평가"
   ]
  },
  {
   "cell_type": "markdown",
   "metadata": {
    "scrolled": false
   },
   "source": [
    "성능평가는 `evaluate` 메소드를 이용한다.  \n",
    "scikit-learn의 `score` 메소드와 역할이 같다."
   ]
  },
  {
   "cell_type": "code",
   "execution_count": 31,
   "metadata": {
    "scrolled": false
   },
   "outputs": [
    {
     "name": "stdout",
     "output_type": "stream",
     "text": [
      "10000/1 - 0s - loss: 0.3039 - accuracy: 0.9121\n"
     ]
    },
    {
     "data": {
      "text/plain": [
       "[0.35102452028393744, 0.9121]"
      ]
     },
     "execution_count": 31,
     "metadata": {},
     "output_type": "execute_result"
    }
   ],
   "source": [
    "model.evaluate(X_test, to_categorical(y_test), verbose=2)"
   ]
  },
  {
   "cell_type": "markdown",
   "metadata": {},
   "source": [
    "## scaling"
   ]
  },
  {
   "cell_type": "markdown",
   "metadata": {},
   "source": [
    "딥러닝은 0 ~ 1 사이에서 학습이 잘되는 경향이 있다.  \n",
    "scaling은 안해도 된다. 하지만 성능 안 좋고, 학습 시간이 오래 걸린다."
   ]
  },
  {
   "cell_type": "code",
   "execution_count": 32,
   "metadata": {},
   "outputs": [],
   "source": [
    "# 전처리\n",
    "# 이미지는 0 ~ 255 사이값만 있음\n",
    "# MinMaxScaling\n",
    "X_train = X_train / 255. "
   ]
  },
  {
   "cell_type": "markdown",
   "metadata": {},
   "source": [
    "모델 만들 때 전처리 방법은 사용할 때도 똑같이 적용해야한다."
   ]
  },
  {
   "cell_type": "code",
   "execution_count": 33,
   "metadata": {},
   "outputs": [],
   "source": [
    "X_test = X_test / 255."
   ]
  },
  {
   "cell_type": "code",
   "execution_count": 34,
   "metadata": {},
   "outputs": [],
   "source": [
    "model = Sequential([\n",
    "    Flatten(input_shape=(28, 28)),\n",
    "    Dense(16, activation=\"relu\"),    \n",
    "    Dense(10, activation=\"softmax\") \n",
    "])"
   ]
  },
  {
   "cell_type": "code",
   "execution_count": 39,
   "metadata": {},
   "outputs": [
    {
     "name": "stdout",
     "output_type": "stream",
     "text": [
      "Model: \"sequential_1\"\n",
      "_________________________________________________________________\n",
      "Layer (type)                 Output Shape              Param #   \n",
      "=================================================================\n",
      "flatten_2 (Flatten)          (None, 784)               0         \n",
      "_________________________________________________________________\n",
      "dense_2 (Dense)              (None, 16)                12560     \n",
      "_________________________________________________________________\n",
      "dense_3 (Dense)              (None, 10)                170       \n",
      "=================================================================\n",
      "Total params: 12,730\n",
      "Trainable params: 12,730\n",
      "Non-trainable params: 0\n",
      "_________________________________________________________________\n"
     ]
    }
   ],
   "source": [
    "model.summary()"
   ]
  },
  {
   "cell_type": "code",
   "execution_count": 40,
   "metadata": {},
   "outputs": [],
   "source": [
    "model.compile(optimize=\"adam\", loss=\"categorical_crossentropy\", metrics=[\"accuracy\"])"
   ]
  },
  {
   "cell_type": "code",
   "execution_count": 41,
   "metadata": {},
   "outputs": [
    {
     "name": "stdout",
     "output_type": "stream",
     "text": [
      "Train on 60000 samples\n",
      "Epoch 1/10\n",
      "60000/60000 [==============================] - 5s 76us/sample - loss: 0.2561 - accuracy: 0.9273\n",
      "Epoch 2/10\n",
      "60000/60000 [==============================] - 4s 66us/sample - loss: 0.2279 - accuracy: 0.9366\n",
      "Epoch 3/10\n",
      "60000/60000 [==============================] - 4s 67us/sample - loss: 0.2084 - accuracy: 0.9421\n",
      "Epoch 4/10\n",
      "60000/60000 [==============================] - 4s 65us/sample - loss: 0.1939 - accuracy: 0.9462\n",
      "Epoch 5/10\n",
      "60000/60000 [==============================] - 4s 66us/sample - loss: 0.1841 - accuracy: 0.9494\n",
      "Epoch 6/10\n",
      "60000/60000 [==============================] - 4s 64us/sample - loss: 0.1769 - accuracy: 0.9504\n",
      "Epoch 7/10\n",
      "60000/60000 [==============================] - 4s 66us/sample - loss: 0.1709 - accuracy: 0.9521\n",
      "Epoch 8/10\n",
      "60000/60000 [==============================] - 4s 68us/sample - loss: 0.1656 - accuracy: 0.9536\n",
      "Epoch 9/10\n",
      "60000/60000 [==============================] - 4s 70us/sample - loss: 0.1625 - accuracy: 0.9554\n",
      "Epoch 10/10\n",
      "60000/60000 [==============================] - 5s 78us/sample - loss: 0.1595 - accuracy: 0.9556\n"
     ]
    },
    {
     "data": {
      "text/plain": [
       "<tensorflow.python.keras.callbacks.History at 0x1c30d650e10>"
      ]
     },
     "execution_count": 41,
     "metadata": {},
     "output_type": "execute_result"
    }
   ],
   "source": [
    "model.fit(X_train, to_categorical(y_train), epochs=10)"
   ]
  },
  {
   "cell_type": "code",
   "execution_count": 44,
   "metadata": {},
   "outputs": [
    {
     "name": "stdout",
     "output_type": "stream",
     "text": [
      "10000/1 - 0s - loss: 0.1152 - accuracy: 0.9489\n"
     ]
    },
    {
     "data": {
      "text/plain": [
       "[0.19201110585331918, 0.9489]"
      ]
     },
     "execution_count": 44,
     "metadata": {},
     "output_type": "execute_result"
    }
   ],
   "source": [
    "model.evaluate(X_test, to_categorical(y_test), verbose=2)"
   ]
  },
  {
   "cell_type": "markdown",
   "metadata": {},
   "source": [
    "전처리는 원래 의미를 잃어버리는 것이라고 했다. (특히 PCA는 완전 해석 불가)  \n",
    "이미지는 MinMaxScaling해도 원래 의미를 잃어버리지 않는다.  \n",
    "전처리 후에도 그대로 이미지로 볼 수 있다. "
   ]
  },
  {
   "cell_type": "code",
   "execution_count": 49,
   "metadata": {},
   "outputs": [
    {
     "data": {
      "text/plain": [
       "<matplotlib.image.AxesImage at 0x1c329b74be0>"
      ]
     },
     "execution_count": 49,
     "metadata": {},
     "output_type": "execute_result"
    },
    {
     "data": {
      "image/png": "[encoded data removed]",
      "text/plain": [
       "<Figure size 432x288 with 1 Axes>"
      ]
     },
     "metadata": {
      "needs_background": "light"
     },
     "output_type": "display_data"
    }
   ],
   "source": [
    "plt.imshow(X_train[2])"
   ]
  },
  {
   "cell_type": "markdown",
   "metadata": {},
   "source": [
    "scikit-learn으로 전처리해도 똑같다.  "
   ]
  },
  {
   "cell_type": "code",
   "execution_count": 50,
   "metadata": {},
   "outputs": [],
   "source": [
    "(X_train, y_train), (X_test, y_test) = mnist.load_data()"
   ]
  },
  {
   "cell_type": "code",
   "execution_count": 43,
   "metadata": {},
   "outputs": [],
   "source": [
    "from sklearn.preprocessing import MinMaxScaler"
   ]
  },
  {
   "cell_type": "code",
   "execution_count": 45,
   "metadata": {},
   "outputs": [],
   "source": [
    "mm = MinMaxScaler()"
   ]
  },
  {
   "cell_type": "code",
   "execution_count": 47,
   "metadata": {},
   "outputs": [
    {
     "data": {
      "text/plain": [
       "<matplotlib.image.AxesImage at 0x1c3290590b8>"
      ]
     },
     "execution_count": 47,
     "metadata": {},
     "output_type": "execute_result"
    },
    {
     "data": {
      "image/png": "[encoded data removed]",
      "text/plain": [
       "<Figure size 432x288 with 1 Axes>"
      ]
     },
     "metadata": {
      "needs_background": "light"
     },
     "output_type": "display_data"
    }
   ],
   "source": [
    "plt.imshow(mm.fit_transform(X_train[2]))"
   ]
  },
  {
   "cell_type": "markdown",
   "metadata": {},
   "source": [
    "scaling은 값의 범위를 바꿔 주는 것이다.  \n",
    "normalize라고도 하는데, 방법은 MinMaxScaling 외에도 여러가지가 있다. "
   ]
  },
  {
   "cell_type": "code",
   "execution_count": 52,
   "metadata": {},
   "outputs": [
    {
     "name": "stderr",
     "output_type": "stream",
     "text": [
      "C:\\Users\\JINHYO\\Anaconda3\\lib\\site-packages\\sklearn\\externals\\six.py:31: FutureWarning: The module is deprecated in version 0.21 and will be removed in version 0.23 since we've dropped support for Python 2.7. Please rely on the official version of six (https://pypi.org/project/six/).\n",
      "  \"(https://pypi.org/project/six/).\", FutureWarning)\n",
      "C:\\Users\\JINHYO\\Anaconda3\\lib\\site-packages\\sklearn\\externals\\joblib\\__init__.py:15: FutureWarning: sklearn.externals.joblib is deprecated in 0.21 and will be removed in 0.23. Please import this functionality directly from joblib, which can be installed with: pip install joblib. If this warning is raised when loading pickled models, you may need to re-serialize those models with scikit-learn 0.21+.\n",
      "  warnings.warn(msg, category=FutureWarning)\n"
     ]
    }
   ],
   "source": [
    "import mglearn"
   ]
  },
  {
   "cell_type": "code",
   "execution_count": 53,
   "metadata": {},
   "outputs": [
    {
     "data": {
      "image/png": "[encoded data removed]",
      "text/plain": [
       "<Figure size 1080x576 with 5 Axes>"
      ]
     },
     "metadata": {
      "needs_background": "light"
     },
     "output_type": "display_data"
    }
   ],
   "source": [
    "mglearn.plot_scaling.plot_scaling()"
   ]
  },
  {
   "cell_type": "markdown",
   "metadata": {},
   "source": [
    "딥러닝도 기계학습의 일종이므로, 절차가 같다  \n",
    "데이터 전처리 → 학습 → 성능 평가 → 수정 (전처리/하이퍼파라미터/알고리즘)"
   ]
  },
  {
   "cell_type": "markdown",
   "metadata": {},
   "source": [
    "## activation"
   ]
  },
  {
   "cell_type": "markdown",
   "metadata": {},
   "source": [
    "layer가 의미가 있으려면 활성함수로 선형함수를 쓰면 안된다.  \n",
    "비선형 함수를 써야한다. "
   ]
  },
  {
   "cell_type": "markdown",
   "metadata": {},
   "source": [
    "※ 참고: [keras 공식문서의 acitivation](https://keras.io/activations/)"
   ]
  },
  {
   "cell_type": "markdown",
   "metadata": {},
   "source": [
    "- step(계단함수)\n",
    "    - 최초의 activation function\n",
    "    - perceptron에 사용\n",
    "    \n",
    "    \n",
    "1. linear\n",
    "    - 선형은 쓰지 않는다.\n",
    "2. sigmoid\n",
    "    - $\\frac{1}{1+e^{-x}}$\n",
    "    - gradient vanishing 문제가 있다.\n",
    "        - 미분값(기울기)가 0에 수렴\n",
    "        - 학습이 안 된다.\n",
    "    - 이론에서만 배우고 실무에 사용하는 순간 OUT\n",
    "        - 단, binary 분류할때 output layer(마지막 레이어)에 사용하는 경우는 예외\n",
    "        - 처음에는 hidden에 썼지만 현대에는 hidden layer(모델의 중간 레이어)에서는 사용안함 \n",
    "3. tanh(하이퍼볼릭 탄젠트)\n",
    "    - sigmoid를 조금 개선\n",
    "    - 여전히 gradient vanishing 문제가 있다. \n",
    "4. softmax\n",
    "    - 3개 이상 분류할 때 output layer에 사용한다.\n",
    "    - hidden layer에는 사용하지 않음\n",
    "5. ReLU (Rectified Linear Unit)\n",
    "    - 딥러닝 역사에 중요한 activation\n",
    "        - gradient vanishing 문제를 해결\n",
    "6. Leaky ReLU\n",
    "    - ReLU는 0 이하에서는 기울기 0이되서 학습이 안되는 문제가 있었다. \n",
    "    - 0 이하에서 아주 작은 기울기 값을 갖게 개선함\n",
    "7. 기타 다양함\n",
    "    - selu 등... \n",
    "    - 논문에서 사용함\n",
    "    - 일반적으로 ReLU를 사용함"
   ]
  },
  {
   "cell_type": "markdown",
   "metadata": {},
   "source": [
    "activation function의 이름만 알면 바꿔서 쓸 수 있다."
   ]
  },
  {
   "cell_type": "code",
   "execution_count": 64,
   "metadata": {},
   "outputs": [],
   "source": [
    "model = Sequential([\n",
    "    Flatten(input_shape=(28, 28)),\n",
    "    Dense(16, activation=\"selu\"), # relu 대신 selu 사용\n",
    "    Dense(10, activation=\"softmax\")\n",
    "])"
   ]
  },
  {
   "cell_type": "markdown",
   "metadata": {},
   "source": [
    "문자열 대신에 객체를 넣을 수도 있다."
   ]
  },
  {
   "cell_type": "code",
   "execution_count": 54,
   "metadata": {},
   "outputs": [],
   "source": [
    "from tensorflow.keras.activations import relu"
   ]
  },
  {
   "cell_type": "code",
   "execution_count": 63,
   "metadata": {},
   "outputs": [],
   "source": [
    "model = Sequential([\n",
    "    Flatten(input_shape=(28, 28)),\n",
    "    Dense(16, activation=relu),\n",
    "    Dense(10, activation=\"softmax\")\n",
    "])"
   ]
  },
  {
   "cell_type": "markdown",
   "metadata": {},
   "source": [
    "parameter를 보면, 옵션이 있다.  \n",
    "내가 옵션을 커스터마이징해서 쓸 수 있다.  \n",
    "옵션 설정 안하면 기본값 사용하는 것이다."
   ]
  },
  {
   "cell_type": "code",
   "execution_count": 140,
   "metadata": {},
   "outputs": [],
   "source": [
    "?relu"
   ]
  },
  {
   "cell_type": "markdown",
   "metadata": {},
   "source": [
    "느낌상 optimizer, loss도 이렇게 이름 대신 객체로 바꿀 수 있다.  \n",
    "객체를 사용하면 자동화할 수 있는 장점이 있다. "
   ]
  },
  {
   "cell_type": "markdown",
   "metadata": {},
   "source": [
    "## advance activation"
   ]
  },
  {
   "cell_type": "markdown",
   "metadata": {},
   "source": [
    "advance activation은 activations 모듈에 없다.  \n",
    "layers 모듈에 있다.  \n",
    "layers 모듈에 있는 이유는 고급기법과 관련이 있다.(나중에 배움) "
   ]
  },
  {
   "cell_type": "code",
   "execution_count": 65,
   "metadata": {},
   "outputs": [],
   "source": [
    "from tensorflow.keras.layers import LeakyReLU"
   ]
  },
  {
   "cell_type": "code",
   "execution_count": 69,
   "metadata": {},
   "outputs": [],
   "source": [
    "model = Sequential([\n",
    "    Flatten(input_shape=(28, 28)),\n",
    "    Dense(16, activation=LeakyReLU()), # class는 인스턴스 후 사용\n",
    "    Dense(10, activation=\"softmax\")\n",
    "])"
   ]
  },
  {
   "cell_type": "markdown",
   "metadata": {},
   "source": [
    "### 활성함수 numpy로 만들어보기"
   ]
  },
  {
   "cell_type": "markdown",
   "metadata": {},
   "source": [
    "식만 알면 만드는 것은 어렵지 않다.  \n",
    "numpy에서 수학 대부분 지원하기 떄문에 구현은 어렵지 않다.  \n",
    "이미 keras에 구현되어 있어서 relu를 구현하는 것은 중요하지 않다."
   ]
  },
  {
   "cell_type": "code",
   "execution_count": 71,
   "metadata": {},
   "outputs": [],
   "source": [
    "import numpy as np"
   ]
  },
  {
   "cell_type": "code",
   "execution_count": 191,
   "metadata": {},
   "outputs": [],
   "source": [
    "@np.vectorize\n",
    "def relu_2(x):\n",
    "    return np.max([x, 0])"
   ]
  },
  {
   "cell_type": "code",
   "execution_count": 192,
   "metadata": {},
   "outputs": [
    {
     "data": {
      "text/plain": [
       "array(0.)"
      ]
     },
     "execution_count": 192,
     "metadata": {},
     "output_type": "execute_result"
    }
   ],
   "source": [
    "relu_2(-1.5)"
   ]
  },
  {
   "cell_type": "code",
   "execution_count": 193,
   "metadata": {},
   "outputs": [],
   "source": [
    "x = np.linspace(-1, 1, 100)"
   ]
  },
  {
   "cell_type": "code",
   "execution_count": 194,
   "metadata": {},
   "outputs": [
    {
     "data": {
      "text/plain": [
       "[<matplotlib.lines.Line2D at 0x1c31deb7c88>]"
      ]
     },
     "execution_count": 194,
     "metadata": {},
     "output_type": "execute_result"
    },
    {
     "data": {
      "image/png": "[encoded data removed]",
      "text/plain": [
       "<Figure size 432x288 with 1 Axes>"
      ]
     },
     "metadata": {
      "needs_background": "light"
     },
     "output_type": "display_data"
    }
   ],
   "source": [
    "plt.plot(x, relu_2(x))"
   ]
  },
  {
   "cell_type": "markdown",
   "metadata": {},
   "source": [
    "`maximum`, `where` 등 여러가지 방법으로 구현할 수 있다."
   ]
  },
  {
   "cell_type": "code",
   "execution_count": 78,
   "metadata": {},
   "outputs": [],
   "source": [
    "def relu_3(x):\n",
    "    return np.maximum(0, x)"
   ]
  },
  {
   "cell_type": "code",
   "execution_count": 80,
   "metadata": {},
   "outputs": [
    {
     "data": {
      "text/plain": [
       "0.0"
      ]
     },
     "execution_count": 80,
     "metadata": {},
     "output_type": "execute_result"
    }
   ],
   "source": [
    "relu_3(-1.5)"
   ]
  },
  {
   "cell_type": "code",
   "execution_count": 81,
   "metadata": {},
   "outputs": [],
   "source": [
    "def relu_4(x):\n",
    "    return np.where(x > 0, x, 0)"
   ]
  },
  {
   "cell_type": "code",
   "execution_count": 196,
   "metadata": {},
   "outputs": [
    {
     "data": {
      "text/plain": [
       "array(0.)"
      ]
     },
     "execution_count": 196,
     "metadata": {},
     "output_type": "execute_result"
    }
   ],
   "source": [
    "relu_4(-1.5)"
   ]
  },
  {
   "cell_type": "markdown",
   "metadata": {},
   "source": [
    "실무에서도 activation function을 건드리는 건 가장 마지막이다.  \n",
    "학습이 안되거나 학습 속도가 느리면 상황에 맞는 걸로 바꿔보면 된다."
   ]
  },
  {
   "cell_type": "markdown",
   "metadata": {},
   "source": [
    "## fashion mnist"
   ]
  },
  {
   "cell_type": "markdown",
   "metadata": {},
   "source": [
    "이번 강의는 [텐서플로우 튜토리얼](https://www.tensorflow.org/tutorials/keras/classification?hl=ko)을 참조하였습니다."
   ]
  },
  {
   "cell_type": "markdown",
   "metadata": {},
   "source": [
    "mnist는 우편번호를 인식하기 위해서 만든 숫자 손글씨 데이터셋이다. 간단한 문제였다.  \n",
    "fashion mnist는 구글에서 만든 옷 이미지 데이터셋이다.   "
   ]
  },
  {
   "cell_type": "markdown",
   "metadata": {},
   "source": [
    "mnist는 문제가 간단해서 KNN으로도 분류가 잘 된다.  \n",
    "fashion mnist는 좀 더 복잡해서 딥러닝의 막강함을 느낄 수 있다.  \n",
    "mnist보다는 문제의 난이도가 있어서 조금 고급 모델 연습용으로 많이 사용한다.  "
   ]
  },
  {
   "cell_type": "code",
   "execution_count": 1,
   "metadata": {},
   "outputs": [],
   "source": [
    "from tensorflow.keras.datasets import fashion_mnist"
   ]
  },
  {
   "cell_type": "code",
   "execution_count": 2,
   "metadata": {},
   "outputs": [],
   "source": [
    "# hold out\n",
    "# scikit-learn은 (X_train, X_test, y_train, y_test) 였음. \n",
    "# 순서 및 구조 다름 주의\n",
    "(X_train, y_train), (X_test, y_test) = fashion_mnist.load_data()"
   ]
  },
  {
   "cell_type": "markdown",
   "metadata": {},
   "source": [
    "옷에 관련한 이미지 데이터이다."
   ]
  },
  {
   "cell_type": "code",
   "execution_count": 89,
   "metadata": {},
   "outputs": [
    {
     "data": {
      "text/plain": [
       "<matplotlib.image.AxesImage at 0x1c30f1d6438>"
      ]
     },
     "execution_count": 89,
     "metadata": {},
     "output_type": "execute_result"
    },
    {
     "data": {
      "image/png": "[encoded data removed]",
      "text/plain": [
       "<Figure size 432x288 with 1 Axes>"
      ]
     },
     "metadata": {
      "needs_background": "light"
     },
     "output_type": "display_data"
    }
   ],
   "source": [
    "plt.imshow(X_train[0], cmap=\"gray\")"
   ]
  },
  {
   "cell_type": "markdown",
   "metadata": {},
   "source": [
    "mnist와 같이 unit8 타입이다."
   ]
  },
  {
   "cell_type": "code",
   "execution_count": 90,
   "metadata": {},
   "outputs": [
    {
     "data": {
      "text/plain": [
       "dtype('uint8')"
      ]
     },
     "execution_count": 90,
     "metadata": {},
     "output_type": "execute_result"
    }
   ],
   "source": [
    "X_train.dtype"
   ]
  },
  {
   "cell_type": "markdown",
   "metadata": {},
   "source": [
    "공식 튜토리얼에서는 Normalize 기법 중 MinMaxScaling을 적용하였다.  \n",
    "전통적으로 0 ~ 1 이 학습 속도가 빠르고 수렴이 잘 되는 경향이 있다.  \n",
    "꼭 해야하는 것은 아니다."
   ]
  },
  {
   "cell_type": "code",
   "execution_count": 3,
   "metadata": {},
   "outputs": [],
   "source": [
    "X_train = X_train / 255.0 # 관례상 소수로 나눠줌. \n",
    "                          # data type을 알아보기 쉽게 한다.\n",
    "\n",
    "X_test = X_test / 255.0   # 사용할때도 똑같이 적용해야 함."
   ]
  },
  {
   "cell_type": "markdown",
   "metadata": {},
   "source": [
    "이미지는 1차원을 바꾸면 공간 정보를 잃어버린다.  \n",
    "조금만 움직여도 pixel 전체가 바뀌어서 기계가 못 알아본다. (각 pixel을 feature로 보기 떄문)  \n",
    "이미지 처리에서는 CNN 기법으로 공간 정보를 학습한다. (나중에 배움)"
   ]
  },
  {
   "cell_type": "markdown",
   "metadata": {},
   "source": [
    "뼈대부터 만든다."
   ]
  },
  {
   "cell_type": "code",
   "execution_count": 10,
   "metadata": {},
   "outputs": [],
   "source": [
    "from tensorflow.keras.models import Sequential"
   ]
  },
  {
   "cell_type": "code",
   "execution_count": 11,
   "metadata": {},
   "outputs": [],
   "source": [
    "from tensorflow.keras.layers import Dense, Flatten"
   ]
  },
  {
   "cell_type": "code",
   "execution_count": 12,
   "metadata": {},
   "outputs": [],
   "source": [
    "# 문자열로 하면 값을 못 바꾼다.  \n",
    "# 객체를 쓰면 나중에 내가 바꿔서 쓸 수 있는 장점이 있다.\n",
    "from tensorflow.keras.activations import relu, softmax"
   ]
  },
  {
   "cell_type": "code",
   "execution_count": 98,
   "metadata": {},
   "outputs": [],
   "source": [
    "model = Sequential([\n",
    "    Flatten(input_shape=(28, 28)),\n",
    "    Dense(16, activation=relu),\n",
    "    Dense(10, activation=softmax)\n",
    "])"
   ]
  },
  {
   "cell_type": "markdown",
   "metadata": {},
   "source": [
    "모델이 잘 만들어졌으면 summary가 나온다.  \n",
    "안 나오면 모델이 잘 못 만들어진 것이다."
   ]
  },
  {
   "cell_type": "code",
   "execution_count": 99,
   "metadata": {},
   "outputs": [
    {
     "name": "stdout",
     "output_type": "stream",
     "text": [
      "Model: \"sequential_5\"\n",
      "_________________________________________________________________\n",
      "Layer (type)                 Output Shape              Param #   \n",
      "=================================================================\n",
      "flatten_6 (Flatten)          (None, 784)               0         \n",
      "_________________________________________________________________\n",
      "dense_10 (Dense)             (None, 16)                12560     \n",
      "_________________________________________________________________\n",
      "dense_11 (Dense)             (None, 10)                170       \n",
      "=================================================================\n",
      "Total params: 12,730\n",
      "Trainable params: 12,730\n",
      "Non-trainable params: 0\n",
      "_________________________________________________________________\n"
     ]
    }
   ],
   "source": [
    "model.summary()"
   ]
  },
  {
   "cell_type": "markdown",
   "metadata": {},
   "source": [
    "- `Flatten`은 학습 안하는 레이어다. 학습하게 도와주는 레이어다.  \n",
    "    - `summary`에서 Param이 0이다 → 학습 안한다.  \n",
    "- hidden layer(가운데 Dense)는 Param이 12560이다. → 복잡함  \n",
    "    - 복잡할수록 성능이 좋다 / 학습이 오래 걸린다 / 오버피팅 걸릴 확률 높다 → 정답은 없다  "
   ]
  },
  {
   "cell_type": "code",
   "execution_count": 103,
   "metadata": {},
   "outputs": [],
   "source": [
    "model.compile(loss=\"sparse_categorical_crossentropy\", optimizer=\"adam\", metrics=[\"acc\"]) # acc는 accuracy 줄임말"
   ]
  },
  {
   "cell_type": "code",
   "execution_count": 104,
   "metadata": {},
   "outputs": [
    {
     "name": "stdout",
     "output_type": "stream",
     "text": [
      "Train on 60000 samples\n",
      "60000/60000 [==============================] - 5s 87us/sample - loss: 0.5949 - acc: 0.7954\n"
     ]
    },
    {
     "data": {
      "text/plain": [
       "<tensorflow.python.keras.callbacks.History at 0x1c314e90cf8>"
      ]
     },
     "execution_count": 104,
     "metadata": {},
     "output_type": "execute_result"
    }
   ],
   "source": [
    "model.fit(X_train, y_train)"
   ]
  },
  {
   "cell_type": "markdown",
   "metadata": {},
   "source": [
    "데이터가 더 어려워서 mnist보다 성능이 안좋다.  \n",
    "구조를 더 복잡하게 하면 성능이 더 오를 것이다."
   ]
  },
  {
   "cell_type": "code",
   "execution_count": 105,
   "metadata": {},
   "outputs": [
    {
     "name": "stdout",
     "output_type": "stream",
     "text": [
      "Train on 60000 samples\n",
      "Epoch 1/5\n",
      "60000/60000 [==============================] - 4s 73us/sample - loss: 0.4293 - acc: 0.8499\n",
      "Epoch 2/5\n",
      "60000/60000 [==============================] - 5s 77us/sample - loss: 0.4000 - acc: 0.8586\n",
      "Epoch 3/5\n",
      "60000/60000 [==============================] - 5s 77us/sample - loss: 0.3819 - acc: 0.8655\n",
      "Epoch 4/5\n",
      "60000/60000 [==============================] - 5s 78us/sample - loss: 0.3687 - acc: 0.8680\n",
      "Epoch 5/5\n",
      "60000/60000 [==============================] - 5s 82us/sample - loss: 0.3589 - acc: 0.8728\n"
     ]
    },
    {
     "data": {
      "text/plain": [
       "<tensorflow.python.keras.callbacks.History at 0x1c3154c3b38>"
      ]
     },
     "execution_count": 105,
     "metadata": {},
     "output_type": "execute_result"
    }
   ],
   "source": [
    "model.fit(X_train, y_train, epochs=5)"
   ]
  },
  {
   "cell_type": "markdown",
   "metadata": {},
   "source": [
    "모데 내부에 random 이 많이 사용되어서 결과는 항상 다르다.  \n",
    "Dense도 내부에서 random으로 초기화되고, 여기저기 쓰이는 데가 많다."
   ]
  },
  {
   "cell_type": "code",
   "execution_count": 107,
   "metadata": {},
   "outputs": [
    {
     "name": "stdout",
     "output_type": "stream",
     "text": [
      "10000/1 - 0s - loss: 0.3315 - acc: 0.8605\n"
     ]
    },
    {
     "data": {
      "text/plain": [
       "[0.39770894043445587, 0.8605]"
      ]
     },
     "execution_count": 107,
     "metadata": {},
     "output_type": "execute_result"
    }
   ],
   "source": [
    "model.evaluate(X_test, y_test, verbose=2)"
   ]
  },
  {
   "cell_type": "markdown",
   "metadata": {},
   "source": [
    "## history"
   ]
  },
  {
   "cell_type": "markdown",
   "metadata": {},
   "source": [
    "할당 안하고 학습하면 output이 반환되는게 거슬린다."
   ]
  },
  {
   "cell_type": "code",
   "execution_count": 108,
   "metadata": {},
   "outputs": [
    {
     "name": "stdout",
     "output_type": "stream",
     "text": [
      "Train on 60000 samples\n",
      "Epoch 1/5\n",
      "60000/60000 [==============================] - 4s 69us/sample - loss: 0.3499 - acc: 0.8749\n",
      "Epoch 2/5\n",
      "60000/60000 [==============================] - 4s 67us/sample - loss: 0.3427 - acc: 0.8775\n",
      "Epoch 3/5\n",
      "60000/60000 [==============================] - 4s 64us/sample - loss: 0.3390 - acc: 0.8793\n",
      "Epoch 4/5\n",
      "60000/60000 [==============================] - 4s 64us/sample - loss: 0.3339 - acc: 0.8812\n",
      "Epoch 5/5\n",
      "60000/60000 [==============================] - 4s 72us/sample - loss: 0.3281 - acc: 0.8827\n"
     ]
    },
    {
     "data": {
      "text/plain": [
       "<tensorflow.python.keras.callbacks.History at 0x1c31933b080>"
      ]
     },
     "execution_count": 108,
     "metadata": {},
     "output_type": "execute_result"
    }
   ],
   "source": [
    "model.fit(X_train, y_train, epochs=5)"
   ]
  },
  {
   "cell_type": "code",
   "execution_count": 109,
   "metadata": {},
   "outputs": [
    {
     "name": "stdout",
     "output_type": "stream",
     "text": [
      "Train on 60000 samples\n",
      "Epoch 1/5\n",
      "60000/60000 [==============================] - 4s 72us/sample - loss: 0.3247 - acc: 0.8831\n",
      "Epoch 2/5\n",
      "60000/60000 [==============================] - 5s 76us/sample - loss: 0.3221 - acc: 0.8840\n",
      "Epoch 3/5\n",
      "60000/60000 [==============================] - 4s 69us/sample - loss: 0.3187 - acc: 0.8850\n",
      "Epoch 4/5\n",
      "60000/60000 [==============================] - 4s 75us/sample - loss: 0.3144 - acc: 0.8851\n",
      "Epoch 5/5\n",
      "60000/60000 [==============================] - 5s 77us/sample - loss: 0.3125 - acc: 0.8867\n"
     ]
    }
   ],
   "source": [
    "# 할당\n",
    "history = model.fit(X_train, y_train, epochs=5)"
   ]
  },
  {
   "cell_type": "markdown",
   "metadata": {},
   "source": [
    "map, generator, groupby 같이 <괄호>로 나오는 녀석들은 바로 볼 수가 없었다."
   ]
  },
  {
   "cell_type": "code",
   "execution_count": 110,
   "metadata": {},
   "outputs": [
    {
     "data": {
      "text/plain": [
       "<tensorflow.python.keras.callbacks.History at 0x1c3192cadd8>"
      ]
     },
     "execution_count": 110,
     "metadata": {},
     "output_type": "execute_result"
    }
   ],
   "source": [
    "history"
   ]
  },
  {
   "cell_type": "code",
   "execution_count": 111,
   "metadata": {},
   "outputs": [
    {
     "data": {
      "text/plain": [
       "['__class__',\n",
       " '__delattr__',\n",
       " '__dict__',\n",
       " '__dir__',\n",
       " '__doc__',\n",
       " '__eq__',\n",
       " '__format__',\n",
       " '__ge__',\n",
       " '__getattribute__',\n",
       " '__gt__',\n",
       " '__hash__',\n",
       " '__init__',\n",
       " '__init_subclass__',\n",
       " '__le__',\n",
       " '__lt__',\n",
       " '__module__',\n",
       " '__ne__',\n",
       " '__new__',\n",
       " '__reduce__',\n",
       " '__reduce_ex__',\n",
       " '__repr__',\n",
       " '__setattr__',\n",
       " '__sizeof__',\n",
       " '__str__',\n",
       " '__subclasshook__',\n",
       " '__weakref__',\n",
       " '_chief_worker_only',\n",
       " '_keras_api_names',\n",
       " '_keras_api_names_v1',\n",
       " 'epoch',\n",
       " 'history',\n",
       " 'model',\n",
       " 'on_batch_begin',\n",
       " 'on_batch_end',\n",
       " 'on_epoch_begin',\n",
       " 'on_epoch_end',\n",
       " 'on_predict_batch_begin',\n",
       " 'on_predict_batch_end',\n",
       " 'on_predict_begin',\n",
       " 'on_predict_end',\n",
       " 'on_test_batch_begin',\n",
       " 'on_test_batch_end',\n",
       " 'on_test_begin',\n",
       " 'on_test_end',\n",
       " 'on_train_batch_begin',\n",
       " 'on_train_batch_end',\n",
       " 'on_train_begin',\n",
       " 'on_train_end',\n",
       " 'params',\n",
       " 'set_model',\n",
       " 'set_params',\n",
       " 'validation_data']"
      ]
     },
     "execution_count": 111,
     "metadata": {},
     "output_type": "execute_result"
    }
   ],
   "source": [
    "dir(history)"
   ]
  },
  {
   "cell_type": "markdown",
   "metadata": {},
   "source": [
    "학습의 중간 결과가 저장되어 있다."
   ]
  },
  {
   "cell_type": "code",
   "execution_count": 112,
   "metadata": {},
   "outputs": [
    {
     "data": {
      "text/plain": [
       "{'loss': [0.32469743990103406,\n",
       "  0.3220709990123908,\n",
       "  0.3187245285709699,\n",
       "  0.31444212378462155,\n",
       "  0.3124832383155823],\n",
       " 'acc': [0.88311666, 0.884, 0.88505, 0.8851, 0.88665]}"
      ]
     },
     "execution_count": 112,
     "metadata": {},
     "output_type": "execute_result"
    }
   ],
   "source": [
    "history.history"
   ]
  },
  {
   "cell_type": "markdown",
   "metadata": {},
   "source": [
    "시각화하면 학습 상태를 관찰하기 좋다."
   ]
  },
  {
   "cell_type": "markdown",
   "metadata": {},
   "source": [
    "※ 참조: [텐서플로우 튜토리얼 - 과적합 및 과소 적합](https://www.tensorflow.org/tutorials/keras/overfit_and_underfit?hl=ko)"
   ]
  },
  {
   "cell_type": "code",
   "execution_count": 117,
   "metadata": {},
   "outputs": [],
   "source": [
    "# 위 링크에서 가져온 함수를 일부 수정함\n",
    "\n",
    "def plot_history(histories, key='binary_crossentropy'):\n",
    "    plt.figure(figsize=(16,10))\n",
    "\n",
    "    for name, history in histories:\n",
    "        val = plt.plot(history.epoch, history.history[\"acc\"], # 수정\n",
    "                     '--', label=name.title()+' Val')\n",
    "        plt.plot(history.epoch, history.history[\"acc\"], # 수정\n",
    "                 color=val[0].get_color(),\n",
    "                 label=name.title()+' Train')\n",
    "\n",
    "    plt.xlabel('Epochs')\n",
    "    plt.ylabel(key.replace('_',' ').title())\n",
    "    plt.legend()\n",
    "\n",
    "    plt.xlim([0,max(history.epoch)])"
   ]
  },
  {
   "cell_type": "code",
   "execution_count": 118,
   "metadata": {},
   "outputs": [
    {
     "data": {
      "image/png": "[encoded data removed]",
      "text/plain": [
       "<Figure size 1152x720 with 1 Axes>"
      ]
     },
     "metadata": {
      "needs_background": "light"
     },
     "output_type": "display_data"
    }
   ],
   "source": [
    "plot_history([('baseline', history)]) # 수정"
   ]
  },
  {
   "cell_type": "markdown",
   "metadata": {},
   "source": [
    "## learning curve"
   ]
  },
  {
   "cell_type": "markdown",
   "metadata": {},
   "source": [
    "keras(딥러닝)에서도 learning curve(학습 곡선)을 사용한다.  \n",
    "그런데, scikit-learn(기계학습)과 차이가 있으므로 주의한다.  \n",
    "**x축을 잘 봐야한다.**"
   ]
  },
  {
   "cell_type": "markdown",
   "metadata": {},
   "source": [
    "### scikit-learn : Learning Curve"
   ]
  },
  {
   "cell_type": "markdown",
   "metadata": {},
   "source": [
    "- x축: 데이터의 양\n",
    "- 데이터의 양이 충분한지 확인하는 용도\n",
    "- 데이터가 부족해서 오버피팅이 발생하는지 확인 가능"
   ]
  },
  {
   "cell_type": "code",
   "execution_count": 4,
   "metadata": {},
   "outputs": [],
   "source": [
    "from sklearn.model_selection import learning_curve\n",
    "from sklearn_evaluation import plot\n",
    "from sklearn.neighbors import KNeighborsClassifier"
   ]
  },
  {
   "cell_type": "code",
   "execution_count": 7,
   "metadata": {},
   "outputs": [],
   "source": [
    "# 시간상 데이터 1000개만 사용\n",
    "train_size, train_scores, test_scores = learning_curve(KNeighborsClassifier(), \n",
    "                                                       X_train.reshape(-1, 28*28)[:1000],\n",
    "                                                       y_train[:1000], \n",
    "                                                       n_jobs=-1)"
   ]
  },
  {
   "cell_type": "markdown",
   "metadata": {},
   "source": [
    "범례에 Cross-validation score라고 되어 있지만, Test score라고 생각하면 된다."
   ]
  },
  {
   "cell_type": "code",
   "execution_count": 8,
   "metadata": {},
   "outputs": [
    {
     "data": {
      "text/plain": [
       "<matplotlib.axes._subplots.AxesSubplot at 0x2c7480deeb8>"
      ]
     },
     "execution_count": 8,
     "metadata": {},
     "output_type": "execute_result"
    },
    {
     "data": {
      "image/png": "[encoded data removed]",
      "text/plain": [
       "<Figure size 432x288 with 1 Axes>"
      ]
     },
     "metadata": {
      "needs_background": "light"
     },
     "output_type": "display_data"
    }
   ],
   "source": [
    "plot.learning_curve(train_scores, test_scores, train_size)"
   ]
  },
  {
   "cell_type": "markdown",
   "metadata": {},
   "source": [
    "### scikit-elarn : Validation Curve"
   ]
  },
  {
   "cell_type": "markdown",
   "metadata": {},
   "source": [
    "- x축: 하이퍼 파라미터 값(param_range)\n",
    "- 하이퍼 파라미터에 따른 성능 비교하는 용도"
   ]
  },
  {
   "cell_type": "code",
   "execution_count": 5,
   "metadata": {},
   "outputs": [],
   "source": [
    "from sklearn.model_selection import validation_curve"
   ]
  },
  {
   "cell_type": "code",
   "execution_count": 8,
   "metadata": {},
   "outputs": [],
   "source": [
    "# 시간상 데이터 1000개만 사용\n",
    "\n",
    "param_name = \"n_neighbors\"\n",
    "param_range = [2, 3, 4, 5]\n",
    "\n",
    "train_scores, test_scores = validation_curve(KNeighborsClassifier(), \n",
    "                                             X_train.reshape(60000, -1)[:1000], \n",
    "                                             y_train[:1000], \n",
    "                                             param_name=param_name,\n",
    "                                             param_range=param_range,\n",
    "                                             n_jobs=-1)"
   ]
  },
  {
   "cell_type": "code",
   "execution_count": 9,
   "metadata": {},
   "outputs": [
    {
     "data": {
      "text/plain": [
       "<matplotlib.axes._subplots.AxesSubplot at 0x1da0bea1d68>"
      ]
     },
     "execution_count": 9,
     "metadata": {},
     "output_type": "execute_result"
    },
    {
     "data": {
      "image/png": "[encoded data removed]",
      "text/plain": [
       "<Figure size 432x288 with 1 Axes>"
      ]
     },
     "metadata": {
      "needs_background": "light"
     },
     "output_type": "display_data"
    }
   ],
   "source": [
    "plot.validation_curve(train_scores,\n",
    "                      test_scores,\n",
    "                      param_name=param_name,\n",
    "                      param_range=param_range)"
   ]
  },
  {
   "cell_type": "markdown",
   "metadata": {},
   "source": [
    "### keras : Learning Curve"
   ]
  },
  {
   "cell_type": "markdown",
   "metadata": {},
   "source": [
    "- x축: epochs\n",
    "- epoch을 반복함에 따라 학습 상태를 관찰하는 용도\n",
    "    - 딥러닝을 epoch을 돌면서 학습함(=파라미터 업데이트)\n",
    "- epoch이 너무 많아서 오버피팅이 발생하는지 확인 가능"
   ]
  },
  {
   "cell_type": "code",
   "execution_count": 13,
   "metadata": {},
   "outputs": [],
   "source": [
    "model = Sequential([\n",
    "    Flatten(input_shape=(28, 28)),\n",
    "    Dense(16, activation=relu),\n",
    "    Dense(10, activation=softmax)\n",
    "])"
   ]
  },
  {
   "cell_type": "code",
   "execution_count": 14,
   "metadata": {},
   "outputs": [],
   "source": [
    "model.compile(loss=\"sparse_categorical_crossentropy\", optimizer=\"adam\", metrics=[\"acc\"]) "
   ]
  },
  {
   "cell_type": "markdown",
   "metadata": {},
   "source": [
    "keras는 `fit` 메소드에서 3way hold out을 지원한다\n"
   ]
  },
  {
   "cell_type": "code",
   "execution_count": 15,
   "metadata": {},
   "outputs": [
    {
     "name": "stdout",
     "output_type": "stream",
     "text": [
      "Train on 42000 samples, validate on 18000 samples\n",
      "Epoch 1/10\n",
      "42000/42000 [==============================] - 4s 89us/sample - loss: 0.6522 - acc: 0.7815 - val_loss: 0.4929 - val_acc: 0.8274\n",
      "Epoch 2/10\n",
      "42000/42000 [==============================] - 3s 73us/sample - loss: 0.4597 - acc: 0.8397 - val_loss: 0.4497 - val_acc: 0.8426\n",
      "Epoch 3/10\n",
      "42000/42000 [==============================] - 3s 75us/sample - loss: 0.4249 - acc: 0.8506 - val_loss: 0.4215 - val_acc: 0.8540\n",
      "Epoch 4/10\n",
      "42000/42000 [==============================] - 3s 74us/sample - loss: 0.4035 - acc: 0.8584 - val_loss: 0.4210 - val_acc: 0.8541\n",
      "Epoch 5/10\n",
      "42000/42000 [==============================] - 3s 72us/sample - loss: 0.3888 - acc: 0.8620 - val_loss: 0.4169 - val_acc: 0.8536\n",
      "Epoch 6/10\n",
      "42000/42000 [==============================] - 3s 72us/sample - loss: 0.3780 - acc: 0.8659 - val_loss: 0.4278 - val_acc: 0.8514\n",
      "Epoch 7/10\n",
      "42000/42000 [==============================] - 3s 73us/sample - loss: 0.3697 - acc: 0.8691 - val_loss: 0.4025 - val_acc: 0.8618\n",
      "Epoch 8/10\n",
      "42000/42000 [==============================] - 3s 74us/sample - loss: 0.3635 - acc: 0.8729 - val_loss: 0.3910 - val_acc: 0.8632\n",
      "Epoch 9/10\n",
      "42000/42000 [==============================] - 3s 71us/sample - loss: 0.3548 - acc: 0.8739 - val_loss: 0.3953 - val_acc: 0.8638\n",
      "Epoch 10/10\n",
      "42000/42000 [==============================] - 3s 72us/sample - loss: 0.3489 - acc: 0.8760 - val_loss: 0.3916 - val_acc: 0.8646\n"
     ]
    }
   ],
   "source": [
    "# 3way hold out \n",
    "\n",
    "history = model.fit(X_train, y_train, epochs=10, validation_split=0.3)"
   ]
  },
  {
   "cell_type": "markdown",
   "metadata": {},
   "source": [
    "딥러닝에서는 learning curve와 validation curve를 동시에 그려서 오버피팅 여부를 확인한다."
   ]
  },
  {
   "cell_type": "code",
   "execution_count": 27,
   "metadata": {},
   "outputs": [
    {
     "data": {
      "image/png": "[encoded data removed]",
      "text/plain": [
       "<Figure size 432x288 with 1 Axes>"
      ]
     },
     "metadata": {
      "needs_background": "light"
     },
     "output_type": "display_data"
    }
   ],
   "source": [
    "epochs = history.epoch\n",
    "for name, value in history.history.items():\n",
    "    plt.plot(epochs, value, label=name)\n",
    "plt.title(\"Keras : Learning Curve & Validation Curve\")\n",
    "plt.xlabel(\"epochs\"); plt.ylabel(\"loss & acc\")\n",
    "plt.xticks(epochs)\n",
    "plt.legend()\n",
    "plt.show()"
   ]
  },
  {
   "cell_type": "markdown",
   "metadata": {},
   "source": [
    "### keras : Validation Curve"
   ]
  },
  {
   "cell_type": "markdown",
   "metadata": {},
   "source": [
    "- scikit-learn에서 validation curve를 그려서 하이퍼 파라미터 확인했다. \n",
    "- 딥러닝에서는 validation curve를 그려서 오버피팅 여부를 확인한다."
   ]
  },
  {
   "cell_type": "markdown",
   "metadata": {},
   "source": [
    "---"
   ]
  },
  {
   "cell_type": "markdown",
   "metadata": {},
   "source": [
    "train - test 분리하는 것은 공정한 평가를 하기 위해서 한다  \n",
    "test로 평가하면서 최적의 모델 구조를 찾는다.  \n",
    "  \n",
    "데이터는 다다익선!  \n",
    "실제 사용할때는 성능을 더 높인다 (=데이터를 더 많이 쓴다.)  \n",
    "찾아낸 최적의 모델 구조와 모든 데이터(train + test)로 최종 학습한다.  "
   ]
  },
  {
   "cell_type": "markdown",
   "metadata": {},
   "source": [
    "scikit-learn(기계학습)은 새로운 데이터로 학습하면 처음부터 학습한다.  \n",
    "keras(딥러닝)은 새로운 데이터로 학습하면 현재 상태에서 이어서 학습한다."
   ]
  },
  {
   "cell_type": "code",
   "execution_count": 28,
   "metadata": {},
   "outputs": [
    {
     "name": "stdout",
     "output_type": "stream",
     "text": [
      "Train on 10000 samples\n",
      "10000/10000 [==============================] - 1s 58us/sample - loss: 0.4217 - acc: 0.8530\n"
     ]
    },
    {
     "data": {
      "text/plain": [
       "<tensorflow.python.keras.callbacks.History at 0x1da2ad5db00>"
      ]
     },
     "execution_count": 28,
     "metadata": {},
     "output_type": "execute_result"
    }
   ],
   "source": [
    "# 현재 학습된 상태에서 추가 학습\n",
    "model.fit(X_test, y_test)"
   ]
  },
  {
   "cell_type": "markdown",
   "metadata": {},
   "source": [
    "## predict"
   ]
  },
  {
   "cell_type": "code",
   "execution_count": null,
   "metadata": {},
   "outputs": [],
   "source": [
    "# Error\n",
    "model.predict(X_test[2])"
   ]
  },
  {
   "cell_type": "markdown",
   "metadata": {},
   "source": [
    "딥러닝에서도 shape이 아주 중요하다. 기계학습에서보다 더 중요하다.\n",
    "```\n",
    "ValueError: Error when checking input: expected flatten_6_input to have 3 dimensions, but got array with shape (28, 28)\n",
    "```"
   ]
  },
  {
   "cell_type": "markdown",
   "metadata": {},
   "source": [
    "학습 데이터는 3차원이었다."
   ]
  },
  {
   "cell_type": "code",
   "execution_count": 122,
   "metadata": {},
   "outputs": [
    {
     "data": {
      "text/plain": [
       "(60000, 28, 28)"
      ]
     },
     "execution_count": 122,
     "metadata": {},
     "output_type": "execute_result"
    }
   ],
   "source": [
    "X_train.shape"
   ]
  },
  {
   "cell_type": "markdown",
   "metadata": {},
   "source": [
    "에러난 데이터는 2차원이다."
   ]
  },
  {
   "cell_type": "code",
   "execution_count": 124,
   "metadata": {},
   "outputs": [
    {
     "data": {
      "text/plain": [
       "(28, 28)"
      ]
     },
     "execution_count": 124,
     "metadata": {},
     "output_type": "execute_result"
    }
   ],
   "source": [
    "X_test[2].shape"
   ]
  },
  {
   "cell_type": "code",
   "execution_count": 128,
   "metadata": {},
   "outputs": [
    {
     "name": "stdout",
     "output_type": "stream",
     "text": [
      "(1, 28, 28)\n",
      "(1, 28, 28)\n",
      "(1, 28, 28)\n"
     ]
    }
   ],
   "source": [
    "# 모양 맞춰주기\n",
    "# 차원을 늘리는 여러 방법들\n",
    "print(X_test[2][np.newaxis].shape)\n",
    "print(X_test[2][None].shape)\n",
    "print(np.expand_dims(X_test[2], 0).shape)"
   ]
  },
  {
   "cell_type": "markdown",
   "metadata": {},
   "source": [
    "모양을 맞춰주면 예측할 수 있다.  \n",
    "output layer에서 softmax를 썼기 때문에 확률로 반환된다."
   ]
  },
  {
   "cell_type": "code",
   "execution_count": 129,
   "metadata": {},
   "outputs": [
    {
     "data": {
      "text/plain": [
       "array([[1.2644076e-04, 9.9985588e-01, 2.0691250e-06, 2.0498749e-06,\n",
       "        1.2873730e-05, 1.6169868e-16, 6.9870106e-07, 2.5375189e-09,\n",
       "        4.0718678e-10, 6.3729111e-13]], dtype=float32)"
      ]
     },
     "execution_count": 129,
     "metadata": {},
     "output_type": "execute_result"
    }
   ],
   "source": [
    "model.predict(np.expand_dims(X_test[2], 0))"
   ]
  },
  {
   "cell_type": "markdown",
   "metadata": {},
   "source": [
    "확률은 모두 더하면 1이 된다."
   ]
  },
  {
   "cell_type": "code",
   "execution_count": 132,
   "metadata": {},
   "outputs": [
    {
     "data": {
      "text/plain": [
       "1.0"
      ]
     },
     "execution_count": 132,
     "metadata": {},
     "output_type": "execute_result"
    }
   ],
   "source": [
    "# 경우에 따라서 1로 딱 안떨어질 수도 있다.(컴퓨터는 부동소수를 사용하기 때문에)\n",
    "pred.sum()"
   ]
  },
  {
   "cell_type": "code",
   "execution_count": 130,
   "metadata": {},
   "outputs": [],
   "source": [
    "pred = model.predict(np.expand_dims(X_test[2], 0))"
   ]
  },
  {
   "cell_type": "markdown",
   "metadata": {},
   "source": [
    "`argmax`는 가장 큰 값의 인덱스를 알려준다."
   ]
  },
  {
   "cell_type": "code",
   "execution_count": 131,
   "metadata": {},
   "outputs": [
    {
     "data": {
      "text/plain": [
       "1"
      ]
     },
     "execution_count": 131,
     "metadata": {},
     "output_type": "execute_result"
    }
   ],
   "source": [
    "# 1번으로 예측함\n",
    "np.argmax(pred)"
   ]
  },
  {
   "cell_type": "markdown",
   "metadata": {},
   "source": [
    "- pandas는 64bit가 기본이었다.\n",
    "- keras는 32bit가 기본이다.  \n",
    "\n",
    "⇒ 결과의 범위가 서로 조금 다르다.\n",
    "\n",
    "\n",
    "※ 참고: 10^-6 이후부터는 의미가 없어서 보통 자르고 생각한다. "
   ]
  },
  {
   "cell_type": "code",
   "execution_count": null,
   "metadata": {},
   "outputs": [],
   "source": []
  }
 ],
 "metadata": {
  "kernelspec": {
   "display_name": "Python 3",
   "language": "python",
   "name": "python3"
  },
  "language_info": {
   "codemirror_mode": {
    "name": "ipython",
    "version": 3
   },
   "file_extension": ".py",
   "mimetype": "text/x-python",
   "name": "python",
   "nbconvert_exporter": "python",
   "pygments_lexer": "ipython3",
   "version": "3.7.3"
  },
  "toc": {
   "base_numbering": 1,
   "nav_menu": {},
   "number_sections": true,
   "sideBar": true,
   "skip_h1_title": true,
   "title_cell": "Table of Contents",
   "title_sidebar": "Contents",
   "toc_cell": true,
   "toc_position": {},
   "toc_section_display": true,
   "toc_window_display": true
  },
  "varInspector": {
   "cols": {
    "lenName": 16,
    "lenType": 16,
    "lenVar": 40
   },
   "kernels_config": {
    "python": {
     "delete_cmd_postfix": "",
     "delete_cmd_prefix": "del ",
     "library": "var_list.py",
     "varRefreshCmd": "print(var_dic_list())"
    },
    "r": {
     "delete_cmd_postfix": ") ",
     "delete_cmd_prefix": "rm(",
     "library": "var_list.r",
     "varRefreshCmd": "cat(var_dic_list()) "
    }
   },
   "types_to_exclude": [
    "module",
    "function",
    "builtin_function_or_method",
    "instance",
    "_Feature"
   ],
   "window_display": false
  }
 },
 "nbformat": 4,
 "nbformat_minor": 2
}
