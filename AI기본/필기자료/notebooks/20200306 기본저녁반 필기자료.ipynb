{
 "cells": [
  {
   "cell_type": "markdown",
   "metadata": {
    "toc": true
   },
   "source": [
    "<h1>Table of Contents<span class=\"tocSkip\"></span></h1>\n",
    "<div class=\"toc\"><ul class=\"toc-item\"><li><span><a href=\"#boolean-indexing\" data-toc-modified-id=\"boolean-indexing-1\"><span class=\"toc-item-num\">1&nbsp;&nbsp;</span>boolean indexing</a></span></li><li><span><a href=\"#predicate\" data-toc-modified-id=\"predicate-2\"><span class=\"toc-item-num\">2&nbsp;&nbsp;</span>predicate</a></span><ul class=\"toc-item\"><li><span><a href=\"#isin\" data-toc-modified-id=\"isin-2.1\"><span class=\"toc-item-num\">2.1&nbsp;&nbsp;</span>isin</a></span></li><li><span><a href=\"#where-&amp;-mask\" data-toc-modified-id=\"where-&amp;-mask-2.2\"><span class=\"toc-item-num\">2.2&nbsp;&nbsp;</span>where &amp; mask</a></span></li><li><span><a href=\"#query\" data-toc-modified-id=\"query-2.3\"><span class=\"toc-item-num\">2.3&nbsp;&nbsp;</span>query</a></span></li></ul></li><li><span><a href=\"#pandas-etc\" data-toc-modified-id=\"pandas-etc-3\"><span class=\"toc-item-num\">3&nbsp;&nbsp;</span>pandas etc</a></span><ul class=\"toc-item\"><li><span><a href=\"#데이터-생성-:-from과-as\" data-toc-modified-id=\"데이터-생성-:-from과-as-3.1\"><span class=\"toc-item-num\">3.1&nbsp;&nbsp;</span>데이터 생성 : from과 as</a></span></li><li><span><a href=\"#get과-lookup\" data-toc-modified-id=\"get과-lookup-3.2\"><span class=\"toc-item-num\">3.2&nbsp;&nbsp;</span>get과 lookup</a></span></li><li><span><a href=\"#Index-class\" data-toc-modified-id=\"Index-class-3.3\"><span class=\"toc-item-num\">3.3&nbsp;&nbsp;</span>Index class</a></span></li></ul></li><li><span><a href=\"#상권정보-데이터(공공데이터)를-활용한-실습\" data-toc-modified-id=\"상권정보-데이터(공공데이터)를-활용한-실습-4\"><span class=\"toc-item-num\">4&nbsp;&nbsp;</span>상권정보 데이터(공공데이터)를 활용한 실습</a></span></li><li><span><a href=\"#그래프-그릴-때-index가-x축이다.\" data-toc-modified-id=\"그래프-그릴-때-index가-x축이다.-5\"><span class=\"toc-item-num\">5&nbsp;&nbsp;</span>그래프 그릴 때 index가 x축이다.</a></span></li><li><span><a href=\"#python-str\" data-toc-modified-id=\"python-str-6\"><span class=\"toc-item-num\">6&nbsp;&nbsp;</span>python str</a></span><ul class=\"toc-item\"><li><span><a href=\"#startswith\" data-toc-modified-id=\"startswith-6.1\"><span class=\"toc-item-num\">6.1&nbsp;&nbsp;</span>startswith</a></span></li><li><span><a href=\"#endswith\" data-toc-modified-id=\"endswith-6.2\"><span class=\"toc-item-num\">6.2&nbsp;&nbsp;</span>endswith</a></span></li><li><span><a href=\"#in\" data-toc-modified-id=\"in-6.3\"><span class=\"toc-item-num\">6.3&nbsp;&nbsp;</span>in</a></span></li><li><span><a href=\"#split\" data-toc-modified-id=\"split-6.4\"><span class=\"toc-item-num\">6.4&nbsp;&nbsp;</span>split</a></span></li><li><span><a href=\"#strip\" data-toc-modified-id=\"strip-6.5\"><span class=\"toc-item-num\">6.5&nbsp;&nbsp;</span>strip</a></span></li><li><span><a href=\"#replace\" data-toc-modified-id=\"replace-6.6\"><span class=\"toc-item-num\">6.6&nbsp;&nbsp;</span>replace</a></span></li><li><span><a href=\"#concatenate\" data-toc-modified-id=\"concatenate-6.7\"><span class=\"toc-item-num\">6.7&nbsp;&nbsp;</span>concatenate</a></span></li><li><span><a href=\"#join\" data-toc-modified-id=\"join-6.8\"><span class=\"toc-item-num\">6.8&nbsp;&nbsp;</span>join</a></span></li></ul></li><li><span><a href=\"#pandas-str\" data-toc-modified-id=\"pandas-str-7\"><span class=\"toc-item-num\">7&nbsp;&nbsp;</span>pandas str</a></span></li><li><span><a href=\"#pandas-cat\" data-toc-modified-id=\"pandas-cat-8\"><span class=\"toc-item-num\">8&nbsp;&nbsp;</span>pandas cat</a></span></li><li><span><a href=\"#groupby\" data-toc-modified-id=\"groupby-9\"><span class=\"toc-item-num\">9&nbsp;&nbsp;</span>groupby</a></span></li><li><span><a href=\"#stack-&amp;-unstack\" data-toc-modified-id=\"stack-&amp;-unstack-10\"><span class=\"toc-item-num\">10&nbsp;&nbsp;</span>stack &amp; unstack</a></span></li></ul></div>"
   ]
  },
  {
   "cell_type": "markdown",
   "metadata": {},
   "source": [
    "# [AI 오픈 이노베이션] 기본 저녁반<a class=\"tocSkip\">\n",
    "GitHub link: <a href=\"https://github.com/realblack0/ai_lecture_fundamental\">here</a>  \n",
    "E-Mail: realblack0@gmail.com"
   ]
  },
  {
   "cell_type": "markdown",
   "metadata": {},
   "source": [
    "## boolean indexing"
   ]
  },
  {
   "cell_type": "code",
   "execution_count": 1,
   "metadata": {},
   "outputs": [],
   "source": [
    "import pandas as pd"
   ]
  },
  {
   "cell_type": "code",
   "execution_count": 2,
   "metadata": {},
   "outputs": [],
   "source": [
    "s = pd.Series(range(-3, 4))"
   ]
  },
  {
   "cell_type": "markdown",
   "metadata": {},
   "source": [
    "`Series`객체는 비교연산자를 사용할 수 있고 broadcasting이 지원된다."
   ]
  },
  {
   "cell_type": "code",
   "execution_count": 3,
   "metadata": {},
   "outputs": [
    {
     "data": {
      "text/plain": [
       "0    False\n",
       "1    False\n",
       "2    False\n",
       "3    False\n",
       "4    False\n",
       "5     True\n",
       "6     True\n",
       "dtype: bool"
      ]
     },
     "execution_count": 3,
     "metadata": {},
     "output_type": "execute_result"
    }
   ],
   "source": [
    "s > 1"
   ]
  },
  {
   "cell_type": "markdown",
   "metadata": {},
   "source": [
    "boolean indexing은 numpy에 있는 기능을 그대로 사용한 것이다."
   ]
  },
  {
   "cell_type": "code",
   "execution_count": 4,
   "metadata": {},
   "outputs": [],
   "source": [
    "import numpy as np"
   ]
  },
  {
   "cell_type": "code",
   "execution_count": 168,
   "metadata": {},
   "outputs": [],
   "source": [
    "a = np.arange(-3, 4)"
   ]
  },
  {
   "cell_type": "code",
   "execution_count": 169,
   "metadata": {},
   "outputs": [
    {
     "data": {
      "text/plain": [
       "array([False, False, False, False, False,  True,  True])"
      ]
     },
     "execution_count": 169,
     "metadata": {},
     "output_type": "execute_result"
    }
   ],
   "source": [
    "a > 1"
   ]
  },
  {
   "cell_type": "code",
   "execution_count": 170,
   "metadata": {},
   "outputs": [
    {
     "data": {
      "text/plain": [
       "array([2, 3])"
      ]
     },
     "execution_count": 170,
     "metadata": {},
     "output_type": "execute_result"
    }
   ],
   "source": [
    "a[a>1]"
   ]
  },
  {
   "cell_type": "markdown",
   "metadata": {},
   "source": [
    "원소 갯수를 맞춰서 True, False를 직접 입력해도 된다.  \n",
    "True, False를 리스트로 묶어서 대괄호 안에 넣어야한다."
   ]
  },
  {
   "cell_type": "code",
   "execution_count": 175,
   "metadata": {},
   "outputs": [
    {
     "data": {
      "text/plain": [
       "array([2, 3])"
      ]
     },
     "execution_count": 175,
     "metadata": {},
     "output_type": "execute_result"
    }
   ],
   "source": [
    "a[[False, False, False, False, False, True, True]]"
   ]
  },
  {
   "cell_type": "markdown",
   "metadata": {},
   "source": [
    "리스트보다는 array로 넣는 것이 가독성이 좋다."
   ]
  },
  {
   "cell_type": "code",
   "execution_count": 366,
   "metadata": {},
   "outputs": [
    {
     "ename": "TypeError",
     "evalue": "only integer scalar arrays can be converted to a scalar index",
     "output_type": "error",
     "traceback": [
      "\u001b[1;31m---------------------------------------------------------------------------\u001b[0m",
      "\u001b[1;31mTypeError\u001b[0m                                 Traceback (most recent call last)",
      "\u001b[1;32m<ipython-input-366-a9ce9b2b55e6>\u001b[0m in \u001b[0;36m<module>\u001b[1;34m\u001b[0m\n\u001b[1;32m----> 1\u001b[1;33m \u001b[0ma\u001b[0m\u001b[1;33m[\u001b[0m\u001b[0mnp\u001b[0m\u001b[1;33m.\u001b[0m\u001b[0marray\u001b[0m\u001b[1;33m(\u001b[0m\u001b[1;33m[\u001b[0m\u001b[1;32mFalse\u001b[0m\u001b[1;33m,\u001b[0m \u001b[1;32mFalse\u001b[0m\u001b[1;33m,\u001b[0m \u001b[1;32mFalse\u001b[0m\u001b[1;33m,\u001b[0m \u001b[1;32mFalse\u001b[0m\u001b[1;33m,\u001b[0m \u001b[1;32mFalse\u001b[0m\u001b[1;33m,\u001b[0m \u001b[1;32mTrue\u001b[0m\u001b[1;33m,\u001b[0m \u001b[1;32mTrue\u001b[0m\u001b[1;33m]\u001b[0m\u001b[1;33m)\u001b[0m\u001b[1;33m]\u001b[0m\u001b[1;33m\u001b[0m\u001b[1;33m\u001b[0m\u001b[0m\n\u001b[0m",
      "\u001b[1;31mTypeError\u001b[0m: only integer scalar arrays can be converted to a scalar index"
     ]
    }
   ],
   "source": [
    "a[np.array([False, False, False, False, False, True, True])]"
   ]
  },
  {
   "cell_type": "markdown",
   "metadata": {},
   "source": [
    "boolean indexing할 때, 조건이 2개 이상이면 괄호를 쳐야한다."
   ]
  },
  {
   "cell_type": "code",
   "execution_count": 12,
   "metadata": {},
   "outputs": [
    {
     "data": {
      "text/plain": [
       "4    1\n",
       "5    2\n",
       "6    3\n",
       "dtype: int64"
      ]
     },
     "execution_count": 12,
     "metadata": {},
     "output_type": "execute_result"
    }
   ],
   "source": [
    "s[(s > 0) & (s < 5)] # &는 and 논리 연산자"
   ]
  },
  {
   "cell_type": "markdown",
   "metadata": {},
   "source": [
    "list comprehension을 활용하여 boolean indexing 할 수 있다."
   ]
  },
  {
   "cell_type": "code",
   "execution_count": 13,
   "metadata": {},
   "outputs": [],
   "source": [
    "df2 = pd.DataFrame({'a': ['one', 'one', 'two', 'three', 'two', 'one', 'six'],\n",
    "                    'b': ['x', 'y', 'y', 'x', 'y', 'x', 'x'],\n",
    "                    'c': np.random.randn(7)})"
   ]
  },
  {
   "cell_type": "code",
   "execution_count": 14,
   "metadata": {},
   "outputs": [
    {
     "data": {
      "text/html": [
       "<div>\n",
       "<style scoped>\n",
       "    .dataframe tbody tr th:only-of-type {\n",
       "        vertical-align: middle;\n",
       "    }\n",
       "\n",
       "    .dataframe tbody tr th {\n",
       "        vertical-align: top;\n",
       "    }\n",
       "\n",
       "    .dataframe thead th {\n",
       "        text-align: right;\n",
       "    }\n",
       "</style>\n",
       "<table border=\"1\" class=\"dataframe\">\n",
       "  <thead>\n",
       "    <tr style=\"text-align: right;\">\n",
       "      <th></th>\n",
       "      <th>a</th>\n",
       "      <th>b</th>\n",
       "      <th>c</th>\n",
       "    </tr>\n",
       "  </thead>\n",
       "  <tbody>\n",
       "    <tr>\n",
       "      <th>2</th>\n",
       "      <td>two</td>\n",
       "      <td>y</td>\n",
       "      <td>-1.441884</td>\n",
       "    </tr>\n",
       "    <tr>\n",
       "      <th>3</th>\n",
       "      <td>three</td>\n",
       "      <td>x</td>\n",
       "      <td>-0.084180</td>\n",
       "    </tr>\n",
       "    <tr>\n",
       "      <th>4</th>\n",
       "      <td>two</td>\n",
       "      <td>y</td>\n",
       "      <td>0.023655</td>\n",
       "    </tr>\n",
       "  </tbody>\n",
       "</table>\n",
       "</div>"
      ],
      "text/plain": [
       "       a  b         c\n",
       "2    two  y -1.441884\n",
       "3  three  x -0.084180\n",
       "4    two  y  0.023655"
      ]
     },
     "execution_count": 14,
     "metadata": {},
     "output_type": "execute_result"
    }
   ],
   "source": [
    "df2[[x.startswith('t') for x in df2['a']]]"
   ]
  },
  {
   "cell_type": "markdown",
   "metadata": {},
   "source": [
    "## predicate"
   ]
  },
  {
   "cell_type": "markdown",
   "metadata": {},
   "source": [
    "3총사  : boolean 인덱싱과 function으로 다 만들 수 있다.\n",
    "- isin\n",
    "- where & mask\n",
    "- query"
   ]
  },
  {
   "cell_type": "markdown",
   "metadata": {
    "heading_collapsed": true
   },
   "source": [
    "### isin\n",
    "- 데이터의 값이 주어진 어떤 값들에 속하는지 판별한다.\n",
    "- 많이 사용하는 기능 중 하나이며, or을 대체할 수 있다.  "
   ]
  },
  {
   "cell_type": "markdown",
   "metadata": {
    "hidden": true
   },
   "source": [
    "pandas의 `isin`은 numpy의 `isin` 함수를 이용하였다.  \n",
    "단, numpy의 `isin`은 함수이고, pandas의 `isin`은 메소드이므로 혼동하지 않도록 주의한다.\n",
    "- `np.isin()` : 함수\n",
    "- `series.isin()` or `dataframe.isin()` : 메소드"
   ]
  },
  {
   "cell_type": "code",
   "execution_count": 180,
   "metadata": {
    "hidden": true
   },
   "outputs": [
    {
     "data": {
      "text/plain": [
       "array([False, False,  True,  True,  True,  True, False])"
      ]
     },
     "execution_count": 180,
     "metadata": {},
     "output_type": "execute_result"
    }
   ],
   "source": [
    "np.isin(a, [-1, 0, 1, 2])"
   ]
  },
  {
   "cell_type": "code",
   "execution_count": 15,
   "metadata": {
    "hidden": true
   },
   "outputs": [
    {
     "data": {
      "text/plain": [
       "0    False\n",
       "1    False\n",
       "2    False\n",
       "3    False\n",
       "4     True\n",
       "5     True\n",
       "6    False\n",
       "dtype: bool"
      ]
     },
     "execution_count": 15,
     "metadata": {},
     "output_type": "execute_result"
    }
   ],
   "source": [
    "s.isin([1,2])"
   ]
  },
  {
   "cell_type": "markdown",
   "metadata": {
    "hidden": true
   },
   "source": [
    "`isin`은 python의 멤버십 체크 키워드 `in`과 유사하다."
   ]
  },
  {
   "cell_type": "code",
   "execution_count": 181,
   "metadata": {
    "hidden": true
   },
   "outputs": [
    {
     "data": {
      "text/plain": [
       "True"
      ]
     },
     "execution_count": 181,
     "metadata": {},
     "output_type": "execute_result"
    }
   ],
   "source": [
    "1 in [0, 1, 2, 3, 4]"
   ]
  },
  {
   "cell_type": "markdown",
   "metadata": {
    "hidden": true
   },
   "source": [
    "tips 데이터셋에서 `isin`을 다음과 같이 사용할 수 있다."
   ]
  },
  {
   "cell_type": "code",
   "execution_count": 10,
   "metadata": {
    "hidden": true
   },
   "outputs": [],
   "source": [
    "import seaborn as sns"
   ]
  },
  {
   "cell_type": "code",
   "execution_count": 11,
   "metadata": {
    "hidden": true
   },
   "outputs": [],
   "source": [
    "tips = sns.load_dataset('tips')"
   ]
  },
  {
   "cell_type": "code",
   "execution_count": 19,
   "metadata": {
    "hidden": true
   },
   "outputs": [
    {
     "data": {
      "text/html": [
       "<div>\n",
       "<style scoped>\n",
       "    .dataframe tbody tr th:only-of-type {\n",
       "        vertical-align: middle;\n",
       "    }\n",
       "\n",
       "    .dataframe tbody tr th {\n",
       "        vertical-align: top;\n",
       "    }\n",
       "\n",
       "    .dataframe thead th {\n",
       "        text-align: right;\n",
       "    }\n",
       "</style>\n",
       "<table border=\"1\" class=\"dataframe\">\n",
       "  <thead>\n",
       "    <tr style=\"text-align: right;\">\n",
       "      <th></th>\n",
       "      <th>total_bill</th>\n",
       "      <th>tip</th>\n",
       "      <th>sex</th>\n",
       "      <th>smoker</th>\n",
       "      <th>day</th>\n",
       "      <th>time</th>\n",
       "      <th>size</th>\n",
       "    </tr>\n",
       "  </thead>\n",
       "  <tbody>\n",
       "    <tr>\n",
       "      <th>0</th>\n",
       "      <td>16.99</td>\n",
       "      <td>1.01</td>\n",
       "      <td>Female</td>\n",
       "      <td>No</td>\n",
       "      <td>Sun</td>\n",
       "      <td>Dinner</td>\n",
       "      <td>2</td>\n",
       "    </tr>\n",
       "    <tr>\n",
       "      <th>1</th>\n",
       "      <td>10.34</td>\n",
       "      <td>1.66</td>\n",
       "      <td>Male</td>\n",
       "      <td>No</td>\n",
       "      <td>Sun</td>\n",
       "      <td>Dinner</td>\n",
       "      <td>3</td>\n",
       "    </tr>\n",
       "    <tr>\n",
       "      <th>2</th>\n",
       "      <td>21.01</td>\n",
       "      <td>3.50</td>\n",
       "      <td>Male</td>\n",
       "      <td>No</td>\n",
       "      <td>Sun</td>\n",
       "      <td>Dinner</td>\n",
       "      <td>3</td>\n",
       "    </tr>\n",
       "    <tr>\n",
       "      <th>3</th>\n",
       "      <td>23.68</td>\n",
       "      <td>3.31</td>\n",
       "      <td>Male</td>\n",
       "      <td>No</td>\n",
       "      <td>Sun</td>\n",
       "      <td>Dinner</td>\n",
       "      <td>2</td>\n",
       "    </tr>\n",
       "    <tr>\n",
       "      <th>4</th>\n",
       "      <td>24.59</td>\n",
       "      <td>3.61</td>\n",
       "      <td>Female</td>\n",
       "      <td>No</td>\n",
       "      <td>Sun</td>\n",
       "      <td>Dinner</td>\n",
       "      <td>4</td>\n",
       "    </tr>\n",
       "    <tr>\n",
       "      <th>...</th>\n",
       "      <td>...</td>\n",
       "      <td>...</td>\n",
       "      <td>...</td>\n",
       "      <td>...</td>\n",
       "      <td>...</td>\n",
       "      <td>...</td>\n",
       "      <td>...</td>\n",
       "    </tr>\n",
       "    <tr>\n",
       "      <th>238</th>\n",
       "      <td>35.83</td>\n",
       "      <td>4.67</td>\n",
       "      <td>Female</td>\n",
       "      <td>No</td>\n",
       "      <td>Sat</td>\n",
       "      <td>Dinner</td>\n",
       "      <td>3</td>\n",
       "    </tr>\n",
       "    <tr>\n",
       "      <th>239</th>\n",
       "      <td>29.03</td>\n",
       "      <td>5.92</td>\n",
       "      <td>Male</td>\n",
       "      <td>No</td>\n",
       "      <td>Sat</td>\n",
       "      <td>Dinner</td>\n",
       "      <td>3</td>\n",
       "    </tr>\n",
       "    <tr>\n",
       "      <th>240</th>\n",
       "      <td>27.18</td>\n",
       "      <td>2.00</td>\n",
       "      <td>Female</td>\n",
       "      <td>Yes</td>\n",
       "      <td>Sat</td>\n",
       "      <td>Dinner</td>\n",
       "      <td>2</td>\n",
       "    </tr>\n",
       "    <tr>\n",
       "      <th>241</th>\n",
       "      <td>22.67</td>\n",
       "      <td>2.00</td>\n",
       "      <td>Male</td>\n",
       "      <td>Yes</td>\n",
       "      <td>Sat</td>\n",
       "      <td>Dinner</td>\n",
       "      <td>2</td>\n",
       "    </tr>\n",
       "    <tr>\n",
       "      <th>242</th>\n",
       "      <td>17.82</td>\n",
       "      <td>1.75</td>\n",
       "      <td>Male</td>\n",
       "      <td>No</td>\n",
       "      <td>Sat</td>\n",
       "      <td>Dinner</td>\n",
       "      <td>2</td>\n",
       "    </tr>\n",
       "  </tbody>\n",
       "</table>\n",
       "<p>163 rows × 7 columns</p>\n",
       "</div>"
      ],
      "text/plain": [
       "     total_bill   tip     sex smoker  day    time  size\n",
       "0         16.99  1.01  Female     No  Sun  Dinner     2\n",
       "1         10.34  1.66    Male     No  Sun  Dinner     3\n",
       "2         21.01  3.50    Male     No  Sun  Dinner     3\n",
       "3         23.68  3.31    Male     No  Sun  Dinner     2\n",
       "4         24.59  3.61  Female     No  Sun  Dinner     4\n",
       "..          ...   ...     ...    ...  ...     ...   ...\n",
       "238       35.83  4.67  Female     No  Sat  Dinner     3\n",
       "239       29.03  5.92    Male     No  Sat  Dinner     3\n",
       "240       27.18  2.00  Female    Yes  Sat  Dinner     2\n",
       "241       22.67  2.00    Male    Yes  Sat  Dinner     2\n",
       "242       17.82  1.75    Male     No  Sat  Dinner     2\n",
       "\n",
       "[163 rows x 7 columns]"
      ]
     },
     "execution_count": 19,
     "metadata": {},
     "output_type": "execute_result"
    }
   ],
   "source": [
    "tips[tips.day.isin([\"Sun\", \"Sat\"])]  # 일요일, 토요일 데이터만 가져오기"
   ]
  },
  {
   "cell_type": "markdown",
   "metadata": {
    "heading_collapsed": true
   },
   "source": [
    "### where & mask"
   ]
  },
  {
   "cell_type": "markdown",
   "metadata": {
    "hidden": true
   },
   "source": [
    "`where`는 numpy의 `where`와 비슷하다. numpy는 index가 없기 때문에 `where`를 많이 쓴다.  \n",
    "`where`는 조건식을 인자로 받고, 조건이 True인 원소의 위치(index)를 반환한다."
   ]
  },
  {
   "cell_type": "code",
   "execution_count": 230,
   "metadata": {
    "hidden": true
   },
   "outputs": [],
   "source": [
    "a = np.array([1, 2, 3, 4, 1, 1, ])"
   ]
  },
  {
   "cell_type": "code",
   "execution_count": 231,
   "metadata": {
    "hidden": true
   },
   "outputs": [
    {
     "data": {
      "text/plain": [
       "(array([0, 4, 5], dtype=int64),)"
      ]
     },
     "execution_count": 231,
     "metadata": {},
     "output_type": "execute_result"
    }
   ],
   "source": [
    "np.where(a==1) # 값이 1인 원소의 위치"
   ]
  },
  {
   "cell_type": "markdown",
   "metadata": {
    "hidden": true
   },
   "source": [
    "`np.where`의 2번째, 3번째 인자는 optional이다.  \n",
    "2번째 인자는 조건이 True인 경우, 3번째 인자는 조건이 False인 경우에 대입될 값이다."
   ]
  },
  {
   "cell_type": "code",
   "execution_count": 233,
   "metadata": {
    "hidden": true
   },
   "outputs": [
    {
     "data": {
      "text/plain": [
       "array([ 0, -1, -1, -1,  0,  0])"
      ]
     },
     "execution_count": 233,
     "metadata": {},
     "output_type": "execute_result"
    }
   ],
   "source": [
    "np.where(a==1, 0, -1)"
   ]
  },
  {
   "cell_type": "markdown",
   "metadata": {
    "hidden": true
   },
   "source": [
    "list comprehension으로 위와 같은 결과를 만들 수 있다."
   ]
  },
  {
   "cell_type": "code",
   "execution_count": 31,
   "metadata": {
    "hidden": true
   },
   "outputs": [
    {
     "data": {
      "text/plain": [
       "[0, -1, -1, -1, 0, 0]"
      ]
     },
     "execution_count": 31,
     "metadata": {},
     "output_type": "execute_result"
    }
   ],
   "source": [
    "[0 if x==1 else -1 for x in a] "
   ]
  },
  {
   "cell_type": "markdown",
   "metadata": {
    "hidden": true
   },
   "source": [
    "pandas에서 `where`은 조건식을 인자로 받고 조건이 True이면 값을 그대로 반환하고, False이면 NaN(Not a Number)을 반환한다."
   ]
  },
  {
   "cell_type": "code",
   "execution_count": 34,
   "metadata": {
    "hidden": true
   },
   "outputs": [
    {
     "data": {
      "text/plain": [
       "0    NaN\n",
       "1    NaN\n",
       "2    NaN\n",
       "3    NaN\n",
       "4    1.0\n",
       "5    2.0\n",
       "6    3.0\n",
       "dtype: float64"
      ]
     },
     "execution_count": 34,
     "metadata": {},
     "output_type": "execute_result"
    }
   ],
   "source": [
    "s.where(s > 0)"
   ]
  },
  {
   "cell_type": "markdown",
   "metadata": {
    "hidden": true
   },
   "source": [
    "pandas의 `where`에서 2번째 파라미터(other)는 조건이 False일 때 대입할 값이다. (조건이 True일 때 값을 대체하는 것은 `mask`를 이용)"
   ]
  },
  {
   "cell_type": "code",
   "execution_count": 35,
   "metadata": {
    "hidden": true
   },
   "outputs": [
    {
     "data": {
      "text/plain": [
       "0    0\n",
       "1    0\n",
       "2    0\n",
       "3    0\n",
       "4    1\n",
       "5    2\n",
       "6    3\n",
       "dtype: int64"
      ]
     },
     "execution_count": 35,
     "metadata": {},
     "output_type": "execute_result"
    }
   ],
   "source": [
    "s.where(s > 0, 0)   # 조건이 안맞으면 0 (other 옵션)\n",
    "                    # 조건이 맞으면 자기자신"
   ]
  },
  {
   "cell_type": "markdown",
   "metadata": {
    "hidden": true
   },
   "source": [
    "pandas에는 pd.where은 없다. pandas는 numpy를 기반으로 했지만 numpy에서 불분명한 것은 고쳤다."
   ]
  },
  {
   "cell_type": "markdown",
   "metadata": {
    "hidden": true
   },
   "source": [
    "numpy의 `where`은 함수이고, pandas의 `where`은 메소드이므로 혼동하지 않도록 주의한다.\n",
    "- numpy\n",
    "    - np.where(a==0) : numpy에 있음 \n",
    "    - a.where(a==0) : numpy에 없음 (numpy에서는 모호한 표현이라고 생각함)\n",
    "- pandas\n",
    "    - pd.where(s==0) : pandas에 없음 (pandas에서는 모호한 표현이라고 생각함)\n",
    "    - s.where(s==0) : pandas에 있음"
   ]
  },
  {
   "cell_type": "code",
   "execution_count": null,
   "metadata": {
    "hidden": true
   },
   "outputs": [],
   "source": [
    "# 실행하면 Error\n",
    "pd.where(s > 0)"
   ]
  },
  {
   "cell_type": "markdown",
   "metadata": {
    "hidden": true
   },
   "source": [
    "`mask`는 `where`와 반대이다. 조건식이 True이면 NaN, 조건이 False이면 그대로 둔다."
   ]
  },
  {
   "cell_type": "code",
   "execution_count": 37,
   "metadata": {
    "hidden": true
   },
   "outputs": [
    {
     "data": {
      "text/plain": [
       "0   -3.0\n",
       "1   -2.0\n",
       "2   -1.0\n",
       "3    0.0\n",
       "4    NaN\n",
       "5    NaN\n",
       "6    NaN\n",
       "dtype: float64"
      ]
     },
     "execution_count": 37,
     "metadata": {},
     "output_type": "execute_result"
    }
   ],
   "source": [
    "s.mask(s > 0)"
   ]
  },
  {
   "cell_type": "markdown",
   "metadata": {
    "heading_collapsed": true
   },
   "source": [
    "### query"
   ]
  },
  {
   "cell_type": "markdown",
   "metadata": {
    "hidden": true
   },
   "source": [
    "`query`는 문자열을 인풋으로 받는다. 첫번째 파라미터 expr은 expression의 준말이며, 보통 문자열을 받는다.  "
   ]
  },
  {
   "cell_type": "code",
   "execution_count": 38,
   "metadata": {
    "hidden": true
   },
   "outputs": [
    {
     "data": {
      "text/html": [
       "<div>\n",
       "<style scoped>\n",
       "    .dataframe tbody tr th:only-of-type {\n",
       "        vertical-align: middle;\n",
       "    }\n",
       "\n",
       "    .dataframe tbody tr th {\n",
       "        vertical-align: top;\n",
       "    }\n",
       "\n",
       "    .dataframe thead th {\n",
       "        text-align: right;\n",
       "    }\n",
       "</style>\n",
       "<table border=\"1\" class=\"dataframe\">\n",
       "  <thead>\n",
       "    <tr style=\"text-align: right;\">\n",
       "      <th></th>\n",
       "      <th>total_bill</th>\n",
       "      <th>tip</th>\n",
       "      <th>sex</th>\n",
       "      <th>smoker</th>\n",
       "      <th>day</th>\n",
       "      <th>time</th>\n",
       "      <th>size</th>\n",
       "    </tr>\n",
       "  </thead>\n",
       "  <tbody>\n",
       "    <tr>\n",
       "      <th>2</th>\n",
       "      <td>21.01</td>\n",
       "      <td>3.50</td>\n",
       "      <td>Male</td>\n",
       "      <td>No</td>\n",
       "      <td>Sun</td>\n",
       "      <td>Dinner</td>\n",
       "      <td>3</td>\n",
       "    </tr>\n",
       "    <tr>\n",
       "      <th>3</th>\n",
       "      <td>23.68</td>\n",
       "      <td>3.31</td>\n",
       "      <td>Male</td>\n",
       "      <td>No</td>\n",
       "      <td>Sun</td>\n",
       "      <td>Dinner</td>\n",
       "      <td>2</td>\n",
       "    </tr>\n",
       "    <tr>\n",
       "      <th>4</th>\n",
       "      <td>24.59</td>\n",
       "      <td>3.61</td>\n",
       "      <td>Female</td>\n",
       "      <td>No</td>\n",
       "      <td>Sun</td>\n",
       "      <td>Dinner</td>\n",
       "      <td>4</td>\n",
       "    </tr>\n",
       "    <tr>\n",
       "      <th>5</th>\n",
       "      <td>25.29</td>\n",
       "      <td>4.71</td>\n",
       "      <td>Male</td>\n",
       "      <td>No</td>\n",
       "      <td>Sun</td>\n",
       "      <td>Dinner</td>\n",
       "      <td>4</td>\n",
       "    </tr>\n",
       "    <tr>\n",
       "      <th>7</th>\n",
       "      <td>26.88</td>\n",
       "      <td>3.12</td>\n",
       "      <td>Male</td>\n",
       "      <td>No</td>\n",
       "      <td>Sun</td>\n",
       "      <td>Dinner</td>\n",
       "      <td>4</td>\n",
       "    </tr>\n",
       "    <tr>\n",
       "      <th>...</th>\n",
       "      <td>...</td>\n",
       "      <td>...</td>\n",
       "      <td>...</td>\n",
       "      <td>...</td>\n",
       "      <td>...</td>\n",
       "      <td>...</td>\n",
       "      <td>...</td>\n",
       "    </tr>\n",
       "    <tr>\n",
       "      <th>232</th>\n",
       "      <td>11.61</td>\n",
       "      <td>3.39</td>\n",
       "      <td>Male</td>\n",
       "      <td>No</td>\n",
       "      <td>Sat</td>\n",
       "      <td>Dinner</td>\n",
       "      <td>2</td>\n",
       "    </tr>\n",
       "    <tr>\n",
       "      <th>234</th>\n",
       "      <td>15.53</td>\n",
       "      <td>3.00</td>\n",
       "      <td>Male</td>\n",
       "      <td>Yes</td>\n",
       "      <td>Sat</td>\n",
       "      <td>Dinner</td>\n",
       "      <td>2</td>\n",
       "    </tr>\n",
       "    <tr>\n",
       "      <th>238</th>\n",
       "      <td>35.83</td>\n",
       "      <td>4.67</td>\n",
       "      <td>Female</td>\n",
       "      <td>No</td>\n",
       "      <td>Sat</td>\n",
       "      <td>Dinner</td>\n",
       "      <td>3</td>\n",
       "    </tr>\n",
       "    <tr>\n",
       "      <th>239</th>\n",
       "      <td>29.03</td>\n",
       "      <td>5.92</td>\n",
       "      <td>Male</td>\n",
       "      <td>No</td>\n",
       "      <td>Sat</td>\n",
       "      <td>Dinner</td>\n",
       "      <td>3</td>\n",
       "    </tr>\n",
       "    <tr>\n",
       "      <th>243</th>\n",
       "      <td>18.78</td>\n",
       "      <td>3.00</td>\n",
       "      <td>Female</td>\n",
       "      <td>No</td>\n",
       "      <td>Thur</td>\n",
       "      <td>Dinner</td>\n",
       "      <td>2</td>\n",
       "    </tr>\n",
       "  </tbody>\n",
       "</table>\n",
       "<p>166 rows × 7 columns</p>\n",
       "</div>"
      ],
      "text/plain": [
       "     total_bill   tip     sex smoker   day    time  size\n",
       "2         21.01  3.50    Male     No   Sun  Dinner     3\n",
       "3         23.68  3.31    Male     No   Sun  Dinner     2\n",
       "4         24.59  3.61  Female     No   Sun  Dinner     4\n",
       "5         25.29  4.71    Male     No   Sun  Dinner     4\n",
       "7         26.88  3.12    Male     No   Sun  Dinner     4\n",
       "..          ...   ...     ...    ...   ...     ...   ...\n",
       "232       11.61  3.39    Male     No   Sat  Dinner     2\n",
       "234       15.53  3.00    Male    Yes   Sat  Dinner     2\n",
       "238       35.83  4.67  Female     No   Sat  Dinner     3\n",
       "239       29.03  5.92    Male     No   Sat  Dinner     3\n",
       "243       18.78  3.00  Female     No  Thur  Dinner     2\n",
       "\n",
       "[166 rows x 7 columns]"
      ]
     },
     "execution_count": 38,
     "metadata": {},
     "output_type": "execute_result"
    }
   ],
   "source": [
    "tips.query('tip > 2') "
   ]
  },
  {
   "cell_type": "markdown",
   "metadata": {
    "hidden": true
   },
   "source": [
    "사용자 입력은 보통 문자열을 입력으로 받기 때문에 ui와 연동하기 좋다. `query`는 사용자 상호작용할 때 많이 사용한다."
   ]
  },
  {
   "cell_type": "code",
   "execution_count": 39,
   "metadata": {
    "hidden": true
   },
   "outputs": [
    {
     "name": "stdout",
     "output_type": "stream",
     "text": [
      "tip>0\n"
     ]
    },
    {
     "data": {
      "text/html": [
       "<div>\n",
       "<style scoped>\n",
       "    .dataframe tbody tr th:only-of-type {\n",
       "        vertical-align: middle;\n",
       "    }\n",
       "\n",
       "    .dataframe tbody tr th {\n",
       "        vertical-align: top;\n",
       "    }\n",
       "\n",
       "    .dataframe thead th {\n",
       "        text-align: right;\n",
       "    }\n",
       "</style>\n",
       "<table border=\"1\" class=\"dataframe\">\n",
       "  <thead>\n",
       "    <tr style=\"text-align: right;\">\n",
       "      <th></th>\n",
       "      <th>total_bill</th>\n",
       "      <th>tip</th>\n",
       "      <th>sex</th>\n",
       "      <th>smoker</th>\n",
       "      <th>day</th>\n",
       "      <th>time</th>\n",
       "      <th>size</th>\n",
       "    </tr>\n",
       "  </thead>\n",
       "  <tbody>\n",
       "    <tr>\n",
       "      <th>0</th>\n",
       "      <td>16.99</td>\n",
       "      <td>1.01</td>\n",
       "      <td>Female</td>\n",
       "      <td>No</td>\n",
       "      <td>Sun</td>\n",
       "      <td>Dinner</td>\n",
       "      <td>2</td>\n",
       "    </tr>\n",
       "    <tr>\n",
       "      <th>1</th>\n",
       "      <td>10.34</td>\n",
       "      <td>1.66</td>\n",
       "      <td>Male</td>\n",
       "      <td>No</td>\n",
       "      <td>Sun</td>\n",
       "      <td>Dinner</td>\n",
       "      <td>3</td>\n",
       "    </tr>\n",
       "    <tr>\n",
       "      <th>2</th>\n",
       "      <td>21.01</td>\n",
       "      <td>3.50</td>\n",
       "      <td>Male</td>\n",
       "      <td>No</td>\n",
       "      <td>Sun</td>\n",
       "      <td>Dinner</td>\n",
       "      <td>3</td>\n",
       "    </tr>\n",
       "    <tr>\n",
       "      <th>3</th>\n",
       "      <td>23.68</td>\n",
       "      <td>3.31</td>\n",
       "      <td>Male</td>\n",
       "      <td>No</td>\n",
       "      <td>Sun</td>\n",
       "      <td>Dinner</td>\n",
       "      <td>2</td>\n",
       "    </tr>\n",
       "    <tr>\n",
       "      <th>4</th>\n",
       "      <td>24.59</td>\n",
       "      <td>3.61</td>\n",
       "      <td>Female</td>\n",
       "      <td>No</td>\n",
       "      <td>Sun</td>\n",
       "      <td>Dinner</td>\n",
       "      <td>4</td>\n",
       "    </tr>\n",
       "    <tr>\n",
       "      <th>...</th>\n",
       "      <td>...</td>\n",
       "      <td>...</td>\n",
       "      <td>...</td>\n",
       "      <td>...</td>\n",
       "      <td>...</td>\n",
       "      <td>...</td>\n",
       "      <td>...</td>\n",
       "    </tr>\n",
       "    <tr>\n",
       "      <th>239</th>\n",
       "      <td>29.03</td>\n",
       "      <td>5.92</td>\n",
       "      <td>Male</td>\n",
       "      <td>No</td>\n",
       "      <td>Sat</td>\n",
       "      <td>Dinner</td>\n",
       "      <td>3</td>\n",
       "    </tr>\n",
       "    <tr>\n",
       "      <th>240</th>\n",
       "      <td>27.18</td>\n",
       "      <td>2.00</td>\n",
       "      <td>Female</td>\n",
       "      <td>Yes</td>\n",
       "      <td>Sat</td>\n",
       "      <td>Dinner</td>\n",
       "      <td>2</td>\n",
       "    </tr>\n",
       "    <tr>\n",
       "      <th>241</th>\n",
       "      <td>22.67</td>\n",
       "      <td>2.00</td>\n",
       "      <td>Male</td>\n",
       "      <td>Yes</td>\n",
       "      <td>Sat</td>\n",
       "      <td>Dinner</td>\n",
       "      <td>2</td>\n",
       "    </tr>\n",
       "    <tr>\n",
       "      <th>242</th>\n",
       "      <td>17.82</td>\n",
       "      <td>1.75</td>\n",
       "      <td>Male</td>\n",
       "      <td>No</td>\n",
       "      <td>Sat</td>\n",
       "      <td>Dinner</td>\n",
       "      <td>2</td>\n",
       "    </tr>\n",
       "    <tr>\n",
       "      <th>243</th>\n",
       "      <td>18.78</td>\n",
       "      <td>3.00</td>\n",
       "      <td>Female</td>\n",
       "      <td>No</td>\n",
       "      <td>Thur</td>\n",
       "      <td>Dinner</td>\n",
       "      <td>2</td>\n",
       "    </tr>\n",
       "  </tbody>\n",
       "</table>\n",
       "<p>244 rows × 7 columns</p>\n",
       "</div>"
      ],
      "text/plain": [
       "     total_bill   tip     sex smoker   day    time  size\n",
       "0         16.99  1.01  Female     No   Sun  Dinner     2\n",
       "1         10.34  1.66    Male     No   Sun  Dinner     3\n",
       "2         21.01  3.50    Male     No   Sun  Dinner     3\n",
       "3         23.68  3.31    Male     No   Sun  Dinner     2\n",
       "4         24.59  3.61  Female     No   Sun  Dinner     4\n",
       "..          ...   ...     ...    ...   ...     ...   ...\n",
       "239       29.03  5.92    Male     No   Sat  Dinner     3\n",
       "240       27.18  2.00  Female    Yes   Sat  Dinner     2\n",
       "241       22.67  2.00    Male    Yes   Sat  Dinner     2\n",
       "242       17.82  1.75    Male     No   Sat  Dinner     2\n",
       "243       18.78  3.00  Female     No  Thur  Dinner     2\n",
       "\n",
       "[244 rows x 7 columns]"
      ]
     },
     "execution_count": 39,
     "metadata": {},
     "output_type": "execute_result"
    }
   ],
   "source": [
    "# input -> 문자열\n",
    "a = input()\n",
    "tips.query(a)"
   ]
  },
  {
   "cell_type": "markdown",
   "metadata": {
    "heading_collapsed": true
   },
   "source": [
    "## pandas etc"
   ]
  },
  {
   "cell_type": "markdown",
   "metadata": {
    "heading_collapsed": true,
    "hidden": true
   },
   "source": [
    "### 데이터 생성 : from과 as\n",
    "- from: 다른 포맷으로부터 데이터를 생성\n",
    "- as: 같은 포맷으로부터 데이터를 생성"
   ]
  },
  {
   "cell_type": "markdown",
   "metadata": {
    "hidden": true
   },
   "source": [
    "이름에 'from'이 붙으면 다른 포맷으로부터 데이터를 생성한다.  \n",
    "예를 들어 numpy의 `fromarray`는 문자열로부터 ndarray를 만든다."
   ]
  },
  {
   "cell_type": "code",
   "execution_count": 41,
   "metadata": {
    "hidden": true
   },
   "outputs": [],
   "source": [
    "a = np.fromstring('1,2,3', sep=\",\") # sep은 구분자"
   ]
  },
  {
   "cell_type": "code",
   "execution_count": 42,
   "metadata": {
    "hidden": true
   },
   "outputs": [
    {
     "data": {
      "text/plain": [
       "array([1., 2., 3.])"
      ]
     },
     "execution_count": 42,
     "metadata": {},
     "output_type": "execute_result"
    }
   ],
   "source": [
    "a"
   ]
  },
  {
   "cell_type": "markdown",
   "metadata": {
    "hidden": true
   },
   "source": [
    "`sep` 옵션은 pandas의 `read_csv`에서도 사용한 적이 있다.  \n",
    "`sep`을 기준으로 데이터를 구분한다. 비슷한 옵션으로는 `delimiter` 등이 있다."
   ]
  },
  {
   "cell_type": "code",
   "execution_count": 255,
   "metadata": {
    "hidden": true
   },
   "outputs": [
    {
     "data": {
      "text/html": [
       "<div>\n",
       "<style scoped>\n",
       "    .dataframe tbody tr th:only-of-type {\n",
       "        vertical-align: middle;\n",
       "    }\n",
       "\n",
       "    .dataframe tbody tr th {\n",
       "        vertical-align: top;\n",
       "    }\n",
       "\n",
       "    .dataframe thead th {\n",
       "        text-align: right;\n",
       "    }\n",
       "</style>\n",
       "<table border=\"1\" class=\"dataframe\">\n",
       "  <thead>\n",
       "    <tr style=\"text-align: right;\">\n",
       "      <th></th>\n",
       "      <th>1</th>\n",
       "      <th>2</th>\n",
       "      <th>3</th>\n",
       "      <th>4</th>\n",
       "    </tr>\n",
       "  </thead>\n",
       "  <tbody>\n",
       "    <tr>\n",
       "      <th>0</th>\n",
       "      <td>5</td>\n",
       "      <td>6</td>\n",
       "      <td>7</td>\n",
       "      <td>8</td>\n",
       "    </tr>\n",
       "  </tbody>\n",
       "</table>\n",
       "</div>"
      ],
      "text/plain": [
       "   1  2  3  4\n",
       "0  5  6  7  8"
      ]
     },
     "execution_count": 255,
     "metadata": {},
     "output_type": "execute_result"
    }
   ],
   "source": [
    "pd.read_csv(\"sun.csv\", sep=\",\") "
   ]
  },
  {
   "cell_type": "markdown",
   "metadata": {
    "hidden": true
   },
   "source": [
    "이름에 'as'가 붙으면 같은 포맷으로부터 데이터를 생성한다.  \n",
    "예를 들어 numpy의 `asarray`는 같은 ndarray 포맷 데이터로부터 ndarray를 생성한다."
   ]
  },
  {
   "cell_type": "code",
   "execution_count": 44,
   "metadata": {
    "hidden": true
   },
   "outputs": [],
   "source": [
    "b = np.asarray(a) # numpy로부터 만듦"
   ]
  },
  {
   "cell_type": "code",
   "execution_count": 45,
   "metadata": {
    "hidden": true
   },
   "outputs": [
    {
     "data": {
      "text/plain": [
       "array([1., 2., 3.])"
      ]
     },
     "execution_count": 45,
     "metadata": {},
     "output_type": "execute_result"
    }
   ],
   "source": [
    "b"
   ]
  },
  {
   "cell_type": "markdown",
   "metadata": {
    "hidden": true
   },
   "source": [
    "pandas에서 다른 포맷으로부터 데이터를 만드는 방법 중 하나는 `from_dict`가 있다. \n",
    "`from_dict`은 `DataFrame`에서 사용하는 class method이다. pandas에서는 class method를 이용해서 값을 많이 만든다."
   ]
  },
  {
   "cell_type": "code",
   "execution_count": 48,
   "metadata": {
    "hidden": true
   },
   "outputs": [
    {
     "data": {
      "text/html": [
       "<div>\n",
       "<style scoped>\n",
       "    .dataframe tbody tr th:only-of-type {\n",
       "        vertical-align: middle;\n",
       "    }\n",
       "\n",
       "    .dataframe tbody tr th {\n",
       "        vertical-align: top;\n",
       "    }\n",
       "\n",
       "    .dataframe thead th {\n",
       "        text-align: right;\n",
       "    }\n",
       "</style>\n",
       "<table border=\"1\" class=\"dataframe\">\n",
       "  <thead>\n",
       "    <tr style=\"text-align: right;\">\n",
       "      <th></th>\n",
       "      <th>a</th>\n",
       "      <th>b</th>\n",
       "    </tr>\n",
       "  </thead>\n",
       "  <tbody>\n",
       "    <tr>\n",
       "      <th>0</th>\n",
       "      <td>1</td>\n",
       "      <td>2</td>\n",
       "    </tr>\n",
       "    <tr>\n",
       "      <th>1</th>\n",
       "      <td>2</td>\n",
       "      <td>3</td>\n",
       "    </tr>\n",
       "    <tr>\n",
       "      <th>2</th>\n",
       "      <td>3</td>\n",
       "      <td>4</td>\n",
       "    </tr>\n",
       "  </tbody>\n",
       "</table>\n",
       "</div>"
      ],
      "text/plain": [
       "   a  b\n",
       "0  1  2\n",
       "1  2  3\n",
       "2  3  4"
      ]
     },
     "execution_count": 48,
     "metadata": {},
     "output_type": "execute_result"
    }
   ],
   "source": [
    "pd.DataFrame.from_dict({\"a\": [1, 2, 3], \"b\": [2, 3, 4]})"
   ]
  },
  {
   "cell_type": "markdown",
   "metadata": {
    "hidden": true
   },
   "source": [
    "### get과 lookup"
   ]
  },
  {
   "cell_type": "markdown",
   "metadata": {
    "hidden": true
   },
   "source": [
    "`get`은 pandas에서는 안 중요하지만 python에서 중요하다."
   ]
  },
  {
   "cell_type": "code",
   "execution_count": 263,
   "metadata": {
    "hidden": true
   },
   "outputs": [],
   "source": [
    "a = {'a': 1, 'b': 2}"
   ]
  },
  {
   "cell_type": "markdown",
   "metadata": {
    "hidden": true
   },
   "source": [
    "`get`은 딕셔너리에서 key로 value를 호출하는 메소드이다."
   ]
  },
  {
   "cell_type": "code",
   "execution_count": 51,
   "metadata": {
    "hidden": true
   },
   "outputs": [
    {
     "data": {
      "text/plain": [
       "1"
      ]
     },
     "execution_count": 51,
     "metadata": {},
     "output_type": "execute_result"
    }
   ],
   "source": [
    "a.get('a')"
   ]
  },
  {
   "cell_type": "markdown",
   "metadata": {
    "hidden": true
   },
   "source": [
    "`get`의 가장 큰 특징은 key 에러가 나지 않는다는 것이다."
   ]
  },
  {
   "cell_type": "code",
   "execution_count": 52,
   "metadata": {
    "hidden": true
   },
   "outputs": [],
   "source": [
    "a.get('e')"
   ]
  },
  {
   "cell_type": "markdown",
   "metadata": {
    "hidden": true
   },
   "source": [
    "딕셔너리에 해당하는 key가 없으면 두번째 인자(defalut)를 반환한다."
   ]
  },
  {
   "cell_type": "code",
   "execution_count": 53,
   "metadata": {
    "hidden": true
   },
   "outputs": [
    {
     "data": {
      "text/plain": [
       "2"
      ]
     },
     "execution_count": 53,
     "metadata": {},
     "output_type": "execute_result"
    }
   ],
   "source": [
    "a.get('e', 2) # default 파라미터의 기본값은 None"
   ]
  },
  {
   "cell_type": "markdown",
   "metadata": {
    "hidden": true
   },
   "source": [
    "pandas에서도 `get`을 쓸 수 있다."
   ]
  },
  {
   "cell_type": "code",
   "execution_count": 270,
   "metadata": {
    "hidden": true
   },
   "outputs": [],
   "source": [
    "s = pd.Series([1, 2, 3], index=['a', 'b', 'c'])"
   ]
  },
  {
   "cell_type": "code",
   "execution_count": 271,
   "metadata": {
    "hidden": true
   },
   "outputs": [
    {
     "data": {
      "text/plain": [
       "1"
      ]
     },
     "execution_count": 271,
     "metadata": {},
     "output_type": "execute_result"
    }
   ],
   "source": [
    "s.get('a')  # s['a'] 와 같음"
   ]
  },
  {
   "cell_type": "code",
   "execution_count": 272,
   "metadata": {
    "hidden": true
   },
   "outputs": [
    {
     "data": {
      "text/plain": [
       "-1"
      ]
     },
     "execution_count": 272,
     "metadata": {},
     "output_type": "execute_result"
    }
   ],
   "source": [
    "s.get('x', default=-1) # default 파라미터로 key가 없을때 반환 값을 지정 가능"
   ]
  },
  {
   "cell_type": "markdown",
   "metadata": {
    "hidden": true
   },
   "source": [
    "`lookup`은 특정 행과 특정 열에 있는 값을 여러개 뽑을 때 사용한다. 첫번째 인자로는 특정 행 이름들, 두번째 인자로는 특정 열 이름들이 전달된다. 이때, 같은 순번의 행과 열이 하나의 값을 뽑는다. 그러므로 입력되는 행 리스트와 열 리스트는 길이가 같아야한다.  \n",
    "`lookup`은 ndarray를 반환하는 특징이 있다."
   ]
  },
  {
   "cell_type": "code",
   "execution_count": 273,
   "metadata": {
    "hidden": true
   },
   "outputs": [],
   "source": [
    "dflookup = pd.DataFrame(np.random.rand(20, 4), columns = ['A', 'B', 'C', 'D'])"
   ]
  },
  {
   "cell_type": "code",
   "execution_count": 274,
   "metadata": {
    "hidden": true
   },
   "outputs": [
    {
     "data": {
      "text/plain": [
       "array([0.9390347 , 0.56257343, 0.8989444 , 0.40627528, 0.93886907])"
      ]
     },
     "execution_count": 274,
     "metadata": {},
     "output_type": "execute_result"
    }
   ],
   "source": [
    "dflookup.lookup(list(range(0, 10, 2)), ['B', 'C', 'A', 'B', 'D'])"
   ]
  },
  {
   "cell_type": "markdown",
   "metadata": {
    "hidden": true
   },
   "source": [
    "`dflookup`의 결과를 list comprehension으로 만들 수 있다."
   ]
  },
  {
   "cell_type": "code",
   "execution_count": 280,
   "metadata": {
    "hidden": true
   },
   "outputs": [
    {
     "data": {
      "text/plain": [
       "[0.9390347021440408,\n",
       " 0.5625734276398093,\n",
       " 0.8989443989532158,\n",
       " 0.40627528161336113,\n",
       " 0.9388690702923359]"
      ]
     },
     "execution_count": 280,
     "metadata": {},
     "output_type": "execute_result"
    }
   ],
   "source": [
    "row_labels = list(range(0, 10, 2))\n",
    "col_labels = ['B', 'C', 'A', 'B', 'D']\n",
    "\n",
    "\n",
    "[dflookup.at[row, col] for row, col in zip(row_labels, col_labels)]"
   ]
  },
  {
   "cell_type": "markdown",
   "metadata": {
    "hidden": true
   },
   "source": [
    "### Index class"
   ]
  },
  {
   "cell_type": "markdown",
   "metadata": {
    "hidden": true
   },
   "source": [
    "`Index`는 인덱스 객체를 생성하며, 실제로는 거의 안 쓰는 기법이다."
   ]
  },
  {
   "cell_type": "code",
   "execution_count": 62,
   "metadata": {
    "hidden": true
   },
   "outputs": [],
   "source": [
    "ind = pd.Index([1,2,3,4,7])"
   ]
  },
  {
   "cell_type": "code",
   "execution_count": 287,
   "metadata": {
    "hidden": true
   },
   "outputs": [
    {
     "data": {
      "text/plain": [
       "Int64Index([1, 2, 3, 4, 7], dtype='int64')"
      ]
     },
     "execution_count": 287,
     "metadata": {},
     "output_type": "execute_result"
    }
   ],
   "source": [
    "ind"
   ]
  },
  {
   "cell_type": "markdown",
   "metadata": {
    "hidden": true
   },
   "source": [
    "DataFrame을 생성할 때 index 파라미터에 인덱스 객체를 넘겨준다."
   ]
  },
  {
   "cell_type": "code",
   "execution_count": 63,
   "metadata": {
    "hidden": true
   },
   "outputs": [],
   "source": [
    "a = pd.DataFrame({\"a\":[1,2,3,4,5]}, index=ind)"
   ]
  },
  {
   "cell_type": "code",
   "execution_count": 64,
   "metadata": {
    "hidden": true
   },
   "outputs": [
    {
     "data": {
      "text/html": [
       "<div>\n",
       "<style scoped>\n",
       "    .dataframe tbody tr th:only-of-type {\n",
       "        vertical-align: middle;\n",
       "    }\n",
       "\n",
       "    .dataframe tbody tr th {\n",
       "        vertical-align: top;\n",
       "    }\n",
       "\n",
       "    .dataframe thead th {\n",
       "        text-align: right;\n",
       "    }\n",
       "</style>\n",
       "<table border=\"1\" class=\"dataframe\">\n",
       "  <thead>\n",
       "    <tr style=\"text-align: right;\">\n",
       "      <th></th>\n",
       "      <th>a</th>\n",
       "    </tr>\n",
       "  </thead>\n",
       "  <tbody>\n",
       "    <tr>\n",
       "      <th>1</th>\n",
       "      <td>1</td>\n",
       "    </tr>\n",
       "    <tr>\n",
       "      <th>2</th>\n",
       "      <td>2</td>\n",
       "    </tr>\n",
       "    <tr>\n",
       "      <th>3</th>\n",
       "      <td>3</td>\n",
       "    </tr>\n",
       "    <tr>\n",
       "      <th>4</th>\n",
       "      <td>4</td>\n",
       "    </tr>\n",
       "    <tr>\n",
       "      <th>7</th>\n",
       "      <td>5</td>\n",
       "    </tr>\n",
       "  </tbody>\n",
       "</table>\n",
       "</div>"
      ],
      "text/plain": [
       "   a\n",
       "1  1\n",
       "2  2\n",
       "3  3\n",
       "4  4\n",
       "7  5"
      ]
     },
     "execution_count": 64,
     "metadata": {},
     "output_type": "execute_result"
    }
   ],
   "source": [
    "a"
   ]
  },
  {
   "cell_type": "markdown",
   "metadata": {
    "hidden": true
   },
   "source": [
    "실제로 잘 안 쓰이는 이유는, DataFrame은 리스트를 입력하더라도 인덱스 객체로 자동변환하기 때문이다."
   ]
  },
  {
   "cell_type": "code",
   "execution_count": 275,
   "metadata": {
    "hidden": true
   },
   "outputs": [],
   "source": [
    "a = pd.DataFrame({\"a\":[1,2,3,4,5]}, index=[1,2,3,4,7])"
   ]
  },
  {
   "cell_type": "code",
   "execution_count": 276,
   "metadata": {
    "hidden": true
   },
   "outputs": [
    {
     "data": {
      "text/html": [
       "<div>\n",
       "<style scoped>\n",
       "    .dataframe tbody tr th:only-of-type {\n",
       "        vertical-align: middle;\n",
       "    }\n",
       "\n",
       "    .dataframe tbody tr th {\n",
       "        vertical-align: top;\n",
       "    }\n",
       "\n",
       "    .dataframe thead th {\n",
       "        text-align: right;\n",
       "    }\n",
       "</style>\n",
       "<table border=\"1\" class=\"dataframe\">\n",
       "  <thead>\n",
       "    <tr style=\"text-align: right;\">\n",
       "      <th></th>\n",
       "      <th>a</th>\n",
       "    </tr>\n",
       "  </thead>\n",
       "  <tbody>\n",
       "    <tr>\n",
       "      <th>1</th>\n",
       "      <td>1</td>\n",
       "    </tr>\n",
       "    <tr>\n",
       "      <th>2</th>\n",
       "      <td>2</td>\n",
       "    </tr>\n",
       "    <tr>\n",
       "      <th>3</th>\n",
       "      <td>3</td>\n",
       "    </tr>\n",
       "    <tr>\n",
       "      <th>4</th>\n",
       "      <td>4</td>\n",
       "    </tr>\n",
       "    <tr>\n",
       "      <th>7</th>\n",
       "      <td>5</td>\n",
       "    </tr>\n",
       "  </tbody>\n",
       "</table>\n",
       "</div>"
      ],
      "text/plain": [
       "   a\n",
       "1  1\n",
       "2  2\n",
       "3  3\n",
       "4  4\n",
       "7  5"
      ]
     },
     "execution_count": 276,
     "metadata": {},
     "output_type": "execute_result"
    }
   ],
   "source": [
    "a"
   ]
  },
  {
   "cell_type": "markdown",
   "metadata": {
    "hidden": true
   },
   "source": [
    "리스트를 입력해도 인덱스 객체로 자동 변환되는 이유는 composition 기법을 이용했기 때문이다.  \n",
    "**composition**\n",
    "- class를 instance할때 다른 애를 집어넣는다.  \n",
    "- 상속을 대신할 수 있다. => 복잡한 구조를 분리시킨다."
   ]
  },
  {
   "cell_type": "code",
   "execution_count": 290,
   "metadata": {
    "hidden": true
   },
   "outputs": [],
   "source": [
    "class A:\n",
    "    def __init__(self, a):\n",
    "        self.a = a\n",
    "    \n",
    "    def add(self, x):\n",
    "        print(\"A's add function\")\n",
    "        return self.a + x\n",
    "    \n",
    "class B:\n",
    "    def __init__(self, x):\n",
    "        self.x = A(x) # A의 인스턴스를 생성함\n",
    "        \n",
    "    def add(self, x):\n",
    "        return self.x.add(x) # A의 메소드를 실행함"
   ]
  },
  {
   "cell_type": "markdown",
   "metadata": {
    "hidden": true
   },
   "source": [
    "B의 add 메소드는 사실 A의 add 메소드를 실행하는 것이다."
   ]
  },
  {
   "cell_type": "code",
   "execution_count": 291,
   "metadata": {
    "hidden": true
   },
   "outputs": [
    {
     "name": "stdout",
     "output_type": "stream",
     "text": [
      "A's add function\n"
     ]
    },
    {
     "data": {
      "text/plain": [
       "5"
      ]
     },
     "execution_count": 291,
     "metadata": {},
     "output_type": "execute_result"
    }
   ],
   "source": [
    "b = B(2)\n",
    "b.add(3)"
   ]
  },
  {
   "cell_type": "markdown",
   "metadata": {},
   "source": [
    "## 상권정보 데이터(공공데이터)를 활용한 실습 "
   ]
  },
  {
   "cell_type": "markdown",
   "metadata": {},
   "source": [
    "**pandas는...**  \n",
    "- excel < programing excel + regular expression <= sql\n",
    "- 엑셀보다는 낫다. / 프로그래밍으로 하는 엑셀과 같다. / 정규표현식을 쓸 수 있다. / sql만큼 좋거나, sql보다는 조금 못하다."
   ]
  },
  {
   "cell_type": "markdown",
   "metadata": {},
   "source": [
    "데이터 다운로드 링크:  \n",
    "https://www.data.go.kr/dataset/15012005/fileData.do  \n",
    "  \n",
    "  \n",
    "파일이름을  a, b, c, d로 바꿔서 실습하였다."
   ]
  },
  {
   "cell_type": "code",
   "execution_count": 66,
   "metadata": {},
   "outputs": [],
   "source": [
    "import pandas as pd"
   ]
  },
  {
   "cell_type": "markdown",
   "metadata": {},
   "source": [
    "read_csv 에러날 때 tip:  \n",
    "- C 에러 -> engine=python\n",
    "- encoding 에러 -> encoding='utf-8'\n",
    "- 메모장으로 데이터 열기 -> 데이터에 ,가 있을 경우 -> sep='|' 옵션 사용하기 *( 콤마( , ) 대신 사용된 구분자)*"
   ]
  },
  {
   "cell_type": "code",
   "execution_count": 70,
   "metadata": {},
   "outputs": [],
   "source": [
    "data = pd.read_csv('a.csv', encoding='utf-8', engine='python', sep=\"|\")"
   ]
  },
  {
   "cell_type": "code",
   "execution_count": 72,
   "metadata": {},
   "outputs": [
    {
     "name": "stdout",
     "output_type": "stream",
     "text": [
      "<class 'pandas.core.frame.DataFrame'>\n",
      "RangeIndex: 573680 entries, 0 to 573679\n",
      "Data columns (total 39 columns):\n",
      "상가업소번호       573680 non-null int64\n",
      "상호명          573679 non-null object\n",
      "지점명          76674 non-null object\n",
      "상권업종대분류코드    573680 non-null object\n",
      "상권업종대분류명     573680 non-null object\n",
      "상권업종중분류코드    573680 non-null object\n",
      "상권업종중분류명     573680 non-null object\n",
      "상권업종소분류코드    573680 non-null object\n",
      "상권업종소분류명     573680 non-null object\n",
      "표준산업분류코드     539290 non-null object\n",
      "표준산업분류명      539290 non-null object\n",
      "시도코드         573680 non-null int64\n",
      "시도명          573680 non-null object\n",
      "시군구코드        573680 non-null int64\n",
      "시군구명         573680 non-null object\n",
      "행정동코드        573680 non-null int64\n",
      "행정동명         573680 non-null object\n",
      "법정동코드        573680 non-null int64\n",
      "법정동명         573680 non-null object\n",
      "지번코드         573680 non-null int64\n",
      "대지구분코드       573680 non-null int64\n",
      "대지구분명        573680 non-null object\n",
      "지번본번지        573680 non-null int64\n",
      "지번부번지        474924 non-null float64\n",
      "지번주소         573680 non-null object\n",
      "도로명코드        573680 non-null int64\n",
      "도로명          573680 non-null object\n",
      "건물본번지        573680 non-null int64\n",
      "건물부번지        71988 non-null float64\n",
      "건물관리번호       573680 non-null object\n",
      "건물명          265608 non-null object\n",
      "도로명주소        573680 non-null object\n",
      "구우편번호        573680 non-null int64\n",
      "신우편번호        573671 non-null float64\n",
      "동정보          50856 non-null object\n",
      "층정보          347127 non-null object\n",
      "호정보          85266 non-null object\n",
      "경도           573680 non-null float64\n",
      "위도           573680 non-null float64\n",
      "dtypes: float64(5), int64(11), object(23)\n",
      "memory usage: 170.7+ MB\n"
     ]
    }
   ],
   "source": [
    "data.info()"
   ]
  },
  {
   "cell_type": "markdown",
   "metadata": {},
   "source": [
    "배운 내용을 바탕으로 유흥주점을 찾아보자."
   ]
  },
  {
   "cell_type": "code",
   "execution_count": 73,
   "metadata": {},
   "outputs": [
    {
     "data": {
      "text/html": [
       "<div>\n",
       "<style scoped>\n",
       "    .dataframe tbody tr th:only-of-type {\n",
       "        vertical-align: middle;\n",
       "    }\n",
       "\n",
       "    .dataframe tbody tr th {\n",
       "        vertical-align: top;\n",
       "    }\n",
       "\n",
       "    .dataframe thead th {\n",
       "        text-align: right;\n",
       "    }\n",
       "</style>\n",
       "<table border=\"1\" class=\"dataframe\">\n",
       "  <thead>\n",
       "    <tr style=\"text-align: right;\">\n",
       "      <th></th>\n",
       "      <th>상가업소번호</th>\n",
       "      <th>상호명</th>\n",
       "      <th>지점명</th>\n",
       "      <th>상권업종대분류코드</th>\n",
       "      <th>상권업종대분류명</th>\n",
       "      <th>상권업종중분류코드</th>\n",
       "      <th>상권업종중분류명</th>\n",
       "      <th>상권업종소분류코드</th>\n",
       "      <th>상권업종소분류명</th>\n",
       "      <th>표준산업분류코드</th>\n",
       "      <th>...</th>\n",
       "      <th>건물관리번호</th>\n",
       "      <th>건물명</th>\n",
       "      <th>도로명주소</th>\n",
       "      <th>구우편번호</th>\n",
       "      <th>신우편번호</th>\n",
       "      <th>동정보</th>\n",
       "      <th>층정보</th>\n",
       "      <th>호정보</th>\n",
       "      <th>경도</th>\n",
       "      <th>위도</th>\n",
       "    </tr>\n",
       "  </thead>\n",
       "  <tbody>\n",
       "    <tr>\n",
       "      <th>0</th>\n",
       "      <td>19905471</td>\n",
       "      <td>와라와라호프</td>\n",
       "      <td>NaN</td>\n",
       "      <td>Q</td>\n",
       "      <td>음식</td>\n",
       "      <td>Q09</td>\n",
       "      <td>유흥주점</td>\n",
       "      <td>Q09A01</td>\n",
       "      <td>호프/맥주</td>\n",
       "      <td>I56219</td>\n",
       "      <td>...</td>\n",
       "      <td>1168010600106040000014378</td>\n",
       "      <td>대치상가</td>\n",
       "      <td>서울특별시 강남구 남부순환로 2933</td>\n",
       "      <td>135280</td>\n",
       "      <td>6280.0</td>\n",
       "      <td>NaN</td>\n",
       "      <td>1</td>\n",
       "      <td>NaN</td>\n",
       "      <td>127.061026</td>\n",
       "      <td>37.493922</td>\n",
       "    </tr>\n",
       "    <tr>\n",
       "      <th>2</th>\n",
       "      <td>19911801</td>\n",
       "      <td>프로포즈</td>\n",
       "      <td>NaN</td>\n",
       "      <td>Q</td>\n",
       "      <td>음식</td>\n",
       "      <td>Q09</td>\n",
       "      <td>유흥주점</td>\n",
       "      <td>Q09A01</td>\n",
       "      <td>호프/맥주</td>\n",
       "      <td>I56219</td>\n",
       "      <td>...</td>\n",
       "      <td>1154510200101620001017748</td>\n",
       "      <td>NaN</td>\n",
       "      <td>서울특별시 금천구 가산로 34-6</td>\n",
       "      <td>153010</td>\n",
       "      <td>8545.0</td>\n",
       "      <td>NaN</td>\n",
       "      <td>1</td>\n",
       "      <td>NaN</td>\n",
       "      <td>126.899220</td>\n",
       "      <td>37.471711</td>\n",
       "    </tr>\n",
       "    <tr>\n",
       "      <th>31</th>\n",
       "      <td>20037352</td>\n",
       "      <td>마니쩜</td>\n",
       "      <td>NaN</td>\n",
       "      <td>Q</td>\n",
       "      <td>음식</td>\n",
       "      <td>Q09</td>\n",
       "      <td>유흥주점</td>\n",
       "      <td>Q09A01</td>\n",
       "      <td>호프/맥주</td>\n",
       "      <td>I56219</td>\n",
       "      <td>...</td>\n",
       "      <td>2623011000104500002043836</td>\n",
       "      <td>가남아파트</td>\n",
       "      <td>부산광역시 부산진구 대학로 64-1</td>\n",
       "      <td>614010</td>\n",
       "      <td>47336.0</td>\n",
       "      <td>NaN</td>\n",
       "      <td>2</td>\n",
       "      <td>NaN</td>\n",
       "      <td>129.034302</td>\n",
       "      <td>35.150069</td>\n",
       "    </tr>\n",
       "    <tr>\n",
       "      <th>41</th>\n",
       "      <td>20028437</td>\n",
       "      <td>샘터</td>\n",
       "      <td>NaN</td>\n",
       "      <td>Q</td>\n",
       "      <td>음식</td>\n",
       "      <td>Q09</td>\n",
       "      <td>유흥주점</td>\n",
       "      <td>Q09A01</td>\n",
       "      <td>호프/맥주</td>\n",
       "      <td>I56219</td>\n",
       "      <td>...</td>\n",
       "      <td>1121510900104770001019787</td>\n",
       "      <td>NaN</td>\n",
       "      <td>서울특별시 광진구 능동로35길 7</td>\n",
       "      <td>143838</td>\n",
       "      <td>4997.0</td>\n",
       "      <td>NaN</td>\n",
       "      <td>NaN</td>\n",
       "      <td>NaN</td>\n",
       "      <td>127.078519</td>\n",
       "      <td>37.556602</td>\n",
       "    </tr>\n",
       "    <tr>\n",
       "      <th>54</th>\n",
       "      <td>20485406</td>\n",
       "      <td>고향산천궁중전골묵은지삽겹살</td>\n",
       "      <td>NaN</td>\n",
       "      <td>Q</td>\n",
       "      <td>음식</td>\n",
       "      <td>Q09</td>\n",
       "      <td>유흥주점</td>\n",
       "      <td>Q09A01</td>\n",
       "      <td>호프/맥주</td>\n",
       "      <td>I56219</td>\n",
       "      <td>...</td>\n",
       "      <td>1120010400100680000023658</td>\n",
       "      <td>장성빌딩</td>\n",
       "      <td>서울특별시 성동구 무학로2길 46</td>\n",
       "      <td>133882</td>\n",
       "      <td>4709.0</td>\n",
       "      <td>NaN</td>\n",
       "      <td>1</td>\n",
       "      <td>NaN</td>\n",
       "      <td>127.034540</td>\n",
       "      <td>37.562441</td>\n",
       "    </tr>\n",
       "    <tr>\n",
       "      <th>...</th>\n",
       "      <td>...</td>\n",
       "      <td>...</td>\n",
       "      <td>...</td>\n",
       "      <td>...</td>\n",
       "      <td>...</td>\n",
       "      <td>...</td>\n",
       "      <td>...</td>\n",
       "      <td>...</td>\n",
       "      <td>...</td>\n",
       "      <td>...</td>\n",
       "      <td>...</td>\n",
       "      <td>...</td>\n",
       "      <td>...</td>\n",
       "      <td>...</td>\n",
       "      <td>...</td>\n",
       "      <td>...</td>\n",
       "      <td>...</td>\n",
       "      <td>...</td>\n",
       "      <td>...</td>\n",
       "      <td>...</td>\n",
       "      <td>...</td>\n",
       "    </tr>\n",
       "    <tr>\n",
       "      <th>573394</th>\n",
       "      <td>16319035</td>\n",
       "      <td>이모네술생각</td>\n",
       "      <td>NaN</td>\n",
       "      <td>Q</td>\n",
       "      <td>음식</td>\n",
       "      <td>Q09</td>\n",
       "      <td>유흥주점</td>\n",
       "      <td>Q09A04</td>\n",
       "      <td>민속주점</td>\n",
       "      <td>I56219</td>\n",
       "      <td>...</td>\n",
       "      <td>1135010300104400018014402</td>\n",
       "      <td>NaN</td>\n",
       "      <td>서울특별시 노원구 공릉로51길 4</td>\n",
       "      <td>139804</td>\n",
       "      <td>1833.0</td>\n",
       "      <td>NaN</td>\n",
       "      <td>NaN</td>\n",
       "      <td>NaN</td>\n",
       "      <td>127.076641</td>\n",
       "      <td>37.628923</td>\n",
       "    </tr>\n",
       "    <tr>\n",
       "      <th>573458</th>\n",
       "      <td>16395432</td>\n",
       "      <td>젊음의행진</td>\n",
       "      <td>NaN</td>\n",
       "      <td>Q</td>\n",
       "      <td>음식</td>\n",
       "      <td>Q09</td>\n",
       "      <td>유흥주점</td>\n",
       "      <td>Q09A01</td>\n",
       "      <td>호프/맥주</td>\n",
       "      <td>I56219</td>\n",
       "      <td>...</td>\n",
       "      <td>1156010700100660001033400</td>\n",
       "      <td>NaN</td>\n",
       "      <td>서울특별시 영등포구 영등포로35길 9</td>\n",
       "      <td>150030</td>\n",
       "      <td>7251.0</td>\n",
       "      <td>NaN</td>\n",
       "      <td>1</td>\n",
       "      <td>NaN</td>\n",
       "      <td>126.904051</td>\n",
       "      <td>37.520989</td>\n",
       "    </tr>\n",
       "    <tr>\n",
       "      <th>573570</th>\n",
       "      <td>16364009</td>\n",
       "      <td>미도리</td>\n",
       "      <td>NaN</td>\n",
       "      <td>Q</td>\n",
       "      <td>음식</td>\n",
       "      <td>Q09</td>\n",
       "      <td>유흥주점</td>\n",
       "      <td>Q09A01</td>\n",
       "      <td>호프/맥주</td>\n",
       "      <td>I56219</td>\n",
       "      <td>...</td>\n",
       "      <td>2623010300102520042023889</td>\n",
       "      <td>NaN</td>\n",
       "      <td>부산광역시 부산진구 중앙대로 701-4</td>\n",
       "      <td>614847</td>\n",
       "      <td>47286.0</td>\n",
       "      <td>NaN</td>\n",
       "      <td>2</td>\n",
       "      <td>NaN</td>\n",
       "      <td>129.058835</td>\n",
       "      <td>35.155446</td>\n",
       "    </tr>\n",
       "    <tr>\n",
       "      <th>573571</th>\n",
       "      <td>16363823</td>\n",
       "      <td>베스트호프</td>\n",
       "      <td>NaN</td>\n",
       "      <td>Q</td>\n",
       "      <td>음식</td>\n",
       "      <td>Q09</td>\n",
       "      <td>유흥주점</td>\n",
       "      <td>Q09A01</td>\n",
       "      <td>호프/맥주</td>\n",
       "      <td>I56219</td>\n",
       "      <td>...</td>\n",
       "      <td>1153010700104030054009224</td>\n",
       "      <td>NaN</td>\n",
       "      <td>서울특별시 구로구 개봉로 59</td>\n",
       "      <td>152092</td>\n",
       "      <td>8347.0</td>\n",
       "      <td>NaN</td>\n",
       "      <td>NaN</td>\n",
       "      <td>105</td>\n",
       "      <td>126.855695</td>\n",
       "      <td>37.491013</td>\n",
       "    </tr>\n",
       "    <tr>\n",
       "      <th>573649</th>\n",
       "      <td>16389141</td>\n",
       "      <td>가마치문현</td>\n",
       "      <td>안골점</td>\n",
       "      <td>Q</td>\n",
       "      <td>음식</td>\n",
       "      <td>Q09</td>\n",
       "      <td>유흥주점</td>\n",
       "      <td>Q09A01</td>\n",
       "      <td>호프/맥주</td>\n",
       "      <td>I56219</td>\n",
       "      <td>...</td>\n",
       "      <td>2629010900100980000013838</td>\n",
       "      <td>NaN</td>\n",
       "      <td>부산광역시 남구 진남로 199</td>\n",
       "      <td>608821</td>\n",
       "      <td>48417.0</td>\n",
       "      <td>NaN</td>\n",
       "      <td>NaN</td>\n",
       "      <td>NaN</td>\n",
       "      <td>129.076855</td>\n",
       "      <td>35.143659</td>\n",
       "    </tr>\n",
       "  </tbody>\n",
       "</table>\n",
       "<p>24017 rows × 39 columns</p>\n",
       "</div>"
      ],
      "text/plain": [
       "          상가업소번호             상호명  지점명 상권업종대분류코드 상권업종대분류명 상권업종중분류코드 상권업종중분류명  \\\n",
       "0       19905471          와라와라호프  NaN         Q       음식       Q09     유흥주점   \n",
       "2       19911801            프로포즈  NaN         Q       음식       Q09     유흥주점   \n",
       "31      20037352             마니쩜  NaN         Q       음식       Q09     유흥주점   \n",
       "41      20028437              샘터  NaN         Q       음식       Q09     유흥주점   \n",
       "54      20485406  고향산천궁중전골묵은지삽겹살  NaN         Q       음식       Q09     유흥주점   \n",
       "...          ...             ...  ...       ...      ...       ...      ...   \n",
       "573394  16319035          이모네술생각  NaN         Q       음식       Q09     유흥주점   \n",
       "573458  16395432           젊음의행진  NaN         Q       음식       Q09     유흥주점   \n",
       "573570  16364009             미도리  NaN         Q       음식       Q09     유흥주점   \n",
       "573571  16363823           베스트호프  NaN         Q       음식       Q09     유흥주점   \n",
       "573649  16389141           가마치문현  안골점         Q       음식       Q09     유흥주점   \n",
       "\n",
       "       상권업종소분류코드 상권업종소분류명 표준산업분류코드  ...                     건물관리번호    건물명  \\\n",
       "0         Q09A01    호프/맥주   I56219  ...  1168010600106040000014378   대치상가   \n",
       "2         Q09A01    호프/맥주   I56219  ...  1154510200101620001017748    NaN   \n",
       "31        Q09A01    호프/맥주   I56219  ...  2623011000104500002043836  가남아파트   \n",
       "41        Q09A01    호프/맥주   I56219  ...  1121510900104770001019787    NaN   \n",
       "54        Q09A01    호프/맥주   I56219  ...  1120010400100680000023658   장성빌딩   \n",
       "...          ...      ...      ...  ...                        ...    ...   \n",
       "573394    Q09A04     민속주점   I56219  ...  1135010300104400018014402    NaN   \n",
       "573458    Q09A01    호프/맥주   I56219  ...  1156010700100660001033400    NaN   \n",
       "573570    Q09A01    호프/맥주   I56219  ...  2623010300102520042023889    NaN   \n",
       "573571    Q09A01    호프/맥주   I56219  ...  1153010700104030054009224    NaN   \n",
       "573649    Q09A01    호프/맥주   I56219  ...  2629010900100980000013838    NaN   \n",
       "\n",
       "                        도로명주소   구우편번호    신우편번호  동정보  층정보  호정보          경도  \\\n",
       "0        서울특별시 강남구 남부순환로 2933  135280   6280.0  NaN    1  NaN  127.061026   \n",
       "2          서울특별시 금천구 가산로 34-6  153010   8545.0  NaN    1  NaN  126.899220   \n",
       "31        부산광역시 부산진구 대학로 64-1  614010  47336.0  NaN    2  NaN  129.034302   \n",
       "41         서울특별시 광진구 능동로35길 7  143838   4997.0  NaN  NaN  NaN  127.078519   \n",
       "54         서울특별시 성동구 무학로2길 46  133882   4709.0  NaN    1  NaN  127.034540   \n",
       "...                       ...     ...      ...  ...  ...  ...         ...   \n",
       "573394     서울특별시 노원구 공릉로51길 4  139804   1833.0  NaN  NaN  NaN  127.076641   \n",
       "573458   서울특별시 영등포구 영등포로35길 9  150030   7251.0  NaN    1  NaN  126.904051   \n",
       "573570  부산광역시 부산진구 중앙대로 701-4  614847  47286.0  NaN    2  NaN  129.058835   \n",
       "573571       서울특별시 구로구 개봉로 59  152092   8347.0  NaN  NaN  105  126.855695   \n",
       "573649       부산광역시 남구 진남로 199  608821  48417.0  NaN  NaN  NaN  129.076855   \n",
       "\n",
       "               위도  \n",
       "0       37.493922  \n",
       "2       37.471711  \n",
       "31      35.150069  \n",
       "41      37.556602  \n",
       "54      37.562441  \n",
       "...           ...  \n",
       "573394  37.628923  \n",
       "573458  37.520989  \n",
       "573570  35.155446  \n",
       "573571  37.491013  \n",
       "573649  35.143659  \n",
       "\n",
       "[24017 rows x 39 columns]"
      ]
     },
     "execution_count": 73,
     "metadata": {},
     "output_type": "execute_result"
    }
   ],
   "source": [
    "data[data.상권업종중분류명=='유흥주점']"
   ]
  },
  {
   "cell_type": "markdown",
   "metadata": {},
   "source": [
    "`describe`를 이용해서 시도명은 2개밖에 없음을 알 수 있다."
   ]
  },
  {
   "cell_type": "code",
   "execution_count": 74,
   "metadata": {},
   "outputs": [
    {
     "data": {
      "text/plain": [
       "count     573680\n",
       "unique         2\n",
       "top        서울특별시\n",
       "freq      407376\n",
       "Name: 시도명, dtype: object"
      ]
     },
     "execution_count": 74,
     "metadata": {},
     "output_type": "execute_result"
    }
   ],
   "source": [
    "data['시도명'].describe()"
   ]
  },
  {
   "cell_type": "markdown",
   "metadata": {},
   "source": [
    "`value_counts`는 unique 값의 개수를 세어준다."
   ]
  },
  {
   "cell_type": "code",
   "execution_count": 75,
   "metadata": {},
   "outputs": [
    {
     "data": {
      "text/plain": [
       "서울특별시    407376\n",
       "부산광역시    166304\n",
       "Name: 시도명, dtype: int64"
      ]
     },
     "execution_count": 75,
     "metadata": {},
     "output_type": "execute_result"
    }
   ],
   "source": [
    "data['시도명'].value_counts()"
   ]
  },
  {
   "cell_type": "markdown",
   "metadata": {},
   "source": [
    "서울이 아닌 지역의 유흥주점의 개수를 세어보자."
   ]
  },
  {
   "cell_type": "code",
   "execution_count": 77,
   "metadata": {},
   "outputs": [
    {
     "data": {
      "text/html": [
       "<div>\n",
       "<style scoped>\n",
       "    .dataframe tbody tr th:only-of-type {\n",
       "        vertical-align: middle;\n",
       "    }\n",
       "\n",
       "    .dataframe tbody tr th {\n",
       "        vertical-align: top;\n",
       "    }\n",
       "\n",
       "    .dataframe thead th {\n",
       "        text-align: right;\n",
       "    }\n",
       "</style>\n",
       "<table border=\"1\" class=\"dataframe\">\n",
       "  <thead>\n",
       "    <tr style=\"text-align: right;\">\n",
       "      <th></th>\n",
       "      <th>상가업소번호</th>\n",
       "      <th>상호명</th>\n",
       "      <th>지점명</th>\n",
       "      <th>상권업종대분류코드</th>\n",
       "      <th>상권업종대분류명</th>\n",
       "      <th>상권업종중분류코드</th>\n",
       "      <th>상권업종중분류명</th>\n",
       "      <th>상권업종소분류코드</th>\n",
       "      <th>상권업종소분류명</th>\n",
       "      <th>표준산업분류코드</th>\n",
       "      <th>...</th>\n",
       "      <th>건물관리번호</th>\n",
       "      <th>건물명</th>\n",
       "      <th>도로명주소</th>\n",
       "      <th>구우편번호</th>\n",
       "      <th>신우편번호</th>\n",
       "      <th>동정보</th>\n",
       "      <th>층정보</th>\n",
       "      <th>호정보</th>\n",
       "      <th>경도</th>\n",
       "      <th>위도</th>\n",
       "    </tr>\n",
       "  </thead>\n",
       "  <tbody>\n",
       "    <tr>\n",
       "      <th>31</th>\n",
       "      <td>20037352</td>\n",
       "      <td>마니쩜</td>\n",
       "      <td>NaN</td>\n",
       "      <td>Q</td>\n",
       "      <td>음식</td>\n",
       "      <td>Q09</td>\n",
       "      <td>유흥주점</td>\n",
       "      <td>Q09A01</td>\n",
       "      <td>호프/맥주</td>\n",
       "      <td>I56219</td>\n",
       "      <td>...</td>\n",
       "      <td>2623011000104500002043836</td>\n",
       "      <td>가남아파트</td>\n",
       "      <td>부산광역시 부산진구 대학로 64-1</td>\n",
       "      <td>614010</td>\n",
       "      <td>47336.0</td>\n",
       "      <td>NaN</td>\n",
       "      <td>2</td>\n",
       "      <td>NaN</td>\n",
       "      <td>129.034302</td>\n",
       "      <td>35.150069</td>\n",
       "    </tr>\n",
       "    <tr>\n",
       "      <th>60</th>\n",
       "      <td>20415080</td>\n",
       "      <td>보물섬유흥주점</td>\n",
       "      <td>NaN</td>\n",
       "      <td>Q</td>\n",
       "      <td>음식</td>\n",
       "      <td>Q09</td>\n",
       "      <td>유흥주점</td>\n",
       "      <td>Q09A10</td>\n",
       "      <td>룸살롱/단란주점</td>\n",
       "      <td>I56211</td>\n",
       "      <td>...</td>\n",
       "      <td>2641011000102100006002403</td>\n",
       "      <td>NaN</td>\n",
       "      <td>부산광역시 금정구 서동로 182</td>\n",
       "      <td>609400</td>\n",
       "      <td>46328.0</td>\n",
       "      <td>NaN</td>\n",
       "      <td>2</td>\n",
       "      <td>NaN</td>\n",
       "      <td>129.106574</td>\n",
       "      <td>35.214276</td>\n",
       "    </tr>\n",
       "    <tr>\n",
       "      <th>61</th>\n",
       "      <td>20416371</td>\n",
       "      <td>황태자</td>\n",
       "      <td>NaN</td>\n",
       "      <td>Q</td>\n",
       "      <td>음식</td>\n",
       "      <td>Q09</td>\n",
       "      <td>유흥주점</td>\n",
       "      <td>Q09A10</td>\n",
       "      <td>룸살롱/단란주점</td>\n",
       "      <td>I56211</td>\n",
       "      <td>...</td>\n",
       "      <td>2647010200107300020025165</td>\n",
       "      <td>NaN</td>\n",
       "      <td>부산광역시 연제구 고분로 7</td>\n",
       "      <td>611080</td>\n",
       "      <td>47549.0</td>\n",
       "      <td>NaN</td>\n",
       "      <td>1</td>\n",
       "      <td>NaN</td>\n",
       "      <td>129.083276</td>\n",
       "      <td>35.186021</td>\n",
       "    </tr>\n",
       "    <tr>\n",
       "      <th>125</th>\n",
       "      <td>20603925</td>\n",
       "      <td>경성양꼬치</td>\n",
       "      <td>NaN</td>\n",
       "      <td>Q</td>\n",
       "      <td>음식</td>\n",
       "      <td>Q09</td>\n",
       "      <td>유흥주점</td>\n",
       "      <td>Q09A01</td>\n",
       "      <td>호프/맥주</td>\n",
       "      <td>I56219</td>\n",
       "      <td>...</td>\n",
       "      <td>2641010900103910001003817</td>\n",
       "      <td>가나빌라</td>\n",
       "      <td>부산광역시 금정구 오시게로54번길 2</td>\n",
       "      <td>609320</td>\n",
       "      <td>46306.0</td>\n",
       "      <td>NaN</td>\n",
       "      <td>NaN</td>\n",
       "      <td>NaN</td>\n",
       "      <td>129.088016</td>\n",
       "      <td>35.221998</td>\n",
       "    </tr>\n",
       "    <tr>\n",
       "      <th>300</th>\n",
       "      <td>22044119</td>\n",
       "      <td>런던빠</td>\n",
       "      <td>NaN</td>\n",
       "      <td>Q</td>\n",
       "      <td>음식</td>\n",
       "      <td>Q09</td>\n",
       "      <td>유흥주점</td>\n",
       "      <td>Q09A06</td>\n",
       "      <td>관광/유흥주점</td>\n",
       "      <td>I56211</td>\n",
       "      <td>...</td>\n",
       "      <td>2617010100112070016012264</td>\n",
       "      <td>NaN</td>\n",
       "      <td>부산광역시 동구 대영로243번길 92</td>\n",
       "      <td>601010</td>\n",
       "      <td>48816.0</td>\n",
       "      <td>NaN</td>\n",
       "      <td>1</td>\n",
       "      <td>NaN</td>\n",
       "      <td>129.039597</td>\n",
       "      <td>35.115897</td>\n",
       "    </tr>\n",
       "    <tr>\n",
       "      <th>...</th>\n",
       "      <td>...</td>\n",
       "      <td>...</td>\n",
       "      <td>...</td>\n",
       "      <td>...</td>\n",
       "      <td>...</td>\n",
       "      <td>...</td>\n",
       "      <td>...</td>\n",
       "      <td>...</td>\n",
       "      <td>...</td>\n",
       "      <td>...</td>\n",
       "      <td>...</td>\n",
       "      <td>...</td>\n",
       "      <td>...</td>\n",
       "      <td>...</td>\n",
       "      <td>...</td>\n",
       "      <td>...</td>\n",
       "      <td>...</td>\n",
       "      <td>...</td>\n",
       "      <td>...</td>\n",
       "      <td>...</td>\n",
       "      <td>...</td>\n",
       "    </tr>\n",
       "    <tr>\n",
       "      <th>572831</th>\n",
       "      <td>16395290</td>\n",
       "      <td>비어렌버그코리아</td>\n",
       "      <td>NaN</td>\n",
       "      <td>Q</td>\n",
       "      <td>음식</td>\n",
       "      <td>Q09</td>\n",
       "      <td>유흥주점</td>\n",
       "      <td>Q09A01</td>\n",
       "      <td>호프/맥주</td>\n",
       "      <td>I56219</td>\n",
       "      <td>...</td>\n",
       "      <td>2644010400132380004000001</td>\n",
       "      <td>NaN</td>\n",
       "      <td>부산광역시 강서구 명지오션시티3로 11</td>\n",
       "      <td>618814</td>\n",
       "      <td>46765.0</td>\n",
       "      <td>NaN</td>\n",
       "      <td>4</td>\n",
       "      <td>NaN</td>\n",
       "      <td>128.903029</td>\n",
       "      <td>35.083269</td>\n",
       "    </tr>\n",
       "    <tr>\n",
       "      <th>572973</th>\n",
       "      <td>16374823</td>\n",
       "      <td>리안트</td>\n",
       "      <td>NaN</td>\n",
       "      <td>Q</td>\n",
       "      <td>음식</td>\n",
       "      <td>Q09</td>\n",
       "      <td>유흥주점</td>\n",
       "      <td>Q09A01</td>\n",
       "      <td>호프/맥주</td>\n",
       "      <td>I56219</td>\n",
       "      <td>...</td>\n",
       "      <td>2617010400108300140000001</td>\n",
       "      <td>동일타워</td>\n",
       "      <td>부산광역시 동구 조방로 14</td>\n",
       "      <td>601808</td>\n",
       "      <td>48741.0</td>\n",
       "      <td>NaN</td>\n",
       "      <td>NaN</td>\n",
       "      <td>NaN</td>\n",
       "      <td>129.063480</td>\n",
       "      <td>35.138747</td>\n",
       "    </tr>\n",
       "    <tr>\n",
       "      <th>573331</th>\n",
       "      <td>16363937</td>\n",
       "      <td>이든</td>\n",
       "      <td>NaN</td>\n",
       "      <td>Q</td>\n",
       "      <td>음식</td>\n",
       "      <td>Q09</td>\n",
       "      <td>유흥주점</td>\n",
       "      <td>Q09A07</td>\n",
       "      <td>기타일반유흥주점</td>\n",
       "      <td>I56211</td>\n",
       "      <td>...</td>\n",
       "      <td>2623010100103540009003522</td>\n",
       "      <td>NaN</td>\n",
       "      <td>부산광역시 부산진구 양지로5번길 28</td>\n",
       "      <td>614853</td>\n",
       "      <td>47229.0</td>\n",
       "      <td>NaN</td>\n",
       "      <td>2</td>\n",
       "      <td>NaN</td>\n",
       "      <td>129.070461</td>\n",
       "      <td>35.170748</td>\n",
       "    </tr>\n",
       "    <tr>\n",
       "      <th>573570</th>\n",
       "      <td>16364009</td>\n",
       "      <td>미도리</td>\n",
       "      <td>NaN</td>\n",
       "      <td>Q</td>\n",
       "      <td>음식</td>\n",
       "      <td>Q09</td>\n",
       "      <td>유흥주점</td>\n",
       "      <td>Q09A01</td>\n",
       "      <td>호프/맥주</td>\n",
       "      <td>I56219</td>\n",
       "      <td>...</td>\n",
       "      <td>2623010300102520042023889</td>\n",
       "      <td>NaN</td>\n",
       "      <td>부산광역시 부산진구 중앙대로 701-4</td>\n",
       "      <td>614847</td>\n",
       "      <td>47286.0</td>\n",
       "      <td>NaN</td>\n",
       "      <td>2</td>\n",
       "      <td>NaN</td>\n",
       "      <td>129.058835</td>\n",
       "      <td>35.155446</td>\n",
       "    </tr>\n",
       "    <tr>\n",
       "      <th>573649</th>\n",
       "      <td>16389141</td>\n",
       "      <td>가마치문현</td>\n",
       "      <td>안골점</td>\n",
       "      <td>Q</td>\n",
       "      <td>음식</td>\n",
       "      <td>Q09</td>\n",
       "      <td>유흥주점</td>\n",
       "      <td>Q09A01</td>\n",
       "      <td>호프/맥주</td>\n",
       "      <td>I56219</td>\n",
       "      <td>...</td>\n",
       "      <td>2629010900100980000013838</td>\n",
       "      <td>NaN</td>\n",
       "      <td>부산광역시 남구 진남로 199</td>\n",
       "      <td>608821</td>\n",
       "      <td>48417.0</td>\n",
       "      <td>NaN</td>\n",
       "      <td>NaN</td>\n",
       "      <td>NaN</td>\n",
       "      <td>129.076855</td>\n",
       "      <td>35.143659</td>\n",
       "    </tr>\n",
       "  </tbody>\n",
       "</table>\n",
       "<p>6630 rows × 39 columns</p>\n",
       "</div>"
      ],
      "text/plain": [
       "          상가업소번호       상호명  지점명 상권업종대분류코드 상권업종대분류명 상권업종중분류코드 상권업종중분류명  \\\n",
       "31      20037352       마니쩜  NaN         Q       음식       Q09     유흥주점   \n",
       "60      20415080   보물섬유흥주점  NaN         Q       음식       Q09     유흥주점   \n",
       "61      20416371       황태자  NaN         Q       음식       Q09     유흥주점   \n",
       "125     20603925     경성양꼬치  NaN         Q       음식       Q09     유흥주점   \n",
       "300     22044119       런던빠  NaN         Q       음식       Q09     유흥주점   \n",
       "...          ...       ...  ...       ...      ...       ...      ...   \n",
       "572831  16395290  비어렌버그코리아  NaN         Q       음식       Q09     유흥주점   \n",
       "572973  16374823       리안트  NaN         Q       음식       Q09     유흥주점   \n",
       "573331  16363937        이든  NaN         Q       음식       Q09     유흥주점   \n",
       "573570  16364009       미도리  NaN         Q       음식       Q09     유흥주점   \n",
       "573649  16389141     가마치문현  안골점         Q       음식       Q09     유흥주점   \n",
       "\n",
       "       상권업종소분류코드  상권업종소분류명 표준산업분류코드  ...                     건물관리번호    건물명  \\\n",
       "31        Q09A01     호프/맥주   I56219  ...  2623011000104500002043836  가남아파트   \n",
       "60        Q09A10  룸살롱/단란주점   I56211  ...  2641011000102100006002403    NaN   \n",
       "61        Q09A10  룸살롱/단란주점   I56211  ...  2647010200107300020025165    NaN   \n",
       "125       Q09A01     호프/맥주   I56219  ...  2641010900103910001003817   가나빌라   \n",
       "300       Q09A06   관광/유흥주점   I56211  ...  2617010100112070016012264    NaN   \n",
       "...          ...       ...      ...  ...                        ...    ...   \n",
       "572831    Q09A01     호프/맥주   I56219  ...  2644010400132380004000001    NaN   \n",
       "572973    Q09A01     호프/맥주   I56219  ...  2617010400108300140000001   동일타워   \n",
       "573331    Q09A07  기타일반유흥주점   I56211  ...  2623010100103540009003522    NaN   \n",
       "573570    Q09A01     호프/맥주   I56219  ...  2623010300102520042023889    NaN   \n",
       "573649    Q09A01     호프/맥주   I56219  ...  2629010900100980000013838    NaN   \n",
       "\n",
       "                        도로명주소   구우편번호    신우편번호  동정보  층정보  호정보          경도  \\\n",
       "31        부산광역시 부산진구 대학로 64-1  614010  47336.0  NaN    2  NaN  129.034302   \n",
       "60          부산광역시 금정구 서동로 182  609400  46328.0  NaN    2  NaN  129.106574   \n",
       "61            부산광역시 연제구 고분로 7  611080  47549.0  NaN    1  NaN  129.083276   \n",
       "125      부산광역시 금정구 오시게로54번길 2  609320  46306.0  NaN  NaN  NaN  129.088016   \n",
       "300      부산광역시 동구 대영로243번길 92  601010  48816.0  NaN    1  NaN  129.039597   \n",
       "...                       ...     ...      ...  ...  ...  ...         ...   \n",
       "572831  부산광역시 강서구 명지오션시티3로 11  618814  46765.0  NaN    4  NaN  128.903029   \n",
       "572973        부산광역시 동구 조방로 14  601808  48741.0  NaN  NaN  NaN  129.063480   \n",
       "573331   부산광역시 부산진구 양지로5번길 28  614853  47229.0  NaN    2  NaN  129.070461   \n",
       "573570  부산광역시 부산진구 중앙대로 701-4  614847  47286.0  NaN    2  NaN  129.058835   \n",
       "573649       부산광역시 남구 진남로 199  608821  48417.0  NaN  NaN  NaN  129.076855   \n",
       "\n",
       "               위도  \n",
       "31      35.150069  \n",
       "60      35.214276  \n",
       "61      35.186021  \n",
       "125     35.221998  \n",
       "300     35.115897  \n",
       "...           ...  \n",
       "572831  35.083269  \n",
       "572973  35.138747  \n",
       "573331  35.170748  \n",
       "573570  35.155446  \n",
       "573649  35.143659  \n",
       "\n",
       "[6630 rows x 39 columns]"
      ]
     },
     "execution_count": 77,
     "metadata": {},
     "output_type": "execute_result"
    }
   ],
   "source": [
    "data[(data['시도명']!='서울특별시') & (data['상권업종중분류명']=='유흥주점')]"
   ]
  },
  {
   "cell_type": "code",
   "execution_count": 78,
   "metadata": {},
   "outputs": [
    {
     "name": "stdout",
     "output_type": "stream",
     "text": [
      "<class 'pandas.core.frame.DataFrame'>\n",
      "Int64Index: 6630 entries, 31 to 573649\n",
      "Data columns (total 39 columns):\n",
      "상가업소번호       6630 non-null int64\n",
      "상호명          6630 non-null object\n",
      "지점명          608 non-null object\n",
      "상권업종대분류코드    6630 non-null object\n",
      "상권업종대분류명     6630 non-null object\n",
      "상권업종중분류코드    6630 non-null object\n",
      "상권업종중분류명     6630 non-null object\n",
      "상권업종소분류코드    6630 non-null object\n",
      "상권업종소분류명     6630 non-null object\n",
      "표준산업분류코드     6630 non-null object\n",
      "표준산업분류명      6630 non-null object\n",
      "시도코드         6630 non-null int64\n",
      "시도명          6630 non-null object\n",
      "시군구코드        6630 non-null int64\n",
      "시군구명         6630 non-null object\n",
      "행정동코드        6630 non-null int64\n",
      "행정동명         6630 non-null object\n",
      "법정동코드        6630 non-null int64\n",
      "법정동명         6630 non-null object\n",
      "지번코드         6630 non-null int64\n",
      "대지구분코드       6630 non-null int64\n",
      "대지구분명        6630 non-null object\n",
      "지번본번지        6630 non-null int64\n",
      "지번부번지        6189 non-null float64\n",
      "지번주소         6630 non-null object\n",
      "도로명코드        6630 non-null int64\n",
      "도로명          6630 non-null object\n",
      "건물본번지        6630 non-null int64\n",
      "건물부번지        1230 non-null float64\n",
      "건물관리번호       6630 non-null object\n",
      "건물명          1725 non-null object\n",
      "도로명주소        6630 non-null object\n",
      "구우편번호        6630 non-null int64\n",
      "신우편번호        6630 non-null float64\n",
      "동정보          238 non-null object\n",
      "층정보          3118 non-null object\n",
      "호정보          510 non-null object\n",
      "경도           6630 non-null float64\n",
      "위도           6630 non-null float64\n",
      "dtypes: float64(5), int64(11), object(23)\n",
      "memory usage: 2.0+ MB\n"
     ]
    }
   ],
   "source": [
    "data[(data['시도명']!='서울특별시') & (data['상권업종중분류명']=='유흥주점')].info() # 6630개"
   ]
  },
  {
   "cell_type": "code",
   "execution_count": 79,
   "metadata": {},
   "outputs": [
    {
     "data": {
      "text/html": [
       "<div>\n",
       "<style scoped>\n",
       "    .dataframe tbody tr th:only-of-type {\n",
       "        vertical-align: middle;\n",
       "    }\n",
       "\n",
       "    .dataframe tbody tr th {\n",
       "        vertical-align: top;\n",
       "    }\n",
       "\n",
       "    .dataframe thead th {\n",
       "        text-align: right;\n",
       "    }\n",
       "</style>\n",
       "<table border=\"1\" class=\"dataframe\">\n",
       "  <thead>\n",
       "    <tr style=\"text-align: right;\">\n",
       "      <th></th>\n",
       "      <th>상가업소번호</th>\n",
       "      <th>시도코드</th>\n",
       "      <th>시군구코드</th>\n",
       "      <th>행정동코드</th>\n",
       "      <th>법정동코드</th>\n",
       "      <th>지번코드</th>\n",
       "      <th>대지구분코드</th>\n",
       "      <th>지번본번지</th>\n",
       "      <th>지번부번지</th>\n",
       "      <th>도로명코드</th>\n",
       "      <th>건물본번지</th>\n",
       "      <th>건물부번지</th>\n",
       "      <th>구우편번호</th>\n",
       "      <th>신우편번호</th>\n",
       "      <th>경도</th>\n",
       "      <th>위도</th>\n",
       "    </tr>\n",
       "  </thead>\n",
       "  <tbody>\n",
       "    <tr>\n",
       "      <th>count</th>\n",
       "      <td>6.630000e+03</td>\n",
       "      <td>6630.0</td>\n",
       "      <td>6630.000000</td>\n",
       "      <td>6.630000e+03</td>\n",
       "      <td>6.630000e+03</td>\n",
       "      <td>6.630000e+03</td>\n",
       "      <td>6630.000000</td>\n",
       "      <td>6630.000000</td>\n",
       "      <td>6189.000000</td>\n",
       "      <td>6.630000e+03</td>\n",
       "      <td>6630.000000</td>\n",
       "      <td>1230.000000</td>\n",
       "      <td>6630.000000</td>\n",
       "      <td>6630.000000</td>\n",
       "      <td>6630.000000</td>\n",
       "      <td>6630.000000</td>\n",
       "    </tr>\n",
       "    <tr>\n",
       "      <th>mean</th>\n",
       "      <td>1.970791e+07</td>\n",
       "      <td>26.0</td>\n",
       "      <td>26340.176471</td>\n",
       "      <td>2.634077e+09</td>\n",
       "      <td>2.634029e+09</td>\n",
       "      <td>2.634031e+18</td>\n",
       "      <td>1.000754</td>\n",
       "      <td>532.570287</td>\n",
       "      <td>29.822427</td>\n",
       "      <td>2.634054e+11</td>\n",
       "      <td>105.973454</td>\n",
       "      <td>4.439837</td>\n",
       "      <td>610344.573756</td>\n",
       "      <td>47870.264857</td>\n",
       "      <td>129.061594</td>\n",
       "      <td>35.159433</td>\n",
       "    </tr>\n",
       "    <tr>\n",
       "      <th>std</th>\n",
       "      <td>4.760696e+06</td>\n",
       "      <td>0.0</td>\n",
       "      <td>137.746169</td>\n",
       "      <td>1.377490e+07</td>\n",
       "      <td>1.377560e+07</td>\n",
       "      <td>1.377560e+16</td>\n",
       "      <td>0.027453</td>\n",
       "      <td>528.336240</td>\n",
       "      <td>103.476504</td>\n",
       "      <td>1.377434e+09</td>\n",
       "      <td>206.598903</td>\n",
       "      <td>6.108395</td>\n",
       "      <td>5404.568897</td>\n",
       "      <td>976.032645</td>\n",
       "      <td>0.062393</td>\n",
       "      <td>0.048375</td>\n",
       "    </tr>\n",
       "    <tr>\n",
       "      <th>min</th>\n",
       "      <td>2.892377e+06</td>\n",
       "      <td>26.0</td>\n",
       "      <td>26110.000000</td>\n",
       "      <td>2.611051e+09</td>\n",
       "      <td>2.611010e+09</td>\n",
       "      <td>2.611010e+18</td>\n",
       "      <td>1.000000</td>\n",
       "      <td>1.000000</td>\n",
       "      <td>1.000000</td>\n",
       "      <td>2.611020e+11</td>\n",
       "      <td>1.000000</td>\n",
       "      <td>1.000000</td>\n",
       "      <td>600011.000000</td>\n",
       "      <td>46002.000000</td>\n",
       "      <td>128.812764</td>\n",
       "      <td>35.012302</td>\n",
       "    </tr>\n",
       "    <tr>\n",
       "      <th>25%</th>\n",
       "      <td>1.602698e+07</td>\n",
       "      <td>26.0</td>\n",
       "      <td>26230.000000</td>\n",
       "      <td>2.623056e+09</td>\n",
       "      <td>2.623010e+09</td>\n",
       "      <td>2.623010e+18</td>\n",
       "      <td>1.000000</td>\n",
       "      <td>168.000000</td>\n",
       "      <td>3.000000</td>\n",
       "      <td>2.623042e+11</td>\n",
       "      <td>14.000000</td>\n",
       "      <td>1.000000</td>\n",
       "      <td>606800.000000</td>\n",
       "      <td>47178.000000</td>\n",
       "      <td>129.021523</td>\n",
       "      <td>35.118866</td>\n",
       "    </tr>\n",
       "    <tr>\n",
       "      <th>50%</th>\n",
       "      <td>2.037389e+07</td>\n",
       "      <td>26.0</td>\n",
       "      <td>26350.000000</td>\n",
       "      <td>2.635051e+09</td>\n",
       "      <td>2.635010e+09</td>\n",
       "      <td>2.635010e+18</td>\n",
       "      <td>1.000000</td>\n",
       "      <td>415.000000</td>\n",
       "      <td>9.000000</td>\n",
       "      <td>2.635031e+11</td>\n",
       "      <td>34.000000</td>\n",
       "      <td>2.000000</td>\n",
       "      <td>611080.000000</td>\n",
       "      <td>47865.000000</td>\n",
       "      <td>129.060673</td>\n",
       "      <td>35.159437</td>\n",
       "    </tr>\n",
       "    <tr>\n",
       "      <th>75%</th>\n",
       "      <td>2.335899e+07</td>\n",
       "      <td>26.0</td>\n",
       "      <td>26440.000000</td>\n",
       "      <td>2.644056e+09</td>\n",
       "      <td>2.644012e+09</td>\n",
       "      <td>2.644012e+18</td>\n",
       "      <td>1.000000</td>\n",
       "      <td>699.750000</td>\n",
       "      <td>21.000000</td>\n",
       "      <td>2.644042e+11</td>\n",
       "      <td>98.000000</td>\n",
       "      <td>6.000000</td>\n",
       "      <td>614030.000000</td>\n",
       "      <td>48739.000000</td>\n",
       "      <td>129.102196</td>\n",
       "      <td>35.188127</td>\n",
       "    </tr>\n",
       "    <tr>\n",
       "      <th>max</th>\n",
       "      <td>2.851323e+07</td>\n",
       "      <td>26.0</td>\n",
       "      <td>26710.000000</td>\n",
       "      <td>2.671033e+09</td>\n",
       "      <td>2.671033e+09</td>\n",
       "      <td>2.671033e+18</td>\n",
       "      <td>2.000000</td>\n",
       "      <td>3501.000000</td>\n",
       "      <td>2515.000000</td>\n",
       "      <td>2.671042e+11</td>\n",
       "      <td>2121.000000</td>\n",
       "      <td>86.000000</td>\n",
       "      <td>619963.000000</td>\n",
       "      <td>49527.000000</td>\n",
       "      <td>129.283459</td>\n",
       "      <td>35.363925</td>\n",
       "    </tr>\n",
       "  </tbody>\n",
       "</table>\n",
       "</div>"
      ],
      "text/plain": [
       "             상가업소번호    시도코드         시군구코드         행정동코드         법정동코드  \\\n",
       "count  6.630000e+03  6630.0   6630.000000  6.630000e+03  6.630000e+03   \n",
       "mean   1.970791e+07    26.0  26340.176471  2.634077e+09  2.634029e+09   \n",
       "std    4.760696e+06     0.0    137.746169  1.377490e+07  1.377560e+07   \n",
       "min    2.892377e+06    26.0  26110.000000  2.611051e+09  2.611010e+09   \n",
       "25%    1.602698e+07    26.0  26230.000000  2.623056e+09  2.623010e+09   \n",
       "50%    2.037389e+07    26.0  26350.000000  2.635051e+09  2.635010e+09   \n",
       "75%    2.335899e+07    26.0  26440.000000  2.644056e+09  2.644012e+09   \n",
       "max    2.851323e+07    26.0  26710.000000  2.671033e+09  2.671033e+09   \n",
       "\n",
       "               지번코드       대지구분코드        지번본번지        지번부번지         도로명코드  \\\n",
       "count  6.630000e+03  6630.000000  6630.000000  6189.000000  6.630000e+03   \n",
       "mean   2.634031e+18     1.000754   532.570287    29.822427  2.634054e+11   \n",
       "std    1.377560e+16     0.027453   528.336240   103.476504  1.377434e+09   \n",
       "min    2.611010e+18     1.000000     1.000000     1.000000  2.611020e+11   \n",
       "25%    2.623010e+18     1.000000   168.000000     3.000000  2.623042e+11   \n",
       "50%    2.635010e+18     1.000000   415.000000     9.000000  2.635031e+11   \n",
       "75%    2.644012e+18     1.000000   699.750000    21.000000  2.644042e+11   \n",
       "max    2.671033e+18     2.000000  3501.000000  2515.000000  2.671042e+11   \n",
       "\n",
       "             건물본번지        건물부번지          구우편번호         신우편번호           경도  \\\n",
       "count  6630.000000  1230.000000    6630.000000   6630.000000  6630.000000   \n",
       "mean    105.973454     4.439837  610344.573756  47870.264857   129.061594   \n",
       "std     206.598903     6.108395    5404.568897    976.032645     0.062393   \n",
       "min       1.000000     1.000000  600011.000000  46002.000000   128.812764   \n",
       "25%      14.000000     1.000000  606800.000000  47178.000000   129.021523   \n",
       "50%      34.000000     2.000000  611080.000000  47865.000000   129.060673   \n",
       "75%      98.000000     6.000000  614030.000000  48739.000000   129.102196   \n",
       "max    2121.000000    86.000000  619963.000000  49527.000000   129.283459   \n",
       "\n",
       "                위도  \n",
       "count  6630.000000  \n",
       "mean     35.159433  \n",
       "std       0.048375  \n",
       "min      35.012302  \n",
       "25%      35.118866  \n",
       "50%      35.159437  \n",
       "75%      35.188127  \n",
       "max      35.363925  "
      ]
     },
     "execution_count": 79,
     "metadata": {},
     "output_type": "execute_result"
    }
   ],
   "source": [
    "data[(data['시도명']!='서울특별시') & (data['상권업종중분류명']=='유흥주점')].describe()"
   ]
  },
  {
   "cell_type": "markdown",
   "metadata": {},
   "source": [
    "count 메소드는 NaN이 아닌 행 또는 열의 개수를 세어준다. (기본값 axis=0)"
   ]
  },
  {
   "cell_type": "code",
   "execution_count": 80,
   "metadata": {},
   "outputs": [
    {
     "data": {
      "text/plain": [
       "상가업소번호       6630\n",
       "상호명          6630\n",
       "지점명           608\n",
       "상권업종대분류코드    6630\n",
       "상권업종대분류명     6630\n",
       "상권업종중분류코드    6630\n",
       "상권업종중분류명     6630\n",
       "상권업종소분류코드    6630\n",
       "상권업종소분류명     6630\n",
       "표준산업분류코드     6630\n",
       "표준산업분류명      6630\n",
       "시도코드         6630\n",
       "시도명          6630\n",
       "시군구코드        6630\n",
       "시군구명         6630\n",
       "행정동코드        6630\n",
       "행정동명         6630\n",
       "법정동코드        6630\n",
       "법정동명         6630\n",
       "지번코드         6630\n",
       "대지구분코드       6630\n",
       "대지구분명        6630\n",
       "지번본번지        6630\n",
       "지번부번지        6189\n",
       "지번주소         6630\n",
       "도로명코드        6630\n",
       "도로명          6630\n",
       "건물본번지        6630\n",
       "건물부번지        1230\n",
       "건물관리번호       6630\n",
       "건물명          1725\n",
       "도로명주소        6630\n",
       "구우편번호        6630\n",
       "신우편번호        6630\n",
       "동정보           238\n",
       "층정보          3118\n",
       "호정보           510\n",
       "경도           6630\n",
       "위도           6630\n",
       "dtype: int64"
      ]
     },
     "execution_count": 80,
     "metadata": {},
     "output_type": "execute_result"
    }
   ],
   "source": [
    "data[(data['시도명']!='서울특별시') & (data['상권업종중분류명']=='유흥주점')].count()"
   ]
  },
  {
   "cell_type": "markdown",
   "metadata": {},
   "source": [
    "서울시 마포구 또는 성북구에 있는 패스트푸드점 개수를 세어보자."
   ]
  },
  {
   "cell_type": "code",
   "execution_count": 81,
   "metadata": {},
   "outputs": [
    {
     "data": {
      "text/plain": [
       "Index(['상가업소번호', '상호명', '지점명', '상권업종대분류코드', '상권업종대분류명', '상권업종중분류코드',\n",
       "       '상권업종중분류명', '상권업종소분류코드', '상권업종소분류명', '표준산업분류코드', '표준산업분류명', '시도코드',\n",
       "       '시도명', '시군구코드', '시군구명', '행정동코드', '행정동명', '법정동코드', '법정동명', '지번코드',\n",
       "       '대지구분코드', '대지구분명', '지번본번지', '지번부번지', '지번주소', '도로명코드', '도로명', '건물본번지',\n",
       "       '건물부번지', '건물관리번호', '건물명', '도로명주소', '구우편번호', '신우편번호', '동정보', '층정보',\n",
       "       '호정보', '경도', '위도'],\n",
       "      dtype='object')"
      ]
     },
     "execution_count": 81,
     "metadata": {},
     "output_type": "execute_result"
    }
   ],
   "source": [
    "data.columns # 시군구명 열을 사용하면 될 것이다."
   ]
  },
  {
   "cell_type": "markdown",
   "metadata": {},
   "source": [
    "`value_counts`는 Series 객체만 사용할 수 있는 메소드다. (DataFrame은 사용 불가)"
   ]
  },
  {
   "cell_type": "code",
   "execution_count": 84,
   "metadata": {
    "scrolled": true
   },
   "outputs": [
    {
     "data": {
      "text/plain": [
       "강남구     47080\n",
       "중구      28824\n",
       "서초구     24976\n",
       "강서구     23433\n",
       "광진구     22306\n",
       "부산진구    21541\n",
       "송파구     20178\n",
       "해운대구    19909\n",
       "영등포구    19146\n",
       "동대문구    17451\n",
       "종로구     16984\n",
       "강동구     16114\n",
       "마포구     15967\n",
       "은평구     14618\n",
       "관악구     14561\n",
       "성북구     14453\n",
       "사하구     14424\n",
       "용산구     13544\n",
       "구로구     13359\n",
       "노원구     13126\n",
       "동래구     12497\n",
       "양천구     12481\n",
       "서대문구    12171\n",
       "중랑구     11654\n",
       "사상구     11171\n",
       "남구      11113\n",
       "금정구     10978\n",
       "금천구     10532\n",
       "성동구     10330\n",
       "연제구     10313\n",
       "수영구      9816\n",
       "동작구      9503\n",
       "북구       9427\n",
       "도봉구      9022\n",
       "강북구      8830\n",
       "기장군      6768\n",
       "동구       6563\n",
       "영도구      4302\n",
       "서구       4215\n",
       "Name: 시군구명, dtype: int64"
      ]
     },
     "execution_count": 84,
     "metadata": {},
     "output_type": "execute_result"
    }
   ],
   "source": [
    "data['시군구명'].value_counts() "
   ]
  },
  {
   "cell_type": "markdown",
   "metadata": {},
   "source": [
    "boolean indexing에서 조건을 여러개 사용할 때는 괄호로 묶어준다."
   ]
  },
  {
   "cell_type": "code",
   "execution_count": 86,
   "metadata": {},
   "outputs": [
    {
     "data": {
      "text/html": [
       "<div>\n",
       "<style scoped>\n",
       "    .dataframe tbody tr th:only-of-type {\n",
       "        vertical-align: middle;\n",
       "    }\n",
       "\n",
       "    .dataframe tbody tr th {\n",
       "        vertical-align: top;\n",
       "    }\n",
       "\n",
       "    .dataframe thead th {\n",
       "        text-align: right;\n",
       "    }\n",
       "</style>\n",
       "<table border=\"1\" class=\"dataframe\">\n",
       "  <thead>\n",
       "    <tr style=\"text-align: right;\">\n",
       "      <th></th>\n",
       "      <th>상가업소번호</th>\n",
       "      <th>상호명</th>\n",
       "      <th>지점명</th>\n",
       "      <th>상권업종대분류코드</th>\n",
       "      <th>상권업종대분류명</th>\n",
       "      <th>상권업종중분류코드</th>\n",
       "      <th>상권업종중분류명</th>\n",
       "      <th>상권업종소분류코드</th>\n",
       "      <th>상권업종소분류명</th>\n",
       "      <th>표준산업분류코드</th>\n",
       "      <th>...</th>\n",
       "      <th>건물관리번호</th>\n",
       "      <th>건물명</th>\n",
       "      <th>도로명주소</th>\n",
       "      <th>구우편번호</th>\n",
       "      <th>신우편번호</th>\n",
       "      <th>동정보</th>\n",
       "      <th>층정보</th>\n",
       "      <th>호정보</th>\n",
       "      <th>경도</th>\n",
       "      <th>위도</th>\n",
       "    </tr>\n",
       "  </thead>\n",
       "  <tbody>\n",
       "    <tr>\n",
       "      <th>12</th>\n",
       "      <td>19993199</td>\n",
       "      <td>고려대학교교육관쎄리오점</td>\n",
       "      <td>NaN</td>\n",
       "      <td>Q</td>\n",
       "      <td>음식</td>\n",
       "      <td>Q12</td>\n",
       "      <td>커피점/카페</td>\n",
       "      <td>Q12A01</td>\n",
       "      <td>커피전문점/카페/다방</td>\n",
       "      <td>I56220</td>\n",
       "      <td>...</td>\n",
       "      <td>1129012500100010002039525</td>\n",
       "      <td>고려대학교안암캠퍼스(인문사회계)</td>\n",
       "      <td>서울특별시 성북구 안암로 145</td>\n",
       "      <td>136701</td>\n",
       "      <td>2841.0</td>\n",
       "      <td>NaN</td>\n",
       "      <td>1</td>\n",
       "      <td>32</td>\n",
       "      <td>127.031702</td>\n",
       "      <td>37.588485</td>\n",
       "    </tr>\n",
       "    <tr>\n",
       "      <th>14</th>\n",
       "      <td>19987359</td>\n",
       "      <td>아구본가첨벙</td>\n",
       "      <td>NaN</td>\n",
       "      <td>Q</td>\n",
       "      <td>음식</td>\n",
       "      <td>Q03</td>\n",
       "      <td>일식/수산물</td>\n",
       "      <td>Q03A06</td>\n",
       "      <td>아구전문</td>\n",
       "      <td>I56111</td>\n",
       "      <td>...</td>\n",
       "      <td>1129013400100200001025204</td>\n",
       "      <td>현대백화점미아점</td>\n",
       "      <td>서울특별시 성북구 동소문로 315</td>\n",
       "      <td>136719</td>\n",
       "      <td>2730.0</td>\n",
       "      <td>NaN</td>\n",
       "      <td>NaN</td>\n",
       "      <td>NaN</td>\n",
       "      <td>127.028726</td>\n",
       "      <td>37.608392</td>\n",
       "    </tr>\n",
       "    <tr>\n",
       "      <th>74</th>\n",
       "      <td>20334864</td>\n",
       "      <td>상해식품점</td>\n",
       "      <td>미아점</td>\n",
       "      <td>D</td>\n",
       "      <td>소매</td>\n",
       "      <td>D01</td>\n",
       "      <td>음/식료품소매</td>\n",
       "      <td>D01A01</td>\n",
       "      <td>식료품점</td>\n",
       "      <td>G47219</td>\n",
       "      <td>...</td>\n",
       "      <td>1129013400100200001025204</td>\n",
       "      <td>현대백화점미아점</td>\n",
       "      <td>서울특별시 성북구 동소문로 315</td>\n",
       "      <td>136719</td>\n",
       "      <td>2730.0</td>\n",
       "      <td>NaN</td>\n",
       "      <td>1</td>\n",
       "      <td>NaN</td>\n",
       "      <td>127.028726</td>\n",
       "      <td>37.608392</td>\n",
       "    </tr>\n",
       "    <tr>\n",
       "      <th>95</th>\n",
       "      <td>20680081</td>\n",
       "      <td>제일목욕탕내이발</td>\n",
       "      <td>NaN</td>\n",
       "      <td>F</td>\n",
       "      <td>생활서비스</td>\n",
       "      <td>F09</td>\n",
       "      <td>대중목욕탕/휴게</td>\n",
       "      <td>F09A01</td>\n",
       "      <td>욕탕업-종합</td>\n",
       "      <td>S96121</td>\n",
       "      <td>...</td>\n",
       "      <td>1129013400105410100026435</td>\n",
       "      <td>NaN</td>\n",
       "      <td>서울특별시 성북구 길음로1길 27</td>\n",
       "      <td>136110</td>\n",
       "      <td>2722.0</td>\n",
       "      <td>NaN</td>\n",
       "      <td>1</td>\n",
       "      <td>NaN</td>\n",
       "      <td>127.022960</td>\n",
       "      <td>37.603262</td>\n",
       "    </tr>\n",
       "    <tr>\n",
       "      <th>100</th>\n",
       "      <td>20695531</td>\n",
       "      <td>메머드커피</td>\n",
       "      <td>NaN</td>\n",
       "      <td>Q</td>\n",
       "      <td>음식</td>\n",
       "      <td>Q12</td>\n",
       "      <td>커피점/카페</td>\n",
       "      <td>Q12A01</td>\n",
       "      <td>커피전문점/카페/다방</td>\n",
       "      <td>I56220</td>\n",
       "      <td>...</td>\n",
       "      <td>1144012000103270015009846</td>\n",
       "      <td>NaN</td>\n",
       "      <td>서울특별시 마포구 와우산로 149</td>\n",
       "      <td>121836</td>\n",
       "      <td>4052.0</td>\n",
       "      <td>NaN</td>\n",
       "      <td>1</td>\n",
       "      <td>NaN</td>\n",
       "      <td>126.929692</td>\n",
       "      <td>37.554599</td>\n",
       "    </tr>\n",
       "    <tr>\n",
       "      <th>...</th>\n",
       "      <td>...</td>\n",
       "      <td>...</td>\n",
       "      <td>...</td>\n",
       "      <td>...</td>\n",
       "      <td>...</td>\n",
       "      <td>...</td>\n",
       "      <td>...</td>\n",
       "      <td>...</td>\n",
       "      <td>...</td>\n",
       "      <td>...</td>\n",
       "      <td>...</td>\n",
       "      <td>...</td>\n",
       "      <td>...</td>\n",
       "      <td>...</td>\n",
       "      <td>...</td>\n",
       "      <td>...</td>\n",
       "      <td>...</td>\n",
       "      <td>...</td>\n",
       "      <td>...</td>\n",
       "      <td>...</td>\n",
       "      <td>...</td>\n",
       "    </tr>\n",
       "    <tr>\n",
       "      <th>573629</th>\n",
       "      <td>16365780</td>\n",
       "      <td>통일농수산</td>\n",
       "      <td>NaN</td>\n",
       "      <td>Q</td>\n",
       "      <td>음식</td>\n",
       "      <td>Q03</td>\n",
       "      <td>일식/수산물</td>\n",
       "      <td>Q03A02</td>\n",
       "      <td>음식점-일식</td>\n",
       "      <td>I56113</td>\n",
       "      <td>...</td>\n",
       "      <td>1144011500100930068009165</td>\n",
       "      <td>NaN</td>\n",
       "      <td>서울특별시 마포구 와우산로10길 29</td>\n",
       "      <td>121828</td>\n",
       "      <td>4068.0</td>\n",
       "      <td>NaN</td>\n",
       "      <td>3</td>\n",
       "      <td>NaN</td>\n",
       "      <td>126.924156</td>\n",
       "      <td>37.548440</td>\n",
       "    </tr>\n",
       "    <tr>\n",
       "      <th>573645</th>\n",
       "      <td>16377607</td>\n",
       "      <td>아스카헤어</td>\n",
       "      <td>NaN</td>\n",
       "      <td>F</td>\n",
       "      <td>생활서비스</td>\n",
       "      <td>F01</td>\n",
       "      <td>이/미용/건강</td>\n",
       "      <td>F01A01</td>\n",
       "      <td>여성미용실</td>\n",
       "      <td>S96112</td>\n",
       "      <td>...</td>\n",
       "      <td>1144012400105640037016472</td>\n",
       "      <td>NaN</td>\n",
       "      <td>서울특별시 마포구 연남로1길 88</td>\n",
       "      <td>121869</td>\n",
       "      <td>3991.0</td>\n",
       "      <td>NaN</td>\n",
       "      <td>NaN</td>\n",
       "      <td>NaN</td>\n",
       "      <td>126.918664</td>\n",
       "      <td>37.558815</td>\n",
       "    </tr>\n",
       "    <tr>\n",
       "      <th>573660</th>\n",
       "      <td>16329899</td>\n",
       "      <td>라라뷰티</td>\n",
       "      <td>NaN</td>\n",
       "      <td>F</td>\n",
       "      <td>생활서비스</td>\n",
       "      <td>F01</td>\n",
       "      <td>이/미용/건강</td>\n",
       "      <td>F01A03</td>\n",
       "      <td>비만/피부관리</td>\n",
       "      <td>NaN</td>\n",
       "      <td>...</td>\n",
       "      <td>1144012000103580113010263</td>\n",
       "      <td>NaN</td>\n",
       "      <td>서울특별시 마포구 어울마당로 96</td>\n",
       "      <td>121838</td>\n",
       "      <td>4040.0</td>\n",
       "      <td>NaN</td>\n",
       "      <td>NaN</td>\n",
       "      <td>NaN</td>\n",
       "      <td>126.922260</td>\n",
       "      <td>37.553513</td>\n",
       "    </tr>\n",
       "    <tr>\n",
       "      <th>573669</th>\n",
       "      <td>16311392</td>\n",
       "      <td>스테프핫도그</td>\n",
       "      <td>NaN</td>\n",
       "      <td>Q</td>\n",
       "      <td>음식</td>\n",
       "      <td>Q07</td>\n",
       "      <td>패스트푸드</td>\n",
       "      <td>Q07A04</td>\n",
       "      <td>패스트푸드</td>\n",
       "      <td>I56199</td>\n",
       "      <td>...</td>\n",
       "      <td>1144010700104180001024197</td>\n",
       "      <td>마포타워빌딩</td>\n",
       "      <td>서울특별시 마포구 마포대로4다길 41</td>\n",
       "      <td>121734</td>\n",
       "      <td>4177.0</td>\n",
       "      <td>NaN</td>\n",
       "      <td>15</td>\n",
       "      <td>NaN</td>\n",
       "      <td>126.943989</td>\n",
       "      <td>37.535121</td>\n",
       "    </tr>\n",
       "    <tr>\n",
       "      <th>573675</th>\n",
       "      <td>16394290</td>\n",
       "      <td>비파티세리공덕</td>\n",
       "      <td>NaN</td>\n",
       "      <td>Q</td>\n",
       "      <td>음식</td>\n",
       "      <td>Q01</td>\n",
       "      <td>한식</td>\n",
       "      <td>Q01A01</td>\n",
       "      <td>한식/백반/한정식</td>\n",
       "      <td>I56111</td>\n",
       "      <td>...</td>\n",
       "      <td>1144010200101050067001710</td>\n",
       "      <td>NaN</td>\n",
       "      <td>서울특별시 마포구 마포대로14길 4</td>\n",
       "      <td>121801</td>\n",
       "      <td>4211.0</td>\n",
       "      <td>NaN</td>\n",
       "      <td>NaN</td>\n",
       "      <td>NaN</td>\n",
       "      <td>126.955059</td>\n",
       "      <td>37.548618</td>\n",
       "    </tr>\n",
       "  </tbody>\n",
       "</table>\n",
       "<p>30420 rows × 39 columns</p>\n",
       "</div>"
      ],
      "text/plain": [
       "          상가업소번호           상호명  지점명 상권업종대분류코드 상권업종대분류명 상권업종중분류코드  상권업종중분류명  \\\n",
       "12      19993199  고려대학교교육관쎄리오점  NaN         Q       음식       Q12    커피점/카페   \n",
       "14      19987359        아구본가첨벙  NaN         Q       음식       Q03    일식/수산물   \n",
       "74      20334864         상해식품점  미아점         D       소매       D01   음/식료품소매   \n",
       "95      20680081      제일목욕탕내이발  NaN         F    생활서비스       F09  대중목욕탕/휴게   \n",
       "100     20695531         메머드커피  NaN         Q       음식       Q12    커피점/카페   \n",
       "...          ...           ...  ...       ...      ...       ...       ...   \n",
       "573629  16365780         통일농수산  NaN         Q       음식       Q03    일식/수산물   \n",
       "573645  16377607         아스카헤어  NaN         F    생활서비스       F01   이/미용/건강   \n",
       "573660  16329899          라라뷰티  NaN         F    생활서비스       F01   이/미용/건강   \n",
       "573669  16311392        스테프핫도그  NaN         Q       음식       Q07     패스트푸드   \n",
       "573675  16394290       비파티세리공덕  NaN         Q       음식       Q01        한식   \n",
       "\n",
       "       상권업종소분류코드     상권업종소분류명 표준산업분류코드  ...                     건물관리번호  \\\n",
       "12        Q12A01  커피전문점/카페/다방   I56220  ...  1129012500100010002039525   \n",
       "14        Q03A06         아구전문   I56111  ...  1129013400100200001025204   \n",
       "74        D01A01         식료품점   G47219  ...  1129013400100200001025204   \n",
       "95        F09A01       욕탕업-종합   S96121  ...  1129013400105410100026435   \n",
       "100       Q12A01  커피전문점/카페/다방   I56220  ...  1144012000103270015009846   \n",
       "...          ...          ...      ...  ...                        ...   \n",
       "573629    Q03A02       음식점-일식   I56113  ...  1144011500100930068009165   \n",
       "573645    F01A01        여성미용실   S96112  ...  1144012400105640037016472   \n",
       "573660    F01A03      비만/피부관리      NaN  ...  1144012000103580113010263   \n",
       "573669    Q07A04        패스트푸드   I56199  ...  1144010700104180001024197   \n",
       "573675    Q01A01    한식/백반/한정식   I56111  ...  1144010200101050067001710   \n",
       "\n",
       "                      건물명                 도로명주소   구우편번호   신우편번호  동정보  층정보  \\\n",
       "12      고려대학교안암캠퍼스(인문사회계)     서울특별시 성북구 안암로 145  136701  2841.0  NaN    1   \n",
       "14               현대백화점미아점    서울특별시 성북구 동소문로 315  136719  2730.0  NaN  NaN   \n",
       "74               현대백화점미아점    서울특별시 성북구 동소문로 315  136719  2730.0  NaN    1   \n",
       "95                    NaN    서울특별시 성북구 길음로1길 27  136110  2722.0  NaN    1   \n",
       "100                   NaN    서울특별시 마포구 와우산로 149  121836  4052.0  NaN    1   \n",
       "...                   ...                   ...     ...     ...  ...  ...   \n",
       "573629                NaN  서울특별시 마포구 와우산로10길 29  121828  4068.0  NaN    3   \n",
       "573645                NaN    서울특별시 마포구 연남로1길 88  121869  3991.0  NaN  NaN   \n",
       "573660                NaN    서울특별시 마포구 어울마당로 96  121838  4040.0  NaN  NaN   \n",
       "573669             마포타워빌딩  서울특별시 마포구 마포대로4다길 41  121734  4177.0  NaN   15   \n",
       "573675                NaN   서울특별시 마포구 마포대로14길 4  121801  4211.0  NaN  NaN   \n",
       "\n",
       "        호정보          경도         위도  \n",
       "12       32  127.031702  37.588485  \n",
       "14      NaN  127.028726  37.608392  \n",
       "74      NaN  127.028726  37.608392  \n",
       "95      NaN  127.022960  37.603262  \n",
       "100     NaN  126.929692  37.554599  \n",
       "...     ...         ...        ...  \n",
       "573629  NaN  126.924156  37.548440  \n",
       "573645  NaN  126.918664  37.558815  \n",
       "573660  NaN  126.922260  37.553513  \n",
       "573669  NaN  126.943989  37.535121  \n",
       "573675  NaN  126.955059  37.548618  \n",
       "\n",
       "[30420 rows x 39 columns]"
      ]
     },
     "execution_count": 86,
     "metadata": {},
     "output_type": "execute_result"
    }
   ],
   "source": [
    "data[(data['시군구명']=='마포구') | (data['시군구명']=='성북구')] # |는 논리 연산자 OR"
   ]
  },
  {
   "cell_type": "markdown",
   "metadata": {},
   "source": [
    "`isin`을 |(OR) 대신 쓰면 코드가 간결해진다."
   ]
  },
  {
   "cell_type": "code",
   "execution_count": 88,
   "metadata": {},
   "outputs": [
    {
     "data": {
      "text/html": [
       "<div>\n",
       "<style scoped>\n",
       "    .dataframe tbody tr th:only-of-type {\n",
       "        vertical-align: middle;\n",
       "    }\n",
       "\n",
       "    .dataframe tbody tr th {\n",
       "        vertical-align: top;\n",
       "    }\n",
       "\n",
       "    .dataframe thead th {\n",
       "        text-align: right;\n",
       "    }\n",
       "</style>\n",
       "<table border=\"1\" class=\"dataframe\">\n",
       "  <thead>\n",
       "    <tr style=\"text-align: right;\">\n",
       "      <th></th>\n",
       "      <th>상가업소번호</th>\n",
       "      <th>상호명</th>\n",
       "      <th>지점명</th>\n",
       "      <th>상권업종대분류코드</th>\n",
       "      <th>상권업종대분류명</th>\n",
       "      <th>상권업종중분류코드</th>\n",
       "      <th>상권업종중분류명</th>\n",
       "      <th>상권업종소분류코드</th>\n",
       "      <th>상권업종소분류명</th>\n",
       "      <th>표준산업분류코드</th>\n",
       "      <th>...</th>\n",
       "      <th>건물관리번호</th>\n",
       "      <th>건물명</th>\n",
       "      <th>도로명주소</th>\n",
       "      <th>구우편번호</th>\n",
       "      <th>신우편번호</th>\n",
       "      <th>동정보</th>\n",
       "      <th>층정보</th>\n",
       "      <th>호정보</th>\n",
       "      <th>경도</th>\n",
       "      <th>위도</th>\n",
       "    </tr>\n",
       "  </thead>\n",
       "  <tbody>\n",
       "    <tr>\n",
       "      <th>12</th>\n",
       "      <td>19993199</td>\n",
       "      <td>고려대학교교육관쎄리오점</td>\n",
       "      <td>NaN</td>\n",
       "      <td>Q</td>\n",
       "      <td>음식</td>\n",
       "      <td>Q12</td>\n",
       "      <td>커피점/카페</td>\n",
       "      <td>Q12A01</td>\n",
       "      <td>커피전문점/카페/다방</td>\n",
       "      <td>I56220</td>\n",
       "      <td>...</td>\n",
       "      <td>1129012500100010002039525</td>\n",
       "      <td>고려대학교안암캠퍼스(인문사회계)</td>\n",
       "      <td>서울특별시 성북구 안암로 145</td>\n",
       "      <td>136701</td>\n",
       "      <td>2841.0</td>\n",
       "      <td>NaN</td>\n",
       "      <td>1</td>\n",
       "      <td>32</td>\n",
       "      <td>127.031702</td>\n",
       "      <td>37.588485</td>\n",
       "    </tr>\n",
       "    <tr>\n",
       "      <th>14</th>\n",
       "      <td>19987359</td>\n",
       "      <td>아구본가첨벙</td>\n",
       "      <td>NaN</td>\n",
       "      <td>Q</td>\n",
       "      <td>음식</td>\n",
       "      <td>Q03</td>\n",
       "      <td>일식/수산물</td>\n",
       "      <td>Q03A06</td>\n",
       "      <td>아구전문</td>\n",
       "      <td>I56111</td>\n",
       "      <td>...</td>\n",
       "      <td>1129013400100200001025204</td>\n",
       "      <td>현대백화점미아점</td>\n",
       "      <td>서울특별시 성북구 동소문로 315</td>\n",
       "      <td>136719</td>\n",
       "      <td>2730.0</td>\n",
       "      <td>NaN</td>\n",
       "      <td>NaN</td>\n",
       "      <td>NaN</td>\n",
       "      <td>127.028726</td>\n",
       "      <td>37.608392</td>\n",
       "    </tr>\n",
       "    <tr>\n",
       "      <th>74</th>\n",
       "      <td>20334864</td>\n",
       "      <td>상해식품점</td>\n",
       "      <td>미아점</td>\n",
       "      <td>D</td>\n",
       "      <td>소매</td>\n",
       "      <td>D01</td>\n",
       "      <td>음/식료품소매</td>\n",
       "      <td>D01A01</td>\n",
       "      <td>식료품점</td>\n",
       "      <td>G47219</td>\n",
       "      <td>...</td>\n",
       "      <td>1129013400100200001025204</td>\n",
       "      <td>현대백화점미아점</td>\n",
       "      <td>서울특별시 성북구 동소문로 315</td>\n",
       "      <td>136719</td>\n",
       "      <td>2730.0</td>\n",
       "      <td>NaN</td>\n",
       "      <td>1</td>\n",
       "      <td>NaN</td>\n",
       "      <td>127.028726</td>\n",
       "      <td>37.608392</td>\n",
       "    </tr>\n",
       "    <tr>\n",
       "      <th>95</th>\n",
       "      <td>20680081</td>\n",
       "      <td>제일목욕탕내이발</td>\n",
       "      <td>NaN</td>\n",
       "      <td>F</td>\n",
       "      <td>생활서비스</td>\n",
       "      <td>F09</td>\n",
       "      <td>대중목욕탕/휴게</td>\n",
       "      <td>F09A01</td>\n",
       "      <td>욕탕업-종합</td>\n",
       "      <td>S96121</td>\n",
       "      <td>...</td>\n",
       "      <td>1129013400105410100026435</td>\n",
       "      <td>NaN</td>\n",
       "      <td>서울특별시 성북구 길음로1길 27</td>\n",
       "      <td>136110</td>\n",
       "      <td>2722.0</td>\n",
       "      <td>NaN</td>\n",
       "      <td>1</td>\n",
       "      <td>NaN</td>\n",
       "      <td>127.022960</td>\n",
       "      <td>37.603262</td>\n",
       "    </tr>\n",
       "    <tr>\n",
       "      <th>100</th>\n",
       "      <td>20695531</td>\n",
       "      <td>메머드커피</td>\n",
       "      <td>NaN</td>\n",
       "      <td>Q</td>\n",
       "      <td>음식</td>\n",
       "      <td>Q12</td>\n",
       "      <td>커피점/카페</td>\n",
       "      <td>Q12A01</td>\n",
       "      <td>커피전문점/카페/다방</td>\n",
       "      <td>I56220</td>\n",
       "      <td>...</td>\n",
       "      <td>1144012000103270015009846</td>\n",
       "      <td>NaN</td>\n",
       "      <td>서울특별시 마포구 와우산로 149</td>\n",
       "      <td>121836</td>\n",
       "      <td>4052.0</td>\n",
       "      <td>NaN</td>\n",
       "      <td>1</td>\n",
       "      <td>NaN</td>\n",
       "      <td>126.929692</td>\n",
       "      <td>37.554599</td>\n",
       "    </tr>\n",
       "    <tr>\n",
       "      <th>...</th>\n",
       "      <td>...</td>\n",
       "      <td>...</td>\n",
       "      <td>...</td>\n",
       "      <td>...</td>\n",
       "      <td>...</td>\n",
       "      <td>...</td>\n",
       "      <td>...</td>\n",
       "      <td>...</td>\n",
       "      <td>...</td>\n",
       "      <td>...</td>\n",
       "      <td>...</td>\n",
       "      <td>...</td>\n",
       "      <td>...</td>\n",
       "      <td>...</td>\n",
       "      <td>...</td>\n",
       "      <td>...</td>\n",
       "      <td>...</td>\n",
       "      <td>...</td>\n",
       "      <td>...</td>\n",
       "      <td>...</td>\n",
       "      <td>...</td>\n",
       "    </tr>\n",
       "    <tr>\n",
       "      <th>573629</th>\n",
       "      <td>16365780</td>\n",
       "      <td>통일농수산</td>\n",
       "      <td>NaN</td>\n",
       "      <td>Q</td>\n",
       "      <td>음식</td>\n",
       "      <td>Q03</td>\n",
       "      <td>일식/수산물</td>\n",
       "      <td>Q03A02</td>\n",
       "      <td>음식점-일식</td>\n",
       "      <td>I56113</td>\n",
       "      <td>...</td>\n",
       "      <td>1144011500100930068009165</td>\n",
       "      <td>NaN</td>\n",
       "      <td>서울특별시 마포구 와우산로10길 29</td>\n",
       "      <td>121828</td>\n",
       "      <td>4068.0</td>\n",
       "      <td>NaN</td>\n",
       "      <td>3</td>\n",
       "      <td>NaN</td>\n",
       "      <td>126.924156</td>\n",
       "      <td>37.548440</td>\n",
       "    </tr>\n",
       "    <tr>\n",
       "      <th>573645</th>\n",
       "      <td>16377607</td>\n",
       "      <td>아스카헤어</td>\n",
       "      <td>NaN</td>\n",
       "      <td>F</td>\n",
       "      <td>생활서비스</td>\n",
       "      <td>F01</td>\n",
       "      <td>이/미용/건강</td>\n",
       "      <td>F01A01</td>\n",
       "      <td>여성미용실</td>\n",
       "      <td>S96112</td>\n",
       "      <td>...</td>\n",
       "      <td>1144012400105640037016472</td>\n",
       "      <td>NaN</td>\n",
       "      <td>서울특별시 마포구 연남로1길 88</td>\n",
       "      <td>121869</td>\n",
       "      <td>3991.0</td>\n",
       "      <td>NaN</td>\n",
       "      <td>NaN</td>\n",
       "      <td>NaN</td>\n",
       "      <td>126.918664</td>\n",
       "      <td>37.558815</td>\n",
       "    </tr>\n",
       "    <tr>\n",
       "      <th>573660</th>\n",
       "      <td>16329899</td>\n",
       "      <td>라라뷰티</td>\n",
       "      <td>NaN</td>\n",
       "      <td>F</td>\n",
       "      <td>생활서비스</td>\n",
       "      <td>F01</td>\n",
       "      <td>이/미용/건강</td>\n",
       "      <td>F01A03</td>\n",
       "      <td>비만/피부관리</td>\n",
       "      <td>NaN</td>\n",
       "      <td>...</td>\n",
       "      <td>1144012000103580113010263</td>\n",
       "      <td>NaN</td>\n",
       "      <td>서울특별시 마포구 어울마당로 96</td>\n",
       "      <td>121838</td>\n",
       "      <td>4040.0</td>\n",
       "      <td>NaN</td>\n",
       "      <td>NaN</td>\n",
       "      <td>NaN</td>\n",
       "      <td>126.922260</td>\n",
       "      <td>37.553513</td>\n",
       "    </tr>\n",
       "    <tr>\n",
       "      <th>573669</th>\n",
       "      <td>16311392</td>\n",
       "      <td>스테프핫도그</td>\n",
       "      <td>NaN</td>\n",
       "      <td>Q</td>\n",
       "      <td>음식</td>\n",
       "      <td>Q07</td>\n",
       "      <td>패스트푸드</td>\n",
       "      <td>Q07A04</td>\n",
       "      <td>패스트푸드</td>\n",
       "      <td>I56199</td>\n",
       "      <td>...</td>\n",
       "      <td>1144010700104180001024197</td>\n",
       "      <td>마포타워빌딩</td>\n",
       "      <td>서울특별시 마포구 마포대로4다길 41</td>\n",
       "      <td>121734</td>\n",
       "      <td>4177.0</td>\n",
       "      <td>NaN</td>\n",
       "      <td>15</td>\n",
       "      <td>NaN</td>\n",
       "      <td>126.943989</td>\n",
       "      <td>37.535121</td>\n",
       "    </tr>\n",
       "    <tr>\n",
       "      <th>573675</th>\n",
       "      <td>16394290</td>\n",
       "      <td>비파티세리공덕</td>\n",
       "      <td>NaN</td>\n",
       "      <td>Q</td>\n",
       "      <td>음식</td>\n",
       "      <td>Q01</td>\n",
       "      <td>한식</td>\n",
       "      <td>Q01A01</td>\n",
       "      <td>한식/백반/한정식</td>\n",
       "      <td>I56111</td>\n",
       "      <td>...</td>\n",
       "      <td>1144010200101050067001710</td>\n",
       "      <td>NaN</td>\n",
       "      <td>서울특별시 마포구 마포대로14길 4</td>\n",
       "      <td>121801</td>\n",
       "      <td>4211.0</td>\n",
       "      <td>NaN</td>\n",
       "      <td>NaN</td>\n",
       "      <td>NaN</td>\n",
       "      <td>126.955059</td>\n",
       "      <td>37.548618</td>\n",
       "    </tr>\n",
       "  </tbody>\n",
       "</table>\n",
       "<p>30420 rows × 39 columns</p>\n",
       "</div>"
      ],
      "text/plain": [
       "          상가업소번호           상호명  지점명 상권업종대분류코드 상권업종대분류명 상권업종중분류코드  상권업종중분류명  \\\n",
       "12      19993199  고려대학교교육관쎄리오점  NaN         Q       음식       Q12    커피점/카페   \n",
       "14      19987359        아구본가첨벙  NaN         Q       음식       Q03    일식/수산물   \n",
       "74      20334864         상해식품점  미아점         D       소매       D01   음/식료품소매   \n",
       "95      20680081      제일목욕탕내이발  NaN         F    생활서비스       F09  대중목욕탕/휴게   \n",
       "100     20695531         메머드커피  NaN         Q       음식       Q12    커피점/카페   \n",
       "...          ...           ...  ...       ...      ...       ...       ...   \n",
       "573629  16365780         통일농수산  NaN         Q       음식       Q03    일식/수산물   \n",
       "573645  16377607         아스카헤어  NaN         F    생활서비스       F01   이/미용/건강   \n",
       "573660  16329899          라라뷰티  NaN         F    생활서비스       F01   이/미용/건강   \n",
       "573669  16311392        스테프핫도그  NaN         Q       음식       Q07     패스트푸드   \n",
       "573675  16394290       비파티세리공덕  NaN         Q       음식       Q01        한식   \n",
       "\n",
       "       상권업종소분류코드     상권업종소분류명 표준산업분류코드  ...                     건물관리번호  \\\n",
       "12        Q12A01  커피전문점/카페/다방   I56220  ...  1129012500100010002039525   \n",
       "14        Q03A06         아구전문   I56111  ...  1129013400100200001025204   \n",
       "74        D01A01         식료품점   G47219  ...  1129013400100200001025204   \n",
       "95        F09A01       욕탕업-종합   S96121  ...  1129013400105410100026435   \n",
       "100       Q12A01  커피전문점/카페/다방   I56220  ...  1144012000103270015009846   \n",
       "...          ...          ...      ...  ...                        ...   \n",
       "573629    Q03A02       음식점-일식   I56113  ...  1144011500100930068009165   \n",
       "573645    F01A01        여성미용실   S96112  ...  1144012400105640037016472   \n",
       "573660    F01A03      비만/피부관리      NaN  ...  1144012000103580113010263   \n",
       "573669    Q07A04        패스트푸드   I56199  ...  1144010700104180001024197   \n",
       "573675    Q01A01    한식/백반/한정식   I56111  ...  1144010200101050067001710   \n",
       "\n",
       "                      건물명                 도로명주소   구우편번호   신우편번호  동정보  층정보  \\\n",
       "12      고려대학교안암캠퍼스(인문사회계)     서울특별시 성북구 안암로 145  136701  2841.0  NaN    1   \n",
       "14               현대백화점미아점    서울특별시 성북구 동소문로 315  136719  2730.0  NaN  NaN   \n",
       "74               현대백화점미아점    서울특별시 성북구 동소문로 315  136719  2730.0  NaN    1   \n",
       "95                    NaN    서울특별시 성북구 길음로1길 27  136110  2722.0  NaN    1   \n",
       "100                   NaN    서울특별시 마포구 와우산로 149  121836  4052.0  NaN    1   \n",
       "...                   ...                   ...     ...     ...  ...  ...   \n",
       "573629                NaN  서울특별시 마포구 와우산로10길 29  121828  4068.0  NaN    3   \n",
       "573645                NaN    서울특별시 마포구 연남로1길 88  121869  3991.0  NaN  NaN   \n",
       "573660                NaN    서울특별시 마포구 어울마당로 96  121838  4040.0  NaN  NaN   \n",
       "573669             마포타워빌딩  서울특별시 마포구 마포대로4다길 41  121734  4177.0  NaN   15   \n",
       "573675                NaN   서울특별시 마포구 마포대로14길 4  121801  4211.0  NaN  NaN   \n",
       "\n",
       "        호정보          경도         위도  \n",
       "12       32  127.031702  37.588485  \n",
       "14      NaN  127.028726  37.608392  \n",
       "74      NaN  127.028726  37.608392  \n",
       "95      NaN  127.022960  37.603262  \n",
       "100     NaN  126.929692  37.554599  \n",
       "...     ...         ...        ...  \n",
       "573629  NaN  126.924156  37.548440  \n",
       "573645  NaN  126.918664  37.558815  \n",
       "573660  NaN  126.922260  37.553513  \n",
       "573669  NaN  126.943989  37.535121  \n",
       "573675  NaN  126.955059  37.548618  \n",
       "\n",
       "[30420 rows x 39 columns]"
      ]
     },
     "execution_count": 88,
     "metadata": {},
     "output_type": "execute_result"
    }
   ],
   "source": [
    "data[data['시군구명'].isin(['마포구', '성북구'])] # 위의 코드와 결과 같음"
   ]
  },
  {
   "cell_type": "markdown",
   "metadata": {},
   "source": [
    "최종적으로 서울시 마포구 또는 성북구에 있는 패스트푸드점은 다음과 같이 찾을 수 있다."
   ]
  },
  {
   "cell_type": "code",
   "execution_count": 91,
   "metadata": {},
   "outputs": [
    {
     "data": {
      "text/html": [
       "<div>\n",
       "<style scoped>\n",
       "    .dataframe tbody tr th:only-of-type {\n",
       "        vertical-align: middle;\n",
       "    }\n",
       "\n",
       "    .dataframe tbody tr th {\n",
       "        vertical-align: top;\n",
       "    }\n",
       "\n",
       "    .dataframe thead th {\n",
       "        text-align: right;\n",
       "    }\n",
       "</style>\n",
       "<table border=\"1\" class=\"dataframe\">\n",
       "  <thead>\n",
       "    <tr style=\"text-align: right;\">\n",
       "      <th></th>\n",
       "      <th>상가업소번호</th>\n",
       "      <th>상호명</th>\n",
       "      <th>지점명</th>\n",
       "      <th>상권업종대분류코드</th>\n",
       "      <th>상권업종대분류명</th>\n",
       "      <th>상권업종중분류코드</th>\n",
       "      <th>상권업종중분류명</th>\n",
       "      <th>상권업종소분류코드</th>\n",
       "      <th>상권업종소분류명</th>\n",
       "      <th>표준산업분류코드</th>\n",
       "      <th>...</th>\n",
       "      <th>건물관리번호</th>\n",
       "      <th>건물명</th>\n",
       "      <th>도로명주소</th>\n",
       "      <th>구우편번호</th>\n",
       "      <th>신우편번호</th>\n",
       "      <th>동정보</th>\n",
       "      <th>층정보</th>\n",
       "      <th>호정보</th>\n",
       "      <th>경도</th>\n",
       "      <th>위도</th>\n",
       "    </tr>\n",
       "  </thead>\n",
       "  <tbody>\n",
       "    <tr>\n",
       "      <th>111</th>\n",
       "      <td>20687182</td>\n",
       "      <td>본도시락</td>\n",
       "      <td>고려대점</td>\n",
       "      <td>Q</td>\n",
       "      <td>음식</td>\n",
       "      <td>Q07</td>\n",
       "      <td>패스트푸드</td>\n",
       "      <td>Q07A02</td>\n",
       "      <td>도시락전문점</td>\n",
       "      <td>I56111</td>\n",
       "      <td>...</td>\n",
       "      <td>1129012500101340070041092</td>\n",
       "      <td>NaN</td>\n",
       "      <td>서울특별시 성북구 안암로 63</td>\n",
       "      <td>136075</td>\n",
       "      <td>2855.0</td>\n",
       "      <td>NaN</td>\n",
       "      <td>1</td>\n",
       "      <td>NaN</td>\n",
       "      <td>127.028589</td>\n",
       "      <td>37.582278</td>\n",
       "    </tr>\n",
       "    <tr>\n",
       "      <th>2164</th>\n",
       "      <td>20017778</td>\n",
       "      <td>베스킨라빈스</td>\n",
       "      <td>NaN</td>\n",
       "      <td>Q</td>\n",
       "      <td>음식</td>\n",
       "      <td>Q07</td>\n",
       "      <td>패스트푸드</td>\n",
       "      <td>Q07A07</td>\n",
       "      <td>아이스크림판매</td>\n",
       "      <td>I56191</td>\n",
       "      <td>...</td>\n",
       "      <td>1144012000103600005010273</td>\n",
       "      <td>NaN</td>\n",
       "      <td>서울특별시 마포구 와우산로 88</td>\n",
       "      <td>121837</td>\n",
       "      <td>4067.0</td>\n",
       "      <td>NaN</td>\n",
       "      <td>NaN</td>\n",
       "      <td>NaN</td>\n",
       "      <td>126.923809</td>\n",
       "      <td>37.552104</td>\n",
       "    </tr>\n",
       "    <tr>\n",
       "      <th>2293</th>\n",
       "      <td>20263841</td>\n",
       "      <td>피자헛</td>\n",
       "      <td>홍대역점</td>\n",
       "      <td>Q</td>\n",
       "      <td>음식</td>\n",
       "      <td>Q07</td>\n",
       "      <td>패스트푸드</td>\n",
       "      <td>Q07A01</td>\n",
       "      <td>피자전문</td>\n",
       "      <td>I56192</td>\n",
       "      <td>...</td>\n",
       "      <td>1144012100101650005011786</td>\n",
       "      <td>동교동대아빌딩</td>\n",
       "      <td>서울특별시 마포구 양화로 162</td>\n",
       "      <td>121755</td>\n",
       "      <td>4050.0</td>\n",
       "      <td>NaN</td>\n",
       "      <td>12</td>\n",
       "      <td>NaN</td>\n",
       "      <td>126.923860</td>\n",
       "      <td>37.556420</td>\n",
       "    </tr>\n",
       "    <tr>\n",
       "      <th>2423</th>\n",
       "      <td>20378527</td>\n",
       "      <td>찌찌뽕</td>\n",
       "      <td>NaN</td>\n",
       "      <td>Q</td>\n",
       "      <td>음식</td>\n",
       "      <td>Q07</td>\n",
       "      <td>패스트푸드</td>\n",
       "      <td>Q07A04</td>\n",
       "      <td>패스트푸드</td>\n",
       "      <td>I56199</td>\n",
       "      <td>...</td>\n",
       "      <td>1144012000103460051020581</td>\n",
       "      <td>NaN</td>\n",
       "      <td>서울특별시 마포구 와우산로23길 40</td>\n",
       "      <td>121837</td>\n",
       "      <td>4055.0</td>\n",
       "      <td>NaN</td>\n",
       "      <td>2</td>\n",
       "      <td>NaN</td>\n",
       "      <td>126.923649</td>\n",
       "      <td>37.554571</td>\n",
       "    </tr>\n",
       "    <tr>\n",
       "      <th>2474</th>\n",
       "      <td>20416054</td>\n",
       "      <td>림벅와플앤츄로스</td>\n",
       "      <td>NaN</td>\n",
       "      <td>Q</td>\n",
       "      <td>음식</td>\n",
       "      <td>Q07</td>\n",
       "      <td>패스트푸드</td>\n",
       "      <td>Q07A04</td>\n",
       "      <td>패스트푸드</td>\n",
       "      <td>I56199</td>\n",
       "      <td>...</td>\n",
       "      <td>1144012000103580036010229</td>\n",
       "      <td>서교빌딩</td>\n",
       "      <td>서울특별시 마포구 와우산로21길 14</td>\n",
       "      <td>121838</td>\n",
       "      <td>4040.0</td>\n",
       "      <td>NaN</td>\n",
       "      <td>1</td>\n",
       "      <td>NaN</td>\n",
       "      <td>126.923147</td>\n",
       "      <td>37.552476</td>\n",
       "    </tr>\n",
       "    <tr>\n",
       "      <th>...</th>\n",
       "      <td>...</td>\n",
       "      <td>...</td>\n",
       "      <td>...</td>\n",
       "      <td>...</td>\n",
       "      <td>...</td>\n",
       "      <td>...</td>\n",
       "      <td>...</td>\n",
       "      <td>...</td>\n",
       "      <td>...</td>\n",
       "      <td>...</td>\n",
       "      <td>...</td>\n",
       "      <td>...</td>\n",
       "      <td>...</td>\n",
       "      <td>...</td>\n",
       "      <td>...</td>\n",
       "      <td>...</td>\n",
       "      <td>...</td>\n",
       "      <td>...</td>\n",
       "      <td>...</td>\n",
       "      <td>...</td>\n",
       "      <td>...</td>\n",
       "    </tr>\n",
       "    <tr>\n",
       "      <th>565621</th>\n",
       "      <td>16334686</td>\n",
       "      <td>세븐바이츠</td>\n",
       "      <td>NaN</td>\n",
       "      <td>Q</td>\n",
       "      <td>음식</td>\n",
       "      <td>Q07</td>\n",
       "      <td>패스트푸드</td>\n",
       "      <td>Q07A04</td>\n",
       "      <td>패스트푸드</td>\n",
       "      <td>I56199</td>\n",
       "      <td>...</td>\n",
       "      <td>1144012000103270030020380</td>\n",
       "      <td>NaN</td>\n",
       "      <td>서울특별시 마포구 와우산로29길 4-30</td>\n",
       "      <td>121836</td>\n",
       "      <td>4052.0</td>\n",
       "      <td>NaN</td>\n",
       "      <td>NaN</td>\n",
       "      <td>201</td>\n",
       "      <td>126.929753</td>\n",
       "      <td>37.555086</td>\n",
       "    </tr>\n",
       "    <tr>\n",
       "      <th>566796</th>\n",
       "      <td>16387614</td>\n",
       "      <td>청년피자</td>\n",
       "      <td>마포서교점</td>\n",
       "      <td>Q</td>\n",
       "      <td>음식</td>\n",
       "      <td>Q07</td>\n",
       "      <td>패스트푸드</td>\n",
       "      <td>Q07A01</td>\n",
       "      <td>피자전문</td>\n",
       "      <td>I56192</td>\n",
       "      <td>...</td>\n",
       "      <td>1144012000104650001011278</td>\n",
       "      <td>광남벨라스아파트</td>\n",
       "      <td>서울특별시 마포구 동교로 126</td>\n",
       "      <td>121842</td>\n",
       "      <td>4030.0</td>\n",
       "      <td>NaN</td>\n",
       "      <td>NaN</td>\n",
       "      <td>NaN</td>\n",
       "      <td>126.916199</td>\n",
       "      <td>37.554719</td>\n",
       "    </tr>\n",
       "    <tr>\n",
       "      <th>569354</th>\n",
       "      <td>16325635</td>\n",
       "      <td>브로스버거</td>\n",
       "      <td>NaN</td>\n",
       "      <td>Q</td>\n",
       "      <td>음식</td>\n",
       "      <td>Q07</td>\n",
       "      <td>패스트푸드</td>\n",
       "      <td>Q07A04</td>\n",
       "      <td>패스트푸드</td>\n",
       "      <td>I56199</td>\n",
       "      <td>...</td>\n",
       "      <td>1144012000103580096010252</td>\n",
       "      <td>포도빌딩</td>\n",
       "      <td>서울특별시 마포구 홍익로 3-30</td>\n",
       "      <td>121838</td>\n",
       "      <td>4040.0</td>\n",
       "      <td>NaN</td>\n",
       "      <td>NaN</td>\n",
       "      <td>NaN</td>\n",
       "      <td>126.923016</td>\n",
       "      <td>37.552907</td>\n",
       "    </tr>\n",
       "    <tr>\n",
       "      <th>570791</th>\n",
       "      <td>16373427</td>\n",
       "      <td>햄버거</td>\n",
       "      <td>NaN</td>\n",
       "      <td>Q</td>\n",
       "      <td>음식</td>\n",
       "      <td>Q07</td>\n",
       "      <td>패스트푸드</td>\n",
       "      <td>Q07A04</td>\n",
       "      <td>패스트푸드</td>\n",
       "      <td>I56199</td>\n",
       "      <td>...</td>\n",
       "      <td>1129012500100010002039525</td>\n",
       "      <td>고려대학교안암캠퍼스</td>\n",
       "      <td>서울특별시 성북구 안암로 145</td>\n",
       "      <td>136701</td>\n",
       "      <td>2841.0</td>\n",
       "      <td>NaN</td>\n",
       "      <td>5</td>\n",
       "      <td>NaN</td>\n",
       "      <td>127.031702</td>\n",
       "      <td>37.588485</td>\n",
       "    </tr>\n",
       "    <tr>\n",
       "      <th>573669</th>\n",
       "      <td>16311392</td>\n",
       "      <td>스테프핫도그</td>\n",
       "      <td>NaN</td>\n",
       "      <td>Q</td>\n",
       "      <td>음식</td>\n",
       "      <td>Q07</td>\n",
       "      <td>패스트푸드</td>\n",
       "      <td>Q07A04</td>\n",
       "      <td>패스트푸드</td>\n",
       "      <td>I56199</td>\n",
       "      <td>...</td>\n",
       "      <td>1144010700104180001024197</td>\n",
       "      <td>마포타워빌딩</td>\n",
       "      <td>서울특별시 마포구 마포대로4다길 41</td>\n",
       "      <td>121734</td>\n",
       "      <td>4177.0</td>\n",
       "      <td>NaN</td>\n",
       "      <td>15</td>\n",
       "      <td>NaN</td>\n",
       "      <td>126.943989</td>\n",
       "      <td>37.535121</td>\n",
       "    </tr>\n",
       "  </tbody>\n",
       "</table>\n",
       "<p>489 rows × 39 columns</p>\n",
       "</div>"
      ],
      "text/plain": [
       "          상가업소번호       상호명    지점명 상권업종대분류코드 상권업종대분류명 상권업종중분류코드 상권업종중분류명  \\\n",
       "111     20687182      본도시락   고려대점         Q       음식       Q07    패스트푸드   \n",
       "2164    20017778    베스킨라빈스    NaN         Q       음식       Q07    패스트푸드   \n",
       "2293    20263841       피자헛   홍대역점         Q       음식       Q07    패스트푸드   \n",
       "2423    20378527       찌찌뽕    NaN         Q       음식       Q07    패스트푸드   \n",
       "2474    20416054  림벅와플앤츄로스    NaN         Q       음식       Q07    패스트푸드   \n",
       "...          ...       ...    ...       ...      ...       ...      ...   \n",
       "565621  16334686     세븐바이츠    NaN         Q       음식       Q07    패스트푸드   \n",
       "566796  16387614      청년피자  마포서교점         Q       음식       Q07    패스트푸드   \n",
       "569354  16325635     브로스버거    NaN         Q       음식       Q07    패스트푸드   \n",
       "570791  16373427       햄버거    NaN         Q       음식       Q07    패스트푸드   \n",
       "573669  16311392    스테프핫도그    NaN         Q       음식       Q07    패스트푸드   \n",
       "\n",
       "       상권업종소분류코드 상권업종소분류명 표준산업분류코드  ...                     건물관리번호  \\\n",
       "111       Q07A02   도시락전문점   I56111  ...  1129012500101340070041092   \n",
       "2164      Q07A07  아이스크림판매   I56191  ...  1144012000103600005010273   \n",
       "2293      Q07A01     피자전문   I56192  ...  1144012100101650005011786   \n",
       "2423      Q07A04    패스트푸드   I56199  ...  1144012000103460051020581   \n",
       "2474      Q07A04    패스트푸드   I56199  ...  1144012000103580036010229   \n",
       "...          ...      ...      ...  ...                        ...   \n",
       "565621    Q07A04    패스트푸드   I56199  ...  1144012000103270030020380   \n",
       "566796    Q07A01     피자전문   I56192  ...  1144012000104650001011278   \n",
       "569354    Q07A04    패스트푸드   I56199  ...  1144012000103580096010252   \n",
       "570791    Q07A04    패스트푸드   I56199  ...  1129012500100010002039525   \n",
       "573669    Q07A04    패스트푸드   I56199  ...  1144010700104180001024197   \n",
       "\n",
       "               건물명                   도로명주소   구우편번호   신우편번호  동정보  층정보  호정보  \\\n",
       "111            NaN        서울특별시 성북구 안암로 63  136075  2855.0  NaN    1  NaN   \n",
       "2164           NaN       서울특별시 마포구 와우산로 88  121837  4067.0  NaN  NaN  NaN   \n",
       "2293       동교동대아빌딩       서울특별시 마포구 양화로 162  121755  4050.0  NaN   12  NaN   \n",
       "2423           NaN    서울특별시 마포구 와우산로23길 40  121837  4055.0  NaN    2  NaN   \n",
       "2474          서교빌딩    서울특별시 마포구 와우산로21길 14  121838  4040.0  NaN    1  NaN   \n",
       "...            ...                     ...     ...     ...  ...  ...  ...   \n",
       "565621         NaN  서울특별시 마포구 와우산로29길 4-30  121836  4052.0  NaN  NaN  201   \n",
       "566796    광남벨라스아파트       서울특별시 마포구 동교로 126  121842  4030.0  NaN  NaN  NaN   \n",
       "569354        포도빌딩      서울특별시 마포구 홍익로 3-30  121838  4040.0  NaN  NaN  NaN   \n",
       "570791  고려대학교안암캠퍼스       서울특별시 성북구 안암로 145  136701  2841.0  NaN    5  NaN   \n",
       "573669      마포타워빌딩    서울특별시 마포구 마포대로4다길 41  121734  4177.0  NaN   15  NaN   \n",
       "\n",
       "                경도         위도  \n",
       "111     127.028589  37.582278  \n",
       "2164    126.923809  37.552104  \n",
       "2293    126.923860  37.556420  \n",
       "2423    126.923649  37.554571  \n",
       "2474    126.923147  37.552476  \n",
       "...            ...        ...  \n",
       "565621  126.929753  37.555086  \n",
       "566796  126.916199  37.554719  \n",
       "569354  126.923016  37.552907  \n",
       "570791  127.031702  37.588485  \n",
       "573669  126.943989  37.535121  \n",
       "\n",
       "[489 rows x 39 columns]"
      ]
     },
     "execution_count": 91,
     "metadata": {},
     "output_type": "execute_result"
    }
   ],
   "source": [
    "data[data['시군구명'].isin(['마포구', '성북구']) & (data['상권업종중분류명']=='패스트푸드')]"
   ]
  },
  {
   "cell_type": "markdown",
   "metadata": {},
   "source": [
    "마포구 성북구 따로 개수 세어보자. (`value_counts`는 Series만 쓸 수 있음에 유의)"
   ]
  },
  {
   "cell_type": "code",
   "execution_count": 90,
   "metadata": {},
   "outputs": [
    {
     "data": {
      "text/plain": [
       "마포구    254\n",
       "성북구    235\n",
       "Name: 시군구명, dtype: int64"
      ]
     },
     "execution_count": 90,
     "metadata": {},
     "output_type": "execute_result"
    }
   ],
   "source": [
    "data[data['시군구명'].isin(['마포구', '성북구']) & (data['상권업종중분류명']=='패스트푸드')][\"시군구명\"].value_counts("
   ]
  },
  {
   "cell_type": "markdown",
   "metadata": {
    "heading_collapsed": true
   },
   "source": [
    "## 그래프 그릴 때 index가 x축이다."
   ]
  },
  {
   "cell_type": "code",
   "execution_count": 92,
   "metadata": {
    "hidden": true
   },
   "outputs": [],
   "source": [
    "t = data[data['시군구명'].isin(['마포구', '성북구']) & (data['상권업종중분류명']=='패스트푸드')][\"시군구명\"].value_counts()"
   ]
  },
  {
   "cell_type": "code",
   "execution_count": 93,
   "metadata": {
    "hidden": true
   },
   "outputs": [
    {
     "data": {
      "text/plain": [
       "<matplotlib.axes._subplots.AxesSubplot at 0x20063e17e80>"
      ]
     },
     "execution_count": 93,
     "metadata": {},
     "output_type": "execute_result"
    },
    {
     "name": "stderr",
     "output_type": "stream",
     "text": [
      "C:\\Users\\JINHYO\\Anaconda3\\lib\\site-packages\\matplotlib\\backends\\backend_agg.py:211: RuntimeWarning: Glyph 49884 missing from current font.\n",
      "  font.set_text(s, 0.0, flags=flags)\n",
      "C:\\Users\\JINHYO\\Anaconda3\\lib\\site-packages\\matplotlib\\backends\\backend_agg.py:211: RuntimeWarning: Glyph 44400 missing from current font.\n",
      "  font.set_text(s, 0.0, flags=flags)\n",
      "C:\\Users\\JINHYO\\Anaconda3\\lib\\site-packages\\matplotlib\\backends\\backend_agg.py:211: RuntimeWarning: Glyph 44396 missing from current font.\n",
      "  font.set_text(s, 0.0, flags=flags)\n",
      "C:\\Users\\JINHYO\\Anaconda3\\lib\\site-packages\\matplotlib\\backends\\backend_agg.py:211: RuntimeWarning: Glyph 47749 missing from current font.\n",
      "  font.set_text(s, 0.0, flags=flags)\n",
      "C:\\Users\\JINHYO\\Anaconda3\\lib\\site-packages\\matplotlib\\backends\\backend_agg.py:180: RuntimeWarning: Glyph 49884 missing from current font.\n",
      "  font.set_text(s, 0, flags=flags)\n",
      "C:\\Users\\JINHYO\\Anaconda3\\lib\\site-packages\\matplotlib\\backends\\backend_agg.py:180: RuntimeWarning: Glyph 44400 missing from current font.\n",
      "  font.set_text(s, 0, flags=flags)\n",
      "C:\\Users\\JINHYO\\Anaconda3\\lib\\site-packages\\matplotlib\\backends\\backend_agg.py:180: RuntimeWarning: Glyph 44396 missing from current font.\n",
      "  font.set_text(s, 0, flags=flags)\n",
      "C:\\Users\\JINHYO\\Anaconda3\\lib\\site-packages\\matplotlib\\backends\\backend_agg.py:180: RuntimeWarning: Glyph 47749 missing from current font.\n",
      "  font.set_text(s, 0, flags=flags)\n",
      "C:\\Users\\JINHYO\\Anaconda3\\lib\\site-packages\\matplotlib\\backends\\backend_agg.py:211: RuntimeWarning: Glyph 47560 missing from current font.\n",
      "  font.set_text(s, 0.0, flags=flags)\n",
      "C:\\Users\\JINHYO\\Anaconda3\\lib\\site-packages\\matplotlib\\backends\\backend_agg.py:211: RuntimeWarning: Glyph 54252 missing from current font.\n",
      "  font.set_text(s, 0.0, flags=flags)\n",
      "C:\\Users\\JINHYO\\Anaconda3\\lib\\site-packages\\matplotlib\\backends\\backend_agg.py:180: RuntimeWarning: Glyph 47560 missing from current font.\n",
      "  font.set_text(s, 0, flags=flags)\n",
      "C:\\Users\\JINHYO\\Anaconda3\\lib\\site-packages\\matplotlib\\backends\\backend_agg.py:180: RuntimeWarning: Glyph 54252 missing from current font.\n",
      "  font.set_text(s, 0, flags=flags)\n",
      "C:\\Users\\JINHYO\\Anaconda3\\lib\\site-packages\\matplotlib\\backends\\backend_agg.py:211: RuntimeWarning: Glyph 49457 missing from current font.\n",
      "  font.set_text(s, 0.0, flags=flags)\n",
      "C:\\Users\\JINHYO\\Anaconda3\\lib\\site-packages\\matplotlib\\backends\\backend_agg.py:211: RuntimeWarning: Glyph 48513 missing from current font.\n",
      "  font.set_text(s, 0.0, flags=flags)\n",
      "C:\\Users\\JINHYO\\Anaconda3\\lib\\site-packages\\matplotlib\\backends\\backend_agg.py:180: RuntimeWarning: Glyph 49457 missing from current font.\n",
      "  font.set_text(s, 0, flags=flags)\n",
      "C:\\Users\\JINHYO\\Anaconda3\\lib\\site-packages\\matplotlib\\backends\\backend_agg.py:180: RuntimeWarning: Glyph 48513 missing from current font.\n",
      "  font.set_text(s, 0, flags=flags)\n"
     ]
    },
    {
     "data": {
      "image/png": "[encoded data removed]",
      "text/plain": [
       "<Figure size 432x288 with 1 Axes>"
      ]
     },
     "metadata": {},
     "output_type": "display_data"
    }
   ],
   "source": [
    "t.plot.pie() # 에러 메시지는 font를 못 찾는다는 뜻\n",
    "             # 기본적으로 한글 지원이 안된다. \n",
    "             # 한글 설정하는 법 나중에 배울 예정."
   ]
  },
  {
   "cell_type": "markdown",
   "metadata": {
    "hidden": true
   },
   "source": [
    "pandas는 그래프를 쉽게 그릴 수 있다. "
   ]
  },
  {
   "cell_type": "code",
   "execution_count": 97,
   "metadata": {
    "hidden": true
   },
   "outputs": [
    {
     "data": {
      "image/png": "[encoded data removed]",
      "text/plain": [
       "<Figure size 432x288 with 1 Axes>"
      ]
     },
     "metadata": {
      "needs_background": "light"
     },
     "output_type": "display_data"
    }
   ],
   "source": [
    "t.plot.bar();"
   ]
  },
  {
   "cell_type": "markdown",
   "metadata": {
    "hidden": true
   },
   "source": [
    "y축의 범위를 제한시켜 차이가 커보이게 그래프를 조작할 수 있다."
   ]
  },
  {
   "cell_type": "code",
   "execution_count": 96,
   "metadata": {
    "hidden": true
   },
   "outputs": [
    {
     "data": {
      "image/png": "[encoded data removed]",
      "text/plain": [
       "<Figure size 432x288 with 1 Axes>"
      ]
     },
     "metadata": {
      "needs_background": "light"
     },
     "output_type": "display_data"
    }
   ],
   "source": [
    "t.plot.bar(ylim=(230,260));"
   ]
  },
  {
   "cell_type": "markdown",
   "metadata": {
    "heading_collapsed": true
   },
   "source": [
    "## python str"
   ]
  },
  {
   "cell_type": "code",
   "execution_count": 100,
   "metadata": {
    "hidden": true
   },
   "outputs": [],
   "source": [
    "a = \"sun\""
   ]
  },
  {
   "cell_type": "markdown",
   "metadata": {
    "hidden": true
   },
   "source": [
    "### startswith\n",
    "`startswith`는 문자열이 특정 문자로 시작하는지를 물어본다."
   ]
  },
  {
   "cell_type": "code",
   "execution_count": 101,
   "metadata": {
    "hidden": true
   },
   "outputs": [
    {
     "data": {
      "text/plain": [
       "True"
      ]
     },
     "execution_count": 101,
     "metadata": {},
     "output_type": "execute_result"
    }
   ],
   "source": [
    "a.startswith('su')"
   ]
  },
  {
   "cell_type": "markdown",
   "metadata": {
    "hidden": true
   },
   "source": [
    "### endswith\n",
    "`endwiths`는 문자열이 특정 문자로 끝나는지 물어본다."
   ]
  },
  {
   "cell_type": "code",
   "execution_count": 102,
   "metadata": {
    "hidden": true
   },
   "outputs": [
    {
     "data": {
      "text/plain": [
       "True"
      ]
     },
     "execution_count": 102,
     "metadata": {},
     "output_type": "execute_result"
    }
   ],
   "source": [
    "a.endswith(\"un\")"
   ]
  },
  {
   "cell_type": "code",
   "execution_count": 103,
   "metadata": {
    "hidden": true
   },
   "outputs": [
    {
     "data": {
      "text/plain": [
       "False"
      ]
     },
     "execution_count": 103,
     "metadata": {},
     "output_type": "execute_result"
    }
   ],
   "source": [
    "a.endswith('d')"
   ]
  },
  {
   "cell_type": "markdown",
   "metadata": {
    "hidden": true
   },
   "source": [
    "### in"
   ]
  },
  {
   "cell_type": "markdown",
   "metadata": {
    "hidden": true
   },
   "source": [
    "`str`은 컨테이너이므로 멤버쉽체크 키워드 `in`을 사용할 수 있다. "
   ]
  },
  {
   "cell_type": "code",
   "execution_count": 104,
   "metadata": {
    "hidden": true
   },
   "outputs": [
    {
     "data": {
      "text/plain": [
       "True"
      ]
     },
     "execution_count": 104,
     "metadata": {},
     "output_type": "execute_result"
    }
   ],
   "source": [
    "'u' in a"
   ]
  },
  {
   "cell_type": "markdown",
   "metadata": {
    "hidden": true
   },
   "source": [
    "### split\n",
    "`sep`을 구분자로 삼고 문자열을 쪼개서 리스트로 만든다."
   ]
  },
  {
   "cell_type": "code",
   "execution_count": 293,
   "metadata": {
    "hidden": true
   },
   "outputs": [],
   "source": [
    "a = '/sun/moon'"
   ]
  },
  {
   "cell_type": "code",
   "execution_count": 110,
   "metadata": {
    "hidden": true
   },
   "outputs": [
    {
     "data": {
      "text/plain": [
       "['', 'sun', 'moon']"
      ]
     },
     "execution_count": 110,
     "metadata": {},
     "output_type": "execute_result"
    }
   ],
   "source": [
    "a.split('/') # sep의 default value는 공백"
   ]
  },
  {
   "cell_type": "markdown",
   "metadata": {
    "hidden": true
   },
   "source": [
    "### strip\n",
    "문자열 앞, 뒤의 공백을 제거한다.  \n",
    "공백도 문자이므로 공백이 끼여있으면 다른 데이터가 된다.  \n",
    "사람은 공백을 없는 것으로 생각하기 때문에 데이터 처리할 때 실수하기 쉽다. -> strip 자주 사용"
   ]
  },
  {
   "cell_type": "code",
   "execution_count": 116,
   "metadata": {
    "hidden": true
   },
   "outputs": [],
   "source": [
    "a =' /s un/moon   '"
   ]
  },
  {
   "cell_type": "code",
   "execution_count": 117,
   "metadata": {
    "hidden": true
   },
   "outputs": [
    {
     "data": {
      "text/plain": [
       "'/s un/moon'"
      ]
     },
     "execution_count": 117,
     "metadata": {},
     "output_type": "execute_result"
    }
   ],
   "source": [
    "a.strip() # 중간의 공백은 제거하지 않음"
   ]
  },
  {
   "cell_type": "markdown",
   "metadata": {
    "hidden": true
   },
   "source": [
    "### replace\n",
    "문자열 내에서 첫번째 인자(문자열)를 찾은 다음, 두번째 인자(문자열)로 바꾼다."
   ]
  },
  {
   "cell_type": "code",
   "execution_count": 294,
   "metadata": {
    "hidden": true
   },
   "outputs": [
    {
     "data": {
      "text/plain": [
       "'/ssssun/moon'"
      ]
     },
     "execution_count": 294,
     "metadata": {},
     "output_type": "execute_result"
    }
   ],
   "source": [
    "a.replace('s', 'ssss')"
   ]
  },
  {
   "cell_type": "markdown",
   "metadata": {
    "hidden": true
   },
   "source": [
    "### concatenate\n",
    "concatenate는 붙인다는 뜻이다."
   ]
  },
  {
   "cell_type": "markdown",
   "metadata": {
    "hidden": true
   },
   "source": [
    "문자열 concatenate은 ( + ) 연산자를 이용한다."
   ]
  },
  {
   "cell_type": "code",
   "execution_count": 124,
   "metadata": {
    "hidden": true
   },
   "outputs": [
    {
     "data": {
      "text/plain": [
       "'/s un/moon   ddd'"
      ]
     },
     "execution_count": 124,
     "metadata": {},
     "output_type": "execute_result"
    }
   ],
   "source": [
    "a + \"ddd\""
   ]
  },
  {
   "cell_type": "markdown",
   "metadata": {
    "hidden": true
   },
   "source": [
    "( + )를 생략해도 문자열이 붙는다."
   ]
  },
  {
   "cell_type": "code",
   "execution_count": 125,
   "metadata": {
    "hidden": true
   },
   "outputs": [
    {
     "data": {
      "text/plain": [
       "'aaabbb'"
      ]
     },
     "execution_count": 125,
     "metadata": {},
     "output_type": "execute_result"
    }
   ],
   "source": [
    "'aaa' 'bbb' "
   ]
  },
  {
   "cell_type": "markdown",
   "metadata": {
    "hidden": true
   },
   "source": [
    "따옴표가 명시되어 있을 때만 붙인다. ㅡ할당한 문자열과는 붙지 않는다."
   ]
  },
  {
   "cell_type": "code",
   "execution_count": null,
   "metadata": {
    "hidden": true
   },
   "outputs": [],
   "source": [
    "# 실행하면 Error\n",
    "a'bbb'"
   ]
  },
  {
   "cell_type": "markdown",
   "metadata": {
    "hidden": true
   },
   "source": [
    "concatenate는 보통 cat이라고 쓴다. `str`은 cat 메소드가 없이 연산자만 있다."
   ]
  },
  {
   "cell_type": "code",
   "execution_count": 127,
   "metadata": {
    "hidden": true
   },
   "outputs": [
    {
     "ename": "AttributeError",
     "evalue": "type object 'str' has no attribute 'cat'",
     "output_type": "error",
     "traceback": [
      "\u001b[1;31m---------------------------------------------------------------------------\u001b[0m",
      "\u001b[1;31mAttributeError\u001b[0m                            Traceback (most recent call last)",
      "\u001b[1;32m<ipython-input-127-ba914ea7cb63>\u001b[0m in \u001b[0;36m<module>\u001b[1;34m\u001b[0m\n\u001b[1;32m----> 1\u001b[1;33m \u001b[0mstr\u001b[0m\u001b[1;33m.\u001b[0m\u001b[0mcat\u001b[0m\u001b[1;33m\u001b[0m\u001b[1;33m\u001b[0m\u001b[0m\n\u001b[0m",
      "\u001b[1;31mAttributeError\u001b[0m: type object 'str' has no attribute 'cat'"
     ]
    }
   ],
   "source": [
    "# Error\n",
    "str.cat"
   ]
  },
  {
   "cell_type": "markdown",
   "metadata": {
    "hidden": true
   },
   "source": [
    "concatenate는 같은 데이터 타입이어야 한다. 문자열과 숫자는 붙일 수 없다."
   ]
  },
  {
   "cell_type": "code",
   "execution_count": 297,
   "metadata": {
    "hidden": true
   },
   "outputs": [
    {
     "ename": "TypeError",
     "evalue": "can only concatenate str (not \"int\") to str",
     "output_type": "error",
     "traceback": [
      "\u001b[1;31m---------------------------------------------------------------------------\u001b[0m",
      "\u001b[1;31mTypeError\u001b[0m                                 Traceback (most recent call last)",
      "\u001b[1;32m<ipython-input-297-f1157401809e>\u001b[0m in \u001b[0;36m<module>\u001b[1;34m\u001b[0m\n\u001b[1;32m----> 1\u001b[1;33m \u001b[1;34m'aaa'\u001b[0m \u001b[1;33m+\u001b[0m \u001b[1;36m3\u001b[0m\u001b[1;33m\u001b[0m\u001b[1;33m\u001b[0m\u001b[0m\n\u001b[0m",
      "\u001b[1;31mTypeError\u001b[0m: can only concatenate str (not \"int\") to str"
     ]
    }
   ],
   "source": [
    "'aaa' + 3"
   ]
  },
  {
   "cell_type": "markdown",
   "metadata": {
    "hidden": true
   },
   "source": [
    "### join"
   ]
  },
  {
   "cell_type": "markdown",
   "metadata": {
    "hidden": true
   },
   "source": [
    "문자를 합치는데, 합치는 중간에 자기 자신을 끼워 넣는다."
   ]
  },
  {
   "cell_type": "code",
   "execution_count": 130,
   "metadata": {
    "hidden": true
   },
   "outputs": [
    {
     "data": {
      "text/plain": [
       "'a++++++++++++b++++++++++++c'"
      ]
     },
     "execution_count": 130,
     "metadata": {},
     "output_type": "execute_result"
    }
   ],
   "source": [
    "'++++++++++++'.join(['a', 'b', 'c'])"
   ]
  },
  {
   "cell_type": "code",
   "execution_count": 133,
   "metadata": {
    "hidden": true
   },
   "outputs": [
    {
     "data": {
      "text/plain": [
       "'abc'"
      ]
     },
     "execution_count": 133,
     "metadata": {},
     "output_type": "execute_result"
    }
   ],
   "source": [
    "''.join(['a', 'b', 'c']) # 비어있는 문자열이므로 값이 모두 붙음"
   ]
  },
  {
   "cell_type": "markdown",
   "metadata": {},
   "source": [
    "## pandas str"
   ]
  },
  {
   "cell_type": "markdown",
   "metadata": {},
   "source": [
    "dtype이 object(문자)인 Series 객체에서 `.str`을 붙이면 `str`의 기능을 그대로 사용할 수 있다. (vectorized 됨: 모든 값에 일괄 적용)"
   ]
  },
  {
   "cell_type": "markdown",
   "metadata": {},
   "source": []
  },
  {
   "cell_type": "code",
   "execution_count": 305,
   "metadata": {},
   "outputs": [],
   "source": [
    "data = pd.read_csv('a.csv', encoding='utf-8', engine='python', sep=\"|\")"
   ]
  },
  {
   "cell_type": "code",
   "execution_count": 108,
   "metadata": {
    "scrolled": true
   },
   "outputs": [
    {
     "data": {
      "text/plain": [
       "0          True\n",
       "1          True\n",
       "2          True\n",
       "3         False\n",
       "4          True\n",
       "          ...  \n",
       "573675     True\n",
       "573676     True\n",
       "573677     True\n",
       "573678     True\n",
       "573679     True\n",
       "Name: 도로명주소, Length: 573680, dtype: bool"
      ]
     },
     "execution_count": 108,
     "metadata": {},
     "output_type": "execute_result"
    }
   ],
   "source": [
    "data['도로명주소'].str.startswith('서울') # 도로명 주소 열에서 startswith 사용"
   ]
  },
  {
   "cell_type": "markdown",
   "metadata": {},
   "source": [
    "`cat`은 문자열을 concatenate한다.  \n",
    "인자를 사용하지 않으면 Series의 모든 열을 하나의 문자열로 합친다."
   ]
  },
  {
   "cell_type": "code",
   "execution_count": 313,
   "metadata": {},
   "outputs": [
    {
     "data": {
      "text/plain": [
       "'SunSunSunSunSunSunSunSunSunSunSunSunSunSunSunSunSunSunSunSatSatSatSatSatSatSatSatSatSatSatSatSatSatSatSatSatSatSatSatSatSatSunSunSunSunSunSunSunSunSunSunSunSunSunSunSunSatSatSatSatSatSatSatSatSatSatSatSatSatSatSatSatSatSatSatSatSatThurThurThurThurThurThurThurThurThurThurThurThurThurFriFriFriFriFriFriFriFriFriFriFriFriSatSatSatSatSatSatSatSatSatSatSunSunSunSunSunThurThurThurThurThurThurThurThurThurThurThurThurThurThurThurThurThurThurThurThurThurThurThurThurThurThurThurThurThurThurThurThurThurSunSunSunSunSunSunSunSunSunSunSunSunSunSunSunSunSunSunSatSatSatSatSunSunSunSunSunSunSunSunSunSunSunSunSunSunSunSunSunSunSunThurThurThurThurThurThurThurThurThurThurThurThurThurThurThurSatSatSatSatSatSatSatSatSatSatSatSatSatSatFriFriFriFriFriFriFriSatSatSatSatSatSatSatSatSatSatSatSatSatSatSatSatThur'"
      ]
     },
     "execution_count": 313,
     "metadata": {},
     "output_type": "execute_result"
    }
   ],
   "source": [
    "tips.day.str.cat()"
   ]
  },
  {
   "cell_type": "markdown",
   "metadata": {},
   "source": [
    "Series나 list 등 시퀀스를 입력할 때는 Series와 길이가 같아야한다.  "
   ]
  },
  {
   "cell_type": "code",
   "execution_count": 312,
   "metadata": {},
   "outputs": [
    {
     "data": {
      "text/plain": [
       "0       Sun(요일)\n",
       "1       Sun(요일)\n",
       "2       Sun(요일)\n",
       "3       Sun(요일)\n",
       "4       Sun(요일)\n",
       "         ...   \n",
       "239     Sat(요일)\n",
       "240     Sat(요일)\n",
       "241     Sat(요일)\n",
       "242     Sat(요일)\n",
       "243    Thur(요일)\n",
       "Name: day, Length: 244, dtype: object"
      ]
     },
     "execution_count": 312,
     "metadata": {},
     "output_type": "execute_result"
    }
   ],
   "source": [
    "tips.day.str.cat([\"(요일)\" for _ in range(len(tips))]) # broadcating은 지원 x"
   ]
  },
  {
   "cell_type": "markdown",
   "metadata": {},
   "source": [
    "`sep`옵션을 이용해서 구분자를 넣을 수 있다."
   ]
  },
  {
   "cell_type": "code",
   "execution_count": 317,
   "metadata": {},
   "outputs": [
    {
     "data": {
      "text/plain": [
       "0       Sun/(요일)\n",
       "1       Sun/(요일)\n",
       "2       Sun/(요일)\n",
       "3       Sun/(요일)\n",
       "4       Sun/(요일)\n",
       "         ...    \n",
       "239     Sat/(요일)\n",
       "240     Sat/(요일)\n",
       "241     Sat/(요일)\n",
       "242     Sat/(요일)\n",
       "243    Thur/(요일)\n",
       "Name: day, Length: 244, dtype: object"
      ]
     },
     "execution_count": 317,
     "metadata": {},
     "output_type": "execute_result"
    }
   ],
   "source": [
    "tips.day.str.cat([\"(요일)\" for _ in range(len(tips))], sep=\"/\")"
   ]
  },
  {
   "cell_type": "markdown",
   "metadata": {},
   "source": [
    "`contains`는 행마다 멤버십체크를 한다."
   ]
  },
  {
   "cell_type": "code",
   "execution_count": 318,
   "metadata": {},
   "outputs": [
    {
     "data": {
      "text/plain": [
       "0          True\n",
       "1          True\n",
       "2          True\n",
       "3         False\n",
       "4          True\n",
       "          ...  \n",
       "573675     True\n",
       "573676     True\n",
       "573677     True\n",
       "573678     True\n",
       "573679     True\n",
       "Name: 도로명주소, Length: 573680, dtype: bool"
      ]
     },
     "execution_count": 318,
     "metadata": {},
     "output_type": "execute_result"
    }
   ],
   "source": [
    "t = data['도로명주소'].str # pandas는 길어지면 shift tab 잘 안나오는 버그가 있음\n",
    "t.contains(\"서울\")        # tip: 재할당한다."
   ]
  },
  {
   "cell_type": "markdown",
   "metadata": {},
   "source": [
    "`split`을 사용할 수 있다."
   ]
  },
  {
   "cell_type": "code",
   "execution_count": 115,
   "metadata": {},
   "outputs": [
    {
     "data": {
      "text/plain": [
       "0           [서울특별시, 강남구, 남부순환로, 2933]\n",
       "1             [서울특별시, 강남구, 선릉로93길, 6]\n",
       "2             [서울특별시, 금천구, 가산로, 34-6]\n",
       "3               [부산광역시, 사상구, 괘감로, 37]\n",
       "4               [서울특별시, 송파구, 가락로, 71]\n",
       "                     ...             \n",
       "573675       [서울특별시, 마포구, 마포대로14길, 4]\n",
       "573676       [서울특별시, 성동구, 성수일로8길, 37]\n",
       "573677        [서울특별시, 강남구, 강남대로, 492]\n",
       "573678       [서울특별시, 영등포구, 국제금융로, 10]\n",
       "573679    [서울특별시, 도봉구, 도봉로114길, 22-8]\n",
       "Name: 도로명주소, Length: 573680, dtype: object"
      ]
     },
     "execution_count": 115,
     "metadata": {},
     "output_type": "execute_result"
    }
   ],
   "source": [
    "t.split()"
   ]
  },
  {
   "cell_type": "markdown",
   "metadata": {},
   "source": [
    "`expand`옵션을 이용하면 나뉘어진 문자열을 data frame으로 알아서 만들어준다."
   ]
  },
  {
   "cell_type": "code",
   "execution_count": 114,
   "metadata": {},
   "outputs": [
    {
     "data": {
      "text/html": [
       "<div>\n",
       "<style scoped>\n",
       "    .dataframe tbody tr th:only-of-type {\n",
       "        vertical-align: middle;\n",
       "    }\n",
       "\n",
       "    .dataframe tbody tr th {\n",
       "        vertical-align: top;\n",
       "    }\n",
       "\n",
       "    .dataframe thead th {\n",
       "        text-align: right;\n",
       "    }\n",
       "</style>\n",
       "<table border=\"1\" class=\"dataframe\">\n",
       "  <thead>\n",
       "    <tr style=\"text-align: right;\">\n",
       "      <th></th>\n",
       "      <th>0</th>\n",
       "      <th>1</th>\n",
       "      <th>2</th>\n",
       "      <th>3</th>\n",
       "      <th>4</th>\n",
       "    </tr>\n",
       "  </thead>\n",
       "  <tbody>\n",
       "    <tr>\n",
       "      <th>0</th>\n",
       "      <td>서울특별시</td>\n",
       "      <td>강남구</td>\n",
       "      <td>남부순환로</td>\n",
       "      <td>2933</td>\n",
       "      <td>None</td>\n",
       "    </tr>\n",
       "    <tr>\n",
       "      <th>1</th>\n",
       "      <td>서울특별시</td>\n",
       "      <td>강남구</td>\n",
       "      <td>선릉로93길</td>\n",
       "      <td>6</td>\n",
       "      <td>None</td>\n",
       "    </tr>\n",
       "    <tr>\n",
       "      <th>2</th>\n",
       "      <td>서울특별시</td>\n",
       "      <td>금천구</td>\n",
       "      <td>가산로</td>\n",
       "      <td>34-6</td>\n",
       "      <td>None</td>\n",
       "    </tr>\n",
       "    <tr>\n",
       "      <th>3</th>\n",
       "      <td>부산광역시</td>\n",
       "      <td>사상구</td>\n",
       "      <td>괘감로</td>\n",
       "      <td>37</td>\n",
       "      <td>None</td>\n",
       "    </tr>\n",
       "    <tr>\n",
       "      <th>4</th>\n",
       "      <td>서울특별시</td>\n",
       "      <td>송파구</td>\n",
       "      <td>가락로</td>\n",
       "      <td>71</td>\n",
       "      <td>None</td>\n",
       "    </tr>\n",
       "    <tr>\n",
       "      <th>...</th>\n",
       "      <td>...</td>\n",
       "      <td>...</td>\n",
       "      <td>...</td>\n",
       "      <td>...</td>\n",
       "      <td>...</td>\n",
       "    </tr>\n",
       "    <tr>\n",
       "      <th>573675</th>\n",
       "      <td>서울특별시</td>\n",
       "      <td>마포구</td>\n",
       "      <td>마포대로14길</td>\n",
       "      <td>4</td>\n",
       "      <td>None</td>\n",
       "    </tr>\n",
       "    <tr>\n",
       "      <th>573676</th>\n",
       "      <td>서울특별시</td>\n",
       "      <td>성동구</td>\n",
       "      <td>성수일로8길</td>\n",
       "      <td>37</td>\n",
       "      <td>None</td>\n",
       "    </tr>\n",
       "    <tr>\n",
       "      <th>573677</th>\n",
       "      <td>서울특별시</td>\n",
       "      <td>강남구</td>\n",
       "      <td>강남대로</td>\n",
       "      <td>492</td>\n",
       "      <td>None</td>\n",
       "    </tr>\n",
       "    <tr>\n",
       "      <th>573678</th>\n",
       "      <td>서울특별시</td>\n",
       "      <td>영등포구</td>\n",
       "      <td>국제금융로</td>\n",
       "      <td>10</td>\n",
       "      <td>None</td>\n",
       "    </tr>\n",
       "    <tr>\n",
       "      <th>573679</th>\n",
       "      <td>서울특별시</td>\n",
       "      <td>도봉구</td>\n",
       "      <td>도봉로114길</td>\n",
       "      <td>22-8</td>\n",
       "      <td>None</td>\n",
       "    </tr>\n",
       "  </tbody>\n",
       "</table>\n",
       "<p>573680 rows × 5 columns</p>\n",
       "</div>"
      ],
      "text/plain": [
       "            0     1        2     3     4\n",
       "0       서울특별시   강남구    남부순환로  2933  None\n",
       "1       서울특별시   강남구   선릉로93길     6  None\n",
       "2       서울특별시   금천구      가산로  34-6  None\n",
       "3       부산광역시   사상구      괘감로    37  None\n",
       "4       서울특별시   송파구      가락로    71  None\n",
       "...       ...   ...      ...   ...   ...\n",
       "573675  서울특별시   마포구  마포대로14길     4  None\n",
       "573676  서울특별시   성동구   성수일로8길    37  None\n",
       "573677  서울특별시   강남구     강남대로   492  None\n",
       "573678  서울특별시  영등포구    국제금융로    10  None\n",
       "573679  서울특별시   도봉구  도봉로114길  22-8  None\n",
       "\n",
       "[573680 rows x 5 columns]"
      ]
     },
     "execution_count": 114,
     "metadata": {},
     "output_type": "execute_result"
    }
   ],
   "source": [
    "t.split(expand=True)"
   ]
  },
  {
   "cell_type": "markdown",
   "metadata": {},
   "source": [
    "`replace`를 사용할 수 있다."
   ]
  },
  {
   "cell_type": "code",
   "execution_count": 304,
   "metadata": {},
   "outputs": [],
   "source": [
    "tips = sns.load_dataset('tips')"
   ]
  },
  {
   "cell_type": "code",
   "execution_count": 121,
   "metadata": {},
   "outputs": [
    {
     "data": {
      "text/plain": [
       "0       Tun\n",
       "1       Tun\n",
       "2       Tun\n",
       "3       Tun\n",
       "4       Tun\n",
       "       ... \n",
       "239     Tat\n",
       "240     Tat\n",
       "241     Tat\n",
       "242     Tat\n",
       "243    Thur\n",
       "Name: day, Length: 244, dtype: object"
      ]
     },
     "execution_count": 121,
     "metadata": {},
     "output_type": "execute_result"
    }
   ],
   "source": [
    "tips.day.str.replace('S', 'T') # day 열에서 replace 기능 사용"
   ]
  },
  {
   "cell_type": "markdown",
   "metadata": {},
   "source": [
    "## pandas cat"
   ]
  },
  {
   "cell_type": "markdown",
   "metadata": {},
   "source": [
    "dtype이 category인 경우\n",
    "- value가 int 이면:\n",
    "    - 숫자 연산 할 수 있다. \n",
    "    - 카테고리 기능도 쓸 수 있다. (.cat)\n",
    "- value가 str 이면:\n",
    "    - 문자 기능 쓸 수 있다.(.str)\n",
    "    - - 카테고리 기능도 쓸 수 있다. (.cat)"
   ]
  },
  {
   "cell_type": "markdown",
   "metadata": {},
   "source": [
    "tips 데이터셋의 day는 문자열로 된 category type이다. "
   ]
  },
  {
   "cell_type": "code",
   "execution_count": 348,
   "metadata": {},
   "outputs": [
    {
     "name": "stdout",
     "output_type": "stream",
     "text": [
      "<class 'pandas.core.frame.DataFrame'>\n",
      "RangeIndex: 244 entries, 0 to 243\n",
      "Data columns (total 7 columns):\n",
      "total_bill    244 non-null float64\n",
      "tip           244 non-null float64\n",
      "sex           244 non-null category\n",
      "smoker        244 non-null category\n",
      "day           244 non-null category\n",
      "time          244 non-null category\n",
      "size          244 non-null int64\n",
      "dtypes: category(4), float64(2), int64(1)\n",
      "memory usage: 7.3 KB\n"
     ]
    }
   ],
   "source": [
    "tips.info() # .str과 .cat 둘 다 가능"
   ]
  },
  {
   "cell_type": "markdown",
   "metadata": {},
   "source": [
    "`add_categories`는 새로운 카테코리를 추가한다. 새로운 카테고리는 할당으로 추가할 수 없고 메소드를 이용한다."
   ]
  },
  {
   "cell_type": "code",
   "execution_count": 350,
   "metadata": {},
   "outputs": [
    {
     "data": {
      "text/plain": [
       "0       Sun\n",
       "1       Sun\n",
       "2       Sun\n",
       "3       Sun\n",
       "4       Sun\n",
       "       ... \n",
       "239     Sat\n",
       "240     Sat\n",
       "241     Sat\n",
       "242     Sat\n",
       "243    Thur\n",
       "Name: day, Length: 244, dtype: category\n",
       "Categories (5, object): [Thur, Fri, Sat, Sun, Mon]"
      ]
     },
     "execution_count": 350,
     "metadata": {},
     "output_type": "execute_result"
    }
   ],
   "source": [
    "tips.day.cat.add_categories(\"Mon\") # category 5개로 증가"
   ]
  },
  {
   "cell_type": "markdown",
   "metadata": {},
   "source": [
    "`remoce_categories`는 카테고리를 삭제한다. 기존에 있던 값은 NaN으로 바뀐다."
   ]
  },
  {
   "cell_type": "code",
   "execution_count": 352,
   "metadata": {},
   "outputs": [
    {
     "data": {
      "text/plain": [
       "0       NaN\n",
       "1       NaN\n",
       "2       NaN\n",
       "3       NaN\n",
       "4       NaN\n",
       "       ... \n",
       "239     Sat\n",
       "240     Sat\n",
       "241     Sat\n",
       "242     Sat\n",
       "243    Thur\n",
       "Name: day, Length: 244, dtype: category\n",
       "Categories (3, object): [Thur, Fri, Sat]"
      ]
     },
     "execution_count": 352,
     "metadata": {},
     "output_type": "execute_result"
    }
   ],
   "source": [
    "tips.day.cat.remove_categories(\"Sun\") # category 3개로 감소"
   ]
  },
  {
   "cell_type": "markdown",
   "metadata": {},
   "source": [
    "## groupby\n",
    "`groupby`는 데이터를 그룹 지어서 집계, 연산하는 편리한 기능이다."
   ]
  },
  {
   "cell_type": "markdown",
   "metadata": {},
   "source": [
    "`groupby`는 groupby 객체를 반환한다."
   ]
  },
  {
   "cell_type": "code",
   "execution_count": 354,
   "metadata": {},
   "outputs": [
    {
     "data": {
      "text/plain": [
       "<pandas.core.groupby.generic.DataFrameGroupBy object at 0x000002001513CC88>"
      ]
     },
     "execution_count": 354,
     "metadata": {},
     "output_type": "execute_result"
    }
   ],
   "source": [
    "tips.groupby(\"size\")"
   ]
  },
  {
   "cell_type": "markdown",
   "metadata": {},
   "source": [
    "for문으로 내부를 살펴보면, size가 같은 데이터끼리 묶어졌음을 알 수 있다."
   ]
  },
  {
   "cell_type": "code",
   "execution_count": 135,
   "metadata": {},
   "outputs": [
    {
     "name": "stdout",
     "output_type": "stream",
     "text": [
      "(1,      total_bill   tip     sex smoker   day    time  size\n",
      "67         3.07  1.00  Female    Yes   Sat  Dinner     1\n",
      "82        10.07  1.83  Female     No  Thur   Lunch     1\n",
      "111        7.25  1.00  Female     No   Sat  Dinner     1\n",
      "222        8.58  1.92    Male    Yes   Fri   Lunch     1)\n",
      "(2,      total_bill   tip     sex smoker   day    time  size\n",
      "0         16.99  1.01  Female     No   Sun  Dinner     2\n",
      "3         23.68  3.31    Male     No   Sun  Dinner     2\n",
      "6          8.77  2.00    Male     No   Sun  Dinner     2\n",
      "8         15.04  1.96    Male     No   Sun  Dinner     2\n",
      "9         14.78  3.23    Male     No   Sun  Dinner     2\n",
      "..          ...   ...     ...    ...   ...     ...   ...\n",
      "237       32.83  1.17    Male    Yes   Sat  Dinner     2\n",
      "240       27.18  2.00  Female    Yes   Sat  Dinner     2\n",
      "241       22.67  2.00    Male    Yes   Sat  Dinner     2\n",
      "242       17.82  1.75    Male     No   Sat  Dinner     2\n",
      "243       18.78  3.00  Female     No  Thur  Dinner     2\n",
      "\n",
      "[156 rows x 7 columns])\n",
      "(3,      total_bill    tip     sex smoker   day    time  size\n",
      "1         10.34   1.66    Male     No   Sun  Dinner     3\n",
      "2         21.01   3.50    Male     No   Sun  Dinner     3\n",
      "16        10.33   1.67  Female     No   Sun  Dinner     3\n",
      "17        16.29   3.71    Male     No   Sun  Dinner     3\n",
      "18        16.97   3.50  Female     No   Sun  Dinner     3\n",
      "19        20.65   3.35    Male     No   Sat  Dinner     3\n",
      "35        24.06   3.60    Male     No   Sat  Dinner     3\n",
      "36        16.31   2.00    Male     No   Sat  Dinner     3\n",
      "37        16.93   3.07  Female     No   Sat  Dinner     3\n",
      "38        18.69   2.31    Male     No   Sat  Dinner     3\n",
      "39        31.27   5.00    Male     No   Sat  Dinner     3\n",
      "40        16.04   2.24    Male     No   Sat  Dinner     3\n",
      "48        28.55   2.05    Male     No   Sun  Dinner     3\n",
      "64        17.59   2.64    Male     No   Sat  Dinner     3\n",
      "65        20.08   3.15    Male     No   Sat  Dinner     3\n",
      "71        17.07   3.00  Female     No   Sat  Dinner     3\n",
      "102       44.30   2.50  Female    Yes   Sat  Dinner     3\n",
      "112       38.07   4.00    Male     No   Sun  Dinner     3\n",
      "114       25.71   4.00  Female     No   Sun  Dinner     3\n",
      "129       22.82   2.18    Male     No  Thur   Lunch     3\n",
      "146       18.64   1.36  Female     No  Thur   Lunch     3\n",
      "152       17.26   2.74    Male     No   Sun  Dinner     3\n",
      "162       16.21   2.00  Female     No   Sun  Dinner     3\n",
      "165       24.52   3.48    Male     No   Sun  Dinner     3\n",
      "170       50.81  10.00    Male    Yes   Sat  Dinner     3\n",
      "182       45.35   3.50    Male    Yes   Sun  Dinner     3\n",
      "186       20.90   3.50  Female    Yes   Sun  Dinner     3\n",
      "188       18.15   3.50  Female    Yes   Sun  Dinner     3\n",
      "189       23.10   4.00    Male    Yes   Sun  Dinner     3\n",
      "200       18.71   4.00    Male    Yes  Thur   Lunch     3\n",
      "205       16.47   3.23  Female    Yes  Thur   Lunch     3\n",
      "206       26.59   3.41    Male    Yes   Sat  Dinner     3\n",
      "210       30.06   2.00    Male    Yes   Sat  Dinner     3\n",
      "214       28.17   6.50  Female    Yes   Sat  Dinner     3\n",
      "223       15.98   3.00  Female     No   Fri   Lunch     3\n",
      "231       15.69   3.00    Male    Yes   Sat  Dinner     3\n",
      "238       35.83   4.67  Female     No   Sat  Dinner     3\n",
      "239       29.03   5.92    Male     No   Sat  Dinner     3)\n",
      "(4,      total_bill   tip     sex smoker   day    time  size\n",
      "4         24.59  3.61  Female     No   Sun  Dinner     4\n",
      "5         25.29  4.71    Male     No   Sun  Dinner     4\n",
      "7         26.88  3.12    Male     No   Sun  Dinner     4\n",
      "11        35.26  5.00  Female     No   Sun  Dinner     4\n",
      "13        18.43  3.00    Male     No   Sun  Dinner     4\n",
      "23        39.42  7.58    Male     No   Sat  Dinner     4\n",
      "25        17.81  2.34    Male     No   Sat  Dinner     4\n",
      "31        18.35  2.50    Male     No   Sat  Dinner     4\n",
      "33        20.69  2.45  Female     No   Sat  Dinner     4\n",
      "44        30.40  5.60    Male     No   Sun  Dinner     4\n",
      "47        32.40  6.00    Male     No   Sun  Dinner     4\n",
      "52        34.81  5.20  Female     No   Sun  Dinner     4\n",
      "54        25.56  4.34    Male     No   Sun  Dinner     4\n",
      "56        38.01  3.00    Male    Yes   Sat  Dinner     4\n",
      "59        48.27  6.73    Male     No   Sat  Dinner     4\n",
      "63        18.29  3.76    Male    Yes   Sat  Dinner     4\n",
      "77        27.20  4.00    Male     No  Thur   Lunch     4\n",
      "85        34.83  5.17  Female     No  Thur   Lunch     4\n",
      "95        40.17  4.73    Male    Yes   Fri  Dinner     4\n",
      "116       29.93  5.07    Male     No   Sun  Dinner     4\n",
      "119       24.08  2.92  Female     No  Thur   Lunch     4\n",
      "153       24.55  2.00    Male     No   Sun  Dinner     4\n",
      "154       19.77  2.00    Male     No   Sun  Dinner     4\n",
      "157       25.00  3.75  Female     No   Sun  Dinner     4\n",
      "159       16.49  2.00    Male     No   Sun  Dinner     4\n",
      "160       21.50  3.50    Male     No   Sun  Dinner     4\n",
      "167       31.71  4.50    Male     No   Sun  Dinner     4\n",
      "180       34.65  3.68    Male    Yes   Sun  Dinner     4\n",
      "183       23.17  6.50    Male    Yes   Sun  Dinner     4\n",
      "197       43.11  5.00  Female    Yes  Thur   Lunch     4\n",
      "204       20.53  4.00    Male    Yes  Thur   Lunch     4\n",
      "207       38.73  3.00    Male    Yes   Sat  Dinner     4\n",
      "211       25.89  5.16    Male    Yes   Sat  Dinner     4\n",
      "212       48.33  9.00    Male     No   Sat  Dinner     4\n",
      "219       30.14  3.09  Female    Yes   Sat  Dinner     4\n",
      "227       20.45  3.00    Male     No   Sat  Dinner     4\n",
      "230       24.01  2.00    Male    Yes   Sat  Dinner     4)\n",
      "(5,      total_bill   tip     sex smoker   day    time  size\n",
      "142       41.19  5.00    Male     No  Thur   Lunch     5\n",
      "155       29.85  5.14  Female     No   Sun  Dinner     5\n",
      "185       20.69  5.00    Male     No   Sun  Dinner     5\n",
      "187       30.46  2.00    Male    Yes   Sun  Dinner     5\n",
      "216       28.15  3.00    Male    Yes   Sat  Dinner     5)\n",
      "(6,      total_bill  tip     sex smoker   day    time  size\n",
      "125       29.80  4.2  Female     No  Thur   Lunch     6\n",
      "141       34.30  6.7    Male     No  Thur   Lunch     6\n",
      "143       27.05  5.0  Female     No  Thur   Lunch     6\n",
      "156       48.17  5.0    Male     No   Sun  Dinner     6)\n"
     ]
    }
   ],
   "source": [
    "for i in tips.groupby('size'):\n",
    "    print(i)"
   ]
  },
  {
   "cell_type": "markdown",
   "metadata": {},
   "source": [
    "`groupby`는 집계함수를 붙여서 사용한다."
   ]
  },
  {
   "cell_type": "code",
   "execution_count": 355,
   "metadata": {},
   "outputs": [
    {
     "data": {
      "text/html": [
       "<div>\n",
       "<style scoped>\n",
       "    .dataframe tbody tr th:only-of-type {\n",
       "        vertical-align: middle;\n",
       "    }\n",
       "\n",
       "    .dataframe tbody tr th {\n",
       "        vertical-align: top;\n",
       "    }\n",
       "\n",
       "    .dataframe thead th {\n",
       "        text-align: right;\n",
       "    }\n",
       "</style>\n",
       "<table border=\"1\" class=\"dataframe\">\n",
       "  <thead>\n",
       "    <tr style=\"text-align: right;\">\n",
       "      <th></th>\n",
       "      <th>total_bill</th>\n",
       "      <th>tip</th>\n",
       "    </tr>\n",
       "    <tr>\n",
       "      <th>size</th>\n",
       "      <th></th>\n",
       "      <th></th>\n",
       "    </tr>\n",
       "  </thead>\n",
       "  <tbody>\n",
       "    <tr>\n",
       "      <th>1</th>\n",
       "      <td>7.242500</td>\n",
       "      <td>1.437500</td>\n",
       "    </tr>\n",
       "    <tr>\n",
       "      <th>2</th>\n",
       "      <td>16.448013</td>\n",
       "      <td>2.582308</td>\n",
       "    </tr>\n",
       "    <tr>\n",
       "      <th>3</th>\n",
       "      <td>23.277632</td>\n",
       "      <td>3.393158</td>\n",
       "    </tr>\n",
       "    <tr>\n",
       "      <th>4</th>\n",
       "      <td>28.613514</td>\n",
       "      <td>4.135405</td>\n",
       "    </tr>\n",
       "    <tr>\n",
       "      <th>5</th>\n",
       "      <td>30.068000</td>\n",
       "      <td>4.028000</td>\n",
       "    </tr>\n",
       "    <tr>\n",
       "      <th>6</th>\n",
       "      <td>34.830000</td>\n",
       "      <td>5.225000</td>\n",
       "    </tr>\n",
       "  </tbody>\n",
       "</table>\n",
       "</div>"
      ],
      "text/plain": [
       "      total_bill       tip\n",
       "size                      \n",
       "1       7.242500  1.437500\n",
       "2      16.448013  2.582308\n",
       "3      23.277632  3.393158\n",
       "4      28.613514  4.135405\n",
       "5      30.068000  4.028000\n",
       "6      34.830000  5.225000"
      ]
     },
     "execution_count": 355,
     "metadata": {},
     "output_type": "execute_result"
    }
   ],
   "source": [
    "tips.groupby('size').mean() # size별 숫자 데이터의 평균"
   ]
  },
  {
   "cell_type": "code",
   "execution_count": 356,
   "metadata": {},
   "outputs": [
    {
     "data": {
      "text/html": [
       "<div>\n",
       "<style scoped>\n",
       "    .dataframe tbody tr th:only-of-type {\n",
       "        vertical-align: middle;\n",
       "    }\n",
       "\n",
       "    .dataframe tbody tr th {\n",
       "        vertical-align: top;\n",
       "    }\n",
       "\n",
       "    .dataframe thead th {\n",
       "        text-align: right;\n",
       "    }\n",
       "</style>\n",
       "<table border=\"1\" class=\"dataframe\">\n",
       "  <thead>\n",
       "    <tr style=\"text-align: right;\">\n",
       "      <th></th>\n",
       "      <th>total_bill</th>\n",
       "      <th>tip</th>\n",
       "      <th>sex</th>\n",
       "      <th>smoker</th>\n",
       "      <th>day</th>\n",
       "      <th>time</th>\n",
       "    </tr>\n",
       "    <tr>\n",
       "      <th>size</th>\n",
       "      <th></th>\n",
       "      <th></th>\n",
       "      <th></th>\n",
       "      <th></th>\n",
       "      <th></th>\n",
       "      <th></th>\n",
       "    </tr>\n",
       "  </thead>\n",
       "  <tbody>\n",
       "    <tr>\n",
       "      <th>1</th>\n",
       "      <td>4</td>\n",
       "      <td>4</td>\n",
       "      <td>4</td>\n",
       "      <td>4</td>\n",
       "      <td>4</td>\n",
       "      <td>4</td>\n",
       "    </tr>\n",
       "    <tr>\n",
       "      <th>2</th>\n",
       "      <td>156</td>\n",
       "      <td>156</td>\n",
       "      <td>156</td>\n",
       "      <td>156</td>\n",
       "      <td>156</td>\n",
       "      <td>156</td>\n",
       "    </tr>\n",
       "    <tr>\n",
       "      <th>3</th>\n",
       "      <td>38</td>\n",
       "      <td>38</td>\n",
       "      <td>38</td>\n",
       "      <td>38</td>\n",
       "      <td>38</td>\n",
       "      <td>38</td>\n",
       "    </tr>\n",
       "    <tr>\n",
       "      <th>4</th>\n",
       "      <td>37</td>\n",
       "      <td>37</td>\n",
       "      <td>37</td>\n",
       "      <td>37</td>\n",
       "      <td>37</td>\n",
       "      <td>37</td>\n",
       "    </tr>\n",
       "    <tr>\n",
       "      <th>5</th>\n",
       "      <td>5</td>\n",
       "      <td>5</td>\n",
       "      <td>5</td>\n",
       "      <td>5</td>\n",
       "      <td>5</td>\n",
       "      <td>5</td>\n",
       "    </tr>\n",
       "    <tr>\n",
       "      <th>6</th>\n",
       "      <td>4</td>\n",
       "      <td>4</td>\n",
       "      <td>4</td>\n",
       "      <td>4</td>\n",
       "      <td>4</td>\n",
       "      <td>4</td>\n",
       "    </tr>\n",
       "  </tbody>\n",
       "</table>\n",
       "</div>"
      ],
      "text/plain": [
       "      total_bill  tip  sex  smoker  day  time\n",
       "size                                         \n",
       "1              4    4    4       4    4     4\n",
       "2            156  156  156     156  156   156\n",
       "3             38   38   38      38   38    38\n",
       "4             37   37   37      37   37    37\n",
       "5              5    5    5       5    5     5\n",
       "6              4    4    4       4    4     4"
      ]
     },
     "execution_count": 356,
     "metadata": {},
     "output_type": "execute_result"
    }
   ],
   "source": [
    "tips.groupby('size').count() # size별 데이터의 개수 "
   ]
  },
  {
   "cell_type": "code",
   "execution_count": 357,
   "metadata": {},
   "outputs": [
    {
     "data": {
      "text/html": [
       "<div>\n",
       "<style scoped>\n",
       "    .dataframe tbody tr th:only-of-type {\n",
       "        vertical-align: middle;\n",
       "    }\n",
       "\n",
       "    .dataframe tbody tr th {\n",
       "        vertical-align: top;\n",
       "    }\n",
       "\n",
       "    .dataframe thead th {\n",
       "        text-align: right;\n",
       "    }\n",
       "</style>\n",
       "<table border=\"1\" class=\"dataframe\">\n",
       "  <thead>\n",
       "    <tr style=\"text-align: right;\">\n",
       "      <th></th>\n",
       "      <th>total_bill</th>\n",
       "      <th>tip</th>\n",
       "    </tr>\n",
       "    <tr>\n",
       "      <th>size</th>\n",
       "      <th></th>\n",
       "      <th></th>\n",
       "    </tr>\n",
       "  </thead>\n",
       "  <tbody>\n",
       "    <tr>\n",
       "      <th>1</th>\n",
       "      <td>10.07</td>\n",
       "      <td>1.92</td>\n",
       "    </tr>\n",
       "    <tr>\n",
       "      <th>2</th>\n",
       "      <td>40.55</td>\n",
       "      <td>5.85</td>\n",
       "    </tr>\n",
       "    <tr>\n",
       "      <th>3</th>\n",
       "      <td>50.81</td>\n",
       "      <td>10.00</td>\n",
       "    </tr>\n",
       "    <tr>\n",
       "      <th>4</th>\n",
       "      <td>48.33</td>\n",
       "      <td>9.00</td>\n",
       "    </tr>\n",
       "    <tr>\n",
       "      <th>5</th>\n",
       "      <td>41.19</td>\n",
       "      <td>5.14</td>\n",
       "    </tr>\n",
       "    <tr>\n",
       "      <th>6</th>\n",
       "      <td>48.17</td>\n",
       "      <td>6.70</td>\n",
       "    </tr>\n",
       "  </tbody>\n",
       "</table>\n",
       "</div>"
      ],
      "text/plain": [
       "      total_bill    tip\n",
       "size                   \n",
       "1          10.07   1.92\n",
       "2          40.55   5.85\n",
       "3          50.81  10.00\n",
       "4          48.33   9.00\n",
       "5          41.19   5.14\n",
       "6          48.17   6.70"
      ]
     },
     "execution_count": 357,
     "metadata": {},
     "output_type": "execute_result"
    }
   ],
   "source": [
    "tips.groupby(\"size\").max() # size별 숫자데이터 최댓값"
   ]
  },
  {
   "cell_type": "markdown",
   "metadata": {},
   "source": [
    "그룹 지을 이름을 리스트로 묶어서 여러개 쓸 수 있다.  \n",
    "multi index 형태로 반환한다."
   ]
  },
  {
   "cell_type": "code",
   "execution_count": 358,
   "metadata": {},
   "outputs": [
    {
     "data": {
      "text/html": [
       "<div>\n",
       "<style scoped>\n",
       "    .dataframe tbody tr th:only-of-type {\n",
       "        vertical-align: middle;\n",
       "    }\n",
       "\n",
       "    .dataframe tbody tr th {\n",
       "        vertical-align: top;\n",
       "    }\n",
       "\n",
       "    .dataframe thead th {\n",
       "        text-align: right;\n",
       "    }\n",
       "</style>\n",
       "<table border=\"1\" class=\"dataframe\">\n",
       "  <thead>\n",
       "    <tr style=\"text-align: right;\">\n",
       "      <th></th>\n",
       "      <th></th>\n",
       "      <th>total_bill</th>\n",
       "      <th>tip</th>\n",
       "    </tr>\n",
       "    <tr>\n",
       "      <th>size</th>\n",
       "      <th>day</th>\n",
       "      <th></th>\n",
       "      <th></th>\n",
       "    </tr>\n",
       "  </thead>\n",
       "  <tbody>\n",
       "    <tr>\n",
       "      <th rowspan=\"4\" valign=\"top\">1</th>\n",
       "      <th>Thur</th>\n",
       "      <td>10.070000</td>\n",
       "      <td>1.830000</td>\n",
       "    </tr>\n",
       "    <tr>\n",
       "      <th>Fri</th>\n",
       "      <td>8.580000</td>\n",
       "      <td>1.920000</td>\n",
       "    </tr>\n",
       "    <tr>\n",
       "      <th>Sat</th>\n",
       "      <td>5.160000</td>\n",
       "      <td>1.000000</td>\n",
       "    </tr>\n",
       "    <tr>\n",
       "      <th>Sun</th>\n",
       "      <td>NaN</td>\n",
       "      <td>NaN</td>\n",
       "    </tr>\n",
       "    <tr>\n",
       "      <th rowspan=\"4\" valign=\"top\">2</th>\n",
       "      <th>Thur</th>\n",
       "      <td>15.156875</td>\n",
       "      <td>2.442500</td>\n",
       "    </tr>\n",
       "    <tr>\n",
       "      <th>Fri</th>\n",
       "      <td>16.321875</td>\n",
       "      <td>2.644375</td>\n",
       "    </tr>\n",
       "    <tr>\n",
       "      <th>Sat</th>\n",
       "      <td>16.837170</td>\n",
       "      <td>2.517547</td>\n",
       "    </tr>\n",
       "    <tr>\n",
       "      <th>Sun</th>\n",
       "      <td>17.560000</td>\n",
       "      <td>2.816923</td>\n",
       "    </tr>\n",
       "    <tr>\n",
       "      <th rowspan=\"4\" valign=\"top\">3</th>\n",
       "      <th>Thur</th>\n",
       "      <td>19.160000</td>\n",
       "      <td>2.692500</td>\n",
       "    </tr>\n",
       "    <tr>\n",
       "      <th>Fri</th>\n",
       "      <td>15.980000</td>\n",
       "      <td>3.000000</td>\n",
       "    </tr>\n",
       "    <tr>\n",
       "      <th>Sat</th>\n",
       "      <td>25.509444</td>\n",
       "      <td>3.797778</td>\n",
       "    </tr>\n",
       "    <tr>\n",
       "      <th>Sun</th>\n",
       "      <td>22.184000</td>\n",
       "      <td>3.120667</td>\n",
       "    </tr>\n",
       "    <tr>\n",
       "      <th rowspan=\"4\" valign=\"top\">4</th>\n",
       "      <th>Thur</th>\n",
       "      <td>29.950000</td>\n",
       "      <td>4.218000</td>\n",
       "    </tr>\n",
       "    <tr>\n",
       "      <th>Fri</th>\n",
       "      <td>40.170000</td>\n",
       "      <td>4.730000</td>\n",
       "    </tr>\n",
       "    <tr>\n",
       "      <th>Sat</th>\n",
       "      <td>29.876154</td>\n",
       "      <td>4.123846</td>\n",
       "    </tr>\n",
       "    <tr>\n",
       "      <th>Sun</th>\n",
       "      <td>26.688333</td>\n",
       "      <td>4.087778</td>\n",
       "    </tr>\n",
       "    <tr>\n",
       "      <th rowspan=\"4\" valign=\"top\">5</th>\n",
       "      <th>Thur</th>\n",
       "      <td>41.190000</td>\n",
       "      <td>5.000000</td>\n",
       "    </tr>\n",
       "    <tr>\n",
       "      <th>Fri</th>\n",
       "      <td>NaN</td>\n",
       "      <td>NaN</td>\n",
       "    </tr>\n",
       "    <tr>\n",
       "      <th>Sat</th>\n",
       "      <td>28.150000</td>\n",
       "      <td>3.000000</td>\n",
       "    </tr>\n",
       "    <tr>\n",
       "      <th>Sun</th>\n",
       "      <td>27.000000</td>\n",
       "      <td>4.046667</td>\n",
       "    </tr>\n",
       "    <tr>\n",
       "      <th rowspan=\"4\" valign=\"top\">6</th>\n",
       "      <th>Thur</th>\n",
       "      <td>30.383333</td>\n",
       "      <td>5.300000</td>\n",
       "    </tr>\n",
       "    <tr>\n",
       "      <th>Fri</th>\n",
       "      <td>NaN</td>\n",
       "      <td>NaN</td>\n",
       "    </tr>\n",
       "    <tr>\n",
       "      <th>Sat</th>\n",
       "      <td>NaN</td>\n",
       "      <td>NaN</td>\n",
       "    </tr>\n",
       "    <tr>\n",
       "      <th>Sun</th>\n",
       "      <td>48.170000</td>\n",
       "      <td>5.000000</td>\n",
       "    </tr>\n",
       "  </tbody>\n",
       "</table>\n",
       "</div>"
      ],
      "text/plain": [
       "           total_bill       tip\n",
       "size day                       \n",
       "1    Thur   10.070000  1.830000\n",
       "     Fri     8.580000  1.920000\n",
       "     Sat     5.160000  1.000000\n",
       "     Sun          NaN       NaN\n",
       "2    Thur   15.156875  2.442500\n",
       "     Fri    16.321875  2.644375\n",
       "     Sat    16.837170  2.517547\n",
       "     Sun    17.560000  2.816923\n",
       "3    Thur   19.160000  2.692500\n",
       "     Fri    15.980000  3.000000\n",
       "     Sat    25.509444  3.797778\n",
       "     Sun    22.184000  3.120667\n",
       "4    Thur   29.950000  4.218000\n",
       "     Fri    40.170000  4.730000\n",
       "     Sat    29.876154  4.123846\n",
       "     Sun    26.688333  4.087778\n",
       "5    Thur   41.190000  5.000000\n",
       "     Fri          NaN       NaN\n",
       "     Sat    28.150000  3.000000\n",
       "     Sun    27.000000  4.046667\n",
       "6    Thur   30.383333  5.300000\n",
       "     Fri          NaN       NaN\n",
       "     Sat          NaN       NaN\n",
       "     Sun    48.170000  5.000000"
      ]
     },
     "execution_count": 358,
     "metadata": {},
     "output_type": "execute_result"
    }
   ],
   "source": [
    "tips.groupby(['size', 'day']).mean() "
   ]
  },
  {
   "cell_type": "markdown",
   "metadata": {},
   "source": [
    "`set_index`로 multi index를 만들었을 때와 비교해보자."
   ]
  },
  {
   "cell_type": "code",
   "execution_count": 138,
   "metadata": {},
   "outputs": [
    {
     "data": {
      "text/html": [
       "<div>\n",
       "<style scoped>\n",
       "    .dataframe tbody tr th:only-of-type {\n",
       "        vertical-align: middle;\n",
       "    }\n",
       "\n",
       "    .dataframe tbody tr th {\n",
       "        vertical-align: top;\n",
       "    }\n",
       "\n",
       "    .dataframe thead th {\n",
       "        text-align: right;\n",
       "    }\n",
       "</style>\n",
       "<table border=\"1\" class=\"dataframe\">\n",
       "  <thead>\n",
       "    <tr style=\"text-align: right;\">\n",
       "      <th></th>\n",
       "      <th></th>\n",
       "      <th>total_bill</th>\n",
       "      <th>tip</th>\n",
       "      <th>sex</th>\n",
       "      <th>smoker</th>\n",
       "      <th>time</th>\n",
       "    </tr>\n",
       "    <tr>\n",
       "      <th>size</th>\n",
       "      <th>day</th>\n",
       "      <th></th>\n",
       "      <th></th>\n",
       "      <th></th>\n",
       "      <th></th>\n",
       "      <th></th>\n",
       "    </tr>\n",
       "  </thead>\n",
       "  <tbody>\n",
       "    <tr>\n",
       "      <th>2</th>\n",
       "      <th>Sun</th>\n",
       "      <td>16.99</td>\n",
       "      <td>1.01</td>\n",
       "      <td>Female</td>\n",
       "      <td>No</td>\n",
       "      <td>Dinner</td>\n",
       "    </tr>\n",
       "    <tr>\n",
       "      <th rowspan=\"2\" valign=\"top\">3</th>\n",
       "      <th>Sun</th>\n",
       "      <td>10.34</td>\n",
       "      <td>1.66</td>\n",
       "      <td>Male</td>\n",
       "      <td>No</td>\n",
       "      <td>Dinner</td>\n",
       "    </tr>\n",
       "    <tr>\n",
       "      <th>Sun</th>\n",
       "      <td>21.01</td>\n",
       "      <td>3.50</td>\n",
       "      <td>Male</td>\n",
       "      <td>No</td>\n",
       "      <td>Dinner</td>\n",
       "    </tr>\n",
       "    <tr>\n",
       "      <th>2</th>\n",
       "      <th>Sun</th>\n",
       "      <td>23.68</td>\n",
       "      <td>3.31</td>\n",
       "      <td>Male</td>\n",
       "      <td>No</td>\n",
       "      <td>Dinner</td>\n",
       "    </tr>\n",
       "    <tr>\n",
       "      <th>4</th>\n",
       "      <th>Sun</th>\n",
       "      <td>24.59</td>\n",
       "      <td>3.61</td>\n",
       "      <td>Female</td>\n",
       "      <td>No</td>\n",
       "      <td>Dinner</td>\n",
       "    </tr>\n",
       "    <tr>\n",
       "      <th>...</th>\n",
       "      <th>...</th>\n",
       "      <td>...</td>\n",
       "      <td>...</td>\n",
       "      <td>...</td>\n",
       "      <td>...</td>\n",
       "      <td>...</td>\n",
       "    </tr>\n",
       "    <tr>\n",
       "      <th>3</th>\n",
       "      <th>Sat</th>\n",
       "      <td>29.03</td>\n",
       "      <td>5.92</td>\n",
       "      <td>Male</td>\n",
       "      <td>No</td>\n",
       "      <td>Dinner</td>\n",
       "    </tr>\n",
       "    <tr>\n",
       "      <th rowspan=\"4\" valign=\"top\">2</th>\n",
       "      <th>Sat</th>\n",
       "      <td>27.18</td>\n",
       "      <td>2.00</td>\n",
       "      <td>Female</td>\n",
       "      <td>Yes</td>\n",
       "      <td>Dinner</td>\n",
       "    </tr>\n",
       "    <tr>\n",
       "      <th>Sat</th>\n",
       "      <td>22.67</td>\n",
       "      <td>2.00</td>\n",
       "      <td>Male</td>\n",
       "      <td>Yes</td>\n",
       "      <td>Dinner</td>\n",
       "    </tr>\n",
       "    <tr>\n",
       "      <th>Sat</th>\n",
       "      <td>17.82</td>\n",
       "      <td>1.75</td>\n",
       "      <td>Male</td>\n",
       "      <td>No</td>\n",
       "      <td>Dinner</td>\n",
       "    </tr>\n",
       "    <tr>\n",
       "      <th>Thur</th>\n",
       "      <td>18.78</td>\n",
       "      <td>3.00</td>\n",
       "      <td>Female</td>\n",
       "      <td>No</td>\n",
       "      <td>Dinner</td>\n",
       "    </tr>\n",
       "  </tbody>\n",
       "</table>\n",
       "<p>244 rows × 5 columns</p>\n",
       "</div>"
      ],
      "text/plain": [
       "           total_bill   tip     sex smoker    time\n",
       "size day                                          \n",
       "2    Sun        16.99  1.01  Female     No  Dinner\n",
       "3    Sun        10.34  1.66    Male     No  Dinner\n",
       "     Sun        21.01  3.50    Male     No  Dinner\n",
       "2    Sun        23.68  3.31    Male     No  Dinner\n",
       "4    Sun        24.59  3.61  Female     No  Dinner\n",
       "...               ...   ...     ...    ...     ...\n",
       "3    Sat        29.03  5.92    Male     No  Dinner\n",
       "2    Sat        27.18  2.00  Female    Yes  Dinner\n",
       "     Sat        22.67  2.00    Male    Yes  Dinner\n",
       "     Sat        17.82  1.75    Male     No  Dinner\n",
       "     Thur       18.78  3.00  Female     No  Dinner\n",
       "\n",
       "[244 rows x 5 columns]"
      ]
     },
     "execution_count": 138,
     "metadata": {},
     "output_type": "execute_result"
    }
   ],
   "source": [
    "tips.set_index(['size', 'day'])"
   ]
  },
  {
   "cell_type": "markdown",
   "metadata": {},
   "source": [
    "`groupby`로 집계한 결과를 그래프로 쉽게 그릴 수 있다."
   ]
  },
  {
   "cell_type": "code",
   "execution_count": 142,
   "metadata": {},
   "outputs": [
    {
     "data": {
      "text/plain": [
       "<matplotlib.axes._subplots.AxesSubplot at 0x20030c13f28>"
      ]
     },
     "execution_count": 142,
     "metadata": {},
     "output_type": "execute_result"
    },
    {
     "data": {
      "image/png": "[encoded data removed]",
      "text/plain": [
       "<Figure size 432x288 with 1 Axes>"
      ]
     },
     "metadata": {
      "needs_background": "light"
     },
     "output_type": "display_data"
    }
   ],
   "source": [
    "tips.groupby(['size', 'day']).mean().plot.bar() # 인덱스가 x축"
   ]
  },
  {
   "cell_type": "markdown",
   "metadata": {},
   "source": [
    "## stack & unstack\n",
    "- **s**tack은 **c**olumn을 **i**ndex로 바꾼다. (**sci**)\n",
    "- unstackd은 index를 column으로 바꾼다."
   ]
  },
  {
   "cell_type": "markdown",
   "metadata": {},
   "source": [
    "다음 DataFrame으로 예시를 들면"
   ]
  },
  {
   "cell_type": "code",
   "execution_count": 147,
   "metadata": {},
   "outputs": [
    {
     "data": {
      "text/html": [
       "<div>\n",
       "<style scoped>\n",
       "    .dataframe tbody tr th:only-of-type {\n",
       "        vertical-align: middle;\n",
       "    }\n",
       "\n",
       "    .dataframe tbody tr th {\n",
       "        vertical-align: top;\n",
       "    }\n",
       "\n",
       "    .dataframe thead th {\n",
       "        text-align: right;\n",
       "    }\n",
       "</style>\n",
       "<table border=\"1\" class=\"dataframe\">\n",
       "  <thead>\n",
       "    <tr style=\"text-align: right;\">\n",
       "      <th></th>\n",
       "      <th>total_bill</th>\n",
       "      <th>tip</th>\n",
       "    </tr>\n",
       "    <tr>\n",
       "      <th>size</th>\n",
       "      <th></th>\n",
       "      <th></th>\n",
       "    </tr>\n",
       "  </thead>\n",
       "  <tbody>\n",
       "    <tr>\n",
       "      <th>1</th>\n",
       "      <td>7.242500</td>\n",
       "      <td>1.437500</td>\n",
       "    </tr>\n",
       "    <tr>\n",
       "      <th>2</th>\n",
       "      <td>16.448013</td>\n",
       "      <td>2.582308</td>\n",
       "    </tr>\n",
       "    <tr>\n",
       "      <th>3</th>\n",
       "      <td>23.277632</td>\n",
       "      <td>3.393158</td>\n",
       "    </tr>\n",
       "    <tr>\n",
       "      <th>4</th>\n",
       "      <td>28.613514</td>\n",
       "      <td>4.135405</td>\n",
       "    </tr>\n",
       "    <tr>\n",
       "      <th>5</th>\n",
       "      <td>30.068000</td>\n",
       "      <td>4.028000</td>\n",
       "    </tr>\n",
       "    <tr>\n",
       "      <th>6</th>\n",
       "      <td>34.830000</td>\n",
       "      <td>5.225000</td>\n",
       "    </tr>\n",
       "  </tbody>\n",
       "</table>\n",
       "</div>"
      ],
      "text/plain": [
       "      total_bill       tip\n",
       "size                      \n",
       "1       7.242500  1.437500\n",
       "2      16.448013  2.582308\n",
       "3      23.277632  3.393158\n",
       "4      28.613514  4.135405\n",
       "5      30.068000  4.028000\n",
       "6      34.830000  5.225000"
      ]
     },
     "execution_count": 147,
     "metadata": {},
     "output_type": "execute_result"
    }
   ],
   "source": [
    "tips.groupby('size').mean()"
   ]
  },
  {
   "cell_type": "markdown",
   "metadata": {},
   "source": [
    "`stack`은 column을 index로 바꿈 : total_bill과 tip이 인덱스로 바뀐다. (multi index)"
   ]
  },
  {
   "cell_type": "code",
   "execution_count": 359,
   "metadata": {},
   "outputs": [
    {
     "data": {
      "text/plain": [
       "size            \n",
       "1     total_bill     7.242500\n",
       "      tip            1.437500\n",
       "2     total_bill    16.448013\n",
       "      tip            2.582308\n",
       "3     total_bill    23.277632\n",
       "      tip            3.393158\n",
       "4     total_bill    28.613514\n",
       "      tip            4.135405\n",
       "5     total_bill    30.068000\n",
       "      tip            4.028000\n",
       "6     total_bill    34.830000\n",
       "      tip            5.225000\n",
       "dtype: float64"
      ]
     },
     "execution_count": 359,
     "metadata": {},
     "output_type": "execute_result"
    }
   ],
   "source": [
    "tips.groupby(\"size\").mean().stack()"
   ]
  },
  {
   "cell_type": "markdown",
   "metadata": {},
   "source": [
    "`unstack`은 index를 column으로 바꿈: size가 column으로 바뀐다."
   ]
  },
  {
   "cell_type": "code",
   "execution_count": 360,
   "metadata": {},
   "outputs": [
    {
     "data": {
      "text/plain": [
       "            size\n",
       "total_bill  1        7.242500\n",
       "            2       16.448013\n",
       "            3       23.277632\n",
       "            4       28.613514\n",
       "            5       30.068000\n",
       "            6       34.830000\n",
       "tip         1        1.437500\n",
       "            2        2.582308\n",
       "            3        3.393158\n",
       "            4        4.135405\n",
       "            5        4.028000\n",
       "            6        5.225000\n",
       "dtype: float64"
      ]
     },
     "execution_count": 360,
     "metadata": {},
     "output_type": "execute_result"
    }
   ],
   "source": [
    "tips.groupby(\"size\").mean().unstack()"
   ]
  },
  {
   "cell_type": "markdown",
   "metadata": {},
   "source": [
    "multi index에서도 `stack`과 `unstack`이 어떻게 바뀌는지 살펴보자."
   ]
  },
  {
   "cell_type": "code",
   "execution_count": 361,
   "metadata": {},
   "outputs": [
    {
     "data": {
      "text/plain": [
       "size  day             \n",
       "1     Thur  total_bill    10.070000\n",
       "            tip            1.830000\n",
       "      Fri   total_bill     8.580000\n",
       "            tip            1.920000\n",
       "      Sat   total_bill     5.160000\n",
       "            tip            1.000000\n",
       "2     Thur  total_bill    15.156875\n",
       "            tip            2.442500\n",
       "      Fri   total_bill    16.321875\n",
       "            tip            2.644375\n",
       "      Sat   total_bill    16.837170\n",
       "            tip            2.517547\n",
       "      Sun   total_bill    17.560000\n",
       "            tip            2.816923\n",
       "3     Thur  total_bill    19.160000\n",
       "            tip            2.692500\n",
       "      Fri   total_bill    15.980000\n",
       "            tip            3.000000\n",
       "      Sat   total_bill    25.509444\n",
       "            tip            3.797778\n",
       "      Sun   total_bill    22.184000\n",
       "            tip            3.120667\n",
       "4     Thur  total_bill    29.950000\n",
       "            tip            4.218000\n",
       "      Fri   total_bill    40.170000\n",
       "            tip            4.730000\n",
       "      Sat   total_bill    29.876154\n",
       "            tip            4.123846\n",
       "      Sun   total_bill    26.688333\n",
       "            tip            4.087778\n",
       "5     Thur  total_bill    41.190000\n",
       "            tip            5.000000\n",
       "      Sat   total_bill    28.150000\n",
       "            tip            3.000000\n",
       "      Sun   total_bill    27.000000\n",
       "            tip            4.046667\n",
       "6     Thur  total_bill    30.383333\n",
       "            tip            5.300000\n",
       "      Sun   total_bill    48.170000\n",
       "            tip            5.000000\n",
       "dtype: float64"
      ]
     },
     "execution_count": 361,
     "metadata": {},
     "output_type": "execute_result"
    }
   ],
   "source": [
    "tips.groupby(['size', 'day']).mean().stack()"
   ]
  },
  {
   "cell_type": "code",
   "execution_count": 362,
   "metadata": {},
   "outputs": [
    {
     "data": {
      "text/html": [
       "<div>\n",
       "<style scoped>\n",
       "    .dataframe tbody tr th:only-of-type {\n",
       "        vertical-align: middle;\n",
       "    }\n",
       "\n",
       "    .dataframe tbody tr th {\n",
       "        vertical-align: top;\n",
       "    }\n",
       "\n",
       "    .dataframe thead tr th {\n",
       "        text-align: left;\n",
       "    }\n",
       "\n",
       "    .dataframe thead tr:last-of-type th {\n",
       "        text-align: right;\n",
       "    }\n",
       "</style>\n",
       "<table border=\"1\" class=\"dataframe\">\n",
       "  <thead>\n",
       "    <tr>\n",
       "      <th></th>\n",
       "      <th colspan=\"4\" halign=\"left\">total_bill</th>\n",
       "      <th colspan=\"4\" halign=\"left\">tip</th>\n",
       "    </tr>\n",
       "    <tr>\n",
       "      <th>day</th>\n",
       "      <th>Thur</th>\n",
       "      <th>Fri</th>\n",
       "      <th>Sat</th>\n",
       "      <th>Sun</th>\n",
       "      <th>Thur</th>\n",
       "      <th>Fri</th>\n",
       "      <th>Sat</th>\n",
       "      <th>Sun</th>\n",
       "    </tr>\n",
       "    <tr>\n",
       "      <th>size</th>\n",
       "      <th></th>\n",
       "      <th></th>\n",
       "      <th></th>\n",
       "      <th></th>\n",
       "      <th></th>\n",
       "      <th></th>\n",
       "      <th></th>\n",
       "      <th></th>\n",
       "    </tr>\n",
       "  </thead>\n",
       "  <tbody>\n",
       "    <tr>\n",
       "      <th>1</th>\n",
       "      <td>10.070000</td>\n",
       "      <td>8.580000</td>\n",
       "      <td>5.160000</td>\n",
       "      <td>NaN</td>\n",
       "      <td>1.8300</td>\n",
       "      <td>1.920000</td>\n",
       "      <td>1.000000</td>\n",
       "      <td>NaN</td>\n",
       "    </tr>\n",
       "    <tr>\n",
       "      <th>2</th>\n",
       "      <td>15.156875</td>\n",
       "      <td>16.321875</td>\n",
       "      <td>16.837170</td>\n",
       "      <td>17.560000</td>\n",
       "      <td>2.4425</td>\n",
       "      <td>2.644375</td>\n",
       "      <td>2.517547</td>\n",
       "      <td>2.816923</td>\n",
       "    </tr>\n",
       "    <tr>\n",
       "      <th>3</th>\n",
       "      <td>19.160000</td>\n",
       "      <td>15.980000</td>\n",
       "      <td>25.509444</td>\n",
       "      <td>22.184000</td>\n",
       "      <td>2.6925</td>\n",
       "      <td>3.000000</td>\n",
       "      <td>3.797778</td>\n",
       "      <td>3.120667</td>\n",
       "    </tr>\n",
       "    <tr>\n",
       "      <th>4</th>\n",
       "      <td>29.950000</td>\n",
       "      <td>40.170000</td>\n",
       "      <td>29.876154</td>\n",
       "      <td>26.688333</td>\n",
       "      <td>4.2180</td>\n",
       "      <td>4.730000</td>\n",
       "      <td>4.123846</td>\n",
       "      <td>4.087778</td>\n",
       "    </tr>\n",
       "    <tr>\n",
       "      <th>5</th>\n",
       "      <td>41.190000</td>\n",
       "      <td>NaN</td>\n",
       "      <td>28.150000</td>\n",
       "      <td>27.000000</td>\n",
       "      <td>5.0000</td>\n",
       "      <td>NaN</td>\n",
       "      <td>3.000000</td>\n",
       "      <td>4.046667</td>\n",
       "    </tr>\n",
       "    <tr>\n",
       "      <th>6</th>\n",
       "      <td>30.383333</td>\n",
       "      <td>NaN</td>\n",
       "      <td>NaN</td>\n",
       "      <td>48.170000</td>\n",
       "      <td>5.3000</td>\n",
       "      <td>NaN</td>\n",
       "      <td>NaN</td>\n",
       "      <td>5.000000</td>\n",
       "    </tr>\n",
       "  </tbody>\n",
       "</table>\n",
       "</div>"
      ],
      "text/plain": [
       "     total_bill                                      tip                      \\\n",
       "day        Thur        Fri        Sat        Sun    Thur       Fri       Sat   \n",
       "size                                                                           \n",
       "1     10.070000   8.580000   5.160000        NaN  1.8300  1.920000  1.000000   \n",
       "2     15.156875  16.321875  16.837170  17.560000  2.4425  2.644375  2.517547   \n",
       "3     19.160000  15.980000  25.509444  22.184000  2.6925  3.000000  3.797778   \n",
       "4     29.950000  40.170000  29.876154  26.688333  4.2180  4.730000  4.123846   \n",
       "5     41.190000        NaN  28.150000  27.000000  5.0000       NaN  3.000000   \n",
       "6     30.383333        NaN        NaN  48.170000  5.3000       NaN       NaN   \n",
       "\n",
       "                \n",
       "day        Sun  \n",
       "size            \n",
       "1          NaN  \n",
       "2     2.816923  \n",
       "3     3.120667  \n",
       "4     4.087778  \n",
       "5     4.046667  \n",
       "6     5.000000  "
      ]
     },
     "execution_count": 362,
     "metadata": {},
     "output_type": "execute_result"
    }
   ],
   "source": [
    "tips.groupby(['size', 'day']).mean().unstack()"
   ]
  },
  {
   "cell_type": "markdown",
   "metadata": {},
   "source": [
    "multi index일때 특정 index를 지정해서 column으로 바꿀 수 있다."
   ]
  },
  {
   "cell_type": "code",
   "execution_count": 364,
   "metadata": {},
   "outputs": [
    {
     "data": {
      "text/html": [
       "<div>\n",
       "<style scoped>\n",
       "    .dataframe tbody tr th:only-of-type {\n",
       "        vertical-align: middle;\n",
       "    }\n",
       "\n",
       "    .dataframe tbody tr th {\n",
       "        vertical-align: top;\n",
       "    }\n",
       "\n",
       "    .dataframe thead tr th {\n",
       "        text-align: left;\n",
       "    }\n",
       "\n",
       "    .dataframe thead tr:last-of-type th {\n",
       "        text-align: right;\n",
       "    }\n",
       "</style>\n",
       "<table border=\"1\" class=\"dataframe\">\n",
       "  <thead>\n",
       "    <tr>\n",
       "      <th></th>\n",
       "      <th colspan=\"6\" halign=\"left\">total_bill</th>\n",
       "      <th colspan=\"6\" halign=\"left\">tip</th>\n",
       "    </tr>\n",
       "    <tr>\n",
       "      <th>size</th>\n",
       "      <th>1</th>\n",
       "      <th>2</th>\n",
       "      <th>3</th>\n",
       "      <th>4</th>\n",
       "      <th>5</th>\n",
       "      <th>6</th>\n",
       "      <th>1</th>\n",
       "      <th>2</th>\n",
       "      <th>3</th>\n",
       "      <th>4</th>\n",
       "      <th>5</th>\n",
       "      <th>6</th>\n",
       "    </tr>\n",
       "    <tr>\n",
       "      <th>day</th>\n",
       "      <th></th>\n",
       "      <th></th>\n",
       "      <th></th>\n",
       "      <th></th>\n",
       "      <th></th>\n",
       "      <th></th>\n",
       "      <th></th>\n",
       "      <th></th>\n",
       "      <th></th>\n",
       "      <th></th>\n",
       "      <th></th>\n",
       "      <th></th>\n",
       "    </tr>\n",
       "  </thead>\n",
       "  <tbody>\n",
       "    <tr>\n",
       "      <th>Thur</th>\n",
       "      <td>10.07</td>\n",
       "      <td>15.156875</td>\n",
       "      <td>19.160000</td>\n",
       "      <td>29.950000</td>\n",
       "      <td>41.19</td>\n",
       "      <td>30.383333</td>\n",
       "      <td>1.83</td>\n",
       "      <td>2.442500</td>\n",
       "      <td>2.692500</td>\n",
       "      <td>4.218000</td>\n",
       "      <td>5.000000</td>\n",
       "      <td>5.3</td>\n",
       "    </tr>\n",
       "    <tr>\n",
       "      <th>Fri</th>\n",
       "      <td>8.58</td>\n",
       "      <td>16.321875</td>\n",
       "      <td>15.980000</td>\n",
       "      <td>40.170000</td>\n",
       "      <td>NaN</td>\n",
       "      <td>NaN</td>\n",
       "      <td>1.92</td>\n",
       "      <td>2.644375</td>\n",
       "      <td>3.000000</td>\n",
       "      <td>4.730000</td>\n",
       "      <td>NaN</td>\n",
       "      <td>NaN</td>\n",
       "    </tr>\n",
       "    <tr>\n",
       "      <th>Sat</th>\n",
       "      <td>5.16</td>\n",
       "      <td>16.837170</td>\n",
       "      <td>25.509444</td>\n",
       "      <td>29.876154</td>\n",
       "      <td>28.15</td>\n",
       "      <td>NaN</td>\n",
       "      <td>1.00</td>\n",
       "      <td>2.517547</td>\n",
       "      <td>3.797778</td>\n",
       "      <td>4.123846</td>\n",
       "      <td>3.000000</td>\n",
       "      <td>NaN</td>\n",
       "    </tr>\n",
       "    <tr>\n",
       "      <th>Sun</th>\n",
       "      <td>NaN</td>\n",
       "      <td>17.560000</td>\n",
       "      <td>22.184000</td>\n",
       "      <td>26.688333</td>\n",
       "      <td>27.00</td>\n",
       "      <td>48.170000</td>\n",
       "      <td>NaN</td>\n",
       "      <td>2.816923</td>\n",
       "      <td>3.120667</td>\n",
       "      <td>4.087778</td>\n",
       "      <td>4.046667</td>\n",
       "      <td>5.0</td>\n",
       "    </tr>\n",
       "  </tbody>\n",
       "</table>\n",
       "</div>"
      ],
      "text/plain": [
       "     total_bill                                                      tip  \\\n",
       "size          1          2          3          4      5          6     1   \n",
       "day                                                                        \n",
       "Thur      10.07  15.156875  19.160000  29.950000  41.19  30.383333  1.83   \n",
       "Fri        8.58  16.321875  15.980000  40.170000    NaN        NaN  1.92   \n",
       "Sat        5.16  16.837170  25.509444  29.876154  28.15        NaN  1.00   \n",
       "Sun         NaN  17.560000  22.184000  26.688333  27.00  48.170000   NaN   \n",
       "\n",
       "                                                   \n",
       "size         2         3         4         5    6  \n",
       "day                                                \n",
       "Thur  2.442500  2.692500  4.218000  5.000000  5.3  \n",
       "Fri   2.644375  3.000000  4.730000       NaN  NaN  \n",
       "Sat   2.517547  3.797778  4.123846  3.000000  NaN  \n",
       "Sun   2.816923  3.120667  4.087778  4.046667  5.0  "
      ]
     },
     "execution_count": 364,
     "metadata": {},
     "output_type": "execute_result"
    }
   ],
   "source": [
    "tips.groupby(['size', 'day']).mean().unstack(\"size\")"
   ]
  },
  {
   "cell_type": "markdown",
   "metadata": {},
   "source": [
    "`stack`과 `unstack`을 잘 활용하면 DataFrame를 원하는대로 바꿀 수 있다.  \n",
    "    다음은 `unstack`을 이용해서 위에서 그린 `groubpy` 그래프를 더 훨씬 보기 좋게 만들었다."
   ]
  },
  {
   "cell_type": "code",
   "execution_count": 149,
   "metadata": {},
   "outputs": [
    {
     "data": {
      "text/plain": [
       "<matplotlib.axes._subplots.AxesSubplot at 0x2004077acc0>"
      ]
     },
     "execution_count": 149,
     "metadata": {},
     "output_type": "execute_result"
    },
    {
     "data": {
      "image/png": "[encoded data removed]",
      "text/plain": [
       "<Figure size 432x288 with 1 Axes>"
      ]
     },
     "metadata": {
      "needs_background": "light"
     },
     "output_type": "display_data"
    }
   ],
   "source": [
    "tips.groupby(['size', 'day']).mean().unstack().plot.bar()"
   ]
  },
  {
   "cell_type": "markdown",
   "metadata": {},
   "source": [
    "실습: `groupby`를 이용해서 다음과 같은 형태로 데이터를 정리해보자.\n",
    "\n",
    "|      |  남자  |       |  여자  |        |\n",
    "| :--- | :---:  | :---: | :---: | ---:   |\n",
    "|  흡연  |  예    | 아니오 | 예    | 아니오 |\n",
    "|  목  |                                 |\n",
    "|  금  |                                 |\n",
    "|  토  |                                 |\n",
    "|  일  |                                 |"
   ]
  },
  {
   "cell_type": "code",
   "execution_count": 155,
   "metadata": {},
   "outputs": [
    {
     "data": {
      "text/html": [
       "<div>\n",
       "<style scoped>\n",
       "    .dataframe tbody tr th:only-of-type {\n",
       "        vertical-align: middle;\n",
       "    }\n",
       "\n",
       "    .dataframe tbody tr th {\n",
       "        vertical-align: top;\n",
       "    }\n",
       "\n",
       "    .dataframe thead tr th {\n",
       "        text-align: left;\n",
       "    }\n",
       "\n",
       "    .dataframe thead tr:last-of-type th {\n",
       "        text-align: right;\n",
       "    }\n",
       "</style>\n",
       "<table border=\"1\" class=\"dataframe\">\n",
       "  <thead>\n",
       "    <tr>\n",
       "      <th>sex</th>\n",
       "      <th colspan=\"2\" halign=\"left\">Male</th>\n",
       "      <th colspan=\"2\" halign=\"left\">Female</th>\n",
       "    </tr>\n",
       "    <tr>\n",
       "      <th>smoker</th>\n",
       "      <th>Yes</th>\n",
       "      <th>No</th>\n",
       "      <th>Yes</th>\n",
       "      <th>No</th>\n",
       "    </tr>\n",
       "    <tr>\n",
       "      <th>day</th>\n",
       "      <th></th>\n",
       "      <th></th>\n",
       "      <th></th>\n",
       "      <th></th>\n",
       "    </tr>\n",
       "  </thead>\n",
       "  <tbody>\n",
       "    <tr>\n",
       "      <th>Thur</th>\n",
       "      <td>19.171000</td>\n",
       "      <td>18.486500</td>\n",
       "      <td>19.218571</td>\n",
       "      <td>16.014400</td>\n",
       "    </tr>\n",
       "    <tr>\n",
       "      <th>Fri</th>\n",
       "      <td>20.452500</td>\n",
       "      <td>17.475000</td>\n",
       "      <td>12.654286</td>\n",
       "      <td>19.365000</td>\n",
       "    </tr>\n",
       "    <tr>\n",
       "      <th>Sat</th>\n",
       "      <td>21.837778</td>\n",
       "      <td>19.929063</td>\n",
       "      <td>20.266667</td>\n",
       "      <td>19.003846</td>\n",
       "    </tr>\n",
       "    <tr>\n",
       "      <th>Sun</th>\n",
       "      <td>26.141333</td>\n",
       "      <td>20.403256</td>\n",
       "      <td>16.540000</td>\n",
       "      <td>20.824286</td>\n",
       "    </tr>\n",
       "  </tbody>\n",
       "</table>\n",
       "</div>"
      ],
      "text/plain": [
       "sex          Male                Female           \n",
       "smoker        Yes         No        Yes         No\n",
       "day                                               \n",
       "Thur    19.171000  18.486500  19.218571  16.014400\n",
       "Fri     20.452500  17.475000  12.654286  19.365000\n",
       "Sat     21.837778  19.929063  20.266667  19.003846\n",
       "Sun     26.141333  20.403256  16.540000  20.824286"
      ]
     },
     "execution_count": 155,
     "metadata": {},
     "output_type": "execute_result"
    }
   ],
   "source": [
    "tips.groupby(['day', 'smoker', 'sex']).mean().unstack().unstack()['total_bill']"
   ]
  },
  {
   "cell_type": "code",
   "execution_count": null,
   "metadata": {},
   "outputs": [],
   "source": []
  }
 ],
 "metadata": {
  "kernelspec": {
   "display_name": "Python 3",
   "language": "python",
   "name": "python3"
  },
  "language_info": {
   "codemirror_mode": {
    "name": "ipython",
    "version": 3
   },
   "file_extension": ".py",
   "mimetype": "text/x-python",
   "name": "python",
   "nbconvert_exporter": "python",
   "pygments_lexer": "ipython3",
   "version": "3.7.3"
  },
  "toc": {
   "base_numbering": 1,
   "nav_menu": {},
   "number_sections": true,
   "sideBar": true,
   "skip_h1_title": true,
   "title_cell": "Table of Contents",
   "title_sidebar": "Contents",
   "toc_cell": true,
   "toc_position": {},
   "toc_section_display": true,
   "toc_window_display": true
  },
  "varInspector": {
   "cols": {
    "lenName": 16,
    "lenType": 16,
    "lenVar": 40
   },
   "kernels_config": {
    "python": {
     "delete_cmd_postfix": "",
     "delete_cmd_prefix": "del ",
     "library": "var_list.py",
     "varRefreshCmd": "print(var_dic_list())"
    },
    "r": {
     "delete_cmd_postfix": ") ",
     "delete_cmd_prefix": "rm(",
     "library": "var_list.r",
     "varRefreshCmd": "cat(var_dic_list()) "
    }
   },
   "types_to_exclude": [
    "module",
    "function",
    "builtin_function_or_method",
    "instance",
    "_Feature"
   ],
   "window_display": false
  }
 },
 "nbformat": 4,
 "nbformat_minor": 2
}
