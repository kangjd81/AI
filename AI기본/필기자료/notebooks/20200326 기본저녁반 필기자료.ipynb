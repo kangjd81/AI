{
 "cells": [
  {
   "cell_type": "markdown",
   "metadata": {
    "toc": true
   },
   "source": [
    "<h1>Table of Contents<span class=\"tocSkip\"></span></h1>\n",
    "<div class=\"toc\"><ul class=\"toc-item\"><li><span><a href=\"#surprise\" data-toc-modified-id=\"surprise-1\"><span class=\"toc-item-num\">1&nbsp;&nbsp;</span>surprise</a></span></li><li><span><a href=\"#ensemble\" data-toc-modified-id=\"ensemble-2\"><span class=\"toc-item-num\">2&nbsp;&nbsp;</span>ensemble</a></span><ul class=\"toc-item\"><li><span><a href=\"#bagging\" data-toc-modified-id=\"bagging-2.1\"><span class=\"toc-item-num\">2.1&nbsp;&nbsp;</span>bagging</a></span><ul class=\"toc-item\"><li><span><a href=\"#GridSearchCV-+-Bagging\" data-toc-modified-id=\"GridSearchCV-+-Bagging-2.1.1\"><span class=\"toc-item-num\">2.1.1&nbsp;&nbsp;</span>GridSearchCV + Bagging</a></span></li><li><span><a href=\"#RandomForestClassifier\" data-toc-modified-id=\"RandomForestClassifier-2.1.2\"><span class=\"toc-item-num\">2.1.2&nbsp;&nbsp;</span>RandomForestClassifier</a></span></li></ul></li><li><span><a href=\"#boosting\" data-toc-modified-id=\"boosting-2.2\"><span class=\"toc-item-num\">2.2&nbsp;&nbsp;</span>boosting</a></span><ul class=\"toc-item\"><li><span><a href=\"#xgboosting\" data-toc-modified-id=\"xgboosting-2.2.1\"><span class=\"toc-item-num\">2.2.1&nbsp;&nbsp;</span>xgboosting</a></span></li></ul></li><li><span><a href=\"#stacking\" data-toc-modified-id=\"stacking-2.3\"><span class=\"toc-item-num\">2.3&nbsp;&nbsp;</span>stacking</a></span></li></ul></li><li><span><a href=\"#Unsupervised-Learning\" data-toc-modified-id=\"Unsupervised-Learning-3\"><span class=\"toc-item-num\">3&nbsp;&nbsp;</span>Unsupervised Learning</a></span><ul class=\"toc-item\"><li><span><a href=\"#KMeans\" data-toc-modified-id=\"KMeans-3.1\"><span class=\"toc-item-num\">3.1&nbsp;&nbsp;</span>KMeans</a></span></li><li><span><a href=\"#DBSCAN\" data-toc-modified-id=\"DBSCAN-3.2\"><span class=\"toc-item-num\">3.2&nbsp;&nbsp;</span>DBSCAN</a></span></li></ul></li></ul></div>"
   ]
  },
  {
   "cell_type": "markdown",
   "metadata": {},
   "source": [
    "# [AI 오픈 이노베이션] 기본 저녁반<a class=\"tocSkip\">\n",
    "GitHub link: [https://github.com/realblack0/ai_lecture_fundamental](https://github.com/realblack0/ai_lecture_fundamental)  \n",
    "E-Mail: realblack0@gmail.com"
   ]
  },
  {
   "cell_type": "markdown",
   "metadata": {},
   "source": [
    "## surprise"
   ]
  },
  {
   "cell_type": "markdown",
   "metadata": {},
   "source": [
    "surprise는 scikit-learn과 연동하는 추천시스템 라이브러리이다.  \n",
    "유명하고 유용한 라이브라리만 모아놓은 [python awesome](https://github.com/vinta/awesome-python)에도 올라있다."
   ]
  },
  {
   "cell_type": "code",
   "execution_count": 2,
   "metadata": {},
   "outputs": [
    {
     "name": "stdout",
     "output_type": "stream",
     "text": [
      "Collecting surprise\n",
      "  Downloading surprise-0.1-py2.py3-none-any.whl (1.8 kB)\n",
      "Collecting scikit-surprise\n",
      "  Downloading scikit-surprise-1.1.0.tar.gz (6.4 MB)\n",
      "Requirement already satisfied: joblib>=0.11 in c:\\users\\jinhyo\\anaconda3\\lib\\site-packages (from scikit-surprise->surprise) (0.13.2)\n",
      "Requirement already satisfied: numpy>=1.11.2 in c:\\users\\jinhyo\\appdata\\roaming\\python\\python37\\site-packages (from scikit-surprise->surprise) (1.18.1)\n",
      "Requirement already satisfied: scipy>=1.0.0 in c:\\users\\jinhyo\\anaconda3\\lib\\site-packages (from scikit-surprise->surprise) (1.3.1)\n",
      "Requirement already satisfied: six>=1.10.0 in c:\\users\\jinhyo\\appdata\\roaming\\python\\python37\\site-packages (from scikit-surprise->surprise) (1.14.0)\n",
      "Building wheels for collected packages: scikit-surprise\n",
      "  Building wheel for scikit-surprise (setup.py): started\n",
      "  Building wheel for scikit-surprise (setup.py): finished with status 'done'\n",
      "  Created wheel for scikit-surprise: filename=scikit_surprise-1.1.0-cp37-cp37m-win_amd64.whl size=806116 sha256=448f154f93a922d27082e62ebad8624703a909ebda3fe7bcbf95c015fad4713d\n",
      "  Stored in directory: c:\\users\\jinhyo\\appdata\\local\\pip\\cache\\wheels\\14\\21\\49\\2712122e4f70026a9f8c7e0bb6b77fd1da5e84778ec27af6a7\n",
      "Successfully built scikit-surprise\n",
      "Installing collected packages: scikit-surprise, surprise\n",
      "Successfully installed scikit-surprise-1.1.0 surprise-0.1\n"
     ]
    }
   ],
   "source": [
    "!pip install surprise"
   ]
  },
  {
   "cell_type": "markdown",
   "metadata": {},
   "source": [
    "설치가 안되면 \"visual c++ 14.0 is required\" 문제인 경우가 대부분이다.\n",
    "[다운로드 링크](https://visualstudio.microsoft.com/ko/vs/older-downloads/\n",
    ")  \n",
    "재배포 가능 패키지 무료로 설치 가능하다."
   ]
  },
  {
   "cell_type": "code",
   "execution_count": 3,
   "metadata": {},
   "outputs": [],
   "source": [
    "import surprise"
   ]
  },
  {
   "cell_type": "markdown",
   "metadata": {},
   "source": [
    "처음 보면 항상 `dir`을 해본다.  \n",
    "surprise는 scikit-learn을 베껴서 만들었기 때문에 익숙한 이름이 많이 보인다. "
   ]
  },
  {
   "cell_type": "code",
   "execution_count": 6,
   "metadata": {
    "scrolled": true
   },
   "outputs": [
    {
     "data": {
      "text/plain": [
       "['AlgoBase',\n",
       " 'BaselineOnly',\n",
       " 'CoClustering',\n",
       " 'Dataset',\n",
       " 'KNNBaseline',\n",
       " 'KNNBasic',\n",
       " 'KNNWithMeans',\n",
       " 'KNNWithZScore',\n",
       " 'NMF',\n",
       " 'NormalPredictor',\n",
       " 'Prediction',\n",
       " 'PredictionImpossible',\n",
       " 'Reader',\n",
       " 'SVD',\n",
       " 'SVDpp',\n",
       " 'SlopeOne',\n",
       " 'Trainset',\n",
       " '__all__',\n",
       " '__builtins__',\n",
       " '__cached__',\n",
       " '__doc__',\n",
       " '__file__',\n",
       " '__loader__',\n",
       " '__name__',\n",
       " '__package__',\n",
       " '__path__',\n",
       " '__spec__',\n",
       " '__version__',\n",
       " 'accuracy',\n",
       " 'builtin_datasets',\n",
       " 'dataset',\n",
       " 'dump',\n",
       " 'get_dataset_dir',\n",
       " 'get_distribution',\n",
       " 'model_selection',\n",
       " 'prediction_algorithms',\n",
       " 'reader',\n",
       " 'similarities',\n",
       " 'trainset',\n",
       " 'utils']"
      ]
     },
     "execution_count": 6,
     "metadata": {},
     "output_type": "execute_result"
    }
   ],
   "source": [
    "dir(surprise) "
   ]
  },
  {
   "cell_type": "markdown",
   "metadata": {},
   "source": [
    "`Dataset`은 데이터에 관련한 클래스이다."
   ]
  },
  {
   "cell_type": "code",
   "execution_count": 7,
   "metadata": {},
   "outputs": [],
   "source": [
    "from surprise import Dataset"
   ]
  },
  {
   "cell_type": "code",
   "execution_count": 187,
   "metadata": {},
   "outputs": [],
   "source": [
    "data = Dataset.load_builtin() # 연습용 데이터 다운로드\n",
    "                              # ml-100k : movie lens 영화 평점 데이터"
   ]
  },
  {
   "cell_type": "code",
   "execution_count": 9,
   "metadata": {
    "scrolled": true
   },
   "outputs": [
    {
     "data": {
      "text/plain": [
       "['__class__',\n",
       " '__delattr__',\n",
       " '__dict__',\n",
       " '__dir__',\n",
       " '__doc__',\n",
       " '__eq__',\n",
       " '__format__',\n",
       " '__ge__',\n",
       " '__getattribute__',\n",
       " '__gt__',\n",
       " '__hash__',\n",
       " '__init__',\n",
       " '__init_subclass__',\n",
       " '__le__',\n",
       " '__lt__',\n",
       " '__module__',\n",
       " '__ne__',\n",
       " '__new__',\n",
       " '__reduce__',\n",
       " '__reduce_ex__',\n",
       " '__repr__',\n",
       " '__setattr__',\n",
       " '__sizeof__',\n",
       " '__str__',\n",
       " '__subclasshook__',\n",
       " '__weakref__',\n",
       " 'build_full_trainset',\n",
       " 'construct_testset',\n",
       " 'construct_trainset',\n",
       " 'has_been_split',\n",
       " 'load_builtin',\n",
       " 'load_from_df',\n",
       " 'load_from_file',\n",
       " 'load_from_folds',\n",
       " 'ratings_file',\n",
       " 'raw_ratings',\n",
       " 'read_ratings',\n",
       " 'reader']"
      ]
     },
     "execution_count": 9,
     "metadata": {},
     "output_type": "execute_result"
    }
   ],
   "source": [
    "dir(data) # 처음 보면 dir"
   ]
  },
  {
   "cell_type": "markdown",
   "metadata": {},
   "source": [
    "`raw_ratings`에는 날 데이터가 들어있다. "
   ]
  },
  {
   "cell_type": "code",
   "execution_count": 235,
   "metadata": {},
   "outputs": [
    {
     "data": {
      "text/plain": [
       "[('196', '242', 3.0, '881250949'),\n",
       " ('186', '302', 3.0, '891717742'),\n",
       " ('22', '377', 1.0, '878887116'),\n",
       " ('244', '51', 2.0, '880606923'),\n",
       " ('166', '346', 1.0, '886397596'),\n",
       " ('298', '474', 4.0, '884182806'),\n",
       " ('115', '265', 2.0, '881171488'),\n",
       " ('253', '465', 5.0, '891628467'),\n",
       " ('305', '451', 3.0, '886324817'),\n",
       " ('6', '86', 3.0, '883603013'),\n",
       " ('62', '257', 2.0, '879372434'),\n",
       " ('286', '1014', 5.0, '879781125'),\n",
       " ('200', '222', 5.0, '876042340'),\n",
       " ('210', '40', 3.0, '891035994'),\n",
       " ('224', '29', 3.0, '888104457'),\n",
       " ('303', '785', 3.0, '879485318'),\n",
       " ('122', '387', 5.0, '879270459'),\n",
       " ('194', '274', 2.0, '879539794'),\n",
       " ('291', '1042', 4.0, '874834944'),\n",
       " ('234', '1184', 2.0, '892079237'),\n",
       " ('119', '392', 4.0, '886176814'),\n",
       " ('167', '486', 4.0, '892738452'),\n",
       " ('299', '144', 4.0, '877881320'),\n",
       " ('291', '118', 2.0, '874833878'),\n",
       " ('308', '1', 4.0, '887736532'),\n",
       " ('95', '546', 2.0, '879196566'),\n",
       " ('38', '95', 5.0, '892430094'),\n",
       " ('102', '768', 2.0, '883748450'),\n",
       " ('63', '277', 4.0, '875747401'),\n",
       " ('160', '234', 5.0, '876861185'),\n",
       " ('50', '246', 3.0, '877052329'),\n",
       " ('301', '98', 4.0, '882075827'),\n",
       " ('225', '193', 4.0, '879539727'),\n",
       " ('290', '88', 4.0, '880731963'),\n",
       " ('97', '194', 3.0, '884238860'),\n",
       " ('157', '274', 4.0, '886890835'),\n",
       " ('181', '1081', 1.0, '878962623'),\n",
       " ('278', '603', 5.0, '891295330'),\n",
       " ('276', '796', 1.0, '874791932'),\n",
       " ('7', '32', 4.0, '891350932'),\n",
       " ('10', '16', 4.0, '877888877'),\n",
       " ('284', '304', 4.0, '885329322'),\n",
       " ('201', '979', 2.0, '884114233'),\n",
       " ('276', '564', 3.0, '874791805'),\n",
       " ('287', '327', 5.0, '875333916'),\n",
       " ('246', '201', 5.0, '884921594'),\n",
       " ('242', '1137', 5.0, '879741196'),\n",
       " ('249', '241', 5.0, '879641194'),\n",
       " ('99', '4', 5.0, '886519097'),\n",
       " ('178', '332', 3.0, '882823437'),\n",
       " ('251', '100', 4.0, '886271884'),\n",
       " ('81', '432', 2.0, '876535131'),\n",
       " ('260', '322', 4.0, '890618898'),\n",
       " ('25', '181', 5.0, '885853415'),\n",
       " ('59', '196', 5.0, '888205088'),\n",
       " ('72', '679', 2.0, '880037164'),\n",
       " ('87', '384', 4.0, '879877127'),\n",
       " ('290', '143', 5.0, '880474293'),\n",
       " ('42', '423', 5.0, '881107687'),\n",
       " ('292', '515', 4.0, '881103977'),\n",
       " ('115', '20', 3.0, '881171009'),\n",
       " ('20', '288', 1.0, '879667584'),\n",
       " ('201', '219', 4.0, '884112673'),\n",
       " ('13', '526', 3.0, '882141053'),\n",
       " ('246', '919', 4.0, '884920949'),\n",
       " ('138', '26', 5.0, '879024232'),\n",
       " ('167', '232', 1.0, '892738341'),\n",
       " ('60', '427', 5.0, '883326620'),\n",
       " ('57', '304', 5.0, '883698581'),\n",
       " ('223', '274', 4.0, '891550094'),\n",
       " ('189', '512', 4.0, '893277702'),\n",
       " ('243', '15', 3.0, '879987440'),\n",
       " ('92', '1049', 1.0, '890251826'),\n",
       " ('246', '416', 3.0, '884923047'),\n",
       " ('194', '165', 4.0, '879546723'),\n",
       " ('241', '690', 2.0, '887249482'),\n",
       " ('178', '248', 4.0, '882823954'),\n",
       " ('254', '1444', 3.0, '886475558'),\n",
       " ('293', '5', 3.0, '888906576'),\n",
       " ('127', '229', 5.0, '884364867'),\n",
       " ('225', '237', 5.0, '879539643'),\n",
       " ('299', '229', 3.0, '878192429'),\n",
       " ('225', '480', 5.0, '879540748'),\n",
       " ('276', '54', 3.0, '874791025'),\n",
       " ('291', '144', 5.0, '874835091'),\n",
       " ('222', '366', 4.0, '878183381'),\n",
       " ('267', '518', 5.0, '878971773'),\n",
       " ('42', '403', 3.0, '881108684'),\n",
       " ('11', '111', 4.0, '891903862'),\n",
       " ('95', '625', 4.0, '888954412'),\n",
       " ('8', '338', 4.0, '879361873'),\n",
       " ('162', '25', 4.0, '877635573'),\n",
       " ('87', '1016', 4.0, '879876194'),\n",
       " ('279', '154', 5.0, '875296291'),\n",
       " ('145', '275', 2.0, '885557505'),\n",
       " ('119', '1153', 5.0, '874781198'),\n",
       " ('62', '498', 4.0, '879373848'),\n",
       " ('62', '382', 3.0, '879375537'),\n",
       " ('28', '209', 4.0, '881961214'),\n",
       " ('135', '23', 4.0, '879857765'),\n",
       " ('32', '294', 3.0, '883709863'),\n",
       " ('90', '382', 5.0, '891383835'),\n",
       " ('286', '208', 4.0, '877531942'),\n",
       " ('293', '685', 3.0, '888905170'),\n",
       " ('216', '144', 4.0, '880234639'),\n",
       " ('166', '328', 5.0, '886397722'),\n",
       " ('250', '496', 4.0, '878090499'),\n",
       " ('271', '132', 5.0, '885848672'),\n",
       " ('160', '174', 5.0, '876860807'),\n",
       " ('265', '118', 4.0, '875320714'),\n",
       " ('198', '498', 3.0, '884207492'),\n",
       " ('42', '96', 5.0, '881107178'),\n",
       " ('168', '151', 5.0, '884288058'),\n",
       " ('110', '307', 4.0, '886987260'),\n",
       " ('58', '144', 4.0, '884304936'),\n",
       " ('90', '648', 4.0, '891384754'),\n",
       " ('271', '346', 4.0, '885844430'),\n",
       " ('62', '21', 3.0, '879373460'),\n",
       " ('279', '832', 3.0, '881375854'),\n",
       " ('237', '514', 4.0, '879376641'),\n",
       " ('94', '789', 4.0, '891720887'),\n",
       " ('128', '485', 3.0, '879966895'),\n",
       " ('298', '317', 4.0, '884182806'),\n",
       " ('44', '195', 5.0, '878347874'),\n",
       " ('264', '200', 5.0, '886122352'),\n",
       " ('194', '385', 2.0, '879524643'),\n",
       " ('72', '195', 5.0, '880037702'),\n",
       " ('222', '750', 5.0, '883815120'),\n",
       " ('250', '264', 3.0, '878089182'),\n",
       " ('41', '265', 3.0, '890687042'),\n",
       " ('224', '245', 3.0, '888082216'),\n",
       " ('82', '135', 3.0, '878769629'),\n",
       " ('262', '1147', 4.0, '879791710'),\n",
       " ('293', '471', 3.0, '888904884'),\n",
       " ('216', '658', 3.0, '880245029'),\n",
       " ('250', '140', 3.0, '878092059'),\n",
       " ('59', '23', 5.0, '888205300'),\n",
       " ('286', '379', 5.0, '877533771'),\n",
       " ('244', '815', 4.0, '880605185'),\n",
       " ('7', '479', 4.0, '891352010'),\n",
       " ('174', '368', 1.0, '886434402'),\n",
       " ('87', '274', 4.0, '879876734'),\n",
       " ('194', '1211', 2.0, '879551380'),\n",
       " ('82', '1134', 2.0, '884714402'),\n",
       " ('13', '836', 2.0, '"
      ]
     },
     "execution_count": 235,
     "metadata": {},
     "output_type": "execute_result"
    },
    {
     "data": {
      "text/html": [
       "출력 중략..."
      ]
     },
     "metadata": {},
     "output_type": "display_data"
    }
   ],
   "source": [
    "Dataset.load_builtin().raw_ratings"
   ]
  },
  {
   "cell_type": "markdown",
   "metadata": {},
   "source": [
    "다루기 편하게 pandas DataFrame으로 바꿔보자"
   ]
  },
  {
   "cell_type": "code",
   "execution_count": 10,
   "metadata": {},
   "outputs": [],
   "source": [
    "import pandas as pd"
   ]
  },
  {
   "cell_type": "code",
   "execution_count": 13,
   "metadata": {},
   "outputs": [],
   "source": [
    "# 이 연습용 데이터는 3월 10일에 실습했던 영화 평점 데이터와 동일함 (ratings.csv)\n",
    "# column명은 알고 있는 이름을 씀\n",
    "data_p = pd.DataFrame(data.raw_ratings, columns=[\"user_id\", \"movie_id\", \"rating\",\"timestamp\"]) "
   ]
  },
  {
   "cell_type": "code",
   "execution_count": 14,
   "metadata": {},
   "outputs": [],
   "source": [
    "# timestamp는 추천에 사용하지 않을 것이므로 버림\n",
    "data_p.drop(columns=\"timestamp\", inplace=True)"
   ]
  },
  {
   "cell_type": "code",
   "execution_count": 15,
   "metadata": {},
   "outputs": [
    {
     "data": {
      "text/html": [
       "<div>\n",
       "<style scoped>\n",
       "    .dataframe tbody tr th:only-of-type {\n",
       "        vertical-align: middle;\n",
       "    }\n",
       "\n",
       "    .dataframe tbody tr th {\n",
       "        vertical-align: top;\n",
       "    }\n",
       "\n",
       "    .dataframe thead th {\n",
       "        text-align: right;\n",
       "    }\n",
       "</style>\n",
       "<table border=\"1\" class=\"dataframe\">\n",
       "  <thead>\n",
       "    <tr style=\"text-align: right;\">\n",
       "      <th></th>\n",
       "      <th>user_id</th>\n",
       "      <th>movie_id</th>\n",
       "      <th>rating</th>\n",
       "    </tr>\n",
       "  </thead>\n",
       "  <tbody>\n",
       "    <tr>\n",
       "      <th>0</th>\n",
       "      <td>196</td>\n",
       "      <td>242</td>\n",
       "      <td>3.0</td>\n",
       "    </tr>\n",
       "    <tr>\n",
       "      <th>1</th>\n",
       "      <td>186</td>\n",
       "      <td>302</td>\n",
       "      <td>3.0</td>\n",
       "    </tr>\n",
       "    <tr>\n",
       "      <th>2</th>\n",
       "      <td>22</td>\n",
       "      <td>377</td>\n",
       "      <td>1.0</td>\n",
       "    </tr>\n",
       "    <tr>\n",
       "      <th>3</th>\n",
       "      <td>244</td>\n",
       "      <td>51</td>\n",
       "      <td>2.0</td>\n",
       "    </tr>\n",
       "    <tr>\n",
       "      <th>4</th>\n",
       "      <td>166</td>\n",
       "      <td>346</td>\n",
       "      <td>1.0</td>\n",
       "    </tr>\n",
       "    <tr>\n",
       "      <th>...</th>\n",
       "      <td>...</td>\n",
       "      <td>...</td>\n",
       "      <td>...</td>\n",
       "    </tr>\n",
       "    <tr>\n",
       "      <th>99995</th>\n",
       "      <td>880</td>\n",
       "      <td>476</td>\n",
       "      <td>3.0</td>\n",
       "    </tr>\n",
       "    <tr>\n",
       "      <th>99996</th>\n",
       "      <td>716</td>\n",
       "      <td>204</td>\n",
       "      <td>5.0</td>\n",
       "    </tr>\n",
       "    <tr>\n",
       "      <th>99997</th>\n",
       "      <td>276</td>\n",
       "      <td>1090</td>\n",
       "      <td>1.0</td>\n",
       "    </tr>\n",
       "    <tr>\n",
       "      <th>99998</th>\n",
       "      <td>13</td>\n",
       "      <td>225</td>\n",
       "      <td>2.0</td>\n",
       "    </tr>\n",
       "    <tr>\n",
       "      <th>99999</th>\n",
       "      <td>12</td>\n",
       "      <td>203</td>\n",
       "      <td>3.0</td>\n",
       "    </tr>\n",
       "  </tbody>\n",
       "</table>\n",
       "<p>100000 rows × 3 columns</p>\n",
       "</div>"
      ],
      "text/plain": [
       "      user_id movie_id  rating\n",
       "0         196      242     3.0\n",
       "1         186      302     3.0\n",
       "2          22      377     1.0\n",
       "3         244       51     2.0\n",
       "4         166      346     1.0\n",
       "...       ...      ...     ...\n",
       "99995     880      476     3.0\n",
       "99996     716      204     5.0\n",
       "99997     276     1090     1.0\n",
       "99998      13      225     2.0\n",
       "99999      12      203     3.0\n",
       "\n",
       "[100000 rows x 3 columns]"
      ]
     },
     "execution_count": 15,
     "metadata": {},
     "output_type": "execute_result"
    }
   ],
   "source": [
    "data_p"
   ]
  },
  {
   "cell_type": "markdown",
   "metadata": {},
   "source": [
    "`info`를 보면 user_id, movie_id가 문자열이다.  \n",
    "기계학습을 하기 위해서는 숫자 데이터로 바꿔줘야 한다."
   ]
  },
  {
   "cell_type": "code",
   "execution_count": 23,
   "metadata": {},
   "outputs": [
    {
     "name": "stdout",
     "output_type": "stream",
     "text": [
      "<class 'pandas.core.frame.DataFrame'>\n",
      "RangeIndex: 100000 entries, 0 to 99999\n",
      "Data columns (total 3 columns):\n",
      "user_id     100000 non-null object\n",
      "movie_id    100000 non-null object\n",
      "rating      100000 non-null float64\n",
      "dtypes: float64(1), object(2)\n",
      "memory usage: 2.3+ MB\n"
     ]
    }
   ],
   "source": [
    "data_p.info()"
   ]
  },
  {
   "cell_type": "markdown",
   "metadata": {},
   "source": [
    "`to_numeric`은 숫자 데이터로 타입을 바꿔주는 pandas 기능이다.  \n",
    "이름에 to_가 붙은 녀석들은 편리하다.  \n",
    "타입 변환할 때 error가 발생하면 어떻게 처리할지도 정할 수 있다.(`errors` 옵션)"
   ]
  },
  {
   "cell_type": "code",
   "execution_count": 24,
   "metadata": {},
   "outputs": [
    {
     "data": {
      "text/plain": [
       "0        196\n",
       "1        186\n",
       "2         22\n",
       "3        244\n",
       "4        166\n",
       "        ... \n",
       "99995    880\n",
       "99996    716\n",
       "99997    276\n",
       "99998     13\n",
       "99999     12\n",
       "Name: user_id, Length: 100000, dtype: int64"
      ]
     },
     "execution_count": 24,
     "metadata": {},
     "output_type": "execute_result"
    }
   ],
   "source": [
    "pd.to_numeric(data_p.user_id)"
   ]
  },
  {
   "cell_type": "markdown",
   "metadata": {},
   "source": [
    "`astype`은 타입 변환하는 numpy의 기능이다.  \n",
    "pandas는 numpy를 기반으로 만들었기 때문에 사용 가능하다. "
   ]
  },
  {
   "cell_type": "code",
   "execution_count": 27,
   "metadata": {},
   "outputs": [
    {
     "data": {
      "text/plain": [
       "0         242\n",
       "1         302\n",
       "2         377\n",
       "3          51\n",
       "4         346\n",
       "         ... \n",
       "99995     476\n",
       "99996     204\n",
       "99997    1090\n",
       "99998     225\n",
       "99999     203\n",
       "Name: movie_id, Length: 100000, dtype: int64"
      ]
     },
     "execution_count": 27,
     "metadata": {},
     "output_type": "execute_result"
    }
   ],
   "source": [
    "data_p.movie_id.astype(\"int64\")"
   ]
  },
  {
   "cell_type": "markdown",
   "metadata": {},
   "source": [
    "재할당해서 data_p에 변경결과를 반영한다."
   ]
  },
  {
   "cell_type": "code",
   "execution_count": 28,
   "metadata": {},
   "outputs": [],
   "source": [
    "data_p.user_id = pd.to_numeric(data_p.user_id)\n",
    "data_p[\"movie_id\"] = data_p.movie_id.astype(\"int64\")"
   ]
  },
  {
   "cell_type": "markdown",
   "metadata": {},
   "source": [
    "추천 시스템 만들 때 유저-영화 DataFrame 만들었던 것 잠깐 복습해보자."
   ]
  },
  {
   "cell_type": "code",
   "execution_count": 20,
   "metadata": {},
   "outputs": [],
   "source": [
    "recom1 = data_p.set_index([\"user_id\", \"movie_id\"]).unstack().fillna(0)"
   ]
  },
  {
   "cell_type": "code",
   "execution_count": 21,
   "metadata": {},
   "outputs": [
    {
     "data": {
      "text/html": [
       "<div>\n",
       "<style scoped>\n",
       "    .dataframe tbody tr th:only-of-type {\n",
       "        vertical-align: middle;\n",
       "    }\n",
       "\n",
       "    .dataframe tbody tr th {\n",
       "        vertical-align: top;\n",
       "    }\n",
       "\n",
       "    .dataframe thead tr th {\n",
       "        text-align: left;\n",
       "    }\n",
       "\n",
       "    .dataframe thead tr:last-of-type th {\n",
       "        text-align: right;\n",
       "    }\n",
       "</style>\n",
       "<table border=\"1\" class=\"dataframe\">\n",
       "  <thead>\n",
       "    <tr>\n",
       "      <th></th>\n",
       "      <th colspan=\"21\" halign=\"left\">rating</th>\n",
       "    </tr>\n",
       "    <tr>\n",
       "      <th>movie_id</th>\n",
       "      <th>1</th>\n",
       "      <th>10</th>\n",
       "      <th>100</th>\n",
       "      <th>1000</th>\n",
       "      <th>1001</th>\n",
       "      <th>1002</th>\n",
       "      <th>1003</th>\n",
       "      <th>1004</th>\n",
       "      <th>1005</th>\n",
       "      <th>1006</th>\n",
       "      <th>...</th>\n",
       "      <th>990</th>\n",
       "      <th>991</th>\n",
       "      <th>992</th>\n",
       "      <th>993</th>\n",
       "      <th>994</th>\n",
       "      <th>995</th>\n",
       "      <th>996</th>\n",
       "      <th>997</th>\n",
       "      <th>998</th>\n",
       "      <th>999</th>\n",
       "    </tr>\n",
       "    <tr>\n",
       "      <th>user_id</th>\n",
       "      <th></th>\n",
       "      <th></th>\n",
       "      <th></th>\n",
       "      <th></th>\n",
       "      <th></th>\n",
       "      <th></th>\n",
       "      <th></th>\n",
       "      <th></th>\n",
       "      <th></th>\n",
       "      <th></th>\n",
       "      <th></th>\n",
       "      <th></th>\n",
       "      <th></th>\n",
       "      <th></th>\n",
       "      <th></th>\n",
       "      <th></th>\n",
       "      <th></th>\n",
       "      <th></th>\n",
       "      <th></th>\n",
       "      <th></th>\n",
       "      <th></th>\n",
       "    </tr>\n",
       "  </thead>\n",
       "  <tbody>\n",
       "    <tr>\n",
       "      <th>1</th>\n",
       "      <td>5.0</td>\n",
       "      <td>3.0</td>\n",
       "      <td>5.0</td>\n",
       "      <td>0.0</td>\n",
       "      <td>0.0</td>\n",
       "      <td>0.0</td>\n",
       "      <td>0.0</td>\n",
       "      <td>0.0</td>\n",
       "      <td>0.0</td>\n",
       "      <td>0.0</td>\n",
       "      <td>...</td>\n",
       "      <td>0.0</td>\n",
       "      <td>0.0</td>\n",
       "      <td>0.0</td>\n",
       "      <td>0.0</td>\n",
       "      <td>0.0</td>\n",
       "      <td>0.0</td>\n",
       "      <td>0.0</td>\n",
       "      <td>0.0</td>\n",
       "      <td>0.0</td>\n",
       "      <td>0.0</td>\n",
       "    </tr>\n",
       "    <tr>\n",
       "      <th>10</th>\n",
       "      <td>4.0</td>\n",
       "      <td>0.0</td>\n",
       "      <td>5.0</td>\n",
       "      <td>0.0</td>\n",
       "      <td>0.0</td>\n",
       "      <td>0.0</td>\n",
       "      <td>0.0</td>\n",
       "      <td>0.0</td>\n",
       "      <td>0.0</td>\n",
       "      <td>0.0</td>\n",
       "      <td>...</td>\n",
       "      <td>0.0</td>\n",
       "      <td>0.0</td>\n",
       "      <td>0.0</td>\n",
       "      <td>0.0</td>\n",
       "      <td>0.0</td>\n",
       "      <td>0.0</td>\n",
       "      <td>0.0</td>\n",
       "      <td>0.0</td>\n",
       "      <td>0.0</td>\n",
       "      <td>0.0</td>\n",
       "    </tr>\n",
       "    <tr>\n",
       "      <th>100</th>\n",
       "      <td>0.0</td>\n",
       "      <td>0.0</td>\n",
       "      <td>0.0</td>\n",
       "      <td>0.0</td>\n",
       "      <td>0.0</td>\n",
       "      <td>0.0</td>\n",
       "      <td>0.0</td>\n",
       "      <td>0.0</td>\n",
       "      <td>0.0</td>\n",
       "      <td>0.0</td>\n",
       "      <td>...</td>\n",
       "      <td>3.0</td>\n",
       "      <td>0.0</td>\n",
       "      <td>0.0</td>\n",
       "      <td>0.0</td>\n",
       "      <td>0.0</td>\n",
       "      <td>0.0</td>\n",
       "      <td>0.0</td>\n",
       "      <td>0.0</td>\n",
       "      <td>0.0</td>\n",
       "      <td>0.0</td>\n",
       "    </tr>\n",
       "    <tr>\n",
       "      <th>101</th>\n",
       "      <td>3.0</td>\n",
       "      <td>0.0</td>\n",
       "      <td>0.0</td>\n",
       "      <td>0.0</td>\n",
       "      <td>0.0</td>\n",
       "      <td>0.0</td>\n",
       "      <td>0.0</td>\n",
       "      <td>0.0</td>\n",
       "      <td>0.0</td>\n",
       "      <td>0.0</td>\n",
       "      <td>...</td>\n",
       "      <td>0.0</td>\n",
       "      <td>0.0</td>\n",
       "      <td>0.0</td>\n",
       "      <td>0.0</td>\n",
       "      <td>0.0</td>\n",
       "      <td>0.0</td>\n",
       "      <td>0.0</td>\n",
       "      <td>0.0</td>\n",
       "      <td>0.0</td>\n",
       "      <td>0.0</td>\n",
       "    </tr>\n",
       "    <tr>\n",
       "      <th>102</th>\n",
       "      <td>3.0</td>\n",
       "      <td>0.0</td>\n",
       "      <td>0.0</td>\n",
       "      <td>0.0</td>\n",
       "      <td>0.0</td>\n",
       "      <td>0.0</td>\n",
       "      <td>0.0</td>\n",
       "      <td>0.0</td>\n",
       "      <td>0.0</td>\n",
       "      <td>0.0</td>\n",
       "      <td>...</td>\n",
       "      <td>0.0</td>\n",
       "      <td>0.0</td>\n",
       "      <td>0.0</td>\n",
       "      <td>2.0</td>\n",
       "      <td>0.0</td>\n",
       "      <td>0.0</td>\n",
       "      <td>0.0</td>\n",
       "      <td>0.0</td>\n",
       "      <td>0.0</td>\n",
       "      <td>0.0</td>\n",
       "    </tr>\n",
       "    <tr>\n",
       "      <th>...</th>\n",
       "      <td>...</td>\n",
       "      <td>...</td>\n",
       "      <td>...</td>\n",
       "      <td>...</td>\n",
       "      <td>...</td>\n",
       "      <td>...</td>\n",
       "      <td>...</td>\n",
       "      <td>...</td>\n",
       "      <td>...</td>\n",
       "      <td>...</td>\n",
       "      <td>...</td>\n",
       "      <td>...</td>\n",
       "      <td>...</td>\n",
       "      <td>...</td>\n",
       "      <td>...</td>\n",
       "      <td>...</td>\n",
       "      <td>...</td>\n",
       "      <td>...</td>\n",
       "      <td>...</td>\n",
       "      <td>...</td>\n",
       "      <td>...</td>\n",
       "    </tr>\n",
       "    <tr>\n",
       "      <th>95</th>\n",
       "      <td>5.0</td>\n",
       "      <td>0.0</td>\n",
       "      <td>0.0</td>\n",
       "      <td>0.0</td>\n",
       "      <td>0.0</td>\n",
       "      <td>0.0</td>\n",
       "      <td>0.0</td>\n",
       "      <td>0.0</td>\n",
       "      <td>0.0</td>\n",
       "      <td>0.0</td>\n",
       "      <td>...</td>\n",
       "      <td>0.0</td>\n",
       "      <td>0.0</td>\n",
       "      <td>0.0</td>\n",
       "      <td>0.0</td>\n",
       "      <td>0.0</td>\n",
       "      <td>0.0</td>\n",
       "      <td>0.0</td>\n",
       "      <td>0.0</td>\n",
       "      <td>0.0</td>\n",
       "      <td>0.0</td>\n",
       "    </tr>\n",
       "    <tr>\n",
       "      <th>96</th>\n",
       "      <td>5.0</td>\n",
       "      <td>0.0</td>\n",
       "      <td>5.0</td>\n",
       "      <td>0.0</td>\n",
       "      <td>0.0</td>\n",
       "      <td>0.0</td>\n",
       "      <td>0.0</td>\n",
       "      <td>0.0</td>\n",
       "      <td>0.0</td>\n",
       "      <td>0.0</td>\n",
       "      <td>...</td>\n",
       "      <td>0.0</td>\n",
       "      <td>0.0</td>\n",
       "      <td>0.0</td>\n",
       "      <td>0.0</td>\n",
       "      <td>0.0</td>\n",
       "      <td>0.0</td>\n",
       "      <td>0.0</td>\n",
       "      <td>0.0</td>\n",
       "      <td>0.0</td>\n",
       "      <td>0.0</td>\n",
       "    </tr>\n",
       "    <tr>\n",
       "      <th>97</th>\n",
       "      <td>4.0</td>\n",
       "      <td>0.0</td>\n",
       "      <td>2.0</td>\n",
       "      <td>0.0</td>\n",
       "      <td>0.0</td>\n",
       "      <td>0.0</td>\n",
       "      <td>0.0</td>\n",
       "      <td>0.0</td>\n",
       "      <td>0.0</td>\n",
       "      <td>0.0</td>\n",
       "      <td>...</td>\n",
       "      <td>0.0</td>\n",
       "      <td>0.0</td>\n",
       "      <td>0.0</td>\n",
       "      <td>0.0</td>\n",
       "      <td>0.0</td>\n",
       "      <td>0.0</td>\n",
       "      <td>0.0</td>\n",
       "      <td>0.0</td>\n",
       "      <td>0.0</td>\n",
       "      <td>0.0</td>\n",
       "    </tr>\n",
       "    <tr>\n",
       "      <th>98</th>\n",
       "      <td>0.0</td>\n",
       "      <td>0.0</td>\n",
       "      <td>0.0</td>\n",
       "      <td>0.0</td>\n",
       "      <td>0.0</td>\n",
       "      <td>0.0</td>\n",
       "      <td>0.0</td>\n",
       "      <td>0.0</td>\n",
       "      <td>0.0</td>\n",
       "      <td>0.0</td>\n",
       "      <td>...</td>\n",
       "      <td>0.0</td>\n",
       "      <td>0.0</td>\n",
       "      <td>0.0</td>\n",
       "      <td>0.0</td>\n",
       "      <td>0.0</td>\n",
       "      <td>0.0</td>\n",
       "      <td>0.0</td>\n",
       "      <td>0.0</td>\n",
       "      <td>0.0</td>\n",
       "      <td>0.0</td>\n",
       "    </tr>\n",
       "    <tr>\n",
       "      <th>99</th>\n",
       "      <td>4.0</td>\n",
       "      <td>0.0</td>\n",
       "      <td>5.0</td>\n",
       "      <td>0.0</td>\n",
       "      <td>0.0</td>\n",
       "      <td>0.0</td>\n",
       "      <td>0.0</td>\n",
       "      <td>0.0</td>\n",
       "      <td>0.0</td>\n",
       "      <td>0.0</td>\n",
       "      <td>...</td>\n",
       "      <td>0.0</td>\n",
       "      <td>0.0</td>\n",
       "      <td>0.0</td>\n",
       "      <td>0.0</td>\n",
       "      <td>0.0</td>\n",
       "      <td>0.0</td>\n",
       "      <td>0.0</td>\n",
       "      <td>0.0</td>\n",
       "      <td>0.0</td>\n",
       "      <td>0.0</td>\n",
       "    </tr>\n",
       "  </tbody>\n",
       "</table>\n",
       "<p>943 rows × 1682 columns</p>\n",
       "</div>"
      ],
      "text/plain": [
       "         rating                                               ...            \\\n",
       "movie_id      1   10  100 1000 1001 1002 1003 1004 1005 1006  ...  990  991   \n",
       "user_id                                                       ...             \n",
       "1           5.0  3.0  5.0  0.0  0.0  0.0  0.0  0.0  0.0  0.0  ...  0.0  0.0   \n",
       "10          4.0  0.0  5.0  0.0  0.0  0.0  0.0  0.0  0.0  0.0  ...  0.0  0.0   \n",
       "100         0.0  0.0  0.0  0.0  0.0  0.0  0.0  0.0  0.0  0.0  ...  3.0  0.0   \n",
       "101         3.0  0.0  0.0  0.0  0.0  0.0  0.0  0.0  0.0  0.0  ...  0.0  0.0   \n",
       "102         3.0  0.0  0.0  0.0  0.0  0.0  0.0  0.0  0.0  0.0  ...  0.0  0.0   \n",
       "...         ...  ...  ...  ...  ...  ...  ...  ...  ...  ...  ...  ...  ...   \n",
       "95          5.0  0.0  0.0  0.0  0.0  0.0  0.0  0.0  0.0  0.0  ...  0.0  0.0   \n",
       "96          5.0  0.0  5.0  0.0  0.0  0.0  0.0  0.0  0.0  0.0  ...  0.0  0.0   \n",
       "97          4.0  0.0  2.0  0.0  0.0  0.0  0.0  0.0  0.0  0.0  ...  0.0  0.0   \n",
       "98          0.0  0.0  0.0  0.0  0.0  0.0  0.0  0.0  0.0  0.0  ...  0.0  0.0   \n",
       "99          4.0  0.0  5.0  0.0  0.0  0.0  0.0  0.0  0.0  0.0  ...  0.0  0.0   \n",
       "\n",
       "                                                  \n",
       "movie_id  992  993  994  995  996  997  998  999  \n",
       "user_id                                           \n",
       "1         0.0  0.0  0.0  0.0  0.0  0.0  0.0  0.0  \n",
       "10        0.0  0.0  0.0  0.0  0.0  0.0  0.0  0.0  \n",
       "100       0.0  0.0  0.0  0.0  0.0  0.0  0.0  0.0  \n",
       "101       0.0  0.0  0.0  0.0  0.0  0.0  0.0  0.0  \n",
       "102       0.0  2.0  0.0  0.0  0.0  0.0  0.0  0.0  \n",
       "...       ...  ...  ...  ...  ...  ...  ...  ...  \n",
       "95        0.0  0.0  0.0  0.0  0.0  0.0  0.0  0.0  \n",
       "96        0.0  0.0  0.0  0.0  0.0  0.0  0.0  0.0  \n",
       "97        0.0  0.0  0.0  0.0  0.0  0.0  0.0  0.0  \n",
       "98        0.0  0.0  0.0  0.0  0.0  0.0  0.0  0.0  \n",
       "99        0.0  0.0  0.0  0.0  0.0  0.0  0.0  0.0  \n",
       "\n",
       "[943 rows x 1682 columns]"
      ]
     },
     "execution_count": 21,
     "metadata": {},
     "output_type": "execute_result"
    }
   ],
   "source": [
    "recom1"
   ]
  },
  {
   "cell_type": "markdown",
   "metadata": {},
   "source": [
    "`imshow`은 이미지(array)를 시각화하는 기능인데 0이면 검은색으로 나온다.  \n",
    "여기에 착안하여, `imshow`를 0인 값을 체크하는 용도로 쓸 수도 있다.  \n",
    "전반적으로 0이 매우 많음을 시각적으로 알 수 있다."
   ]
  },
  {
   "cell_type": "code",
   "execution_count": null,
   "metadata": {},
   "outputs": [],
   "source": [
    "import matplotlib.pyplot as plt"
   ]
  },
  {
   "cell_type": "code",
   "execution_count": 35,
   "metadata": {},
   "outputs": [
    {
     "data": {
      "text/plain": [
       "<matplotlib.image.AxesImage at 0x1ee80248c88>"
      ]
     },
     "execution_count": 35,
     "metadata": {},
     "output_type": "execute_result"
    },
    {
     "data": {
      "image/png": "[encoded data removed]",
      "text/plain": [
       "<Figure size 1440x576 with 1 Axes>"
      ]
     },
     "metadata": {
      "needs_background": "light"
     },
     "output_type": "display_data"
    }
   ],
   "source": [
    "plt.figure(figsize=(20,8)) \n",
    "plt.imshow(recom1)"
   ]
  },
  {
   "cell_type": "markdown",
   "metadata": {},
   "source": [
    "`surprise`는 scikit-learn을 베껴서 만들었다.  \n",
    "모듈과 함수 위치도 같다."
   ]
  },
  {
   "cell_type": "code",
   "execution_count": 36,
   "metadata": {},
   "outputs": [],
   "source": [
    "from surprise.model_selection import KFold"
   ]
  },
  {
   "cell_type": "code",
   "execution_count": 188,
   "metadata": {},
   "outputs": [],
   "source": [
    "kf = KFold()"
   ]
  },
  {
   "cell_type": "markdown",
   "metadata": {},
   "source": [
    "generator이면 `next`해본다."
   ]
  },
  {
   "cell_type": "code",
   "execution_count": 236,
   "metadata": {},
   "outputs": [
    {
     "data": {
      "text/plain": [
       "<generator object KFold.split at 0x000001EE8FE63318>"
      ]
     },
     "execution_count": 236,
     "metadata": {},
     "output_type": "execute_result"
    }
   ],
   "source": [
    "kf.split(data)"
   ]
  },
  {
   "cell_type": "code",
   "execution_count": 237,
   "metadata": {},
   "outputs": [],
   "source": [
    "t = kf.split(data)"
   ]
  },
  {
   "cell_type": "code",
   "execution_count": 238,
   "metadata": {},
   "outputs": [
    {
     "data": {
      "text/plain": [
       "(<surprise.trainset.Trainset at 0x1ee96da2a58>,\n",
       " [('181', '1334', 1.0),\n",
       "  ('233', '192', 5.0),\n",
       "  ('889', '520', 4.0),\n",
       "  ('886', '171', 4.0),\n",
       "  ('897', '485', 3.0),\n",
       "  ('779', '1028', 4.0),\n",
       "  ('378', '956', 3.0),\n",
       "  ('394', '174', 5.0),\n",
       "  ('363', '183', 4.0),\n",
       "  ('128', '258', 2.0),\n",
       "  ('90', '273', 3.0),\n",
       "  ('345', '258', 4.0),\n",
       "  ('901', '1620', 5.0),\n",
       "  ('459', '568', 3.0),\n",
       "  ('817', '329', 4.0),\n",
       "  ('575', '427', 4.0),\n",
       "  ('407', '40', 1.0),\n",
       "  ('608', '469', 3.0),\n",
       "  ('531', '323', 5.0),\n",
       "  ('60', '194', 4.0),\n",
       "  ('72', '1148', 4.0),\n",
       "  ('158', '729', 3.0),\n",
       "  ('498', '475', 3.0),\n",
       "  ('514', '306', 4.0),\n",
       "  ('65', '661', 4.0),\n",
       "  ('880', '177', 5.0),\n",
       "  ('44', '507', 3.0),\n",
       "  ('288', '289', 3.0),\n",
       "  ('922', '476', 1.0),\n",
       "  ('208', '216', 5.0),\n",
       "  ('303', '741', 4.0),\n",
       "  ('572', '1010', 2.0),\n",
       "  ('221', '335', 4.0),\n",
       "  ('815', '919', 5.0),\n",
       "  ('152', '133', 5.0),\n",
       "  ('443', '333', 5.0),\n",
       "  ('911', '313', 2.0),\n",
       "  ('863', '902', 5.0),\n",
       "  ('339', '88', 4.0),\n",
       "  ('766', '65', 4.0),\n",
       "  ('913', '202', 4.0),\n",
       "  ('158', '50', 4.0),\n",
       "  ('541', '140', 5.0),\n",
       "  ('276', '252', 3.0),\n",
       "  ('249', '228', 4.0),\n",
       "  ('200', '1', 5.0),\n",
       "  ('234', '152', 4.0),\n",
       "  ('315', '305', 5.0),\n",
       "  ('498', '185', 4.0),\n",
       "  ('676', '181', 5.0),\n",
       "  ('313', '578', 3.0),\n",
       "  ('233', '275', 5.0),\n",
       "  ('49', '725', 2.0),\n",
       "  ('749', '9', 3.0),\n",
       "  ('48', '266', 3.0),\n",
       "  ('763', '190', 4.0),\n",
       "  ('787', '258', 5.0),\n",
       "  ('916', '212', 5.0),\n",
       "  ('566', '496', 5.0),\n",
       "  ('70', '343', 4.0),\n",
       "  ('504', '58', 3.0),\n",
       "  ('405', '518', 1.0),\n",
       "  ('3', '268', 3.0),\n",
       "  ('227', '19', 4.0),\n",
       "  ('497', '50', 5.0),\n",
       "  ('378', '727', 4.0),\n",
       "  ('87', '414', 3.0),\n",
       "  ('862', '1110', 5.0),\n",
       "  ('399', '462', 3.0),\n",
       "  ('291', '125', 4.0),\n",
       "  ('267', '98', 5.0),\n",
       "  ('543', '204', 4.0),\n",
       "  ('524', '237', 3.0),\n",
       "  ('678', '127', 5.0),\n",
       "  ('456', '546', 4.0),\n",
       "  ('526', '936', 5.0),\n",
       "  ('615', '640', 3.0),\n",
       "  ('339', '568', 3.0),\n",
       "  ('905', '300', 4.0),\n",
       "  ('881', '393', 4.0),\n",
       "  ('417', '230', 3.0),\n",
       "  ('735', '93', 2.0),\n",
       "  ('301', '721', 3.0),\n",
       "  ('552', '125', 3.0),\n",
       "  ('455', '8', 4.0),\n",
       "  ('342', '654', 4.0),\n",
       "  ('882', '205', 5.0),\n",
       "  ('254', '665', 2.0),\n",
       "  ('593', '49', 3.0),\n",
       "  ('728', '100', 5.0),\n",
       "  ('741', '79', 4.0),\n",
       "  ('854', '919', 4.0),\n",
       "  ('933', '72', 3.0),\n",
       "  ('343', '496', 5.0),\n",
       "  ('215', '15', 3.0),\n",
       "  ('894', '347', 4.0),\n",
       "  ('13', '840', 3.0),\n",
       "  ('56', '1035', 4.0),\n",
       "  ('458', '952', 2.0),\n",
       "  ('293', '17', 2.0),\n",
       "  ('393', '568', 4.0),\n",
       "  ('117', '271', 4.0),\n",
       "  ('939', '280', 5.0),\n",
       "  ('271', '504', 3.0),\n",
       "  ('13', '916', 4.0),\n",
       "  ('271', '79', 4.0),\n",
       "  ('308', '520', 4.0),\n",
       "  ('536', '408', 5.0),\n",
       "  ('159', '286', 1.0),\n",
       "  ('184', '792', 4.0),\n",
       "  ('363', '816', 1.0),\n",
       "  ('144', '137', 4.0),\n",
       "  ('125', '300', 5.0),\n",
       "  ('473', '285', 4.0),\n",
       "  ('791', '294', 3.0),\n",
       "  ('878', '427', 5.0),\n",
       "  ('222', '204', 5.0),\n",
       "  ('735', '690', 4.0),\n",
       "  ('650', '228', 4.0),\n",
       "  ('292', '264', 3.0),\n",
       "  ('730', '742', 3.0),\n",
       "  ('804', '403', 3.0),\n",
       "  ('150', '273', 4.0),\n",
       "  ('721', '229', 5.0),\n",
       "  ('447', '582', 4.0),\n",
       "  ('671', '1217', 4.0),\n",
       "  ('633', '385', 4.0),\n",
       "  ('22', '688', 1.0),\n",
       "  ('347', '246', 4.0),\n",
       "  ('56', '1', 4.0),\n",
       "  ('474', '566', 5.0),\n",
       "  ('398', '705', 5.0),\n",
       "  ('798', '491', 4.0),\n",
       "  ('933', '195', 4.0),\n",
       "  ('367', '670', 4.0),\n",
       "  ('305', '187', 4.0),\n",
       "  ('559', '687', 3.0),\n",
       "  ('94', '1012', 4.0),\n",
       "  ('350', '657', 5.0),\n",
       "  ('854', '616', 4.0),\n",
       "  ('751', '386', 3.0),\n",
       "  ('442', '188', 3.0),\n",
       "  ('666', '1110', 3.0),\n",
       "  ('606', '24', 5.0),\n",
       "  ('487', '501', 4.0),\n",
       "  ('389', '95', 3.0),\n",
       "  ('747', '390', 4.0),\n",
       "  ('911', '238', 2.0),\n",
       "  ('308', '1006', 4.0),\n",
       "  ('84', '756', 3.0),\n",
       "  ('291', '1471', 3.0),\n",
       "  ('13', '336', 2.0),\n",
       "  ('280', '1459', 4.0),\n",
       "  ('450', '270', 4.0),\n",
       "  ('1', '69', 3.0),\n",
       "  ('545', '232', 3.0),\n",
       "  ('346', '291', 5.0),\n",
       "  ('589', '688', 4.0),\n",
       "  ('83', '1047', 2.0),\n",
       "  ('436', '628', 5.0),\n",
       "  ('422', '590', 2.0),\n",
       "  ('855', '582', 3.0),\n",
       "  ('884', '949', 2.0),\n",
       "  ('655', '1553', 4.0),\n",
       "  ('65', '9', 5.0),\n",
       "  ('715', '92', 3.0),\n",
       "  ('749', '154', 5.0),\n",
       "  ('407', '385', 4.0),\n",
       "  ('306', '741', 1.0),\n",
       "  ('456', '68', 4.0),\n",
       "  ('172', '183', 5.0),\n",
       "  ('663', '978', 4.0),\n",
       "  ('90', '79', 4.0),\n",
       "  ('650', '222', 4.0),\n",
       "  ('145', '77', 3.0),\n",
       "  ('916', '211', 4.0),\n",
       "  ('74', '301', 3.0),\n",
       "  ('168', '1012', 5.0),\n",
       "  ('561', '67', 1.0),\n",
       "  ('92', '1014', 3.0),\n",
       "  ('711', '22', 4.0),\n",
       "  ('13', '841', 1.0),\n",
       "  ('244', '959', 4.0),\n",
       "  ('13', '790', 2.0),\n",
       "  ('246', '56', 1.0),\n",
       "  ('213', '195', 5.0),\n",
       "  ('406', '468', 1.0),\n",
       "  ('618', '215', 4.0),\n",
       "  ('788', '71', 3.0),\n",
       "  ('723', '748', 5.0),\n",
       "  ('94', '99', 3.0),\n",
       "  ('807', '193', 4.0),\n",
       "  ('201', '51', 2.0),\n",
       "  ('488', '633', 5.0),\n",
       "  ('417', '25', 2.0),\n",
       "  ('624', '886', 4.0),\n",
       "  ('234', '328', 2.0),\n",
       "  ('645', '39', 3.0),\n",
       "  ('210', '134', 5.0),\n",
       "  ('331', '133', 3.0),\n",
       "  ('763', '1006', 2.0),\n",
       "  ('775', '329', 3.0),\n",
       "  ('457', '15', 4.0),\n",
       "  ('357', '833', 4.0),\n",
       "  ('505', '623', 3.0),\n",
       "  ('437', '229', 3.0),\n",
       "  ('96', '318', 5.0),\n",
       "  ('916', '85', 2.0),\n",
       "  ('130', '347', 4.0),\n",
       "  ('733', '515', 5.0),\n",
       "  ('125', '211', 3.0),\n",
       "  ('919', '140', 5.0),\n",
       "  ('796', '8', 5.0),\n",
       "  ('664', '202', 4.0),\n",
       "  ('749', '127', 4.0),\n",
       "  ('363', '919', 5.0),\n",
       "  ('42', '135', 4.0),\n",
       "  ('585', '1558', "
      ]
     },
     "execution_count": 238,
     "metadata": {},
     "output_type": "execute_result"
    },
    {
     "data": {
      "text/html": [
       "출력 중략..."
      ]
     },
     "metadata": {},
     "output_type": "display_data"
    }
   ],
   "source": [
    "next(t)"
   ]
  },
  {
   "cell_type": "markdown",
   "metadata": {},
   "source": [
    "괄호로 묶여 있고 내용이 길면 `len` 테크닉을 사용한다."
   ]
  },
  {
   "cell_type": "code",
   "execution_count": 44,
   "metadata": {},
   "outputs": [
    {
     "data": {
      "text/plain": [
       "2"
      ]
     },
     "execution_count": 44,
     "metadata": {},
     "output_type": "execute_result"
    }
   ],
   "source": [
    "len(next(t)) # (train, test)"
   ]
  },
  {
   "cell_type": "code",
   "execution_count": 193,
   "metadata": {},
   "outputs": [],
   "source": [
    "tr, te = next(t)"
   ]
  },
  {
   "cell_type": "markdown",
   "metadata": {},
   "source": [
    "surprise에서 알고리즘은 바로 쓸 수 있다. scikit-learn처럼 모듈로 나눠져있지 않다."
   ]
  },
  {
   "cell_type": "code",
   "execution_count": 38,
   "metadata": {},
   "outputs": [],
   "source": [
    "from surprise import BaselineOnly"
   ]
  },
  {
   "cell_type": "code",
   "execution_count": 192,
   "metadata": {},
   "outputs": [],
   "source": [
    "al = BaselineOnly()"
   ]
  },
  {
   "cell_type": "code",
   "execution_count": 195,
   "metadata": {},
   "outputs": [
    {
     "name": "stdout",
     "output_type": "stream",
     "text": [
      "Estimating biases using als...\n"
     ]
    },
    {
     "data": {
      "text/plain": [
       "<surprise.prediction_algorithms.baseline_only.BaselineOnly at 0x1eea01596d8>"
      ]
     },
     "execution_count": 195,
     "metadata": {},
     "output_type": "execute_result"
    }
   ],
   "source": [
    "al.fit(tr) # 학습은 fit"
   ]
  },
  {
   "cell_type": "markdown",
   "metadata": {},
   "source": [
    "surprise는 scikit-learn과 거의 똑같은데, 점수 내는 것만 다르다.  \n",
    "`predict` 대신 `test`를 사용한다."
   ]
  },
  {
   "cell_type": "code",
   "execution_count": 239,
   "metadata": {
    "scrolled": true
   },
   "outputs": [
    {
     "data": {
      "text/plain": [
       "[Prediction(uid='158', iid='686', r_ui=5.0, est=3.72470654036081, details={'was_impossible': False}),\n",
       " Prediction(uid='798', iid='740', r_ui=2.0, est=3.488208799259356, details={'was_impossible': False}),\n",
       " Prediction(uid='878', iid='432', r_ui=3.0, est=3.3181929518219837, details={'was_impossible': False}),\n",
       " Prediction(uid='130', iid='398', r_ui=3.0, est=3.283100001137243, details={'was_impossible': False}),\n",
       " Prediction(uid='130', iid='62', r_ui=4.0, est=3.790930628584373, details={'was_impossible': False}),\n",
       " Prediction(uid='764', iid='86', r_ui=3.0, est=4.131050718755156, details={'was_impossible': False}),\n",
       " Prediction(uid='511', iid='346', r_ui=4.0, est=3.9996605292626812, details={'was_impossible': False}),\n",
       " Prediction(uid='731', iid='66', r_ui=4.0, est=3.0814704154421815, details={'was_impossible': False}),\n",
       " Prediction(uid='13', iid='202', r_ui=5.0, est=3.3674543103848027, details={'was_impossible': False}),\n",
       " Prediction(uid='201', iid='431', r_ui=1.0, est=3.0098607225397593, details={'was_impossible': False}),\n",
       " Prediction(uid='440', iid='736', r_ui=5.0, est=4.298210685089469, details={'was_impossible': False}),\n",
       " Prediction(uid='798', iid='21', r_ui=5.0, est=2.881775820479453, details={'was_impossible': False}),\n",
       " Prediction(uid='655', iid='87', r_ui=3.0, est=3.267752385236357, details={'was_impossible': False}),\n",
       " Prediction(uid='894', iid='109', r_ui=1.0, est=3.5659784910704944, details={'was_impossible': False}),\n",
       " Prediction(uid='217', iid='50', r_ui=1.0, est=4.123857739331092, details={'was_impossible': False}),\n",
       " Prediction(uid='896', iid='22', r_ui=5.0, est=3.5374976691960107, details={'was_impossible': False}),\n",
       " Prediction(uid='666', iid='482', r_ui=4.0, est=3.930096458253328, details={'was_impossible': False}),\n",
       " Prediction(uid='357', iid='407', r_ui=3.0, est=3.4878969004197473, details={'was_impossible': False}),\n",
       " Prediction(uid='216', iid='364', r_ui=2.0, est=3.0641868544086095, details={'was_impossible': False}),\n",
       " Prediction(uid='144', iid='66', r_ui=4.0, est=3.470537286320793, details={'was_impossible': False}),\n",
       " Prediction(uid='90', iid='185', r_ui=5.0, est=4.523070443580807, details={'was_impossible': False}),\n",
       " Prediction(uid='276', iid='583', r_ui=3.0, est=3.0641642880237017, details={'was_impossible': False}),\n",
       " Prediction(uid='279', iid='62', r_ui=3.0, est=3.0621524989132687, details={'was_impossible': False}),\n",
       " Prediction(uid='227', iid='273', r_ui=3.0, est=3.5742576746426993, details={'was_impossible': False}),\n",
       " Prediction(uid='145', iid='1212', r_ui=2.0, est=3.381088158438219, details={'was_impossible': False}),\n",
       " Prediction(uid='911', iid='484', r_ui=3.0, est=4.139947545362661, details={'was_impossible': False}),\n",
       " Prediction(uid='130', iid='248', r_ui=3.0, est=4.300227739933895, details={'was_impossible': False}),\n",
       " Prediction(uid='865', iid='108', r_ui=1.0, est=2.40476945654518, details={'was_impossible': False}),\n",
       " Prediction(uid='468', iid='294', r_ui=3.0, est=3.3757972055634284, details={'was_impossible': False}),\n",
       " Prediction(uid='892', iid='465', r_ui=4.0, est=3.8631892344935546, details={'was_impossible': False}),\n",
       " Prediction(uid='7', iid='595', r_ui=2.0, est=3.5632353843995173, details={'was_impossible': False}),\n",
       " Prediction(uid='25', iid='127', r_ui=3.0, est=4.452494767687924, details={'was_impossible': False}),\n",
       " Prediction(uid='668', iid='269', r_ui=5.0, est=3.9331012187215517, details={'was_impossible': False}),\n",
       " Prediction(uid='21', iid='564', r_ui=3.0, est=1.99296715749687, details={'was_impossible': False}),\n",
       " Prediction(uid='60', iid='222', r_ui=4.0, est=3.941872651737836, details={'was_impossible': False}),\n",
       " Prediction(uid='542', iid='588', r_ui=4.0, est=3.7097702718036443, details={'was_impossible': False}),\n",
       " Prediction(uid='84', iid='411', r_ui=2.0, est=3.2547541281188237, details={'was_impossible': False}),\n",
       " Prediction(uid='896', iid='430', r_ui=3.0, est=3.4327698722396986, details={'was_impossible': False}),\n",
       " Prediction(uid='42', iid='136', r_ui=4.0, est=4.131096366004563, details={'was_impossible': False}),\n",
       " Prediction(uid='598', iid='260', r_ui=3.0, est=2.8677193194106123, details={'was_impossible': False}),\n",
       " Prediction(uid='655', iid='1351', r_ui=3.0, est=2.673846582456119, details={'was_impossible': False}),\n",
       " Prediction(uid='90', iid='693', r_ui=3.0, est=4.1758379816927675, details={'was_impossible': False}),\n",
       " Prediction(uid='548', iid='293', r_ui=4.0, est=3.941451634943853, details={'was_impossible': False}),\n",
       " Prediction(uid='660', iid='496', r_ui=3.0, est=3.2089619866904413, details={'was_impossible': False}),\n",
       " Prediction(uid='184', iid='1', r_ui=4.0, est=3.856746324582238, details={'was_impossible': False}),\n",
       " Prediction(uid='350', iid='271', r_ui=3.0, est=3.436648065242207, details={'was_impossible': False}),\n",
       " Prediction(uid='12', iid='132', r_ui=5.0, est=4.498917138981896, details={'was_impossible': False}),\n",
       " Prediction(uid='829', iid='845', r_ui=3.0, est=3.384494241882479, details={'was_impossible': False}),\n",
       " Prediction(uid='648', iid='154', r_ui=5.0, est=3.6609009"
      ]
     },
     "execution_count": 239,
     "metadata": {},
     "output_type": "execute_result"
    },
    {
     "data": {
      "text/html": [
       "출력 중략..."
      ]
     },
     "metadata": {},
     "output_type": "display_data"
    }
   ],
   "source": [
    "al.test(te)"
   ]
  },
  {
   "cell_type": "markdown",
   "metadata": {},
   "source": [
    "성능 측정할 때는 `test`한 결과를 평가 함수에 넣는다.  \n",
    "평가함수는 `accuracy` 모듈에 있다. "
   ]
  },
  {
   "cell_type": "code",
   "execution_count": 48,
   "metadata": {},
   "outputs": [],
   "source": [
    "from surprise.accuracy import rmse"
   ]
  },
  {
   "cell_type": "code",
   "execution_count": 240,
   "metadata": {},
   "outputs": [
    {
     "name": "stdout",
     "output_type": "stream",
     "text": [
      "RMSE: 0.9456\n"
     ]
    },
    {
     "data": {
      "text/plain": [
       "0.9456219470993773"
      ]
     },
     "execution_count": 240,
     "metadata": {},
     "output_type": "execute_result"
    }
   ],
   "source": [
    "rmse(al.test(te)) # Root Mean Square Error"
   ]
  },
  {
   "cell_type": "markdown",
   "metadata": {},
   "source": [
    "surprise는 `cross_val_score`가 없다.  \n",
    "`Kfold`를 이용해서 직접 구현해보자."
   ]
  },
  {
   "cell_type": "code",
   "execution_count": 49,
   "metadata": {},
   "outputs": [
    {
     "name": "stdout",
     "output_type": "stream",
     "text": [
      "Estimating biases using als...\n",
      "RMSE: 0.9428\n",
      "Estimating biases using als...\n",
      "RMSE: 0.9425\n",
      "Estimating biases using als...\n",
      "RMSE: 0.9471\n",
      "Estimating biases using als...\n",
      "RMSE: 0.9405\n",
      "Estimating biases using als...\n",
      "RMSE: 0.9463\n"
     ]
    }
   ],
   "source": [
    "# scikit-learn의 cross_val_score 처럼 만들기\n",
    "\n",
    "temp = []\n",
    "for tr, te in kf.split(data):\n",
    "    al = BaselineOnly()\n",
    "    al.fit(tr)\n",
    "    temp.append(rmse(al.test(te)))"
   ]
  },
  {
   "cell_type": "code",
   "execution_count": 50,
   "metadata": {},
   "outputs": [
    {
     "data": {
      "text/plain": [
       "[0.9428489324074377,\n",
       " 0.942452133129686,\n",
       " 0.9470930090034326,\n",
       " 0.9404736670622638,\n",
       " 0.946273482560421]"
      ]
     },
     "execution_count": 50,
     "metadata": {},
     "output_type": "execute_result"
    }
   ],
   "source": [
    "temp"
   ]
  },
  {
   "cell_type": "markdown",
   "metadata": {},
   "source": [
    "`cross_validate`는 scikit-learn과 같다."
   ]
  },
  {
   "cell_type": "code",
   "execution_count": 51,
   "metadata": {},
   "outputs": [],
   "source": [
    "from surprise.model_selection import cross_validate "
   ]
  },
  {
   "cell_type": "code",
   "execution_count": 52,
   "metadata": {},
   "outputs": [],
   "source": [
    "from surprise import KNNBaseline"
   ]
  },
  {
   "cell_type": "code",
   "execution_count": 248,
   "metadata": {},
   "outputs": [],
   "source": [
    "al = KNNBaseline() # KNN 알고리즘을 써보자"
   ]
  },
  {
   "cell_type": "code",
   "execution_count": 255,
   "metadata": {},
   "outputs": [
    {
     "data": {
      "text/plain": [
       "{'test_rmse': array([0.92932768, 0.92542245, 0.93063691, 0.92889879, 0.921975  ,\n",
       "        0.92279328, 0.92173675, 0.93270561, 0.93631913, 0.91504057]),\n",
       " 'test_mae': array([0.73075579, 0.73121136, 0.73281927, 0.72821672, 0.73047717,\n",
       "        0.7281322 , 0.72681122, 0.7321038 , 0.73562601, 0.71942607]),\n",
       " 'fit_time': (0.3580014705657959,\n",
       "  0.3769974708557129,\n",
       "  0.38199901580810547,\n",
       "  0.3769984245300293,\n",
       "  0.37199974060058594,\n",
       "  0.3750009536743164,\n",
       "  0.35799622535705566,\n",
       "  0.36400508880615234,\n",
       "  0.5019984245300293,\n",
       "  0.3379952907562256),\n",
       " 'test_time': (3.094000816345215,\n",
       "  2.898998498916626,\n",
       "  2.6900405883789062,\n",
       "  2.8330817222595215,\n",
       "  2.681002140045166,\n",
       "  2.752002716064453,\n",
       "  2.917999744415283,\n",
       "  2.769995927810669,\n",
       "  2.807997465133667,\n",
       "  2.651050090789795)}"
      ]
     },
     "execution_count": 255,
     "metadata": {},
     "output_type": "execute_result"
    }
   ],
   "source": [
    "cross_validate(al, data, cv=10, n_jobs=-1)"
   ]
  },
  {
   "cell_type": "markdown",
   "metadata": {},
   "source": [
    "`train_test_split`도 있다."
   ]
  },
  {
   "cell_type": "code",
   "execution_count": 37,
   "metadata": {},
   "outputs": [],
   "source": [
    "from surprise.model_selection import train_test_split"
   ]
  },
  {
   "cell_type": "code",
   "execution_count": 259,
   "metadata": {},
   "outputs": [],
   "source": [
    "tr, te = train_test_split(data)"
   ]
  },
  {
   "cell_type": "code",
   "execution_count": 260,
   "metadata": {},
   "outputs": [
    {
     "name": "stdout",
     "output_type": "stream",
     "text": [
      "Estimating biases using als...\n",
      "Computing the msd similarity matrix...\n",
      "Done computing similarity matrix.\n"
     ]
    },
    {
     "data": {
      "text/plain": [
       "<surprise.prediction_algorithms.knns.KNNBaseline at 0x1eeab1eb7b8>"
      ]
     },
     "execution_count": 260,
     "metadata": {},
     "output_type": "execute_result"
    }
   ],
   "source": [
    "al.fit(tr)"
   ]
  },
  {
   "cell_type": "markdown",
   "metadata": {},
   "source": [
    "user_id, movie_id로 평점을 예측할 수 있다."
   ]
  },
  {
   "cell_type": "code",
   "execution_count": 280,
   "metadata": {},
   "outputs": [
    {
     "data": {
      "text/plain": [
       "('713', '539', 3.0)"
      ]
     },
     "execution_count": 280,
     "metadata": {},
     "output_type": "execute_result"
    }
   ],
   "source": [
    "te[0] # user_id, movie_id, rating"
   ]
  },
  {
   "cell_type": "code",
   "execution_count": 282,
   "metadata": {},
   "outputs": [
    {
     "data": {
      "text/plain": [
       "Prediction(uid='713', iid='539', r_ui=3.0, est=2.236383763903154, details={'actual_k': 29, 'was_impossible': False})"
      ]
     },
     "execution_count": 282,
     "metadata": {},
     "output_type": "execute_result"
    }
   ],
   "source": [
    "al.predict(*te[0]) # user_id, movie_id, rating(true), rating(prediction), details"
   ]
  },
  {
   "cell_type": "markdown",
   "metadata": {},
   "source": [
    "## ensemble"
   ]
  },
  {
   "cell_type": "code",
   "execution_count": 56,
   "metadata": {},
   "outputs": [],
   "source": [
    "from sklearn.datasets import load_iris"
   ]
  },
  {
   "cell_type": "code",
   "execution_count": 57,
   "metadata": {},
   "outputs": [],
   "source": [
    "data = load_iris()"
   ]
  },
  {
   "cell_type": "code",
   "execution_count": 58,
   "metadata": {},
   "outputs": [],
   "source": [
    "data_ = pd.DataFrame(data.data, columns=data.feature_names)"
   ]
  },
  {
   "cell_type": "code",
   "execution_count": 59,
   "metadata": {},
   "outputs": [],
   "source": [
    "data_t = pd.DataFrame(data.target, columns=[\"target\"])"
   ]
  },
  {
   "cell_type": "code",
   "execution_count": 60,
   "metadata": {},
   "outputs": [],
   "source": [
    "iris = pd.concat([data_, data_t], axis=1)"
   ]
  },
  {
   "cell_type": "markdown",
   "metadata": {},
   "source": [
    "### bagging\n",
    "- 전체 데이터를 뽑는게 아니라, 일부만 뽑아서 여러 모델 만든 다음, 평균 내는 방법이다.\n",
    "- 평균을 내면 편차가 줄어드는 이점이 있다.\n",
    "- 오버피팅이면 편차가 커지는데, 오버피팅이 줄어드는 효과가 있다. \n",
    "- 데이터를 적게 쓰기 때문에 성능은 조금 떨어질 수 있지만, 오버피팅이 더 심한 문제이다.\n",
    "- 머신러닝에서 많이 쓴다. \n",
    "- 딥러닝도 bagging 쓸 수 있는데, 효과가 별로 없다."
   ]
  },
  {
   "cell_type": "code",
   "execution_count": 62,
   "metadata": {},
   "outputs": [],
   "source": [
    "from sklearn.ensemble import BaggingClassifier"
   ]
  },
  {
   "cell_type": "code",
   "execution_count": 63,
   "metadata": {},
   "outputs": [],
   "source": [
    "from sklearn.linear_model import LogisticRegression"
   ]
  },
  {
   "cell_type": "markdown",
   "metadata": {},
   "source": [
    "ensemble은 여러 모델을 만들기 위해서 알고리즘이 필요하다.  \n",
    "따라서 `base_estimator`는 필수 인자이다.  \n",
    "`n_estimator`는 모델을 몇 개 만들 것인지 고르는 옵션이다. 기본값은 10이다."
   ]
  },
  {
   "cell_type": "code",
   "execution_count": 319,
   "metadata": {},
   "outputs": [],
   "source": [
    "bc = BaggingClassifier(LogisticRegression()) "
   ]
  },
  {
   "cell_type": "markdown",
   "metadata": {},
   "source": [
    "`LogisiticRegression` 모델 10개를 만든 뒤, 묶어서 1개가 된다.  \n",
    "성능을 측정해보자."
   ]
  },
  {
   "cell_type": "code",
   "execution_count": 65,
   "metadata": {},
   "outputs": [],
   "source": [
    "from sklearn.model_selection import cross_val_score"
   ]
  },
  {
   "cell_type": "code",
   "execution_count": 320,
   "metadata": {},
   "outputs": [
    {
     "data": {
      "text/plain": [
       "array([0.93333333, 0.96666667, 0.93333333, 0.93333333, 1.        ])"
      ]
     },
     "execution_count": 320,
     "metadata": {},
     "output_type": "execute_result"
    }
   ],
   "source": [
    "# 경고메시지가 길어서 숨김\n",
    "cross_val_score(bc, iris.iloc[:, :-1], iris.iloc[:, -1])"
   ]
  },
  {
   "cell_type": "markdown",
   "metadata": {},
   "source": [
    "bagging하지 않고 `LogisticRegression` 모델 하나만 만들었을 때와 성능을 비교해보자.  \n",
    "성능은 bagging 안 했을 때가 조금 더 좋다.  \n",
    "하지만 오버피팅에 걸릴 가능성은 bagging이 더 낮다."
   ]
  },
  {
   "cell_type": "code",
   "execution_count": 67,
   "metadata": {},
   "outputs": [
    {
     "name": "stderr",
     "output_type": "stream",
     "text": [
      "C:\\Users\\JINHYO\\Anaconda3\\lib\\site-packages\\sklearn\\linear_model\\_logistic.py:940: ConvergenceWarning: lbfgs failed to converge (status=1):\n",
      "STOP: TOTAL NO. of ITERATIONS REACHED LIMIT.\n",
      "\n",
      "Increase the number of iterations (max_iter) or scale the data as shown in:\n",
      "    https://scikit-learn.org/stable/modules/preprocessing.html\n",
      "Please also refer to the documentation for alternative solver options:\n",
      "    https://scikit-learn.org/stable/modules/linear_model.html#logistic-regression\n",
      "  extra_warning_msg=_LOGISTIC_SOLVER_CONVERGENCE_MSG)\n"
     ]
    },
    {
     "data": {
      "text/plain": [
       "array([0.96666667, 1.        , 0.93333333, 0.96666667, 1.        ])"
      ]
     },
     "execution_count": 67,
     "metadata": {},
     "output_type": "execute_result"
    }
   ],
   "source": [
    "cross_val_score(LogisticRegression(), iris.iloc[:, :-1], iris.iloc[:, -1])"
   ]
  },
  {
   "cell_type": "markdown",
   "metadata": {},
   "source": [
    "#### GridSearchCV + Bagging"
   ]
  },
  {
   "cell_type": "code",
   "execution_count": 68,
   "metadata": {},
   "outputs": [],
   "source": [
    "from sklearn.model_selection import GridSearchCV"
   ]
  },
  {
   "cell_type": "code",
   "execution_count": 110,
   "metadata": {},
   "outputs": [],
   "source": [
    "bc = BaggingClassifier(LogisticRegression())"
   ]
  },
  {
   "cell_type": "markdown",
   "metadata": {},
   "source": [
    "`GridSearchCV`를 사용하기 위해 `get_params`를 살펴본다."
   ]
  },
  {
   "cell_type": "code",
   "execution_count": 111,
   "metadata": {},
   "outputs": [
    {
     "data": {
      "text/plain": [
       "{'base_estimator__C': 1.0,\n",
       " 'base_estimator__class_weight': None,\n",
       " 'base_estimator__dual': False,\n",
       " 'base_estimator__fit_intercept': True,\n",
       " 'base_estimator__intercept_scaling': 1,\n",
       " 'base_estimator__l1_ratio': None,\n",
       " 'base_estimator__max_iter': 100,\n",
       " 'base_estimator__multi_class': 'auto',\n",
       " 'base_estimator__n_jobs': None,\n",
       " 'base_estimator__penalty': 'l2',\n",
       " 'base_estimator__random_state': None,\n",
       " 'base_estimator__solver': 'lbfgs',\n",
       " 'base_estimator__tol': 0.0001,\n",
       " 'base_estimator__verbose': 0,\n",
       " 'base_estimator__warm_start': False,\n",
       " 'base_estimator': LogisticRegression(C=1.0, class_weight=None, dual=False, fit_intercept=True,\n",
       "                    intercept_scaling=1, l1_ratio=None, max_iter=100,\n",
       "                    multi_class='auto', n_jobs=None, penalty='l2',\n",
       "                    random_state=None, solver='lbfgs', tol=0.0001, verbose=0,\n",
       "                    warm_start=False),\n",
       " 'bootstrap': True,\n",
       " 'bootstrap_features': False,\n",
       " 'max_features': 1.0,\n",
       " 'max_samples': 1.0,\n",
       " 'n_estimators': 10,\n",
       " 'n_jobs': None,\n",
       " 'oob_score': False,\n",
       " 'random_state': None,\n",
       " 'verbose': 0,\n",
       " 'warm_start': False}"
      ]
     },
     "execution_count": 111,
     "metadata": {},
     "output_type": "execute_result"
    }
   ],
   "source": [
    "bc.get_params()"
   ]
  },
  {
   "cell_type": "markdown",
   "metadata": {},
   "source": [
    "`GridSearchCV`와 `BaggingClassifier`는 잘 연동된다."
   ]
  },
  {
   "cell_type": "code",
   "execution_count": 321,
   "metadata": {},
   "outputs": [],
   "source": [
    "grid = GridSearchCV(bc, {\"base_estimator__C\":[1, 10, 100]})"
   ]
  },
  {
   "cell_type": "code",
   "execution_count": 322,
   "metadata": {},
   "outputs": [
    {
     "data": {
      "text/plain": [
       "GridSearchCV(cv=None, error_score=nan,\n",
       "             estimator=BaggingClassifier(base_estimator=LogisticRegression(C=1.0,\n",
       "                                                                           class_weight=None,\n",
       "                                                                           dual=False,\n",
       "                                                                           fit_intercept=True,\n",
       "                                                                           intercept_scaling=1,\n",
       "                                                                           l1_ratio=None,\n",
       "                                                                           max_iter=100,\n",
       "                                                                           multi_class='auto',\n",
       "                                                                           n_jobs=None,\n",
       "                                                                           penalty='l2',\n",
       "                                                                           random_state=None,\n",
       "                                                                           solver='lbfgs',\n",
       "                                                                           tol=0.0001,\n",
       "                                                                           verbose=0,\n",
       "                                                                           warm_start=False),\n",
       "                                         bootstrap=True,\n",
       "                                         bootstrap_features=False,\n",
       "                                         max_features=1.0, max_samples=1.0,\n",
       "                                         n_estimators=10, n_jobs=None,\n",
       "                                         oob_score=False, random_state=None,\n",
       "                                         verbose=0, warm_start=False),\n",
       "             iid='deprecated', n_jobs=None,\n",
       "             param_grid={'base_estimator__C': [1, 10, 100]},\n",
       "             pre_dispatch='2*n_jobs', refit=True, return_train_score=False,\n",
       "             scoring=None, verbose=0)"
      ]
     },
     "execution_count": 322,
     "metadata": {},
     "output_type": "execute_result"
    }
   ],
   "source": [
    "# 경고메시지가 길어서 숨김\n",
    "grid.fit(iris.iloc[:, :-1], iris.iloc[:, -1])"
   ]
  },
  {
   "cell_type": "code",
   "execution_count": 114,
   "metadata": {},
   "outputs": [
    {
     "data": {
      "text/plain": [
       "{'base_estimator__C': 1}"
      ]
     },
     "execution_count": 114,
     "metadata": {},
     "output_type": "execute_result"
    }
   ],
   "source": [
    "grid.best_params_"
   ]
  },
  {
   "cell_type": "markdown",
   "metadata": {},
   "source": [
    "`base_estimator`와 그 하이퍼 파라미터도 `GridSearchCV`로 한번에 찾을 수 있다.  "
   ]
  },
  {
   "cell_type": "code",
   "execution_count": 71,
   "metadata": {},
   "outputs": [],
   "source": [
    "from sklearn.neighbors import KNeighborsClassifier"
   ]
  },
  {
   "cell_type": "code",
   "execution_count": 323,
   "metadata": {},
   "outputs": [],
   "source": [
    "grid = GridSearchCV(\n",
    "    estimator=BaggingClassifier(), \n",
    "    param_grid=[{\"base_estimator\":[LogisticRegression()], \"base_estimator__C\":[1, 10, 100]},\n",
    "                {\"base_estimator\":[KNeighborsClassifier()], \"base_estimator__n_neighbors\":[2, 3, 4, 5]}]\n",
    ")"
   ]
  },
  {
   "cell_type": "code",
   "execution_count": 324,
   "metadata": {},
   "outputs": [
    {
     "data": {
      "text/plain": [
       "GridSearchCV(cv=None, error_score=nan,\n",
       "             estimator=BaggingClassifier(base_estimator=None, bootstrap=True,\n",
       "                                         bootstrap_features=False,\n",
       "                                         max_features=1.0, max_samples=1.0,\n",
       "                                         n_estimators=10, n_jobs=None,\n",
       "                                         oob_score=False, random_state=None,\n",
       "                                         verbose=0, warm_start=False),\n",
       "             iid='deprecated', n_jobs=None,\n",
       "             param_grid=[{'base_estimator': [LogisticRegression(C=1.0,\n",
       "                                                                class_weight=None...\n",
       "                                                                tol=0.0001,\n",
       "                                                                verbose=0,\n",
       "                                                                warm_start=False)],\n",
       "                          'base_estimator__C': [1, 10, 100]},\n",
       "                         {'base_estimator': [KNeighborsClassifier(algorithm='auto',\n",
       "                                                                  leaf_size=30,\n",
       "                                                                  metric='minkowski',\n",
       "                                                                  metric_params=None,\n",
       "                                                                  n_jobs=None,\n",
       "                                                                  n_neighbors=4,\n",
       "                                                                  p=2,\n",
       "                                                                  weights='uniform')],\n",
       "                          'base_estimator__n_neighbors': [2, 3, 4, 5]}],\n",
       "             pre_dispatch='2*n_jobs', refit=True, return_train_score=False,\n",
       "             scoring=None, verbose=0)"
      ]
     },
     "execution_count": 324,
     "metadata": {},
     "output_type": "execute_result"
    }
   ],
   "source": [
    "# 경고메시지가 길어서 숨김\n",
    "grid.fit(iris.iloc[:, :-1], iris.iloc[:, -1])"
   ]
  },
  {
   "cell_type": "code",
   "execution_count": 117,
   "metadata": {
    "scrolled": true
   },
   "outputs": [
    {
     "data": {
      "text/plain": [
       "{'base_estimator': LogisticRegression(C=10, class_weight=None, dual=False, fit_intercept=True,\n",
       "                    intercept_scaling=1, l1_ratio=None, max_iter=100,\n",
       "                    multi_class='auto', n_jobs=None, penalty='l2',\n",
       "                    random_state=None, solver='lbfgs', tol=0.0001, verbose=0,\n",
       "                    warm_start=False), 'base_estimator__C': 10}"
      ]
     },
     "execution_count": 117,
     "metadata": {},
     "output_type": "execute_result"
    }
   ],
   "source": [
    "grid.best_params_"
   ]
  },
  {
   "cell_type": "markdown",
   "metadata": {},
   "source": [
    "#### RandomForestClassifier"
   ]
  },
  {
   "cell_type": "markdown",
   "metadata": {},
   "source": [
    "- DecisionTree를 bagging한 것이 RandomForeset이다.\n",
    "- 성능이 좋다. \n",
    "    - No Free Lunch 이지만,\n",
    "    - random forest는 대충 일반적으로 쓰면 성능이 좋은 모델이다.\n",
    "- 오버피팅도 잘 안 난다.\n",
    "- 한 때, 아주 잘 나갔던 알고리즘이다.\n",
    "    - 현재는 xgboosting, lighGBM이 대세이다.\n",
    "- feature의 중요성을 알려주므로 feature selection도 가능하다.\n",
    "- 통계학자가 만들어서 통계쪽에서는 아주 깊게 배운다."
   ]
  },
  {
   "cell_type": "code",
   "execution_count": 118,
   "metadata": {},
   "outputs": [],
   "source": [
    "from sklearn.ensemble import RandomForestClassifier"
   ]
  },
  {
   "cell_type": "code",
   "execution_count": 119,
   "metadata": {},
   "outputs": [],
   "source": [
    "rf = RandomForestClassifier() # 태생적으로 앙상블인 알고리즘"
   ]
  },
  {
   "cell_type": "code",
   "execution_count": 120,
   "metadata": {},
   "outputs": [
    {
     "data": {
      "text/plain": [
       "RandomForestClassifier(bootstrap=True, ccp_alpha=0.0, class_weight=None,\n",
       "                       criterion='gini', max_depth=None, max_features='auto',\n",
       "                       max_leaf_nodes=None, max_samples=None,\n",
       "                       min_impurity_decrease=0.0, min_impurity_split=None,\n",
       "                       min_samples_leaf=1, min_samples_split=2,\n",
       "                       min_weight_fraction_leaf=0.0, n_estimators=100,\n",
       "                       n_jobs=None, oob_score=False, random_state=None,\n",
       "                       verbose=0, warm_start=False)"
      ]
     },
     "execution_count": 120,
     "metadata": {},
     "output_type": "execute_result"
    }
   ],
   "source": [
    "rf.fit(iris.iloc[:, :-1], iris.iloc[:, -1]) "
   ]
  },
  {
   "cell_type": "code",
   "execution_count": 121,
   "metadata": {},
   "outputs": [
    {
     "data": {
      "text/plain": [
       "array([0.09427731, 0.02292946, 0.42940504, 0.45338819])"
      ]
     },
     "execution_count": 121,
     "metadata": {},
     "output_type": "execute_result"
    }
   ],
   "source": [
    "rf.feature_importances_ # feature selection도 가능하다."
   ]
  },
  {
   "cell_type": "markdown",
   "metadata": {},
   "source": [
    "### boosting\n",
    "- 여러개의 약한 분류기들을 합쳐서 강한 분류기 한 개를 만들어낸다.\n",
    "- 잘하는 애들한테 가중치를 더 준다."
   ]
  },
  {
   "cell_type": "code",
   "execution_count": 283,
   "metadata": {},
   "outputs": [],
   "source": [
    "from sklearn.ensemble import AdaBoostClassifier"
   ]
  },
  {
   "cell_type": "code",
   "execution_count": 284,
   "metadata": {},
   "outputs": [],
   "source": [
    "ac = AdaBoostClassifier(LogisticRegression())"
   ]
  },
  {
   "cell_type": "code",
   "execution_count": 285,
   "metadata": {},
   "outputs": [
    {
     "data": {
      "text/plain": [
       "array([0.93333333, 0.96666667, 0.9       , 0.93333333, 0.93333333])"
      ]
     },
     "execution_count": 285,
     "metadata": {},
     "output_type": "execute_result"
    }
   ],
   "source": [
    "cross_val_score(ac, iris.iloc[:, :-1], iris.iloc[:, -1]) "
   ]
  },
  {
   "cell_type": "markdown",
   "metadata": {},
   "source": [
    "#### xgboosting"
   ]
  },
  {
   "cell_type": "markdown",
   "metadata": {},
   "source": [
    "- 요즘 제일 핫한 알고리즘은 xgboosting이다.  \n",
    "- xgboosting은 scikit-learn에 없어서 다른 라이브러리를 써야한다.  \n",
    "    - 하지만 scikit-learn과 100% 호환이 된다. "
   ]
  },
  {
   "cell_type": "code",
   "execution_count": 89,
   "metadata": {},
   "outputs": [
    {
     "name": "stdout",
     "output_type": "stream",
     "text": [
      "Collecting xgboost\n",
      "  Downloading xgboost-1.0.2-py3-none-win_amd64.whl (24.6 MB)\n",
      "Requirement already satisfied: numpy in c:\\users\\jinhyo\\appdata\\roaming\\python\\python37\\site-packages (from xgboost) (1.18.1)\n",
      "Requirement already satisfied: scipy in c:\\users\\jinhyo\\anaconda3\\lib\\site-packages (from xgboost) (1.3.1)\n",
      "Installing collected packages: xgboost\n",
      "Successfully installed xgboost-1.0.2\n"
     ]
    }
   ],
   "source": [
    "!pip install xgboost"
   ]
  },
  {
   "cell_type": "code",
   "execution_count": 288,
   "metadata": {},
   "outputs": [],
   "source": [
    "from xgboost import XGBClassifier"
   ]
  },
  {
   "cell_type": "code",
   "execution_count": 289,
   "metadata": {},
   "outputs": [],
   "source": [
    "xg = XGBClassifier()"
   ]
  },
  {
   "cell_type": "code",
   "execution_count": 290,
   "metadata": {},
   "outputs": [
    {
     "data": {
      "text/plain": [
       "array([0.96666667, 0.96666667, 0.93333333, 0.93333333, 1.        ])"
      ]
     },
     "execution_count": 290,
     "metadata": {},
     "output_type": "execute_result"
    }
   ],
   "source": [
    "cross_val_score(xg, iris.iloc[:, :-1], iris.iloc[:, -1]) # scikit-learn 함수와 연동"
   ]
  },
  {
   "cell_type": "markdown",
   "metadata": {},
   "source": [
    "### stacking"
   ]
  },
  {
   "cell_type": "markdown",
   "metadata": {},
   "source": [
    "stacking은 예측값을 다시 학습해서 예측모델로 만든다.  \n",
    "voting보다 훨씬 더 우아하다.\n",
    "\n",
    "예를 들어 A모델, B모델, C모델을 만들면, \n",
    "- -> A 모델의 예측값을 학습해서 B모델을 만들고, B모델의 예측값을 학습해서 C모델을 만든다.\n",
    "- -> 쌓아서 만든다고 해서 스택킹 모델이라고 함."
   ]
  },
  {
   "cell_type": "code",
   "execution_count": 122,
   "metadata": {},
   "outputs": [],
   "source": [
    "from sklearn.ensemble import StackingClassifier"
   ]
  },
  {
   "cell_type": "markdown",
   "metadata": {},
   "source": [
    "파라미터를 살펴보면 estimator's'이므로 복수의 알고리즘을 넣을 수 있다.  \n",
    "예측한 걸로 학습하기 때문에 가장 마지막에 예측할 알고리즘이 필요하다. `final_estimator` 옵션은 선택이다.  \n",
    "final은 너무 똑똑한 애를 안써도 된다는 경험적 법칙이 있다. 주로 logisticregresssion 쓴다. "
   ]
  },
  {
   "cell_type": "code",
   "execution_count": 123,
   "metadata": {},
   "outputs": [],
   "source": [
    "sc = StackingClassifier([LogisticRegression(), KNeighborsClassifier()])"
   ]
  },
  {
   "cell_type": "code",
   "execution_count": 125,
   "metadata": {},
   "outputs": [
    {
     "name": "stderr",
     "output_type": "stream",
     "text": [
      "C:\\Users\\JINHYO\\Anaconda3\\lib\\site-packages\\sklearn\\model_selection\\_validation.py:536: FitFailedWarning: Estimator fit failed. The score on this train-test partition for these parameters will be set to nan. Details: \n",
      "TypeError: zip argument #1 must support iteration\n",
      "\n",
      "  FitFailedWarning)\n"
     ]
    },
    {
     "data": {
      "text/plain": [
       "array([nan, nan, nan, nan, nan, nan, nan, nan, nan, nan])"
      ]
     },
     "execution_count": 125,
     "metadata": {},
     "output_type": "execute_result"
    }
   ],
   "source": [
    "# 학습에 실패서 None이 나왔다.\n",
    "cross_val_score(sc, iris.iloc[:, :-1], iris.iloc[:, -1], cv=10)"
   ]
  },
  {
   "cell_type": "markdown",
   "metadata": {},
   "source": [
    "파라미터 설명을 잘 읽어보면 이름과 estimator를 리스트 안에 튜플 형태로 사용하라고 한다.  \n",
    "`Pipeline`과 `VotingClassifier`에서도 이러한 형태를 사용했다.\n",
    "\n",
    "> estimators : list of (str, estimator)  \n",
    "    &nbsp;&nbsp;&nbsp;&nbsp; Base estimators which will be stacked together. Each element of the  \n",
    "    &nbsp;&nbsp;&nbsp;&nbsp; list is defined as a tuple of string (i.e. name) and an estimator  \n",
    "    &nbsp;&nbsp;&nbsp;&nbsp; instance. An estimator can be set to 'drop' using `set_params`."
   ]
  },
  {
   "cell_type": "code",
   "execution_count": 325,
   "metadata": {},
   "outputs": [],
   "source": [
    "sc = StackingClassifier([(\"lr\", LogisticRegression()), (\"knn\", KNeighborsClassifier())])"
   ]
  },
  {
   "cell_type": "code",
   "execution_count": 326,
   "metadata": {},
   "outputs": [
    {
     "data": {
      "text/plain": [
       "array([1.        , 0.93333333, 1.        , 1.        , 0.86666667,\n",
       "       0.93333333, 0.93333333, 1.        , 1.        , 1.        ])"
      ]
     },
     "execution_count": 326,
     "metadata": {},
     "output_type": "execute_result"
    }
   ],
   "source": [
    "# 경고메시지가 길어서 숨김\n",
    "cross_val_score(sc, iris.iloc[:, :-1], iris.iloc[:, -1], cv=10)"
   ]
  },
  {
   "cell_type": "markdown",
   "metadata": {},
   "source": [
    "- stacking 이 현재 최고의 앙상블 기법이다.  \n",
    "- xgboosting으로 학습 한 후에 stacking하는 것도 가능하다. 하지만 오버피팅을 조심해야한다.  \n",
    "- 그러나, 기계학습에서는 알고리즘 바꾸는 것 보다 데이터 전처리가 더 성능이 더 좋다. "
   ]
  },
  {
   "cell_type": "markdown",
   "metadata": {},
   "source": [
    "## Unsupervised Learning"
   ]
  },
  {
   "cell_type": "markdown",
   "metadata": {},
   "source": [
    "- 현실에는 라벨(정답, target 값)이 없는 데이터가 압도적으로 더 많다.  \n",
    "- 라벨이 없을 때 쓰는게 unsupervised learning(비지도 학습)이다.\n",
    "- 정답 데이터 만드는 것을 라벨링이라고 한다.  \n",
    "    - Unsupervised Learning을 데이터 라벨링에 쓸 수도 있다.\n",
    "- 전통적인 기계학습에서는 unsupervised learning는 할 수 있는게 제한적이다.\n",
    "    - supervised가 1이라고 하면, unsupervised는 0.1도 안된다.\n",
    "    - 딥러닝에서는 unsupervised learning으로 할 수 있는게 많아졌다. \n",
    "   \n",
    "※ 참고 : semi-supervised learning이라고 라벨이 있는 데이터와 라벨이 없는 데이터를 혼용해서 학습하는 기법도 있다. "
   ]
  },
  {
   "cell_type": "markdown",
   "metadata": {},
   "source": [
    "### KMeans"
   ]
  },
  {
   "cell_type": "markdown",
   "metadata": {},
   "source": [
    "`KMeans`는 데이터를 K개의 군집으로 나누는 비지도학습 알고리즘이다. 군집화(Clustering) 알고리즘 중 하나이기도 하다.  \n",
    "몇 개의 군집으로 나눌 것인지는 사용자가 지정해야한다.(하이퍼 파라미터)"
   ]
  },
  {
   "cell_type": "code",
   "execution_count": 136,
   "metadata": {},
   "outputs": [
    {
     "name": "stderr",
     "output_type": "stream",
     "text": [
      "C:\\Users\\JINHYO\\Anaconda3\\lib\\site-packages\\sklearn\\externals\\six.py:31: FutureWarning: The module is deprecated in version 0.21 and will be removed in version 0.23 since we've dropped support for Python 2.7. Please rely on the official version of six (https://pypi.org/project/six/).\n",
      "  \"(https://pypi.org/project/six/).\", FutureWarning)\n",
      "C:\\Users\\JINHYO\\Anaconda3\\lib\\site-packages\\sklearn\\externals\\joblib\\__init__.py:15: FutureWarning: sklearn.externals.joblib is deprecated in 0.21 and will be removed in 0.23. Please import this functionality directly from joblib, which can be installed with: pip install joblib. If this warning is raised when loading pickled models, you may need to re-serialize those models with scikit-learn 0.21+.\n",
      "  warnings.warn(msg, category=FutureWarning)\n"
     ]
    }
   ],
   "source": [
    "import mglearn"
   ]
  },
  {
   "cell_type": "markdown",
   "metadata": {},
   "source": [
    "(Initialization) 처음에 랜덤하게 K개의 점(center)을 찍는다. 각각의 점은 어떤 군집을 의미한다.  \n",
    "(Assign Points) 데이터와 점들의 거리를 측정한다. 데이터로부터 가장 가까운 점으로 군집을 할당한다.  \n",
    "(Rcompute Centers) 군집 내의 데이터의 중앙점을 찾는다. 점(center)을 중앙점으로 옮긴다.  \n",
    "Assign Points와 Recompute Centers 단계를 반복한다."
   ]
  },
  {
   "cell_type": "code",
   "execution_count": 138,
   "metadata": {},
   "outputs": [
    {
     "data": {
      "image/png": "[encoded data removed]",
      "text/plain": [
       "<Figure size 720x576 with 9 Axes>"
      ]
     },
     "metadata": {},
     "output_type": "display_data"
    }
   ],
   "source": [
    "mglearn.plot_kmeans.plot_kmeans_algorithm()"
   ]
  },
  {
   "cell_type": "code",
   "execution_count": 131,
   "metadata": {},
   "outputs": [],
   "source": [
    "from sklearn.cluster import KMeans"
   ]
  },
  {
   "cell_type": "code",
   "execution_count": 134,
   "metadata": {},
   "outputs": [],
   "source": [
    "km = KMeans(3) # Kmeans에서 K는 하이퍼파라미터이다.\n",
    "               # 몇 묶음로 묶을 것인가."
   ]
  },
  {
   "cell_type": "markdown",
   "metadata": {},
   "source": [
    "비지도 학습이므로 y를 안 쓰고 `fit`한다."
   ]
  },
  {
   "cell_type": "code",
   "execution_count": 135,
   "metadata": {},
   "outputs": [
    {
     "data": {
      "text/plain": [
       "KMeans(algorithm='auto', copy_x=True, init='k-means++', max_iter=300,\n",
       "       n_clusters=3, n_init=10, n_jobs=None, precompute_distances='auto',\n",
       "       random_state=None, tol=0.0001, verbose=0)"
      ]
     },
     "execution_count": 135,
     "metadata": {},
     "output_type": "execute_result"
    }
   ],
   "source": [
    "km.fit(iris.iloc[:, :-1])"
   ]
  },
  {
   "cell_type": "code",
   "execution_count": 144,
   "metadata": {},
   "outputs": [
    {
     "data": {
      "text/plain": [
       "{'n_clusters': 3,\n",
       " 'init': 'k-means++',\n",
       " 'max_iter': 300,\n",
       " 'tol': 0.0001,\n",
       " 'precompute_distances': 'auto',\n",
       " 'n_init': 10,\n",
       " 'verbose': 0,\n",
       " 'random_state': None,\n",
       " 'copy_x': True,\n",
       " 'n_jobs': None,\n",
       " 'algorithm': 'auto',\n",
       " 'cluster_centers_': array([[5.9016129 , 2.7483871 , 4.39354839, 1.43387097],\n",
       "        [5.006     , 3.428     , 1.462     , 0.246     ],\n",
       "        [6.85      , 3.07368421, 5.74210526, 2.07105263]]),\n",
       " 'labels_': array([1, 1, 1, 1, 1, 1, 1, 1, 1, 1, 1, 1, 1, 1, 1, 1, 1, 1, 1, 1, 1, 1,\n",
       "        1, 1, 1, 1, 1, 1, 1, 1, 1, 1, 1, 1, 1, 1, 1, 1, 1, 1, 1, 1, 1, 1,\n",
       "        1, 1, 1, 1, 1, 1, 0, 0, 2, 0, 0, 0, 0, 0, 0, 0, 0, 0, 0, 0, 0, 0,\n",
       "        0, 0, 0, 0, 0, 0, 0, 0, 0, 0, 0, 2, 0, 0, 0, 0, 0, 0, 0, 0, 0, 0,\n",
       "        0, 0, 0, 0, 0, 0, 0, 0, 0, 0, 0, 0, 2, 0, 2, 2, 2, 2, 0, 2, 2, 2,\n",
       "        2, 2, 2, 0, 0, 2, 2, 2, 2, 0, 2, 0, 2, 0, 2, 2, 0, 0, 2, 2, 2, 2,\n",
       "        2, 0, 2, 2, 2, 2, 0, 2, 2, 2, 0, 2, 2, 2, 0, 2, 2, 0]),\n",
       " 'inertia_': 78.85144142614601,\n",
       " 'n_iter_': 5}"
      ]
     },
     "execution_count": 144,
     "metadata": {},
     "output_type": "execute_result"
    }
   ],
   "source": [
    "vars(km)"
   ]
  },
  {
   "cell_type": "markdown",
   "metadata": {},
   "source": [
    "실제 target과 KMeans로 만든 군집이 같은지 비교해보자"
   ]
  },
  {
   "cell_type": "code",
   "execution_count": 139,
   "metadata": {},
   "outputs": [],
   "source": [
    "import numpy as np"
   ]
  },
  {
   "cell_type": "code",
   "execution_count": 141,
   "metadata": {},
   "outputs": [
    {
     "data": {
      "text/plain": [
       "0      False\n",
       "1      False\n",
       "2      False\n",
       "3      False\n",
       "4      False\n",
       "       ...  \n",
       "145     True\n",
       "146    False\n",
       "147     True\n",
       "148     True\n",
       "149    False\n",
       "Name: target, Length: 150, dtype: bool"
      ]
     },
     "execution_count": 141,
     "metadata": {},
     "output_type": "execute_result"
    }
   ],
   "source": [
    "km.labels_ == iris.target"
   ]
  },
  {
   "cell_type": "code",
   "execution_count": 140,
   "metadata": {},
   "outputs": [
    {
     "data": {
      "text/plain": [
       "36"
      ]
     },
     "execution_count": 140,
     "metadata": {},
     "output_type": "execute_result"
    }
   ],
   "source": [
    "np.sum(km.labels_ == iris.target) # 겨우 36개 맞췄다?"
   ]
  },
  {
   "cell_type": "markdown",
   "metadata": {},
   "source": [
    "바로 비교할 수 없다. `KMeans`는 군집만 만들어 줄 뿐, 번호는 의미가 없기 때문이다.  \n",
    "0, 1, 2로 클러스터 개수만 맞춰줬다. 이름은 알아서 지정한 것이다. "
   ]
  },
  {
   "cell_type": "code",
   "execution_count": 142,
   "metadata": {},
   "outputs": [
    {
     "data": {
      "text/plain": [
       "array([1, 1, 1, 1, 1, 1, 1, 1, 1, 1, 1, 1, 1, 1, 1, 1, 1, 1, 1, 1, 1, 1,\n",
       "       1, 1, 1, 1, 1, 1, 1, 1, 1, 1, 1, 1, 1, 1, 1, 1, 1, 1, 1, 1, 1, 1,\n",
       "       1, 1, 1, 1, 1, 1, 0, 0, 2, 0, 0, 0, 0, 0, 0, 0, 0, 0, 0, 0, 0, 0,\n",
       "       0, 0, 0, 0, 0, 0, 0, 0, 0, 0, 0, 2, 0, 0, 0, 0, 0, 0, 0, 0, 0, 0,\n",
       "       0, 0, 0, 0, 0, 0, 0, 0, 0, 0, 0, 0, 2, 0, 2, 2, 2, 2, 0, 2, 2, 2,\n",
       "       2, 2, 2, 0, 0, 2, 2, 2, 2, 0, 2, 0, 2, 0, 2, 2, 0, 0, 2, 2, 2, 2,\n",
       "       2, 0, 2, 2, 2, 2, 0, 2, 2, 2, 0, 2, 2, 2, 0, 2, 2, 0])"
      ]
     },
     "execution_count": 142,
     "metadata": {},
     "output_type": "execute_result"
    }
   ],
   "source": [
    "km.labels_ # 예측"
   ]
  },
  {
   "cell_type": "code",
   "execution_count": 143,
   "metadata": {},
   "outputs": [
    {
     "data": {
      "text/plain": [
       "array([0, 0, 0, 0, 0, 0, 0, 0, 0, 0, 0, 0, 0, 0, 0, 0, 0, 0, 0, 0, 0, 0,\n",
       "       0, 0, 0, 0, 0, 0, 0, 0, 0, 0, 0, 0, 0, 0, 0, 0, 0, 0, 0, 0, 0, 0,\n",
       "       0, 0, 0, 0, 0, 0, 1, 1, 1, 1, 1, 1, 1, 1, 1, 1, 1, 1, 1, 1, 1, 1,\n",
       "       1, 1, 1, 1, 1, 1, 1, 1, 1, 1, 1, 1, 1, 1, 1, 1, 1, 1, 1, 1, 1, 1,\n",
       "       1, 1, 1, 1, 1, 1, 1, 1, 1, 1, 1, 1, 2, 2, 2, 2, 2, 2, 2, 2, 2, 2,\n",
       "       2, 2, 2, 2, 2, 2, 2, 2, 2, 2, 2, 2, 2, 2, 2, 2, 2, 2, 2, 2, 2, 2,\n",
       "       2, 2, 2, 2, 2, 2, 2, 2, 2, 2, 2, 2, 2, 2, 2, 2, 2, 2])"
      ]
     },
     "execution_count": 143,
     "metadata": {},
     "output_type": "execute_result"
    }
   ],
   "source": [
    "iris.target.values # 실제"
   ]
  },
  {
   "cell_type": "markdown",
   "metadata": {},
   "source": [
    "내용을 비교해보고, 0과 1을 바꿔주면 군집이 꽃 종류별로 잘 모였음을 알 수 있다."
   ]
  },
  {
   "cell_type": "code",
   "execution_count": 313,
   "metadata": {},
   "outputs": [],
   "source": [
    "km_labels = pd.Series(km.labels_).map({0:1, 1:0, 2:2})"
   ]
  },
  {
   "cell_type": "code",
   "execution_count": 314,
   "metadata": {},
   "outputs": [
    {
     "data": {
      "text/plain": [
       "134"
      ]
     },
     "execution_count": 314,
     "metadata": {},
     "output_type": "execute_result"
    }
   ],
   "source": [
    "sum(iris.target == km_labels)"
   ]
  },
  {
   "cell_type": "markdown",
   "metadata": {},
   "source": [
    "데이터에 라벨이 없을 때, clustering을 labeling에 쓰기도 한다.  "
   ]
  },
  {
   "cell_type": "markdown",
   "metadata": {},
   "source": [
    "### DBSCAN"
   ]
  },
  {
   "cell_type": "markdown",
   "metadata": {},
   "source": [
    "DBSCAN은 데이터를 몇 묶음으로 만드는게 적당한지 찾아준다.  \n",
    "DBSCAN로 몇 묶음인지 파아갛고 KMeans로 군집화하면 유용하다. "
   ]
  },
  {
   "cell_type": "code",
   "execution_count": 145,
   "metadata": {},
   "outputs": [
    {
     "name": "stdout",
     "output_type": "stream",
     "text": [
      "min_samples: 2 eps: 1.000000  cluster: [-1  0  0 -1  0 -1  1  1  0  1 -1 -1]\n",
      "min_samples: 2 eps: 1.500000  cluster: [0 1 1 1 1 0 2 2 1 2 2 0]\n",
      "min_samples: 2 eps: 2.000000  cluster: [0 1 1 1 1 0 0 0 1 0 0 0]\n",
      "min_samples: 2 eps: 3.000000  cluster: [0 0 0 0 0 0 0 0 0 0 0 0]\n",
      "min_samples: 3 eps: 1.000000  cluster: [-1  0  0 -1  0 -1  1  1  0  1 -1 -1]\n",
      "min_samples: 3 eps: 1.500000  cluster: [0 1 1 1 1 0 2 2 1 2 2 0]\n",
      "min_samples: 3 eps: 2.000000  cluster: [0 1 1 1 1 0 0 0 1 0 0 0]\n",
      "min_samples: 3 eps: 3.000000  cluster: [0 0 0 0 0 0 0 0 0 0 0 0]\n",
      "min_samples: 5 eps: 1.000000  cluster: [-1 -1 -1 -1 -1 -1 -1 -1 -1 -1 -1 -1]\n",
      "min_samples: 5 eps: 1.500000  cluster: [-1  0  0  0  0 -1 -1 -1  0 -1 -1 -1]\n",
      "min_samples: 5 eps: 2.000000  cluster: [-1  0  0  0  0 -1 -1 -1  0 -1 -1 -1]\n",
      "min_samples: 5 eps: 3.000000  cluster: [0 0 0 0 0 0 0 0 0 0 0 0]\n"
     ]
    },
    {
     "data": {
      "image/png": "[encoded data removed]",
      "text/plain": [
       "<Figure size 792x576 with 12 Axes>"
      ]
     },
     "metadata": {},
     "output_type": "display_data"
    }
   ],
   "source": [
    "mglearn.plot_dbscan.plot_dbscan()"
   ]
  },
  {
   "cell_type": "code",
   "execution_count": null,
   "metadata": {},
   "outputs": [],
   "source": []
  }
 ],
 "metadata": {
  "kernelspec": {
   "display_name": "Python 3",
   "language": "python",
   "name": "python3"
  },
  "language_info": {
   "codemirror_mode": {
    "name": "ipython",
    "version": 3
   },
   "file_extension": ".py",
   "mimetype": "text/x-python",
   "name": "python",
   "nbconvert_exporter": "python",
   "pygments_lexer": "ipython3",
   "version": "3.7.3"
  },
  "toc": {
   "base_numbering": 1,
   "nav_menu": {},
   "number_sections": true,
   "sideBar": true,
   "skip_h1_title": true,
   "title_cell": "Table of Contents",
   "title_sidebar": "Contents",
   "toc_cell": true,
   "toc_position": {
    "height": "calc(100% - 180px)",
    "left": "10px",
    "top": "150px",
    "width": "307.2px"
   },
   "toc_section_display": true,
   "toc_window_display": true
  },
  "varInspector": {
   "cols": {
    "lenName": 16,
    "lenType": 16,
    "lenVar": 40
   },
   "kernels_config": {
    "python": {
     "delete_cmd_postfix": "",
     "delete_cmd_prefix": "del ",
     "library": "var_list.py",
     "varRefreshCmd": "print(var_dic_list())"
    },
    "r": {
     "delete_cmd_postfix": ") ",
     "delete_cmd_prefix": "rm(",
     "library": "var_list.r",
     "varRefreshCmd": "cat(var_dic_list()) "
    }
   },
   "types_to_exclude": [
    "module",
    "function",
    "builtin_function_or_method",
    "instance",
    "_Feature"
   ],
   "window_display": false
  }
 },
 "nbformat": 4,
 "nbformat_minor": 2
}
