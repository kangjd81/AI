{
 "cells": [
  {
   "cell_type": "markdown",
   "metadata": {
    "toc": true
   },
   "source": [
    "<h1>Table of Contents<span class=\"tocSkip\"></span></h1>\n",
    "<div class=\"toc\"><ul class=\"toc-item\"><li><span><a href=\"#딥러닝-프레임워크-이야기\" data-toc-modified-id=\"딥러닝-프레임워크-이야기-1\"><span class=\"toc-item-num\">1&nbsp;&nbsp;</span>딥러닝 프레임워크 이야기</a></span></li><li><span><a href=\"#데이터-가져오기\" data-toc-modified-id=\"데이터-가져오기-2\"><span class=\"toc-item-num\">2&nbsp;&nbsp;</span>데이터 가져오기</a></span></li><li><span><a href=\"#scikit-learn\" data-toc-modified-id=\"scikit-learn-3\"><span class=\"toc-item-num\">3&nbsp;&nbsp;</span>scikit-learn</a></span></li><li><span><a href=\"#keras\" data-toc-modified-id=\"keras-4\"><span class=\"toc-item-num\">4&nbsp;&nbsp;</span>keras</a></span><ul class=\"toc-item\"><li><span><a href=\"#Sequential\" data-toc-modified-id=\"Sequential-4.1\"><span class=\"toc-item-num\">4.1&nbsp;&nbsp;</span>Sequential</a></span></li><li><span><a href=\"#activation\" data-toc-modified-id=\"activation-4.2\"><span class=\"toc-item-num\">4.2&nbsp;&nbsp;</span>activation</a></span></li><li><span><a href=\"#compile\" data-toc-modified-id=\"compile-4.3\"><span class=\"toc-item-num\">4.3&nbsp;&nbsp;</span>compile</a></span><ul class=\"toc-item\"><li><span><a href=\"#optimizer\" data-toc-modified-id=\"optimizer-4.3.1\"><span class=\"toc-item-num\">4.3.1&nbsp;&nbsp;</span>optimizer</a></span></li><li><span><a href=\"#loss\" data-toc-modified-id=\"loss-4.3.2\"><span class=\"toc-item-num\">4.3.2&nbsp;&nbsp;</span>loss</a></span></li><li><span><a href=\"#metrics\" data-toc-modified-id=\"metrics-4.3.3\"><span class=\"toc-item-num\">4.3.3&nbsp;&nbsp;</span>metrics</a></span></li></ul></li><li><span><a href=\"#fit\" data-toc-modified-id=\"fit-4.4\"><span class=\"toc-item-num\">4.4&nbsp;&nbsp;</span>fit</a></span><ul class=\"toc-item\"><li><span><a href=\"#epoch\" data-toc-modified-id=\"epoch-4.4.1\"><span class=\"toc-item-num\">4.4.1&nbsp;&nbsp;</span>epoch</a></span></li></ul></li></ul></li></ul></div>"
   ]
  },
  {
   "cell_type": "markdown",
   "metadata": {},
   "source": [
    "# [AI 오픈 이노베이션] 기본 저녁반<a class=\"tocSkip\">\n",
    "GitHub link: [https://github.com/realblack0/ai_lecture_fundamental](https://github.com/realblack0/ai_lecture_fundamental)  \n",
    "E-Mail: realblack0@gmail.com"
   ]
  },
  {
   "cell_type": "markdown",
   "metadata": {},
   "source": [
    "## 딥러닝 프레임워크 이야기  "
   ]
  },
  {
   "cell_type": "markdown",
   "metadata": {},
   "source": [
    "theano : 처음에 왕이었다.  \n",
    "→ keras : 이론과 코드의 간극을 줄였다. 쓰기 쉽다. 인기를 끌었다.  \n",
    "→ tensorflow : 구글에서 만들었다. 대학에서 만든 것(theano)보다 기업에서 만든게 더 좋다. 딥러닝 프레임워크의 대세가 된다.  \n",
    "→ cntk : 마이크로소프트에서도 만들었다.   \n",
    "→ keras : wrapper 방식으로 만들어졌기 때문에 keras 문법을 쓰면서 내부적으로 theano, tensorflow, cntk를 백엔드로 쓸 수 있다.  \n",
    "→ torch : 루아 언어 기반, 페이스북에서 만들었다.  \n",
    "→ pytorch : torch를 python으로 만들었다. 사용하기도 쉬워서 tensorflow의 점유율을 뺏기 시작한다.  \n",
    "→ keras + tensorflow : 위기를 느낀 구글이 keras를 영입한다. keras가 tensorflow에 흡수된다.  \n",
    "→ tensorflow 2.0 : tensorflow가 업데이트하면서 사용하기 쉬운 keras를 전면에 내세운다."
   ]
  },
  {
   "cell_type": "markdown",
   "metadata": {},
   "source": [
    "TensorFlow로 모델 만드는 방법은 여러가지가 있다. \n",
    "- tensor\n",
    "- estimator\n",
    "- keras\n",
    "    - functional\n",
    "    - sequential\n",
    "    - class\n",
    "    "
   ]
  },
  {
   "cell_type": "markdown",
   "metadata": {},
   "source": [
    "우리는 tensorflow에 내장된 keras부터 배울 것이다."
   ]
  },
  {
   "cell_type": "markdown",
   "metadata": {},
   "source": [
    "※ 이번 강의는 [TensorFlow 공식 튜토리얼](https://www.tensorflow.org/tutorials/quickstart/beginner?hl=ko)을 기준으로 진행되었습니다.  \n",
    "※ tensorflow는 2.x 버전을 이용합니다."
   ]
  },
  {
   "cell_type": "code",
   "execution_count": 1,
   "metadata": {},
   "outputs": [],
   "source": [
    "import tensorflow as tf"
   ]
  },
  {
   "cell_type": "code",
   "execution_count": 2,
   "metadata": {},
   "outputs": [
    {
     "data": {
      "text/plain": [
       "'2.0.0'"
      ]
     },
     "execution_count": 2,
     "metadata": {},
     "output_type": "execute_result"
    }
   ],
   "source": [
    "tf.__version__"
   ]
  },
  {
   "cell_type": "markdown",
   "metadata": {},
   "source": [
    "tensorflow는 기능이 많다. 다 배우는데 6개월 정도 걸린다."
   ]
  },
  {
   "cell_type": "code",
   "execution_count": 3,
   "metadata": {},
   "outputs": [
    {
     "data": {
      "text/plain": [
       "['AggregationMethod',\n",
       " 'Assert',\n",
       " 'CriticalSection',\n",
       " 'DType',\n",
       " 'DeviceSpec',\n",
       " 'GradientTape',\n",
       " 'Graph',\n",
       " 'IndexedSlices',\n",
       " 'IndexedSlicesSpec',\n",
       " 'Module',\n",
       " 'Operation',\n",
       " 'OptionalSpec',\n",
       " 'RaggedTensor',\n",
       " 'RaggedTensorSpec',\n",
       " 'RegisterGradient',\n",
       " 'SparseTensor',\n",
       " 'SparseTensorSpec',\n",
       " 'Tensor',\n",
       " 'TensorArray',\n",
       " 'TensorArraySpec',\n",
       " 'TensorShape',\n",
       " 'TensorSpec',\n",
       " 'TypeSpec',\n",
       " 'UnconnectedGradients',\n",
       " 'Variable',\n",
       " 'VariableAggregation',\n",
       " 'VariableSynchronization',\n",
       " '_LazyLoader',\n",
       " '__builtins__',\n",
       " '__cached__',\n",
       " '__compiler_version__',\n",
       " '__cxx11_abi_flag__',\n",
       " '__doc__',\n",
       " '__file__',\n",
       " '__git_version__',\n",
       " '__loader__',\n",
       " '__monolithic_build__',\n",
       " '__name__',\n",
       " '__package__',\n",
       " '__path__',\n",
       " '__spec__',\n",
       " '__version__',\n",
       " '_absolute_import',\n",
       " '_api',\n",
       " '_division',\n",
       " '_forward_module',\n",
       " '_importlib',\n",
       " '_m',\n",
       " '_print_function',\n",
       " '_root_estimator',\n",
       " '_sys',\n",
       " '_top_level_modules',\n",
       " '_types',\n",
       " 'abs',\n",
       " 'acos',\n",
       " 'acosh',\n",
       " 'add',\n",
       " 'add_n',\n",
       " 'argmax',\n",
       " 'argmin',\n",
       " 'argsort',\n",
       " 'as_dtype',\n",
       " 'as_string',\n",
       " 'asin',\n",
       " 'asinh',\n",
       " 'assert_equal',\n",
       " 'assert_greater',\n",
       " 'assert_less',\n",
       " 'assert_rank',\n",
       " 'atan',\n",
       " 'atan2',\n",
       " 'atanh',\n",
       " 'audio',\n",
       " 'autograph',\n",
       " 'batch_to_space',\n",
       " 'bfloat16',\n",
       " 'bitcast',\n",
       " 'bitwise',\n",
       " 'bool',\n",
       " 'boolean_mask',\n",
       " 'broadcast_dynamic_shape',\n",
       " 'broadcast_static_shape',\n",
       " 'broadcast_to',\n",
       " 'case',\n",
       " 'cast',\n",
       " 'clip_by_global_norm',\n",
       " 'clip_by_norm',\n",
       " 'clip_by_value',\n",
       " 'compat',\n",
       " 'complex',\n",
       " 'complex128',\n",
       " 'complex64',\n",
       " 'concat',\n",
       " 'cond',\n",
       " 'config',\n",
       " 'constant',\n",
       " 'constant_initializer',\n",
       " 'control_dependencies',\n",
       " 'convert_to_tensor',\n",
       " 'cos',\n",
       " 'cosh',\n",
       " 'cumsum',\n",
       " 'custom_gradient',\n",
       " 'data',\n",
       " 'debugging',\n",
       " 'device',\n",
       " 'distribute',\n",
       " 'divide',\n",
       " 'double',\n",
       " 'dtypes',\n",
       " 'dynamic_partition',\n",
       " 'dynamic_stitch',\n",
       " 'edit_distance',\n",
       " 'einsum',\n",
       " 'ensure_shape',\n",
       " 'equal',\n",
       " 'errors',\n",
       " 'estimator',\n",
       " 'executing_eagerly',\n",
       " 'exp',\n",
       " 'expand_dims',\n",
       " 'experimental',\n",
       " 'extract_volume_patches',\n",
       " 'eye',\n",
       " 'feature_column',\n",
       " 'fill',\n",
       " 'fingerprint',\n",
       " 'float16',\n",
       " 'float32',\n",
       " 'float64',\n",
       " 'floor',\n",
       " 'foldl',\n",
       " 'foldr',\n",
       " 'function',\n",
       " 'gather',\n",
       " 'gather_nd',\n",
       " 'get_logger',\n",
       " 'get_static_value',\n",
       " 'grad_pass_through',\n",
       " 'gradients',\n",
       " 'graph_util',\n",
       " 'greater',\n",
       " 'greater_equal',\n",
       " 'group',\n",
       " 'guarantee_const',\n",
       " 'half',\n",
       " 'hessians',\n",
       " 'histogram_fixed_width',\n",
       " 'histogram_fixed_width_bins',\n",
       " 'identity',\n",
       " 'identity_n',\n",
       " 'image',\n",
       " 'import_graph_def',\n",
       " 'init_scope',\n",
       " 'initializers',\n",
       " 'int16',\n",
       " 'int32',\n",
       " 'int64',\n",
       " 'int8',\n",
       " 'io',\n",
       " 'is_tensor',\n",
       " 'keras',\n",
       " 'less',\n",
       " 'less_equal',\n",
       " 'linalg',\n",
       " 'linspace',\n",
       " 'lite',\n",
       " 'load_library',\n",
       " 'load_op_library',\n",
       " 'logical_and',\n",
       " 'logical_not',\n",
       " 'logical_or',\n",
       " 'lookup',\n",
       " 'losses',\n",
       " 'make_ndarray',\n",
       " 'make_tensor_proto',\n",
       " 'map_fn',\n",
       " 'math',\n",
       " 'matmul',\n",
       " 'matrix_square_root',\n",
       " 'maximum',\n",
       " 'meshgrid',\n",
       " 'metrics',\n",
       " 'minimum',\n",
       " 'multiply',\n",
       " 'name_scope',\n",
       " 'negative',\n",
       " 'nest',\n",
       " 'newaxis',\n",
       " 'nn',\n",
       " 'no_gradient',\n",
       " 'no_op',\n",
       " 'nondifferentiable_batch_function',\n",
       " 'norm',\n",
       " 'not_equal',\n",
       " 'numpy_function',\n",
       " 'one_hot',\n",
       " 'ones',\n",
       " 'ones_initializer',\n",
       " 'ones_like',\n",
       " 'optimizers',\n",
       " 'pad',\n",
       " 'parallel_stack',\n",
       " 'pow',\n",
       " 'print',\n",
       " 'py_function',\n",
       " 'qint16',\n",
       " 'qint32',\n",
       " 'qint8',\n",
       " 'quantization',\n",
       " 'queue',\n",
       " 'quint16',\n",
       " 'quint8',\n",
       " 'ragged',\n",
       " 'random',\n",
       " 'random_normal_initializer',\n",
       " 'random_uniform_initializer',\n",
       " 'range',\n",
       " 'rank',\n",
       " 'raw_ops',\n",
       " 'realdiv',\n",
       " 'recompute_grad',\n",
       " 'reduce_all',\n",
       " 'reduce_any',\n",
       " 'reduce_logsumexp',\n",
       " 'reduce_max',\n",
       " 'reduce_mean',\n",
       " 'reduce_min',\n",
       " 'reduce_prod',\n",
       " 'reduce_sum',\n",
       " 'register_tensor_conversion_function',\n",
       " 'required_space_to_batch_paddings',\n",
       " 'reshape',\n",
       " 'resource',\n",
       " 'reverse',\n",
       " 'reverse_sequence',\n",
       " 'roll',\n",
       " 'round',\n",
       " 'saturate_cast',\n",
       " 'saved_model',\n",
       " 'scalar_mul',\n",
       " 'scan',\n",
       " 'scatter_nd',\n",
       " 'searchsorted',\n",
       " 'sequence_mask',\n",
       " 'sets',\n",
       " 'shape',\n",
       " 'shape_n',\n",
       " 'sigmoid',\n",
       " 'sign',\n",
       " 'signal',\n",
       " 'sin',\n",
       " 'sinh',\n",
       " 'size',\n",
       " 'slice',\n",
       " 'sort',\n",
       " 'space_to_batch',\n",
       " 'space_to_batch_nd',\n",
       " 'sparse',\n",
       " 'split',\n",
       " 'sqrt',\n",
       " 'square',\n",
       " 'squeeze',\n",
       " 'stack',\n",
       " 'stop_gradient',\n",
       " 'strided_slice',\n",
       " 'string',\n",
       " 'strings',\n",
       " 'subtract',\n",
       " 'summary',\n",
       " 'switch_case',\n",
       " 'sysconfig',\n",
       " 'tan',\n",
       " 'tanh',\n",
       " 'tensor_scatter_nd_add',\n",
       " 'tensor_scatter_nd_sub',\n",
       " 'tensor_scatter_nd_update',\n",
       " 'tensordot',\n",
       " 'test',\n",
       " 'tile',\n",
       " 'timestamp',\n",
       " 'tpu',\n",
       " 'train',\n",
       " 'transpose',\n",
       " 'truediv',\n",
       " 'truncatediv',\n",
       " 'truncatemod',\n",
       " 'tuple',\n",
       " 'uint16',\n",
       " 'uint32',\n",
       " 'uint64',\n",
       " 'uint8',\n",
       " 'unique',\n",
       " 'unique_with_counts',\n",
       " 'unravel_index',\n",
       " 'unstack',\n",
       " 'variable_creator_scope',\n",
       " 'variant',\n",
       " 'vectorized_map',\n",
       " 'version',\n",
       " 'where',\n",
       " 'while_loop',\n",
       " 'xla',\n",
       " 'zeros',\n",
       " 'zeros_initializer',\n",
       " 'zeros_like']"
      ]
     },
     "execution_count": 3,
     "metadata": {},
     "output_type": "execute_result"
    }
   ],
   "source": [
    "dir(tf)"
   ]
  },
  {
   "cell_type": "markdown",
   "metadata": {},
   "source": [
    "## 데이터 가져오기"
   ]
  },
  {
   "cell_type": "code",
   "execution_count": 4,
   "metadata": {},
   "outputs": [],
   "source": [
    "from tensorflow.keras.datasets import mnist"
   ]
  },
  {
   "cell_type": "markdown",
   "metadata": {},
   "source": [
    "데이터는 2-way hold out되어 있다. "
   ]
  },
  {
   "cell_type": "code",
   "execution_count": 5,
   "metadata": {},
   "outputs": [],
   "source": [
    "# unpacking\n",
    "(X_train, y_train), (X_test, y_test) = mnist.load_data()"
   ]
  },
  {
   "cell_type": "markdown",
   "metadata": {},
   "source": [
    "데이터는 numpy array로 되어 있고, 총 6만개이다."
   ]
  },
  {
   "cell_type": "code",
   "execution_count": 6,
   "metadata": {},
   "outputs": [
    {
     "data": {
      "text/plain": [
       "numpy.ndarray"
      ]
     },
     "execution_count": 6,
     "metadata": {},
     "output_type": "execute_result"
    }
   ],
   "source": [
    "type(X_train)"
   ]
  },
  {
   "cell_type": "code",
   "execution_count": 7,
   "metadata": {},
   "outputs": [
    {
     "data": {
      "text/plain": [
       "(60000, 28, 28)"
      ]
     },
     "execution_count": 7,
     "metadata": {},
     "output_type": "execute_result"
    }
   ],
   "source": [
    "X_train.shape"
   ]
  },
  {
   "cell_type": "markdown",
   "metadata": {},
   "source": [
    "데이터는 28 x 28 크기의 이미지들이다. 이미지 데이터이므로 `imshow`로 볼 수 있다."
   ]
  },
  {
   "cell_type": "code",
   "execution_count": 8,
   "metadata": {},
   "outputs": [
    {
     "data": {
      "text/plain": [
       "(28, 28)"
      ]
     },
     "execution_count": 8,
     "metadata": {},
     "output_type": "execute_result"
    }
   ],
   "source": [
    "X_train[0].shape"
   ]
  },
  {
   "cell_type": "code",
   "execution_count": 9,
   "metadata": {},
   "outputs": [],
   "source": [
    "import matplotlib.pyplot as plt"
   ]
  },
  {
   "cell_type": "code",
   "execution_count": 10,
   "metadata": {},
   "outputs": [
    {
     "data": {
      "text/plain": [
       "<matplotlib.image.AxesImage at 0x1fd891dc518>"
      ]
     },
     "execution_count": 10,
     "metadata": {},
     "output_type": "execute_result"
    },
    {
     "data": {
      "image/png": "[encoded data removed]",
      "text/plain": [
       "<Figure size 432x288 with 1 Axes>"
      ]
     },
     "metadata": {
      "needs_background": "light"
     },
     "output_type": "display_data"
    }
   ],
   "source": [
    "# 손글씨 5 이미지 데이터\n",
    "plt.imshow(X_train[0])"
   ]
  },
  {
   "cell_type": "markdown",
   "metadata": {},
   "source": [
    "이미지 데이터는 기계학습에 바로 사용할 수 없다.  \n",
    "2차원을 1차원으로 바꾸면 기계학습에 사용 가능하다."
   ]
  },
  {
   "cell_type": "code",
   "execution_count": 11,
   "metadata": {},
   "outputs": [
    {
     "data": {
      "text/plain": [
       "(60000, 784)"
      ]
     },
     "execution_count": 11,
     "metadata": {},
     "output_type": "execute_result"
    }
   ],
   "source": [
    "X_train.reshape(60000, -1).shape"
   ]
  },
  {
   "cell_type": "markdown",
   "metadata": {},
   "source": [
    "## scikit-learn"
   ]
  },
  {
   "cell_type": "markdown",
   "metadata": {},
   "source": [
    "scikit에서도 이미지 데이터를 쓸 수 있다. "
   ]
  },
  {
   "cell_type": "code",
   "execution_count": 12,
   "metadata": {},
   "outputs": [],
   "source": [
    "from sklearn.neighbors import KNeighborsClassifier"
   ]
  },
  {
   "cell_type": "code",
   "execution_count": 13,
   "metadata": {},
   "outputs": [],
   "source": [
    "# 실행 X\n",
    "# 데이터 6만개가 많아서 오래 걸림\n",
    "knn = KNeighborsClassifier()\n",
    "knn.fit(X_train.reshape(60000, -1), y_train)"
   ]
  },
  {
   "cell_type": "markdown",
   "metadata": {},
   "source": [
    "scikit-learn에서도 딥러닝 쓸 수 있다.  \n",
    "단, scikit-learn의 딥러닝은 복잡한 건 못한다."
   ]
  },
  {
   "cell_type": "code",
   "execution_count": 14,
   "metadata": {},
   "outputs": [],
   "source": [
    "from sklearn.neural_network import MLPClassifier"
   ]
  },
  {
   "cell_type": "code",
   "execution_count": 15,
   "metadata": {},
   "outputs": [],
   "source": [
    "mlp = MLPClassifier()"
   ]
  },
  {
   "cell_type": "code",
   "execution_count": 16,
   "metadata": {},
   "outputs": [],
   "source": [
    "# 시간상 실행은 생략\n",
    "mlp.fit(X_train.reshape(60000, -1), y_train)"
   ]
  },
  {
   "cell_type": "markdown",
   "metadata": {},
   "source": [
    "## keras"
   ]
  },
  {
   "cell_type": "markdown",
   "metadata": {},
   "source": [
    "### Sequential"
   ]
  },
  {
   "cell_type": "markdown",
   "metadata": {},
   "source": [
    "keras에서 모델을 만드는 방법은 3가지가 있는데, 그 중 `Sequential`을 이용하는 방법을 알아보자.  \n",
    "`Sequential`은 단순한 모델만 만들 수 있다. \n",
    "    - 일방향만으로만 foward 가능하다. (양방향 불가)  \n",
    "    - output도 1개만 출력 가능하다.  "
   ]
  },
  {
   "cell_type": "code",
   "execution_count": 17,
   "metadata": {},
   "outputs": [],
   "source": [
    "from tensorflow.keras.models import Sequential"
   ]
  },
  {
   "cell_type": "code",
   "execution_count": 18,
   "metadata": {},
   "outputs": [],
   "source": [
    "# 대문자는 클래스 -> 인스턴스\n",
    "model = Sequential()"
   ]
  },
  {
   "cell_type": "markdown",
   "metadata": {},
   "source": [
    "`Sequential`에는 layer를 넣어줘야 한다.  \n",
    "keras는 기존에 유명한 모델 그대로 가져다 쓸 수 있다.  \n",
    "`import` 뒤에서 tab 눌러보면 종류가 많다. 계속 발전 중이다."
   ]
  },
  {
   "cell_type": "code",
   "execution_count": 19,
   "metadata": {},
   "outputs": [],
   "source": [
    "from tensorflow.keras.layers import Dense"
   ]
  },
  {
   "cell_type": "markdown",
   "metadata": {},
   "source": [
    "다음 그림을 보면 노드가 서로 완전히 연결(fully connected)되어 있다.  \n",
    "줄여서 fc layer라고 부르기도 한다.  \n",
    "촘촘하게(Dense) 연결되어 있다고 해서 `Dense`라고 이름 지어졌다. "
   ]
  },
  {
   "attachments": {
    "image.png": {
     "image/png": "[encoded data removed]"
    }
   },
   "cell_type": "markdown",
   "metadata": {},
   "source": [
    "![image.png](attachment:image.png)"
   ]
  },
  {
   "cell_type": "markdown",
   "metadata": {},
   "source": [
    "인스턴스해서 사용한다. 인자가 반드시 필요하다."
   ]
  },
  {
   "cell_type": "code",
   "execution_count": 20,
   "metadata": {},
   "outputs": [],
   "source": [
    "layer1 = Dense(4) # 노드 개수 4"
   ]
  },
  {
   "cell_type": "markdown",
   "metadata": {},
   "source": [
    "output layer의 노드 개수는 분류할 target 개수와 같게 한다.   \n",
    "손글씨 데이터는 숫자 0 ~ 10을 분류하므로 10종이다."
   ]
  },
  {
   "cell_type": "code",
   "execution_count": 21,
   "metadata": {},
   "outputs": [],
   "source": [
    "output = Dense(10)"
   ]
  },
  {
   "cell_type": "markdown",
   "metadata": {},
   "source": [
    "`add` 메소드로 sequential 인스턴스에 layer를 추가한다."
   ]
  },
  {
   "cell_type": "code",
   "execution_count": 22,
   "metadata": {},
   "outputs": [],
   "source": [
    "model.add(layer1)"
   ]
  },
  {
   "cell_type": "code",
   "execution_count": 23,
   "metadata": {},
   "outputs": [],
   "source": [
    "model.add(output) # 순차적으로 add"
   ]
  },
  {
   "cell_type": "markdown",
   "metadata": {},
   "source": [
    "또는 `Sequetial`을 인스턴스할 때 layer를 한번에 넣을 수도 있다.  "
   ]
  },
  {
   "cell_type": "code",
   "execution_count": 24,
   "metadata": {},
   "outputs": [],
   "source": [
    "model = Sequential(layers=[layer1, output]) # layers => 복수형 => 리스트로 묶어서"
   ]
  },
  {
   "cell_type": "markdown",
   "metadata": {},
   "source": [
    "사용법이 간단해서 할당 안하고 바로 추가하기도 한다."
   ]
  },
  {
   "cell_type": "code",
   "execution_count": 25,
   "metadata": {},
   "outputs": [],
   "source": [
    "model = Sequential()\n",
    "model.add(Dense(4))\n",
    "model.add(Dense(10))"
   ]
  },
  {
   "cell_type": "markdown",
   "metadata": {},
   "source": [
    "- 일반적으로 레이어 많이 써야 성능 좋다.   \n",
    "    - 그러나 항상 그렇지는 않다. 무조건 데이터의 특성에 따라 정해진다.  \n",
    "- 딥러닝은 오비피팅이 잘 일어난다.  \n",
    "- 오캄의 면도칼 법칙에 따라서 간단한 모델 만드는게 좋다."
   ]
  },
  {
   "cell_type": "code",
   "execution_count": 26,
   "metadata": {},
   "outputs": [],
   "source": [
    "model.add(Dense(16))\n",
    "model.add(Dense(12))\n",
    "model.add(Dense(10))"
   ]
  },
  {
   "cell_type": "markdown",
   "metadata": {},
   "source": [
    "`summary`는 모델의 구조를 보여주는 메서드이다. "
   ]
  },
  {
   "cell_type": "code",
   "execution_count": 27,
   "metadata": {},
   "outputs": [],
   "source": [
    "# Error\n",
    "model.summary()"
   ]
  },
  {
   "cell_type": "markdown",
   "metadata": {},
   "source": [
    "`Sequential`은 첫번째 레이어에 input 모양을 알려줘야 한다.  \n",
    "앞서 만든 모델은 input_shape을 정해주지 않아서 에러가 발생한 것이다."
   ]
  },
  {
   "cell_type": "code",
   "execution_count": 28,
   "metadata": {},
   "outputs": [],
   "source": [
    "model = Sequential()"
   ]
  },
  {
   "cell_type": "markdown",
   "metadata": {},
   "source": [
    "`input_shape`은 데이터 하나의 모양을 의미한다.  \n",
    "mnist 데이터를 reshape한 모양을 알려준다.  \n",
    "반드시 tuple로 넣어줘야 한다."
   ]
  },
  {
   "cell_type": "code",
   "execution_count": 29,
   "metadata": {},
   "outputs": [],
   "source": [
    "model.add(Dense(16, input_shape=(784, ))) # 값이 1개인 tuple은 콤마\n",
    "model.add(Dense(10))"
   ]
  },
  {
   "cell_type": "markdown",
   "metadata": {},
   "source": [
    "모델에 레이어가 어떻게 쌓여있는지 정리해준다. "
   ]
  },
  {
   "cell_type": "code",
   "execution_count": 30,
   "metadata": {},
   "outputs": [
    {
     "name": "stdout",
     "output_type": "stream",
     "text": [
      "Model: \"sequential_3\"\n",
      "_________________________________________________________________\n",
      "Layer (type)                 Output Shape              Param #   \n",
      "=================================================================\n",
      "dense_7 (Dense)              (None, 16)                12560     \n",
      "_________________________________________________________________\n",
      "dense_8 (Dense)              (None, 10)                170       \n",
      "=================================================================\n",
      "Total params: 12,730\n",
      "Trainable params: 12,730\n",
      "Non-trainable params: 0\n",
      "_________________________________________________________________\n"
     ]
    }
   ],
   "source": [
    "model.summary()"
   ]
  },
  {
   "cell_type": "markdown",
   "metadata": {},
   "source": [
    "※ 주의할 점: 만약 실수로 같은 셀을 또 실행하면 model의 구조가 바뀐다. (mutable은 실수하기 쉽다)"
   ]
  },
  {
   "cell_type": "code",
   "execution_count": 31,
   "metadata": {},
   "outputs": [],
   "source": [
    "model.add(Dense(16, input_shape=(784, ))) \n",
    "model.add(Dense(10))"
   ]
  },
  {
   "cell_type": "code",
   "execution_count": 32,
   "metadata": {},
   "outputs": [
    {
     "name": "stdout",
     "output_type": "stream",
     "text": [
      "Model: \"sequential_3\"\n",
      "_________________________________________________________________\n",
      "Layer (type)                 Output Shape              Param #   \n",
      "=================================================================\n",
      "dense_7 (Dense)              (None, 16)                12560     \n",
      "_________________________________________________________________\n",
      "dense_8 (Dense)              (None, 10)                170       \n",
      "_________________________________________________________________\n",
      "dense_9 (Dense)              (None, 16)                176       \n",
      "_________________________________________________________________\n",
      "dense_10 (Dense)             (None, 10)                170       \n",
      "=================================================================\n",
      "Total params: 13,076\n",
      "Trainable params: 13,076\n",
      "Non-trainable params: 0\n",
      "_________________________________________________________________\n"
     ]
    }
   ],
   "source": [
    "model.summary()"
   ]
  },
  {
   "cell_type": "markdown",
   "metadata": {},
   "source": [
    "나중에 add하지 않고 처음부터 집어 넣으면 실수를 줄일 수 있다.  \n",
    "구글은 초보자들의 이런 실수를 캐치하고 초보자용 튜토리얼에 넣어두었다."
   ]
  },
  {
   "cell_type": "code",
   "execution_count": 33,
   "metadata": {},
   "outputs": [],
   "source": [
    "model = Sequential([\n",
    "    Dense(16, input_shape=(784, )),\n",
    "    Dense(10)\n",
    "])"
   ]
  },
  {
   "cell_type": "markdown",
   "metadata": {},
   "source": [
    "Param은 업데이트해야하는 요소이다."
   ]
  },
  {
   "cell_type": "code",
   "execution_count": 34,
   "metadata": {},
   "outputs": [
    {
     "name": "stdout",
     "output_type": "stream",
     "text": [
      "Model: \"sequential_4\"\n",
      "_________________________________________________________________\n",
      "Layer (type)                 Output Shape              Param #   \n",
      "=================================================================\n",
      "dense_11 (Dense)             (None, 16)                12560     \n",
      "_________________________________________________________________\n",
      "dense_12 (Dense)             (None, 10)                170       \n",
      "=================================================================\n",
      "Total params: 12,730\n",
      "Trainable params: 12,730\n",
      "Non-trainable params: 0\n",
      "_________________________________________________________________\n"
     ]
    }
   ],
   "source": [
    "model.summary()"
   ]
  },
  {
   "cell_type": "markdown",
   "metadata": {},
   "source": [
    "### activation"
   ]
  },
  {
   "cell_type": "markdown",
   "metadata": {},
   "source": [
    "activation은 공간을 왜곡하는 역할을 한다.  \n",
    "복잡한 문제도 해결할 수 있게 된다. "
   ]
  },
  {
   "cell_type": "code",
   "execution_count": 35,
   "metadata": {},
   "outputs": [],
   "source": [
    "model = Sequential()\n",
    "model.add(Dense(16, input_shape=(784, ), activation=\"relu\")) \n",
    "model.add(Dense(10)) # output layer도 activation이 있어야하지만, 아직은 그냥 둔다."
   ]
  },
  {
   "cell_type": "markdown",
   "metadata": {},
   "source": [
    "---"
   ]
  },
  {
   "cell_type": "code",
   "execution_count": 36,
   "metadata": {},
   "outputs": [
    {
     "data": {
      "image/png": "[encoded data removed]",
      "text/plain": [
       "<Figure size 432x288 with 1 Axes>"
      ]
     },
     "metadata": {
      "needs_background": "light"
     },
     "output_type": "display_data"
    }
   ],
   "source": [
    "# 처음에 활성함수는 계단함수였다.\n",
    "# 미분이 불가능해서 학습이 안되는 문제가 있었다.\n",
    "\n",
    "plt.plot([-1, 0, 0, 1], [0, 0, 1, 1])\n",
    "plt.show()"
   ]
  },
  {
   "cell_type": "code",
   "execution_count": 37,
   "metadata": {},
   "outputs": [
    {
     "data": {
      "image/png": "[encoded data removed]",
      "text/plain": [
       "<Figure size 432x288 with 1 Axes>"
      ]
     },
     "metadata": {
      "needs_background": "light"
     },
     "output_type": "display_data"
    }
   ],
   "source": [
    "# sigmoid는 미분 가능하다.\n",
    "# layer를 쌓아도 학습이 가능하다. \n",
    "\n",
    "import numpy as np\n",
    "sigmoid = lambda x:1/(1 + np.exp(-x)) \n",
    "\n",
    "x = np.linspace(-10, 10)\n",
    "y = sigmoid(x)\n",
    "\n",
    "plt.plot(x, y)\n",
    "plt.show()"
   ]
  },
  {
   "cell_type": "code",
   "execution_count": 38,
   "metadata": {},
   "outputs": [
    {
     "data": {
      "image/png": "[encoded data removed]",
      "text/plain": [
       "<Figure size 432x288 with 1 Axes>"
      ]
     },
     "metadata": {
      "needs_background": "light"
     },
     "output_type": "display_data"
    }
   ],
   "source": [
    "# tanh(하이퍼볼릭 탄젠트)를 쓰면 값이 -1 ~ 1 사이가 된다. \n",
    "# 학습 속도가 좀 더 빠른 경향이 있다.\n",
    "# sigmoid는 값이 0 ~ 1 사이이다.\n",
    "\n",
    "x = np.linspace(-10, 10)\n",
    "y = np.tanh(x)\n",
    "\n",
    "plt.plot(x, y)\n",
    "plt.yticks([-1, 0, 1])\n",
    "plt.axhline(color=\"gray\"); plt.axvline(color=\"gray\")\n",
    "plt.show()"
   ]
  },
  {
   "cell_type": "code",
   "execution_count": 39,
   "metadata": {},
   "outputs": [
    {
     "data": {
      "image/png": "[encoded data removed]",
      "text/plain": [
       "<Figure size 432x288 with 1 Axes>"
      ]
     },
     "metadata": {
      "needs_background": "light"
     },
     "output_type": "display_data"
    }
   ],
   "source": [
    "# sigmoid, tanh는 레이어가 깊게 쌓이면 기울기가 소실되는 문제가 있었다. (gradient vanishing)\n",
    "# 즉, 학습이 안된다. \n",
    "# hinton 교수가 ReLU로 해결한다. \n",
    "# 딥러닝에서 활성함수는 relu 거의 기본이다.\n",
    "\n",
    "x = np.linspace(-10, 10)\n",
    "y = np.clip(x, 0, 100)\n",
    "\n",
    "plt.title(\"ReLU\")\n",
    "plt.plot(x, y)\n",
    "plt.show()"
   ]
  },
  {
   "cell_type": "markdown",
   "metadata": {},
   "source": [
    "---"
   ]
  },
  {
   "cell_type": "markdown",
   "metadata": {},
   "source": [
    "iris 데이터를 학습할 keras 모델을 만들어 보자."
   ]
  },
  {
   "cell_type": "code",
   "execution_count": 40,
   "metadata": {},
   "outputs": [],
   "source": [
    "from sklearn.datasets import load_iris"
   ]
  },
  {
   "cell_type": "code",
   "execution_count": 41,
   "metadata": {},
   "outputs": [],
   "source": [
    "X, y = load_iris(return_X_y=True)"
   ]
  },
  {
   "cell_type": "code",
   "execution_count": 42,
   "metadata": {},
   "outputs": [],
   "source": [
    "model = Sequential([\n",
    "    Dense(12, input_shape=(4,), activation=\"relu\"), # 첫번째 레이어: input shape을 써줘야 한다.\n",
    "                                                    # iris는 feature가 4개\n",
    "    Dense(12, activation=\"relu\"),\n",
    "    Dense(3, activation=\"softmax\") # 마지막 레이어: classification, regression에 따라서 다르다.\n",
    "                                   # iris는 target이 3개\n",
    "])"
   ]
  },
  {
   "cell_type": "markdown",
   "metadata": {},
   "source": [
    "마지막 output 레이어의 활성함수는 classification, regression에 따라서 다르다.\n",
    "- classification \n",
    "     - 0과 1로 binary(이진) 분류 : activation에 sigmoid 쓴다.\n",
    "     - multi class 분류: activation에 softmax 쓴다.\n",
    " - regression\n",
    "     - activation 안 쓴다."
   ]
  },
  {
   "cell_type": "code",
   "execution_count": 43,
   "metadata": {},
   "outputs": [
    {
     "name": "stdout",
     "output_type": "stream",
     "text": [
      "Model: \"sequential_6\"\n",
      "_________________________________________________________________\n",
      "Layer (type)                 Output Shape              Param #   \n",
      "=================================================================\n",
      "dense_15 (Dense)             (None, 12)                60        \n",
      "_________________________________________________________________\n",
      "dense_16 (Dense)             (None, 12)                156       \n",
      "_________________________________________________________________\n",
      "dense_17 (Dense)             (None, 3)                 39        \n",
      "=================================================================\n",
      "Total params: 255\n",
      "Trainable params: 255\n",
      "Non-trainable params: 0\n",
      "_________________________________________________________________\n"
     ]
    }
   ],
   "source": [
    "model.summary()"
   ]
  },
  {
   "cell_type": "markdown",
   "metadata": {},
   "source": [
    "wine 데이터를 학습할 모델을 만들어 보자"
   ]
  },
  {
   "cell_type": "code",
   "execution_count": 44,
   "metadata": {},
   "outputs": [],
   "source": [
    "import pandas as pd\n",
    "from sklearn.datasets import load_wine"
   ]
  },
  {
   "cell_type": "code",
   "execution_count": 45,
   "metadata": {},
   "outputs": [],
   "source": [
    "data = load_wine()\n",
    "data_pd = pd.DataFrame(data.data, columns=data.feature_names)\n",
    "data_ta = pd.DataFrame(data.target, columns=[\"target\"])\n",
    "wine = pd.concat([data_pd, data_ta], axis=1)"
   ]
  },
  {
   "cell_type": "code",
   "execution_count": 46,
   "metadata": {},
   "outputs": [],
   "source": [
    "model = Sequential([\n",
    "    Dense(12, input_shape=(13,), activation=\"relu\"), # wine 데이터의 feature는 13개\n",
    "    Dense(13, activation=\"relu\"), # 복잡할수록 성능 좋다. (unit 많거나, layer가 깊음)\n",
    "    Dense(16, activation=\"relu\"), # 복잡할수록 오버피팅 걸릴 확률이 높다.\n",
    "    Dense(1) # regression 문제이므로 1, 활성함수 없음.\n",
    "])"
   ]
  },
  {
   "cell_type": "markdown",
   "metadata": {},
   "source": [
    "딥러닝은 모델 구조를 어떻게 만드느냐가 관건이다."
   ]
  },
  {
   "cell_type": "code",
   "execution_count": 47,
   "metadata": {},
   "outputs": [
    {
     "name": "stdout",
     "output_type": "stream",
     "text": [
      "Model: \"sequential_7\"\n",
      "_________________________________________________________________\n",
      "Layer (type)                 Output Shape              Param #   \n",
      "=================================================================\n",
      "dense_18 (Dense)             (None, 12)                168       \n",
      "_________________________________________________________________\n",
      "dense_19 (Dense)             (None, 13)                169       \n",
      "_________________________________________________________________\n",
      "dense_20 (Dense)             (None, 16)                224       \n",
      "_________________________________________________________________\n",
      "dense_21 (Dense)             (None, 1)                 17        \n",
      "=================================================================\n",
      "Total params: 578\n",
      "Trainable params: 578\n",
      "Non-trainable params: 0\n",
      "_________________________________________________________________\n"
     ]
    }
   ],
   "source": [
    "model.summary()"
   ]
  },
  {
   "cell_type": "markdown",
   "metadata": {},
   "source": [
    "### compile"
   ]
  },
  {
   "cell_type": "markdown",
   "metadata": {},
   "source": [
    "이제까지는 모델의 뼈대만 만들었다.  \n",
    "\n",
    "학습을 하기 위해서는 전략이 필요하다.  \n",
    "이 전략을 모델에 주입하는 것이 `compile`이다.  \n",
    "\n",
    "`compile`의 3요소는 다음 세가지가 있다.\n",
    "```python\n",
    "model.compile(optimizer=, loss=, metrics=)\n",
    "```"
   ]
  },
  {
   "cell_type": "markdown",
   "metadata": {},
   "source": [
    "#### optimizer"
   ]
  },
  {
   "cell_type": "markdown",
   "metadata": {},
   "source": [
    "optimizer는 모델의 loss(오차)를 줄여가는 방식이다.  \n",
    "activation function으로 ReLU를 쓰듯이, optimizer에는 Adam을 쓰는 것이 거의 기본적이다."
   ]
  },
  {
   "cell_type": "markdown",
   "metadata": {},
   "source": [
    "#### loss"
   ]
  },
  {
   "cell_type": "markdown",
   "metadata": {},
   "source": [
    "실제값과 모델의 예측값 간의 오차(loss)를 어떻게 계산할지 정한다.  \n",
    "딥러닝 이론에서 Loss Function(오차함수 또는 손실함수)에 해당한다.   "
   ]
  },
  {
   "cell_type": "markdown",
   "metadata": {},
   "source": [
    "classification 문제에는 loss function으로 categorical_crossentropy를 사용한다.  "
   ]
  },
  {
   "cell_type": "markdown",
   "metadata": {},
   "source": [
    "keras에서 target은 숫자여야한다.  \n",
    "기계학습에서 배웠던 것처럼 One Hot Encoding과 Label Encoding으로 전처러가 필요하다.  \n",
    "어떤 방식으로 인코딩했느냐에 따라서 loss function이 달라진다."
   ]
  },
  {
   "cell_type": "markdown",
   "metadata": {},
   "source": [
    "#### metrics"
   ]
  },
  {
   "cell_type": "markdown",
   "metadata": {},
   "source": [
    "metric은 성능 평가 방법이다.  \n",
    "기계학습에서 배웠던 Accuracy, Precision, Recall, F1-score 를 모두 쓸 수 있다.  "
   ]
  },
  {
   "cell_type": "markdown",
   "metadata": {},
   "source": [
    "iris를 예측할 모델을 만들고 학습 전략까지 세워 보자."
   ]
  },
  {
   "cell_type": "code",
   "execution_count": 48,
   "metadata": {},
   "outputs": [],
   "source": [
    "data = load_iris()"
   ]
  },
  {
   "cell_type": "code",
   "execution_count": 49,
   "metadata": {},
   "outputs": [],
   "source": [
    "model = Sequential([\n",
    "    Dense(12, input_shape=(4,), activation=\"relu\"), # 첫번째 레이어: input shape을 써줘야 한다.\n",
    "                                                    # iris는 feature가 4개\n",
    "    Dense(12, activation=\"relu\"),\n",
    "    Dense(3, activation=\"softmax\") # 마지막 레이어: classification, regression에 따라서 다르다.\n",
    "                                # iris는 target이 3개\n",
    "])"
   ]
  },
  {
   "cell_type": "code",
   "execution_count": 50,
   "metadata": {},
   "outputs": [],
   "source": [
    "# 학습 전략\n",
    "model.compile(optimizer=\"adam\", loss='categorical_crossentropy', metrics=[\"acc\"])"
   ]
  },
  {
   "cell_type": "markdown",
   "metadata": {},
   "source": [
    "### fit"
   ]
  },
  {
   "cell_type": "markdown",
   "metadata": {},
   "source": [
    "학습은 `fit`메서드를 이용한다."
   ]
  },
  {
   "cell_type": "code",
   "execution_count": null,
   "metadata": {},
   "outputs": [],
   "source": [
    "# Error\n",
    "model.fit(data.data, data.target)"
   ]
  },
  {
   "cell_type": "markdown",
   "metadata": {},
   "source": [
    "에러 메시지를 보면 `to_categorical`을 사용하거나 `sparse_categorical_crossentropy`를 사용하라고 한다.  \n",
    "\n",
    "> ValueError: You are passing a target array of shape (150, 1) while using as loss `categorical_crossentropy`. `categorical_crossentropy` expects targets to be binary matrices (1s and 0s) of shape (samples, classes). If your targets are integer classes, you can convert them to the expected format via:\n",
    "> ```\n",
    "> from keras.utils import to_categorical\n",
    "> y_binary = to_categorical(y_int)\n",
    "> ```\n",
    ">\n",
    "> Alternatively, you can use the loss function `sparse_categorical_crossentropy` instead, which does expect integer targets.\n"
   ]
  },
  {
   "cell_type": "markdown",
   "metadata": {},
   "source": [
    "`to_categorical`은 One Hot Encoding하는 tensorflow의 함수이다.  \n",
    "scikit-learn의 `OneHotEncoder`와 같다.  \n",
    "\n",
    "앞서 인코딩 방식에 따라서 loss function이 달라진다고 언급했다.  \n",
    "target이 one hot enconding일 때만 `categorical_crossentropy`를 쓸 수 있다.  \n",
    "label encoding이면 `sparse_categorical_crossentropy` 써야 한다.  "
   ]
  },
  {
   "cell_type": "code",
   "execution_count": 52,
   "metadata": {},
   "outputs": [],
   "source": [
    "model.compile(optimizer=\"adam\", loss='sparse_categorical_crossentropy', metrics=[\"acc\"])"
   ]
  },
  {
   "cell_type": "code",
   "execution_count": 53,
   "metadata": {},
   "outputs": [
    {
     "name": "stdout",
     "output_type": "stream",
     "text": [
      "Train on 150 samples\n",
      "150/150 [==============================] - 1s 4ms/sample - loss: 1.4945 - acc: 0.3333\n"
     ]
    },
    {
     "data": {
      "text/plain": [
       "<tensorflow.python.keras.callbacks.History at 0x1fd8b7ea748>"
      ]
     },
     "execution_count": 53,
     "metadata": {},
     "output_type": "execute_result"
    }
   ],
   "source": [
    "model.fit(data.data, data.target) # iris 학습"
   ]
  },
  {
   "cell_type": "markdown",
   "metadata": {},
   "source": [
    "#### epoch"
   ]
  },
  {
   "cell_type": "markdown",
   "metadata": {},
   "source": [
    "딥러닝은 loss가 줄어드는 방향으로 parameter를 조금씩 업데이트해나가는 학습 방식이다.  \n",
    "모든 데이터를 사용해서 한번 학습하는 것을 epoch라고 한다.  \n",
    "epoch을 거듭할수록 loss가 줄어드는게 보인다."
   ]
  },
  {
   "cell_type": "code",
   "execution_count": 54,
   "metadata": {},
   "outputs": [
    {
     "name": "stdout",
     "output_type": "stream",
     "text": [
      "Train on 150 samples\n",
      "Epoch 1/10\n",
      "150/150 [==============================] - 0s 106us/sample - loss: 1.3516 - acc: 0.3333\n",
      "Epoch 2/10\n",
      "150/150 [==============================] - 0s 93us/sample - loss: 1.2294 - acc: 0.3333\n",
      "Epoch 3/10\n",
      "150/150 [==============================] - 0s 53us/sample - loss: 1.1321 - acc: 0.3333\n",
      "Epoch 4/10\n",
      "150/150 [==============================] - 0s 60us/sample - loss: 1.0541 - acc: 0.3333\n",
      "Epoch 5/10\n",
      "150/150 [==============================] - 0s 67us/sample - loss: 0.9962 - acc: 0.3333\n",
      "Epoch 6/10\n",
      "150/150 [==============================] - 0s 60us/sample - loss: 0.9500 - acc: 0.3333\n",
      "Epoch 7/10\n",
      "150/150 [==============================] - 0s 60us/sample - loss: 0.9110 - acc: 0.3533\n",
      "Epoch 8/10\n",
      "150/150 [==============================] - 0s 53us/sample - loss: 0.8786 - acc: 0.5600\n",
      "Epoch 9/10\n",
      "150/150 [==============================] - 0s 67us/sample - loss: 0.8493 - acc: 0.6533\n",
      "Epoch 10/10\n",
      "150/150 [==============================] - 0s 67us/sample - loss: 0.8251 - acc: 0.6533\n"
     ]
    },
    {
     "data": {
      "text/plain": [
       "<tensorflow.python.keras.callbacks.History at 0x1fd8bd7bc50>"
      ]
     },
     "execution_count": 54,
     "metadata": {},
     "output_type": "execute_result"
    }
   ],
   "source": [
    "model.fit(data.data, data.target, epochs=10)"
   ]
  },
  {
   "cell_type": "markdown",
   "metadata": {},
   "source": [
    "구조를 더 복잡하게 하면 성능이 더 좋아진다."
   ]
  },
  {
   "cell_type": "code",
   "execution_count": 55,
   "metadata": {},
   "outputs": [],
   "source": [
    "model = Sequential([\n",
    "    Dense(12, input_shape=(4,), activation=\"relu\"),\n",
    "    Dense(12, activation=\"relu\"),\n",
    "    Dense(12, activation=\"relu\"),\n",
    "    Dense(12, activation=\"relu\"),\n",
    "    Dense(3, activation=\"softmax\")\n",
    "])"
   ]
  },
  {
   "cell_type": "code",
   "execution_count": 56,
   "metadata": {},
   "outputs": [],
   "source": [
    "model.compile(optimize=\"adam\", loss=\"sparse_categorical_crossentropy\", metrics=[\"acc\"])"
   ]
  },
  {
   "cell_type": "code",
   "execution_count": 57,
   "metadata": {},
   "outputs": [
    {
     "name": "stdout",
     "output_type": "stream",
     "text": [
      "Train on 150 samples\n",
      "Epoch 1/10\n",
      "150/150 [==============================] - 1s 5ms/sample - loss: 1.0439 - acc: 0.3333\n",
      "Epoch 2/10\n",
      "150/150 [==============================] - 0s 67us/sample - loss: 1.0166 - acc: 0.3333\n",
      "Epoch 3/10\n",
      "150/150 [==============================] - 0s 80us/sample - loss: 0.9948 - acc: 0.3333\n",
      "Epoch 4/10\n",
      "150/150 [==============================] - 0s 80us/sample - loss: 0.9763 - acc: 0.3333\n",
      "Epoch 5/10\n",
      "150/150 [==============================] - 0s 60us/sample - loss: 0.9559 - acc: 0.3333\n",
      "Epoch 6/10\n",
      "150/150 [==============================] - 0s 60us/sample - loss: 0.9355 - acc: 0.3333\n",
      "Epoch 7/10\n",
      "150/150 [==============================] - 0s 73us/sample - loss: 0.9174 - acc: 0.3333\n",
      "Epoch 8/10\n",
      "150/150 [==============================] - 0s 80us/sample - loss: 0.8987 - acc: 0.3333\n",
      "Epoch 9/10\n",
      "150/150 [==============================] - 0s 60us/sample - loss: 0.8821 - acc: 0.4133\n",
      "Epoch 10/10\n",
      "150/150 [==============================] - 0s 80us/sample - loss: 0.8633 - acc: 0.4933\n"
     ]
    },
    {
     "data": {
      "text/plain": [
       "<tensorflow.python.keras.callbacks.History at 0x1fd8bdab0f0>"
      ]
     },
     "execution_count": 57,
     "metadata": {},
     "output_type": "execute_result"
    }
   ],
   "source": [
    "model.fit(data.data, data.target, epochs=10)"
   ]
  },
  {
   "cell_type": "markdown",
   "metadata": {},
   "source": [
    "Tensorflow tutorial에 있는 코드를 찬찬히 살펴보자.  \n",
    "거진 다 배웠던 내용이다. "
   ]
  },
  {
   "cell_type": "code",
   "execution_count": 58,
   "metadata": {},
   "outputs": [],
   "source": [
    "mnist = tf.keras.datasets.mnist\n",
    "\n",
    "(x_train, y_train), (x_test, y_test) = mnist.load_data()\n",
    "x_train, x_test = x_train / 255.0, x_test / 255.0 # 전처리\n",
    "                                                  # sciki-learn의 MinMaxScaler와 같음\n",
    "                                                  # 이미지는 0 ~ 255 사이의 값으로 구성되어 있음"
   ]
  },
  {
   "cell_type": "code",
   "execution_count": 59,
   "metadata": {},
   "outputs": [],
   "source": [
    "model = tf.keras.models.Sequential([\n",
    "  tf.keras.layers.Flatten(input_shape=(28, 28)), # Flatten은 데이터를 1차원으로 바꿔준다. \n",
    "                                                 # 우리는 Flatten 안쓰고 reshape으로 바꿀 수 있다.\n",
    "  tf.keras.layers.Dense(128, activation='relu'),\n",
    "  tf.keras.layers.Dropout(0.2), # 오버피팅을 막는 딥러닝만의 기법 (기계학습에 없음)\n",
    "  tf.keras.layers.Dense(10, activation='softmax')\n",
    "])\n",
    "\n",
    "model.compile(optimizer='adam',\n",
    "              loss='sparse_categorical_crossentropy',\n",
    "              metrics=['accuracy'])"
   ]
  },
  {
   "cell_type": "code",
   "execution_count": 60,
   "metadata": {},
   "outputs": [
    {
     "name": "stdout",
     "output_type": "stream",
     "text": [
      "Model: \"sequential_10\"\n",
      "_________________________________________________________________\n",
      "Layer (type)                 Output Shape              Param #   \n",
      "=================================================================\n",
      "flatten (Flatten)            (None, 784)               0         \n",
      "_________________________________________________________________\n",
      "dense_30 (Dense)             (None, 128)               100480    \n",
      "_________________________________________________________________\n",
      "dropout (Dropout)            (None, 128)               0         \n",
      "_________________________________________________________________\n",
      "dense_31 (Dense)             (None, 10)                1290      \n",
      "=================================================================\n",
      "Total params: 101,770\n",
      "Trainable params: 101,770\n",
      "Non-trainable params: 0\n",
      "_________________________________________________________________\n"
     ]
    }
   ],
   "source": [
    "model.summary()"
   ]
  },
  {
   "cell_type": "code",
   "execution_count": null,
   "metadata": {},
   "outputs": [],
   "source": []
  }
 ],
 "metadata": {
  "kernelspec": {
   "display_name": "Python 3",
   "language": "python",
   "name": "python3"
  },
  "language_info": {
   "codemirror_mode": {
    "name": "ipython",
    "version": 3
   },
   "file_extension": ".py",
   "mimetype": "text/x-python",
   "name": "python",
   "nbconvert_exporter": "python",
   "pygments_lexer": "ipython3",
   "version": "3.7.3"
  },
  "toc": {
   "base_numbering": 1,
   "nav_menu": {},
   "number_sections": true,
   "sideBar": true,
   "skip_h1_title": true,
   "title_cell": "Table of Contents",
   "title_sidebar": "Contents",
   "toc_cell": true,
   "toc_position": {},
   "toc_section_display": true,
   "toc_window_display": true
  },
  "varInspector": {
   "cols": {
    "lenName": 16,
    "lenType": 16,
    "lenVar": 40
   },
   "kernels_config": {
    "python": {
     "delete_cmd_postfix": "",
     "delete_cmd_prefix": "del ",
     "library": "var_list.py",
     "varRefreshCmd": "print(var_dic_list())"
    },
    "r": {
     "delete_cmd_postfix": ") ",
     "delete_cmd_prefix": "rm(",
     "library": "var_list.r",
     "varRefreshCmd": "cat(var_dic_list()) "
    }
   },
   "types_to_exclude": [
    "module",
    "function",
    "builtin_function_or_method",
    "instance",
    "_Feature"
   ],
   "window_display": false
  }
 },
 "nbformat": 4,
 "nbformat_minor": 2
}
