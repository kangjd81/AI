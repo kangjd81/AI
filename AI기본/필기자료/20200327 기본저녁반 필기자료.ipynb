{
 "cells": [
  {
   "cell_type": "markdown",
   "metadata": {
    "toc": true
   },
   "source": [
    "<h1>Table of Contents<span class=\"tocSkip\"></span></h1>\n",
    "<div class=\"toc\"><ul class=\"toc-item\"><li><span><a href=\"#Unsupervised-Learning\" data-toc-modified-id=\"Unsupervised-Learning-1\"><span class=\"toc-item-num\">1&nbsp;&nbsp;</span>Unsupervised Learning</a></span><ul class=\"toc-item\"><li><span><a href=\"#DBSCAN\" data-toc-modified-id=\"DBSCAN-1.1\"><span class=\"toc-item-num\">1.1&nbsp;&nbsp;</span>DBSCAN</a></span></li><li><span><a href=\"#KMeans\" data-toc-modified-id=\"KMeans-1.2\"><span class=\"toc-item-num\">1.2&nbsp;&nbsp;</span>KMeans</a></span></li><li><span><a href=\"#Agglomerative-Clustering(병합-군집화)\" data-toc-modified-id=\"Agglomerative-Clustering(병합-군집화)-1.3\"><span class=\"toc-item-num\">1.3&nbsp;&nbsp;</span>Agglomerative Clustering(병합 군집화)</a></span><ul class=\"toc-item\"><li><span><a href=\"#Dendrogram\" data-toc-modified-id=\"Dendrogram-1.3.1\"><span class=\"toc-item-num\">1.3.1&nbsp;&nbsp;</span>Dendrogram</a></span></li></ul></li><li><span><a href=\"#PCA-(Principle-Component-Analysis)\" data-toc-modified-id=\"PCA-(Principle-Component-Analysis)-1.4\"><span class=\"toc-item-num\">1.4&nbsp;&nbsp;</span>PCA (Principle Component Analysis)</a></span></li><li><span><a href=\"#t-sne\" data-toc-modified-id=\"t-sne-1.5\"><span class=\"toc-item-num\">1.5&nbsp;&nbsp;</span>t-sne</a></span></li></ul></li><li><span><a href=\"#Deep-Learning의-역사\" data-toc-modified-id=\"Deep-Learning의-역사-2\"><span class=\"toc-item-num\">2&nbsp;&nbsp;</span>Deep Learning의 역사</a></span></li></ul></div>"
   ]
  },
  {
   "cell_type": "markdown",
   "metadata": {},
   "source": [
    "# [AI 오픈 이노베이션] 기본 저녁반<a class=\"tocSkip\">\n",
    "GitHub link: [https://github.com/realblack0/ai_lecture_fundamental](https://github.com/realblack0/ai_lecture_fundamental)  \n",
    "E-Mail: realblack0@gmail.com"
   ]
  },
  {
   "cell_type": "markdown",
   "metadata": {},
   "source": [
    "## Unsupervised Learning"
   ]
  },
  {
   "cell_type": "code",
   "execution_count": 3,
   "metadata": {},
   "outputs": [],
   "source": [
    "from sklearn.datasets import load_iris\n",
    "import pandas as pd\n",
    "import numpy as np"
   ]
  },
  {
   "cell_type": "code",
   "execution_count": 4,
   "metadata": {},
   "outputs": [],
   "source": [
    "data = load_iris()"
   ]
  },
  {
   "cell_type": "code",
   "execution_count": 149,
   "metadata": {},
   "outputs": [],
   "source": [
    "iris = pd.DataFrame(data.data, columns=data.feature_names)"
   ]
  },
  {
   "cell_type": "code",
   "execution_count": 6,
   "metadata": {},
   "outputs": [
    {
     "data": {
      "text/html": [
       "<div>\n",
       "<style scoped>\n",
       "    .dataframe tbody tr th:only-of-type {\n",
       "        vertical-align: middle;\n",
       "    }\n",
       "\n",
       "    .dataframe tbody tr th {\n",
       "        vertical-align: top;\n",
       "    }\n",
       "\n",
       "    .dataframe thead th {\n",
       "        text-align: right;\n",
       "    }\n",
       "</style>\n",
       "<table border=\"1\" class=\"dataframe\">\n",
       "  <thead>\n",
       "    <tr style=\"text-align: right;\">\n",
       "      <th></th>\n",
       "      <th>sepal length (cm)</th>\n",
       "      <th>sepal width (cm)</th>\n",
       "      <th>petal length (cm)</th>\n",
       "      <th>petal width (cm)</th>\n",
       "    </tr>\n",
       "  </thead>\n",
       "  <tbody>\n",
       "    <tr>\n",
       "      <th>0</th>\n",
       "      <td>5.1</td>\n",
       "      <td>3.5</td>\n",
       "      <td>1.4</td>\n",
       "      <td>0.2</td>\n",
       "    </tr>\n",
       "    <tr>\n",
       "      <th>1</th>\n",
       "      <td>4.9</td>\n",
       "      <td>3.0</td>\n",
       "      <td>1.4</td>\n",
       "      <td>0.2</td>\n",
       "    </tr>\n",
       "    <tr>\n",
       "      <th>2</th>\n",
       "      <td>4.7</td>\n",
       "      <td>3.2</td>\n",
       "      <td>1.3</td>\n",
       "      <td>0.2</td>\n",
       "    </tr>\n",
       "    <tr>\n",
       "      <th>3</th>\n",
       "      <td>4.6</td>\n",
       "      <td>3.1</td>\n",
       "      <td>1.5</td>\n",
       "      <td>0.2</td>\n",
       "    </tr>\n",
       "    <tr>\n",
       "      <th>4</th>\n",
       "      <td>5.0</td>\n",
       "      <td>3.6</td>\n",
       "      <td>1.4</td>\n",
       "      <td>0.2</td>\n",
       "    </tr>\n",
       "    <tr>\n",
       "      <th>...</th>\n",
       "      <td>...</td>\n",
       "      <td>...</td>\n",
       "      <td>...</td>\n",
       "      <td>...</td>\n",
       "    </tr>\n",
       "    <tr>\n",
       "      <th>145</th>\n",
       "      <td>6.7</td>\n",
       "      <td>3.0</td>\n",
       "      <td>5.2</td>\n",
       "      <td>2.3</td>\n",
       "    </tr>\n",
       "    <tr>\n",
       "      <th>146</th>\n",
       "      <td>6.3</td>\n",
       "      <td>2.5</td>\n",
       "      <td>5.0</td>\n",
       "      <td>1.9</td>\n",
       "    </tr>\n",
       "    <tr>\n",
       "      <th>147</th>\n",
       "      <td>6.5</td>\n",
       "      <td>3.0</td>\n",
       "      <td>5.2</td>\n",
       "      <td>2.0</td>\n",
       "    </tr>\n",
       "    <tr>\n",
       "      <th>148</th>\n",
       "      <td>6.2</td>\n",
       "      <td>3.4</td>\n",
       "      <td>5.4</td>\n",
       "      <td>2.3</td>\n",
       "    </tr>\n",
       "    <tr>\n",
       "      <th>149</th>\n",
       "      <td>5.9</td>\n",
       "      <td>3.0</td>\n",
       "      <td>5.1</td>\n",
       "      <td>1.8</td>\n",
       "    </tr>\n",
       "  </tbody>\n",
       "</table>\n",
       "<p>150 rows × 4 columns</p>\n",
       "</div>"
      ],
      "text/plain": [
       "     sepal length (cm)  sepal width (cm)  petal length (cm)  petal width (cm)\n",
       "0                  5.1               3.5                1.4               0.2\n",
       "1                  4.9               3.0                1.4               0.2\n",
       "2                  4.7               3.2                1.3               0.2\n",
       "3                  4.6               3.1                1.5               0.2\n",
       "4                  5.0               3.6                1.4               0.2\n",
       "..                 ...               ...                ...               ...\n",
       "145                6.7               3.0                5.2               2.3\n",
       "146                6.3               2.5                5.0               1.9\n",
       "147                6.5               3.0                5.2               2.0\n",
       "148                6.2               3.4                5.4               2.3\n",
       "149                5.9               3.0                5.1               1.8\n",
       "\n",
       "[150 rows x 4 columns]"
      ]
     },
     "execution_count": 6,
     "metadata": {},
     "output_type": "execute_result"
    }
   ],
   "source": [
    "# 비지도 학습이니까 target 빼고 가져오기\n",
    "iris"
   ]
  },
  {
   "cell_type": "markdown",
   "metadata": {},
   "source": [
    "### DBSCAN"
   ]
  },
  {
   "cell_type": "markdown",
   "metadata": {},
   "source": [
    "DBSCAN은 밀도 기반으로 데이터를 군집화한다.  \n",
    "어느 데이터를 기준으로 반경 $\\epsilon$내에 다른 데이터가 $n$개 이상 있으면 하나의 군집으로 인식하는 방식이다.  \n",
    "$\\epsilon$은 하이퍼파라미터 `eps`이고, $n$은 하이퍼파라미터 `min_samples`이다."
   ]
  },
  {
   "cell_type": "code",
   "execution_count": 50,
   "metadata": {},
   "outputs": [],
   "source": [
    "import mglearn"
   ]
  },
  {
   "cell_type": "code",
   "execution_count": 51,
   "metadata": {},
   "outputs": [
    {
     "name": "stdout",
     "output_type": "stream",
     "text": [
      "min_samples: 2 eps: 1.000000  cluster: [-1  0  0 -1  0 -1  1  1  0  1 -1 -1]\n",
      "min_samples: 2 eps: 1.500000  cluster: [0 1 1 1 1 0 2 2 1 2 2 0]\n",
      "min_samples: 2 eps: 2.000000  cluster: [0 1 1 1 1 0 0 0 1 0 0 0]\n",
      "min_samples: 2 eps: 3.000000  cluster: [0 0 0 0 0 0 0 0 0 0 0 0]\n",
      "min_samples: 3 eps: 1.000000  cluster: [-1  0  0 -1  0 -1  1  1  0  1 -1 -1]\n",
      "min_samples: 3 eps: 1.500000  cluster: [0 1 1 1 1 0 2 2 1 2 2 0]\n",
      "min_samples: 3 eps: 2.000000  cluster: [0 1 1 1 1 0 0 0 1 0 0 0]\n",
      "min_samples: 3 eps: 3.000000  cluster: [0 0 0 0 0 0 0 0 0 0 0 0]\n",
      "min_samples: 5 eps: 1.000000  cluster: [-1 -1 -1 -1 -1 -1 -1 -1 -1 -1 -1 -1]\n",
      "min_samples: 5 eps: 1.500000  cluster: [-1  0  0  0  0 -1 -1 -1  0 -1 -1 -1]\n",
      "min_samples: 5 eps: 2.000000  cluster: [-1  0  0  0  0 -1 -1 -1  0 -1 -1 -1]\n",
      "min_samples: 5 eps: 3.000000  cluster: [0 0 0 0 0 0 0 0 0 0 0 0]\n"
     ]
    },
    {
     "data": {
      "image/png": "[encoded data removed]",
      "text/plain": [
       "<Figure size 792x576 with 12 Axes>"
      ]
     },
     "metadata": {},
     "output_type": "display_data"
    }
   ],
   "source": [
    "mglearn.plot_dbscan.plot_dbscan()"
   ]
  },
  {
   "cell_type": "markdown",
   "metadata": {},
   "source": [
    "소문자 `dbscan`은 함수이고, 대문자 `DBSCAN`은 클래스 이다.  \n",
    "클래스는 인스턴스하고 `fit_transform`하면 되기 때문에 다른 알고리즘처럼 쓸 수 있다."
   ]
  },
  {
   "cell_type": "code",
   "execution_count": 1,
   "metadata": {},
   "outputs": [],
   "source": [
    "from sklearn.cluster import DBSCAN, dbscan "
   ]
  },
  {
   "cell_type": "code",
   "execution_count": 2,
   "metadata": {},
   "outputs": [],
   "source": [
    "dbs = DBSCAN() # 하이퍼 파라미터는 default value 사용"
   ]
  },
  {
   "cell_type": "code",
   "execution_count": 11,
   "metadata": {},
   "outputs": [
    {
     "data": {
      "text/plain": [
       "array([ 0,  0,  0,  0,  0,  0,  0,  0,  0,  0,  0,  0,  0,  0,  0,  0,  0,\n",
       "        0,  0,  0,  0,  0,  0,  0,  0,  0,  0,  0,  0,  0,  0,  0,  0,  0,\n",
       "        0,  0,  0,  0,  0,  0,  0, -1,  0,  0,  0,  0,  0,  0,  0,  0,  1,\n",
       "        1,  1,  1,  1,  1,  1, -1,  1,  1, -1,  1,  1,  1,  1,  1,  1,  1,\n",
       "       -1,  1,  1,  1,  1,  1,  1,  1,  1,  1,  1,  1,  1,  1,  1,  1,  1,\n",
       "        1,  1, -1,  1,  1,  1,  1,  1, -1,  1,  1,  1,  1, -1,  1,  1,  1,\n",
       "        1,  1,  1, -1, -1,  1, -1, -1,  1,  1,  1,  1,  1,  1,  1, -1, -1,\n",
       "        1,  1,  1, -1,  1,  1,  1,  1,  1,  1,  1,  1, -1,  1,  1, -1, -1,\n",
       "        1,  1,  1,  1,  1,  1,  1,  1,  1,  1,  1,  1,  1,  1],\n",
       "      dtype=int64)"
      ]
     },
     "execution_count": 11,
     "metadata": {},
     "output_type": "execute_result"
    }
   ],
   "source": [
    "dbs.fit_predict(iris) "
   ]
  },
  {
   "cell_type": "markdown",
   "metadata": {},
   "source": [
    "몇개로 나눴는지는 `unique`로 한번에 볼 수 있다. 데이터 많으면 일일히 확인할 수 없으므로 이 기법 알아야한다."
   ]
  },
  {
   "cell_type": "code",
   "execution_count": 12,
   "metadata": {},
   "outputs": [
    {
     "data": {
      "text/plain": [
       "array([-1,  0,  1], dtype=int64)"
      ]
     },
     "execution_count": 12,
     "metadata": {},
     "output_type": "execute_result"
    }
   ],
   "source": [
    "np.unique(dbs.fit_predict(iris))"
   ]
  },
  {
   "cell_type": "markdown",
   "metadata": {},
   "source": [
    "default가 가장 성능 좋다? 아니다.  \n",
    "시행착오를 많이 해봐야한다."
   ]
  },
  {
   "cell_type": "code",
   "execution_count": 13,
   "metadata": {},
   "outputs": [],
   "source": [
    "dbs = DBSCAN(eps=2, min_samples=5)"
   ]
  },
  {
   "cell_type": "code",
   "execution_count": 14,
   "metadata": {},
   "outputs": [
    {
     "data": {
      "text/plain": [
       "array([0, 0, 0, 0, 0, 0, 0, 0, 0, 0, 0, 0, 0, 0, 0, 0, 0, 0, 0, 0, 0, 0,\n",
       "       0, 0, 0, 0, 0, 0, 0, 0, 0, 0, 0, 0, 0, 0, 0, 0, 0, 0, 0, 0, 0, 0,\n",
       "       0, 0, 0, 0, 0, 0, 0, 0, 0, 0, 0, 0, 0, 0, 0, 0, 0, 0, 0, 0, 0, 0,\n",
       "       0, 0, 0, 0, 0, 0, 0, 0, 0, 0, 0, 0, 0, 0, 0, 0, 0, 0, 0, 0, 0, 0,\n",
       "       0, 0, 0, 0, 0, 0, 0, 0, 0, 0, 0, 0, 0, 0, 0, 0, 0, 0, 0, 0, 0, 0,\n",
       "       0, 0, 0, 0, 0, 0, 0, 0, 0, 0, 0, 0, 0, 0, 0, 0, 0, 0, 0, 0, 0, 0,\n",
       "       0, 0, 0, 0, 0, 0, 0, 0, 0, 0, 0, 0, 0, 0, 0, 0, 0, 0], dtype=int64)"
      ]
     },
     "execution_count": 14,
     "metadata": {},
     "output_type": "execute_result"
    }
   ],
   "source": [
    "dbs.fit_predict(iris)"
   ]
  },
  {
   "cell_type": "code",
   "execution_count": 15,
   "metadata": {},
   "outputs": [
    {
     "data": {
      "text/plain": [
       "array([0], dtype=int64)"
      ]
     },
     "execution_count": 15,
     "metadata": {},
     "output_type": "execute_result"
    }
   ],
   "source": [
    "np.unique(dbs.fit_predict(iris))"
   ]
  },
  {
   "cell_type": "code",
   "execution_count": 18,
   "metadata": {},
   "outputs": [],
   "source": [
    "dbs = DBSCAN(eps=1, min_samples=3)"
   ]
  },
  {
   "cell_type": "code",
   "execution_count": 19,
   "metadata": {},
   "outputs": [
    {
     "data": {
      "text/plain": [
       "array([0, 0, 0, 0, 0, 0, 0, 0, 0, 0, 0, 0, 0, 0, 0, 0, 0, 0, 0, 0, 0, 0,\n",
       "       0, 0, 0, 0, 0, 0, 0, 0, 0, 0, 0, 0, 0, 0, 0, 0, 0, 0, 0, 0, 0, 0,\n",
       "       0, 0, 0, 0, 0, 0, 1, 1, 1, 1, 1, 1, 1, 1, 1, 1, 1, 1, 1, 1, 1, 1,\n",
       "       1, 1, 1, 1, 1, 1, 1, 1, 1, 1, 1, 1, 1, 1, 1, 1, 1, 1, 1, 1, 1, 1,\n",
       "       1, 1, 1, 1, 1, 1, 1, 1, 1, 1, 1, 1, 1, 1, 1, 1, 1, 1, 1, 1, 1, 1,\n",
       "       1, 1, 1, 1, 1, 1, 1, 1, 1, 1, 1, 1, 1, 1, 1, 1, 1, 1, 1, 1, 1, 1,\n",
       "       1, 1, 1, 1, 1, 1, 1, 1, 1, 1, 1, 1, 1, 1, 1, 1, 1, 1], dtype=int64)"
      ]
     },
     "execution_count": 19,
     "metadata": {},
     "output_type": "execute_result"
    }
   ],
   "source": [
    "dbs.fit_predict(iris)"
   ]
  },
  {
   "cell_type": "code",
   "execution_count": 20,
   "metadata": {},
   "outputs": [
    {
     "data": {
      "text/plain": [
       "array([0, 1], dtype=int64)"
      ]
     },
     "execution_count": 20,
     "metadata": {},
     "output_type": "execute_result"
    }
   ],
   "source": [
    "np.unique(dbs.fit_predict(iris))"
   ]
  },
  {
   "cell_type": "markdown",
   "metadata": {},
   "source": [
    "clustering할 때는 데이터의 분포 모양을 보고 몇 묶음을 만들 것인지 생각해야 한다.  \n",
    "지도학습에서는 `pairplot`을 보고 라벨링된 target 묶음을 어떻게 분류할 지를 판단했지만 (linear or non-linear)  \n",
    "비지도 학습에서는 `pairplot`을 보고 어떻게 묶을 수 있을지 생각해야 한다."
   ]
  },
  {
   "cell_type": "code",
   "execution_count": 83,
   "metadata": {},
   "outputs": [],
   "source": [
    "import seaborn as sns"
   ]
  },
  {
   "cell_type": "markdown",
   "metadata": {},
   "source": [
    "`hue`가 없기 떄문에 그래프를 보고 분석하기가 어렵다. "
   ]
  },
  {
   "cell_type": "code",
   "execution_count": 59,
   "metadata": {},
   "outputs": [
    {
     "data": {
      "text/plain": [
       "<seaborn.axisgrid.PairGrid at 0x23d8d04f048>"
      ]
     },
     "execution_count": 59,
     "metadata": {},
     "output_type": "execute_result"
    },
    {
     "data": {
      "image/png": "[encoded data removed]",
      "text/plain": [
       "<Figure size 720x720 with 20 Axes>"
      ]
     },
     "metadata": {
      "needs_background": "light"
     },
     "output_type": "display_data"
    }
   ],
   "source": [
    "sns.pairplot(iris) "
   ]
  },
  {
   "cell_type": "markdown",
   "metadata": {},
   "source": [
    "보통 위 그래프를 보면 2개로 묶을 수 있다는 생각이 든다.  \n",
    "하지만, \"차원\"을 생각해야 한다.  \n",
    "그래프는 2차원 평면이기 때문에 함정에 빠지기 쉽다.\n",
    "\n",
    "한 차원이라고 생각하면 분리되지만,  \n",
    "예를 들어 3차원일때 x축으로 구분되고, y축으로 구분되고, z축으로 봐도 구분되면 2개 이상으로 나눠질지도 모른다.  "
   ]
  },
  {
   "cell_type": "code",
   "execution_count": 134,
   "metadata": {},
   "outputs": [],
   "source": [
    "import matplotlib.pyplot as plt\n",
    "from mpl_toolkits.mplot3d import Axes3D\n",
    "\n",
    "x = np.array([1, 2, 3, 4, 5, 6, 7, 8, 11, 12, 13, 14, 15, 16, 17, 18])\n",
    "y = np.array([1, 2, 3, 4, 5, 6, 7, 8, 1, 2, 3, 4, 15, 16, 17, 18])\n",
    "z = np.array([1, 1, 1, 1, 2, 2, 2, 2, 1, 1, 1, 1, 1, 1, 1, 1])\n",
    "\n",
    "temp = np.stack([x,y,z], axis=1)\n",
    "temp = pd.DataFrame(temp, columns=[\"x\", \"y\", \"z\"])"
   ]
  },
  {
   "cell_type": "markdown",
   "metadata": {},
   "source": [
    "예를 들어, 이 임의의 데이터는 각 차원 하나만 놓고 생각하면 2개로 분리되지만,  "
   ]
  },
  {
   "cell_type": "code",
   "execution_count": 136,
   "metadata": {},
   "outputs": [
    {
     "data": {
      "image/png": "[encoded data removed]",
      "text/plain": [
       "<Figure size 432x288 with 3 Axes>"
      ]
     },
     "metadata": {
      "needs_background": "light"
     },
     "output_type": "display_data"
    }
   ],
   "source": [
    "plt.subplot(311)\n",
    "plt.scatter(temp.x, np.zeros_like(temp.x))\n",
    "plt.title(\"x\")\n",
    "\n",
    "plt.subplot(312)\n",
    "plt.scatter(temp.y, np.zeros_like(temp.y))\n",
    "plt.title(\"y\")\n",
    "\n",
    "plt.subplot(313)\n",
    "plt.scatter(temp.z, np.zeros_like(temp.z))\n",
    "plt.title(\"z\")\n",
    "\n",
    "plt.tight_layout()"
   ]
  },
  {
   "cell_type": "markdown",
   "metadata": {},
   "source": [
    "2차원으로 보면 3개로 묶을 수도 있다."
   ]
  },
  {
   "cell_type": "code",
   "execution_count": 132,
   "metadata": {},
   "outputs": [
    {
     "data": {
      "text/plain": [
       "<seaborn.axisgrid.PairGrid at 0x2b7a6a33ba8>"
      ]
     },
     "execution_count": 132,
     "metadata": {},
     "output_type": "execute_result"
    },
    {
     "data": {
      "image/png": "[encoded data removed]",
      "text/plain": [
       "<Figure size 540x540 with 12 Axes>"
      ]
     },
     "metadata": {
      "needs_background": "light"
     },
     "output_type": "display_data"
    }
   ],
   "source": [
    "sns.pairplot(temp)"
   ]
  },
  {
   "cell_type": "markdown",
   "metadata": {},
   "source": [
    "3차원으로 보면 4개로 묶을 수 있다."
   ]
  },
  {
   "cell_type": "code",
   "execution_count": 114,
   "metadata": {},
   "outputs": [
    {
     "data": {
      "text/plain": [
       "<mpl_toolkits.mplot3d.art3d.Path3DCollection at 0x2b7a21f2588>"
      ]
     },
     "execution_count": 114,
     "metadata": {},
     "output_type": "execute_result"
    },
    {
     "data": {
      "image/png": "[encoded data removed]",
      "text/plain": [
       "<Figure size 432x288 with 1 Axes>"
      ]
     },
     "metadata": {
      "needs_background": "light"
     },
     "output_type": "display_data"
    }
   ],
   "source": [
    "fig = plt.figure()\n",
    "ax = fig.gca(projection='3d')\n",
    "ax.scatter(temp.x, temp.y, temp.z)"
   ]
  },
  {
   "cell_type": "markdown",
   "metadata": {},
   "source": [
    "데이터를 어떻게 묶는 것이 좋은지는 모른다.\n",
    "결국, 해봐야 안다. "
   ]
  },
  {
   "cell_type": "markdown",
   "metadata": {},
   "source": [
    "clustering 후에 `hue`를 써서 잘 분류되었는지 확인할 수 있다."
   ]
  },
  {
   "cell_type": "code",
   "execution_count": 150,
   "metadata": {},
   "outputs": [],
   "source": [
    "dbs = DBSCAN(eps=0.5, min_samples=5)"
   ]
  },
  {
   "cell_type": "code",
   "execution_count": 151,
   "metadata": {},
   "outputs": [],
   "source": [
    "iris[\"target_dbscan\"] = dbs.fit_predict(iris)"
   ]
  },
  {
   "cell_type": "code",
   "execution_count": 159,
   "metadata": {},
   "outputs": [
    {
     "data": {
      "text/plain": [
       "<seaborn.axisgrid.PairGrid at 0x2b7a7c825c0>"
      ]
     },
     "execution_count": 159,
     "metadata": {},
     "output_type": "execute_result"
    },
    {
     "data": {
      "image/png": "[encoded data removed]",
      "text/plain": [
       "<Figure size 799.375x720 with 20 Axes>"
      ]
     },
     "metadata": {
      "needs_background": "light"
     },
     "output_type": "display_data"
    }
   ],
   "source": [
    "sns.pairplot(iris, hue=\"target_dbscan\")"
   ]
  },
  {
   "cell_type": "markdown",
   "metadata": {},
   "source": [
    "unsupervised는 딥러닝 이전에서는 큰 성공이 없었다. "
   ]
  },
  {
   "cell_type": "markdown",
   "metadata": {},
   "source": [
    "### KMeans"
   ]
  },
  {
   "cell_type": "code",
   "execution_count": 174,
   "metadata": {},
   "outputs": [],
   "source": [
    "from sklearn.cluster import KMeans"
   ]
  },
  {
   "cell_type": "code",
   "execution_count": 152,
   "metadata": {},
   "outputs": [],
   "source": [
    "kms = KMeans(3)"
   ]
  },
  {
   "cell_type": "code",
   "execution_count": 158,
   "metadata": {},
   "outputs": [
    {
     "data": {
      "text/plain": [
       "array([1, 1, 1, 1, 1, 1, 1, 1, 1, 1, 1, 1, 1, 1, 1, 1, 1, 1, 1, 1, 1, 1,\n",
       "       1, 1, 1, 1, 1, 1, 1, 1, 1, 1, 1, 1, 1, 1, 1, 1, 1, 1, 1, 1, 1, 1,\n",
       "       1, 1, 1, 1, 1, 1, 2, 2, 0, 2, 2, 2, 2, 2, 2, 2, 2, 2, 2, 2, 2, 2,\n",
       "       2, 2, 2, 2, 2, 2, 2, 2, 2, 2, 2, 0, 2, 2, 2, 2, 2, 2, 2, 2, 2, 2,\n",
       "       2, 2, 2, 2, 2, 2, 2, 2, 2, 2, 2, 2, 0, 2, 0, 0, 0, 0, 2, 0, 0, 0,\n",
       "       0, 0, 0, 2, 2, 0, 0, 0, 0, 2, 0, 2, 0, 2, 0, 0, 2, 2, 0, 0, 0, 0,\n",
       "       0, 2, 0, 0, 0, 0, 2, 0, 0, 0, 2, 0, 0, 0, 2, 0, 0, 2])"
      ]
     },
     "execution_count": 158,
     "metadata": {},
     "output_type": "execute_result"
    }
   ],
   "source": [
    "kms.fit_predict(iris.iloc[:, :-1])"
   ]
  },
  {
   "cell_type": "markdown",
   "metadata": {},
   "source": [
    "DataFrame에 추가한다."
   ]
  },
  {
   "cell_type": "code",
   "execution_count": 160,
   "metadata": {},
   "outputs": [],
   "source": [
    "iris[\"target_kmeans\"] = kms.fit_predict(iris.iloc[:, :-1])"
   ]
  },
  {
   "cell_type": "markdown",
   "metadata": {},
   "source": [
    "두 결과를 비교해서 라벨을 맞춰준다."
   ]
  },
  {
   "cell_type": "code",
   "execution_count": 161,
   "metadata": {},
   "outputs": [
    {
     "data": {
      "text/plain": [
       "array([1, 1, 1, 1, 1, 1, 1, 1, 1, 1, 1, 1, 1, 1, 1, 1, 1, 1, 1, 1, 1, 1,\n",
       "       1, 1, 1, 1, 1, 1, 1, 1, 1, 1, 1, 1, 1, 1, 1, 1, 1, 1, 1, 1, 1, 1,\n",
       "       1, 1, 1, 1, 1, 1, 2, 2, 0, 2, 2, 2, 2, 2, 2, 2, 2, 2, 2, 2, 2, 2,\n",
       "       2, 2, 2, 2, 2, 2, 2, 2, 2, 2, 2, 0, 2, 2, 2, 2, 2, 2, 2, 2, 2, 2,\n",
       "       2, 2, 2, 2, 2, 2, 2, 2, 2, 2, 2, 2, 0, 2, 0, 0, 0, 0, 2, 0, 0, 0,\n",
       "       0, 0, 0, 2, 2, 0, 0, 0, 0, 2, 0, 2, 0, 2, 0, 0, 2, 2, 0, 0, 0, 0,\n",
       "       0, 2, 0, 0, 0, 0, 2, 0, 0, 0, 2, 0, 0, 0, 2, 0, 0, 2])"
      ]
     },
     "execution_count": 161,
     "metadata": {},
     "output_type": "execute_result"
    }
   ],
   "source": [
    "iris.target_kmeans.values # kmeans는 random_state를 지정하지 않으면 매번 달라지므로 재확인"
   ]
  },
  {
   "cell_type": "code",
   "execution_count": 162,
   "metadata": {},
   "outputs": [
    {
     "data": {
      "text/plain": [
       "array([ 0,  0,  0,  0,  0,  0,  0,  0,  0,  0,  0,  0,  0,  0,  0,  0,  0,\n",
       "        0,  0,  0,  0,  0,  0,  0,  0,  0,  0,  0,  0,  0,  0,  0,  0,  0,\n",
       "        0,  0,  0,  0,  0,  0,  0, -1,  0,  0,  0,  0,  0,  0,  0,  0,  1,\n",
       "        1,  1,  1,  1,  1,  1, -1,  1,  1, -1,  1,  1,  1,  1,  1,  1,  1,\n",
       "       -1,  1,  1,  1,  1,  1,  1,  1,  1,  1,  1,  1,  1,  1,  1,  1,  1,\n",
       "        1,  1, -1,  1,  1,  1,  1,  1, -1,  1,  1,  1,  1, -1,  1,  1,  1,\n",
       "        1,  1,  1, -1, -1,  1, -1, -1,  1,  1,  1,  1,  1,  1,  1, -1, -1,\n",
       "        1,  1,  1, -1,  1,  1,  1,  1,  1,  1,  1,  1, -1,  1,  1, -1, -1,\n",
       "        1,  1,  1,  1,  1,  1,  1,  1,  1,  1,  1,  1,  1,  1],\n",
       "      dtype=int64)"
      ]
     },
     "execution_count": 162,
     "metadata": {},
     "output_type": "execute_result"
    }
   ],
   "source": [
    "iris.target_dbscan.values # 숫자"
   ]
  },
  {
   "cell_type": "code",
   "execution_count": 163,
   "metadata": {},
   "outputs": [],
   "source": [
    "iris.target_kmeans = iris.target_kmeans.map({1:\"A\", 2:\"B\", 0:\"C\"})"
   ]
  },
  {
   "cell_type": "code",
   "execution_count": 164,
   "metadata": {},
   "outputs": [],
   "source": [
    "iris.target_dbscan = iris.target_dbscan.map({0:\"A\", -1:\"B\", 1:\"C\"})"
   ]
  },
  {
   "cell_type": "markdown",
   "metadata": {},
   "source": [
    "`array_equal`은 전체가 같은지 비교한다."
   ]
  },
  {
   "cell_type": "code",
   "execution_count": 143,
   "metadata": {},
   "outputs": [
    {
     "data": {
      "text/plain": [
       "False"
      ]
     },
     "execution_count": 143,
     "metadata": {},
     "output_type": "execute_result"
    }
   ],
   "source": [
    "np.array_equal(iris.target_dbscan, iris.target_kmeans)"
   ]
  },
  {
   "cell_type": "markdown",
   "metadata": {},
   "source": [
    "`equal`은 원소별로 같은지 비교한다."
   ]
  },
  {
   "cell_type": "code",
   "execution_count": 165,
   "metadata": {},
   "outputs": [
    {
     "data": {
      "text/plain": [
       "0       True\n",
       "1       True\n",
       "2       True\n",
       "3       True\n",
       "4       True\n",
       "       ...  \n",
       "145     True\n",
       "146    False\n",
       "147     True\n",
       "148     True\n",
       "149    False\n",
       "Length: 150, dtype: bool"
      ]
     },
     "execution_count": 165,
     "metadata": {},
     "output_type": "execute_result"
    }
   ],
   "source": [
    "np.equal(iris.target_dbscan, iris.target_kmeans)\n",
    "# iris.target_dbscan == iris.target_kmeans       # 결과 같음"
   ]
  },
  {
   "cell_type": "markdown",
   "metadata": {},
   "source": [
    "다른지 비교할 때는 `!=`를 사용한다."
   ]
  },
  {
   "cell_type": "code",
   "execution_count": 166,
   "metadata": {},
   "outputs": [
    {
     "data": {
      "text/plain": [
       "0      False\n",
       "1      False\n",
       "2      False\n",
       "3      False\n",
       "4      False\n",
       "       ...  \n",
       "145    False\n",
       "146     True\n",
       "147    False\n",
       "148    False\n",
       "149     True\n",
       "Length: 150, dtype: bool"
      ]
     },
     "execution_count": 166,
     "metadata": {},
     "output_type": "execute_result"
    }
   ],
   "source": [
    "iris.target_dbscan != iris.target_kmeans # 같지 않은 것"
   ]
  },
  {
   "cell_type": "markdown",
   "metadata": {},
   "source": [
    "boolean indexing으로 예측이 다른 것만 뽑아보자.\n",
    "A는 잘 맞췄는데, B와 C는 틀린게 많은 것 같다."
   ]
  },
  {
   "cell_type": "code",
   "execution_count": 167,
   "metadata": {},
   "outputs": [
    {
     "data": {
      "text/html": [
       "<div>\n",
       "<style scoped>\n",
       "    .dataframe tbody tr th:only-of-type {\n",
       "        vertical-align: middle;\n",
       "    }\n",
       "\n",
       "    .dataframe tbody tr th {\n",
       "        vertical-align: top;\n",
       "    }\n",
       "\n",
       "    .dataframe thead th {\n",
       "        text-align: right;\n",
       "    }\n",
       "</style>\n",
       "<table border=\"1\" class=\"dataframe\">\n",
       "  <thead>\n",
       "    <tr style=\"text-align: right;\">\n",
       "      <th></th>\n",
       "      <th>sepal length (cm)</th>\n",
       "      <th>sepal width (cm)</th>\n",
       "      <th>petal length (cm)</th>\n",
       "      <th>petal width (cm)</th>\n",
       "      <th>target_dbscan</th>\n",
       "      <th>target_kmeans</th>\n",
       "    </tr>\n",
       "  </thead>\n",
       "  <tbody>\n",
       "    <tr>\n",
       "      <th>41</th>\n",
       "      <td>4.5</td>\n",
       "      <td>2.3</td>\n",
       "      <td>1.3</td>\n",
       "      <td>0.3</td>\n",
       "      <td>B</td>\n",
       "      <td>A</td>\n",
       "    </tr>\n",
       "    <tr>\n",
       "      <th>50</th>\n",
       "      <td>7.0</td>\n",
       "      <td>3.2</td>\n",
       "      <td>4.7</td>\n",
       "      <td>1.4</td>\n",
       "      <td>C</td>\n",
       "      <td>B</td>\n",
       "    </tr>\n",
       "    <tr>\n",
       "      <th>51</th>\n",
       "      <td>6.4</td>\n",
       "      <td>3.2</td>\n",
       "      <td>4.5</td>\n",
       "      <td>1.5</td>\n",
       "      <td>C</td>\n",
       "      <td>B</td>\n",
       "    </tr>\n",
       "    <tr>\n",
       "      <th>53</th>\n",
       "      <td>5.5</td>\n",
       "      <td>2.3</td>\n",
       "      <td>4.0</td>\n",
       "      <td>1.3</td>\n",
       "      <td>C</td>\n",
       "      <td>B</td>\n",
       "    </tr>\n",
       "    <tr>\n",
       "      <th>54</th>\n",
       "      <td>6.5</td>\n",
       "      <td>2.8</td>\n",
       "      <td>4.6</td>\n",
       "      <td>1.5</td>\n",
       "      <td>C</td>\n",
       "      <td>B</td>\n",
       "    </tr>\n",
       "    <tr>\n",
       "      <th>...</th>\n",
       "      <td>...</td>\n",
       "      <td>...</td>\n",
       "      <td>...</td>\n",
       "      <td>...</td>\n",
       "      <td>...</td>\n",
       "      <td>...</td>\n",
       "    </tr>\n",
       "    <tr>\n",
       "      <th>135</th>\n",
       "      <td>7.7</td>\n",
       "      <td>3.0</td>\n",
       "      <td>6.1</td>\n",
       "      <td>2.3</td>\n",
       "      <td>B</td>\n",
       "      <td>C</td>\n",
       "    </tr>\n",
       "    <tr>\n",
       "      <th>138</th>\n",
       "      <td>6.0</td>\n",
       "      <td>3.0</td>\n",
       "      <td>4.8</td>\n",
       "      <td>1.8</td>\n",
       "      <td>C</td>\n",
       "      <td>B</td>\n",
       "    </tr>\n",
       "    <tr>\n",
       "      <th>142</th>\n",
       "      <td>5.8</td>\n",
       "      <td>2.7</td>\n",
       "      <td>5.1</td>\n",
       "      <td>1.9</td>\n",
       "      <td>C</td>\n",
       "      <td>B</td>\n",
       "    </tr>\n",
       "    <tr>\n",
       "      <th>146</th>\n",
       "      <td>6.3</td>\n",
       "      <td>2.5</td>\n",
       "      <td>5.0</td>\n",
       "      <td>1.9</td>\n",
       "      <td>C</td>\n",
       "      <td>B</td>\n",
       "    </tr>\n",
       "    <tr>\n",
       "      <th>149</th>\n",
       "      <td>5.9</td>\n",
       "      <td>3.0</td>\n",
       "      <td>5.1</td>\n",
       "      <td>1.8</td>\n",
       "      <td>C</td>\n",
       "      <td>B</td>\n",
       "    </tr>\n",
       "  </tbody>\n",
       "</table>\n",
       "<p>65 rows × 6 columns</p>\n",
       "</div>"
      ],
      "text/plain": [
       "     sepal length (cm)  sepal width (cm)  petal length (cm)  petal width (cm)  \\\n",
       "41                 4.5               2.3                1.3               0.3   \n",
       "50                 7.0               3.2                4.7               1.4   \n",
       "51                 6.4               3.2                4.5               1.5   \n",
       "53                 5.5               2.3                4.0               1.3   \n",
       "54                 6.5               2.8                4.6               1.5   \n",
       "..                 ...               ...                ...               ...   \n",
       "135                7.7               3.0                6.1               2.3   \n",
       "138                6.0               3.0                4.8               1.8   \n",
       "142                5.8               2.7                5.1               1.9   \n",
       "146                6.3               2.5                5.0               1.9   \n",
       "149                5.9               3.0                5.1               1.8   \n",
       "\n",
       "    target_dbscan target_kmeans  \n",
       "41              B             A  \n",
       "50              C             B  \n",
       "51              C             B  \n",
       "53              C             B  \n",
       "54              C             B  \n",
       "..            ...           ...  \n",
       "135             B             C  \n",
       "138             C             B  \n",
       "142             C             B  \n",
       "146             C             B  \n",
       "149             C             B  \n",
       "\n",
       "[65 rows x 6 columns]"
      ]
     },
     "execution_count": 167,
     "metadata": {},
     "output_type": "execute_result"
    }
   ],
   "source": [
    "iris[iris.target_dbscan != iris.target_kmeans]"
   ]
  },
  {
   "cell_type": "markdown",
   "metadata": {},
   "source": [
    "실제 iris target과 비교해보자.  "
   ]
  },
  {
   "cell_type": "code",
   "execution_count": 168,
   "metadata": {},
   "outputs": [],
   "source": [
    "iris[\"target_real\"] = data.target"
   ]
  },
  {
   "cell_type": "code",
   "execution_count": 169,
   "metadata": {},
   "outputs": [],
   "source": [
    "iris.target_real = iris.target_real.map({0:\"A\", 1:\"B\", 2:\"C\"})"
   ]
  },
  {
   "cell_type": "code",
   "execution_count": 172,
   "metadata": {},
   "outputs": [],
   "source": [
    "# output에 DataFrame을 얼마나 보여줄 것인가 설정하는 옵션\n",
    "pd.options.display.max_rows = 150"
   ]
  },
  {
   "cell_type": "code",
   "execution_count": 173,
   "metadata": {},
   "outputs": [
    {
     "data": {
      "text/html": [
       "<div>\n",
       "<style scoped>\n",
       "    .dataframe tbody tr th:only-of-type {\n",
       "        vertical-align: middle;\n",
       "    }\n",
       "\n",
       "    .dataframe tbody tr th {\n",
       "        vertical-align: top;\n",
       "    }\n",
       "\n",
       "    .dataframe thead th {\n",
       "        text-align: right;\n",
       "    }\n",
       "</style>\n",
       "<table border=\"1\" class=\"dataframe\">\n",
       "  <thead>\n",
       "    <tr style=\"text-align: right;\">\n",
       "      <th></th>\n",
       "      <th>sepal length (cm)</th>\n",
       "      <th>sepal width (cm)</th>\n",
       "      <th>petal length (cm)</th>\n",
       "      <th>petal width (cm)</th>\n",
       "      <th>target_dbscan</th>\n",
       "      <th>target_kmeans</th>\n",
       "      <th>target_real</th>\n",
       "    </tr>\n",
       "  </thead>\n",
       "  <tbody>\n",
       "    <tr>\n",
       "      <th>0</th>\n",
       "      <td>5.1</td>\n",
       "      <td>3.5</td>\n",
       "      <td>1.4</td>\n",
       "      <td>0.2</td>\n",
       "      <td>A</td>\n",
       "      <td>A</td>\n",
       "      <td>A</td>\n",
       "    </tr>\n",
       "    <tr>\n",
       "      <th>1</th>\n",
       "      <td>4.9</td>\n",
       "      <td>3.0</td>\n",
       "      <td>1.4</td>\n",
       "      <td>0.2</td>\n",
       "      <td>A</td>\n",
       "      <td>A</td>\n",
       "      <td>A</td>\n",
       "    </tr>\n",
       "    <tr>\n",
       "      <th>2</th>\n",
       "      <td>4.7</td>\n",
       "      <td>3.2</td>\n",
       "      <td>1.3</td>\n",
       "      <td>0.2</td>\n",
       "      <td>A</td>\n",
       "      <td>A</td>\n",
       "      <td>A</td>\n",
       "    </tr>\n",
       "    <tr>\n",
       "      <th>3</th>\n",
       "      <td>4.6</td>\n",
       "      <td>3.1</td>\n",
       "      <td>1.5</td>\n",
       "      <td>0.2</td>\n",
       "      <td>A</td>\n",
       "      <td>A</td>\n",
       "      <td>A</td>\n",
       "    </tr>\n",
       "    <tr>\n",
       "      <th>4</th>\n",
       "      <td>5.0</td>\n",
       "      <td>3.6</td>\n",
       "      <td>1.4</td>\n",
       "      <td>0.2</td>\n",
       "      <td>A</td>\n",
       "      <td>A</td>\n",
       "      <td>A</td>\n",
       "    </tr>\n",
       "    <tr>\n",
       "      <th>5</th>\n",
       "      <td>5.4</td>\n",
       "      <td>3.9</td>\n",
       "      <td>1.7</td>\n",
       "      <td>0.4</td>\n",
       "      <td>A</td>\n",
       "      <td>A</td>\n",
       "      <td>A</td>\n",
       "    </tr>\n",
       "    <tr>\n",
       "      <th>6</th>\n",
       "      <td>4.6</td>\n",
       "      <td>3.4</td>\n",
       "      <td>1.4</td>\n",
       "      <td>0.3</td>\n",
       "      <td>A</td>\n",
       "      <td>A</td>\n",
       "      <td>A</td>\n",
       "    </tr>\n",
       "    <tr>\n",
       "      <th>7</th>\n",
       "      <td>5.0</td>\n",
       "      <td>3.4</td>\n",
       "      <td>1.5</td>\n",
       "      <td>0.2</td>\n",
       "      <td>A</td>\n",
       "      <td>A</td>\n",
       "      <td>A</td>\n",
       "    </tr>\n",
       "    <tr>\n",
       "      <th>8</th>\n",
       "      <td>4.4</td>\n",
       "      <td>2.9</td>\n",
       "      <td>1.4</td>\n",
       "      <td>0.2</td>\n",
       "      <td>A</td>\n",
       "      <td>A</td>\n",
       "      <td>A</td>\n",
       "    </tr>\n",
       "    <tr>\n",
       "      <th>9</th>\n",
       "      <td>4.9</td>\n",
       "      <td>3.1</td>\n",
       "      <td>1.5</td>\n",
       "      <td>0.1</td>\n",
       "      <td>A</td>\n",
       "      <td>A</td>\n",
       "      <td>A</td>\n",
       "    </tr>\n",
       "    <tr>\n",
       "      <th>10</th>\n",
       "      <td>5.4</td>\n",
       "      <td>3.7</td>\n",
       "      <td>1.5</td>\n",
       "      <td>0.2</td>\n",
       "      <td>A</td>\n",
       "      <td>A</td>\n",
       "      <td>A</td>\n",
       "    </tr>\n",
       "    <tr>\n",
       "      <th>11</th>\n",
       "      <td>4.8</td>\n",
       "      <td>3.4</td>\n",
       "      <td>1.6</td>\n",
       "      <td>0.2</td>\n",
       "      <td>A</td>\n",
       "      <td>A</td>\n",
       "      <td>A</td>\n",
       "    </tr>\n",
       "    <tr>\n",
       "      <th>12</th>\n",
       "      <td>4.8</td>\n",
       "      <td>3.0</td>\n",
       "      <td>1.4</td>\n",
       "      <td>0.1</td>\n",
       "      <td>A</td>\n",
       "      <td>A</td>\n",
       "      <td>A</td>\n",
       "    </tr>\n",
       "    <tr>\n",
       "      <th>13</th>\n",
       "      <td>4.3</td>\n",
       "      <td>3.0</td>\n",
       "      <td>1.1</td>\n",
       "      <td>0.1</td>\n",
       "      <td>A</td>\n",
       "      <td>A</td>\n",
       "      <td>A</td>\n",
       "    </tr>\n",
       "    <tr>\n",
       "      <th>14</th>\n",
       "      <td>5.8</td>\n",
       "      <td>4.0</td>\n",
       "      <td>1.2</td>\n",
       "      <td>0.2</td>\n",
       "      <td>A</td>\n",
       "      <td>A</td>\n",
       "      <td>A</td>\n",
       "    </tr>\n",
       "    <tr>\n",
       "      <th>15</th>\n",
       "      <td>5.7</td>\n",
       "      <td>4.4</td>\n",
       "      <td>1.5</td>\n",
       "      <td>0.4</td>\n",
       "      <td>A</td>\n",
       "      <td>A</td>\n",
       "      <td>A</td>\n",
       "    </tr>\n",
       "    <tr>\n",
       "      <th>16</th>\n",
       "      <td>5.4</td>\n",
       "      <td>3.9</td>\n",
       "      <td>1.3</td>\n",
       "      <td>0.4</td>\n",
       "      <td>A</td>\n",
       "      <td>A</td>\n",
       "      <td>A</td>\n",
       "    </tr>\n",
       "    <tr>\n",
       "      <th>17</th>\n",
       "      <td>5.1</td>\n",
       "      <td>3.5</td>\n",
       "      <td>1.4</td>\n",
       "      <td>0.3</td>\n",
       "      <td>A</td>\n",
       "      <td>A</td>\n",
       "      <td>A</td>\n",
       "    </tr>\n",
       "    <tr>\n",
       "      <th>18</th>\n",
       "      <td>5.7</td>\n",
       "      <td>3.8</td>\n",
       "      <td>1.7</td>\n",
       "      <td>0.3</td>\n",
       "      <td>A</td>\n",
       "      <td>A</td>\n",
       "      <td>A</td>\n",
       "    </tr>\n",
       "    <tr>\n",
       "      <th>19</th>\n",
       "      <td>5.1</td>\n",
       "      <td>3.8</td>\n",
       "      <td>1.5</td>\n",
       "      <td>0.3</td>\n",
       "      <td>A</td>\n",
       "      <td>A</td>\n",
       "      <td>A</td>\n",
       "    </tr>\n",
       "    <tr>\n",
       "      <th>20</th>\n",
       "      <td>5.4</td>\n",
       "      <td>3.4</td>\n",
       "      <td>1.7</td>\n",
       "      <td>0.2</td>\n",
       "      <td>A</td>\n",
       "      <td>A</td>\n",
       "      <td>A</td>\n",
       "    </tr>\n",
       "    <tr>\n",
       "      <th>21</th>\n",
       "      <td>5.1</td>\n",
       "      <td>3.7</td>\n",
       "      <td>1.5</td>\n",
       "      <td>0.4</td>\n",
       "      <td>A</td>\n",
       "      <td>A</td>\n",
       "      <td>A</td>\n",
       "    </tr>\n",
       "    <tr>\n",
       "      <th>22</th>\n",
       "      <td>4.6</td>\n",
       "      <td>3.6</td>\n",
       "      <td>1.0</td>\n",
       "      <td>0.2</td>\n",
       "      <td>A</td>\n",
       "      <td>A</td>\n",
       "      <td>A</td>\n",
       "    </tr>\n",
       "    <tr>\n",
       "      <th>23</th>\n",
       "      <td>5.1</td>\n",
       "      <td>3.3</td>\n",
       "      <td>1.7</td>\n",
       "      <td>0.5</td>\n",
       "      <td>A</td>\n",
       "      <td>A</td>\n",
       "      <td>A</td>\n",
       "    </tr>\n",
       "    <tr>\n",
       "      <th>24</th>\n",
       "      <td>4.8</td>\n",
       "      <td>3.4</td>\n",
       "      <td>1.9</td>\n",
       "      <td>0.2</td>\n",
       "      <td>A</td>\n",
       "      <td>A</td>\n",
       "      <td>A</td>\n",
       "    </tr>\n",
       "    <tr>\n",
       "      <th>25</th>\n",
       "      <td>5.0</td>\n",
       "      <td>3.0</td>\n",
       "      <td>1.6</td>\n",
       "      <td>0.2</td>\n",
       "      <td>A</td>\n",
       "      <td>A</td>\n",
       "      <td>A</td>\n",
       "    </tr>\n",
       "    <tr>\n",
       "      <th>26</th>\n",
       "      <td>5.0</td>\n",
       "      <td>3.4</td>\n",
       "      <td>1.6</td>\n",
       "      <td>0.4</td>\n",
       "      <td>A</td>\n",
       "      <td>A</td>\n",
       "      <td>A</td>\n",
       "    </tr>\n",
       "    <tr>\n",
       "      <th>27</th>\n",
       "      <td>5.2</td>\n",
       "      <td>3.5</td>\n",
       "      <td>1.5</td>\n",
       "      <td>0.2</td>\n",
       "      <td>A</td>\n",
       "      <td>A</td>\n",
       "      <td>A</td>\n",
       "    </tr>\n",
       "    <tr>\n",
       "      <th>28</th>\n",
       "      <td>5.2</td>\n",
       "      <td>3.4</td>\n",
       "      <td>1.4</td>\n",
       "      <td>0.2</td>\n",
       "      <td>A</td>\n",
       "      <td>A</td>\n",
       "      <td>A</td>\n",
       "    </tr>\n",
       "    <tr>\n",
       "      <th>29</th>\n",
       "      <td>4.7</td>\n",
       "      <td>3.2</td>\n",
       "      <td>1.6</td>\n",
       "      <td>0.2</td>\n",
       "      <td>A</td>\n",
       "      <td>A</td>\n",
       "      <td>A</td>\n",
       "    </tr>\n",
       "    <tr>\n",
       "      <th>30</th>\n",
       "      <td>4.8</td>\n",
       "      <td>3.1</td>\n",
       "      <td>1.6</td>\n",
       "      <td>0.2</td>\n",
       "      <td>A</td>\n",
       "      <td>A</td>\n",
       "      <td>A</td>\n",
       "    </tr>\n",
       "    <tr>\n",
       "      <th>31</th>\n",
       "      <td>5.4</td>\n",
       "      <td>3.4</td>\n",
       "      <td>1.5</td>\n",
       "      <td>0.4</td>\n",
       "      <td>A</td>\n",
       "      <td>A</td>\n",
       "      <td>A</td>\n",
       "    </tr>\n",
       "    <tr>\n",
       "      <th>32</th>\n",
       "      <td>5.2</td>\n",
       "      <td>4.1</td>\n",
       "      <td>1.5</td>\n",
       "      <td>0.1</td>\n",
       "      <td>A</td>\n",
       "      <td>A</td>\n",
       "      <td>A</td>\n",
       "    </tr>\n",
       "    <tr>\n",
       "      <th>33</th>\n",
       "      <td>5.5</td>\n",
       "      <td>4.2</td>\n",
       "      <td>1.4</td>\n",
       "      <td>0.2</td>\n",
       "      <td>A</td>\n",
       "      <td>A</td>\n",
       "      <td>A</td>\n",
       "    </tr>\n",
       "    <tr>\n",
       "      <th>34</th>\n",
       "      <td>4.9</td>\n",
       "      <td>3.1</td>\n",
       "      <td>1.5</td>\n",
       "      <td>0.2</td>\n",
       "      <td>A</td>\n",
       "      <td>A</td>\n",
       "      <td>A</td>\n",
       "    </tr>\n",
       "    <tr>\n",
       "      <th>35</th>\n",
       "      <td>5.0</td>\n",
       "      <td>3.2</td>\n",
       "      <td>1.2</td>\n",
       "      <td>0.2</td>\n",
       "      <td>A</td>\n",
       "      <td>A</td>\n",
       "      <td>A</td>\n",
       "    </tr>\n",
       "    <tr>\n",
       "      <th>36</th>\n",
       "      <td>5.5</td>\n",
       "      <td>3.5</td>\n",
       "      <td>1.3</td>\n",
       "      <td>0.2</td>\n",
       "      <td>A</td>\n",
       "      <td>A</td>\n",
       "      <td>A</td>\n",
       "    </tr>\n",
       "    <tr>\n",
       "      <th>37</th>\n",
       "      <td>4.9</td>\n",
       "      <td>3.6</td>\n",
       "      <td>1.4</td>\n",
       "      <td>0.1</td>\n",
       "      <td>A</td>\n",
       "      <td>A</td>\n",
       "      <td>A</td>\n",
       "    </tr>\n",
       "    <tr>\n",
       "      <th>38</th>\n",
       "      <td>4.4</td>\n",
       "      <td>3.0</td>\n",
       "      <td>1.3</td>\n",
       "      <td>0.2</td>\n",
       "      <td>A</td>\n",
       "      <td>A</td>\n",
       "      <td>A</td>\n",
       "    </tr>\n",
       "    <tr>\n",
       "      <th>39</th>\n",
       "      <td>5.1</td>\n",
       "      <td>3.4</td>\n",
       "      <td>1.5</td>\n",
       "      <td>0.2</td>\n",
       "      <td>A</td>\n",
       "      <td>A</td>\n",
       "      <td>A</td>\n",
       "    </tr>\n",
       "    <tr>\n",
       "      <th>40</th>\n",
       "      <td>5.0</td>\n",
       "      <td>3.5</td>\n",
       "      <td>1.3</td>\n",
       "      <td>0.3</td>\n",
       "      <td>A</td>\n",
       "      <td>A</td>\n",
       "      <td>A</td>\n",
       "    </tr>\n",
       "    <tr>\n",
       "      <th>41</th>\n",
       "      <td>4.5</td>\n",
       "      <td>2.3</td>\n",
       "      <td>1.3</td>\n",
       "      <td>0.3</td>\n",
       "      <td>B</td>\n",
       "      <td>A</td>\n",
       "      <td>A</td>\n",
       "    </tr>\n",
       "    <tr>\n",
       "      <th>42</th>\n",
       "      <td>4.4</td>\n",
       "      <td>3.2</td>\n",
       "      <td>1.3</td>\n",
       "      <td>0.2</td>\n",
       "      <td>A</td>\n",
       "      <td>A</td>\n",
       "      <td>A</td>\n",
       "    </tr>\n",
       "    <tr>\n",
       "      <th>43</th>\n",
       "      <td>5.0</td>\n",
       "      <td>3.5</td>\n",
       "      <td>1.6</td>\n",
       "      <td>0.6</td>\n",
       "      <td>A</td>\n",
       "      <td>A</td>\n",
       "      <td>A</td>\n",
       "    </tr>\n",
       "    <tr>\n",
       "      <th>44</th>\n",
       "      <td>5.1</td>\n",
       "      <td>3.8</td>\n",
       "      <td>1.9</td>\n",
       "      <td>0.4</td>\n",
       "      <td>A</td>\n",
       "      <td>A</td>\n",
       "      <td>A</td>\n",
       "    </tr>\n",
       "    <tr>\n",
       "      <th>45</th>\n",
       "      <td>4.8</td>\n",
       "      <td>3.0</td>\n",
       "      <td>1.4</td>\n",
       "      <td>0.3</td>\n",
       "      <td>A</td>\n",
       "      <td>A</td>\n",
       "      <td>A</td>\n",
       "    </tr>\n",
       "    <tr>\n",
       "      <th>46</th>\n",
       "      <td>5.1</td>\n",
       "      <td>3.8</td>\n",
       "      <td>1.6</td>\n",
       "      <td>0.2</td>\n",
       "      <td>A</td>\n",
       "      <td>A</td>\n",
       "      <td>A</td>\n",
       "    </tr>\n",
       "    <tr>\n",
       "      <th>47</th>\n",
       "      <td>4.6</td>\n",
       "      <td>3.2</td>\n",
       "      <td>1.4</td>\n",
       "      <td>0.2</td>\n",
       "      <td>A</td>\n",
       "      <td>A</td>\n",
       "      <td>A</td>\n",
       "    </tr>\n",
       "    <tr>\n",
       "      <th>48</th>\n",
       "      <td>5.3</td>\n",
       "      <td>3.7</td>\n",
       "      <td>1.5</td>\n",
       "      <td>0.2</td>\n",
       "      <td>A</td>\n",
       "      <td>A</td>\n",
       "      <td>A</td>\n",
       "    </tr>\n",
       "    <tr>\n",
       "      <th>49</th>\n",
       "      <td>5.0</td>\n",
       "      <td>3.3</td>\n",
       "      <td>1.4</td>\n",
       "      <td>0.2</td>\n",
       "      <td>A</td>\n",
       "      <td>A</td>\n",
       "      <td>A</td>\n",
       "    </tr>\n",
       "    <tr>\n",
       "      <th>50</th>\n",
       "      <td>7.0</td>\n",
       "      <td>3.2</td>\n",
       "      <td>4.7</td>\n",
       "      <td>1.4</td>\n",
       "      <td>C</td>\n",
       "      <td>B</td>\n",
       "      <td>B</td>\n",
       "    </tr>\n",
       "    <tr>\n",
       "      <th>51</th>\n",
       "      <td>6.4</td>\n",
       "      <td>3.2</td>\n",
       "      <td>4.5</td>\n",
       "      <td>1.5</td>\n",
       "      <td>C</td>\n",
       "      <td>B</td>\n",
       "      <td>B</td>\n",
       "    </tr>\n",
       "    <tr>\n",
       "      <th>52</th>\n",
       "      <td>6.9</td>\n",
       "      <td>3.1</td>\n",
       "      <td>4.9</td>\n",
       "      <td>1.5</td>\n",
       "      <td>C</td>\n",
       "      <td>C</td>\n",
       "      <td>B</td>\n",
       "    </tr>\n",
       "    <tr>\n",
       "      <th>53</th>\n",
       "      <td>5.5</td>\n",
       "      <td>2.3</td>\n",
       "      <td>4.0</td>\n",
       "      <td>1.3</td>\n",
       "      <td>C</td>\n",
       "      <td>B</td>\n",
       "      <td>B</td>\n",
       "    </tr>\n",
       "    <tr>\n",
       "      <th>54</th>\n",
       "      <td>6.5</td>\n",
       "      <td>2.8</td>\n",
       "      <td>4.6</td>\n",
       "      <td>1.5</td>\n",
       "      <td>C</td>\n",
       "      <td>B</td>\n",
       "      <td>B</td>\n",
       "    </tr>\n",
       "    <tr>\n",
       "      <th>55</th>\n",
       "      <td>5.7</td>\n",
       "      <td>2.8</td>\n",
       "      <td>4.5</td>\n",
       "      <td>1.3</td>\n",
       "      <td>C</td>\n",
       "      <td>B</td>\n",
       "      <td>B</td>\n",
       "    </tr>\n",
       "    <tr>\n",
       "      <th>56</th>\n",
       "      <td>6.3</td>\n",
       "      <td>3.3</td>\n",
       "      <td>4.7</td>\n",
       "      <td>1.6</td>\n",
       "      <td>C</td>\n",
       "      <td>B</td>\n",
       "      <td>B</td>\n",
       "    </tr>\n",
       "    <tr>\n",
       "      <th>57</th>\n",
       "      <td>4.9</td>\n",
       "      <td>2.4</td>\n",
       "      <td>3.3</td>\n",
       "      <td>1.0</td>\n",
       "      <td>B</td>\n",
       "      <td>B</td>\n",
       "      <td>B</td>\n",
       "    </tr>\n",
       "    <tr>\n",
       "      <th>58</th>\n",
       "      <td>6.6</td>\n",
       "      <td>2.9</td>\n",
       "      <td>4.6</td>\n",
       "      <td>1.3</td>\n",
       "      <td>C</td>\n",
       "      <td>B</td>\n",
       "      <td>B</td>\n",
       "    </tr>\n",
       "    <tr>\n",
       "      <th>59</th>\n",
       "      <td>5.2</td>\n",
       "      <td>2.7</td>\n",
       "      <td>3.9</td>\n",
       "      <td>1.4</td>\n",
       "      <td>C</td>\n",
       "      <td>B</td>\n",
       "      <td>B</td>\n",
       "    </tr>\n",
       "    <tr>\n",
       "      <th>60</th>\n",
       "      <td>5.0</td>\n",
       "      <td>2.0</td>\n",
       "      <td>3.5</td>\n",
       "      <td>1.0</td>\n",
       "      <td>B</td>\n",
       "      <td>B</td>\n",
       "      <td>B</td>\n",
       "    </tr>\n",
       "    <tr>\n",
       "      <th>61</th>\n",
       "      <td>5.9</td>\n",
       "      <td>3.0</td>\n",
       "      <td>4.2</td>\n",
       "      <td>1.5</td>\n",
       "      <td>C</td>\n",
       "      <td>B</td>\n",
       "      <td>B</td>\n",
       "    </tr>\n",
       "    <tr>\n",
       "      <th>62</th>\n",
       "      <td>6.0</td>\n",
       "      <td>2.2</td>\n",
       "      <td>4.0</td>\n",
       "      <td>1.0</td>\n",
       "      <td>C</td>\n",
       "      <td>B</td>\n",
       "      <td>B</td>\n",
       "    </tr>\n",
       "    <tr>\n",
       "      <th>63</th>\n",
       "      <td>6.1</td>\n",
       "      <td>2.9</td>\n",
       "      <td>4.7</td>\n",
       "      <td>1.4</td>\n",
       "      <td>C</td>\n",
       "      <td>B</td>\n",
       "      <td>B</td>\n",
       "    </tr>\n",
       "    <tr>\n",
       "      <th>64</th>\n",
       "      <td>5.6</td>\n",
       "      <td>2.9</td>\n",
       "      <td>3.6</td>\n",
       "      <td>1.3</td>\n",
       "      <td>C</td>\n",
       "      <td>B</td>\n",
       "      <td>B</td>\n",
       "    </tr>\n",
       "    <tr>\n",
       "      <th>65</th>\n",
       "      <td>6.7</td>\n",
       "      <td>3.1</td>\n",
       "      <td>4.4</td>\n",
       "      <td>1.4</td>\n",
       "      <td>C</td>\n",
       "      <td>B</td>\n",
       "      <td>B</td>\n",
       "    </tr>\n",
       "    <tr>\n",
       "      <th>66</th>\n",
       "      <td>5.6</td>\n",
       "      <td>3.0</td>\n",
       "      <td>4.5</td>\n",
       "      <td>1.5</td>\n",
       "      <td>C</td>\n",
       "      <td>B</td>\n",
       "      <td>B</td>\n",
       "    </tr>\n",
       "    <tr>\n",
       "      <th>67</th>\n",
       "      <td>5.8</td>\n",
       "      <td>2.7</td>\n",
       "      <td>4.1</td>\n",
       "      <td>1.0</td>\n",
       "      <td>C</td>\n",
       "      <td>B</td>\n",
       "      <td>B</td>\n",
       "    </tr>\n",
       "    <tr>\n",
       "      <th>68</th>\n",
       "      <td>6.2</td>\n",
       "      <td>2.2</td>\n",
       "      <td>4.5</td>\n",
       "      <td>1.5</td>\n",
       "      <td>B</td>\n",
       "      <td>B</td>\n",
       "      <td>B</td>\n",
       "    </tr>\n",
       "    <tr>\n",
       "      <th>69</th>\n",
       "      <td>5.6</td>\n",
       "      <td>2.5</td>\n",
       "      <td>3.9</td>\n",
       "      <td>1.1</td>\n",
       "      <td>C</td>\n",
       "      <td>B</td>\n",
       "      <td>B</td>\n",
       "    </tr>\n",
       "    <tr>\n",
       "      <th>70</th>\n",
       "      <td>5.9</td>\n",
       "      <td>3.2</td>\n",
       "      <td>4.8</td>\n",
       "      <td>1.8</td>\n",
       "      <td>C</td>\n",
       "      <td>B</td>\n",
       "      <td>B</td>\n",
       "    </tr>\n",
       "    <tr>\n",
       "      <th>71</th>\n",
       "      <td>6.1</td>\n",
       "      <td>2.8</td>\n",
       "      <td>4.0</td>\n",
       "      <td>1.3</td>\n",
       "      <td>C</td>\n",
       "      <td>B</td>\n",
       "      <td>B</td>\n",
       "    </tr>\n",
       "    <tr>\n",
       "      <th>72</th>\n",
       "      <td>6.3</td>\n",
       "      <td>2.5</td>\n",
       "      <td>4.9</td>\n",
       "      <td>1.5</td>\n",
       "      <td>C</td>\n",
       "      <td>B</td>\n",
       "      <td>B</td>\n",
       "    </tr>\n",
       "    <tr>\n",
       "      <th>73</th>\n",
       "      <td>6.1</td>\n",
       "      <td>2.8</td>\n",
       "      <td>4.7</td>\n",
       "      <td>1.2</td>\n",
       "      <td>C</td>\n",
       "      <td>B</td>\n",
       "      <td>B</td>\n",
       "    </tr>\n",
       "    <tr>\n",
       "      <th>74</th>\n",
       "      <td>6.4</td>\n",
       "      <td>2.9</td>\n",
       "      <td>4.3</td>\n",
       "      <td>1.3</td>\n",
       "      <td>C</td>\n",
       "      <td>B</td>\n",
       "      <td>B</td>\n",
       "    </tr>\n",
       "    <tr>\n",
       "      <th>75</th>\n",
       "      <td>6.6</td>\n",
       "      <td>3.0</td>\n",
       "      <td>4.4</td>\n",
       "      <td>1.4</td>\n",
       "      <td>C</td>\n",
       "      <td>B</td>\n",
       "      <td>B</td>\n",
       "    </tr>\n",
       "    <tr>\n",
       "      <th>76</th>\n",
       "      <td>6.8</td>\n",
       "      <td>2.8</td>\n",
       "      <td>4.8</td>\n",
       "      <td>1.4</td>\n",
       "      <td>C</td>\n",
       "      <td>B</td>\n",
       "      <td>B</td>\n",
       "    </tr>\n",
       "    <tr>\n",
       "      <th>77</th>\n",
       "      <td>6.7</td>\n",
       "      <td>3.0</td>\n",
       "      <td>5.0</td>\n",
       "      <td>1.7</td>\n",
       "      <td>C</td>\n",
       "      <td>C</td>\n",
       "      <td>B</td>\n",
       "    </tr>\n",
       "    <tr>\n",
       "      <th>78</th>\n",
       "      <td>6.0</td>\n",
       "      <td>2.9</td>\n",
       "      <td>4.5</td>\n",
       "      <td>1.5</td>\n",
       "      <td>C</td>\n",
       "      <td>B</td>\n",
       "      <td>B</td>\n",
       "    </tr>\n",
       "    <tr>\n",
       "      <th>79</th>\n",
       "      <td>5.7</td>\n",
       "      <td>2.6</td>\n",
       "      <td>3.5</td>\n",
       "      <td>1.0</td>\n",
       "      <td>C</td>\n",
       "      <td>B</td>\n",
       "      <td>B</td>\n",
       "    </tr>\n",
       "    <tr>\n",
       "      <th>80</th>\n",
       "      <td>5.5</td>\n",
       "      <td>2.4</td>\n",
       "      <td>3.8</td>\n",
       "      <td>1.1</td>\n",
       "      <td>C</td>\n",
       "      <td>B</td>\n",
       "      <td>B</td>\n",
       "    </tr>\n",
       "    <tr>\n",
       "      <th>81</th>\n",
       "      <td>5.5</td>\n",
       "      <td>2.4</td>\n",
       "      <td>3.7</td>\n",
       "      <td>1.0</td>\n",
       "      <td>C</td>\n",
       "      <td>B</td>\n",
       "      <td>B</td>\n",
       "    </tr>\n",
       "    <tr>\n",
       "      <th>82</th>\n",
       "      <td>5.8</td>\n",
       "      <td>2.7</td>\n",
       "      <td>3.9</td>\n",
       "      <td>1.2</td>\n",
       "      <td>C</td>\n",
       "      <td>B</td>\n",
       "      <td>B</td>\n",
       "    </tr>\n",
       "    <tr>\n",
       "      <th>83</th>\n",
       "      <td>6.0</td>\n",
       "      <td>2.7</td>\n",
       "      <td>5.1</td>\n",
       "      <td>1.6</td>\n",
       "      <td>C</td>\n",
       "      <td>B</td>\n",
       "      <td>B</td>\n",
       "    </tr>\n",
       "    <tr>\n",
       "      <th>84</th>\n",
       "      <td>5.4</td>\n",
       "      <td>3.0</td>\n",
       "      <td>4.5</td>\n",
       "      <td>1.5</td>\n",
       "      <td>C</td>\n",
       "      <td>B</td>\n",
       "      <td>B</td>\n",
       "    </tr>\n",
       "    <tr>\n",
       "      <th>85</th>\n",
       "      <td>6.0</td>\n",
       "      <td>3.4</td>\n",
       "      <td>4.5</td>\n",
       "      <td>1.6</td>\n",
       "      <td>C</td>\n",
       "      <td>B</td>\n",
       "      <td>B</td>\n",
       "    </tr>\n",
       "    <tr>\n",
       "      <th>86</th>\n",
       "      <td>6.7</td>\n",
       "      <td>3.1</td>\n",
       "      <td>4.7</td>\n",
       "      <td>1.5</td>\n",
       "      <td>C</td>\n",
       "      <td>B</td>\n",
       "      <td>B</td>\n",
       "    </tr>\n",
       "    <tr>\n",
       "      <th>87</th>\n",
       "      <td>6.3</td>\n",
       "      <td>2.3</td>\n",
       "      <td>4.4</td>\n",
       "      <td>1.3</td>\n",
       "      <td>B</td>\n",
       "      <td>B</td>\n",
       "      <td>B</td>\n",
       "    </tr>\n",
       "    <tr>\n",
       "      <th>88</th>\n",
       "      <td>5.6</td>\n",
       "      <td>3.0</td>\n",
       "      <td>4.1</td>\n",
       "      <td>1.3</td>\n",
       "      <td>C</td>\n",
       "      <td>B</td>\n",
       "      <td>B</td>\n",
       "    </tr>\n",
       "    <tr>\n",
       "      <th>89</th>\n",
       "      <td>5.5</td>\n",
       "      <td>2.5</td>\n",
       "      <td>4.0</td>\n",
       "      <td>1.3</td>\n",
       "      <td>C</td>\n",
       "      <td>B</td>\n",
       "      <td>B</td>\n",
       "    </tr>\n",
       "    <tr>\n",
       "      <th>90</th>\n",
       "      <td>5.5</td>\n",
       "      <td>2.6</td>\n",
       "      <td>4.4</td>\n",
       "      <td>1.2</td>\n",
       "      <td>C</td>\n",
       "      <td>B</td>\n",
       "      <td>B</td>\n",
       "    </tr>\n",
       "    <tr>\n",
       "      <th>91</th>\n",
       "      <td>6.1</td>\n",
       "      <td>3.0</td>\n",
       "      <td>4.6</td>\n",
       "      <td>1.4</td>\n",
       "      <td>C</td>\n",
       "      <td>B</td>\n",
       "      <td>B</td>\n",
       "    </tr>\n",
       "    <tr>\n",
       "      <th>92</th>\n",
       "      <td>5.8</td>\n",
       "      <td>2.6</td>\n",
       "      <td>4.0</td>\n",
       "      <td>1.2</td>\n",
       "      <td>C</td>\n",
       "      <td>B</td>\n",
       "      <td>B</td>\n",
       "    </tr>\n",
       "    <tr>\n",
       "      <th>93</th>\n",
       "      <td>5.0</td>\n",
       "      <td>2.3</td>\n",
       "      <td>3.3</td>\n",
       "      <td>1.0</td>\n",
       "      <td>B</td>\n",
       "      <td>B</td>\n",
       "      <td>B</td>\n",
       "    </tr>\n",
       "    <tr>\n",
       "      <th>94</th>\n",
       "      <td>5.6</td>\n",
       "      <td>2.7</td>\n",
       "      <td>4.2</td>\n",
       "      <td>1.3</td>\n",
       "      <td>C</td>\n",
       "      <td>B</td>\n",
       "      <td>B</td>\n",
       "    </tr>\n",
       "    <tr>\n",
       "      <th>95</th>\n",
       "      <td>5.7</td>\n",
       "      <td>3.0</td>\n",
       "      <td>4.2</td>\n",
       "      <td>1.2</td>\n",
       "      <td>C</td>\n",
       "      <td>B</td>\n",
       "      <td>B</td>\n",
       "    </tr>\n",
       "    <tr>\n",
       "      <th>96</th>\n",
       "      <td>5.7</td>\n",
       "      <td>2.9</td>\n",
       "      <td>4.2</td>\n",
       "      <td>1.3</td>\n",
       "      <td>C</td>\n",
       "      <td>B</td>\n",
       "      <td>B</td>\n",
       "    </tr>\n",
       "    <tr>\n",
       "      <th>97</th>\n",
       "      <td>6.2</td>\n",
       "      <td>2.9</td>\n",
       "      <td>4.3</td>\n",
       "      <td>1.3</td>\n",
       "      <td>C</td>\n",
       "      <td>B</td>\n",
       "      <td>B</td>\n",
       "    </tr>\n",
       "    <tr>\n",
       "      <th>98</th>\n",
       "      <td>5.1</td>\n",
       "      <td>2.5</td>\n",
       "      <td>3.0</td>\n",
       "      <td>1.1</td>\n",
       "      <td>B</td>\n",
       "      <td>B</td>\n",
       "      <td>B</td>\n",
       "    </tr>\n",
       "    <tr>\n",
       "      <th>99</th>\n",
       "      <td>5.7</td>\n",
       "      <td>2.8</td>\n",
       "      <td>4.1</td>\n",
       "      <td>1.3</td>\n",
       "      <td>C</td>\n",
       "      <td>B</td>\n",
       "      <td>B</td>\n",
       "    </tr>\n",
       "    <tr>\n",
       "      <th>100</th>\n",
       "      <td>6.3</td>\n",
       "      <td>3.3</td>\n",
       "      <td>6.0</td>\n",
       "      <td>2.5</td>\n",
       "      <td>C</td>\n",
       "      <td>C</td>\n",
       "      <td>C</td>\n",
       "    </tr>\n",
       "    <tr>\n",
       "      <th>101</th>\n",
       "      <td>5.8</td>\n",
       "      <td>2.7</td>\n",
       "      <td>5.1</td>\n",
       "      <td>1.9</td>\n",
       "      <td>C</td>\n",
       "      <td>B</td>\n",
       "      <td>C</td>\n",
       "    </tr>\n",
       "    <tr>\n",
       "      <th>102</th>\n",
       "      <td>7.1</td>\n",
       "      <td>3.0</td>\n",
       "      <td>5.9</td>\n",
       "      <td>2.1</td>\n",
       "      <td>C</td>\n",
       "      <td>C</td>\n",
       "      <td>C</td>\n",
       "    </tr>\n",
       "    <tr>\n",
       "      <th>103</th>\n",
       "      <td>6.3</td>\n",
       "      <td>2.9</td>\n",
       "      <td>5.6</td>\n",
       "      <td>1.8</td>\n",
       "      <td>C</td>\n",
       "      <td>C</td>\n",
       "      <td>C</td>\n",
       "    </tr>\n",
       "    <tr>\n",
       "      <th>104</th>\n",
       "      <td>6.5</td>\n",
       "      <td>3.0</td>\n",
       "      <td>5.8</td>\n",
       "      <td>2.2</td>\n",
       "      <td>C</td>\n",
       "      <td>C</td>\n",
       "      <td>C</td>\n",
       "    </tr>\n",
       "    <tr>\n",
       "      <th>105</th>\n",
       "      <td>7.6</td>\n",
       "      <td>3.0</td>\n",
       "      <td>6.6</td>\n",
       "      <td>2.1</td>\n",
       "      <td>B</td>\n",
       "      <td>C</td>\n",
       "      <td>C</td>\n",
       "    </tr>\n",
       "    <tr>\n",
       "      <th>106</th>\n",
       "      <td>4.9</td>\n",
       "      <td>2.5</td>\n",
       "      <td>4.5</td>\n",
       "      <td>1.7</td>\n",
       "      <td>B</td>\n",
       "      <td>B</td>\n",
       "      <td>C</td>\n",
       "    </tr>\n",
       "    <tr>\n",
       "      <th>107</th>\n",
       "      <td>7.3</td>\n",
       "      <td>2.9</td>\n",
       "      <td>6.3</td>\n",
       "      <td>1.8</td>\n",
       "      <td>C</td>\n",
       "      <td>C</td>\n",
       "      <td>C</td>\n",
       "    </tr>\n",
       "    <tr>\n",
       "      <th>108</th>\n",
       "      <td>6.7</td>\n",
       "      <td>2.5</td>\n",
       "      <td>5.8</td>\n",
       "      <td>1.8</td>\n",
       "      <td>B</td>\n",
       "      <td>C</td>\n",
       "      <td>C</td>\n",
       "    </tr>\n",
       "    <tr>\n",
       "      <th>109</th>\n",
       "      <td>7.2</td>\n",
       "      <td>3.6</td>\n",
       "      <td>6.1</td>\n",
       "      <td>2.5</td>\n",
       "      <td>B</td>\n",
       "      <td>C</td>\n",
       "      <td>C</td>\n",
       "    </tr>\n",
       "    <tr>\n",
       "      <th>110</th>\n",
       "      <td>6.5</td>\n",
       "      <td>3.2</td>\n",
       "      <td>5.1</td>\n",
       "      <td>2.0</td>\n",
       "      <td>C</td>\n",
       "      <td>C</td>\n",
       "      <td>C</td>\n",
       "    </tr>\n",
       "    <tr>\n",
       "      <th>111</th>\n",
       "      <td>6.4</td>\n",
       "      <td>2.7</td>\n",
       "      <td>5.3</td>\n",
       "      <td>1.9</td>\n",
       "      <td>C</td>\n",
       "      <td>C</td>\n",
       "      <td>C</td>\n",
       "    </tr>\n",
       "    <tr>\n",
       "      <th>112</th>\n",
       "      <td>6.8</td>\n",
       "      <td>3.0</td>\n",
       "      <td>5.5</td>\n",
       "      <td>2.1</td>\n",
       "      <td>C</td>\n",
       "      <td>C</td>\n",
       "      <td>C</td>\n",
       "    </tr>\n",
       "    <tr>\n",
       "      <th>113</th>\n",
       "      <td>5.7</td>\n",
       "      <td>2.5</td>\n",
       "      <td>5.0</td>\n",
       "      <td>2.0</td>\n",
       "      <td>C</td>\n",
       "      <td>B</td>\n",
       "      <td>C</td>\n",
       "    </tr>\n",
       "    <tr>\n",
       "      <th>114</th>\n",
       "      <td>5.8</td>\n",
       "      <td>2.8</td>\n",
       "      <td>5.1</td>\n",
       "      <td>2.4</td>\n",
       "      <td>C</td>\n",
       "      <td>B</td>\n",
       "      <td>C</td>\n",
       "    </tr>\n",
       "    <tr>\n",
       "      <th>115</th>\n",
       "      <td>6.4</td>\n",
       "      <td>3.2</td>\n",
       "      <td>5.3</td>\n",
       "      <td>2.3</td>\n",
       "      <td>C</td>\n",
       "      <td>C</td>\n",
       "      <td>C</td>\n",
       "    </tr>\n",
       "    <tr>\n",
       "      <th>116</th>\n",
       "      <td>6.5</td>\n",
       "      <td>3.0</td>\n",
       "      <td>5.5</td>\n",
       "      <td>1.8</td>\n",
       "      <td>C</td>\n",
       "      <td>C</td>\n",
       "      <td>C</td>\n",
       "    </tr>\n",
       "    <tr>\n",
       "      <th>117</th>\n",
       "      <td>7.7</td>\n",
       "      <td>3.8</td>\n",
       "      <td>6.7</td>\n",
       "      <td>2.2</td>\n",
       "      <td>B</td>\n",
       "      <td>C</td>\n",
       "      <td>C</td>\n",
       "    </tr>\n",
       "    <tr>\n",
       "      <th>118</th>\n",
       "      <td>7.7</td>\n",
       "      <td>2.6</td>\n",
       "      <td>6.9</td>\n",
       "      <td>2.3</td>\n",
       "      <td>B</td>\n",
       "      <td>C</td>\n",
       "      <td>C</td>\n",
       "    </tr>\n",
       "    <tr>\n",
       "      <th>119</th>\n",
       "      <td>6.0</td>\n",
       "      <td>2.2</td>\n",
       "      <td>5.0</td>\n",
       "      <td>1.5</td>\n",
       "      <td>C</td>\n",
       "      <td>B</td>\n",
       "      <td>C</td>\n",
       "    </tr>\n",
       "    <tr>\n",
       "      <th>120</th>\n",
       "      <td>6.9</td>\n",
       "      <td>3.2</td>\n",
       "      <td>5.7</td>\n",
       "      <td>2.3</td>\n",
       "      <td>C</td>\n",
       "      <td>C</td>\n",
       "      <td>C</td>\n",
       "    </tr>\n",
       "    <tr>\n",
       "      <th>121</th>\n",
       "      <td>5.6</td>\n",
       "      <td>2.8</td>\n",
       "      <td>4.9</td>\n",
       "      <td>2.0</td>\n",
       "      <td>C</td>\n",
       "      <td>B</td>\n",
       "      <td>C</td>\n",
       "    </tr>\n",
       "    <tr>\n",
       "      <th>122</th>\n",
       "      <td>7.7</td>\n",
       "      <td>2.8</td>\n",
       "      <td>6.7</td>\n",
       "      <td>2.0</td>\n",
       "      <td>B</td>\n",
       "      <td>C</td>\n",
       "      <td>C</td>\n",
       "    </tr>\n",
       "    <tr>\n",
       "      <th>123</th>\n",
       "      <td>6.3</td>\n",
       "      <td>2.7</td>\n",
       "      <td>4.9</td>\n",
       "      <td>1.8</td>\n",
       "      <td>C</td>\n",
       "      <td>B</td>\n",
       "      <td>C</td>\n",
       "    </tr>\n",
       "    <tr>\n",
       "      <th>124</th>\n",
       "      <td>6.7</td>\n",
       "      <td>3.3</td>\n",
       "      <td>5.7</td>\n",
       "      <td>2.1</td>\n",
       "      <td>C</td>\n",
       "      <td>C</td>\n",
       "      <td>C</td>\n",
       "    </tr>\n",
       "    <tr>\n",
       "      <th>125</th>\n",
       "      <td>7.2</td>\n",
       "      <td>3.2</td>\n",
       "      <td>6.0</td>\n",
       "      <td>1.8</td>\n",
       "      <td>C</td>\n",
       "      <td>C</td>\n",
       "      <td>C</td>\n",
       "    </tr>\n",
       "    <tr>\n",
       "      <th>126</th>\n",
       "      <td>6.2</td>\n",
       "      <td>2.8</td>\n",
       "      <td>4.8</td>\n",
       "      <td>1.8</td>\n",
       "      <td>C</td>\n",
       "      <td>B</td>\n",
       "      <td>C</td>\n",
       "    </tr>\n",
       "    <tr>\n",
       "      <th>127</th>\n",
       "      <td>6.1</td>\n",
       "      <td>3.0</td>\n",
       "      <td>4.9</td>\n",
       "      <td>1.8</td>\n",
       "      <td>C</td>\n",
       "      <td>B</td>\n",
       "      <td>C</td>\n",
       "    </tr>\n",
       "    <tr>\n",
       "      <th>128</th>\n",
       "      <td>6.4</td>\n",
       "      <td>2.8</td>\n",
       "      <td>5.6</td>\n",
       "      <td>2.1</td>\n",
       "      <td>C</td>\n",
       "      <td>C</td>\n",
       "      <td>C</td>\n",
       "    </tr>\n",
       "    <tr>\n",
       "      <th>129</th>\n",
       "      <td>7.2</td>\n",
       "      <td>3.0</td>\n",
       "      <td>5.8</td>\n",
       "      <td>1.6</td>\n",
       "      <td>C</td>\n",
       "      <td>C</td>\n",
       "      <td>C</td>\n",
       "    </tr>\n",
       "    <tr>\n",
       "      <th>130</th>\n",
       "      <td>7.4</td>\n",
       "      <td>2.8</td>\n",
       "      <td>6.1</td>\n",
       "      <td>1.9</td>\n",
       "      <td>C</td>\n",
       "      <td>C</td>\n",
       "      <td>C</td>\n",
       "    </tr>\n",
       "    <tr>\n",
       "      <th>131</th>\n",
       "      <td>7.9</td>\n",
       "      <td>3.8</td>\n",
       "      <td>6.4</td>\n",
       "      <td>2.0</td>\n",
       "      <td>B</td>\n",
       "      <td>C</td>\n",
       "      <td>C</td>\n",
       "    </tr>\n",
       "    <tr>\n",
       "      <th>132</th>\n",
       "      <td>6.4</td>\n",
       "      <td>2.8</td>\n",
       "      <td>5.6</td>\n",
       "      <td>2.2</td>\n",
       "      <td>C</td>\n",
       "      <td>C</td>\n",
       "      <td>C</td>\n",
       "    </tr>\n",
       "    <tr>\n",
       "      <th>133</th>\n",
       "      <td>6.3</td>\n",
       "      <td>2.8</td>\n",
       "      <td>5.1</td>\n",
       "      <td>1.5</td>\n",
       "      <td>C</td>\n",
       "      <td>B</td>\n",
       "      <td>C</td>\n",
       "    </tr>\n",
       "    <tr>\n",
       "      <th>134</th>\n",
       "      <td>6.1</td>\n",
       "      <td>2.6</td>\n",
       "      <td>5.6</td>\n",
       "      <td>1.4</td>\n",
       "      <td>B</td>\n",
       "      <td>C</td>\n",
       "      <td>C</td>\n",
       "    </tr>\n",
       "    <tr>\n",
       "      <th>135</th>\n",
       "      <td>7.7</td>\n",
       "      <td>3.0</td>\n",
       "      <td>6.1</td>\n",
       "      <td>2.3</td>\n",
       "      <td>B</td>\n",
       "      <td>C</td>\n",
       "      <td>C</td>\n",
       "    </tr>\n",
       "    <tr>\n",
       "      <th>136</th>\n",
       "      <td>6.3</td>\n",
       "      <td>3.4</td>\n",
       "      <td>5.6</td>\n",
       "      <td>2.4</td>\n",
       "      <td>C</td>\n",
       "      <td>C</td>\n",
       "      <td>C</td>\n",
       "    </tr>\n",
       "    <tr>\n",
       "      <th>137</th>\n",
       "      <td>6.4</td>\n",
       "      <td>3.1</td>\n",
       "      <td>5.5</td>\n",
       "      <td>1.8</td>\n",
       "      <td>C</td>\n",
       "      <td>C</td>\n",
       "      <td>C</td>\n",
       "    </tr>\n",
       "    <tr>\n",
       "      <th>138</th>\n",
       "      <td>6.0</td>\n",
       "      <td>3.0</td>\n",
       "      <td>4.8</td>\n",
       "      <td>1.8</td>\n",
       "      <td>C</td>\n",
       "      <td>B</td>\n",
       "      <td>C</td>\n",
       "    </tr>\n",
       "    <tr>\n",
       "      <th>139</th>\n",
       "      <td>6.9</td>\n",
       "      <td>3.1</td>\n",
       "      <td>5.4</td>\n",
       "      <td>2.1</td>\n",
       "      <td>C</td>\n",
       "      <td>C</td>\n",
       "      <td>C</td>\n",
       "    </tr>\n",
       "    <tr>\n",
       "      <th>140</th>\n",
       "      <td>6.7</td>\n",
       "      <td>3.1</td>\n",
       "      <td>5.6</td>\n",
       "      <td>2.4</td>\n",
       "      <td>C</td>\n",
       "      <td>C</td>\n",
       "      <td>C</td>\n",
       "    </tr>\n",
       "    <tr>\n",
       "      <th>141</th>\n",
       "      <td>6.9</td>\n",
       "      <td>3.1</td>\n",
       "      <td>5.1</td>\n",
       "      <td>2.3</td>\n",
       "      <td>C</td>\n",
       "      <td>C</td>\n",
       "      <td>C</td>\n",
       "    </tr>\n",
       "    <tr>\n",
       "      <th>142</th>\n",
       "      <td>5.8</td>\n",
       "      <td>2.7</td>\n",
       "      <td>5.1</td>\n",
       "      <td>1.9</td>\n",
       "      <td>C</td>\n",
       "      <td>B</td>\n",
       "      <td>C</td>\n",
       "    </tr>\n",
       "    <tr>\n",
       "      <th>143</th>\n",
       "      <td>6.8</td>\n",
       "      <td>3.2</td>\n",
       "      <td>5.9</td>\n",
       "      <td>2.3</td>\n",
       "      <td>C</td>\n",
       "      <td>C</td>\n",
       "      <td>C</td>\n",
       "    </tr>\n",
       "    <tr>\n",
       "      <th>144</th>\n",
       "      <td>6.7</td>\n",
       "      <td>3.3</td>\n",
       "      <td>5.7</td>\n",
       "      <td>2.5</td>\n",
       "      <td>C</td>\n",
       "      <td>C</td>\n",
       "      <td>C</td>\n",
       "    </tr>\n",
       "    <tr>\n",
       "      <th>145</th>\n",
       "      <td>6.7</td>\n",
       "      <td>3.0</td>\n",
       "      <td>5.2</td>\n",
       "      <td>2.3</td>\n",
       "      <td>C</td>\n",
       "      <td>C</td>\n",
       "      <td>C</td>\n",
       "    </tr>\n",
       "    <tr>\n",
       "      <th>146</th>\n",
       "      <td>6.3</td>\n",
       "      <td>2.5</td>\n",
       "      <td>5.0</td>\n",
       "      <td>1.9</td>\n",
       "      <td>C</td>\n",
       "      <td>B</td>\n",
       "      <td>C</td>\n",
       "    </tr>\n",
       "    <tr>\n",
       "      <th>147</th>\n",
       "      <td>6.5</td>\n",
       "      <td>3.0</td>\n",
       "      <td>5.2</td>\n",
       "      <td>2.0</td>\n",
       "      <td>C</td>\n",
       "      <td>C</td>\n",
       "      <td>C</td>\n",
       "    </tr>\n",
       "    <tr>\n",
       "      <th>148</th>\n",
       "      <td>6.2</td>\n",
       "      <td>3.4</td>\n",
       "      <td>5.4</td>\n",
       "      <td>2.3</td>\n",
       "      <td>C</td>\n",
       "      <td>C</td>\n",
       "      <td>C</td>\n",
       "    </tr>\n",
       "    <tr>\n",
       "      <th>149</th>\n",
       "      <td>5.9</td>\n",
       "      <td>3.0</td>\n",
       "      <td>5.1</td>\n",
       "      <td>1.8</td>\n",
       "      <td>C</td>\n",
       "      <td>B</td>\n",
       "      <td>C</td>\n",
       "    </tr>\n",
       "  </tbody>\n",
       "</table>\n",
       "</div>"
      ],
      "text/plain": [
       "     sepal length (cm)  sepal width (cm)  petal length (cm)  petal width (cm)  \\\n",
       "0                  5.1               3.5                1.4               0.2   \n",
       "1                  4.9               3.0                1.4               0.2   \n",
       "2                  4.7               3.2                1.3               0.2   \n",
       "3                  4.6               3.1                1.5               0.2   \n",
       "4                  5.0               3.6                1.4               0.2   \n",
       "5                  5.4               3.9                1.7               0.4   \n",
       "6                  4.6               3.4                1.4               0.3   \n",
       "7                  5.0               3.4                1.5               0.2   \n",
       "8                  4.4               2.9                1.4               0.2   \n",
       "9                  4.9               3.1                1.5               0.1   \n",
       "10                 5.4               3.7                1.5               0.2   \n",
       "11                 4.8               3.4                1.6               0.2   \n",
       "12                 4.8               3.0                1.4               0.1   \n",
       "13                 4.3               3.0                1.1               0.1   \n",
       "14                 5.8               4.0                1.2               0.2   \n",
       "15                 5.7               4.4                1.5               0.4   \n",
       "16                 5.4               3.9                1.3               0.4   \n",
       "17                 5.1               3.5                1.4               0.3   \n",
       "18                 5.7               3.8                1.7               0.3   \n",
       "19                 5.1               3.8                1.5               0.3   \n",
       "20                 5.4               3.4                1.7               0.2   \n",
       "21                 5.1               3.7                1.5               0.4   \n",
       "22                 4.6               3.6                1.0               0.2   \n",
       "23                 5.1               3.3                1.7               0.5   \n",
       "24                 4.8               3.4                1.9               0.2   \n",
       "25                 5.0               3.0                1.6               0.2   \n",
       "26                 5.0               3.4                1.6               0.4   \n",
       "27                 5.2               3.5                1.5               0.2   \n",
       "28                 5.2               3.4                1.4               0.2   \n",
       "29                 4.7               3.2                1.6               0.2   \n",
       "30                 4.8               3.1                1.6               0.2   \n",
       "31                 5.4               3.4                1.5               0.4   \n",
       "32                 5.2               4.1                1.5               0.1   \n",
       "33                 5.5               4.2                1.4               0.2   \n",
       "34                 4.9               3.1                1.5               0.2   \n",
       "35                 5.0               3.2                1.2               0.2   \n",
       "36                 5.5               3.5                1.3               0.2   \n",
       "37                 4.9               3.6                1.4               0.1   \n",
       "38                 4.4               3.0                1.3               0.2   \n",
       "39                 5.1               3.4                1.5               0.2   \n",
       "40                 5.0               3.5                1.3               0.3   \n",
       "41                 4.5               2.3                1.3               0.3   \n",
       "42                 4.4               3.2                1.3               0.2   \n",
       "43                 5.0               3.5                1.6               0.6   \n",
       "44                 5.1               3.8                1.9               0.4   \n",
       "45                 4.8               3.0                1.4               0.3   \n",
       "46                 5.1               3.8                1.6               0.2   \n",
       "47                 4.6               3.2                1.4               0.2   \n",
       "48                 5.3               3.7                1.5               0.2   \n",
       "49                 5.0               3.3                1.4               0.2   \n",
       "50                 7.0               3.2                4.7               1.4   \n",
       "51                 6.4               3.2                4.5               1.5   \n",
       "52                 6.9               3.1                4.9               1.5   \n",
       "53                 5.5               2.3                4.0               1.3   \n",
       "54                 6.5               2.8                4.6               1.5   \n",
       "55                 5.7               2.8                4.5               1.3   \n",
       "56                 6.3               3.3                4.7               1.6   \n",
       "57                 4.9               2.4                3.3               1.0   \n",
       "58                 6.6               2.9                4.6               1.3   \n",
       "59                 5.2               2.7                3.9               1.4   \n",
       "60                 5.0               2.0                3.5               1.0   \n",
       "61                 5.9               3.0                4.2               1.5   \n",
       "62                 6.0               2.2                4.0               1.0   \n",
       "63                 6.1               2.9                4.7               1.4   \n",
       "64                 5.6               2.9                3.6               1.3   \n",
       "65                 6.7               3.1                4.4               1.4   \n",
       "66                 5.6               3.0                4.5               1.5   \n",
       "67                 5.8               2.7                4.1               1.0   \n",
       "68                 6.2               2.2                4.5               1.5   \n",
       "69                 5.6               2.5                3.9               1.1   \n",
       "70                 5.9               3.2                4.8               1.8   \n",
       "71                 6.1               2.8                4.0               1.3   \n",
       "72                 6.3               2.5                4.9               1.5   \n",
       "73                 6.1               2.8                4.7               1.2   \n",
       "74                 6.4               2.9                4.3               1.3   \n",
       "75                 6.6               3.0                4.4               1.4   \n",
       "76                 6.8               2.8                4.8               1.4   \n",
       "77                 6.7               3.0                5.0               1.7   \n",
       "78                 6.0               2.9                4.5               1.5   \n",
       "79                 5.7               2.6                3.5               1.0   \n",
       "80                 5.5               2.4                3.8               1.1   \n",
       "81                 5.5               2.4                3.7               1.0   \n",
       "82                 5.8               2.7                3.9               1.2   \n",
       "83                 6.0               2.7                5.1               1.6   \n",
       "84                 5.4               3.0                4.5               1.5   \n",
       "85                 6.0               3.4                4.5               1.6   \n",
       "86                 6.7               3.1                4.7               1.5   \n",
       "87                 6.3               2.3                4.4               1.3   \n",
       "88                 5.6               3.0                4.1               1.3   \n",
       "89                 5.5               2.5                4.0               1.3   \n",
       "90                 5.5               2.6                4.4               1.2   \n",
       "91                 6.1               3.0                4.6               1.4   \n",
       "92                 5.8               2.6                4.0               1.2   \n",
       "93                 5.0               2.3                3.3               1.0   \n",
       "94                 5.6               2.7                4.2               1.3   \n",
       "95                 5.7               3.0                4.2               1.2   \n",
       "96                 5.7               2.9                4.2               1.3   \n",
       "97                 6.2               2.9                4.3               1.3   \n",
       "98                 5.1               2.5                3.0               1.1   \n",
       "99                 5.7               2.8                4.1               1.3   \n",
       "100                6.3               3.3                6.0               2.5   \n",
       "101                5.8               2.7                5.1               1.9   \n",
       "102                7.1               3.0                5.9               2.1   \n",
       "103                6.3               2.9                5.6               1.8   \n",
       "104                6.5               3.0                5.8               2.2   \n",
       "105                7.6               3.0                6.6               2.1   \n",
       "106                4.9               2.5                4.5               1.7   \n",
       "107                7.3               2.9                6.3               1.8   \n",
       "108                6.7               2.5                5.8               1.8   \n",
       "109                7.2               3.6                6.1               2.5   \n",
       "110                6.5               3.2                5.1               2.0   \n",
       "111                6.4               2.7                5.3               1.9   \n",
       "112                6.8               3.0                5.5               2.1   \n",
       "113                5.7               2.5                5.0               2.0   \n",
       "114                5.8               2.8                5.1               2.4   \n",
       "115                6.4               3.2                5.3               2.3   \n",
       "116                6.5               3.0                5.5               1.8   \n",
       "117                7.7               3.8                6.7               2.2   \n",
       "118                7.7               2.6                6.9               2.3   \n",
       "119                6.0               2.2                5.0               1.5   \n",
       "120                6.9               3.2                5.7               2.3   \n",
       "121                5.6               2.8                4.9               2.0   \n",
       "122                7.7               2.8                6.7               2.0   \n",
       "123                6.3               2.7                4.9               1.8   \n",
       "124                6.7               3.3                5.7               2.1   \n",
       "125                7.2               3.2                6.0               1.8   \n",
       "126                6.2               2.8                4.8               1.8   \n",
       "127                6.1               3.0                4.9               1.8   \n",
       "128                6.4               2.8                5.6               2.1   \n",
       "129                7.2               3.0                5.8               1.6   \n",
       "130                7.4               2.8                6.1               1.9   \n",
       "131                7.9               3.8                6.4               2.0   \n",
       "132                6.4               2.8                5.6               2.2   \n",
       "133                6.3               2.8                5.1               1.5   \n",
       "134                6.1               2.6                5.6               1.4   \n",
       "135                7.7               3.0                6.1               2.3   \n",
       "136                6.3               3.4                5.6               2.4   \n",
       "137                6.4               3.1                5.5               1.8   \n",
       "138                6.0               3.0                4.8               1.8   \n",
       "139                6.9               3.1                5.4               2.1   \n",
       "140                6.7               3.1                5.6               2.4   \n",
       "141                6.9               3.1                5.1               2.3   \n",
       "142                5.8               2.7                5.1               1.9   \n",
       "143                6.8               3.2                5.9               2.3   \n",
       "144                6.7               3.3                5.7               2.5   \n",
       "145                6.7               3.0                5.2               2.3   \n",
       "146                6.3               2.5                5.0               1.9   \n",
       "147                6.5               3.0                5.2               2.0   \n",
       "148                6.2               3.4                5.4               2.3   \n",
       "149                5.9               3.0                5.1               1.8   \n",
       "\n",
       "    target_dbscan target_kmeans target_real  \n",
       "0               A             A           A  \n",
       "1               A             A           A  \n",
       "2               A             A           A  \n",
       "3               A             A           A  \n",
       "4               A             A           A  \n",
       "5               A             A           A  \n",
       "6               A             A           A  \n",
       "7               A             A           A  \n",
       "8               A             A           A  \n",
       "9               A             A           A  \n",
       "10              A             A           A  \n",
       "11              A             A           A  \n",
       "12              A             A           A  \n",
       "13              A             A           A  \n",
       "14              A             A           A  \n",
       "15              A             A           A  \n",
       "16              A             A           A  \n",
       "17              A             A           A  \n",
       "18              A             A           A  \n",
       "19              A             A           A  \n",
       "20              A             A           A  \n",
       "21              A             A           A  \n",
       "22              A             A           A  \n",
       "23              A             A           A  \n",
       "24              A             A           A  \n",
       "25              A             A           A  \n",
       "26              A             A           A  \n",
       "27              A             A           A  \n",
       "28              A             A           A  \n",
       "29              A             A           A  \n",
       "30              A             A           A  \n",
       "31              A             A           A  \n",
       "32              A             A           A  \n",
       "33              A             A           A  \n",
       "34              A             A           A  \n",
       "35              A             A           A  \n",
       "36              A             A           A  \n",
       "37              A             A           A  \n",
       "38              A             A           A  \n",
       "39              A             A           A  \n",
       "40              A             A           A  \n",
       "41              B             A           A  \n",
       "42              A             A           A  \n",
       "43              A             A           A  \n",
       "44              A             A           A  \n",
       "45              A             A           A  \n",
       "46              A             A           A  \n",
       "47              A             A           A  \n",
       "48              A             A           A  \n",
       "49              A             A           A  \n",
       "50              C             B           B  \n",
       "51              C             B           B  \n",
       "52              C             C           B  \n",
       "53              C             B           B  \n",
       "54              C             B           B  \n",
       "55              C             B           B  \n",
       "56              C             B           B  \n",
       "57              B             B           B  \n",
       "58              C             B           B  \n",
       "59              C             B           B  \n",
       "60              B             B           B  \n",
       "61              C             B           B  \n",
       "62              C             B           B  \n",
       "63              C             B           B  \n",
       "64              C             B           B  \n",
       "65              C             B           B  \n",
       "66              C             B           B  \n",
       "67              C             B           B  \n",
       "68              B             B           B  \n",
       "69              C             B           B  \n",
       "70              C             B           B  \n",
       "71              C             B           B  \n",
       "72              C             B           B  \n",
       "73              C             B           B  \n",
       "74              C             B           B  \n",
       "75              C             B           B  \n",
       "76              C             B           B  \n",
       "77              C             C           B  \n",
       "78              C             B           B  \n",
       "79              C             B           B  \n",
       "80              C             B           B  \n",
       "81              C             B           B  \n",
       "82              C             B           B  \n",
       "83              C             B           B  \n",
       "84              C             B           B  \n",
       "85              C             B           B  \n",
       "86              C             B           B  \n",
       "87              B             B           B  \n",
       "88              C             B           B  \n",
       "89              C             B           B  \n",
       "90              C             B           B  \n",
       "91              C             B           B  \n",
       "92              C             B           B  \n",
       "93              B             B           B  \n",
       "94              C             B           B  \n",
       "95              C             B           B  \n",
       "96              C             B           B  \n",
       "97              C             B           B  \n",
       "98              B             B           B  \n",
       "99              C             B           B  \n",
       "100             C             C           C  \n",
       "101             C             B           C  \n",
       "102             C             C           C  \n",
       "103             C             C           C  \n",
       "104             C             C           C  \n",
       "105             B             C           C  \n",
       "106             B             B           C  \n",
       "107             C             C           C  \n",
       "108             B             C           C  \n",
       "109             B             C           C  \n",
       "110             C             C           C  \n",
       "111             C             C           C  \n",
       "112             C             C           C  \n",
       "113             C             B           C  \n",
       "114             C             B           C  \n",
       "115             C             C           C  \n",
       "116             C             C           C  \n",
       "117             B             C           C  \n",
       "118             B             C           C  \n",
       "119             C             B           C  \n",
       "120             C             C           C  \n",
       "121             C             B           C  \n",
       "122             B             C           C  \n",
       "123             C             B           C  \n",
       "124             C             C           C  \n",
       "125             C             C           C  \n",
       "126             C             B           C  \n",
       "127             C             B           C  \n",
       "128             C             C           C  \n",
       "129             C             C           C  \n",
       "130             C             C           C  \n",
       "131             B             C           C  \n",
       "132             C             C           C  \n",
       "133             C             B           C  \n",
       "134             B             C           C  \n",
       "135             B             C           C  \n",
       "136             C             C           C  \n",
       "137             C             C           C  \n",
       "138             C             B           C  \n",
       "139             C             C           C  \n",
       "140             C             C           C  \n",
       "141             C             C           C  \n",
       "142             C             B           C  \n",
       "143             C             C           C  \n",
       "144             C             C           C  \n",
       "145             C             C           C  \n",
       "146             C             B           C  \n",
       "147             C             C           C  \n",
       "148             C             C           C  \n",
       "149             C             B           C  "
      ]
     },
     "execution_count": 173,
     "metadata": {},
     "output_type": "execute_result"
    }
   ],
   "source": [
    "iris"
   ]
  },
  {
   "cell_type": "markdown",
   "metadata": {},
   "source": [
    "### Agglomerative Clustering(병합 군집화)"
   ]
  },
  {
   "cell_type": "markdown",
   "metadata": {},
   "source": [
    "다른 표현으로, hierachical clustering(계층적 군집화)라고도 한다."
   ]
  },
  {
   "cell_type": "markdown",
   "metadata": {},
   "source": [
    "작은 컷부터 키워나가는 방식을 agglomerative라고 한다.  \n",
    "이 알고리즘은 밑에서부터 뭉쳐서 올라간다."
   ]
  },
  {
   "cell_type": "code",
   "execution_count": 111,
   "metadata": {},
   "outputs": [
    {
     "data": {
      "image/png": "[encoded data removed]",
      "text/plain": [
       "<Figure size 1440x576 with 10 Axes>"
      ]
     },
     "metadata": {},
     "output_type": "display_data"
    }
   ],
   "source": [
    "mglearn.plot_agglomerative.plot_agglomerative_algorithm()"
   ]
  },
  {
   "cell_type": "code",
   "execution_count": 175,
   "metadata": {},
   "outputs": [],
   "source": [
    "from sklearn.cluster import AgglomerativeClustering"
   ]
  },
  {
   "cell_type": "code",
   "execution_count": 109,
   "metadata": {},
   "outputs": [],
   "source": [
    "agm = AgglomerativeClustering(n_clusters=3)"
   ]
  },
  {
   "cell_type": "code",
   "execution_count": 110,
   "metadata": {},
   "outputs": [
    {
     "data": {
      "text/plain": [
       "array([1, 1, 1, 1, 1, 1, 1, 1, 1, 1, 1, 1, 1, 1, 1, 1, 1, 1, 1, 1, 1, 1,\n",
       "       1, 1, 1, 1, 1, 1, 1, 1, 1, 1, 1, 1, 1, 1, 1, 1, 1, 1, 1, 1, 1, 1,\n",
       "       1, 1, 1, 1, 1, 1, 0, 0, 0, 0, 0, 0, 0, 0, 0, 0, 0, 0, 0, 0, 0, 0,\n",
       "       0, 0, 0, 0, 0, 0, 0, 0, 0, 0, 0, 2, 0, 0, 0, 0, 0, 0, 0, 0, 0, 0,\n",
       "       0, 0, 0, 0, 0, 0, 0, 0, 0, 0, 0, 0, 2, 0, 2, 2, 2, 2, 0, 2, 2, 2,\n",
       "       2, 2, 2, 0, 0, 2, 2, 2, 2, 0, 2, 0, 2, 0, 2, 2, 0, 0, 2, 2, 2, 2,\n",
       "       2, 0, 0, 2, 2, 2, 0, 2, 2, 2, 0, 2, 2, 2, 0, 2, 2, 0], dtype=int64)"
      ]
     },
     "execution_count": 110,
     "metadata": {},
     "output_type": "execute_result"
    }
   ],
   "source": [
    "agm.fit_predict(iris.iloc[:,:4])"
   ]
  },
  {
   "cell_type": "markdown",
   "metadata": {},
   "source": [
    "#### Dendrogram"
   ]
  },
  {
   "cell_type": "markdown",
   "metadata": {},
   "source": [
    "dendrogram은 계층적 군집 분석을 시각화한 다이어그램이다."
   ]
  },
  {
   "cell_type": "markdown",
   "metadata": {},
   "source": [
    "scikit-learn은 dendrogram을 지원하지 않는다.  \n",
    "numpy 기반의 과학 라이브러리 scipy를 이용해서 dendrogram을 그릴 수 있다."
   ]
  },
  {
   "cell_type": "code",
   "execution_count": 177,
   "metadata": {},
   "outputs": [],
   "source": [
    "from scipy.cluster.hierarchy import linkage, dendrogram"
   ]
  },
  {
   "cell_type": "code",
   "execution_count": 178,
   "metadata": {},
   "outputs": [],
   "source": [
    "temp = linkage(iris.iloc[:,:4])"
   ]
  },
  {
   "cell_type": "code",
   "execution_count": 179,
   "metadata": {},
   "outputs": [
    {
     "data": {
      "text/plain": [
       "array([[1.01000000e+02, 1.42000000e+02, 0.00000000e+00, 2.00000000e+00],\n",
       "       [7.00000000e+00, 3.90000000e+01, 1.00000000e-01, 2.00000000e+00],\n",
       "       [0.00000000e+00, 1.70000000e+01, 1.00000000e-01, 2.00000000e+00],\n",
       "       [9.00000000e+00, 3.40000000e+01, 1.00000000e-01, 2.00000000e+00],\n",
       "       [1.28000000e+02, 1.32000000e+02, 1.00000000e-01, 2.00000000e+00],\n",
       "       [1.00000000e+01, 4.80000000e+01, 1.00000000e-01, 2.00000000e+00],\n",
       "       [4.00000000e+01, 1.52000000e+02, 1.41421356e-01, 3.00000000e+00],\n",
       "       [4.00000000e+00, 3.70000000e+01, 1.41421356e-01, 2.00000000e+00],\n",
       "       [1.90000000e+01, 2.10000000e+01, 1.41421356e-01, 2.00000000e+00],\n",
       "       [1.56000000e+02, 1.57000000e+02, 1.41421356e-01, 5.00000000e+00],\n",
       "       [2.90000000e+01, 3.00000000e+01, 1.41421356e-01, 2.00000000e+00],\n",
       "       [5.70000000e+01, 9.30000000e+01, 1.41421356e-01, 2.00000000e+00],\n",
       "       [8.00000000e+01, 8.10000000e+01, 1.41421356e-01, 2.00000000e+00],\n",
       "       [1.16000000e+02, 1.37000000e+02, 1.41421356e-01, 2.00000000e+00],\n",
       "       [8.00000000e+00, 3.80000000e+01, 1.41421356e-01, 2.00000000e+00],\n",
       "       [4.60000000e+01, 1.58000000e+02, 1.41421356e-01, 3.00000000e+00],\n",
       "       [1.51000000e+02, 1.59000000e+02, 1.41421356e-01, 7.00000000e+00],\n",
       "       [4.90000000e+01, 1.66000000e+02, 1.41421356e-01, 8.00000000e+00],\n",
       "       [2.70000000e+01, 2.80000000e+01, 1.41421356e-01, 2.00000000e+00],\n",
       "       [1.00000000e+00, 1.53000000e+02, 1.41421356e-01, 3.00000000e+00],\n",
       "       [3.00000000e+00, 4.70000000e+01, 1.41421356e-01, 2.00000000e+00],\n",
       "       [8.20000000e+01, 9.20000000e+01, 1.41421356e-01, 2.00000000e+00],\n",
       "       [9.50000000e+01, 9.60000000e+01, 1.41421356e-01, 2.00000000e+00],\n",
       "       [1.27000000e+02, 1.38000000e+02, 1.41421356e-01, 2.00000000e+00],\n",
       "       [2.00000000e+00, 1.70000000e+02, 1.41421356e-01, 3.00000000e+00],\n",
       "       [4.50000000e+01, 1.69000000e+02, 1.41421356e-01, 4.00000000e+00],\n",
       "       [1.20000000e+01, 1.75000000e+02, 1.41421356e-01, 5.00000000e+00],\n",
       "       [1.67000000e+02, 1.68000000e+02, 1.41421356e-01, 1.00000000e+01],\n",
       "       [1.60000000e+02, 1.76000000e+02, 1.41421356e-01, 7.00000000e+00],\n",
       "       [9.90000000e+01, 1.72000000e+02, 1.41421356e-01, 3.00000000e+00],\n",
       "       [6.30000000e+01, 9.10000000e+01, 1.41421356e-01, 2.00000000e+00],\n",
       "       [6.50000000e+01, 7.50000000e+01, 1.41421356e-01, 2.00000000e+00],\n",
       "       [2.50000000e+01, 1.78000000e+02, 1.73205081e-01, 8.00000000e+00],\n",
       "       [6.90000000e+01, 1.62000000e+02, 1.73205081e-01, 3.00000000e+00],\n",
       "       [1.23000000e+02, 1.26000000e+02, 1.73205081e-01, 2.00000000e+00],\n",
       "       [1.12000000e+02, 1.39000000e+02, 1.73205081e-01, 2.00000000e+00],\n",
       "       [1.74000000e+02, 1.82000000e+02, 1.73205081e-01, 1.10000000e+01],\n",
       "       [9.40000000e+01, 1.79000000e+02, 1.73205081e-01, 4.00000000e+00],\n",
       "       [8.80000000e+01, 1.87000000e+02, 1.73205081e-01, 5.00000000e+00],\n",
       "       [6.60000000e+01, 8.40000000e+01, 2.00000000e-01, 2.00000000e+00],\n",
       "       [7.80000000e+01, 1.80000000e+02, 2.00000000e-01, 3.00000000e+00],\n",
       "       [2.30000000e+01, 2.60000000e+01, 2.00000000e-01, 2.00000000e+00],\n",
       "       [4.20000000e+01, 1.64000000e+02, 2.00000000e-01, 3.00000000e+00],\n",
       "       [5.30000000e+01, 8.90000000e+01, 2.00000000e-01, 2.00000000e+00],\n",
       "       [7.40000000e+01, 9.70000000e+01, 2.00000000e-01, 2.00000000e+00],\n",
       "       [1.86000000e+02, 1.92000000e+02, 2.23606798e-01, 1.40000000e+01],\n",
       "       [1.10000000e+01, 1.95000000e+02, 2.23606798e-01, 1.50000000e+01],\n",
       "       [6.00000000e+00, 1.96000000e+02, 2.23606798e-01, 1.60000000e+01],\n",
       "       [3.50000000e+01, 1.77000000e+02, 2.23606798e-01, 1.10000000e+01],\n",
       "       [1.55000000e+02, 1.98000000e+02, 2.23606798e-01, 1.30000000e+01],\n",
       "       [4.30000000e+01, 1.91000000e+02, 2.23606798e-01, 3.00000000e+00],\n",
       "       [7.30000000e+01, 1.90000000e+02, 2.23606798e-01, 4.00000000e+00],\n",
       "       [7.00000000e+01, 1.73000000e+02, 2.23606798e-01, 3.00000000e+00],\n",
       "       [1.99000000e+02, 2.00000000e+02, 2.23606798e-01, 1.60000000e+01],\n",
       "       [1.97000000e+02, 2.03000000e+02, 2.23606798e-01, 3.20000000e+01],\n",
       "       [1.10000000e+02, 1.47000000e+02, 2.23606798e-01, 2.00000000e+00],\n",
       "       [1.20000000e+02, 1.43000000e+02, 2.23606798e-01, 2.00000000e+00],\n",
       "       [1.36000000e+02, 1.48000000e+02, 2.44948974e-01, 2.00000000e+00],\n",
       "       [5.80000000e+01, 1.81000000e+02, 2.44948974e-01, 3.00000000e+00],\n",
       "       [1.83000000e+02, 1.93000000e+02, 2.44948974e-01, 5.00000000e+00],\n",
       "       [6.70000000e+01, 1.71000000e+02, 2.44948974e-01, 3.00000000e+00],\n",
       "       [5.40000000e+01, 2.08000000e+02, 2.44948974e-01, 4.00000000e+00],\n",
       "       [1.46000000e+02, 1.84000000e+02, 2.44948974e-01, 3.00000000e+00],\n",
       "       [1.65000000e+02, 2.04000000e+02, 2.44948974e-01, 3.50000000e+01],\n",
       "       [1.03000000e+02, 1.63000000e+02, 2.44948974e-01, 3.00000000e+00],\n",
       "       [1.40000000e+02, 1.44000000e+02, 2.44948974e-01, 2.00000000e+00],\n",
       "       [1.30000000e+01, 2.13000000e+02, 2.44948974e-01, 3.60000000e+01],\n",
       "       [1.41000000e+02, 1.45000000e+02, 2.44948974e-01, 2.00000000e+00],\n",
       "       [2.02000000e+02, 2.12000000e+02, 2.44948974e-01, 6.00000000e+00],\n",
       "       [1.88000000e+02, 2.10000000e+02, 2.64575131e-01, 8.00000000e+00],\n",
       "       [6.80000000e+01, 8.70000000e+01, 2.64575131e-01, 2.00000000e+00],\n",
       "       [1.94000000e+02, 2.11000000e+02, 2.64575131e-01, 6.00000000e+00],\n",
       "       [1.13000000e+02, 1.50000000e+02, 2.64575131e-01, 3.00000000e+00],\n",
       "       [9.00000000e+01, 2.19000000e+02, 2.64575131e-01, 9.00000000e+00],\n",
       "       [5.00000000e+01, 5.20000000e+01, 2.64575131e-01, 2.00000000e+00],\n",
       "       [2.09000000e+02, 2.23000000e+02, 2.64575131e-01, 1.40000000e+01],\n",
       "       [5.10000000e+01, 5.60000000e+01, 2.64575131e-01, 2.00000000e+00],\n",
       "       [1.07000000e+02, 1.30000000e+02, 2.64575131e-01, 2.00000000e+00],\n",
       "       [2.06000000e+02, 2.15000000e+02, 2.64575131e-01, 4.00000000e+00],\n",
       "       [1.05000000e+02, 1.22000000e+02, 2.64575131e-01, 2.00000000e+00],\n",
       "       [1.49000000e+02, 2.18000000e+02, 2.82842712e-01, 7.00000000e+00],\n",
       "       [2.00000000e+01, 3.10000000e+01, 2.82842712e-01, 2.00000000e+00],\n",
       "       [8.60000000e+01, 2.24000000e+02, 2.82842712e-01, 3.00000000e+00],\n",
       "       [2.40000000e+01, 2.16000000e+02, 3.00000000e-01, 3.70000000e+01],\n",
       "       [1.24000000e+02, 2.28000000e+02, 3.00000000e-01, 5.00000000e+00],\n",
       "       [3.60000000e+01, 2.33000000e+02, 3.00000000e-01, 3.80000000e+01],\n",
       "       [2.31000000e+02, 2.35000000e+02, 3.00000000e-01, 4.00000000e+01],\n",
       "       [6.10000000e+01, 2.25000000e+02, 3.00000000e-01, 1.50000000e+01],\n",
       "       [1.15000000e+02, 2.07000000e+02, 3.00000000e-01, 3.00000000e+00],\n",
       "       [1.04000000e+02, 1.54000000e+02, 3.00000000e-01, 3.00000000e+00],\n",
       "       [5.50000000e+01, 1.89000000e+02, 3.00000000e-01, 3.00000000e+00],\n",
       "       [2.21000000e+02, 2.26000000e+02, 3.16227766e-01, 8.00000000e+00],\n",
       "       [1.21000000e+02, 2.22000000e+02, 3.16227766e-01, 4.00000000e+00],\n",
       "       [2.37000000e+02, 2.40000000e+02, 3.16227766e-01, 1.80000000e+01],\n",
       "       [2.32000000e+02, 2.41000000e+02, 3.16227766e-01, 1.10000000e+01],\n",
       "       [7.70000000e+01, 2.44000000e+02, 3.16227766e-01, 1.20000000e+01],\n",
       "       [7.60000000e+01, 2.45000000e+02, 3.16227766e-01, 1.30000000e+01],\n",
       "       [2.01000000e+02, 2.43000000e+02, 3.31662479e-01, 2.20000000e+01],\n",
       "       [8.30000000e+01, 1.33000000e+02, 3.31662479e-01, 2.00000000e+00],\n",
       "       [5.00000000e+00, 1.80000000e+01, 3.31662479e-01, 2.00000000e+00],\n",
       "       [2.30000000e+02, 2.42000000e+02, 3.31662479e-01, 1.10000000e+01],\n",
       "       [7.10000000e+01, 2.46000000e+02, 3.31662479e-01, 1.40000000e+01],\n",
       "       [2.14000000e+02, 2.39000000e+02, 3.31662479e-01, 6.00000000e+00],\n",
       "       [1.11000000e+02, 2.05000000e+02, 3.46410162e-01, 3.00000000e+00],\n",
       "       [1.85000000e+02, 2.34000000e+02, 3.46410162e-01, 7.00000000e+00],\n",
       "       [2.36000000e+02, 2.49000000e+02, 3.46410162e-01, 4.20000000e+01],\n",
       "       [1.60000000e+01, 2.55000000e+02, 3.46410162e-01, 4.30000000e+01],\n",
       "       [2.47000000e+02, 2.51000000e+02, 3.46410162e-01, 3.60000000e+01],\n",
       "       [3.20000000e+01, 2.56000000e+02, 3.46410162e-01, 4.40000000e+01],\n",
       "       [3.30000000e+01, 2.58000000e+02, 3.46410162e-01, 4.50000000e+01],\n",
       "       [1.25000000e+02, 1.29000000e+02, 3.46410162e-01, 2.00000000e+00],\n",
       "       [7.90000000e+01, 2.57000000e+02, 3.46410162e-01, 3.70000000e+01],\n",
       "       [7.20000000e+01, 2.48000000e+02, 3.60555128e-01, 3.00000000e+00],\n",
       "       [4.40000000e+01, 2.59000000e+02, 3.60555128e-01, 4.60000000e+01],\n",
       "       [2.52000000e+02, 2.53000000e+02, 3.60555128e-01, 9.00000000e+00],\n",
       "       [6.00000000e+01, 1.61000000e+02, 3.60555128e-01, 3.00000000e+00],\n",
       "       [2.17000000e+02, 2.64000000e+02, 3.60555128e-01, 1.10000000e+01],\n",
       "       [2.50000000e+02, 2.62000000e+02, 3.60555128e-01, 1.40000000e+01],\n",
       "       [2.54000000e+02, 2.66000000e+02, 3.60555128e-01, 1.80000000e+01],\n",
       "       [1.50000000e+01, 2.63000000e+02, 3.60555128e-01, 4.70000000e+01],\n",
       "       [2.38000000e+02, 2.68000000e+02, 3.74165739e-01, 2.10000000e+01],\n",
       "       [8.50000000e+01, 2.61000000e+02, 3.74165739e-01, 3.80000000e+01],\n",
       "       [2.67000000e+02, 2.70000000e+02, 3.74165739e-01, 3.50000000e+01],\n",
       "       [9.80000000e+01, 2.65000000e+02, 3.87298335e-01, 4.00000000e+00],\n",
       "       [5.90000000e+01, 2.71000000e+02, 3.87298335e-01, 3.90000000e+01],\n",
       "       [1.02000000e+02, 2.60000000e+02, 3.87298335e-01, 3.00000000e+00],\n",
       "       [2.72000000e+02, 2.75000000e+02, 4.00000000e-01, 3.80000000e+01],\n",
       "       [1.18000000e+02, 2.29000000e+02, 4.12310563e-01, 3.00000000e+00],\n",
       "       [1.40000000e+01, 2.69000000e+02, 4.12310563e-01, 4.80000000e+01],\n",
       "       [1.17000000e+02, 1.31000000e+02, 4.12310563e-01, 2.00000000e+00],\n",
       "       [2.74000000e+02, 2.76000000e+02, 4.12310563e-01, 7.70000000e+01],\n",
       "       [6.40000000e+01, 2.80000000e+02, 4.24264069e-01, 7.80000000e+01],\n",
       "       [1.00000000e+02, 2.81000000e+02, 4.24264069e-01, 7.90000000e+01],\n",
       "       [1.19000000e+02, 2.82000000e+02, 4.35889894e-01, 8.00000000e+01],\n",
       "       [2.27000000e+02, 2.83000000e+02, 4.35889894e-01, 8.20000000e+01],\n",
       "       [2.20000000e+01, 2.78000000e+02, 4.58257569e-01, 4.90000000e+01],\n",
       "       [1.14000000e+02, 2.84000000e+02, 4.89897949e-01, 8.30000000e+01],\n",
       "       [6.20000000e+01, 2.86000000e+02, 4.89897949e-01, 8.40000000e+01],\n",
       "       [2.20000000e+02, 2.87000000e+02, 5.09901951e-01, 8.60000000e+01],\n",
       "       [2.77000000e+02, 2.88000000e+02, 5.29150262e-01, 8.90000000e+01],\n",
       "       [1.35000000e+02, 2.89000000e+02, 5.38516481e-01, 9.00000000e+01],\n",
       "       [1.34000000e+02, 2.90000000e+02, 5.38516481e-01, 9.10000000e+01],\n",
       "       [1.08000000e+02, 2.91000000e+02, 5.56776436e-01, 9.20000000e+01],\n",
       "       [4.10000000e+01, 2.85000000e+02, 6.24499800e-01, 5.00000000e+01],\n",
       "       [1.09000000e+02, 2.92000000e+02, 6.32455532e-01, 9.30000000e+01],\n",
       "       [2.73000000e+02, 2.94000000e+02, 6.48074070e-01, 9.70000000e+01],\n",
       "       [1.06000000e+02, 2.95000000e+02, 7.34846923e-01, 9.80000000e+01],\n",
       "       [2.79000000e+02, 2.96000000e+02, 8.18535277e-01, 1.00000000e+02],\n",
       "       [2.93000000e+02, 2.97000000e+02, 1.64012195e+00, 1.50000000e+02]])"
      ]
     },
     "execution_count": 179,
     "metadata": {},
     "output_type": "execute_result"
    }
   ],
   "source": [
    "temp"
   ]
  },
  {
   "cell_type": "markdown",
   "metadata": {},
   "source": [
    "scipy가 scikit-learn 보다 유일하게 나은 점: dendrogram을 그려준다.  \n",
    "아래에서부터 거리가 가까운 데이터끼리 묶어나가면서 위로 올라간다.  \n",
    "최종 적으로는 1개의 군집이 된다."
   ]
  },
  {
   "cell_type": "code",
   "execution_count": 181,
   "metadata": {},
   "outputs": [
    {
     "data": {
      "image/png": "[encoded data removed]",
      "text/plain": [
       "<Figure size 720x576 with 1 Axes>"
      ]
     },
     "metadata": {
      "needs_background": "light"
     },
     "output_type": "display_data"
    }
   ],
   "source": [
    "plt.figure(figsize=(10, 8))\n",
    "pp = dendrogram(temp)"
   ]
  },
  {
   "cell_type": "markdown",
   "metadata": {},
   "source": [
    "계층적 군집화 분석은 어느 단계에서 합치는 것을 종료하느냐에 따라서 n개의 클러스터로 나눈다.  \n",
    "다음 그림 위치에서 합치는 것을 멈추면 3개의 군집이 된다."
   ]
  },
  {
   "cell_type": "code",
   "execution_count": 199,
   "metadata": {},
   "outputs": [
    {
     "data": {
      "text/plain": [
       "<matplotlib.collections.LineCollection at 0x2b7ab7db400>"
      ]
     },
     "execution_count": 199,
     "metadata": {},
     "output_type": "execute_result"
    },
    {
     "data": {
      "image/png": "[encoded data removed]",
      "text/plain": [
       "<Figure size 720x576 with 1 Axes>"
      ]
     },
     "metadata": {
      "needs_background": "light"
     },
     "output_type": "display_data"
    }
   ],
   "source": [
    "plt.figure(figsize=(10, 8))\n",
    "pp = dendrogram(temp)\n",
    "plt.hlines(0.8, 0, 100000)"
   ]
  },
  {
   "cell_type": "markdown",
   "metadata": {},
   "source": [
    "다음과 같이 잘라내면 7개로 묶을 수 있다."
   ]
  },
  {
   "cell_type": "code",
   "execution_count": 201,
   "metadata": {},
   "outputs": [
    {
     "data": {
      "image/png": "[encoded data removed]",
      "text/plain": [
       "<Figure size 720x576 with 1 Axes>"
      ]
     },
     "metadata": {
      "needs_background": "light"
     },
     "output_type": "display_data"
    }
   ],
   "source": [
    "plt.figure(figsize=(10, 8))\n",
    "dendrogram(temp)\n",
    "plt.hlines(0.6, 0, 100000)\n",
    "plt.show()"
   ]
  },
  {
   "cell_type": "markdown",
   "metadata": {},
   "source": [
    "### PCA (Principle Component Analysis)"
   ]
  },
  {
   "cell_type": "markdown",
   "metadata": {},
   "source": [
    "PCA(Principle Component Analysis, 주성분분석)은 차원을 줄이는 알고리즘이다.  "
   ]
  },
  {
   "cell_type": "markdown",
   "metadata": {},
   "source": [
    "data를 새로 불러오자.  \n",
    "fetch_califonia_housing은 실수로 불러왔다.  \n",
    "fetch라는 이름이 붙으면 연습용 데이터인데 양이 많아서 다운로드 받아야 하는 데이터셋이다."
   ]
  },
  {
   "cell_type": "code",
   "execution_count": 211,
   "metadata": {},
   "outputs": [],
   "source": [
    "from sklearn.datasets import fetch_california_housing, fetch_20newsgroups"
   ]
  },
  {
   "cell_type": "code",
   "execution_count": 213,
   "metadata": {},
   "outputs": [],
   "source": [
    "# 최초에 실행하면 다운로드 진행상태가 뜬다.\n",
    "data = fetch_california_housing()"
   ]
  },
  {
   "cell_type": "code",
   "execution_count": 132,
   "metadata": {},
   "outputs": [
    {
     "data": {
      "text/plain": [
       "['DESCR', 'data', 'feature_names', 'target']"
      ]
     },
     "execution_count": 132,
     "metadata": {},
     "output_type": "execute_result"
    }
   ],
   "source": [
    "dir(data) # target name이 없으면 regression"
   ]
  },
  {
   "cell_type": "code",
   "execution_count": 134,
   "metadata": {},
   "outputs": [],
   "source": [
    "ch = pd.DataFrame(data.data, columns=data.feature_names)"
   ]
  },
  {
   "cell_type": "markdown",
   "metadata": {},
   "source": [
    "pca 실습을 위해서 wine 데이터셋을 준비하자."
   ]
  },
  {
   "cell_type": "code",
   "execution_count": 219,
   "metadata": {},
   "outputs": [],
   "source": [
    "from sklearn.datasets import load_wine"
   ]
  },
  {
   "cell_type": "code",
   "execution_count": 220,
   "metadata": {},
   "outputs": [],
   "source": [
    "data = load_wine()"
   ]
  },
  {
   "cell_type": "code",
   "execution_count": 221,
   "metadata": {},
   "outputs": [],
   "source": [
    "data_ = pd.DataFrame(data.data, columns=data.feature_names)"
   ]
  },
  {
   "cell_type": "code",
   "execution_count": 222,
   "metadata": {},
   "outputs": [],
   "source": [
    "data_t = pd.DataFrame(data.target, columns=[\"target\"])"
   ]
  },
  {
   "cell_type": "code",
   "execution_count": 223,
   "metadata": {},
   "outputs": [],
   "source": [
    "wine = pd.concat([data_, data_t], axis=1)"
   ]
  },
  {
   "cell_type": "markdown",
   "metadata": {},
   "source": [
    "feature 컬럼 13개, 데이터가 178개 있다. 데이터에 비해서 컬럼이 많다.  \n",
    "(iris는 4개에 150개였다.)"
   ]
  },
  {
   "cell_type": "code",
   "execution_count": 141,
   "metadata": {},
   "outputs": [
    {
     "name": "stdout",
     "output_type": "stream",
     "text": [
      "<class 'pandas.core.frame.DataFrame'>\n",
      "RangeIndex: 178 entries, 0 to 177\n",
      "Data columns (total 14 columns):\n",
      "alcohol                         178 non-null float64\n",
      "malic_acid                      178 non-null float64\n",
      "ash                             178 non-null float64\n",
      "alcalinity_of_ash               178 non-null float64\n",
      "magnesium                       178 non-null float64\n",
      "total_phenols                   178 non-null float64\n",
      "flavanoids                      178 non-null float64\n",
      "nonflavanoid_phenols            178 non-null float64\n",
      "proanthocyanins                 178 non-null float64\n",
      "color_intensity                 178 non-null float64\n",
      "hue                             178 non-null float64\n",
      "od280/od315_of_diluted_wines    178 non-null float64\n",
      "proline                         178 non-null float64\n",
      "target                          178 non-null int32\n",
      "dtypes: float64(13), int32(1)\n",
      "memory usage: 18.9 KB\n"
     ]
    }
   ],
   "source": [
    "wine.info() "
   ]
  },
  {
   "cell_type": "markdown",
   "metadata": {},
   "source": [
    "먼저, pca는 데이터의 분포를 가장 잘 나타낼 수 있는 축(component)을 찾는다.  \n",
    "그리고 해당 축으로 데이터를 사영(projection) 시킨다. (사영: 빛을 비췄을 때 그림자가 생기는 것과 같음)  \n",
    "데이터는 주성분 축으로 사영시켰을 때 분산이 가장 크다. (분산이 클 때 전체데이터를 가장 잘 설명한다.)  \n",
    "\n",
    "다음으로, 첫번째 주성분 축과 직교하면서 데이터를 가장 잘 나타내는(사영했을 때 분산이 큰) 축이 두번째 주성분이다.  \n",
    "각 주성분으로 사영시켜 저차원으로 변환한 데이터는 원래의 데이터를 잘 나타낸다.  \n",
    "\n",
    "pca는 답은 없는데 데이터만 보고 판단하므로 unsupervised learning이다."
   ]
  },
  {
   "cell_type": "code",
   "execution_count": 142,
   "metadata": {},
   "outputs": [
    {
     "data": {
      "image/png": "[encoded data removed]",
      "text/plain": [
       "<Figure size 720x720 with 4 Axes>"
      ]
     },
     "metadata": {
      "needs_background": "light"
     },
     "output_type": "display_data"
    }
   ],
   "source": [
    "mglearn.plot_pca.plot_pca_illustration()"
   ]
  },
  {
   "cell_type": "markdown",
   "metadata": {},
   "source": [
    "PCA를 하기 전의 성능을 보자."
   ]
  },
  {
   "cell_type": "code",
   "execution_count": 230,
   "metadata": {},
   "outputs": [],
   "source": [
    "from sklearn.model_selection import cross_val_score\n",
    "from sklearn.neighbors import KNeighborsClassifier"
   ]
  },
  {
   "cell_type": "code",
   "execution_count": 225,
   "metadata": {},
   "outputs": [
    {
     "data": {
      "text/plain": [
       "array([0.66666667, 0.66666667, 0.61111111, 0.61111111, 0.61111111,\n",
       "       0.61111111, 0.72222222, 0.66666667, 0.82352941, 0.76470588])"
      ]
     },
     "execution_count": 225,
     "metadata": {},
     "output_type": "execute_result"
    }
   ],
   "source": [
    "cross_val_score(KNeighborsClassifier(), wine.iloc[:, :-1], wine.iloc[:, -1], cv=10)"
   ]
  },
  {
   "cell_type": "markdown",
   "metadata": {},
   "source": [
    "PCA는 데이터를 저차원으로 분해시키는 개념이므로 decopmosition 모듈에 위치한다."
   ]
  },
  {
   "cell_type": "code",
   "execution_count": 226,
   "metadata": {},
   "outputs": [],
   "source": [
    "from sklearn.decomposition import PCA"
   ]
  },
  {
   "cell_type": "markdown",
   "metadata": {},
   "source": [
    "`n_components` : 몇 차원으로 줄일 지는 정해줘야한다. "
   ]
  },
  {
   "cell_type": "code",
   "execution_count": 260,
   "metadata": {},
   "outputs": [],
   "source": [
    "pc = PCA(4) # 차원 4개로 줄임"
   ]
  },
  {
   "cell_type": "code",
   "execution_count": 261,
   "metadata": {},
   "outputs": [
    {
     "data": {
      "text/plain": [
       "array([[ 3.18562979e+02,  2.14921307e+01,  3.13073470e+00,\n",
       "        -2.50113758e-01],\n",
       "       [ 3.03097420e+02, -5.36471768e+00,  6.82283550e+00,\n",
       "        -8.64034749e-01],\n",
       "       [ 4.38061133e+02, -6.53730945e+00, -1.11322298e+00,\n",
       "         9.12410681e-01],\n",
       "       [ 7.33240139e+02,  1.92729032e-01, -9.17257016e-01,\n",
       "        -5.41250645e-01],\n",
       "       [-1.15714285e+01,  1.84899946e+01, -5.54422076e-01,\n",
       "         1.36089609e+00],\n",
       "       [ 7.03231192e+02, -3.32158674e-01,  9.49375334e-01,\n",
       "        -3.59993827e-01],\n",
       "       [ 5.42971581e+02, -1.35189666e+01,  2.12694283e+00,\n",
       "         5.55661430e-02],\n",
       "       [ 5.48401860e+02,  1.14494324e+01,  4.04924202e-02,\n",
       "         1.34945380e+00],\n",
       "       [ 2.98036863e+02, -8.18015784e+00,  3.88097517e+00,\n",
       "        -9.10643037e-01],\n",
       "       [ 2.98049553e+02, -7.10154294e+00,  1.55845533e+00,\n",
       "        -1.67704202e+00],\n",
       "       [ 7.63079712e+02, -8.33431723e+00, -1.88629037e+00,\n",
       "         1.59831835e+00],\n",
       "       [ 5.32943228e+02, -1.42876338e+01,  1.30335240e-01,\n",
       "         8.82224791e-01],\n",
       "       [ 5.72834410e+02, -2.10050143e+01,  3.72614859e-01,\n",
       "         3.05780599e-01],\n",
       "       [ 4.02925358e+02, -1.61026352e+01,  5.67513986e+00,\n",
       "        -1.48207065e+00],\n",
       "       [ 8.00053394e+02, -1.21184472e+01,  3.04652991e+00,\n",
       "        -1.74362051e+00],\n",
       "       [ 5.63245578e+02,  2.21482866e+00, -5.25510985e-01,\n",
       "        -6.60677249e-01],\n",
       "       [ 5.33379651e+02,  1.08048022e+01, -2.47652734e+00,\n",
       "         1.07715922e+00],\n",
       "       [ 3.83317591e+02,  8.47741982e+00, -1.98974501e+00,\n",
       "         3.84544349e-01],\n",
       "       [ 9.33118387e+02, -8.35447844e+00, -1.93291276e+00,\n",
       "        -8.26504769e-01],\n",
       "       [ 9.84031775e+01,  1.43926594e+01,  4.10374616e+00,\n",
       "        -9.37801032e-01],\n",
       "       [ 3.35935940e+01,  2.55679565e+01,  4.03358615e+00,\n",
       "        -9.93674721e-01],\n",
       "       [ 2.31464375e+01,  1.81747309e+00,  8.87160841e-01,\n",
       "         3.16295319e-01],\n",
       "       [ 2.88093030e+02, -3.96304175e+00,  2.05371381e+00,\n",
       "         1.45708782e+00],\n",
       "       [ 2.67981513e+02, -9.57070401e+00,  7.58411832e-01,\n",
       "         1.63579347e+00],\n",
       "       [ 9.80198858e+01, -5.49584606e+00, -3.87297661e-01,\n",
       "         2.16549611e+00],\n",
       "       [ 8.34987440e+01,  2.28916215e+01, -4.27883653e+00,\n",
       "         3.82342832e+00],\n",
       "       [ 4.47925596e+02, -1.47973313e+01,  1.21983445e+00,\n",
       "         7.94724186e-01],\n",
       "       [ 5.37919165e+02, -1.53883461e+01,  1.64692329e-01,\n",
       "         1.90244700e+00],\n",
       "       [ 1.68210468e+02,  4.25531096e+00, -1.03384408e-01,\n",
       "         1.34711983e+00],\n",
       "       [ 2.88008247e+02, -8.95973155e+00,  2.16149821e+00,\n",
       "         2.71455526e-01],\n",
       "       [ 5.38026452e+02, -8.21273882e+00, -5.16839628e+00,\n",
       "         2.47728974e+00],\n",
       "       [ 7.68092939e+02, -7.37989737e+00, -3.22996241e+00,\n",
       "         1.01541462e+00],\n",
       "       [ 2.43150751e+02, -1.43914928e-01,  1.68080273e+00,\n",
       "         1.27761976e+00],\n",
       "       [ 4.88601280e+02,  2.35653250e+01, -1.17162642e+00,\n",
       "         1.66199059e+00],\n",
       "       [ 3.48231007e+02,  4.03808015e+00, -4.47674995e-01,\n",
       "         1.88763930e+00],\n",
       "       [ 1.73079957e+02, -2.79292165e+00, -1.50979198e+00,\n",
       "         1.21655368e+00],\n",
       "       [ 1.33286424e+02,  7.77272958e+00,  3.71926608e+00,\n",
       "        -2.13712789e-01],\n",
       "       [ 3.58018559e+02, -8.15798412e+00,  7.32006055e-02,\n",
       "         1.48986642e+00],\n",
       "       [ 2.73044432e+02, -6.72507431e+00,  3.03479237e+00,\n",
       "         9.62135406e-01],\n",
       "       [ 1.36430021e+01,  2.78468321e+01,  6.64055073e+00,\n",
       "        -1.95399429e+00],\n",
       "       [ 4.84296422e+01,  1.63219498e+01,  3.36121013e+00,\n",
       "        -1.31779970e+00],\n",
       "       [ 2.87884092e+02, -1.48851185e+01, -8.06936528e-01,\n",
       "         1.18004484e+00],\n",
       "       [ 3.48095348e+02, -5.04342609e+00,  2.83896837e+00,\n",
       "        -2.72809496e-01],\n",
       "       [-6.68146554e+01,  4.38482992e+00,  2.36654298e+00,\n",
       "        -3.43439852e-01],\n",
       "       [ 1.38227010e+02,  4.73068836e+00,  2.19316584e+00,\n",
       "         1.06993218e-01],\n",
       "       [ 3.33254806e+02,  5.31933116e+00, -7.83758129e-01,\n",
       "         5.49959429e-01],\n",
       "       [ 3.18111848e+02, -3.48694494e+00,  1.99385738e+00,\n",
       "         3.53169719e-02],\n",
       "       [ 2.38111485e+02, -3.05152100e+00,  2.22732714e+00,\n",
       "        -9.04360544e-01],\n",
       "       [ 3.13119915e+02, -2.30536316e+00, -8.55903527e-01,\n",
       "        -8.98619372e-02],\n",
       "       [ 5.13187748e+02, -8.63759235e-01, -9.63892767e-01,\n",
       "        -2.04393504e+00],\n",
       "       [ 4.02939017e+02, -1.50533028e+01,  4.25268054e+00,\n",
       "        -2.55794679e+00],\n",
       "       [ 5.17928963e+02, -1.49975549e+01, -2.95433477e-01,\n",
       "         7.03743541e-01],\n",
       "       [ 4.43266411e+02,  3.26050204e+00,  3.22533487e+00,\n",
       "        -1.60996988e+00],\n",
       "       [ 6.28286071e+02,  4.04114538e+00, -3.57931528e-01,\n",
       "         3.70063814e-01],\n",
       "       [ 3.13397613e+02,  1.26089135e+01,  2.00469936e+00,\n",
       "        -3.70356042e-01],\n",
       "       [ 3.73333291e+02,  9.66419863e+00, -2.29204575e+00,\n",
       "         8.50497384e-01],\n",
       "       [ 2.23417106e+02,  1.42168924e+01,  2.38786504e+00,\n",
       "        -1.11917463e+00],\n",
       "       [ 5.23072851e+02, -7.09662526e+00,  1.29288369e-01,\n",
       "         2.48754617e-01],\n",
       "       [ 5.38182097e+02, -1.35678013e+00,  2.30978511e-01,\n",
       "        -2.65257091e-01],\n",
       "       [-2.27032690e+02, -7.99496797e+00,  9.94713134e+00,\n",
       "        -1.14211555e+00],\n",
       "       [-6.68501220e+01,  2.31986654e+00,  4.12689933e+00,\n",
       "         1.16268868e-01],\n",
       "       [-2.96824437e+02,  5.46847570e+00,  3.66175522e+00,\n",
       "        -2.57505965e+00],\n",
       "       [-1.16970473e+02, -3.72638342e+00,  2.21999884e+00,\n",
       "         1.82924197e-01],\n",
       "       [-3.27059126e+02, -6.94813081e+00,  2.08570803e+00,\n",
       "        -8.64605116e-02],\n",
       "       [-3.91752486e+02,  1.11716783e+01,  3.02474464e+00,\n",
       "         6.08315458e-01],\n",
       "       [-6.89057604e+01, -5.58620537e-01,  1.89506922e+00,\n",
       "         8.59429806e-02],\n",
       "       [-2.45212524e+02, -1.74936393e+01,  4.99323593e+00,\n",
       "        -1.99681057e+00],\n",
       "       [-2.37241410e+02, -1.75310256e+01,  6.56014227e-01,\n",
       "        -9.66035951e-02],\n",
       "       [ 3.29615599e+00,  1.00958116e+01,  3.21779225e+00,\n",
       "         7.90352836e-01],\n",
       "       [-2.79661207e+01,  5.16301252e+01,  4.99946128e+00,\n",
       "         1.51405246e+00],\n",
       "       [ 1.23130138e+02,  1.05983451e+00, -8.11022883e-01,\n",
       "         2.27011220e+00],\n",
       "       [-3.37104122e+02, -7.62385512e+00, -3.33557626e+00,\n",
       "         2.51476928e+00],\n",
       "       [-2.75096026e+02, -7.75315213e+00, -2.93117724e+00,\n",
       "         1.70431803e+00],\n",
       "       [ 2.38716757e+02,  3.52518274e+01, -9.00507574e+00,\n",
       "         6.46174472e+00],\n",
       "       [ 1.39094057e+02, -1.20747620e+00, -1.19825468e+00,\n",
       "         3.10807878e+00],\n",
       "       [-3.18876329e+02,  2.81077113e+00,  5.00732155e+00,\n",
       "        -1.01830637e+00],\n",
       "       [-3.55060253e+02, -7.53070183e+00,  4.80195138e+00,\n",
       "        -1.75352681e+00],\n",
       "       [-2.46633597e+02,  1.65584367e+01,  3.44015940e+00,\n",
       "         7.81406485e-01],\n",
       "       [ 3.77168966e+00,  3.60310924e+01,  6.13187473e+00,\n",
       "         3.66727289e-01],\n",
       "       [-2.83842248e+02,  6.36186080e+00, -1.30886277e+00,\n",
       "         2.51826726e+00],\n",
       "       [-4.69059350e+02, -5.45892398e+00,  3.20131486e+00,\n",
       "         1.07273741e+00],\n",
       "       [-3.31313392e+01, -1.31871050e+01,  8.94219904e-01,\n",
       "         9.27765080e-01],\n",
       "       [-1.17290392e+02, -1.95786125e+01, -3.39719663e+00,\n",
       "         3.77944343e+00],\n",
       "       [-2.32132988e+02, -1.05301033e+01, -2.43010911e+00,\n",
       "        -6.96756629e-02],\n",
       "       [-2.26953299e+02, -1.77605879e+00,  3.09059588e+00,\n",
       "         1.06753180e+00],\n",
       "       [-2.96852152e+02,  4.45280309e+00,  3.64545501e+00,\n",
       "         1.06890802e+00],\n",
       "       [-2.52046392e+02, -5.21261759e+00, -1.45231083e+00,\n",
       "         2.64590054e+00],\n",
       "       [-1.85108857e+02, -8.31858202e+00, -4.81593129e+00,\n",
       "         3.99378098e+00],\n",
       "       [-6.71807518e+01, -1.45246902e+01, -1.47148703e+00,\n",
       "         2.55661956e+00],\n",
       "       [-1.22431326e+02, -2.75040387e+01, -3.08038596e+00,\n",
       "         4.04680260e+00],\n",
       "       [-2.67185333e+02, -1.40538901e+01,  2.34355042e+00,\n",
       "         1.09184357e+00],\n",
       "       [-2.97104415e+02, -8.41503161e+00, -9.72715452e-01,\n",
       "         1.20491910e+00],\n",
       "       [-2.52213885e+02, -1.52515702e+01, -1.05599736e-02,\n",
       "         1.18178509e+00],\n",
       "       [-4.57022215e+02, -3.69733793e+00,  4.01928491e+00,\n",
       "         7.99736564e-01],\n",
       "       [-4.01851274e+02,  5.33140022e+00,  3.84371981e+00,\n",
       "         2.41187772e-01],\n",
       "       [ 1.91183397e+02,  5.87937624e+01,  2.36881154e+00,\n",
       "         3.28506528e+00],\n",
       "       [-1.21279178e+02,  3.64175149e+01,  3.23171033e-01,\n",
       "         2.63414973e+00],\n",
       "       [-3.19088273e+02, -9.19307820e+00,  5.13148563e+00,\n",
       "         6.07265174e-02],\n",
       "       [-8.70802926e+01, -1.02265727e+01,  1.53970742e+00,\n",
       "         5.51883848e-01],\n",
       "       [-3.41040900e+02, -5.75056559e+00,  3.48018898e+00,\n",
       "         1.10072198e+00],\n",
       "       [-3.69316146e+01, -2.17041593e+00,  2.59030958e+00,\n",
       "         1.01140983e+00],\n",
       "       [-1.85073713e+02, -8.52051902e+00,  2.25097671e+00,\n",
       "         1.38163733e+00],\n",
       "       [-3.08882387e+02,  3.75165655e+00,  6.45735750e-01,\n",
       "         1.73494290e+00],\n",
       "       [-3.32089296e+02, -7.88372875e+00,  2.04129847e+00,\n",
       "         1.69966262e+00],\n",
       "       [-7.51531378e+01, -1.34138279e+01, -2.69440610e-01,\n",
       "         2.18948833e+00],\n",
       "       [-4.32009742e+02, -2.03294673e+00, -1.29785520e-02,\n",
       "         1.57866101e+00],\n",
       "       [-2.37206697e+02, -1.55619679e+01,  1.54724661e+00,\n",
       "         7.06506913e-01],\n",
       "       [-2.59148368e+02, -1.10788163e+01, -1.59997285e+00,\n",
       "         1.62990718e+00],\n",
       "       [-4.34957780e+02, -5.95260295e-02,  3.09505248e+00,\n",
       "         8.85005318e-01],\n",
       "       [-6.69906958e+01, -4.57145764e+00,  6.49008692e-01,\n",
       "         2.74788244e+00],\n",
       "       [-1.84736439e+02,  1.05164632e+01,  1.70289086e+00,\n",
       "         1.63245952e+00],\n",
       "       [-4.22042874e+02, -4.24492194e+00,  1.07980318e+00,\n",
       "         1.92901901e+00],\n",
       "       [-1.39818663e+02,  5.73555207e+00,  5.34029189e-01,\n",
       "         9.06997913e-01],\n",
       "       [-3.13060948e+02, -6.16709401e+00,  4.29583739e-01,\n",
       "         1.63877803e+00],\n",
       "       [-3.62129633e+02, -9.25929540e+00, -8.39044347e-01,\n",
       "         2.10006124e+00],\n",
       "       [-3.40115006e+02, -8.68973443e+00,  3.45930570e-01,\n",
       "         2.85790723e+00],\n",
       "       [-2.52109472e+02, -9.27587015e+00,  5.57705742e-01,\n",
       "         2.63672220e+00],\n",
       "       [-4.01695973e+02,  1.54258903e+01,  2.47856188e-01,\n",
       "         2.67763346e+00],\n",
       "       [-3.75171092e+02, -1.31850503e+01,  4.60945469e+00,\n",
       "        -1.44279916e+00],\n",
       "       [-1.83097929e+02, -9.55354432e+00,  1.90848316e+00,\n",
       "         2.48374537e+00],\n",
       "       [-1.21945241e+02, -1.58889428e+00,  6.55635430e-01,\n",
       "         1.88171817e+00],\n",
       "       [-2.81534569e+02,  2.45082612e+01, -6.48504587e+00,\n",
       "         2.42218920e+00],\n",
       "       [-3.81826778e+02,  9.18910976e+00, -4.13334205e+00,\n",
       "         3.61261836e+00],\n",
       "       [-3.67089380e+02, -7.18821589e+00, -2.18655027e-01,\n",
       "         1.26717316e+00],\n",
       "       [-3.67157175e+02, -1.11963202e+01,  3.65508871e-01,\n",
       "         1.53842878e+00],\n",
       "       [-3.69103601e+02, -8.17580491e+00,  6.39848719e-01,\n",
       "         1.67682732e+00],\n",
       "       [-3.95078836e+02, -6.67983187e+00,  6.18945571e-02,\n",
       "         8.08176502e-01],\n",
       "       [-2.81030369e+02, -2.53586007e+00, -6.78592530e+00,\n",
       "         4.08101907e+00],\n",
       "       [-4.05061288e+02, -4.45107367e+00, -2.20721536e+00,\n",
       "         3.22344065e+00],\n",
       "       [-1.67237642e+02, -1.67311857e+01, -1.73687914e+00,\n",
       "         2.09258255e+00],\n",
       "       [-1.16473000e+02,  2.42660201e+01,  2.78924950e+00,\n",
       "        -1.87585168e-01],\n",
       "       [-2.16784540e+02,  8.13044956e+00,  2.39926810e-01,\n",
       "        -1.34628911e+00],\n",
       "       [-1.86915112e+02,  1.71005736e+00, -3.85614652e+00,\n",
       "        -1.55093024e-01],\n",
       "       [-1.46769530e+02,  8.92033411e+00, -1.36448130e+00,\n",
       "        -3.27395672e-01],\n",
       "       [-9.71329736e+01, -1.30582838e+01,  1.67585772e+00,\n",
       "        -1.63723441e+00],\n",
       "       [-5.19820469e+01, -4.81229310e+00,  1.60730122e-01,\n",
       "        -2.79611640e+00],\n",
       "       [-2.70979307e+01, -1.02299962e+01, -1.83765584e+00,\n",
       "         5.18899575e-01],\n",
       "       [-2.31951534e+02,  5.34907410e-01, -4.83149311e+00,\n",
       "         2.11869152e-01],\n",
       "       [-1.67076246e+02, -8.75672311e+00, -1.77377625e-01,\n",
       "        -1.91760509e+00],\n",
       "       [-1.56868045e+02,  4.16316249e+00, -3.70307659e+00,\n",
       "         6.88754404e-01],\n",
       "       [-1.46946490e+02, -1.09672896e+00, -1.00960254e+00,\n",
       "        -6.33113571e-02],\n",
       "       [ 3.29042927e+01, -1.13053656e+01, -1.34137698e+00,\n",
       "        -7.64663661e-01],\n",
       "       [-2.26926210e+02,  1.38827837e+00, -2.96295367e+00,\n",
       "         5.56269025e-01],\n",
       "       [-1.97004347e+02, -4.22842870e+00, -1.22874042e-01,\n",
       "        -7.78682295e-01],\n",
       "       [ 1.08312677e+02,  1.03513304e+01, -4.81085430e-01,\n",
       "        -3.26865157e+00],\n",
       "       [ 8.31182626e+01,  8.06869695e-01, -1.79684297e+00,\n",
       "         9.64200078e-01],\n",
       "       [-3.32195840e+02, -1.38132989e+01, -1.70935837e-01,\n",
       "        -2.07373848e+00],\n",
       "       [-1.22126092e+02, -1.14699259e+01, -3.00064371e+00,\n",
       "        -2.88747351e+00],\n",
       "       [-9.70193893e+01, -5.90644258e+00, -2.98282629e+00,\n",
       "        -3.28558130e+00],\n",
       "       [-1.96624807e+02,  1.68731139e+01, -2.25389963e+00,\n",
       "        -4.40408659e+00],\n",
       "       [-2.46449199e+02,  2.78100954e+01, -3.75074929e+00,\n",
       "        -2.87467515e+00],\n",
       "       [-2.66628788e+02,  1.71502320e+01, -2.68311926e+00,\n",
       "        -5.42609326e+00],\n",
       "       [-3.21570741e+02,  2.21643401e+01, -4.42434279e+00,\n",
       "        -1.04671719e+00],\n",
       "       [-7.18976587e+01, -3.99656400e-01, -7.07753163e-01,\n",
       "        -5.99935436e+00],\n",
       "       [-1.06816618e+02,  5.20612307e+00, -7.33294017e-01,\n",
       "        -2.68645834e+00],\n",
       "       [-2.20202568e+01, -6.22943925e+00, -3.86483282e+00,\n",
       "        -2.76113172e+00],\n",
       "       [-2.67031732e+02, -5.92308914e+00, -7.03284458e-01,\n",
       "        -5.20401306e+00],\n",
       "       [ 1.32999841e+02, -4.86770544e+00, -8.75379841e+00,\n",
       "         2.32205421e-01],\n",
       "       [-8.69139986e+01,  7.96357772e-02, -7.17131368e+00,\n",
       "        -5.68849896e+00],\n",
       "       [-1.27061290e+02, -8.29141684e+00, -4.57728089e+00,\n",
       "        -5.57063640e+00],\n",
       "       [-2.27068836e+02, -7.61863030e+00, -1.85508543e+00,\n",
       "        -3.12235391e+00],\n",
       "       [-6.67554312e+01,  8.47028990e+00, -5.49136535e-01,\n",
       "        -1.43344098e+00],\n",
       "       [-1.76765098e+02,  9.47319000e+00, -1.84287292e+00,\n",
       "        -6.91502572e-01],\n",
       "       [-7.17683979e+01,  7.51063784e+00,  1.01222585e+00,\n",
       "        -1.38291711e+00],\n",
       "       [-1.32048248e+02, -7.25503031e+00, -3.66332810e+00,\n",
       "        -4.29589844e+00],\n",
       "       [-2.27077845e+02, -7.59337930e+00, -3.10400630e+00,\n",
       "        -2.10397325e+00],\n",
       "       [-5.16895065e+01,  1.23580850e+01, -4.74361265e+00,\n",
       "        -4.59492845e+00],\n",
       "       [-6.20850111e+01, -1.05540153e+01, -1.94213604e+00,\n",
       "        -5.45880165e+00],\n",
       "       [ 3.18276465e+00,  5.39136150e+00, -5.85723969e+00,\n",
       "        -2.00624823e+00],\n",
       "       [-1.16674818e+02,  1.45333703e+01, -5.75495650e+00,\n",
       "        -2.28351323e+00],\n",
       "       [-2.36921208e+02,  4.63036998e-01,  9.70193743e-01,\n",
       "        -1.84720991e+00],\n",
       "       [-2.77083578e+02, -8.74033191e+00, -8.39693618e-01,\n",
       "        -5.73827405e+00],\n",
       "       [-8.70274026e+01, -7.10459575e+00, -1.96051582e+00,\n",
       "        -4.89097541e+00],\n",
       "       [-6.98021096e+00, -4.54113657e+00, -2.47470686e+00,\n",
       "        -3.15591973e+00],\n",
       "       [ 3.13160468e+00,  2.33519051e+00, -4.30993061e+00,\n",
       "        -1.56218098e+00],\n",
       "       [ 8.84580737e+01,  1.87762846e+01, -2.23757651e+00,\n",
       "        -4.82070817e+00],\n",
       "       [ 9.34562419e+01,  1.86708191e+01, -1.78839152e+00,\n",
       "        -3.70935193e+00],\n",
       "       [-1.86943190e+02, -2.13330803e-01, -5.63050984e+00,\n",
       "        -3.47298694e+00]])"
      ]
     },
     "execution_count": 261,
     "metadata": {},
     "output_type": "execute_result"
    }
   ],
   "source": [
    "pc.fit_transform(wine.iloc[:, :-1]) # unspuervised learning은 y값 안 넣는다."
   ]
  },
  {
   "cell_type": "code",
   "execution_count": 262,
   "metadata": {},
   "outputs": [],
   "source": [
    "X = pc.fit_transform(wine.iloc[:, :-1])"
   ]
  },
  {
   "cell_type": "code",
   "execution_count": 263,
   "metadata": {},
   "outputs": [
    {
     "data": {
      "text/plain": [
       "array([0.66666667, 0.66666667, 0.61111111, 0.61111111, 0.61111111,\n",
       "       0.61111111, 0.72222222, 0.66666667, 0.82352941, 0.76470588])"
      ]
     },
     "execution_count": 263,
     "metadata": {},
     "output_type": "execute_result"
    }
   ],
   "source": [
    "cross_val_score(KNeighborsClassifier(), X, wine.iloc[:, -1], cv=10)"
   ]
  },
  {
   "cell_type": "markdown",
   "metadata": {},
   "source": [
    "feature가 13개에서 4개로 차원은 줄었는데 성능은 안 줄어들었다."
   ]
  },
  {
   "cell_type": "markdown",
   "metadata": {},
   "source": [
    "iris 데이터로도 해보자."
   ]
  },
  {
   "cell_type": "code",
   "execution_count": 290,
   "metadata": {},
   "outputs": [],
   "source": [
    "data = load_iris()\n",
    "pc = PCA(2)\n",
    "X = pc.fit_transform(data.data)"
   ]
  },
  {
   "cell_type": "code",
   "execution_count": 291,
   "metadata": {},
   "outputs": [
    {
     "data": {
      "text/plain": [
       "array([1.        , 0.93333333, 1.        , 1.        , 0.86666667,\n",
       "       0.93333333, 0.93333333, 1.        , 1.        , 1.        ])"
      ]
     },
     "execution_count": 291,
     "metadata": {},
     "output_type": "execute_result"
    }
   ],
   "source": [
    "# Before\n",
    "cross_val_score(KNeighborsClassifier(), data.data, data.target, cv=10)"
   ]
  },
  {
   "cell_type": "code",
   "execution_count": 292,
   "metadata": {},
   "outputs": [
    {
     "data": {
      "text/plain": [
       "array([1.        , 0.93333333, 1.        , 1.        , 0.86666667,\n",
       "       0.93333333, 0.93333333, 0.93333333, 1.        , 1.        ])"
      ]
     },
     "execution_count": 292,
     "metadata": {},
     "output_type": "execute_result"
    }
   ],
   "source": [
    "# After\n",
    "cross_val_score(KNeighborsClassifier(), X, data.target, cv=10)"
   ]
  },
  {
   "cell_type": "markdown",
   "metadata": {},
   "source": [
    "PCA로 차원이 줄어든 것을 시각화 해보자."
   ]
  },
  {
   "cell_type": "code",
   "execution_count": 270,
   "metadata": {},
   "outputs": [],
   "source": [
    "import matplotlib.pyplot as plt"
   ]
  },
  {
   "cell_type": "code",
   "execution_count": 274,
   "metadata": {},
   "outputs": [],
   "source": [
    "a = pd.DataFrame(X, columns=[\"component1\", \"component2\"])"
   ]
  },
  {
   "cell_type": "markdown",
   "metadata": {},
   "source": [
    "데이터 자체로만 계산해서 변형을 시켰더니 이런 데이터가 나왔다.  \n"
   ]
  },
  {
   "cell_type": "code",
   "execution_count": 278,
   "metadata": {},
   "outputs": [
    {
     "data": {
      "text/plain": [
       "<matplotlib.axes._subplots.AxesSubplot at 0x2b7a7aac908>"
      ]
     },
     "execution_count": 278,
     "metadata": {},
     "output_type": "execute_result"
    },
    {
     "data": {
      "image/png": "[encoded data removed]",
      "text/plain": [
       "<Figure size 432x288 with 1 Axes>"
      ]
     },
     "metadata": {
      "needs_background": "light"
     },
     "output_type": "display_data"
    }
   ],
   "source": [
    "a.plot.scatter(\"component1\", \"component2\")"
   ]
  },
  {
   "cell_type": "markdown",
   "metadata": {},
   "source": [
    "대략 다음 빨간 선처럼 선형으로 분리할 수 있을 것 같다.  "
   ]
  },
  {
   "cell_type": "code",
   "execution_count": 276,
   "metadata": {
    "scrolled": true
   },
   "outputs": [
    {
     "data": {
      "text/plain": [
       "[<matplotlib.lines.Line2D at 0x2b7a8ec7fd0>]"
      ]
     },
     "execution_count": 276,
     "metadata": {},
     "output_type": "execute_result"
    },
    {
     "data": {
      "image/png": "[encoded data removed]",
      "text/plain": [
       "<Figure size 432x288 with 1 Axes>"
      ]
     },
     "metadata": {
      "needs_background": "light"
     },
     "output_type": "display_data"
    }
   ],
   "source": [
    "a.plot.scatter(\"component1\", \"component2\")\n",
    "plt.plot([-3, 1], [-1.3, 2], color=\"red\")"
   ]
  },
  {
   "cell_type": "markdown",
   "metadata": {},
   "source": [
    "2차원으로 줄이는게 좋을지 3차원으로 줄이는 게 좋을지 확답할 수 없다. "
   ]
  },
  {
   "cell_type": "markdown",
   "metadata": {},
   "source": [
    "**PCA 정리**: \n",
    "- 차원이 줄어든다.\n",
    "    - 차원이 클수록 가지는 의미가 많다.\n",
    "    - 차원을 줄일수록 필요없는 feature가 압축되는 경향이 있다.\n",
    "    - 너무 줄이면 오버피팅이 생긴다.\n",
    "- 원래 가진 의미를 잃어린다. \n",
    "    - 데이터를 잘 나타내는 값으로 바뀐다.\n",
    "    - feature selection은 feature의 고유의미가 있지만, pca는 원래 feature의 영향을 알 수 없다.\n",
    "    - 해석이 불가능해진다.\n",
    "- 잘되는 데이터가 있고, 그대로인 데이터가 있다.\n",
    "- 실무에서는 별로다.\n",
    "    - PCA로 만든 모델은 실제 사용할 때도 전처리로 pca를 해야한다. \n",
    "    - 차원을 줄이는 LDA라는 걸 쓴다.\n",
    "- PCA란 기법이 있다는 것 정도 알고 있자."
   ]
  },
  {
   "cell_type": "markdown",
   "metadata": {},
   "source": [
    "참고: Supervised 방식으로 차원을 줄이는 LDA"
   ]
  },
  {
   "cell_type": "code",
   "execution_count": 239,
   "metadata": {},
   "outputs": [],
   "source": [
    "from sklearn.decomposition import LatentDirichletAllocation"
   ]
  },
  {
   "cell_type": "code",
   "execution_count": 247,
   "metadata": {},
   "outputs": [],
   "source": [
    "lda = LatentDirichletAllocation(n_components=4)"
   ]
  },
  {
   "cell_type": "code",
   "execution_count": 273,
   "metadata": {},
   "outputs": [
    {
     "data": {
      "text/plain": [
       "array([[2.01493527e-04, 2.01493536e-04, 2.01493536e-04, 9.99395519e-01],\n",
       "       [2.09985876e-04, 2.09985891e-04, 2.09985890e-04, 9.99370042e-01],\n",
       "       [1.86933856e-04, 1.86933867e-04, 1.86933865e-04, 9.99439198e-01],\n",
       "       [1.51897661e-04, 1.51897675e-04, 1.51897673e-04, 9.99544307e-01],\n",
       "       [2.76371604e-04, 2.76371596e-04, 2.76371600e-04, 9.99170885e-01],\n",
       "       [1.55201614e-04, 1.55201629e-04, 1.55201627e-04, 9.99534395e-01],\n",
       "       [1.74523572e-04, 1.74523587e-04, 1.74523585e-04, 9.99476429e-01],\n",
       "       [1.70680513e-04, 1.70680527e-04, 1.70680525e-04, 9.99487958e-01],\n",
       "       [2.10443435e-04, 2.10443447e-04, 2.10443446e-04, 9.99368670e-01],\n",
       "       [2.09651360e-04, 2.09651371e-04, 2.09651370e-04, 9.99371046e-01],\n",
       "       [1.50048189e-04, 1.50048203e-04, 1.50048201e-04, 9.99549855e-01],\n",
       "       [1.75871343e-04, 1.75871360e-04, 1.75871358e-04, 9.99472386e-01],\n",
       "       [1.71696941e-04, 1.71696957e-04, 1.71696955e-04, 9.99484909e-01],\n",
       "       [1.94363218e-04, 1.94363229e-04, 1.94363227e-04, 9.99416910e-01],\n",
       "       [1.47336591e-04, 1.47336605e-04, 1.47336603e-04, 9.99557990e-01],\n",
       "       [1.69829825e-04, 1.69829839e-04, 1.69829837e-04, 9.99490510e-01],\n",
       "       [1.72087970e-04, 1.72087983e-04, 1.72087982e-04, 9.99483736e-01],\n",
       "       [1.92682385e-04, 1.92682395e-04, 1.92682394e-04, 9.99421953e-01],\n",
       "       [1.35857469e-04, 1.35857484e-04, 1.35857482e-04, 9.99592428e-01],\n",
       "       [2.47882890e-04, 2.47882893e-04, 2.47882895e-04, 9.99256351e-01],\n",
       "       [2.61822691e-04, 2.61822689e-04, 2.61822692e-04, 9.99214532e-01],\n",
       "       [2.71138131e-04, 2.71138127e-04, 2.71138129e-04, 9.99186586e-01],\n",
       "       [2.11325842e-04, 2.11325854e-04, 2.11325853e-04, 9.99366022e-01],\n",
       "       [2.16193146e-04, 2.16193158e-04, 2.16193157e-04, 9.99351421e-01],\n",
       "       [2.52353382e-04, 2.52353386e-04, 2.52353386e-04, 9.99242940e-01],\n",
       "       [2.47860175e-04, 2.47860172e-04, 2.47860175e-04, 9.99256419e-01],\n",
       "       [1.87333464e-04, 1.87333479e-04, 1.87333477e-04, 9.99438000e-01],\n",
       "       [1.75607602e-04, 1.75607620e-04, 1.75607618e-04, 9.99473177e-01],\n",
       "       [2.32997074e-04, 2.32997078e-04, 2.32997078e-04, 9.99301009e-01],\n",
       "       [2.12277659e-04, 2.12277671e-04, 2.12277670e-04, 9.99363167e-01],\n",
       "       [1.73541447e-04, 1.73541460e-04, 1.73541459e-04, 9.99479376e-01],\n",
       "       [1.49474188e-04, 1.49474204e-04, 1.49474202e-04, 9.99551577e-01],\n",
       "       [2.19186182e-04, 2.19186191e-04, 2.19186190e-04, 9.99342441e-01],\n",
       "       [1.76386555e-04, 1.76386567e-04, 1.76386566e-04, 9.99470840e-01],\n",
       "       [1.99509475e-04, 1.99509488e-04, 1.99509487e-04, 9.99401472e-01],\n",
       "       [2.33283640e-04, 2.33283646e-04, 2.33283646e-04, 9.99300149e-01],\n",
       "       [2.41544279e-04, 2.41544286e-04, 2.41544286e-04, 9.99275367e-01],\n",
       "       [2.00137110e-04, 2.00137125e-04, 2.00137124e-04, 9.99399589e-01],\n",
       "       [2.15332888e-04, 2.15332902e-04, 2.15332901e-04, 9.99354001e-01],\n",
       "       [2.67230582e-04, 2.67230576e-04, 2.67230580e-04, 9.99198308e-01],\n",
       "       [2.60103078e-04, 2.60103075e-04, 2.60103077e-04, 9.99219691e-01],\n",
       "       [2.12878821e-04, 2.12878832e-04, 2.12878831e-04, 9.99361364e-01],\n",
       "       [2.00980033e-04, 2.00980046e-04, 2.00980044e-04, 9.99397060e-01],\n",
       "       [3.00643267e-04, 3.00643256e-04, 3.00643259e-04, 9.99098070e-01],\n",
       "       [2.40468231e-04, 2.40468237e-04, 2.40468238e-04, 9.99278595e-01],\n",
       "       [2.01144262e-04, 2.01144272e-04, 2.01144271e-04, 9.99396567e-01],\n",
       "       [2.05404370e-04, 2.05404378e-04, 2.05404377e-04, 9.99383787e-01],\n",
       "       [2.20285870e-04, 2.20285880e-04, 2.20285879e-04, 9.99339142e-01],\n",
       "       [2.05843837e-04, 2.05843847e-04, 2.05843846e-04, 9.99382468e-01],\n",
       "       [1.75961224e-04, 1.75961237e-04, 1.75961235e-04, 9.99472116e-01],\n",
       "       [1.94183526e-04, 1.94183540e-04, 1.94183538e-04, 9.99417449e-01],\n",
       "       [1.77518090e-04, 1.77518105e-04, 1.77518103e-04, 9.99467446e-01],\n",
       "       [1.85230384e-04, 1.85230396e-04, 1.85230395e-04, 9.99444309e-01],\n",
       "       [1.62407467e-04, 1.62407481e-04, 1.62407479e-04, 9.99512778e-01],\n",
       "       [2.03986721e-04, 2.03986734e-04, 2.03986733e-04, 9.99388040e-01],\n",
       "       [1.93987449e-04, 1.93987461e-04, 1.93987460e-04, 9.99418038e-01],\n",
       "       [2.19770992e-04, 2.19771000e-04, 2.19771000e-04, 9.99340687e-01],\n",
       "       [1.75972188e-04, 1.75972202e-04, 1.75972200e-04, 9.99472083e-01],\n",
       "       [1.73247854e-04, 1.73247868e-04, 1.73247866e-04, 9.99480256e-01],\n",
       "       [3.91009814e-04, 3.91009818e-04, 3.91009822e-04, 9.98826971e-01],\n",
       "       [3.04827244e-04, 3.04827245e-04, 3.04827248e-04, 9.99085518e-01],\n",
       "       [4.21750615e-04, 4.21750576e-04, 4.21750588e-04, 9.98734748e-01],\n",
       "       [3.25393376e-04, 3.25393373e-04, 3.25393377e-04, 9.99023820e-01],\n",
       "       [4.50199990e-04, 4.50199921e-04, 4.50199935e-04, 9.98649400e-01],\n",
       "       [4.97327919e-04, 4.97327825e-04, 4.97327850e-04, 9.98508016e-01],\n",
       "       [3.04057348e-04, 3.04057340e-04, 3.04057343e-04, 9.99087828e-01],\n",
       "       [3.99659246e-04, 3.99659207e-04, 3.99659215e-04, 9.98801022e-01],\n",
       "       [3.93899431e-04, 3.93899405e-04, 3.93899411e-04, 9.98818302e-01],\n",
       "       [2.77299844e-04, 2.77299850e-04, 2.77299852e-04, 9.99168100e-01],\n",
       "       [2.74516009e-04, 2.74516012e-04, 2.74516017e-04, 9.99176452e-01],\n",
       "       [2.45972087e-04, 2.45972102e-04, 2.45972101e-04, 9.99262084e-01],\n",
       "       [4.53655665e-04, 4.53655582e-04, 4.53655598e-04, 9.98639033e-01],\n",
       "       [4.09936951e-04, 4.09936915e-04, 4.09936925e-04, 9.98770189e-01],\n",
       "       [2.11244868e-04, 2.11244874e-04, 2.11244875e-04, 9.99366265e-01],\n",
       "       [2.41635503e-04, 2.41635514e-04, 2.41635514e-04, 9.99275093e-01],\n",
       "       [4.42152483e-04, 4.42152438e-04, 4.42152451e-04, 9.98673543e-01],\n",
       "       [4.80118242e-04, 4.80118183e-04, 4.80118199e-04, 9.98559645e-01],\n",
       "       [3.82020144e-04, 3.82020115e-04, 3.82020125e-04, 9.98853940e-01],\n",
       "       [2.69885439e-04, 2.69885442e-04, 2.69885445e-04, 9.99190344e-01],\n",
       "       [4.05517434e-04, 4.05517363e-04, 4.05517377e-04, 9.98783448e-01],\n",
       "       [6.12406543e-04, 6.12406380e-04, 6.12406414e-04, 9.98162781e-01],\n",
       "       [2.95157473e-04, 2.95157471e-04, 2.95157473e-04, 9.99114528e-01],\n",
       "       [3.30626283e-04, 3.30626274e-04, 3.30626277e-04, 9.99008121e-01],\n",
       "       [3.83945799e-04, 3.83945755e-04, 3.83945763e-04, 9.98848163e-01],\n",
       "       [3.79905915e-04, 3.79905892e-04, 3.79905900e-04, 9.98860282e-01],\n",
       "       [4.21813182e-04, 4.21813139e-04, 4.21813151e-04, 9.98734561e-01],\n",
       "       [3.95478213e-04, 3.95478177e-04, 3.95478186e-04, 9.98813565e-01],\n",
       "       [3.56658959e-04, 3.56658934e-04, 3.56658940e-04, 9.98930023e-01],\n",
       "       [3.08466366e-04, 3.08466361e-04, 3.08466363e-04, 9.99074601e-01],\n",
       "       [3.36575526e-04, 3.36575517e-04, 3.36575519e-04, 9.98990273e-01],\n",
       "       [4.14154959e-04, 4.14154921e-04, 4.14154929e-04, 9.98757535e-01],\n",
       "       [4.28904923e-04, 4.28904873e-04, 4.28904885e-04, 9.98713285e-01],\n",
       "       [4.03095021e-04, 4.03094987e-04, 4.03094994e-04, 9.98790715e-01],\n",
       "       [5.90399683e-04, 5.90399513e-04, 5.90399546e-04, 9.98228801e-01],\n",
       "       [5.12470158e-04, 5.12470060e-04, 5.12470084e-04, 9.98462590e-01],\n",
       "       [2.18354867e-04, 2.18354873e-04, 2.18354875e-04, 9.99344935e-01],\n",
       "       [3.10857916e-04, 3.10857914e-04, 3.10857920e-04, 9.99067426e-01],\n",
       "       [4.50101936e-04, 4.50101879e-04, 4.50101892e-04, 9.98649694e-01],\n",
       "       [3.14033704e-04, 3.14033694e-04, 3.14033697e-04, 9.99057899e-01],\n",
       "       [4.61962875e-04, 4.61962771e-04, 4.61962789e-04, 9.98614112e-01],\n",
       "       [2.93885019e-04, 2.93885019e-04, 2.93885021e-04, 9.99118345e-01],\n",
       "       [3.61101438e-04, 3.61101430e-04, 3.61101435e-04, 9.98916696e-01],\n",
       "       [4.27983128e-04, 4.27983071e-04, 4.27983085e-04, 9.98716051e-01],\n",
       "       [4.59262116e-04, 4.59262062e-04, 4.59262075e-04, 9.98622214e-01],\n",
       "       [3.10980642e-04, 3.10980638e-04, 3.10980640e-04, 9.99067058e-01],\n",
       "       [5.51652495e-04, 5.51652344e-04, 5.51652373e-04, 9.98345043e-01],\n",
       "       [3.93597882e-04, 3.93597852e-04, 3.93597859e-04, 9.98819206e-01],\n",
       "       [4.03268363e-04, 4.03268327e-04, 4.03268335e-04, 9.98790195e-01],\n",
       "       [5.57138102e-04, 5.57137974e-04, 5.57138002e-04, 9.98328586e-01],\n",
       "       [3.04406311e-04, 3.04406303e-04, 3.04406306e-04, 9.99086781e-01],\n",
       "       [3.48420166e-04, 3.48420133e-04, 3.48420142e-04, 9.98954740e-01],\n",
       "       [5.43478307e-04, 5.43478193e-04, 5.43478217e-04, 9.98369565e-01],\n",
       "       [3.30423902e-04, 3.30423881e-04, 3.30423887e-04, 9.99008728e-01],\n",
       "       [4.40649093e-04, 4.40649041e-04, 4.40649054e-04, 9.98678053e-01],\n",
       "       [4.83099528e-04, 4.83099443e-04, 4.83099461e-04, 9.98550702e-01],\n",
       "       [4.64503350e-04, 4.64503262e-04, 4.64503278e-04, 9.98606490e-01],\n",
       "       [3.99501450e-04, 3.99501422e-04, 3.99501430e-04, 9.98801496e-01],\n",
       "       [4.99375263e-04, 4.99375167e-04, 4.99375191e-04, 9.98501874e-01],\n",
       "       [5.06377975e-04, 5.06377899e-04, 5.06377915e-04, 9.98480866e-01],\n",
       "       [3.59579577e-04, 3.59579554e-04, 3.59579560e-04, 9.98921261e-01],\n",
       "       [3.25157597e-04, 3.25157581e-04, 3.25157586e-04, 9.99024527e-01],\n",
       "       [3.87172687e-04, 3.87172607e-04, 3.87172624e-04, 9.98838482e-01],\n",
       "       [4.79173837e-04, 4.79173719e-04, 4.79173742e-04, 9.98562479e-01],\n",
       "       [4.82160468e-04, 4.82160351e-04, 4.82160371e-04, 9.98553519e-01],\n",
       "       [4.86651546e-04, 4.86651428e-04, 4.86651448e-04, 9.98540046e-01],\n",
       "       [4.89336283e-04, 4.89336193e-04, 4.89336211e-04, 9.98531991e-01],\n",
       "       [5.12533464e-04, 5.12533353e-04, 5.12533375e-04, 9.98462400e-01],\n",
       "       [4.08144026e-04, 4.08143965e-04, 4.08143978e-04, 9.98775568e-01],\n",
       "       [5.20600494e-04, 5.20600381e-04, 5.20600404e-04, 9.98438199e-01],\n",
       "       [3.52704459e-04, 3.52704435e-04, 3.52704439e-04, 9.98941887e-01],\n",
       "       [3.14846195e-04, 3.14846200e-04, 3.14846205e-04, 9.99055461e-01],\n",
       "       [3.67329392e-04, 3.67329377e-04, 3.67329384e-04, 9.98898012e-01],\n",
       "       [3.53193605e-04, 3.53193596e-04, 3.53193601e-04, 9.98940419e-01],\n",
       "       [3.31492691e-04, 3.31492685e-04, 3.31492690e-04, 9.99005522e-01],\n",
       "       [3.21456608e-04, 3.21456607e-04, 3.21456609e-04, 9.99035630e-01],\n",
       "       [2.99471502e-04, 2.99471501e-04, 2.99471502e-04, 9.99101585e-01],\n",
       "       [2.92268873e-04, 2.92268872e-04, 2.92268873e-04, 9.99123193e-01],\n",
       "       [3.76223774e-04, 3.76223726e-04, 3.76223735e-04, 9.98871329e-01],\n",
       "       [3.49448839e-04, 3.49448821e-04, 3.49448825e-04, 9.98951654e-01],\n",
       "       [3.36829542e-04, 3.36829523e-04, 3.36829528e-04, 9.98989511e-01],\n",
       "       [3.36335295e-04, 3.36335283e-04, 3.36335287e-04, 9.98990994e-01],\n",
       "       [2.72919388e-04, 2.72919397e-04, 2.72919397e-04, 9.99181242e-01],\n",
       "       [3.74717877e-04, 3.74717848e-04, 3.74717856e-04, 9.98875846e-01],\n",
       "       [3.61770851e-04, 3.61770820e-04, 3.61770827e-04, 9.98914688e-01],\n",
       "       [2.46319417e-04, 2.46319426e-04, 2.46319427e-04, 9.99261042e-01],\n",
       "       [2.55406794e-04, 2.55406803e-04, 2.55406803e-04, 9.99233780e-01],\n",
       "       [4.60833549e-04, 4.60833492e-04, 4.60833504e-04, 9.98617499e-01],\n",
       "       [3.27764320e-04, 3.27764305e-04, 3.27764308e-04, 9.99016707e-01],\n",
       "       [3.14855110e-04, 3.14855101e-04, 3.14855104e-04, 9.99055435e-01],\n",
       "       [3.49188112e-04, 3.49188087e-04, 3.49188095e-04, 9.98952436e-01],\n",
       "       [3.68829332e-04, 3.68829301e-04, 3.68829313e-04, 9.98893512e-01],\n",
       "       [3.87154218e-04, 3.87154184e-04, 3.87154196e-04, 9.98838537e-01],\n",
       "       [4.19920459e-04, 4.19920408e-04, 4.19920425e-04, 9.98740239e-01],\n",
       "       [3.03322267e-04, 3.03322256e-04, 3.03322259e-04, 9.99090033e-01],\n",
       "       [3.16578570e-04, 3.16578568e-04, 3.16578571e-04, 9.99050264e-01],\n",
       "       [2.86924100e-04, 2.86924091e-04, 2.86924093e-04, 9.99139228e-01],\n",
       "       [4.02509224e-04, 4.02509174e-04, 4.02509184e-04, 9.98792472e-01],\n",
       "       [2.42115750e-04, 2.42115755e-04, 2.42115755e-04, 9.99273653e-01],\n",
       "       [3.04794632e-04, 3.04794612e-04, 3.04794616e-04, 9.99085616e-01],\n",
       "       [3.26391240e-04, 3.26391220e-04, 3.26391224e-04, 9.99020826e-01],\n",
       "       [3.79552538e-04, 3.79552503e-04, 3.79552510e-04, 9.98861342e-01],\n",
       "       [2.99235961e-04, 2.99235956e-04, 2.99235959e-04, 9.99102292e-01],\n",
       "       [3.44541755e-04, 3.44541732e-04, 3.44541739e-04, 9.98966375e-01],\n",
       "       [3.02536037e-04, 3.02536037e-04, 3.02536039e-04, 9.99092392e-01],\n",
       "       [3.29815692e-04, 3.29815681e-04, 3.29815685e-04, 9.99010553e-01],\n",
       "       [3.78788487e-04, 3.78788451e-04, 3.78788458e-04, 9.98863635e-01],\n",
       "       [2.89875486e-04, 2.89875476e-04, 2.89875480e-04, 9.99130374e-01],\n",
       "       [3.03448391e-04, 3.03448387e-04, 3.03448388e-04, 9.99089655e-01],\n",
       "       [2.74632564e-04, 2.74632564e-04, 2.74632566e-04, 9.99176102e-01],\n",
       "       [3.12686999e-04, 3.12686983e-04, 3.12686988e-04, 9.99061939e-01],\n",
       "       [3.84250452e-04, 3.84250432e-04, 3.84250439e-04, 9.98847249e-01],\n",
       "       [4.13185838e-04, 4.13185803e-04, 4.13185811e-04, 9.98760443e-01],\n",
       "       [3.11381284e-04, 3.11381278e-04, 3.11381280e-04, 9.99065856e-01],\n",
       "       [2.81699844e-04, 2.81699837e-04, 2.81699839e-04, 9.99154900e-01],\n",
       "       [2.76196363e-04, 2.76196362e-04, 2.76196364e-04, 9.99171411e-01],\n",
       "       [2.48146197e-04, 2.48146200e-04, 2.48146201e-04, 9.99255561e-01],\n",
       "       [2.47430161e-04, 2.47430166e-04, 2.47430167e-04, 9.99257710e-01],\n",
       "       [3.50290822e-04, 3.50290787e-04, 3.50290794e-04, 9.98949128e-01]])"
      ]
     },
     "execution_count": 273,
     "metadata": {},
     "output_type": "execute_result"
    }
   ],
   "source": [
    "lda.fit_transform(wine.iloc[:, :-1], wine.iloc[:, -1]) # => y값 필요, supervised로 차원을 줄여준다."
   ]
  },
  {
   "cell_type": "markdown",
   "metadata": {},
   "source": [
    "### t-sne"
   ]
  },
  {
   "cell_type": "markdown",
   "metadata": {},
   "source": [
    "scikit-learn이 업데이트하면서 `t_sne`를 사용할 수 없게 되었다.  \n",
    "t-sne는 딥러닝에서 많이 쓰는 기법이므로, 나중에 다시 배울 예정이다."
   ]
  },
  {
   "cell_type": "code",
   "execution_count": 179,
   "metadata": {},
   "outputs": [
    {
     "name": "stderr",
     "output_type": "stream",
     "text": [
      "C:\\Users\\JINHYO\\Anaconda3\\lib\\site-packages\\sklearn\\utils\\deprecation.py:144: FutureWarning: The sklearn.manifold.t_sne module is  deprecated in version 0.22 and will be removed in version 0.24. The corresponding classes / functions should instead be imported from sklearn.manifold. Anything that cannot be imported from sklearn.manifold is now part of the private API.\n",
      "  warnings.warn(message, FutureWarning)\n"
     ]
    }
   ],
   "source": [
    "from sklearn.manifold import t_sne"
   ]
  },
  {
   "cell_type": "markdown",
   "metadata": {},
   "source": [
    "---"
   ]
  },
  {
   "cell_type": "markdown",
   "metadata": {},
   "source": [
    "unsupervised learning은 일반적인 기계학습에서는 별로 도움이 안되는데 딥러닝에서는 도움이 많이 된다."
   ]
  },
  {
   "cell_type": "markdown",
   "metadata": {},
   "source": [
    "---"
   ]
  },
  {
   "cell_type": "markdown",
   "metadata": {},
   "source": [
    "## Deep Learning의 역사"
   ]
  },
  {
   "cell_type": "markdown",
   "metadata": {},
   "source": [
    "1957년, Frank Rosenblatt(프랭크 로젠블랫)이 뇌의 뉴런을 모방한 알고리즘, Perceptron(퍼셉트론)을 만들었다.  \n",
    "퍼셉트론은 AND 문제와 OR 문제를 해결할 수 있는 알고리즘으로 큰 인기를 끌었다.  \n",
    "지금보면 별 것 아니지만 당시에는 기계가 스스로 해결할 수 있다는 것에 열광했다(학자들이)"
   ]
  },
  {
   "cell_type": "markdown",
   "metadata": {},
   "source": [
    "> AND문제: 둘다 불이 켜지면 1, 하나라도 꺼지면 0\n",
    "> \n",
    ">|$X_1$|$X_2$|AND|\n",
    "|:---:|:---:|:---:|\n",
    "|0|0|0|\n",
    "|1|0|0|\n",
    "|0|1|0|\n",
    "|1|1|1|\n",
    ">\n",
    "> AND를 나타내는 수학적 모델은 $y = 0.4x_1 + 0.4x_2  - 0.5$ $(\\text{if} \\space y > 0,\\space 1 \\space \\text{else} \\space 0)$ 로 하면 해결 가능"
   ]
  },
  {
   "cell_type": "markdown",
   "metadata": {},
   "source": [
    ">OR문제: 하나라도 불이 켜지면 1, 둘다 꺼지면 0\n",
    ">\n",
    ">|$X_1$|$X_2$|OR|\n",
    "|:---:|:---:|:---:|\n",
    "|0|0|0|\n",
    "|1|0|1|\n",
    "|0|1|1|\n",
    "|1|1|1|\n",
    ">\n",
    "> OR를 나타내는 수학적 모델은 $y = 0.4x_1 + 0.4x_2  - 0.3$ $(\\text{if} \\space y > 0,\\space 1 \\space \\text{else} \\space 0)$ 로 하면 해결 가능"
   ]
  },
  {
   "cell_type": "markdown",
   "metadata": {},
   "source": [
    "Perceptron의 구조를 보면 수학적으로 1차식과 같다.  \n",
    "수학적으로 1차식과 같기때문에 선형으로는 해결할 수 없는 태생적 한계가 있다.  "
   ]
  },
  {
   "cell_type": "markdown",
   "metadata": {},
   "source": [
    "1969년, 기호주의 인공지능 연구자 Marvin Minsky(마빈 민스키)가 XOR은 해결할 수 없는 한계를 수학적으로 증명하였다.  \n",
    "또한 perceptron 여러개를 이용해서 XOR 문제를 해결할 수는 있지만, 너무 복잡해서 이를 학습시킬 방법이 없다고 밝혔다.  \n",
    "당시에는 기호주의와 연결주의 사이에 헤게모니 싸움이 심한 시절이었다.  \n",
    "거액의 연구비가 달려있는 문제였기 때문에 새로운 논문이 나오면 서로 상대 진영을 공격했다.  "
   ]
  },
  {
   "cell_type": "markdown",
   "metadata": {},
   "source": [
    "Perceptron을 옹호하던 연결주의 인공지능에 1차 AI 겨울이 도래한다."
   ]
  },
  {
   "cell_type": "markdown",
   "metadata": {},
   "source": [
    "> XOR문제: 하나라도 불이 켜지면 1, 둘다 켜지면 0\n",
    ">\n",
    "> |$X_1$|$X_2$|XOR|\n",
    "|:---:|:---:|:---:|\n",
    "|0|0|0|\n",
    "|1|0|1|\n",
    "|0|1|1|\n",
    "|1|1|0|\n",
    ">\n"
   ]
  },
  {
   "cell_type": "markdown",
   "metadata": {},
   "source": [
    "perceptron 알고리즘은 scikit-learn의 `linear_model`모듈에 있다.  \n",
    "linear 모델이기 때문에 복잡한 문제는 해결하지 못한다."
   ]
  },
  {
   "cell_type": "code",
   "execution_count": 180,
   "metadata": {},
   "outputs": [],
   "source": [
    "from sklearn.linear_model import Perceptron"
   ]
  },
  {
   "cell_type": "code",
   "execution_count": null,
   "metadata": {},
   "outputs": [],
   "source": [
    "per = Perceptron()"
   ]
  },
  {
   "cell_type": "markdown",
   "metadata": {},
   "source": [
    "1986년 Geoffrey Hinton(제프리 힌튼)이 Perceptron을 여러개 쌓은 알고리즘을 학습시킬 방법으로 Backpropagation을 발표한다.  \n",
    "perceptron을 여러개 쌓았다고 해서 Multi Layer Perceptron(MLP, 다층 퍼셉트론)이라고 한다.  \n",
    "성능이 더 좋아져 어려운 문제도 해결할 수 있게 되었다.  \n",
    "이때부터 neural network라고 불리며 전성기를 다시 맞이했다.  \n",
    "실패한 이미지를 벗어나기 위해 이름을 바꿔서 MLP보다는 Neural Network라는 이름으로 리브랜딩했다."
   ]
  },
  {
   "cell_type": "markdown",
   "metadata": {},
   "source": [
    "레이어를 쌓음으로써 선형 알고리즘에서 비선형 알고리즘으로 바뀌었다.  \n",
    "scikit-learn에서도 `linear_model`이 아니라 `neural_network`에 있다.  "
   ]
  },
  {
   "cell_type": "code",
   "execution_count": 281,
   "metadata": {},
   "outputs": [],
   "source": [
    "from sklearn.neural_network import MLPClassifier"
   ]
  },
  {
   "cell_type": "code",
   "execution_count": 282,
   "metadata": {},
   "outputs": [],
   "source": [
    "mlp = MLPClassifier()"
   ]
  },
  {
   "cell_type": "markdown",
   "metadata": {},
   "source": [
    "MLP는 레이어가 많아지면 오버피팅되는 문제와 학습이 안되는 문제가 발견되었다.  \n",
    "다시 AI 겨울이 찾아온다."
   ]
  },
  {
   "cell_type": "markdown",
   "metadata": {},
   "source": [
    "2006년 딥러닝의 시초가 탄생한다.  \n",
    "Geoffrey Hinton이 레이어를 깊게 쌓아도 학습되고 오버피팅 안되는 해결책을 가져왔다.  \n",
    "힌튼은 딥러닝 알고리즘으로 2012년 ILSVRC(이미지넷 이미지 인식 대회)에서 압도적인 성능을 우승한다."
   ]
  },
  {
   "cell_type": "code",
   "execution_count": null,
   "metadata": {},
   "outputs": [],
   "source": []
  },
  {
   "cell_type": "code",
   "execution_count": null,
   "metadata": {},
   "outputs": [],
   "source": []
  }
 ],
 "metadata": {
  "kernelspec": {
   "display_name": "Python 3",
   "language": "python",
   "name": "python3"
  },
  "language_info": {
   "codemirror_mode": {
    "name": "ipython",
    "version": 3
   },
   "file_extension": ".py",
   "mimetype": "text/x-python",
   "name": "python",
   "nbconvert_exporter": "python",
   "pygments_lexer": "ipython3",
   "version": "3.7.3"
  },
  "toc": {
   "base_numbering": 1,
   "nav_menu": {},
   "number_sections": true,
   "sideBar": true,
   "skip_h1_title": true,
   "title_cell": "Table of Contents",
   "title_sidebar": "Contents",
   "toc_cell": true,
   "toc_position": {},
   "toc_section_display": true,
   "toc_window_display": true
  },
  "varInspector": {
   "cols": {
    "lenName": 16,
    "lenType": 16,
    "lenVar": 40
   },
   "kernels_config": {
    "python": {
     "delete_cmd_postfix": "",
     "delete_cmd_prefix": "del ",
     "library": "var_list.py",
     "varRefreshCmd": "print(var_dic_list())"
    },
    "r": {
     "delete_cmd_postfix": ") ",
     "delete_cmd_prefix": "rm(",
     "library": "var_list.r",
     "varRefreshCmd": "cat(var_dic_list()) "
    }
   },
   "types_to_exclude": [
    "module",
    "function",
    "builtin_function_or_method",
    "instance",
    "_Feature"
   ],
   "window_display": false
  }
 },
 "nbformat": 4,
 "nbformat_minor": 2
}
