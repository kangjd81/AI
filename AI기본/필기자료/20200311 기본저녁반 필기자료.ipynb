{
 "cells": [
  {
   "cell_type": "markdown",
   "metadata": {
    "toc": true
   },
   "source": [
    "<h1>Table of Contents<span class=\"tocSkip\"></span></h1>\n",
    "<div class=\"toc\"><ul class=\"toc-item\"><li><span><a href=\"#추천시스템\" data-toc-modified-id=\"추천시스템-1\"><span class=\"toc-item-num\">1&nbsp;&nbsp;</span>추천시스템</a></span><ul class=\"toc-item\"><li><span><a href=\"#비슷한-유저-찾기\" data-toc-modified-id=\"비슷한-유저-찾기-1.1\"><span class=\"toc-item-num\">1.1&nbsp;&nbsp;</span>비슷한 유저 찾기</a></span></li><li><span><a href=\"#비슷한-유저가-본-영화-추천-&amp;-평점순-우선순위\" data-toc-modified-id=\"비슷한-유저가-본-영화-추천-&amp;-평점순-우선순위-1.2\"><span class=\"toc-item-num\">1.2&nbsp;&nbsp;</span>비슷한 유저가 본 영화 추천 &amp; 평점순 우선순위</a></span></li><li><span><a href=\"#추천-영화-합치기\" data-toc-modified-id=\"추천-영화-합치기-1.3\"><span class=\"toc-item-num\">1.3&nbsp;&nbsp;</span>추천 영화 합치기</a></span></li><li><span><a href=\"#추천-영화-이름-보기\" data-toc-modified-id=\"추천-영화-이름-보기-1.4\"><span class=\"toc-item-num\">1.4&nbsp;&nbsp;</span>추천 영화 이름 보기</a></span></li><li><span><a href=\"#함수-모아보기\" data-toc-modified-id=\"함수-모아보기-1.5\"><span class=\"toc-item-num\">1.5&nbsp;&nbsp;</span>함수 모아보기</a></span></li></ul></li><li><span><a href=\"#folium으로-가짜-코로나19-지도-만들기\" data-toc-modified-id=\"folium으로-가짜-코로나19-지도-만들기-2\"><span class=\"toc-item-num\">2&nbsp;&nbsp;</span>folium으로 가짜 코로나19 지도 만들기</a></span><ul class=\"toc-item\"><li><span><a href=\"#DataFrame에서-for문-쓰는-방법-4가지\" data-toc-modified-id=\"DataFrame에서-for문-쓰는-방법-4가지-2.1\"><span class=\"toc-item-num\">2.1&nbsp;&nbsp;</span>DataFrame에서 for문 쓰는 방법 4가지</a></span></li></ul></li></ul></div>"
   ]
  },
  {
   "cell_type": "markdown",
   "metadata": {},
   "source": [
    "# [AI 오픈 이노베이션] 기본 저녁반<a class=\"tocSkip\">\n",
    "GitHub link: <a href=\"https://github.com/realblack0/ai_lecture_fundamental\">here</a>  \n",
    "E-Mail: realblack0@gmail.com"
   ]
  },
  {
   "cell_type": "markdown",
   "metadata": {},
   "source": [
    "## 추천시스템"
   ]
  },
  {
   "cell_type": "markdown",
   "metadata": {},
   "source": [
    "이번 섹션의 실습 데이터는 LMS의 3월 11일 첨부자료에 있습니다. (movie-master.zip)"
   ]
  },
  {
   "cell_type": "markdown",
   "metadata": {},
   "source": [
    "### 비슷한 유저 찾기"
   ]
  },
  {
   "cell_type": "code",
   "execution_count": 1,
   "metadata": {},
   "outputs": [],
   "source": [
    "import pandas as pd"
   ]
  },
  {
   "cell_type": "code",
   "execution_count": 2,
   "metadata": {},
   "outputs": [],
   "source": [
    "ratings = pd.read_csv(\"movie/ratings.csv\")"
   ]
  },
  {
   "cell_type": "code",
   "execution_count": 3,
   "metadata": {},
   "outputs": [
    {
     "data": {
      "text/html": [
       "<div>\n",
       "<style scoped>\n",
       "    .dataframe tbody tr th:only-of-type {\n",
       "        vertical-align: middle;\n",
       "    }\n",
       "\n",
       "    .dataframe tbody tr th {\n",
       "        vertical-align: top;\n",
       "    }\n",
       "\n",
       "    .dataframe thead th {\n",
       "        text-align: right;\n",
       "    }\n",
       "</style>\n",
       "<table border=\"1\" class=\"dataframe\">\n",
       "  <thead>\n",
       "    <tr style=\"text-align: right;\">\n",
       "      <th></th>\n",
       "      <th>user_id</th>\n",
       "      <th>movie_id</th>\n",
       "      <th>rating</th>\n",
       "      <th>timestamp</th>\n",
       "    </tr>\n",
       "  </thead>\n",
       "  <tbody>\n",
       "    <tr>\n",
       "      <th>0</th>\n",
       "      <td>1</td>\n",
       "      <td>1193</td>\n",
       "      <td>5</td>\n",
       "      <td>978300760</td>\n",
       "    </tr>\n",
       "    <tr>\n",
       "      <th>1</th>\n",
       "      <td>1</td>\n",
       "      <td>661</td>\n",
       "      <td>3</td>\n",
       "      <td>978302109</td>\n",
       "    </tr>\n",
       "    <tr>\n",
       "      <th>2</th>\n",
       "      <td>1</td>\n",
       "      <td>914</td>\n",
       "      <td>3</td>\n",
       "      <td>978301968</td>\n",
       "    </tr>\n",
       "    <tr>\n",
       "      <th>3</th>\n",
       "      <td>1</td>\n",
       "      <td>3408</td>\n",
       "      <td>4</td>\n",
       "      <td>978300275</td>\n",
       "    </tr>\n",
       "    <tr>\n",
       "      <th>4</th>\n",
       "      <td>1</td>\n",
       "      <td>2355</td>\n",
       "      <td>5</td>\n",
       "      <td>978824291</td>\n",
       "    </tr>\n",
       "    <tr>\n",
       "      <th>...</th>\n",
       "      <td>...</td>\n",
       "      <td>...</td>\n",
       "      <td>...</td>\n",
       "      <td>...</td>\n",
       "    </tr>\n",
       "    <tr>\n",
       "      <th>1000204</th>\n",
       "      <td>6040</td>\n",
       "      <td>1091</td>\n",
       "      <td>1</td>\n",
       "      <td>956716541</td>\n",
       "    </tr>\n",
       "    <tr>\n",
       "      <th>1000205</th>\n",
       "      <td>6040</td>\n",
       "      <td>1094</td>\n",
       "      <td>5</td>\n",
       "      <td>956704887</td>\n",
       "    </tr>\n",
       "    <tr>\n",
       "      <th>1000206</th>\n",
       "      <td>6040</td>\n",
       "      <td>562</td>\n",
       "      <td>5</td>\n",
       "      <td>956704746</td>\n",
       "    </tr>\n",
       "    <tr>\n",
       "      <th>1000207</th>\n",
       "      <td>6040</td>\n",
       "      <td>1096</td>\n",
       "      <td>4</td>\n",
       "      <td>956715648</td>\n",
       "    </tr>\n",
       "    <tr>\n",
       "      <th>1000208</th>\n",
       "      <td>6040</td>\n",
       "      <td>1097</td>\n",
       "      <td>4</td>\n",
       "      <td>956715569</td>\n",
       "    </tr>\n",
       "  </tbody>\n",
       "</table>\n",
       "<p>1000209 rows × 4 columns</p>\n",
       "</div>"
      ],
      "text/plain": [
       "         user_id  movie_id  rating  timestamp\n",
       "0              1      1193       5  978300760\n",
       "1              1       661       3  978302109\n",
       "2              1       914       3  978301968\n",
       "3              1      3408       4  978300275\n",
       "4              1      2355       5  978824291\n",
       "...          ...       ...     ...        ...\n",
       "1000204     6040      1091       1  956716541\n",
       "1000205     6040      1094       5  956704887\n",
       "1000206     6040       562       5  956704746\n",
       "1000207     6040      1096       4  956715648\n",
       "1000208     6040      1097       4  956715569\n",
       "\n",
       "[1000209 rows x 4 columns]"
      ]
     },
     "execution_count": 3,
     "metadata": {},
     "output_type": "execute_result"
    }
   ],
   "source": [
    "ratings"
   ]
  },
  {
   "cell_type": "markdown",
   "metadata": {},
   "source": [
    "먼저, 원본 데이터를 카피해둔다."
   ]
  },
  {
   "cell_type": "code",
   "execution_count": 4,
   "metadata": {},
   "outputs": [],
   "source": [
    "ratings_raw = ratings.copy()"
   ]
  },
  {
   "cell_type": "markdown",
   "metadata": {},
   "source": [
    "timestamp는 영화 평점을 매긴 시간이다.  \n",
    "어떻게 추천할지 전략에 따라서 활용할 수 있다. (예: 오래된 평점은 무시하고, 최신 평점은 가중치를 더 주는 방법)  \n",
    "이번 추천시스템 실습에서는 사용하지 않을 것이므로 삭제한다."
   ]
  },
  {
   "cell_type": "code",
   "execution_count": 5,
   "metadata": {},
   "outputs": [],
   "source": [
    "recommendation_1 = ratings.drop(columns=\"timestamp\")"
   ]
  },
  {
   "cell_type": "markdown",
   "metadata": {},
   "source": [
    "user_id를 인덱스로, movie_id를 열로 데이터를 가공한다.  \n",
    "결측값은 0으로 채운다.  \n",
    "데이터를 가공할 때마다 새로 할당하면 이전 단계로 되돌아가기 좋다."
   ]
  },
  {
   "cell_type": "code",
   "execution_count": 6,
   "metadata": {},
   "outputs": [],
   "source": [
    "recommendation_2 = recommendation_1.set_index([\"user_id\", \"movie_id\"]).unstack().fillna(0)"
   ]
  },
  {
   "cell_type": "markdown",
   "metadata": {},
   "source": [
    "전체 데이터의 양이 꽤 크기 때문에 상관관계를 계산하는데 시간이 오래 걸린다.  \n",
    "실습 시간을 단축하기 위해서 데이터를 일부만 사용한다.(현실 문제에서는 더 좋은 컴퓨터를 마련해야한다.)"
   ]
  },
  {
   "cell_type": "code",
   "execution_count": 7,
   "metadata": {},
   "outputs": [],
   "source": [
    "recommendation_3 = recommendation_2.iloc[:1000, :1000] # 실습 시간 문제"
   ]
  },
  {
   "cell_type": "markdown",
   "metadata": {},
   "source": [
    "`T`는 인덱스와 컬럼을 전치하는 메소드이다.  \n",
    "`corr`은 컬럼끼리의 상관관계를 구하는 메소드이다.  \n",
    "유저간의 상관관계를 분석할 것이므로, user_id가 컬럼이 되도록 전치한 후 `corr`하였다."
   ]
  },
  {
   "cell_type": "code",
   "execution_count": 8,
   "metadata": {},
   "outputs": [],
   "source": [
    "recommendation_4 = recommendation_3.T.corr()"
   ]
  },
  {
   "cell_type": "markdown",
   "metadata": {},
   "source": [
    "4번 유저(user_id=4)와 다른 유저들간의 상관관계를 뽑아올 수 있다."
   ]
  },
  {
   "cell_type": "code",
   "execution_count": 9,
   "metadata": {},
   "outputs": [
    {
     "data": {
      "text/plain": [
       "user_id\n",
       "1       0.128041\n",
       "2       0.117076\n",
       "3       0.421361\n",
       "4       1.000000\n",
       "5      -0.012701\n",
       "          ...   \n",
       "996     0.235446\n",
       "997     0.146728\n",
       "998    -0.011323\n",
       "999     0.130853\n",
       "1000    0.370799\n",
       "Name: 4, Length: 1000, dtype: float64"
      ]
     },
     "execution_count": 9,
     "metadata": {},
     "output_type": "execute_result"
    }
   ],
   "source": [
    "recommendation_4.iloc[3] # iloc이므로 인덱스 기준"
   ]
  },
  {
   "cell_type": "markdown",
   "metadata": {},
   "source": [
    "4번 유저와 상관관계가 높은 유저를 찾아보자. (상관관계가 높다 = 비슷하다)  \n",
    "`sort_values`는 값을 순서대로 정렬해준다. `ascending=False` 옵션은 내림차순으로 정렬한다.  \n",
    "상위 5개 데이터만 슬라이싱한다."
   ]
  },
  {
   "cell_type": "code",
   "execution_count": 10,
   "metadata": {},
   "outputs": [
    {
     "data": {
      "text/plain": [
       "user_id\n",
       "4      1.000000\n",
       "160    0.794130\n",
       "747    0.726089\n",
       "763    0.623551\n",
       "248    0.609241\n",
       "Name: 4, dtype: float64"
      ]
     },
     "execution_count": 10,
     "metadata": {},
     "output_type": "execute_result"
    }
   ],
   "source": [
    "recommendation_4.iloc[3].sort_values(ascending=False)[:5]"
   ]
  },
  {
   "cell_type": "markdown",
   "metadata": {},
   "source": [
    "`nlargest`는 가장 큰 값을 n개 구하는 메소드이다.  \n",
    "위 코드를 메소드로 간단히 대체할 수 있다."
   ]
  },
  {
   "cell_type": "code",
   "execution_count": 11,
   "metadata": {},
   "outputs": [
    {
     "data": {
      "text/plain": [
       "user_id\n",
       "4      1.000000\n",
       "160    0.794130\n",
       "747    0.726089\n",
       "763    0.623551\n",
       "248    0.609241\n",
       "Name: 4, dtype: float64"
      ]
     },
     "execution_count": 11,
     "metadata": {},
     "output_type": "execute_result"
    }
   ],
   "source": [
    "recommendation_4.iloc[3].nlargest() # 기본값 n=5"
   ]
  },
  {
   "cell_type": "code",
   "execution_count": 12,
   "metadata": {},
   "outputs": [
    {
     "data": {
      "text/plain": [
       "user_id\n",
       "4      1.000000\n",
       "160    0.794130\n",
       "747    0.726089\n",
       "Name: 4, dtype: float64"
      ]
     },
     "execution_count": 12,
     "metadata": {},
     "output_type": "execute_result"
    }
   ],
   "source": [
    "recommendation_4.iloc[3].nlargest(3) # n=3일 때"
   ]
  },
  {
   "cell_type": "markdown",
   "metadata": {},
   "source": [
    "자기자신과의 상관관계는 1이므로 상관관계 내림차순으로 정렬하면 첫번째는 항상 자기자신이다.  \n",
    "4번 유저와 비슷한 다른 유저들을 찾는게 목적이므로, 슬라이싱으로 자기자신을 제외한다."
   ]
  },
  {
   "cell_type": "code",
   "execution_count": 13,
   "metadata": {},
   "outputs": [
    {
     "data": {
      "text/plain": [
       "user_id\n",
       "160    0.794130\n",
       "747    0.726089\n",
       "763    0.623551\n",
       "248    0.609241\n",
       "Name: 4, dtype: float64"
      ]
     },
     "execution_count": 13,
     "metadata": {},
     "output_type": "execute_result"
    }
   ],
   "source": [
    "recommendation_4.loc[4].nlargest()[1:] # loc은 이름 기준"
   ]
  },
  {
   "cell_type": "markdown",
   "metadata": {},
   "source": [
    "비슷한 유저를 찾는 일은 추천할 때마다 반복할 것이므로, 함수로 만들어둔다."
   ]
  },
  {
   "cell_type": "code",
   "execution_count": 14,
   "metadata": {},
   "outputs": [],
   "source": [
    "def my_corr(my_id, n):\n",
    "    return recommendation_4.loc[my_id].nlargest(n+1)[1:]"
   ]
  },
  {
   "cell_type": "code",
   "execution_count": 15,
   "metadata": {},
   "outputs": [
    {
     "data": {
      "text/plain": [
       "user_id\n",
       "160    0.794130\n",
       "747    0.726089\n",
       "763    0.623551\n",
       "248    0.609241\n",
       "206    0.603656\n",
       "Name: 4, dtype: float64"
      ]
     },
     "execution_count": 15,
     "metadata": {},
     "output_type": "execute_result"
    }
   ],
   "source": [
    "my_corr(4, 5) # 4번 유저와 가장 비슷한 유저 5명"
   ]
  },
  {
   "cell_type": "markdown",
   "metadata": {},
   "source": [
    "### 비슷한 유저가 본 영화 추천 & 평점순 우선순위"
   ]
  },
  {
   "cell_type": "markdown",
   "metadata": {},
   "source": [
    "4번 유저와 가장 비슷한 유저는 160번이었다.  \n",
    "160번이 본 영화는 다음과 같이 boolean indexing할 수 있다."
   ]
  },
  {
   "cell_type": "code",
   "execution_count": 16,
   "metadata": {},
   "outputs": [
    {
     "data": {
      "text/html": [
       "<div>\n",
       "<style scoped>\n",
       "    .dataframe tbody tr th:only-of-type {\n",
       "        vertical-align: middle;\n",
       "    }\n",
       "\n",
       "    .dataframe tbody tr th {\n",
       "        vertical-align: top;\n",
       "    }\n",
       "\n",
       "    .dataframe thead th {\n",
       "        text-align: right;\n",
       "    }\n",
       "</style>\n",
       "<table border=\"1\" class=\"dataframe\">\n",
       "  <thead>\n",
       "    <tr style=\"text-align: right;\">\n",
       "      <th></th>\n",
       "      <th>user_id</th>\n",
       "      <th>movie_id</th>\n",
       "      <th>rating</th>\n",
       "    </tr>\n",
       "  </thead>\n",
       "  <tbody>\n",
       "    <tr>\n",
       "      <th>21827</th>\n",
       "      <td>160</td>\n",
       "      <td>648</td>\n",
       "      <td>2</td>\n",
       "    </tr>\n",
       "    <tr>\n",
       "      <th>21828</th>\n",
       "      <td>160</td>\n",
       "      <td>3793</td>\n",
       "      <td>3</td>\n",
       "    </tr>\n",
       "    <tr>\n",
       "      <th>21829</th>\n",
       "      <td>160</td>\n",
       "      <td>3798</td>\n",
       "      <td>3</td>\n",
       "    </tr>\n",
       "    <tr>\n",
       "      <th>21830</th>\n",
       "      <td>160</td>\n",
       "      <td>1282</td>\n",
       "      <td>4</td>\n",
       "    </tr>\n",
       "    <tr>\n",
       "      <th>21831</th>\n",
       "      <td>160</td>\n",
       "      <td>1286</td>\n",
       "      <td>5</td>\n",
       "    </tr>\n",
       "    <tr>\n",
       "      <th>21832</th>\n",
       "      <td>160</td>\n",
       "      <td>2160</td>\n",
       "      <td>3</td>\n",
       "    </tr>\n",
       "    <tr>\n",
       "      <th>21833</th>\n",
       "      <td>160</td>\n",
       "      <td>1387</td>\n",
       "      <td>3</td>\n",
       "    </tr>\n",
       "    <tr>\n",
       "      <th>21834</th>\n",
       "      <td>160</td>\n",
       "      <td>1396</td>\n",
       "      <td>4</td>\n",
       "    </tr>\n",
       "    <tr>\n",
       "      <th>21835</th>\n",
       "      <td>160</td>\n",
       "      <td>1544</td>\n",
       "      <td>3</td>\n",
       "    </tr>\n",
       "    <tr>\n",
       "      <th>21836</th>\n",
       "      <td>160</td>\n",
       "      <td>3185</td>\n",
       "      <td>3</td>\n",
       "    </tr>\n",
       "    <tr>\n",
       "      <th>21837</th>\n",
       "      <td>160</td>\n",
       "      <td>3408</td>\n",
       "      <td>4</td>\n",
       "    </tr>\n",
       "    <tr>\n",
       "      <th>21838</th>\n",
       "      <td>160</td>\n",
       "      <td>3510</td>\n",
       "      <td>3</td>\n",
       "    </tr>\n",
       "    <tr>\n",
       "      <th>21839</th>\n",
       "      <td>160</td>\n",
       "      <td>260</td>\n",
       "      <td>4</td>\n",
       "    </tr>\n",
       "    <tr>\n",
       "      <th>21840</th>\n",
       "      <td>160</td>\n",
       "      <td>2858</td>\n",
       "      <td>4</td>\n",
       "    </tr>\n",
       "    <tr>\n",
       "      <th>21841</th>\n",
       "      <td>160</td>\n",
       "      <td>2791</td>\n",
       "      <td>3</td>\n",
       "    </tr>\n",
       "    <tr>\n",
       "      <th>21842</th>\n",
       "      <td>160</td>\n",
       "      <td>3598</td>\n",
       "      <td>4</td>\n",
       "    </tr>\n",
       "    <tr>\n",
       "      <th>21843</th>\n",
       "      <td>160</td>\n",
       "      <td>1210</td>\n",
       "      <td>3</td>\n",
       "    </tr>\n",
       "    <tr>\n",
       "      <th>21844</th>\n",
       "      <td>160</td>\n",
       "      <td>480</td>\n",
       "      <td>4</td>\n",
       "    </tr>\n",
       "    <tr>\n",
       "      <th>21845</th>\n",
       "      <td>160</td>\n",
       "      <td>3916</td>\n",
       "      <td>5</td>\n",
       "    </tr>\n",
       "    <tr>\n",
       "      <th>21846</th>\n",
       "      <td>160</td>\n",
       "      <td>1097</td>\n",
       "      <td>3</td>\n",
       "    </tr>\n",
       "  </tbody>\n",
       "</table>\n",
       "</div>"
      ],
      "text/plain": [
       "       user_id  movie_id  rating\n",
       "21827      160       648       2\n",
       "21828      160      3793       3\n",
       "21829      160      3798       3\n",
       "21830      160      1282       4\n",
       "21831      160      1286       5\n",
       "21832      160      2160       3\n",
       "21833      160      1387       3\n",
       "21834      160      1396       4\n",
       "21835      160      1544       3\n",
       "21836      160      3185       3\n",
       "21837      160      3408       4\n",
       "21838      160      3510       3\n",
       "21839      160       260       4\n",
       "21840      160      2858       4\n",
       "21841      160      2791       3\n",
       "21842      160      3598       4\n",
       "21843      160      1210       3\n",
       "21844      160       480       4\n",
       "21845      160      3916       5\n",
       "21846      160      1097       3"
      ]
     },
     "execution_count": 16,
     "metadata": {},
     "output_type": "execute_result"
    }
   ],
   "source": [
    "recommendation_1[recommendation_1.user_id==160]"
   ]
  },
  {
   "cell_type": "markdown",
   "metadata": {},
   "source": [
    "이 중에서 movie_id열만 뽑아서 numpy array로 변환한다.  \n",
    "4번 유저와 160번 유저는 (영화 취향이) 비슷하므로, 160번 유저가 본 영화를 4번 유저에게 추천할 수 있다."
   ]
  },
  {
   "cell_type": "code",
   "execution_count": 17,
   "metadata": {},
   "outputs": [
    {
     "data": {
      "text/plain": [
       "array([ 648, 3793, 3798, 1282, 1286, 2160, 1387, 1396, 1544, 3185, 3408,\n",
       "       3510,  260, 2858, 2791, 3598, 1210,  480, 3916, 1097], dtype=int64)"
      ]
     },
     "execution_count": 17,
     "metadata": {},
     "output_type": "execute_result"
    }
   ],
   "source": [
    "recommendation_1[recommendation_1.user_id==160][\"movie_id\"].values"
   ]
  },
  {
   "cell_type": "markdown",
   "metadata": {},
   "source": [
    "데이터를 set(집합)으로 타입을 변환할 수 있다.  \n",
    "set은 중복성 검사할때 유용하다."
   ]
  },
  {
   "cell_type": "code",
   "execution_count": 18,
   "metadata": {},
   "outputs": [
    {
     "data": {
      "text/plain": [
       "{260,\n",
       " 480,\n",
       " 648,\n",
       " 1097,\n",
       " 1210,\n",
       " 1282,\n",
       " 1286,\n",
       " 1387,\n",
       " 1396,\n",
       " 1544,\n",
       " 2160,\n",
       " 2791,\n",
       " 2858,\n",
       " 3185,\n",
       " 3408,\n",
       " 3510,\n",
       " 3598,\n",
       " 3793,\n",
       " 3798,\n",
       " 3916}"
      ]
     },
     "execution_count": 18,
     "metadata": {},
     "output_type": "execute_result"
    }
   ],
   "source": [
    "set(recommendation_1[recommendation_1.user_id==160][\"movie_id\"].values)"
   ]
  },
  {
   "cell_type": "markdown",
   "metadata": {},
   "source": [
    "160번 유저가 본 영화 목록에서, 4번 유저가 본 영화를 제외하고 추천하기 위해서 차집합을 이용한다.  \n",
    "다음은 추천할 영화들이다."
   ]
  },
  {
   "cell_type": "code",
   "execution_count": 19,
   "metadata": {},
   "outputs": [],
   "source": [
    "recom_movie_id = set(recommendation_1[recommendation_1.user_id == 160][\"movie_id\"].values) - \\\n",
    "                     set(recommendation_1[recommendation_1.user_id == 4][\"movie_id\"].values)"
   ]
  },
  {
   "cell_type": "code",
   "execution_count": 20,
   "metadata": {},
   "outputs": [
    {
     "data": {
      "text/plain": [
       "{648,\n",
       " 1282,\n",
       " 1286,\n",
       " 1396,\n",
       " 1544,\n",
       " 2160,\n",
       " 2791,\n",
       " 2858,\n",
       " 3185,\n",
       " 3408,\n",
       " 3510,\n",
       " 3598,\n",
       " 3793,\n",
       " 3798,\n",
       " 3916}"
      ]
     },
     "execution_count": 20,
     "metadata": {},
     "output_type": "execute_result"
    }
   ],
   "source": [
    "recom_movie_id"
   ]
  },
  {
   "cell_type": "markdown",
   "metadata": {},
   "source": [
    "현재는 추천할 영화 목록만 있는 상태이다. 추천에는 우선순위가 필요하다. 영화 평점으로 추천 우선순위를 구해보자.  \n",
    "추천 대상이 된 영화들의 평점을 `isin` 메소드와 boolean indexing으로 가져온다."
   ]
  },
  {
   "cell_type": "code",
   "execution_count": 21,
   "metadata": {},
   "outputs": [
    {
     "data": {
      "text/html": [
       "<div>\n",
       "<style scoped>\n",
       "    .dataframe tbody tr th:only-of-type {\n",
       "        vertical-align: middle;\n",
       "    }\n",
       "\n",
       "    .dataframe tbody tr th {\n",
       "        vertical-align: top;\n",
       "    }\n",
       "\n",
       "    .dataframe thead th {\n",
       "        text-align: right;\n",
       "    }\n",
       "</style>\n",
       "<table border=\"1\" class=\"dataframe\">\n",
       "  <thead>\n",
       "    <tr style=\"text-align: right;\">\n",
       "      <th></th>\n",
       "      <th>user_id</th>\n",
       "      <th>movie_id</th>\n",
       "      <th>rating</th>\n",
       "    </tr>\n",
       "  </thead>\n",
       "  <tbody>\n",
       "    <tr>\n",
       "      <th>3</th>\n",
       "      <td>1</td>\n",
       "      <td>3408</td>\n",
       "      <td>4</td>\n",
       "    </tr>\n",
       "    <tr>\n",
       "      <th>15</th>\n",
       "      <td>1</td>\n",
       "      <td>2791</td>\n",
       "      <td>4</td>\n",
       "    </tr>\n",
       "    <tr>\n",
       "      <th>58</th>\n",
       "      <td>2</td>\n",
       "      <td>648</td>\n",
       "      <td>4</td>\n",
       "    </tr>\n",
       "    <tr>\n",
       "      <th>87</th>\n",
       "      <td>2</td>\n",
       "      <td>1544</td>\n",
       "      <td>4</td>\n",
       "    </tr>\n",
       "    <tr>\n",
       "      <th>105</th>\n",
       "      <td>2</td>\n",
       "      <td>2858</td>\n",
       "      <td>4</td>\n",
       "    </tr>\n",
       "    <tr>\n",
       "      <th>...</th>\n",
       "      <td>...</td>\n",
       "      <td>...</td>\n",
       "      <td>...</td>\n",
       "    </tr>\n",
       "    <tr>\n",
       "      <th>999582</th>\n",
       "      <td>6037</td>\n",
       "      <td>2160</td>\n",
       "      <td>5</td>\n",
       "    </tr>\n",
       "    <tr>\n",
       "      <th>999833</th>\n",
       "      <td>6039</td>\n",
       "      <td>1282</td>\n",
       "      <td>3</td>\n",
       "    </tr>\n",
       "    <tr>\n",
       "      <th>999859</th>\n",
       "      <td>6039</td>\n",
       "      <td>2791</td>\n",
       "      <td>4</td>\n",
       "    </tr>\n",
       "    <tr>\n",
       "      <th>999938</th>\n",
       "      <td>6040</td>\n",
       "      <td>2858</td>\n",
       "      <td>4</td>\n",
       "    </tr>\n",
       "    <tr>\n",
       "      <th>1000184</th>\n",
       "      <td>6040</td>\n",
       "      <td>2791</td>\n",
       "      <td>4</td>\n",
       "    </tr>\n",
       "  </tbody>\n",
       "</table>\n",
       "<p>16096 rows × 3 columns</p>\n",
       "</div>"
      ],
      "text/plain": [
       "         user_id  movie_id  rating\n",
       "3              1      3408       4\n",
       "15             1      2791       4\n",
       "58             2       648       4\n",
       "87             2      1544       4\n",
       "105            2      2858       4\n",
       "...          ...       ...     ...\n",
       "999582      6037      2160       5\n",
       "999833      6039      1282       3\n",
       "999859      6039      2791       4\n",
       "999938      6040      2858       4\n",
       "1000184     6040      2791       4\n",
       "\n",
       "[16096 rows x 3 columns]"
      ]
     },
     "execution_count": 21,
     "metadata": {},
     "output_type": "execute_result"
    }
   ],
   "source": [
    "recommendation_1[recommendation_1.movie_id.isin(recom_movie_id)]"
   ]
  },
  {
   "cell_type": "markdown",
   "metadata": {},
   "source": [
    "추천 대상은 160번 유저가 본 영화들이기 때문에, 평점의 공정성을 위해서 160번의 평점은 제외하자.  \n",
    "boolean indexing할때 조건이 여러개이면 괄호로 묶어준다."
   ]
  },
  {
   "cell_type": "code",
   "execution_count": 22,
   "metadata": {},
   "outputs": [],
   "source": [
    "recommendation_5 = recommendation_1[recommendation_1.movie_id.isin(recom_movie_id) & (recommendation_1.user_id!=160)]"
   ]
  },
  {
   "cell_type": "markdown",
   "metadata": {},
   "source": [
    "집계함수 `groupby`로 영화별 평균 평점을 구한 다음, 평균 평점이 가장 높은 5개 영화를 우선 추천한다."
   ]
  },
  {
   "cell_type": "code",
   "execution_count": 23,
   "metadata": {},
   "outputs": [
    {
     "data": {
      "text/plain": [
       "movie_id\n",
       "2858    4.317479\n",
       "2791    3.971676\n",
       "3916    3.922018\n",
       "1282    3.904459\n",
       "3408    3.863775\n",
       "Name: rating, dtype: float64"
      ]
     },
     "execution_count": 23,
     "metadata": {},
     "output_type": "execute_result"
    }
   ],
   "source": [
    "recommendation_5.groupby(\"movie_id\")['rating'].mean().nlargest(5)"
   ]
  },
  {
   "cell_type": "markdown",
   "metadata": {},
   "source": [
    "비슷한 유저가 본 영화를 평점 순으로 추천하는 과정도 반복할 것이므로 함수로 만든다."
   ]
  },
  {
   "cell_type": "code",
   "execution_count": 25,
   "metadata": {},
   "outputs": [],
   "source": [
    "def recom_movie(my_id, user_id, count):\n",
    "    recom_movie_id = set(recommendation_1[recommendation_1.user_id == user_id][\"movie_id\"].values) - \\\n",
    "        set(recommendation_1[recommendation_1.user_id == my_id][\"movie_id\"].values)\n",
    "    recommendation_5 = recommendation_1[recommendation_1.movie_id.isin(recom_movie_id) &  \n",
    "                                        (recommendation_1.user_id != user_id)] \n",
    "    return recommendation_5.groupby(\"movie_id\")['rating'].mean().nlargest(count).index"
   ]
  },
  {
   "cell_type": "code",
   "execution_count": 26,
   "metadata": {},
   "outputs": [
    {
     "data": {
      "text/plain": [
       "Int64Index([2858, 2791, 3916, 1282, 3408, 3793, 2160, 3510], dtype='int64', name='movie_id')"
      ]
     },
     "execution_count": 26,
     "metadata": {},
     "output_type": "execute_result"
    }
   ],
   "source": [
    "recom_movie(4, 160, 8) # 4번 유저에게 160번 유저가 본 영화를 추천하는데\n",
    "                       # 평점 순으로 8개 추천."
   ]
  },
  {
   "cell_type": "markdown",
   "metadata": {},
   "source": [
    "### 추천 영화 합치기"
   ]
  },
  {
   "cell_type": "markdown",
   "metadata": {},
   "source": [
    "앞서 만든 `my_corr` 함수로 비슷한 유저들을 찾은 뒤,  \n",
    "비슷한 유저가 본 영화 추천 목록을 temp에 저장한다."
   ]
  },
  {
   "cell_type": "code",
   "execution_count": 27,
   "metadata": {},
   "outputs": [],
   "source": [
    "temp = []\n",
    "for i in my_corr(4, 5).index: \n",
    "    temp.append(recom_movie(4, i, 5))"
   ]
  },
  {
   "cell_type": "code",
   "execution_count": 28,
   "metadata": {},
   "outputs": [
    {
     "data": {
      "text/plain": [
       "[Int64Index([2858, 2791, 3916, 1282, 3408], dtype='int64', name='movie_id'),\n",
       " Int64Index([2571, 3897, 1200, 3949, 3578], dtype='int64', name='movie_id'),\n",
       " Int64Index([1136, 1213, 541, 1225, 919], dtype='int64', name='movie_id'),\n",
       " Int64Index([2571, 1197, 110, 1242, 1222], dtype='int64', name='movie_id'),\n",
       " Int64Index([1193, 2571, 3897, 1200, 924], dtype='int64', name='movie_id')]"
      ]
     },
     "execution_count": 28,
     "metadata": {},
     "output_type": "execute_result"
    }
   ],
   "source": [
    "temp"
   ]
  },
  {
   "cell_type": "markdown",
   "metadata": {},
   "source": [
    "각각의 추천 목록을 temp2에 합친다."
   ]
  },
  {
   "cell_type": "code",
   "execution_count": 29,
   "metadata": {},
   "outputs": [],
   "source": [
    "temp2 = [] # accumulation\n",
    "for i in temp:\n",
    "    for j in i:\n",
    "        temp2.append(j)"
   ]
  },
  {
   "cell_type": "code",
   "execution_count": 30,
   "metadata": {},
   "outputs": [
    {
     "data": {
      "text/plain": [
       "[2858,\n",
       " 2791,\n",
       " 3916,\n",
       " 1282,\n",
       " 3408,\n",
       " 2571,\n",
       " 3897,\n",
       " 1200,\n",
       " 3949,\n",
       " 3578,\n",
       " 1136,\n",
       " 1213,\n",
       " 541,\n",
       " 1225,\n",
       " 919,\n",
       " 2571,\n",
       " 1197,\n",
       " 110,\n",
       " 1242,\n",
       " 1222,\n",
       " 1193,\n",
       " 2571,\n",
       " 3897,\n",
       " 1200,\n",
       " 924]"
      ]
     },
     "execution_count": 30,
     "metadata": {},
     "output_type": "execute_result"
    }
   ],
   "source": [
    "temp2"
   ]
  },
  {
   "cell_type": "markdown",
   "metadata": {},
   "source": [
    "`set`을 이용해서 중복되는 추천 영화를 제거한다."
   ]
  },
  {
   "cell_type": "code",
   "execution_count": 31,
   "metadata": {
    "scrolled": true
   },
   "outputs": [
    {
     "data": {
      "text/plain": [
       "{110,\n",
       " 541,\n",
       " 919,\n",
       " 924,\n",
       " 1136,\n",
       " 1193,\n",
       " 1197,\n",
       " 1200,\n",
       " 1213,\n",
       " 1222,\n",
       " 1225,\n",
       " 1242,\n",
       " 1282,\n",
       " 2571,\n",
       " 2791,\n",
       " 2858,\n",
       " 3408,\n",
       " 3578,\n",
       " 3897,\n",
       " 3916,\n",
       " 3949}"
      ]
     },
     "execution_count": 31,
     "metadata": {},
     "output_type": "execute_result"
    }
   ],
   "source": [
    "set(temp2)"
   ]
  },
  {
   "cell_type": "markdown",
   "metadata": {},
   "source": [
    "합쳐진 추천 영화 목록에서, 다시 평점 순으로 추천 우선순위를 정하여 최종 추천한다."
   ]
  },
  {
   "cell_type": "code",
   "execution_count": 32,
   "metadata": {},
   "outputs": [],
   "source": [
    "temp3 = recommendation_1[recommendation_1.movie_id.isin(set(temp2))] "
   ]
  },
  {
   "cell_type": "code",
   "execution_count": 33,
   "metadata": {},
   "outputs": [],
   "source": [
    "temp4 = temp3.groupby(\"movie_id\").rating.mean()"
   ]
  },
  {
   "cell_type": "code",
   "execution_count": 34,
   "metadata": {},
   "outputs": [
    {
     "data": {
      "text/plain": [
       "movie_id\n",
       "1193    4.390725\n",
       "1136    4.335210\n",
       "2858    4.317386\n",
       "2571    4.315830\n",
       "1197    4.303710\n",
       "Name: rating, dtype: float64"
      ]
     },
     "execution_count": 34,
     "metadata": {},
     "output_type": "execute_result"
    }
   ],
   "source": [
    "temp4.nlargest(5) # 최종 추천 영화"
   ]
  },
  {
   "cell_type": "markdown",
   "metadata": {},
   "source": [
    "위 과정을 함수로 만들면 다음과 같다."
   ]
  },
  {
   "cell_type": "code",
   "execution_count": 35,
   "metadata": {},
   "outputs": [],
   "source": [
    "def final_recom_movie(my_id, similarity_count=5, recom_count=5):\n",
    "    temp = []\n",
    "    for i in my_corr(my_id, similarity_count).index:\n",
    "        temp.append(recom_movie(my_id, i, recom_count))\n",
    "    temp2 = []\n",
    "    for i in temp:\n",
    "        for j in i:\n",
    "            temp2.append(j)\n",
    "    temp3 = recommendation_1[recommendation_1.movie_id.isin(set(temp2))]\n",
    "    temp4 = temp3.groupby(\"movie_id\").rating.mean()\n",
    "    return temp4.nlargest(recom_count).index"
   ]
  },
  {
   "cell_type": "code",
   "execution_count": 36,
   "metadata": {},
   "outputs": [
    {
     "data": {
      "text/plain": [
       "Int64Index([1193, 1136, 2858, 2571, 1197], dtype='int64', name='movie_id')"
      ]
     },
     "execution_count": 36,
     "metadata": {},
     "output_type": "execute_result"
    }
   ],
   "source": [
    "final_recom_movie(4) # 4번 유저에 대한 추천 영화"
   ]
  },
  {
   "cell_type": "markdown",
   "metadata": {},
   "source": [
    "### 추천 영화 이름 보기"
   ]
  },
  {
   "cell_type": "code",
   "execution_count": 37,
   "metadata": {},
   "outputs": [
    {
     "data": {
      "text/plain": [
       "Int64Index([318, 527, 1148, 1198, 260], dtype='int64', name='movie_id')"
      ]
     },
     "execution_count": 37,
     "metadata": {},
     "output_type": "execute_result"
    }
   ],
   "source": [
    "final_recom_movie(6)"
   ]
  },
  {
   "cell_type": "code",
   "execution_count": 38,
   "metadata": {},
   "outputs": [],
   "source": [
    "movie_id = final_recom_movie(6)"
   ]
  },
  {
   "cell_type": "code",
   "execution_count": 39,
   "metadata": {},
   "outputs": [],
   "source": [
    "movie = pd.read_csv(\"movie/movies.csv\", encoding=\"latin1\")"
   ]
  },
  {
   "cell_type": "code",
   "execution_count": 40,
   "metadata": {},
   "outputs": [
    {
     "data": {
      "text/html": [
       "<div>\n",
       "<style scoped>\n",
       "    .dataframe tbody tr th:only-of-type {\n",
       "        vertical-align: middle;\n",
       "    }\n",
       "\n",
       "    .dataframe tbody tr th {\n",
       "        vertical-align: top;\n",
       "    }\n",
       "\n",
       "    .dataframe thead th {\n",
       "        text-align: right;\n",
       "    }\n",
       "</style>\n",
       "<table border=\"1\" class=\"dataframe\">\n",
       "  <thead>\n",
       "    <tr style=\"text-align: right;\">\n",
       "      <th></th>\n",
       "      <th>movie_id</th>\n",
       "      <th>movie</th>\n",
       "      <th>genres</th>\n",
       "    </tr>\n",
       "  </thead>\n",
       "  <tbody>\n",
       "    <tr>\n",
       "      <th>257</th>\n",
       "      <td>260</td>\n",
       "      <td>Star Wars: Episode IV - A New Hope (1977)</td>\n",
       "      <td>Action|Adventure|Fantasy|Sci-Fi</td>\n",
       "    </tr>\n",
       "    <tr>\n",
       "      <th>315</th>\n",
       "      <td>318</td>\n",
       "      <td>Shawshank Redemption, The (1994)</td>\n",
       "      <td>Drama</td>\n",
       "    </tr>\n",
       "    <tr>\n",
       "      <th>523</th>\n",
       "      <td>527</td>\n",
       "      <td>Schindler's List (1993)</td>\n",
       "      <td>Drama|War</td>\n",
       "    </tr>\n",
       "    <tr>\n",
       "      <th>1132</th>\n",
       "      <td>1148</td>\n",
       "      <td>Wrong Trousers, The (1993)</td>\n",
       "      <td>Animation|Comedy</td>\n",
       "    </tr>\n",
       "    <tr>\n",
       "      <th>1180</th>\n",
       "      <td>1198</td>\n",
       "      <td>Raiders of the Lost Ark (1981)</td>\n",
       "      <td>Action|Adventure</td>\n",
       "    </tr>\n",
       "  </tbody>\n",
       "</table>\n",
       "</div>"
      ],
      "text/plain": [
       "      movie_id                                      movie  \\\n",
       "257        260  Star Wars: Episode IV - A New Hope (1977)   \n",
       "315        318           Shawshank Redemption, The (1994)   \n",
       "523        527                    Schindler's List (1993)   \n",
       "1132      1148                 Wrong Trousers, The (1993)   \n",
       "1180      1198             Raiders of the Lost Ark (1981)   \n",
       "\n",
       "                               genres  \n",
       "257   Action|Adventure|Fantasy|Sci-Fi  \n",
       "315                             Drama  \n",
       "523                         Drama|War  \n",
       "1132                 Animation|Comedy  \n",
       "1180                 Action|Adventure  "
      ]
     },
     "execution_count": 40,
     "metadata": {},
     "output_type": "execute_result"
    }
   ],
   "source": [
    "movie[movie.movie_id.isin(movie_id)]"
   ]
  },
  {
   "cell_type": "markdown",
   "metadata": {},
   "source": [
    "### 함수 모아보기"
   ]
  },
  {
   "cell_type": "code",
   "execution_count": 41,
   "metadata": {},
   "outputs": [],
   "source": [
    "def my_corr(my_id, n):\n",
    "    return recommendation_4.loc[my_id].nlargest(n+1)[1:]"
   ]
  },
  {
   "cell_type": "code",
   "execution_count": 47,
   "metadata": {},
   "outputs": [],
   "source": [
    "def recom_movie(my_id, user_id, count):\n",
    "    recom_movie_id = set(recommendation_1[recommendation_1.user_id == user_id][\"movie_id\"].values) - \\\n",
    "        set(recommendation_1[recommendation_1.user_id == my_id][\"movie_id\"].values)\n",
    "    recommendation_5 = recommendation_1[recommendation_1.movie_id.isin(recom_movie_id) & \n",
    "                                        (recommendation_1.user_id != user_id)] \n",
    "    return recommendation_5.groupby(\"movie_id\")['rating'].mean().nlargest(count).index"
   ]
  },
  {
   "cell_type": "code",
   "execution_count": 48,
   "metadata": {},
   "outputs": [],
   "source": [
    "def final_recom_movie(my_id, similarity_count=5, recom_count=5):\n",
    "    temp = []\n",
    "    for i in my_corr(my_id, similarity_count).index:\n",
    "        temp.append(recom_movie(my_id, i, recom_count))\n",
    "    temp2 = []\n",
    "    for i in temp:\n",
    "        for j in i:\n",
    "            temp2.append(j)\n",
    "    temp3 = recommendation_1[recommendation_1.movie_id.isin(set(temp2))]\n",
    "    temp4 = temp3.groupby(\"movie_id\").rating.mean()\n",
    "    return temp4.nlargest(recom_count).index"
   ]
  },
  {
   "cell_type": "markdown",
   "metadata": {},
   "source": [
    "## folium으로 가짜 코로나19 지도 만들기"
   ]
  },
  {
   "cell_type": "markdown",
   "metadata": {},
   "source": [
    "folium을 이용해서 최근 이슈가 되는 코로나 지도를 만들 수 있다. "
   ]
  },
  {
   "cell_type": "markdown",
   "metadata": {},
   "source": [
    "※ folium의 기본 사용법은 LMS의 3월 12일 첨부자료에 있습니다. (Geo Data.zip)  \n",
    "※ 실습 데이터는 공공데이터 포털의 상권(상가)정보 를 이용하였습니다. (다운로드 후 이름 변경)"
   ]
  },
  {
   "cell_type": "code",
   "execution_count": 49,
   "metadata": {},
   "outputs": [],
   "source": [
    "import folium\n",
    "import pandas as pd\n",
    "import numpy as np"
   ]
  },
  {
   "cell_type": "markdown",
   "metadata": {},
   "source": [
    "보안설정이 높게 되어 있으면 빈 화면으로 보일 수 있다.(특히 익스플로러)  \n",
    "PC의 보안 수준을 낮추거나 firefox를 이용하면 지도가 정상 출력된다."
   ]
  },
  {
   "cell_type": "code",
   "execution_count": 50,
   "metadata": {},
   "outputs": [],
   "source": [
    "m = folium.Map([37.5665, 126.9780], zoom_start=15)"
   ]
  },
  {
   "cell_type": "code",
   "execution_count": 51,
   "metadata": {},
   "outputs": [
    {
     "data": {
      "text/html": [
       "<div style=\"width:100%;\"><div style=\"position:relative;width:100%;height:0;padding-bottom:60%;\"><iframe src=\"data:text/html;charset=utf-8;base64,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\" style=\"position:absolute;width:100%;height:100%;left:0;top:0;border:none !important;\" allowfullscreen webkitallowfullscreen mozallowfullscreen></iframe></div></div>"
      ],
      "text/plain": [
       "<folium.folium.Map at 0x1d47b832400>"
      ]
     },
     "execution_count": 51,
     "metadata": {},
     "output_type": "execute_result"
    }
   ],
   "source": [
    "m"
   ]
  },
  {
   "cell_type": "markdown",
   "metadata": {},
   "source": [
    "상권 정보 데이터에 실제 위도/경도 데이터가 있으므로, 이를 활용한다."
   ]
  },
  {
   "cell_type": "code",
   "execution_count": 52,
   "metadata": {},
   "outputs": [],
   "source": [
    "a = pd.read_csv(\"a.csv\", sep=\"|\")"
   ]
  },
  {
   "cell_type": "code",
   "execution_count": 53,
   "metadata": {},
   "outputs": [
    {
     "data": {
      "text/plain": [
       "Index(['상가업소번호', '상호명', '지점명', '상권업종대분류코드', '상권업종대분류명', '상권업종중분류코드',\n",
       "       '상권업종중분류명', '상권업종소분류코드', '상권업종소분류명', '표준산업분류코드', '표준산업분류명', '시도코드',\n",
       "       '시도명', '시군구코드', '시군구명', '행정동코드', '행정동명', '법정동코드', '법정동명', '지번코드',\n",
       "       '대지구분코드', '대지구분명', '지번본번지', '지번부번지', '지번주소', '도로명코드', '도로명', '건물본번지',\n",
       "       '건물부번지', '건물관리번호', '건물명', '도로명주소', '구우편번호', '신우편번호', '동정보', '층정보',\n",
       "       '호정보', '경도', '위도'],\n",
       "      dtype='object')"
      ]
     },
     "execution_count": 53,
     "metadata": {},
     "output_type": "execute_result"
    }
   ],
   "source": [
    "a.columns"
   ]
  },
  {
   "cell_type": "code",
   "execution_count": 54,
   "metadata": {},
   "outputs": [],
   "source": [
    "b = a[[\"경도\", \"위도\"]]"
   ]
  },
  {
   "cell_type": "code",
   "execution_count": 57,
   "metadata": {},
   "outputs": [
    {
     "data": {
      "text/html": [
       "<div>\n",
       "<style scoped>\n",
       "    .dataframe tbody tr th:only-of-type {\n",
       "        vertical-align: middle;\n",
       "    }\n",
       "\n",
       "    .dataframe tbody tr th {\n",
       "        vertical-align: top;\n",
       "    }\n",
       "\n",
       "    .dataframe thead th {\n",
       "        text-align: right;\n",
       "    }\n",
       "</style>\n",
       "<table border=\"1\" class=\"dataframe\">\n",
       "  <thead>\n",
       "    <tr style=\"text-align: right;\">\n",
       "      <th></th>\n",
       "      <th>경도</th>\n",
       "      <th>위도</th>\n",
       "      <th>감염자</th>\n",
       "    </tr>\n",
       "  </thead>\n",
       "  <tbody>\n",
       "    <tr>\n",
       "      <th>0</th>\n",
       "      <td>127.061026</td>\n",
       "      <td>37.493922</td>\n",
       "      <td>91</td>\n",
       "    </tr>\n",
       "    <tr>\n",
       "      <th>1</th>\n",
       "      <td>127.047883</td>\n",
       "      <td>37.505675</td>\n",
       "      <td>85</td>\n",
       "    </tr>\n",
       "    <tr>\n",
       "      <th>2</th>\n",
       "      <td>126.899220</td>\n",
       "      <td>37.471711</td>\n",
       "      <td>62</td>\n",
       "    </tr>\n",
       "    <tr>\n",
       "      <th>3</th>\n",
       "      <td>128.980455</td>\n",
       "      <td>35.159774</td>\n",
       "      <td>86</td>\n",
       "    </tr>\n",
       "    <tr>\n",
       "      <th>4</th>\n",
       "      <td>127.104071</td>\n",
       "      <td>37.500249</td>\n",
       "      <td>51</td>\n",
       "    </tr>\n",
       "    <tr>\n",
       "      <th>...</th>\n",
       "      <td>...</td>\n",
       "      <td>...</td>\n",
       "      <td>...</td>\n",
       "    </tr>\n",
       "    <tr>\n",
       "      <th>573675</th>\n",
       "      <td>126.955059</td>\n",
       "      <td>37.548618</td>\n",
       "      <td>54</td>\n",
       "    </tr>\n",
       "    <tr>\n",
       "      <th>573676</th>\n",
       "      <td>127.054615</td>\n",
       "      <td>37.545853</td>\n",
       "      <td>77</td>\n",
       "    </tr>\n",
       "    <tr>\n",
       "      <th>573677</th>\n",
       "      <td>127.024102</td>\n",
       "      <td>37.506202</td>\n",
       "      <td>68</td>\n",
       "    </tr>\n",
       "    <tr>\n",
       "      <th>573678</th>\n",
       "      <td>126.924863</td>\n",
       "      <td>37.525172</td>\n",
       "      <td>75</td>\n",
       "    </tr>\n",
       "    <tr>\n",
       "      <th>573679</th>\n",
       "      <td>127.035145</td>\n",
       "      <td>37.647099</td>\n",
       "      <td>64</td>\n",
       "    </tr>\n",
       "  </tbody>\n",
       "</table>\n",
       "<p>573680 rows × 3 columns</p>\n",
       "</div>"
      ],
      "text/plain": [
       "                경도         위도  감염자\n",
       "0       127.061026  37.493922   91\n",
       "1       127.047883  37.505675   85\n",
       "2       126.899220  37.471711   62\n",
       "3       128.980455  35.159774   86\n",
       "4       127.104071  37.500249   51\n",
       "...            ...        ...  ...\n",
       "573675  126.955059  37.548618   54\n",
       "573676  127.054615  37.545853   77\n",
       "573677  127.024102  37.506202   68\n",
       "573678  126.924863  37.525172   75\n",
       "573679  127.035145  37.647099   64\n",
       "\n",
       "[573680 rows x 3 columns]"
      ]
     },
     "execution_count": 57,
     "metadata": {},
     "output_type": "execute_result"
    }
   ],
   "source": [
    "b"
   ]
  },
  {
   "cell_type": "markdown",
   "metadata": {},
   "source": [
    "코로나 바이러스의 감염자 수를 랜덤하게 생성한다."
   ]
  },
  {
   "cell_type": "code",
   "execution_count": 58,
   "metadata": {},
   "outputs": [
    {
     "name": "stderr",
     "output_type": "stream",
     "text": [
      "C:\\Users\\JINHYO\\Anaconda3\\lib\\site-packages\\ipykernel_launcher.py:1: SettingWithCopyWarning: \n",
      "A value is trying to be set on a copy of a slice from a DataFrame.\n",
      "Try using .loc[row_indexer,col_indexer] = value instead\n",
      "\n",
      "See the caveats in the documentation: https://pandas.pydata.org/pandas-docs/stable/user_guide/indexing.html#returning-a-view-versus-a-copy\n",
      "  \"\"\"Entry point for launching an IPython kernel.\n",
      "C:\\Users\\JINHYO\\Anaconda3\\lib\\site-packages\\ipykernel_launcher.py:2: SettingWithCopyWarning: \n",
      "A value is trying to be set on a copy of a slice from a DataFrame.\n",
      "Try using .loc[row_indexer,col_indexer] = value instead\n",
      "\n",
      "See the caveats in the documentation: https://pandas.pydata.org/pandas-docs/stable/user_guide/indexing.html#returning-a-view-versus-a-copy\n",
      "  \n"
     ]
    }
   ],
   "source": [
    "b[\"감염자\"] = 0 # 감염자 열을 생성\n",
    "b[\"감염자\"] = b[\"감염자\"].map(lambda x:np.random.randint(50, 100)) # 감염자 열의 값을 50~100 사이 정수로 랜덤 생성"
   ]
  },
  {
   "cell_type": "markdown",
   "metadata": {},
   "source": [
    "20개 정도만 잘라서 사용한다."
   ]
  },
  {
   "cell_type": "code",
   "execution_count": 59,
   "metadata": {},
   "outputs": [],
   "source": [
    "c = b.iloc[:20, :]"
   ]
  },
  {
   "cell_type": "code",
   "execution_count": 60,
   "metadata": {},
   "outputs": [
    {
     "data": {
      "text/html": [
       "<div>\n",
       "<style scoped>\n",
       "    .dataframe tbody tr th:only-of-type {\n",
       "        vertical-align: middle;\n",
       "    }\n",
       "\n",
       "    .dataframe tbody tr th {\n",
       "        vertical-align: top;\n",
       "    }\n",
       "\n",
       "    .dataframe thead th {\n",
       "        text-align: right;\n",
       "    }\n",
       "</style>\n",
       "<table border=\"1\" class=\"dataframe\">\n",
       "  <thead>\n",
       "    <tr style=\"text-align: right;\">\n",
       "      <th></th>\n",
       "      <th>경도</th>\n",
       "      <th>위도</th>\n",
       "      <th>감염자</th>\n",
       "    </tr>\n",
       "  </thead>\n",
       "  <tbody>\n",
       "    <tr>\n",
       "      <th>0</th>\n",
       "      <td>127.061026</td>\n",
       "      <td>37.493922</td>\n",
       "      <td>52</td>\n",
       "    </tr>\n",
       "    <tr>\n",
       "      <th>1</th>\n",
       "      <td>127.047883</td>\n",
       "      <td>37.505675</td>\n",
       "      <td>62</td>\n",
       "    </tr>\n",
       "    <tr>\n",
       "      <th>2</th>\n",
       "      <td>126.899220</td>\n",
       "      <td>37.471711</td>\n",
       "      <td>91</td>\n",
       "    </tr>\n",
       "    <tr>\n",
       "      <th>3</th>\n",
       "      <td>128.980455</td>\n",
       "      <td>35.159774</td>\n",
       "      <td>63</td>\n",
       "    </tr>\n",
       "    <tr>\n",
       "      <th>4</th>\n",
       "      <td>127.104071</td>\n",
       "      <td>37.500249</td>\n",
       "      <td>93</td>\n",
       "    </tr>\n",
       "    <tr>\n",
       "      <th>5</th>\n",
       "      <td>127.102490</td>\n",
       "      <td>37.515149</td>\n",
       "      <td>90</td>\n",
       "    </tr>\n",
       "    <tr>\n",
       "      <th>6</th>\n",
       "      <td>127.088387</td>\n",
       "      <td>37.549245</td>\n",
       "      <td>82</td>\n",
       "    </tr>\n",
       "    <tr>\n",
       "      <th>7</th>\n",
       "      <td>126.809957</td>\n",
       "      <td>37.562013</td>\n",
       "      <td>93</td>\n",
       "    </tr>\n",
       "    <tr>\n",
       "      <th>8</th>\n",
       "      <td>127.010861</td>\n",
       "      <td>37.552153</td>\n",
       "      <td>61</td>\n",
       "    </tr>\n",
       "    <tr>\n",
       "      <th>9</th>\n",
       "      <td>126.836078</td>\n",
       "      <td>37.538927</td>\n",
       "      <td>60</td>\n",
       "    </tr>\n",
       "    <tr>\n",
       "      <th>10</th>\n",
       "      <td>127.014217</td>\n",
       "      <td>37.492388</td>\n",
       "      <td>77</td>\n",
       "    </tr>\n",
       "    <tr>\n",
       "      <th>11</th>\n",
       "      <td>126.886859</td>\n",
       "      <td>37.480390</td>\n",
       "      <td>55</td>\n",
       "    </tr>\n",
       "    <tr>\n",
       "      <th>12</th>\n",
       "      <td>127.031702</td>\n",
       "      <td>37.588485</td>\n",
       "      <td>70</td>\n",
       "    </tr>\n",
       "    <tr>\n",
       "      <th>13</th>\n",
       "      <td>126.880898</td>\n",
       "      <td>37.504067</td>\n",
       "      <td>53</td>\n",
       "    </tr>\n",
       "    <tr>\n",
       "      <th>14</th>\n",
       "      <td>127.028726</td>\n",
       "      <td>37.608392</td>\n",
       "      <td>67</td>\n",
       "    </tr>\n",
       "    <tr>\n",
       "      <th>15</th>\n",
       "      <td>126.897710</td>\n",
       "      <td>37.503693</td>\n",
       "      <td>68</td>\n",
       "    </tr>\n",
       "    <tr>\n",
       "      <th>16</th>\n",
       "      <td>126.910288</td>\n",
       "      <td>37.579029</td>\n",
       "      <td>71</td>\n",
       "    </tr>\n",
       "    <tr>\n",
       "      <th>17</th>\n",
       "      <td>127.043189</td>\n",
       "      <td>37.580073</td>\n",
       "      <td>74</td>\n",
       "    </tr>\n",
       "    <tr>\n",
       "      <th>18</th>\n",
       "      <td>127.071184</td>\n",
       "      <td>37.552103</td>\n",
       "      <td>59</td>\n",
       "    </tr>\n",
       "    <tr>\n",
       "      <th>19</th>\n",
       "      <td>127.076812</td>\n",
       "      <td>37.545461</td>\n",
       "      <td>72</td>\n",
       "    </tr>\n",
       "  </tbody>\n",
       "</table>\n",
       "</div>"
      ],
      "text/plain": [
       "            경도         위도  감염자\n",
       "0   127.061026  37.493922   52\n",
       "1   127.047883  37.505675   62\n",
       "2   126.899220  37.471711   91\n",
       "3   128.980455  35.159774   63\n",
       "4   127.104071  37.500249   93\n",
       "5   127.102490  37.515149   90\n",
       "6   127.088387  37.549245   82\n",
       "7   126.809957  37.562013   93\n",
       "8   127.010861  37.552153   61\n",
       "9   126.836078  37.538927   60\n",
       "10  127.014217  37.492388   77\n",
       "11  126.886859  37.480390   55\n",
       "12  127.031702  37.588485   70\n",
       "13  126.880898  37.504067   53\n",
       "14  127.028726  37.608392   67\n",
       "15  126.897710  37.503693   68\n",
       "16  126.910288  37.579029   71\n",
       "17  127.043189  37.580073   74\n",
       "18  127.071184  37.552103   59\n",
       "19  127.076812  37.545461   72"
      ]
     },
     "execution_count": 60,
     "metadata": {},
     "output_type": "execute_result"
    }
   ],
   "source": [
    "c"
   ]
  },
  {
   "cell_type": "markdown",
   "metadata": {},
   "source": [
    "### DataFrame에서 for문 쓰는 방법 4가지"
   ]
  },
  {
   "cell_type": "markdown",
   "metadata": {},
   "source": [
    "DataFrame을 그냥 for문에 넣으면 컬럼 이름을 하나씩 반환한다."
   ]
  },
  {
   "cell_type": "code",
   "execution_count": 61,
   "metadata": {},
   "outputs": [
    {
     "name": "stdout",
     "output_type": "stream",
     "text": [
      "경도\n",
      "위도\n",
      "감염자\n"
     ]
    }
   ],
   "source": [
    "for i in c:\n",
    "    print(i)"
   ]
  },
  {
   "cell_type": "markdown",
   "metadata": {},
   "source": [
    "`iteritems`는 컬럼을 하나씩 반환한다. (Series로)"
   ]
  },
  {
   "cell_type": "code",
   "execution_count": 62,
   "metadata": {},
   "outputs": [
    {
     "name": "stdout",
     "output_type": "stream",
     "text": [
      "('경도', 0     127.061026\n",
      "1     127.047883\n",
      "2     126.899220\n",
      "3     128.980455\n",
      "4     127.104071\n",
      "5     127.102490\n",
      "6     127.088387\n",
      "7     126.809957\n",
      "8     127.010861\n",
      "9     126.836078\n",
      "10    127.014217\n",
      "11    126.886859\n",
      "12    127.031702\n",
      "13    126.880898\n",
      "14    127.028726\n",
      "15    126.897710\n",
      "16    126.910288\n",
      "17    127.043189\n",
      "18    127.071184\n",
      "19    127.076812\n",
      "Name: 경도, dtype: float64)\n",
      "('위도', 0     37.493922\n",
      "1     37.505675\n",
      "2     37.471711\n",
      "3     35.159774\n",
      "4     37.500249\n",
      "5     37.515149\n",
      "6     37.549245\n",
      "7     37.562013\n",
      "8     37.552153\n",
      "9     37.538927\n",
      "10    37.492388\n",
      "11    37.480390\n",
      "12    37.588485\n",
      "13    37.504067\n",
      "14    37.608392\n",
      "15    37.503693\n",
      "16    37.579029\n",
      "17    37.580073\n",
      "18    37.552103\n",
      "19    37.545461\n",
      "Name: 위도, dtype: float64)\n",
      "('감염자', 0     52\n",
      "1     62\n",
      "2     91\n",
      "3     63\n",
      "4     93\n",
      "5     90\n",
      "6     82\n",
      "7     93\n",
      "8     61\n",
      "9     60\n",
      "10    77\n",
      "11    55\n",
      "12    70\n",
      "13    53\n",
      "14    67\n",
      "15    68\n",
      "16    71\n",
      "17    74\n",
      "18    59\n",
      "19    72\n",
      "Name: 감염자, dtype: int64)\n"
     ]
    }
   ],
   "source": [
    "for i in c.iteritems():\n",
    "    print(i)"
   ]
  },
  {
   "cell_type": "markdown",
   "metadata": {},
   "source": [
    "`iterrows`는 로우를 하나씩 반환한다."
   ]
  },
  {
   "cell_type": "code",
   "execution_count": 63,
   "metadata": {
    "scrolled": true
   },
   "outputs": [
    {
     "name": "stdout",
     "output_type": "stream",
     "text": [
      "(0, 경도     127.061026\n",
      "위도      37.493922\n",
      "감염자     52.000000\n",
      "Name: 0, dtype: float64)\n",
      "(1, 경도     127.047883\n",
      "위도      37.505675\n",
      "감염자     62.000000\n",
      "Name: 1, dtype: float64)\n",
      "(2, 경도     126.899220\n",
      "위도      37.471711\n",
      "감염자     91.000000\n",
      "Name: 2, dtype: float64)\n",
      "(3, 경도     128.980455\n",
      "위도      35.159774\n",
      "감염자     63.000000\n",
      "Name: 3, dtype: float64)\n",
      "(4, 경도     127.104071\n",
      "위도      37.500249\n",
      "감염자     93.000000\n",
      "Name: 4, dtype: float64)\n",
      "(5, 경도     127.102490\n",
      "위도      37.515149\n",
      "감염자     90.000000\n",
      "Name: 5, dtype: float64)\n",
      "(6, 경도     127.088387\n",
      "위도      37.549245\n",
      "감염자     82.000000\n",
      "Name: 6, dtype: float64)\n",
      "(7, 경도     126.809957\n",
      "위도      37.562013\n",
      "감염자     93.000000\n",
      "Name: 7, dtype: float64)\n",
      "(8, 경도     127.010861\n",
      "위도      37.552153\n",
      "감염자     61.000000\n",
      "Name: 8, dtype: float64)\n",
      "(9, 경도     126.836078\n",
      "위도      37.538927\n",
      "감염자     60.000000\n",
      "Name: 9, dtype: float64)\n",
      "(10, 경도     127.014217\n",
      "위도      37.492388\n",
      "감염자     77.000000\n",
      "Name: 10, dtype: float64)\n",
      "(11, 경도     126.886859\n",
      "위도      37.480390\n",
      "감염자     55.000000\n",
      "Name: 11, dtype: float64)\n",
      "(12, 경도     127.031702\n",
      "위도      37.588485\n",
      "감염자     70.000000\n",
      "Name: 12, dtype: float64)\n",
      "(13, 경도     126.880898\n",
      "위도      37.504067\n",
      "감염자     53.000000\n",
      "Name: 13, dtype: float64)\n",
      "(14, 경도     127.028726\n",
      "위도      37.608392\n",
      "감염자     67.000000\n",
      "Name: 14, dtype: float64)\n",
      "(15, 경도     126.897710\n",
      "위도      37.503693\n",
      "감염자     68.000000\n",
      "Name: 15, dtype: float64)\n",
      "(16, 경도     126.910288\n",
      "위도      37.579029\n",
      "감염자     71.000000\n",
      "Name: 16, dtype: float64)\n",
      "(17, 경도     127.043189\n",
      "위도      37.580073\n",
      "감염자     74.000000\n",
      "Name: 17, dtype: float64)\n",
      "(18, 경도     127.071184\n",
      "위도      37.552103\n",
      "감염자     59.000000\n",
      "Name: 18, dtype: float64)\n",
      "(19, 경도     127.076812\n",
      "위도      37.545461\n",
      "감염자     72.000000\n",
      "Name: 19, dtype: float64)\n"
     ]
    }
   ],
   "source": [
    "for i in c.iterrows(): \n",
    "    print(i)"
   ]
  },
  {
   "cell_type": "markdown",
   "metadata": {},
   "source": [
    "`itertuples`는 로우를 튜플로 반환한다. (namedtuple과 비슷함)"
   ]
  },
  {
   "cell_type": "code",
   "execution_count": 64,
   "metadata": {},
   "outputs": [
    {
     "name": "stdout",
     "output_type": "stream",
     "text": [
      "Pandas(Index=0, 경도=127.061026050567, 위도=37.4939223326479, 감염자=52)\n",
      "Pandas(Index=1, 경도=127.047883157395, 위도=37.505675040057994, 감염자=62)\n",
      "Pandas(Index=2, 경도=126.89922037068199, 위도=37.4717112331268, 감염자=91)\n",
      "Pandas(Index=3, 경도=128.98045527926598, 위도=35.1597741758499, 감염자=63)\n",
      "Pandas(Index=4, 경도=127.104070564081, 위도=37.5002486691845, 감염자=93)\n",
      "Pandas(Index=5, 경도=127.102489784096, 위도=37.515149192048504, 감염자=90)\n",
      "Pandas(Index=6, 경도=127.088387455895, 위도=37.549245207781404, 감염자=82)\n",
      "Pandas(Index=7, 경도=126.80995747255501, 위도=37.562012692529294, 감염자=93)\n",
      "Pandas(Index=8, 경도=127.010861306352, 위도=37.5521533135816, 감염자=61)\n",
      "Pandas(Index=9, 경도=126.83607800821699, 위도=37.538927347810294, 감염자=60)\n",
      "Pandas(Index=10, 경도=127.014217033954, 위도=37.492387659064704, 감염자=77)\n",
      "Pandas(Index=11, 경도=126.886859445485, 위도=37.48038965624, 감염자=55)\n",
      "Pandas(Index=12, 경도=127.031701809695, 위도=37.5884849860916, 감염자=70)\n",
      "Pandas(Index=13, 경도=126.88089820110399, 위도=37.5040668669735, 감염자=53)\n",
      "Pandas(Index=14, 경도=127.028725560472, 위도=37.6083915431599, 감염자=67)\n",
      "Pandas(Index=15, 경도=126.89771043997801, 위도=37.5036933368184, 감염자=68)\n",
      "Pandas(Index=16, 경도=126.910288305861, 위도=37.5790288661421, 감염자=71)\n",
      "Pandas(Index=17, 경도=127.04318906208799, 위도=37.5800728147996, 감염자=74)\n",
      "Pandas(Index=18, 경도=127.07118402113501, 위도=37.552102622031995, 감염자=59)\n",
      "Pandas(Index=19, 경도=127.076811507571, 위도=37.5454609583284, 감염자=72)\n"
     ]
    }
   ],
   "source": [
    "for i in c.itertuples():\n",
    "    print(i)"
   ]
  },
  {
   "cell_type": "markdown",
   "metadata": {},
   "source": [
    "`Circle` 클래스로 지도에 원을 그릴 수 있다.  \n",
    "`Circle`을 이용해서 코로나 지도를 그릴 것이다."
   ]
  },
  {
   "cell_type": "code",
   "execution_count": 65,
   "metadata": {
    "scrolled": true
   },
   "outputs": [
    {
     "data": {
      "text/html": [
       "<div style=\"width:100%;\"><div style=\"position:relative;width:100%;height:0;padding-bottom:60%;\"><iframe src=\"data:text/html;charset=utf-8;base64,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\" style=\"position:absolute;width:100%;height:100%;left:0;top:0;border:none !important;\" allowfullscreen webkitallowfullscreen mozallowfullscreen></iframe></div></div>"
      ],
      "text/plain": [
       "<folium.folium.Map at 0x1d422227c88>"
      ]
     },
     "execution_count": 65,
     "metadata": {},
     "output_type": "execute_result"
    }
   ],
   "source": [
    "m4 = folium.Map(location=[37.5665, 126.9780], tiles='Stamen Toner', zoom_start=15)\n",
    "\n",
    "folium.Circle([37.5665, 126.9780], radius=100).add_to(m4) \n",
    "\n",
    "m4"
   ]
  },
  {
   "cell_type": "markdown",
   "metadata": {},
   "source": [
    "앞서 만든 가짜 코로나 데이터를 for문으로 지도에 표시한다."
   ]
  },
  {
   "cell_type": "code",
   "execution_count": 66,
   "metadata": {
    "scrolled": true
   },
   "outputs": [
    {
     "data": {
      "text/html": [
       "<div style=\"width:100%;\"><div style=\"position:relative;width:100%;height:0;padding-bottom:60%;\"><iframe src=\"data:text/html;charset=utf-8;base64,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\" style=\"position:absolute;width:100%;height:100%;left:0;top:0;border:none !important;\" allowfullscreen webkitallowfullscreen mozallowfullscreen></iframe></div></div>"
      ],
      "text/plain": [
       "<folium.folium.Map at 0x1d4214b0b38>"
      ]
     },
     "execution_count": 66,
     "metadata": {},
     "output_type": "execute_result"
    }
   ],
   "source": [
    "m4 = folium.Map(location=[37.5665, 126.9780], tiles='Stamen Terrain', zoom_start=12)\n",
    "\n",
    "for i in c.itertuples(): # 튜플안에서 데이터의 순서 조심\n",
    "    folium.Circle(radius=i[3]*20,                    # 감염자수는 3번째에 있음 / *20 은 원 크기 조절\n",
    "                  location=[i[2], i[1]],             # 위도는 2번째, 경도는 3번째에 있음\n",
    "                  popup=\"patients: \" + str(i[3]),    # 원을 클릭하면 문구가 뜸\n",
    "                  color=\"#C4302B\",                   # 원 색상은 빨간색\n",
    "                  fill=True,                         # 원 안을 채움\n",
    "                  fill_color=\"#C4302B\").add_to(m4)   # 원 안의 색은 빨간색\n",
    "\n",
    "m4"
   ]
  },
  {
   "cell_type": "code",
   "execution_count": null,
   "metadata": {},
   "outputs": [],
   "source": []
  },
  {
   "cell_type": "code",
   "execution_count": null,
   "metadata": {},
   "outputs": [],
   "source": []
  }
 ],
 "metadata": {
  "kernelspec": {
   "display_name": "Python 3",
   "language": "python",
   "name": "python3"
  },
  "language_info": {
   "codemirror_mode": {
    "name": "ipython",
    "version": 3
   },
   "file_extension": ".py",
   "mimetype": "text/x-python",
   "name": "python",
   "nbconvert_exporter": "python",
   "pygments_lexer": "ipython3",
   "version": "3.7.3"
  },
  "toc": {
   "base_numbering": 1,
   "nav_menu": {},
   "number_sections": true,
   "sideBar": true,
   "skip_h1_title": true,
   "title_cell": "Table of Contents",
   "title_sidebar": "Contents",
   "toc_cell": true,
   "toc_position": {},
   "toc_section_display": true,
   "toc_window_display": true
  },
  "varInspector": {
   "cols": {
    "lenName": 16,
    "lenType": 16,
    "lenVar": 40
   },
   "kernels_config": {
    "python": {
     "delete_cmd_postfix": "",
     "delete_cmd_prefix": "del ",
     "library": "var_list.py",
     "varRefreshCmd": "print(var_dic_list())"
    },
    "r": {
     "delete_cmd_postfix": ") ",
     "delete_cmd_prefix": "rm(",
     "library": "var_list.r",
     "varRefreshCmd": "cat(var_dic_list()) "
    }
   },
   "types_to_exclude": [
    "module",
    "function",
    "builtin_function_or_method",
    "instance",
    "_Feature"
   ],
   "window_display": false
  }
 },
 "nbformat": 4,
 "nbformat_minor": 2
}
