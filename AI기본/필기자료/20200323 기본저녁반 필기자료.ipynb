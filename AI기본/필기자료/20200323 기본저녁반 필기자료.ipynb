{
 "cells": [
  {
   "cell_type": "markdown",
   "metadata": {
    "toc": true
   },
   "source": [
    "<h1>Table of Contents<span class=\"tocSkip\"></span></h1>\n",
    "<div class=\"toc\"><ul class=\"toc-item\"><li><span><a href=\"#make_classification\" data-toc-modified-id=\"make_classification-1\"><span class=\"toc-item-num\">1&nbsp;&nbsp;</span>make_classification</a></span></li><li><span><a href=\"#모델-선택하는-기준\" data-toc-modified-id=\"모델-선택하는-기준-2\"><span class=\"toc-item-num\">2&nbsp;&nbsp;</span>모델 선택하는 기준</a></span><ul class=\"toc-item\"><li><span><a href=\"#오캄의-면도칼-원칙\" data-toc-modified-id=\"오캄의-면도칼-원칙-2.1\"><span class=\"toc-item-num\">2.1&nbsp;&nbsp;</span>오캄의 면도칼 원칙</a></span></li><li><span><a href=\"#No-Free-Lunch\" data-toc-modified-id=\"No-Free-Lunch-2.2\"><span class=\"toc-item-num\">2.2&nbsp;&nbsp;</span>No Free Lunch</a></span></li><li><span><a href=\"#모델-선택하는-방법\" data-toc-modified-id=\"모델-선택하는-방법-2.3\"><span class=\"toc-item-num\">2.3&nbsp;&nbsp;</span>모델 선택하는 방법</a></span></li></ul></li><li><span><a href=\"#Pipeline\" data-toc-modified-id=\"Pipeline-3\"><span class=\"toc-item-num\">3&nbsp;&nbsp;</span>Pipeline</a></span><ul class=\"toc-item\"><li><span><a href=\"#Pipeline\" data-toc-modified-id=\"Pipeline-3.1\"><span class=\"toc-item-num\">3.1&nbsp;&nbsp;</span>Pipeline</a></span></li><li><span><a href=\"#make_pipeline\" data-toc-modified-id=\"make_pipeline-3.2\"><span class=\"toc-item-num\">3.2&nbsp;&nbsp;</span>make_pipeline</a></span></li></ul></li><li><span><a href=\"#하이퍼-파라미터-찾기\" data-toc-modified-id=\"하이퍼-파라미터-찾기-4\"><span class=\"toc-item-num\">4&nbsp;&nbsp;</span>하이퍼 파라미터 찾기</a></span><ul class=\"toc-item\"><li><span><a href=\"#일일히-바꿔보기\" data-toc-modified-id=\"일일히-바꿔보기-4.1\"><span class=\"toc-item-num\">4.1&nbsp;&nbsp;</span>일일히 바꿔보기</a></span></li><li><span><a href=\"#for문으로-자동화\" data-toc-modified-id=\"for문으로-자동화-4.2\"><span class=\"toc-item-num\">4.2&nbsp;&nbsp;</span>for문으로 자동화</a></span></li><li><span><a href=\"#GridSearchCV\" data-toc-modified-id=\"GridSearchCV-4.3\"><span class=\"toc-item-num\">4.3&nbsp;&nbsp;</span>GridSearchCV</a></span></li><li><span><a href=\"#더-고급-기법-:-GridSearchCV-+-Pipeline\" data-toc-modified-id=\"더-고급-기법-:-GridSearchCV-+-Pipeline-4.4\"><span class=\"toc-item-num\">4.4&nbsp;&nbsp;</span>더 고급 기법 : GridSearchCV + Pipeline</a></span></li></ul></li><li><span><a href=\"#3way-hold-out\" data-toc-modified-id=\"3way-hold-out-5\"><span class=\"toc-item-num\">5&nbsp;&nbsp;</span>3way hold-out</a></span></li><li><span><a href=\"#Metric\" data-toc-modified-id=\"Metric-6\"><span class=\"toc-item-num\">6&nbsp;&nbsp;</span>Metric</a></span><ul class=\"toc-item\"><li><span><a href=\"#confusion-matrix(혼동-행렬)\" data-toc-modified-id=\"confusion-matrix(혼동-행렬)-6.1\"><span class=\"toc-item-num\">6.1&nbsp;&nbsp;</span>confusion matrix(혼동 행렬)</a></span></li><li><span><a href=\"#classification_report\" data-toc-modified-id=\"classification_report-6.2\"><span class=\"toc-item-num\">6.2&nbsp;&nbsp;</span>classification_report</a></span></li></ul></li></ul></div>"
   ]
  },
  {
   "cell_type": "markdown",
   "metadata": {},
   "source": [
    "# [AI 오픈 이노베이션] 기본 저녁반<a class=\"tocSkip\">\n",
    "GitHub link: [https://github.com/realblack0/ai_lecture_fundamental](https://github.com/realblack0/ai_lecture_fundamental)  \n",
    "E-Mail: realblack0@gmail.com"
   ]
  },
  {
   "cell_type": "markdown",
   "metadata": {},
   "source": [
    "## make_classification"
   ]
  },
  {
   "cell_type": "code",
   "execution_count": 2,
   "metadata": {},
   "outputs": [],
   "source": [
    "from sklearn.datasets import make_classification"
   ]
  },
  {
   "cell_type": "code",
   "execution_count": 257,
   "metadata": {},
   "outputs": [],
   "source": [
    "data = make_classification()"
   ]
  },
  {
   "cell_type": "code",
   "execution_count": 258,
   "metadata": {},
   "outputs": [],
   "source": [
    "X, y = data"
   ]
  },
  {
   "cell_type": "code",
   "execution_count": 259,
   "metadata": {},
   "outputs": [],
   "source": [
    "import pandas as pd"
   ]
  },
  {
   "cell_type": "code",
   "execution_count": 260,
   "metadata": {},
   "outputs": [],
   "source": [
    "data_pd = pd.DataFrame(X)                     # make_classification은 column명 없다.\n",
    "data_ta = pd.DataFrame(y, columns=[\"target\"]) # 관례상 target"
   ]
  },
  {
   "cell_type": "code",
   "execution_count": 261,
   "metadata": {},
   "outputs": [],
   "source": [
    "ma = pd.concat([data_pd, data_ta], axis=1)"
   ]
  },
  {
   "cell_type": "code",
   "execution_count": 46,
   "metadata": {},
   "outputs": [
    {
     "data": {
      "text/html": [
       "<div>\n",
       "<style scoped>\n",
       "    .dataframe tbody tr th:only-of-type {\n",
       "        vertical-align: middle;\n",
       "    }\n",
       "\n",
       "    .dataframe tbody tr th {\n",
       "        vertical-align: top;\n",
       "    }\n",
       "\n",
       "    .dataframe thead th {\n",
       "        text-align: right;\n",
       "    }\n",
       "</style>\n",
       "<table border=\"1\" class=\"dataframe\">\n",
       "  <thead>\n",
       "    <tr style=\"text-align: right;\">\n",
       "      <th></th>\n",
       "      <th>0</th>\n",
       "      <th>1</th>\n",
       "      <th>2</th>\n",
       "      <th>3</th>\n",
       "      <th>4</th>\n",
       "      <th>5</th>\n",
       "      <th>6</th>\n",
       "      <th>7</th>\n",
       "      <th>8</th>\n",
       "      <th>9</th>\n",
       "      <th>...</th>\n",
       "      <th>11</th>\n",
       "      <th>12</th>\n",
       "      <th>13</th>\n",
       "      <th>14</th>\n",
       "      <th>15</th>\n",
       "      <th>16</th>\n",
       "      <th>17</th>\n",
       "      <th>18</th>\n",
       "      <th>19</th>\n",
       "      <th>target</th>\n",
       "    </tr>\n",
       "  </thead>\n",
       "  <tbody>\n",
       "    <tr>\n",
       "      <th>0</th>\n",
       "      <td>0.575166</td>\n",
       "      <td>-0.814563</td>\n",
       "      <td>1.462302</td>\n",
       "      <td>0.880643</td>\n",
       "      <td>-0.528747</td>\n",
       "      <td>1.038766</td>\n",
       "      <td>1.364424</td>\n",
       "      <td>0.686049</td>\n",
       "      <td>0.248151</td>\n",
       "      <td>0.716690</td>\n",
       "      <td>...</td>\n",
       "      <td>1.016816</td>\n",
       "      <td>-0.615102</td>\n",
       "      <td>-0.045829</td>\n",
       "      <td>-1.174223</td>\n",
       "      <td>0.070533</td>\n",
       "      <td>0.749660</td>\n",
       "      <td>1.342950</td>\n",
       "      <td>0.422031</td>\n",
       "      <td>0.766968</td>\n",
       "      <td>1</td>\n",
       "    </tr>\n",
       "    <tr>\n",
       "      <th>1</th>\n",
       "      <td>-1.227147</td>\n",
       "      <td>-1.665309</td>\n",
       "      <td>-0.515229</td>\n",
       "      <td>-0.824272</td>\n",
       "      <td>-0.292183</td>\n",
       "      <td>0.516205</td>\n",
       "      <td>0.363734</td>\n",
       "      <td>-0.963301</td>\n",
       "      <td>-0.605548</td>\n",
       "      <td>1.018058</td>\n",
       "      <td>...</td>\n",
       "      <td>0.391613</td>\n",
       "      <td>0.591565</td>\n",
       "      <td>0.039429</td>\n",
       "      <td>0.878462</td>\n",
       "      <td>1.797355</td>\n",
       "      <td>-1.108433</td>\n",
       "      <td>0.528957</td>\n",
       "      <td>-0.263641</td>\n",
       "      <td>-0.703440</td>\n",
       "      <td>0</td>\n",
       "    </tr>\n",
       "    <tr>\n",
       "      <th>2</th>\n",
       "      <td>1.606596</td>\n",
       "      <td>-0.726373</td>\n",
       "      <td>-1.676410</td>\n",
       "      <td>-1.292538</td>\n",
       "      <td>0.692881</td>\n",
       "      <td>-0.539765</td>\n",
       "      <td>0.761760</td>\n",
       "      <td>-0.361712</td>\n",
       "      <td>0.274921</td>\n",
       "      <td>-0.569957</td>\n",
       "      <td>...</td>\n",
       "      <td>-1.079956</td>\n",
       "      <td>-0.212441</td>\n",
       "      <td>0.029479</td>\n",
       "      <td>0.723829</td>\n",
       "      <td>-0.149912</td>\n",
       "      <td>1.069937</td>\n",
       "      <td>0.180745</td>\n",
       "      <td>0.208368</td>\n",
       "      <td>-0.968346</td>\n",
       "      <td>1</td>\n",
       "    </tr>\n",
       "    <tr>\n",
       "      <th>3</th>\n",
       "      <td>0.706425</td>\n",
       "      <td>1.651342</td>\n",
       "      <td>-1.100957</td>\n",
       "      <td>-1.495365</td>\n",
       "      <td>1.059853</td>\n",
       "      <td>-1.562030</td>\n",
       "      <td>0.085813</td>\n",
       "      <td>0.455404</td>\n",
       "      <td>-0.714733</td>\n",
       "      <td>-1.249440</td>\n",
       "      <td>...</td>\n",
       "      <td>-0.698677</td>\n",
       "      <td>0.069111</td>\n",
       "      <td>0.012631</td>\n",
       "      <td>-0.638264</td>\n",
       "      <td>1.194482</td>\n",
       "      <td>0.709536</td>\n",
       "      <td>0.042124</td>\n",
       "      <td>0.707706</td>\n",
       "      <td>-1.030876</td>\n",
       "      <td>1</td>\n",
       "    </tr>\n",
       "    <tr>\n",
       "      <th>4</th>\n",
       "      <td>-0.712934</td>\n",
       "      <td>1.937943</td>\n",
       "      <td>2.920183</td>\n",
       "      <td>0.566895</td>\n",
       "      <td>0.333259</td>\n",
       "      <td>1.186098</td>\n",
       "      <td>1.225095</td>\n",
       "      <td>-0.715311</td>\n",
       "      <td>0.400330</td>\n",
       "      <td>0.318516</td>\n",
       "      <td>...</td>\n",
       "      <td>-0.231352</td>\n",
       "      <td>1.207445</td>\n",
       "      <td>-0.009256</td>\n",
       "      <td>1.014914</td>\n",
       "      <td>-0.698833</td>\n",
       "      <td>0.674803</td>\n",
       "      <td>0.376585</td>\n",
       "      <td>0.885098</td>\n",
       "      <td>0.409412</td>\n",
       "      <td>1</td>\n",
       "    </tr>\n",
       "    <tr>\n",
       "      <th>...</th>\n",
       "      <td>...</td>\n",
       "      <td>...</td>\n",
       "      <td>...</td>\n",
       "      <td>...</td>\n",
       "      <td>...</td>\n",
       "      <td>...</td>\n",
       "      <td>...</td>\n",
       "      <td>...</td>\n",
       "      <td>...</td>\n",
       "      <td>...</td>\n",
       "      <td>...</td>\n",
       "      <td>...</td>\n",
       "      <td>...</td>\n",
       "      <td>...</td>\n",
       "      <td>...</td>\n",
       "      <td>...</td>\n",
       "      <td>...</td>\n",
       "      <td>...</td>\n",
       "      <td>...</td>\n",
       "      <td>...</td>\n",
       "      <td>...</td>\n",
       "    </tr>\n",
       "    <tr>\n",
       "      <th>95</th>\n",
       "      <td>0.220189</td>\n",
       "      <td>-0.030013</td>\n",
       "      <td>-0.401179</td>\n",
       "      <td>-1.693210</td>\n",
       "      <td>-0.181020</td>\n",
       "      <td>2.407274</td>\n",
       "      <td>1.700753</td>\n",
       "      <td>0.463889</td>\n",
       "      <td>-0.578704</td>\n",
       "      <td>0.392661</td>\n",
       "      <td>...</td>\n",
       "      <td>-1.254807</td>\n",
       "      <td>0.249214</td>\n",
       "      <td>0.032101</td>\n",
       "      <td>0.403192</td>\n",
       "      <td>-1.278431</td>\n",
       "      <td>1.434463</td>\n",
       "      <td>0.411040</td>\n",
       "      <td>0.948001</td>\n",
       "      <td>-1.241385</td>\n",
       "      <td>0</td>\n",
       "    </tr>\n",
       "    <tr>\n",
       "      <th>96</th>\n",
       "      <td>-0.296806</td>\n",
       "      <td>-0.682309</td>\n",
       "      <td>0.083684</td>\n",
       "      <td>-1.693317</td>\n",
       "      <td>0.927298</td>\n",
       "      <td>-0.012866</td>\n",
       "      <td>-0.898694</td>\n",
       "      <td>0.212477</td>\n",
       "      <td>-1.449909</td>\n",
       "      <td>-1.002654</td>\n",
       "      <td>...</td>\n",
       "      <td>-0.771938</td>\n",
       "      <td>-1.277776</td>\n",
       "      <td>0.050326</td>\n",
       "      <td>-1.186021</td>\n",
       "      <td>-0.262497</td>\n",
       "      <td>0.501150</td>\n",
       "      <td>-0.835655</td>\n",
       "      <td>0.413949</td>\n",
       "      <td>-1.317353</td>\n",
       "      <td>0</td>\n",
       "    </tr>\n",
       "    <tr>\n",
       "      <th>97</th>\n",
       "      <td>2.214227</td>\n",
       "      <td>-0.160290</td>\n",
       "      <td>1.149200</td>\n",
       "      <td>-1.515850</td>\n",
       "      <td>0.068585</td>\n",
       "      <td>2.277639</td>\n",
       "      <td>0.209341</td>\n",
       "      <td>-0.705690</td>\n",
       "      <td>-0.587973</td>\n",
       "      <td>0.086748</td>\n",
       "      <td>...</td>\n",
       "      <td>-1.180974</td>\n",
       "      <td>0.512680</td>\n",
       "      <td>0.044849</td>\n",
       "      <td>0.218606</td>\n",
       "      <td>0.773938</td>\n",
       "      <td>-0.469530</td>\n",
       "      <td>0.432859</td>\n",
       "      <td>0.586160</td>\n",
       "      <td>-1.178445</td>\n",
       "      <td>0</td>\n",
       "    </tr>\n",
       "    <tr>\n",
       "      <th>98</th>\n",
       "      <td>0.922538</td>\n",
       "      <td>1.573181</td>\n",
       "      <td>0.298247</td>\n",
       "      <td>1.112180</td>\n",
       "      <td>1.147919</td>\n",
       "      <td>1.561175</td>\n",
       "      <td>-1.334691</td>\n",
       "      <td>0.624733</td>\n",
       "      <td>-0.830608</td>\n",
       "      <td>0.084616</td>\n",
       "      <td>...</td>\n",
       "      <td>-0.457987</td>\n",
       "      <td>-1.197970</td>\n",
       "      <td>-0.049206</td>\n",
       "      <td>-0.325651</td>\n",
       "      <td>-0.850746</td>\n",
       "      <td>0.712833</td>\n",
       "      <td>0.088665</td>\n",
       "      <td>1.012588</td>\n",
       "      <td>0.932507</td>\n",
       "      <td>1</td>\n",
       "    </tr>\n",
       "    <tr>\n",
       "      <th>99</th>\n",
       "      <td>0.774856</td>\n",
       "      <td>-0.194591</td>\n",
       "      <td>-0.118507</td>\n",
       "      <td>1.620272</td>\n",
       "      <td>2.907599</td>\n",
       "      <td>-0.479558</td>\n",
       "      <td>-1.074382</td>\n",
       "      <td>1.955712</td>\n",
       "      <td>2.429987</td>\n",
       "      <td>1.952565</td>\n",
       "      <td>...</td>\n",
       "      <td>-0.675832</td>\n",
       "      <td>0.944057</td>\n",
       "      <td>-0.040061</td>\n",
       "      <td>-0.631794</td>\n",
       "      <td>-0.665707</td>\n",
       "      <td>-0.754574</td>\n",
       "      <td>0.538017</td>\n",
       "      <td>1.111634</td>\n",
       "      <td>1.226817</td>\n",
       "      <td>0</td>\n",
       "    </tr>\n",
       "  </tbody>\n",
       "</table>\n",
       "<p>100 rows × 21 columns</p>\n",
       "</div>"
      ],
      "text/plain": [
       "           0         1         2         3         4         5         6  \\\n",
       "0   0.575166 -0.814563  1.462302  0.880643 -0.528747  1.038766  1.364424   \n",
       "1  -1.227147 -1.665309 -0.515229 -0.824272 -0.292183  0.516205  0.363734   \n",
       "2   1.606596 -0.726373 -1.676410 -1.292538  0.692881 -0.539765  0.761760   \n",
       "3   0.706425  1.651342 -1.100957 -1.495365  1.059853 -1.562030  0.085813   \n",
       "4  -0.712934  1.937943  2.920183  0.566895  0.333259  1.186098  1.225095   \n",
       "..       ...       ...       ...       ...       ...       ...       ...   \n",
       "95  0.220189 -0.030013 -0.401179 -1.693210 -0.181020  2.407274  1.700753   \n",
       "96 -0.296806 -0.682309  0.083684 -1.693317  0.927298 -0.012866 -0.898694   \n",
       "97  2.214227 -0.160290  1.149200 -1.515850  0.068585  2.277639  0.209341   \n",
       "98  0.922538  1.573181  0.298247  1.112180  1.147919  1.561175 -1.334691   \n",
       "99  0.774856 -0.194591 -0.118507  1.620272  2.907599 -0.479558 -1.074382   \n",
       "\n",
       "           7         8         9  ...        11        12        13        14  \\\n",
       "0   0.686049  0.248151  0.716690  ...  1.016816 -0.615102 -0.045829 -1.174223   \n",
       "1  -0.963301 -0.605548  1.018058  ...  0.391613  0.591565  0.039429  0.878462   \n",
       "2  -0.361712  0.274921 -0.569957  ... -1.079956 -0.212441  0.029479  0.723829   \n",
       "3   0.455404 -0.714733 -1.249440  ... -0.698677  0.069111  0.012631 -0.638264   \n",
       "4  -0.715311  0.400330  0.318516  ... -0.231352  1.207445 -0.009256  1.014914   \n",
       "..       ...       ...       ...  ...       ...       ...       ...       ...   \n",
       "95  0.463889 -0.578704  0.392661  ... -1.254807  0.249214  0.032101  0.403192   \n",
       "96  0.212477 -1.449909 -1.002654  ... -0.771938 -1.277776  0.050326 -1.186021   \n",
       "97 -0.705690 -0.587973  0.086748  ... -1.180974  0.512680  0.044849  0.218606   \n",
       "98  0.624733 -0.830608  0.084616  ... -0.457987 -1.197970 -0.049206 -0.325651   \n",
       "99  1.955712  2.429987  1.952565  ... -0.675832  0.944057 -0.040061 -0.631794   \n",
       "\n",
       "          15        16        17        18        19  target  \n",
       "0   0.070533  0.749660  1.342950  0.422031  0.766968       1  \n",
       "1   1.797355 -1.108433  0.528957 -0.263641 -0.703440       0  \n",
       "2  -0.149912  1.069937  0.180745  0.208368 -0.968346       1  \n",
       "3   1.194482  0.709536  0.042124  0.707706 -1.030876       1  \n",
       "4  -0.698833  0.674803  0.376585  0.885098  0.409412       1  \n",
       "..       ...       ...       ...       ...       ...     ...  \n",
       "95 -1.278431  1.434463  0.411040  0.948001 -1.241385       0  \n",
       "96 -0.262497  0.501150 -0.835655  0.413949 -1.317353       0  \n",
       "97  0.773938 -0.469530  0.432859  0.586160 -1.178445       0  \n",
       "98 -0.850746  0.712833  0.088665  1.012588  0.932507       1  \n",
       "99 -0.665707 -0.754574  0.538017  1.111634  1.226817       0  \n",
       "\n",
       "[100 rows x 21 columns]"
      ]
     },
     "execution_count": 46,
     "metadata": {},
     "output_type": "execute_result"
    }
   ],
   "source": [
    "ma"
   ]
  },
  {
   "cell_type": "markdown",
   "metadata": {},
   "source": [
    "feature 20개에 데이터 100개는 데이터가 너무 모자라다.  \n",
    "차원의 저주에 빠질 가능성이 매우 높다.   "
   ]
  },
  {
   "cell_type": "code",
   "execution_count": 263,
   "metadata": {},
   "outputs": [
    {
     "name": "stdout",
     "output_type": "stream",
     "text": [
      "<class 'pandas.core.frame.DataFrame'>\n",
      "RangeIndex: 100 entries, 0 to 99\n",
      "Data columns (total 21 columns):\n",
      "0         100 non-null float64\n",
      "1         100 non-null float64\n",
      "2         100 non-null float64\n",
      "3         100 non-null float64\n",
      "4         100 non-null float64\n",
      "5         100 non-null float64\n",
      "6         100 non-null float64\n",
      "7         100 non-null float64\n",
      "8         100 non-null float64\n",
      "9         100 non-null float64\n",
      "10        100 non-null float64\n",
      "11        100 non-null float64\n",
      "12        100 non-null float64\n",
      "13        100 non-null float64\n",
      "14        100 non-null float64\n",
      "15        100 non-null float64\n",
      "16        100 non-null float64\n",
      "17        100 non-null float64\n",
      "18        100 non-null float64\n",
      "19        100 non-null float64\n",
      "target    100 non-null int32\n",
      "dtypes: float64(20), int32(1)\n",
      "memory usage: 16.1 KB\n"
     ]
    }
   ],
   "source": [
    "ma.info()"
   ]
  },
  {
   "cell_type": "markdown",
   "metadata": {},
   "source": [
    "feature 개수를 줄이자."
   ]
  },
  {
   "cell_type": "code",
   "execution_count": 48,
   "metadata": {},
   "outputs": [],
   "source": [
    "data = make_classification(n_features=5)"
   ]
  },
  {
   "cell_type": "code",
   "execution_count": 49,
   "metadata": {},
   "outputs": [],
   "source": [
    "X, y = data"
   ]
  },
  {
   "cell_type": "code",
   "execution_count": 50,
   "metadata": {},
   "outputs": [],
   "source": [
    "data_pd = pd.DataFrame(X)                     # make_classification은 column명 없다.\n",
    "data_ta = pd.DataFrame(y, columns=[\"target\"]) # 관례상 target"
   ]
  },
  {
   "cell_type": "code",
   "execution_count": 51,
   "metadata": {},
   "outputs": [],
   "source": [
    "ma = pd.concat([data_pd, data_ta], axis=1)"
   ]
  },
  {
   "cell_type": "code",
   "execution_count": 52,
   "metadata": {},
   "outputs": [
    {
     "data": {
      "text/html": [
       "<div>\n",
       "<style scoped>\n",
       "    .dataframe tbody tr th:only-of-type {\n",
       "        vertical-align: middle;\n",
       "    }\n",
       "\n",
       "    .dataframe tbody tr th {\n",
       "        vertical-align: top;\n",
       "    }\n",
       "\n",
       "    .dataframe thead th {\n",
       "        text-align: right;\n",
       "    }\n",
       "</style>\n",
       "<table border=\"1\" class=\"dataframe\">\n",
       "  <thead>\n",
       "    <tr style=\"text-align: right;\">\n",
       "      <th></th>\n",
       "      <th>0</th>\n",
       "      <th>1</th>\n",
       "      <th>2</th>\n",
       "      <th>3</th>\n",
       "      <th>4</th>\n",
       "      <th>target</th>\n",
       "    </tr>\n",
       "  </thead>\n",
       "  <tbody>\n",
       "    <tr>\n",
       "      <th>0</th>\n",
       "      <td>-0.025758</td>\n",
       "      <td>0.528477</td>\n",
       "      <td>1.225291</td>\n",
       "      <td>0.597035</td>\n",
       "      <td>0.400529</td>\n",
       "      <td>1</td>\n",
       "    </tr>\n",
       "    <tr>\n",
       "      <th>1</th>\n",
       "      <td>-0.388590</td>\n",
       "      <td>3.187052</td>\n",
       "      <td>1.695967</td>\n",
       "      <td>-0.091552</td>\n",
       "      <td>0.269958</td>\n",
       "      <td>0</td>\n",
       "    </tr>\n",
       "    <tr>\n",
       "      <th>2</th>\n",
       "      <td>-0.475904</td>\n",
       "      <td>0.973333</td>\n",
       "      <td>-1.539284</td>\n",
       "      <td>-2.071934</td>\n",
       "      <td>-0.912771</td>\n",
       "      <td>0</td>\n",
       "    </tr>\n",
       "    <tr>\n",
       "      <th>3</th>\n",
       "      <td>0.273096</td>\n",
       "      <td>-0.707746</td>\n",
       "      <td>-0.552961</td>\n",
       "      <td>0.410605</td>\n",
       "      <td>0.029962</td>\n",
       "      <td>1</td>\n",
       "    </tr>\n",
       "    <tr>\n",
       "      <th>4</th>\n",
       "      <td>-0.610897</td>\n",
       "      <td>0.209584</td>\n",
       "      <td>1.146529</td>\n",
       "      <td>-0.967493</td>\n",
       "      <td>-0.098108</td>\n",
       "      <td>0</td>\n",
       "    </tr>\n",
       "    <tr>\n",
       "      <th>...</th>\n",
       "      <td>...</td>\n",
       "      <td>...</td>\n",
       "      <td>...</td>\n",
       "      <td>...</td>\n",
       "      <td>...</td>\n",
       "      <td>...</td>\n",
       "    </tr>\n",
       "    <tr>\n",
       "      <th>95</th>\n",
       "      <td>-0.663677</td>\n",
       "      <td>-0.188329</td>\n",
       "      <td>1.139297</td>\n",
       "      <td>-1.108685</td>\n",
       "      <td>-0.143129</td>\n",
       "      <td>0</td>\n",
       "    </tr>\n",
       "    <tr>\n",
       "      <th>96</th>\n",
       "      <td>-0.082580</td>\n",
       "      <td>0.608439</td>\n",
       "      <td>-0.708791</td>\n",
       "      <td>-0.598895</td>\n",
       "      <td>-0.310251</td>\n",
       "      <td>0</td>\n",
       "    </tr>\n",
       "    <tr>\n",
       "      <th>97</th>\n",
       "      <td>-0.563641</td>\n",
       "      <td>-0.068235</td>\n",
       "      <td>-1.484725</td>\n",
       "      <td>-2.270556</td>\n",
       "      <td>-0.964719</td>\n",
       "      <td>0</td>\n",
       "    </tr>\n",
       "    <tr>\n",
       "      <th>98</th>\n",
       "      <td>-0.728451</td>\n",
       "      <td>1.190236</td>\n",
       "      <td>0.434711</td>\n",
       "      <td>-1.658989</td>\n",
       "      <td>-0.437585</td>\n",
       "      <td>0</td>\n",
       "    </tr>\n",
       "    <tr>\n",
       "      <th>99</th>\n",
       "      <td>-0.448837</td>\n",
       "      <td>-0.475054</td>\n",
       "      <td>0.631984</td>\n",
       "      <td>-0.824854</td>\n",
       "      <td>-0.144420</td>\n",
       "      <td>0</td>\n",
       "    </tr>\n",
       "  </tbody>\n",
       "</table>\n",
       "<p>100 rows × 6 columns</p>\n",
       "</div>"
      ],
      "text/plain": [
       "           0         1         2         3         4  target\n",
       "0  -0.025758  0.528477  1.225291  0.597035  0.400529       1\n",
       "1  -0.388590  3.187052  1.695967 -0.091552  0.269958       0\n",
       "2  -0.475904  0.973333 -1.539284 -2.071934 -0.912771       0\n",
       "3   0.273096 -0.707746 -0.552961  0.410605  0.029962       1\n",
       "4  -0.610897  0.209584  1.146529 -0.967493 -0.098108       0\n",
       "..       ...       ...       ...       ...       ...     ...\n",
       "95 -0.663677 -0.188329  1.139297 -1.108685 -0.143129       0\n",
       "96 -0.082580  0.608439 -0.708791 -0.598895 -0.310251       0\n",
       "97 -0.563641 -0.068235 -1.484725 -2.270556 -0.964719       0\n",
       "98 -0.728451  1.190236  0.434711 -1.658989 -0.437585       0\n",
       "99 -0.448837 -0.475054  0.631984 -0.824854 -0.144420       0\n",
       "\n",
       "[100 rows x 6 columns]"
      ]
     },
     "execution_count": 52,
     "metadata": {},
     "output_type": "execute_result"
    }
   ],
   "source": [
    "ma"
   ]
  },
  {
   "cell_type": "code",
   "execution_count": 17,
   "metadata": {},
   "outputs": [
    {
     "name": "stdout",
     "output_type": "stream",
     "text": [
      "<class 'pandas.core.frame.DataFrame'>\n",
      "RangeIndex: 100 entries, 0 to 99\n",
      "Data columns (total 6 columns):\n",
      "0         100 non-null float64\n",
      "1         100 non-null float64\n",
      "2         100 non-null float64\n",
      "3         100 non-null float64\n",
      "4         100 non-null float64\n",
      "target    100 non-null int32\n",
      "dtypes: float64(5), int32(1)\n",
      "memory usage: 4.4 KB\n"
     ]
    }
   ],
   "source": [
    "ma.info()"
   ]
  },
  {
   "cell_type": "code",
   "execution_count": 18,
   "metadata": {},
   "outputs": [
    {
     "data": {
      "text/html": [
       "<div>\n",
       "<style scoped>\n",
       "    .dataframe tbody tr th:only-of-type {\n",
       "        vertical-align: middle;\n",
       "    }\n",
       "\n",
       "    .dataframe tbody tr th {\n",
       "        vertical-align: top;\n",
       "    }\n",
       "\n",
       "    .dataframe thead th {\n",
       "        text-align: right;\n",
       "    }\n",
       "</style>\n",
       "<table border=\"1\" class=\"dataframe\">\n",
       "  <thead>\n",
       "    <tr style=\"text-align: right;\">\n",
       "      <th></th>\n",
       "      <th>0</th>\n",
       "      <th>1</th>\n",
       "      <th>2</th>\n",
       "      <th>3</th>\n",
       "      <th>4</th>\n",
       "      <th>target</th>\n",
       "    </tr>\n",
       "  </thead>\n",
       "  <tbody>\n",
       "    <tr>\n",
       "      <th>count</th>\n",
       "      <td>100.000000</td>\n",
       "      <td>100.000000</td>\n",
       "      <td>100.000000</td>\n",
       "      <td>100.000000</td>\n",
       "      <td>100.000000</td>\n",
       "      <td>100.000000</td>\n",
       "    </tr>\n",
       "    <tr>\n",
       "      <th>mean</th>\n",
       "      <td>0.033040</td>\n",
       "      <td>0.030768</td>\n",
       "      <td>-0.013175</td>\n",
       "      <td>0.005142</td>\n",
       "      <td>-0.033640</td>\n",
       "      <td>0.500000</td>\n",
       "    </tr>\n",
       "    <tr>\n",
       "      <th>std</th>\n",
       "      <td>1.215584</td>\n",
       "      <td>1.300868</td>\n",
       "      <td>1.120070</td>\n",
       "      <td>0.719191</td>\n",
       "      <td>1.426141</td>\n",
       "      <td>0.502519</td>\n",
       "    </tr>\n",
       "    <tr>\n",
       "      <th>min</th>\n",
       "      <td>-2.397128</td>\n",
       "      <td>-3.376615</td>\n",
       "      <td>-2.992871</td>\n",
       "      <td>-2.176996</td>\n",
       "      <td>-3.702183</td>\n",
       "      <td>0.000000</td>\n",
       "    </tr>\n",
       "    <tr>\n",
       "      <th>25%</th>\n",
       "      <td>-0.831615</td>\n",
       "      <td>-0.717913</td>\n",
       "      <td>-0.897305</td>\n",
       "      <td>-0.474727</td>\n",
       "      <td>-1.210265</td>\n",
       "      <td>0.000000</td>\n",
       "    </tr>\n",
       "    <tr>\n",
       "      <th>50%</th>\n",
       "      <td>-0.174092</td>\n",
       "      <td>0.269994</td>\n",
       "      <td>0.027853</td>\n",
       "      <td>0.047336</td>\n",
       "      <td>0.344770</td>\n",
       "      <td>0.500000</td>\n",
       "    </tr>\n",
       "    <tr>\n",
       "      <th>75%</th>\n",
       "      <td>1.041280</td>\n",
       "      <td>0.962961</td>\n",
       "      <td>0.749592</td>\n",
       "      <td>0.544505</td>\n",
       "      <td>1.122823</td>\n",
       "      <td>1.000000</td>\n",
       "    </tr>\n",
       "    <tr>\n",
       "      <th>max</th>\n",
       "      <td>2.772827</td>\n",
       "      <td>2.607678</td>\n",
       "      <td>2.765655</td>\n",
       "      <td>1.471359</td>\n",
       "      <td>2.307091</td>\n",
       "      <td>1.000000</td>\n",
       "    </tr>\n",
       "  </tbody>\n",
       "</table>\n",
       "</div>"
      ],
      "text/plain": [
       "                0           1           2           3           4      target\n",
       "count  100.000000  100.000000  100.000000  100.000000  100.000000  100.000000\n",
       "mean     0.033040    0.030768   -0.013175    0.005142   -0.033640    0.500000\n",
       "std      1.215584    1.300868    1.120070    0.719191    1.426141    0.502519\n",
       "min     -2.397128   -3.376615   -2.992871   -2.176996   -3.702183    0.000000\n",
       "25%     -0.831615   -0.717913   -0.897305   -0.474727   -1.210265    0.000000\n",
       "50%     -0.174092    0.269994    0.027853    0.047336    0.344770    0.500000\n",
       "75%      1.041280    0.962961    0.749592    0.544505    1.122823    1.000000\n",
       "max      2.772827    2.607678    2.765655    1.471359    2.307091    1.000000"
      ]
     },
     "execution_count": 18,
     "metadata": {},
     "output_type": "execute_result"
    }
   ],
   "source": [
    "ma.describe()"
   ]
  },
  {
   "cell_type": "code",
   "execution_count": 19,
   "metadata": {},
   "outputs": [
    {
     "data": {
      "text/plain": [
       "<matplotlib.axes._subplots.AxesSubplot at 0x217b7a7c160>"
      ]
     },
     "execution_count": 19,
     "metadata": {},
     "output_type": "execute_result"
    },
    {
     "data": {
      "image/png": "[encoded data removed]",
      "text/plain": [
       "<Figure size 432x288 with 1 Axes>"
      ]
     },
     "metadata": {
      "needs_background": "light"
     },
     "output_type": "display_data"
    }
   ],
   "source": [
    "ma.boxplot()"
   ]
  },
  {
   "cell_type": "code",
   "execution_count": 13,
   "metadata": {},
   "outputs": [],
   "source": [
    "import seaborn as sns"
   ]
  },
  {
   "cell_type": "code",
   "execution_count": 14,
   "metadata": {},
   "outputs": [
    {
     "data": {
      "text/plain": [
       "<matplotlib.axes._subplots.AxesSubplot at 0x217b587b8d0>"
      ]
     },
     "execution_count": 14,
     "metadata": {},
     "output_type": "execute_result"
    },
    {
     "data": {
      "image/png": "[encoded data removed]",
      "text/plain": [
       "<Figure size 432x288 with 2 Axes>"
      ]
     },
     "metadata": {
      "needs_background": "light"
     },
     "output_type": "display_data"
    }
   ],
   "source": [
    "sns.heatmap(ma.corr())"
   ]
  },
  {
   "cell_type": "markdown",
   "metadata": {},
   "source": [
    "`pairplot`을 보니 직선으로 분류하기에 어려워 보인다.  \n",
    "=> linear 모델은 성능이 별로 안 좋을 것으로 예상된다."
   ]
  },
  {
   "cell_type": "code",
   "execution_count": 16,
   "metadata": {},
   "outputs": [
    {
     "data": {
      "text/plain": [
       "<seaborn.axisgrid.PairGrid at 0x217b5992b00>"
      ]
     },
     "execution_count": 16,
     "metadata": {},
     "output_type": "execute_result"
    },
    {
     "data": {
      "image/png": "[encoded data removed]",
      "text/plain": [
       "<Figure size 942.375x900 with 30 Axes>"
      ]
     },
     "metadata": {
      "needs_background": "light"
     },
     "output_type": "display_data"
    }
   ],
   "source": [
    "sns.pairplot(ma, hue=\"target\")"
   ]
  },
  {
   "cell_type": "markdown",
   "metadata": {},
   "source": [
    "이제 데이터를 불러와서 EDA하고 scikit-learn으로 모델 만드는 것까지는 기계적으로 할 수 있어야 합니다."
   ]
  },
  {
   "cell_type": "code",
   "execution_count": 20,
   "metadata": {},
   "outputs": [],
   "source": [
    "from sklearn.linear_model import LogisticRegression\n",
    "from sklearn.model_selection import cross_val_score"
   ]
  },
  {
   "cell_type": "markdown",
   "metadata": {},
   "source": [
    "linear 모델이 성능이 안 좋을 것으로 예상했던 것과 달리, 성능이 좋다.  \n",
    "**잘 안되는 것은 증명 가능/ 되는 것은 몰라**"
   ]
  },
  {
   "cell_type": "code",
   "execution_count": 24,
   "metadata": {},
   "outputs": [
    {
     "data": {
      "text/plain": [
       "array([0.8, 1. , 1. , 1. , 0.9, 0.9, 0.7, 0.9, 0.9, 0.7])"
      ]
     },
     "execution_count": 24,
     "metadata": {},
     "output_type": "execute_result"
    }
   ],
   "source": [
    "# solver의 default는 liblinear\n",
    "# warning 안 뜨게 하려고 썼을 뿐\n",
    "cross_val_score(LogisticRegression(solver=\"liblinear\"), ma.iloc[:, :-1], ma.iloc[:, -1], cv=10)"
   ]
  },
  {
   "cell_type": "markdown",
   "metadata": {},
   "source": [
    "Linear 모델이 성능이 괜찮으면, 일반적으로 Non-Linear도 좋다."
   ]
  },
  {
   "cell_type": "code",
   "execution_count": 33,
   "metadata": {},
   "outputs": [],
   "source": [
    "from sklearn.neighbors import KNeighborsClassifier"
   ]
  },
  {
   "cell_type": "code",
   "execution_count": 34,
   "metadata": {},
   "outputs": [
    {
     "data": {
      "text/plain": [
       "array([0.9, 0.9, 0.9, 1. , 0.9, 0.8, 0.8, 0.9, 0.9, 0.7])"
      ]
     },
     "execution_count": 34,
     "metadata": {},
     "output_type": "execute_result"
    }
   ],
   "source": [
    "cross_val_score(KNeighborsClassifier(), ma.iloc[:, :-1], ma.iloc[:, -1], cv=10)"
   ]
  },
  {
   "cell_type": "code",
   "execution_count": 35,
   "metadata": {},
   "outputs": [],
   "source": [
    "from sklearn.naive_bayes import GaussianNB"
   ]
  },
  {
   "cell_type": "code",
   "execution_count": 36,
   "metadata": {},
   "outputs": [
    {
     "data": {
      "text/plain": [
       "array([0.8, 1. , 0.9, 0.9, 1. , 0.9, 0.8, 0.9, 0.7, 0.7])"
      ]
     },
     "execution_count": 36,
     "metadata": {},
     "output_type": "execute_result"
    }
   ],
   "source": [
    "cross_val_score(GaussianNB(), ma.iloc[:, :-1], ma.iloc[:, -1], cv=10)"
   ]
  },
  {
   "cell_type": "markdown",
   "metadata": {},
   "source": [
    "## 모델 선택하는 기준"
   ]
  },
  {
   "cell_type": "markdown",
   "metadata": {},
   "source": [
    "### 오캄의 면도칼 원칙\n",
    "- 성능이 좋은 모델이 여러개 있으면, 간단한 모델 선택한다.\n",
    "- linear 모델이 non-linear 모델보다 간단하다.\n",
    "- non-linear 모델은 복잡한 대신에 성능이 좋다. "
   ]
  },
  {
   "cell_type": "markdown",
   "metadata": {},
   "source": [
    "### No Free Lunch\n",
    "어떤 상황에서 이 알고리즘이 잘 되었다고, 다른 데서 이 알고리즘이 또 잘 될거라는 보장이 없다.  \n",
    "여러가지 알고리즘을 다 써봐야한다 => 이를 증명하는 논문도 발표되었다.\n",
    "\n",
    "항상 잘 되는 알고리즘은 없다.\n",
    "data마다 잘 되는 algorithm이 있다. (상황에 따라)\n",
    "\n",
    "일반적으로 잘되는 알고리즘이 간혹 있기는 했다. \n",
    "- 20년 전까지는 Support Vector Machine\n",
    "- 15년 전까지는 RandomForest\n",
    "- 5년 전부터는 ensemble (xgboosting, gradientbooting 계열)\n",
    "\n",
    "추천도서: 마스터 알고리즘 (by 페드로 도밍고스)\n",
    "- 우리가 아직 발견하지 못했을 뿐, 절대 알고리즘은 존재할 것이라고 주장\n",
    "- 인사이트가 엄청나서 제안서 쓸 때 도움이 많이 될 것이다."
   ]
  },
  {
   "cell_type": "markdown",
   "metadata": {},
   "source": [
    "### 모델 선택하는 방법\n",
    "- 알고리즘별 비교\n",
    "- *하이퍼 파라미터*별 비교\n",
    "    - 기계가 학습할 수 없는 파라미터 = 사람이 지정해줘야함."
   ]
  },
  {
   "cell_type": "markdown",
   "metadata": {},
   "source": [
    "## Pipeline"
   ]
  },
  {
   "cell_type": "markdown",
   "metadata": {},
   "source": [
    "Pipeline은 전처리부터 학습까지 한번에 처리해주는 편리한 기능이다.  \n",
    "많이 써야하고 잘 쓸 줄 알아야 한다."
   ]
  },
  {
   "cell_type": "code",
   "execution_count": 56,
   "metadata": {},
   "outputs": [],
   "source": [
    "from sklearn.preprocessing import StandardScaler"
   ]
  },
  {
   "cell_type": "code",
   "execution_count": 60,
   "metadata": {},
   "outputs": [],
   "source": [
    "ss = StandardScaler()"
   ]
  },
  {
   "cell_type": "code",
   "execution_count": 62,
   "metadata": {},
   "outputs": [
    {
     "data": {
      "text/plain": [
       "array([[-1.05663707e-03,  5.76796507e-01,  9.70870596e-01,\n",
       "         5.12586784e-01,  8.80460309e-01],\n",
       "       [-6.96662808e-01,  3.48125993e+00,  1.35495951e+00,\n",
       "        -3.60614766e-02,  5.99116393e-01],\n",
       "       [-8.64057261e-01,  1.06279682e+00, -1.28512061e+00,\n",
       "        -1.61397806e+00, -1.94933150e+00],\n",
       "       [ 5.71892670e-01, -7.73762892e-01, -4.80245654e-01,\n",
       "         3.64044770e-01,  8.19935103e-02],\n",
       "       [-1.12285934e+00,  2.28410277e-01,  9.06598122e-01,\n",
       "        -7.33987641e-01, -1.93960957e-01],\n",
       "       [-7.31710721e-01, -3.51612784e-01, -1.30969662e+00,\n",
       "        -1.48392788e+00, -1.85177052e+00],\n",
       "       [-9.82422518e-01, -5.08175794e-01,  8.15853215e-01,\n",
       "        -6.30205394e-01, -1.49144502e-01],\n",
       "       [ 1.00968457e+00,  4.77341835e-02,  1.37126343e-01,\n",
       "         1.16393516e+00,  1.03901180e+00],\n",
       "       [ 1.43148443e+00,  1.29592194e-01,  4.68652200e-01,\n",
       "         1.79528628e+00,  1.72203624e+00],\n",
       "       [ 5.78422002e-01, -1.19142176e+00, -4.20369236e-01,\n",
       "         4.02785532e-01,  1.42267015e-01],\n",
       "       [ 2.62307418e+00, -4.11357836e-01, -5.65591073e-01,\n",
       "         2.53602267e+00,  1.86236534e+00],\n",
       "       [ 1.03935645e+00, -1.64454966e+00, -5.61219418e-01,\n",
       "         8.26483286e-01,  4.31884871e-01],\n",
       "       [-1.20681597e+00,  1.83000133e+00,  1.56247563e+00,\n",
       "        -4.77684324e-01,  3.25442321e-01],\n",
       "       [-1.48752886e-01,  6.96946101e-01,  9.17036424e-01,\n",
       "         3.24454829e-01,  6.97810666e-01],\n",
       "       [-6.54330763e-01, -1.48013261e+00, -9.37062735e-01,\n",
       "        -1.20311086e+00, -1.44338330e+00],\n",
       "       [-1.59649099e+00,  2.87796027e-01,  9.97289662e-02,\n",
       "        -1.67288849e+00, -1.35547847e+00],\n",
       "       [ 1.29180828e+00, -4.61623164e-01, -7.08488442e-01,\n",
       "         1.02143409e+00,  5.26842557e-01],\n",
       "       [ 1.10874807e+00,  1.36354132e+00, -8.14763533e-01,\n",
       "         7.67328246e-01,  2.64552913e-01],\n",
       "       [ 1.86771690e+00, -5.03066797e-01, -1.15011094e+00,\n",
       "         1.41025690e+00,  6.47538042e-01],\n",
       "       [ 8.52455705e-01, -2.84955437e-01, -4.61033816e-01,\n",
       "         6.77473301e-01,  3.53554662e-01],\n",
       "       [ 4.47470768e-01,  1.38643132e+00,  8.70006534e-01,\n",
       "         9.44032025e-01,  1.19514242e+00],\n",
       "       [-1.17160656e+00,  7.47623126e-01, -1.56776634e+00,\n",
       "        -2.09597032e+00, -2.48449726e+00],\n",
       "       [-1.48906436e-01, -1.66005215e-01,  2.09171198e+00,\n",
       "         9.45859635e-01,  1.76411590e+00],\n",
       "       [ 1.79208018e-01,  2.70138453e+00,  8.08143868e-01,\n",
       "         6.21330599e-01,  8.96001127e-01],\n",
       "       [-1.05235629e+00,  1.03742085e+00,  1.57641484e+00,\n",
       "        -3.03351858e-01,  4.77998761e-01],\n",
       "       [ 1.32440821e+00,  1.23200401e+00,  4.25152088e-01,\n",
       "         1.65652902e+00,  1.58556002e+00],\n",
       "       [-5.33910689e-01, -1.09314538e-01,  1.62023293e+00,\n",
       "         2.80225984e-01,  9.87360710e-01],\n",
       "       [-8.42462903e-02, -8.62517232e-01,  1.27282898e+00,\n",
       "         5.82445470e-01,  1.07924824e+00],\n",
       "       [-1.51078507e+00, -1.82993239e+00, -1.98981358e-01,\n",
       "        -1.73830864e+00, -1.54903850e+00],\n",
       "       [-1.34391997e+00,  1.17792747e+00, -1.69937697e+00,\n",
       "        -2.35186599e+00, -2.76005420e+00],\n",
       "       [ 3.04214671e-01, -1.49897294e+00, -5.28818451e-01,\n",
       "         4.90076399e-02, -2.04552769e-01],\n",
       "       [ 1.22515804e+00, -1.22938489e+00, -1.00420298e+00,\n",
       "         7.92916208e-01,  1.98005987e-01],\n",
       "       [-1.02639466e+00, -1.41579735e+00, -1.11627846e+00,\n",
       "        -1.70010824e+00, -1.94308278e+00],\n",
       "       [ 1.32359281e+00,  6.51762517e-01, -8.23698786e-01,\n",
       "         9.94827547e-01,  4.51036144e-01],\n",
       "       [-7.24838853e-01, -5.78420313e-01, -1.24551217e+00,\n",
       "        -1.44253731e+00, -1.78727566e+00],\n",
       "       [ 2.35486838e-01, -1.12084855e+00, -5.38646140e-01,\n",
       "        -3.04810487e-02, -2.75725067e-01],\n",
       "       [ 5.60335903e-02, -5.40686359e-01, -5.93669636e-01,\n",
       "        -2.53568709e-01, -4.88218296e-01],\n",
       "       [ 1.30804991e+00,  6.76472614e-01, -9.04511752e-01,\n",
       "         9.35265528e-01,  3.63591099e-01],\n",
       "       [-2.52679567e-01,  4.28675238e-01, -1.02301454e+00,\n",
       "        -8.14443767e-01, -1.15762095e+00],\n",
       "       [ 1.44594807e+00, -7.77146954e-01, -1.05377274e+00,\n",
       "         1.00534037e+00,  3.52983594e-01],\n",
       "       [-4.57832087e-01,  5.03562748e-01,  1.43800393e+00,\n",
       "         2.66034811e-01,  8.90829812e-01],\n",
       "       [-7.87639931e-01, -9.72269513e-01,  1.60546871e+00,\n",
       "        -1.84427304e-03,  7.44142041e-01],\n",
       "       [-1.26463128e+00, -6.85425572e-01,  7.41540345e-01,\n",
       "        -9.74569108e-01, -4.72220452e-01],\n",
       "       [-9.22751327e-03,  4.17524056e-01, -8.04264199e-01,\n",
       "        -4.35544473e-01, -7.38519399e-01],\n",
       "       [-7.12221071e-01, -1.20098459e+00,  1.28781999e+00,\n",
       "        -8.84048954e-02,  5.24071052e-01],\n",
       "       [ 1.21021741e+00,  1.70254068e-01, -7.70529267e-01,\n",
       "         9.00413461e-01,  3.96617221e-01],\n",
       "       [ 1.42191381e+00,  9.21218355e-02, -8.37342044e-01,\n",
       "         1.09388424e+00,  5.27703997e-01],\n",
       "       [-5.98106311e-01,  1.23523047e+00, -1.07338200e+00,\n",
       "        -1.21446974e+00, -1.51621731e+00],\n",
       "       [ 1.47769315e+00, -4.01334476e-01,  2.82821056e-01,\n",
       "         1.74690248e+00,  1.59518050e+00],\n",
       "       [-8.26418910e-01,  4.34150486e-03,  1.42224834e+00,\n",
       "        -1.40710460e-01,  5.42679079e-01],\n",
       "       [-1.12022177e+00,  4.24533024e-01,  7.61478080e-01,\n",
       "        -8.07925855e-01, -3.23321078e-01],\n",
       "       [-9.49267456e-01, -5.11784251e-02,  1.17404805e+00,\n",
       "        -4.04831716e-01,  2.06077422e-01],\n",
       "       [ 1.40275945e+00,  7.44979181e-01, -9.39727630e-01,\n",
       "         1.01900359e+00,  4.17402905e-01],\n",
       "       [ 4.12836250e-01,  2.48067554e-01,  4.70111844e-01,\n",
       "         6.94994027e-01,  8.00722735e-01],\n",
       "       [ 9.97832164e-01, -8.30729811e-01, -7.52316254e-01,\n",
       "         6.80481906e-01,  2.20784607e-01],\n",
       "       [-6.68981852e-01, -1.19394130e+00,  1.36934238e+00,\n",
       "         1.46967173e-03,  6.37246046e-01],\n",
       "       [-2.27748314e-01, -5.97384238e-01, -9.04495380e-01,\n",
       "        -7.24781858e-01, -1.02744037e+00],\n",
       "       [-1.18796967e+00, -5.23094991e-01,  4.60996177e-01,\n",
       "        -1.04015283e+00, -6.57479968e-01],\n",
       "       [-1.05739969e+00, -9.67489429e-01,  1.05841331e+00,\n",
       "        -5.82899937e-01,  3.15636643e-03],\n",
       "       [-8.43067958e-01, -2.99169676e-01,  1.38051277e+00,\n",
       "        -1.80790608e-01,  4.89709061e-01],\n",
       "       [-9.36030436e-01,  7.18007195e-01,  1.36078093e+00,\n",
       "        -2.91715414e-01,  3.87594674e-01],\n",
       "       [ 8.71061754e-02, -7.41755524e-01, -4.51200915e-01,\n",
       "        -1.44595856e-01, -3.30732300e-01],\n",
       "       [-5.28819359e-01, -1.19488334e-01, -1.10464337e+00,\n",
       "        -1.15611867e+00, -1.48184182e+00],\n",
       "       [-5.76592343e-02, -8.45701429e-01,  1.38163440e+00,\n",
       "         6.68757199e-01,  1.20210982e+00],\n",
       "       [-4.89412814e-01,  1.85776156e-01, -1.27897771e+00,\n",
       "        -1.20577154e+00, -1.60442110e+00],\n",
       "       [ 1.41705112e+00,  8.51630862e-02, -1.23208322e+00,\n",
       "         8.79753786e-01,  1.64928777e-01],\n",
       "       [-1.85766383e-01, -5.51458979e-01, -6.24260415e-01,\n",
       "        -5.31119033e-01, -7.35000396e-01],\n",
       "       [ 6.84732894e-01, -2.09963224e+00, -4.81909560e-01,\n",
       "         4.85134188e-01,  1.82687731e-01],\n",
       "       [ 1.44135469e+00, -8.20056586e-01, -1.09854430e+00,\n",
       "         9.76684820e-01,  3.08176713e-01],\n",
       "       [-2.05931906e-01,  1.57055567e+00, -8.37619041e-01,\n",
       "        -6.65813221e-01, -9.46965652e-01],\n",
       "       [ 1.32848047e+00,  5.32832202e-01, -7.94501670e-01,\n",
       "         1.01556010e+00,  4.81970114e-01],\n",
       "       [ 4.73629200e-01,  1.70836122e+00,  5.53567139e-01,\n",
       "         8.04865336e-01,  9.31551797e-01],\n",
       "       [ 1.03791213e+00,  4.54196248e-01, -8.64713489e-01,\n",
       "         6.64330497e-01,  1.55045689e-01],\n",
       "       [-1.01842088e+00,  2.95788676e-01, -1.23430044e+00,\n",
       "        -1.75393977e+00, -2.04300831e+00],\n",
       "       [ 4.68187747e-01,  6.52609984e-01,  7.42945745e-01,\n",
       "         8.99191900e-01,  1.09855301e+00],\n",
       "       [ 7.50235921e-02,  9.77896367e-01,  1.12481496e+00,\n",
       "         6.76280996e-01,  1.08913021e+00],\n",
       "       [ 2.09714602e+00,  4.68655272e-01, -1.55649307e+00,\n",
       "         1.44321452e+00,  4.86403791e-01],\n",
       "       [-2.39423461e-02,  4.72412392e-01, -9.14096119e-01,\n",
       "        -5.09566587e-01, -8.51559652e-01],\n",
       "       [ 1.53482868e+00, -4.31587737e-01, -1.00940184e+00,\n",
       "         1.12489063e+00,  4.73769728e-01],\n",
       "       [-9.75091138e-01,  1.08927655e+00,  1.39169276e+00,\n",
       "        -3.17579663e-01,  3.80279217e-01],\n",
       "       [-3.78858742e-01,  2.15888907e+00, -9.18116244e-01,\n",
       "        -8.95325654e-01, -1.17667423e+00],\n",
       "       [-7.92736142e-01, -1.84489477e+00,  1.43144477e+00,\n",
       "        -9.94362746e-02,  5.81536282e-01],\n",
       "       [-7.45944643e-01, -2.77468697e-01,  9.98028246e-01,\n",
       "        -2.78198095e-01,  2.30434830e-01],\n",
       "       [ 4.51987020e-01,  1.19646655e+00, -4.00161219e-01,\n",
       "         2.76813914e-01,  4.60948787e-02],\n",
       "       [ 1.84678135e-01,  1.88822538e-01, -2.55164866e-01,\n",
       "         6.46014303e-02, -6.43828335e-02],\n",
       "       [-9.68221752e-01, -1.00122133e+00,  1.21306344e+00,\n",
       "        -4.04674858e-01,  2.24330228e-01],\n",
       "       [ 1.18094879e+00, -1.36643537e+00, -9.38999729e-01,\n",
       "         7.79631905e-01,  2.17159151e-01],\n",
       "       [ 7.73844645e-02, -3.69375125e-01,  7.63409461e-01,\n",
       "         4.87597864e-01,  7.63161929e-01],\n",
       "       [-8.66153849e-01, -4.55735821e-01,  1.08013201e+00,\n",
       "        -3.64688552e-01,  1.96094529e-01],\n",
       "       [-1.50630363e+00,  1.13575983e+00,  8.65179489e-02,\n",
       "        -1.58239479e+00, -1.28578523e+00],\n",
       "       [ 5.24456813e-01, -4.33627697e-01, -3.77221271e-01,\n",
       "         3.67285570e-01,  1.32560584e-01],\n",
       "       [ 1.80081238e+00,  4.05305922e-01, -2.52322812e-01,\n",
       "         1.81299715e+00,  1.40200789e+00],\n",
       "       [-6.49474378e-01, -1.95733535e-01,  1.44829478e+00,\n",
       "         6.43325181e-02,  7.26592850e-01],\n",
       "       [-1.34221734e+00, -1.44921039e+00,  3.26315572e-01,\n",
       "        -1.27814556e+00, -9.19461030e-01],\n",
       "       [ 7.50036197e-01, -5.78850944e-01,  5.80371872e-01,\n",
       "         1.11781930e+00,  1.20624193e+00],\n",
       "       [-1.22404799e+00, -2.06305392e-01,  9.00696787e-01,\n",
       "        -8.46485871e-01, -2.90969985e-01],\n",
       "       [-1.09993372e-01,  6.64154078e-01, -6.07409097e-01,\n",
       "        -4.40298656e-01, -6.51070449e-01],\n",
       "       [-1.03226321e+00, -7.51046535e-02, -1.24059879e+00,\n",
       "        -1.77223477e+00, -2.06126402e+00],\n",
       "       [-1.34822938e+00,  1.29976154e+00,  3.25729336e-01,\n",
       "        -1.28495422e+00, -9.25438644e-01],\n",
       "       [-8.12165903e-01, -5.19549298e-01,  4.86710990e-01,\n",
       "        -6.20336861e-01, -2.93750897e-01]])"
      ]
     },
     "execution_count": 62,
     "metadata": {},
     "output_type": "execute_result"
    }
   ],
   "source": [
    "ss.fit_transform(ma.iloc[:, :-1]) # StanardScaler 사용법 복습"
   ]
  },
  {
   "cell_type": "markdown",
   "metadata": {},
   "source": [
    "### Pipeline"
   ]
  },
  {
   "cell_type": "markdown",
   "metadata": {},
   "source": [
    "`Pipeline`은 전처리를 한번에 처리한다.  \n",
    "인스턴스 -> fit 하는 사용법은 그대로이다."
   ]
  },
  {
   "cell_type": "code",
   "execution_count": 55,
   "metadata": {},
   "outputs": [],
   "source": [
    "from sklearn.pipeline import Pipeline"
   ]
  },
  {
   "cell_type": "markdown",
   "metadata": {},
   "source": [
    "list 안에 tuple 형태로 입력한다."
   ]
  },
  {
   "cell_type": "code",
   "execution_count": 270,
   "metadata": {},
   "outputs": [],
   "source": [
    "# (이름, 객체)\n",
    "# 이름은 아무거나 가능\n",
    "# 이름 중요함! 나중에 또 나옴\n",
    "pipe = Pipeline([(\"ss\",StandardScaler()), (\"knn\", KNeighborsClassifier())]) "
   ]
  },
  {
   "cell_type": "markdown",
   "metadata": {},
   "source": [
    "`fit` 한번만 하면 Standard Scaling한 후에 KNN으로 학습까지 한번에 처리한다."
   ]
  },
  {
   "cell_type": "code",
   "execution_count": 271,
   "metadata": {},
   "outputs": [
    {
     "data": {
      "text/plain": [
       "Pipeline(memory=None,\n",
       "         steps=[('ss',\n",
       "                 StandardScaler(copy=True, with_mean=True, with_std=True)),\n",
       "                ('knn',\n",
       "                 KNeighborsClassifier(algorithm='auto', leaf_size=30,\n",
       "                                      metric='minkowski', metric_params=None,\n",
       "                                      n_jobs=None, n_neighbors=5, p=2,\n",
       "                                      weights='uniform'))],\n",
       "         verbose=False)"
      ]
     },
     "execution_count": 271,
     "metadata": {},
     "output_type": "execute_result"
    }
   ],
   "source": [
    "pipe.fit(ma.iloc[:, :-1], ma.iloc[:, -1])"
   ]
  },
  {
   "cell_type": "markdown",
   "metadata": {},
   "source": [
    "`Pipeline`에 3개 이상도 넣을 수 있다.  \n",
    "list에 추가하면 된다."
   ]
  },
  {
   "cell_type": "code",
   "execution_count": 63,
   "metadata": {},
   "outputs": [],
   "source": [
    "from sklearn.preprocessing import MinMaxScaler"
   ]
  },
  {
   "cell_type": "markdown",
   "metadata": {},
   "source": [
    "list의 순서대로 실행된다. 알고리즘을 맨 마지막에 넣는다."
   ]
  },
  {
   "cell_type": "code",
   "execution_count": 272,
   "metadata": {},
   "outputs": [],
   "source": [
    "pipe = Pipeline([(\"ss\",StandardScaler()), (\"mm\", MinMaxScaler()),(\"knn\", KNeighborsClassifier())]) "
   ]
  },
  {
   "cell_type": "code",
   "execution_count": 273,
   "metadata": {},
   "outputs": [
    {
     "data": {
      "text/plain": [
       "Pipeline(memory=None,\n",
       "         steps=[('ss',\n",
       "                 StandardScaler(copy=True, with_mean=True, with_std=True)),\n",
       "                ('mm', MinMaxScaler(copy=True, feature_range=(0, 1))),\n",
       "                ('knn',\n",
       "                 KNeighborsClassifier(algorithm='auto', leaf_size=30,\n",
       "                                      metric='minkowski', metric_params=None,\n",
       "                                      n_jobs=None, n_neighbors=5, p=2,\n",
       "                                      weights='uniform'))],\n",
       "         verbose=False)"
      ]
     },
     "execution_count": 273,
     "metadata": {},
     "output_type": "execute_result"
    }
   ],
   "source": [
    "pipe.fit(ma.iloc[:, :-1], ma.iloc[:, -1])"
   ]
  },
  {
   "cell_type": "markdown",
   "metadata": {},
   "source": [
    "`vars`에 pipeline에서 실행될 애들이 저장되어 있다."
   ]
  },
  {
   "cell_type": "code",
   "execution_count": 67,
   "metadata": {},
   "outputs": [
    {
     "data": {
      "text/plain": [
       "{'steps': [('ss', StandardScaler(copy=True, with_mean=True, with_std=True)),\n",
       "  ('mm', MinMaxScaler(copy=True, feature_range=(0, 1))),\n",
       "  ('knn',\n",
       "   KNeighborsClassifier(algorithm='auto', leaf_size=30, metric='minkowski',\n",
       "                        metric_params=None, n_jobs=None, n_neighbors=5, p=2,\n",
       "                        weights='uniform'))],\n",
       " 'memory': None,\n",
       " 'verbose': False}"
      ]
     },
     "execution_count": 67,
     "metadata": {},
     "output_type": "execute_result"
    }
   ],
   "source": [
    "vars(pipe)"
   ]
  },
  {
   "cell_type": "markdown",
   "metadata": {},
   "source": [
    "### make_pipeline"
   ]
  },
  {
   "cell_type": "markdown",
   "metadata": {},
   "source": [
    "`Pipeline`을 만들기가 복잡해서 함수로 만들었다.  \n",
    "더 편리하게 pipeline 만드는 함수이다."
   ]
  },
  {
   "cell_type": "code",
   "execution_count": 68,
   "metadata": {},
   "outputs": [],
   "source": [
    "from sklearn.pipeline import make_pipeline"
   ]
  },
  {
   "cell_type": "markdown",
   "metadata": {},
   "source": [
    "`shift` + `tab` 해보면 `*steps`로 가변 포지셔널 방식으로 만들었다.  \n",
    "리스트 안에 튜플로 복잡하게 만들지 않아도 된다."
   ]
  },
  {
   "cell_type": "code",
   "execution_count": 70,
   "metadata": {},
   "outputs": [],
   "source": [
    "pipe2 = make_pipeline(StandardScaler(), MinMaxScaler(), LogisticRegression())"
   ]
  },
  {
   "cell_type": "code",
   "execution_count": 71,
   "metadata": {},
   "outputs": [
    {
     "data": {
      "text/plain": [
       "{'steps': [('standardscaler',\n",
       "   StandardScaler(copy=True, with_mean=True, with_std=True)),\n",
       "  ('minmaxscaler', MinMaxScaler(copy=True, feature_range=(0, 1))),\n",
       "  ('logisticregression',\n",
       "   LogisticRegression(C=1.0, class_weight=None, dual=False, fit_intercept=True,\n",
       "                      intercept_scaling=1, l1_ratio=None, max_iter=100,\n",
       "                      multi_class='warn', n_jobs=None, penalty='l2',\n",
       "                      random_state=None, solver='warn', tol=0.0001, verbose=0,\n",
       "                      warm_start=False))],\n",
       " 'memory': None,\n",
       " 'verbose': False}"
      ]
     },
     "execution_count": 71,
     "metadata": {},
     "output_type": "execute_result"
    }
   ],
   "source": [
    "vars(pipe2)"
   ]
  },
  {
   "cell_type": "markdown",
   "metadata": {},
   "source": [
    "## 하이퍼 파라미터 찾기"
   ]
  },
  {
   "cell_type": "markdown",
   "metadata": {},
   "source": [
    "### 일일히 바꿔보기"
   ]
  },
  {
   "cell_type": "markdown",
   "metadata": {},
   "source": [
    "하이퍼 파라미터는 사람이 지정하는 것이기 때문에 일일히 바꿔서 실험해봐야한다.  \n",
    "이 방법은 좀 무식한 것 같다."
   ]
  },
  {
   "cell_type": "code",
   "execution_count": 72,
   "metadata": {},
   "outputs": [],
   "source": [
    "knn5 = KNeighborsClassifier(5)\n",
    "knn6 = KNeighborsClassifier(6)"
   ]
  },
  {
   "cell_type": "code",
   "execution_count": 120,
   "metadata": {},
   "outputs": [
    {
     "data": {
      "text/plain": [
       "array([0.9, 0.8, 1. , 1. , 0.9, 0.9, 1. , 1. , 0.9, 1. ])"
      ]
     },
     "execution_count": 120,
     "metadata": {},
     "output_type": "execute_result"
    }
   ],
   "source": [
    "# n_neighbors=5 일때\n",
    "cross_val_score(knn5, ma.iloc[:, :-1], ma.iloc[:, -1], cv=10)"
   ]
  },
  {
   "cell_type": "code",
   "execution_count": 121,
   "metadata": {},
   "outputs": [
    {
     "data": {
      "text/plain": [
       "array([0.8, 0.9, 1. , 1. , 0.9, 0.9, 0.7, 1. , 0.9, 1. ])"
      ]
     },
     "execution_count": 121,
     "metadata": {},
     "output_type": "execute_result"
    }
   ],
   "source": [
    "# n_neighbors=6 일때\n",
    "cross_val_score(knn6, ma.iloc[:, :-1], ma.iloc[:, -1], cv=10)"
   ]
  },
  {
   "cell_type": "markdown",
   "metadata": {},
   "source": [
    "### for문으로 자동화"
   ]
  },
  {
   "cell_type": "markdown",
   "metadata": {},
   "source": [
    "Accumulation Pattern을 이용한다.  \n",
    "[LMS 2월 5일 수업자료 참조](https://lms.koipa.or.kr/static/uploads/lectures/35/AccumulationPattern.ipynb)"
   ]
  },
  {
   "cell_type": "code",
   "execution_count": 77,
   "metadata": {},
   "outputs": [],
   "source": [
    "temp = []\n",
    "for i in range(2, 20):\n",
    "    temp.append((i, cross_val_score(KNeighborsClassifier(i), ma.iloc[:, :-1], ma.iloc[:, -1], cv=10)))"
   ]
  },
  {
   "cell_type": "code",
   "execution_count": 79,
   "metadata": {},
   "outputs": [
    {
     "data": {
      "text/plain": [
       "[(2, array([0.8, 1. , 0.9, 0.9, 0.8, 0.9, 0.8, 0.9, 0.9, 1. ])),\n",
       " (3, array([0.9, 0.9, 1. , 0.9, 0.9, 0.9, 0.9, 0.9, 0.8, 1. ])),\n",
       " (4, array([0.9, 0.9, 1. , 1. , 0.8, 0.9, 0.8, 1. , 0.9, 1. ])),\n",
       " (5, array([0.9, 0.8, 1. , 1. , 0.9, 0.9, 1. , 1. , 0.9, 1. ])),\n",
       " (6, array([0.8, 0.9, 1. , 1. , 0.9, 0.9, 0.7, 1. , 0.9, 1. ])),\n",
       " (7, array([0.8, 0.8, 1. , 1. , 0.9, 0.9, 0.9, 1. , 0.9, 1. ])),\n",
       " (8, array([0.8, 0.7, 0.9, 1. , 0.9, 0.9, 0.8, 1. , 0.9, 0.9])),\n",
       " (9, array([0.8, 0.7, 0.9, 1. , 0.9, 0.9, 0.9, 1. , 0.9, 1. ])),\n",
       " (10, array([0.8, 0.7, 0.8, 0.9, 0.9, 0.9, 0.8, 1. , 0.8, 1. ])),\n",
       " (11, array([0.9, 0.8, 0.8, 0.8, 0.9, 0.9, 0.9, 1. , 0.8, 1. ])),\n",
       " (12, array([0.9, 0.7, 0.8, 0.8, 0.9, 0.9, 0.8, 1. , 0.8, 1. ])),\n",
       " (13, array([0.9, 0.8, 0.8, 0.8, 0.9, 0.9, 0.8, 1. , 0.7, 1. ])),\n",
       " (14, array([0.9, 0.7, 0.8, 0.8, 0.9, 0.9, 0.8, 1. , 0.7, 1. ])),\n",
       " (15, array([0.9, 0.7, 0.7, 0.8, 0.9, 0.9, 0.8, 1. , 0.7, 1. ])),\n",
       " (16, array([0.9, 0.7, 0.8, 0.8, 0.9, 0.9, 0.8, 1. , 0.7, 1. ])),\n",
       " (17, array([0.9, 0.7, 0.7, 0.8, 0.9, 0.9, 0.8, 1. , 0.7, 1. ])),\n",
       " (18, array([0.9, 0.7, 0.7, 0.8, 0.9, 0.9, 0.8, 1. , 0.7, 1. ])),\n",
       " (19, array([0.9, 0.7, 0.7, 0.8, 0.9, 0.9, 0.8, 1. , 0.7, 1. ]))]"
      ]
     },
     "execution_count": 79,
     "metadata": {},
     "output_type": "execute_result"
    }
   ],
   "source": [
    "temp"
   ]
  },
  {
   "cell_type": "markdown",
   "metadata": {},
   "source": [
    "pandas DataFrame으로 바꾸면 훨씬 보기 좋다."
   ]
  },
  {
   "cell_type": "code",
   "execution_count": 97,
   "metadata": {},
   "outputs": [],
   "source": [
    "temp2 = []\n",
    "for i in range(2, 20):\n",
    "    temp2.append(cross_val_score(KNeighborsClassifier(i), ma.iloc[:, :-1], ma.iloc[:, -1], cv=10))"
   ]
  },
  {
   "cell_type": "code",
   "execution_count": 264,
   "metadata": {},
   "outputs": [
    {
     "data": {
      "text/plain": [
       "[array([0.8, 1. , 0.9, 0.9, 0.8, 0.9, 0.8, 0.9, 0.9, 1. ]),\n",
       " array([0.9, 0.9, 1. , 0.9, 0.9, 0.9, 0.9, 0.9, 0.8, 1. ]),\n",
       " array([0.9, 0.9, 1. , 1. , 0.8, 0.9, 0.8, 1. , 0.9, 1. ]),\n",
       " array([0.9, 0.8, 1. , 1. , 0.9, 0.9, 1. , 1. , 0.9, 1. ]),\n",
       " array([0.8, 0.9, 1. , 1. , 0.9, 0.9, 0.7, 1. , 0.9, 1. ]),\n",
       " array([0.8, 0.8, 1. , 1. , 0.9, 0.9, 0.9, 1. , 0.9, 1. ]),\n",
       " array([0.8, 0.7, 0.9, 1. , 0.9, 0.9, 0.8, 1. , 0.9, 0.9]),\n",
       " array([0.8, 0.7, 0.9, 1. , 0.9, 0.9, 0.9, 1. , 0.9, 1. ]),\n",
       " array([0.8, 0.7, 0.8, 0.9, 0.9, 0.9, 0.8, 1. , 0.8, 1. ]),\n",
       " array([0.9, 0.8, 0.8, 0.8, 0.9, 0.9, 0.9, 1. , 0.8, 1. ]),\n",
       " array([0.9, 0.7, 0.8, 0.8, 0.9, 0.9, 0.8, 1. , 0.8, 1. ]),\n",
       " array([0.9, 0.8, 0.8, 0.8, 0.9, 0.9, 0.8, 1. , 0.7, 1. ]),\n",
       " array([0.9, 0.7, 0.8, 0.8, 0.9, 0.9, 0.8, 1. , 0.7, 1. ]),\n",
       " array([0.9, 0.7, 0.7, 0.8, 0.9, 0.9, 0.8, 1. , 0.7, 1. ]),\n",
       " array([0.9, 0.7, 0.8, 0.8, 0.9, 0.9, 0.8, 1. , 0.7, 1. ]),\n",
       " array([0.9, 0.7, 0.7, 0.8, 0.9, 0.9, 0.8, 1. , 0.7, 1. ]),\n",
       " array([0.9, 0.7, 0.7, 0.8, 0.9, 0.9, 0.8, 1. , 0.7, 1. ]),\n",
       " array([0.9, 0.7, 0.7, 0.8, 0.9, 0.9, 0.8, 1. , 0.7, 1. ])]"
      ]
     },
     "execution_count": 264,
     "metadata": {},
     "output_type": "execute_result"
    }
   ],
   "source": [
    "temp2 # 이번에는 list 안에 ndarray만 넣었다.\n",
    "      # DataFrame으로 깔끔하게 만들 수 있다."
   ]
  },
  {
   "cell_type": "code",
   "execution_count": 98,
   "metadata": {},
   "outputs": [],
   "source": [
    "result = pd.DataFrame(temp2).T # 보기 편하게 전치함"
   ]
  },
  {
   "cell_type": "code",
   "execution_count": 267,
   "metadata": {},
   "outputs": [
    {
     "data": {
      "text/html": [
       "<div>\n",
       "<style scoped>\n",
       "    .dataframe tbody tr th:only-of-type {\n",
       "        vertical-align: middle;\n",
       "    }\n",
       "\n",
       "    .dataframe tbody tr th {\n",
       "        vertical-align: top;\n",
       "    }\n",
       "\n",
       "    .dataframe thead th {\n",
       "        text-align: right;\n",
       "    }\n",
       "</style>\n",
       "<table border=\"1\" class=\"dataframe\">\n",
       "  <thead>\n",
       "    <tr style=\"text-align: right;\">\n",
       "      <th></th>\n",
       "      <th>0</th>\n",
       "      <th>1</th>\n",
       "      <th>2</th>\n",
       "      <th>3</th>\n",
       "      <th>4</th>\n",
       "      <th>5</th>\n",
       "      <th>6</th>\n",
       "      <th>7</th>\n",
       "      <th>8</th>\n",
       "      <th>9</th>\n",
       "      <th>10</th>\n",
       "      <th>11</th>\n",
       "      <th>12</th>\n",
       "      <th>13</th>\n",
       "      <th>14</th>\n",
       "      <th>15</th>\n",
       "      <th>16</th>\n",
       "      <th>17</th>\n",
       "    </tr>\n",
       "  </thead>\n",
       "  <tbody>\n",
       "    <tr>\n",
       "      <th>0</th>\n",
       "      <td>0.8</td>\n",
       "      <td>0.9</td>\n",
       "      <td>0.9</td>\n",
       "      <td>0.9</td>\n",
       "      <td>0.8</td>\n",
       "      <td>0.8</td>\n",
       "      <td>0.8</td>\n",
       "      <td>0.8</td>\n",
       "      <td>0.8</td>\n",
       "      <td>0.9</td>\n",
       "      <td>0.9</td>\n",
       "      <td>0.9</td>\n",
       "      <td>0.9</td>\n",
       "      <td>0.9</td>\n",
       "      <td>0.9</td>\n",
       "      <td>0.9</td>\n",
       "      <td>0.9</td>\n",
       "      <td>0.9</td>\n",
       "    </tr>\n",
       "    <tr>\n",
       "      <th>1</th>\n",
       "      <td>1.0</td>\n",
       "      <td>0.9</td>\n",
       "      <td>0.9</td>\n",
       "      <td>0.8</td>\n",
       "      <td>0.9</td>\n",
       "      <td>0.8</td>\n",
       "      <td>0.7</td>\n",
       "      <td>0.7</td>\n",
       "      <td>0.7</td>\n",
       "      <td>0.8</td>\n",
       "      <td>0.7</td>\n",
       "      <td>0.8</td>\n",
       "      <td>0.7</td>\n",
       "      <td>0.7</td>\n",
       "      <td>0.7</td>\n",
       "      <td>0.7</td>\n",
       "      <td>0.7</td>\n",
       "      <td>0.7</td>\n",
       "    </tr>\n",
       "    <tr>\n",
       "      <th>2</th>\n",
       "      <td>0.9</td>\n",
       "      <td>1.0</td>\n",
       "      <td>1.0</td>\n",
       "      <td>1.0</td>\n",
       "      <td>1.0</td>\n",
       "      <td>1.0</td>\n",
       "      <td>0.9</td>\n",
       "      <td>0.9</td>\n",
       "      <td>0.8</td>\n",
       "      <td>0.8</td>\n",
       "      <td>0.8</td>\n",
       "      <td>0.8</td>\n",
       "      <td>0.8</td>\n",
       "      <td>0.7</td>\n",
       "      <td>0.8</td>\n",
       "      <td>0.7</td>\n",
       "      <td>0.7</td>\n",
       "      <td>0.7</td>\n",
       "    </tr>\n",
       "    <tr>\n",
       "      <th>3</th>\n",
       "      <td>0.9</td>\n",
       "      <td>0.9</td>\n",
       "      <td>1.0</td>\n",
       "      <td>1.0</td>\n",
       "      <td>1.0</td>\n",
       "      <td>1.0</td>\n",
       "      <td>1.0</td>\n",
       "      <td>1.0</td>\n",
       "      <td>0.9</td>\n",
       "      <td>0.8</td>\n",
       "      <td>0.8</td>\n",
       "      <td>0.8</td>\n",
       "      <td>0.8</td>\n",
       "      <td>0.8</td>\n",
       "      <td>0.8</td>\n",
       "      <td>0.8</td>\n",
       "      <td>0.8</td>\n",
       "      <td>0.8</td>\n",
       "    </tr>\n",
       "    <tr>\n",
       "      <th>4</th>\n",
       "      <td>0.8</td>\n",
       "      <td>0.9</td>\n",
       "      <td>0.8</td>\n",
       "      <td>0.9</td>\n",
       "      <td>0.9</td>\n",
       "      <td>0.9</td>\n",
       "      <td>0.9</td>\n",
       "      <td>0.9</td>\n",
       "      <td>0.9</td>\n",
       "      <td>0.9</td>\n",
       "      <td>0.9</td>\n",
       "      <td>0.9</td>\n",
       "      <td>0.9</td>\n",
       "      <td>0.9</td>\n",
       "      <td>0.9</td>\n",
       "      <td>0.9</td>\n",
       "      <td>0.9</td>\n",
       "      <td>0.9</td>\n",
       "    </tr>\n",
       "    <tr>\n",
       "      <th>5</th>\n",
       "      <td>0.9</td>\n",
       "      <td>0.9</td>\n",
       "      <td>0.9</td>\n",
       "      <td>0.9</td>\n",
       "      <td>0.9</td>\n",
       "      <td>0.9</td>\n",
       "      <td>0.9</td>\n",
       "      <td>0.9</td>\n",
       "      <td>0.9</td>\n",
       "      <td>0.9</td>\n",
       "      <td>0.9</td>\n",
       "      <td>0.9</td>\n",
       "      <td>0.9</td>\n",
       "      <td>0.9</td>\n",
       "      <td>0.9</td>\n",
       "      <td>0.9</td>\n",
       "      <td>0.9</td>\n",
       "      <td>0.9</td>\n",
       "    </tr>\n",
       "    <tr>\n",
       "      <th>6</th>\n",
       "      <td>0.8</td>\n",
       "      <td>0.9</td>\n",
       "      <td>0.8</td>\n",
       "      <td>1.0</td>\n",
       "      <td>0.7</td>\n",
       "      <td>0.9</td>\n",
       "      <td>0.8</td>\n",
       "      <td>0.9</td>\n",
       "      <td>0.8</td>\n",
       "      <td>0.9</td>\n",
       "      <td>0.8</td>\n",
       "      <td>0.8</td>\n",
       "      <td>0.8</td>\n",
       "      <td>0.8</td>\n",
       "      <td>0.8</td>\n",
       "      <td>0.8</td>\n",
       "      <td>0.8</td>\n",
       "      <td>0.8</td>\n",
       "    </tr>\n",
       "    <tr>\n",
       "      <th>7</th>\n",
       "      <td>0.9</td>\n",
       "      <td>0.9</td>\n",
       "      <td>1.0</td>\n",
       "      <td>1.0</td>\n",
       "      <td>1.0</td>\n",
       "      <td>1.0</td>\n",
       "      <td>1.0</td>\n",
       "      <td>1.0</td>\n",
       "      <td>1.0</td>\n",
       "      <td>1.0</td>\n",
       "      <td>1.0</td>\n",
       "      <td>1.0</td>\n",
       "      <td>1.0</td>\n",
       "      <td>1.0</td>\n",
       "      <td>1.0</td>\n",
       "      <td>1.0</td>\n",
       "      <td>1.0</td>\n",
       "      <td>1.0</td>\n",
       "    </tr>\n",
       "    <tr>\n",
       "      <th>8</th>\n",
       "      <td>0.9</td>\n",
       "      <td>0.8</td>\n",
       "      <td>0.9</td>\n",
       "      <td>0.9</td>\n",
       "      <td>0.9</td>\n",
       "      <td>0.9</td>\n",
       "      <td>0.9</td>\n",
       "      <td>0.9</td>\n",
       "      <td>0.8</td>\n",
       "      <td>0.8</td>\n",
       "      <td>0.8</td>\n",
       "      <td>0.7</td>\n",
       "      <td>0.7</td>\n",
       "      <td>0.7</td>\n",
       "      <td>0.7</td>\n",
       "      <td>0.7</td>\n",
       "      <td>0.7</td>\n",
       "      <td>0.7</td>\n",
       "    </tr>\n",
       "    <tr>\n",
       "      <th>9</th>\n",
       "      <td>1.0</td>\n",
       "      <td>1.0</td>\n",
       "      <td>1.0</td>\n",
       "      <td>1.0</td>\n",
       "      <td>1.0</td>\n",
       "      <td>1.0</td>\n",
       "      <td>0.9</td>\n",
       "      <td>1.0</td>\n",
       "      <td>1.0</td>\n",
       "      <td>1.0</td>\n",
       "      <td>1.0</td>\n",
       "      <td>1.0</td>\n",
       "      <td>1.0</td>\n",
       "      <td>1.0</td>\n",
       "      <td>1.0</td>\n",
       "      <td>1.0</td>\n",
       "      <td>1.0</td>\n",
       "      <td>1.0</td>\n",
       "    </tr>\n",
       "  </tbody>\n",
       "</table>\n",
       "</div>"
      ],
      "text/plain": [
       "     0    1    2    3    4    5    6    7    8    9   10   11   12   13   14  \\\n",
       "0  0.8  0.9  0.9  0.9  0.8  0.8  0.8  0.8  0.8  0.9  0.9  0.9  0.9  0.9  0.9   \n",
       "1  1.0  0.9  0.9  0.8  0.9  0.8  0.7  0.7  0.7  0.8  0.7  0.8  0.7  0.7  0.7   \n",
       "2  0.9  1.0  1.0  1.0  1.0  1.0  0.9  0.9  0.8  0.8  0.8  0.8  0.8  0.7  0.8   \n",
       "3  0.9  0.9  1.0  1.0  1.0  1.0  1.0  1.0  0.9  0.8  0.8  0.8  0.8  0.8  0.8   \n",
       "4  0.8  0.9  0.8  0.9  0.9  0.9  0.9  0.9  0.9  0.9  0.9  0.9  0.9  0.9  0.9   \n",
       "5  0.9  0.9  0.9  0.9  0.9  0.9  0.9  0.9  0.9  0.9  0.9  0.9  0.9  0.9  0.9   \n",
       "6  0.8  0.9  0.8  1.0  0.7  0.9  0.8  0.9  0.8  0.9  0.8  0.8  0.8  0.8  0.8   \n",
       "7  0.9  0.9  1.0  1.0  1.0  1.0  1.0  1.0  1.0  1.0  1.0  1.0  1.0  1.0  1.0   \n",
       "8  0.9  0.8  0.9  0.9  0.9  0.9  0.9  0.9  0.8  0.8  0.8  0.7  0.7  0.7  0.7   \n",
       "9  1.0  1.0  1.0  1.0  1.0  1.0  0.9  1.0  1.0  1.0  1.0  1.0  1.0  1.0  1.0   \n",
       "\n",
       "    15   16   17  \n",
       "0  0.9  0.9  0.9  \n",
       "1  0.7  0.7  0.7  \n",
       "2  0.7  0.7  0.7  \n",
       "3  0.8  0.8  0.8  \n",
       "4  0.9  0.9  0.9  \n",
       "5  0.9  0.9  0.9  \n",
       "6  0.8  0.8  0.8  \n",
       "7  1.0  1.0  1.0  \n",
       "8  0.7  0.7  0.7  \n",
       "9  1.0  1.0  1.0  "
      ]
     },
     "execution_count": 267,
     "metadata": {},
     "output_type": "execute_result"
    }
   ],
   "source": [
    "result # 행: cross validation 결과\n",
    "       # 열: n_neighbors 변경 "
   ]
  },
  {
   "cell_type": "code",
   "execution_count": 100,
   "metadata": {},
   "outputs": [],
   "source": [
    "result.rename(columns={i:str(i+2)+\"n\" for i in range(20)}, inplace=True) # 보기 편하게 열이름 바꿈"
   ]
  },
  {
   "cell_type": "code",
   "execution_count": 101,
   "metadata": {},
   "outputs": [
    {
     "data": {
      "text/html": [
       "<div>\n",
       "<style scoped>\n",
       "    .dataframe tbody tr th:only-of-type {\n",
       "        vertical-align: middle;\n",
       "    }\n",
       "\n",
       "    .dataframe tbody tr th {\n",
       "        vertical-align: top;\n",
       "    }\n",
       "\n",
       "    .dataframe thead th {\n",
       "        text-align: right;\n",
       "    }\n",
       "</style>\n",
       "<table border=\"1\" class=\"dataframe\">\n",
       "  <thead>\n",
       "    <tr style=\"text-align: right;\">\n",
       "      <th></th>\n",
       "      <th>2n</th>\n",
       "      <th>3n</th>\n",
       "      <th>4n</th>\n",
       "      <th>5n</th>\n",
       "      <th>6n</th>\n",
       "      <th>7n</th>\n",
       "      <th>8n</th>\n",
       "      <th>9n</th>\n",
       "      <th>10n</th>\n",
       "      <th>11n</th>\n",
       "      <th>12n</th>\n",
       "      <th>13n</th>\n",
       "      <th>14n</th>\n",
       "      <th>15n</th>\n",
       "      <th>16n</th>\n",
       "      <th>17n</th>\n",
       "      <th>18n</th>\n",
       "      <th>19n</th>\n",
       "    </tr>\n",
       "  </thead>\n",
       "  <tbody>\n",
       "    <tr>\n",
       "      <th>0</th>\n",
       "      <td>0.8</td>\n",
       "      <td>0.9</td>\n",
       "      <td>0.9</td>\n",
       "      <td>0.9</td>\n",
       "      <td>0.8</td>\n",
       "      <td>0.8</td>\n",
       "      <td>0.8</td>\n",
       "      <td>0.8</td>\n",
       "      <td>0.8</td>\n",
       "      <td>0.9</td>\n",
       "      <td>0.9</td>\n",
       "      <td>0.9</td>\n",
       "      <td>0.9</td>\n",
       "      <td>0.9</td>\n",
       "      <td>0.9</td>\n",
       "      <td>0.9</td>\n",
       "      <td>0.9</td>\n",
       "      <td>0.9</td>\n",
       "    </tr>\n",
       "    <tr>\n",
       "      <th>1</th>\n",
       "      <td>1.0</td>\n",
       "      <td>0.9</td>\n",
       "      <td>0.9</td>\n",
       "      <td>0.8</td>\n",
       "      <td>0.9</td>\n",
       "      <td>0.8</td>\n",
       "      <td>0.7</td>\n",
       "      <td>0.7</td>\n",
       "      <td>0.7</td>\n",
       "      <td>0.8</td>\n",
       "      <td>0.7</td>\n",
       "      <td>0.8</td>\n",
       "      <td>0.7</td>\n",
       "      <td>0.7</td>\n",
       "      <td>0.7</td>\n",
       "      <td>0.7</td>\n",
       "      <td>0.7</td>\n",
       "      <td>0.7</td>\n",
       "    </tr>\n",
       "    <tr>\n",
       "      <th>2</th>\n",
       "      <td>0.9</td>\n",
       "      <td>1.0</td>\n",
       "      <td>1.0</td>\n",
       "      <td>1.0</td>\n",
       "      <td>1.0</td>\n",
       "      <td>1.0</td>\n",
       "      <td>0.9</td>\n",
       "      <td>0.9</td>\n",
       "      <td>0.8</td>\n",
       "      <td>0.8</td>\n",
       "      <td>0.8</td>\n",
       "      <td>0.8</td>\n",
       "      <td>0.8</td>\n",
       "      <td>0.7</td>\n",
       "      <td>0.8</td>\n",
       "      <td>0.7</td>\n",
       "      <td>0.7</td>\n",
       "      <td>0.7</td>\n",
       "    </tr>\n",
       "    <tr>\n",
       "      <th>3</th>\n",
       "      <td>0.9</td>\n",
       "      <td>0.9</td>\n",
       "      <td>1.0</td>\n",
       "      <td>1.0</td>\n",
       "      <td>1.0</td>\n",
       "      <td>1.0</td>\n",
       "      <td>1.0</td>\n",
       "      <td>1.0</td>\n",
       "      <td>0.9</td>\n",
       "      <td>0.8</td>\n",
       "      <td>0.8</td>\n",
       "      <td>0.8</td>\n",
       "      <td>0.8</td>\n",
       "      <td>0.8</td>\n",
       "      <td>0.8</td>\n",
       "      <td>0.8</td>\n",
       "      <td>0.8</td>\n",
       "      <td>0.8</td>\n",
       "    </tr>\n",
       "    <tr>\n",
       "      <th>4</th>\n",
       "      <td>0.8</td>\n",
       "      <td>0.9</td>\n",
       "      <td>0.8</td>\n",
       "      <td>0.9</td>\n",
       "      <td>0.9</td>\n",
       "      <td>0.9</td>\n",
       "      <td>0.9</td>\n",
       "      <td>0.9</td>\n",
       "      <td>0.9</td>\n",
       "      <td>0.9</td>\n",
       "      <td>0.9</td>\n",
       "      <td>0.9</td>\n",
       "      <td>0.9</td>\n",
       "      <td>0.9</td>\n",
       "      <td>0.9</td>\n",
       "      <td>0.9</td>\n",
       "      <td>0.9</td>\n",
       "      <td>0.9</td>\n",
       "    </tr>\n",
       "    <tr>\n",
       "      <th>5</th>\n",
       "      <td>0.9</td>\n",
       "      <td>0.9</td>\n",
       "      <td>0.9</td>\n",
       "      <td>0.9</td>\n",
       "      <td>0.9</td>\n",
       "      <td>0.9</td>\n",
       "      <td>0.9</td>\n",
       "      <td>0.9</td>\n",
       "      <td>0.9</td>\n",
       "      <td>0.9</td>\n",
       "      <td>0.9</td>\n",
       "      <td>0.9</td>\n",
       "      <td>0.9</td>\n",
       "      <td>0.9</td>\n",
       "      <td>0.9</td>\n",
       "      <td>0.9</td>\n",
       "      <td>0.9</td>\n",
       "      <td>0.9</td>\n",
       "    </tr>\n",
       "    <tr>\n",
       "      <th>6</th>\n",
       "      <td>0.8</td>\n",
       "      <td>0.9</td>\n",
       "      <td>0.8</td>\n",
       "      <td>1.0</td>\n",
       "      <td>0.7</td>\n",
       "      <td>0.9</td>\n",
       "      <td>0.8</td>\n",
       "      <td>0.9</td>\n",
       "      <td>0.8</td>\n",
       "      <td>0.9</td>\n",
       "      <td>0.8</td>\n",
       "      <td>0.8</td>\n",
       "      <td>0.8</td>\n",
       "      <td>0.8</td>\n",
       "      <td>0.8</td>\n",
       "      <td>0.8</td>\n",
       "      <td>0.8</td>\n",
       "      <td>0.8</td>\n",
       "    </tr>\n",
       "    <tr>\n",
       "      <th>7</th>\n",
       "      <td>0.9</td>\n",
       "      <td>0.9</td>\n",
       "      <td>1.0</td>\n",
       "      <td>1.0</td>\n",
       "      <td>1.0</td>\n",
       "      <td>1.0</td>\n",
       "      <td>1.0</td>\n",
       "      <td>1.0</td>\n",
       "      <td>1.0</td>\n",
       "      <td>1.0</td>\n",
       "      <td>1.0</td>\n",
       "      <td>1.0</td>\n",
       "      <td>1.0</td>\n",
       "      <td>1.0</td>\n",
       "      <td>1.0</td>\n",
       "      <td>1.0</td>\n",
       "      <td>1.0</td>\n",
       "      <td>1.0</td>\n",
       "    </tr>\n",
       "    <tr>\n",
       "      <th>8</th>\n",
       "      <td>0.9</td>\n",
       "      <td>0.8</td>\n",
       "      <td>0.9</td>\n",
       "      <td>0.9</td>\n",
       "      <td>0.9</td>\n",
       "      <td>0.9</td>\n",
       "      <td>0.9</td>\n",
       "      <td>0.9</td>\n",
       "      <td>0.8</td>\n",
       "      <td>0.8</td>\n",
       "      <td>0.8</td>\n",
       "      <td>0.7</td>\n",
       "      <td>0.7</td>\n",
       "      <td>0.7</td>\n",
       "      <td>0.7</td>\n",
       "      <td>0.7</td>\n",
       "      <td>0.7</td>\n",
       "      <td>0.7</td>\n",
       "    </tr>\n",
       "    <tr>\n",
       "      <th>9</th>\n",
       "      <td>1.0</td>\n",
       "      <td>1.0</td>\n",
       "      <td>1.0</td>\n",
       "      <td>1.0</td>\n",
       "      <td>1.0</td>\n",
       "      <td>1.0</td>\n",
       "      <td>0.9</td>\n",
       "      <td>1.0</td>\n",
       "      <td>1.0</td>\n",
       "      <td>1.0</td>\n",
       "      <td>1.0</td>\n",
       "      <td>1.0</td>\n",
       "      <td>1.0</td>\n",
       "      <td>1.0</td>\n",
       "      <td>1.0</td>\n",
       "      <td>1.0</td>\n",
       "      <td>1.0</td>\n",
       "      <td>1.0</td>\n",
       "    </tr>\n",
       "  </tbody>\n",
       "</table>\n",
       "</div>"
      ],
      "text/plain": [
       "    2n   3n   4n   5n   6n   7n   8n   9n  10n  11n  12n  13n  14n  15n  16n  \\\n",
       "0  0.8  0.9  0.9  0.9  0.8  0.8  0.8  0.8  0.8  0.9  0.9  0.9  0.9  0.9  0.9   \n",
       "1  1.0  0.9  0.9  0.8  0.9  0.8  0.7  0.7  0.7  0.8  0.7  0.8  0.7  0.7  0.7   \n",
       "2  0.9  1.0  1.0  1.0  1.0  1.0  0.9  0.9  0.8  0.8  0.8  0.8  0.8  0.7  0.8   \n",
       "3  0.9  0.9  1.0  1.0  1.0  1.0  1.0  1.0  0.9  0.8  0.8  0.8  0.8  0.8  0.8   \n",
       "4  0.8  0.9  0.8  0.9  0.9  0.9  0.9  0.9  0.9  0.9  0.9  0.9  0.9  0.9  0.9   \n",
       "5  0.9  0.9  0.9  0.9  0.9  0.9  0.9  0.9  0.9  0.9  0.9  0.9  0.9  0.9  0.9   \n",
       "6  0.8  0.9  0.8  1.0  0.7  0.9  0.8  0.9  0.8  0.9  0.8  0.8  0.8  0.8  0.8   \n",
       "7  0.9  0.9  1.0  1.0  1.0  1.0  1.0  1.0  1.0  1.0  1.0  1.0  1.0  1.0  1.0   \n",
       "8  0.9  0.8  0.9  0.9  0.9  0.9  0.9  0.9  0.8  0.8  0.8  0.7  0.7  0.7  0.7   \n",
       "9  1.0  1.0  1.0  1.0  1.0  1.0  0.9  1.0  1.0  1.0  1.0  1.0  1.0  1.0  1.0   \n",
       "\n",
       "   17n  18n  19n  \n",
       "0  0.9  0.9  0.9  \n",
       "1  0.7  0.7  0.7  \n",
       "2  0.7  0.7  0.7  \n",
       "3  0.8  0.8  0.8  \n",
       "4  0.9  0.9  0.9  \n",
       "5  0.9  0.9  0.9  \n",
       "6  0.8  0.8  0.8  \n",
       "7  1.0  1.0  1.0  \n",
       "8  0.7  0.7  0.7  \n",
       "9  1.0  1.0  1.0  "
      ]
     },
     "execution_count": 101,
     "metadata": {},
     "output_type": "execute_result"
    }
   ],
   "source": [
    "result"
   ]
  },
  {
   "cell_type": "markdown",
   "metadata": {},
   "source": [
    "n의 크기별 cross_val_score를 평균낸다."
   ]
  },
  {
   "cell_type": "code",
   "execution_count": 102,
   "metadata": {},
   "outputs": [
    {
     "data": {
      "text/plain": [
       "2n     0.89\n",
       "3n     0.91\n",
       "4n     0.92\n",
       "5n     0.94\n",
       "6n     0.91\n",
       "7n     0.92\n",
       "8n     0.88\n",
       "9n     0.90\n",
       "10n    0.86\n",
       "11n    0.88\n",
       "12n    0.86\n",
       "13n    0.86\n",
       "14n    0.85\n",
       "15n    0.84\n",
       "16n    0.85\n",
       "17n    0.84\n",
       "18n    0.84\n",
       "19n    0.84\n",
       "dtype: float64"
      ]
     },
     "execution_count": 102,
     "metadata": {},
     "output_type": "execute_result"
    }
   ],
   "source": [
    "result.mean(axis=0)"
   ]
  },
  {
   "cell_type": "markdown",
   "metadata": {},
   "source": [
    "가장 성능 좋을 때 점수이다."
   ]
  },
  {
   "cell_type": "code",
   "execution_count": 104,
   "metadata": {},
   "outputs": [
    {
     "data": {
      "text/plain": [
       "0.9400000000000001"
      ]
     },
     "execution_count": 104,
     "metadata": {},
     "output_type": "execute_result"
    }
   ],
   "source": [
    "result.mean(axis=0).max()"
   ]
  },
  {
   "cell_type": "markdown",
   "metadata": {},
   "source": [
    "### GridSearchCV"
   ]
  },
  {
   "cell_type": "markdown",
   "metadata": {},
   "source": [
    "scikit-learn의 꽃이다.  \n",
    "for문보다 우아하게 하이퍼 파라미터를 찾아준다."
   ]
  },
  {
   "cell_type": "code",
   "execution_count": 107,
   "metadata": {},
   "outputs": [],
   "source": [
    "from sklearn.model_selection import GridSearchCV"
   ]
  },
  {
   "cell_type": "markdown",
   "metadata": {},
   "source": [
    "scikit-learn은 언제나 인스턴스 -> fit 한다."
   ]
  },
  {
   "cell_type": "code",
   "execution_count": 111,
   "metadata": {},
   "outputs": [],
   "source": [
    "grid = GridSearchCV(estimator=KNeighborsClassifier(), \n",
    "                    param_grid={\"n_neighbors\":range(2, 20)}) # {하이퍼 파라미터 이름 : 적용해볼 값 목록}"
   ]
  },
  {
   "cell_type": "code",
   "execution_count": 112,
   "metadata": {},
   "outputs": [
    {
     "name": "stderr",
     "output_type": "stream",
     "text": [
      "C:\\Users\\JINHYO\\Anaconda3\\lib\\site-packages\\sklearn\\model_selection\\_split.py:1978: FutureWarning: The default value of cv will change from 3 to 5 in version 0.22. Specify it explicitly to silence this warning.\n",
      "  warnings.warn(CV_WARNING, FutureWarning)\n"
     ]
    },
    {
     "data": {
      "text/plain": [
       "GridSearchCV(cv='warn', error_score='raise-deprecating',\n",
       "             estimator=KNeighborsClassifier(algorithm='auto', leaf_size=30,\n",
       "                                            metric='minkowski',\n",
       "                                            metric_params=None, n_jobs=None,\n",
       "                                            n_neighbors=5, p=2,\n",
       "                                            weights='uniform'),\n",
       "             iid='warn', n_jobs=None, param_grid={'n_neighbors': range(2, 20)},\n",
       "             pre_dispatch='2*n_jobs', refit=True, return_train_score=False,\n",
       "             scoring=None, verbose=0)"
      ]
     },
     "execution_count": 112,
     "metadata": {},
     "output_type": "execute_result"
    }
   ],
   "source": [
    "grid.fit(ma.iloc[:, :-1], ma.iloc[:, -1])"
   ]
  },
  {
   "cell_type": "markdown",
   "metadata": {},
   "source": [
    "`best_params` : `max` 안하고도 제일 좋은 파라미터 찾아준다."
   ]
  },
  {
   "cell_type": "code",
   "execution_count": 113,
   "metadata": {},
   "outputs": [
    {
     "data": {
      "text/plain": [
       "{'n_neighbors': 2}"
      ]
     },
     "execution_count": 113,
     "metadata": {},
     "output_type": "execute_result"
    }
   ],
   "source": [
    "grid.best_params_"
   ]
  },
  {
   "cell_type": "markdown",
   "metadata": {},
   "source": [
    "`cv_results_`는 시간, 정확도, 파라미터 설정을 모두 반환한다."
   ]
  },
  {
   "cell_type": "code",
   "execution_count": 114,
   "metadata": {},
   "outputs": [
    {
     "data": {
      "text/plain": [
       "{'mean_fit_time': array([0.00333897, 0.00233173, 0.00300558, 0.00233134, 0.00199572,\n",
       "        0.00199954, 0.00333071, 0.00299454, 0.0026563 , 0.00333611,\n",
       "        0.00266679, 0.00199954, 0.00366592, 0.00366696, 0.00200057,\n",
       "        0.00233452, 0.00266727, 0.00299907]),\n",
       " 'std_fit_time': array([1.25454636e-03, 4.72554886e-04, 8.17338076e-04, 4.71656646e-04,\n",
       "        2.83663564e-06, 1.10692885e-06, 4.72389740e-04, 8.11575186e-04,\n",
       "        4.64697009e-04, 4.69375456e-04, 4.71763975e-04, 2.97360213e-07,\n",
       "        1.24738363e-03, 1.24785386e-03, 5.15042996e-07, 4.75473135e-04,\n",
       "        9.43190354e-04, 1.41309975e-03]),\n",
       " 'mean_score_time': array([0.00332737, 0.00400805, 0.00332777, 0.00301417, 0.00366926,\n",
       "        0.00400225, 0.00433318, 0.00367419, 0.00467626, 0.00467046,\n",
       "        0.00366982, 0.00333333, 0.00400138, 0.00433302, 0.00266608,\n",
       "        0.00433207, 0.0033346 , 0.00400098]),\n",
       " 'std_score_time': array([4.64627510e-04, 1.41987251e-03, 4.71440305e-04, 8.32827740e-04,\n",
       "        9.41564263e-04, 8.18093934e-04, 4.71763815e-04, 4.71364820e-04,\n",
       "        1.24220301e-03, 4.75140627e-04, 9.46394280e-04, 4.71202018e-04,\n",
       "        1.36267568e-06, 1.70273109e-03, 4.71258324e-04, 1.24528159e-03,\n",
       "        9.43809557e-04, 1.63423903e-03]),\n",
       " 'param_n_neighbors': masked_array(data=[2, 3, 4, 5, 6, 7, 8, 9, 10, 11, 12, 13, 14, 15, 16, 17,\n",
       "                    18, 19],\n",
       "              mask=[False, False, False, False, False, False, False, False,\n",
       "                    False, False, False, False, False, False, False, False,\n",
       "                    False, False],\n",
       "        fill_value='?',\n",
       "             dtype=object),\n",
       " 'params': [{'n_neighbors': 2},\n",
       "  {'n_neighbors': 3},\n",
       "  {'n_neighbors': 4},\n",
       "  {'n_neighbors': 5},\n",
       "  {'n_neighbors': 6},\n",
       "  {'n_neighbors': 7},\n",
       "  {'n_neighbors': 8},\n",
       "  {'n_neighbors': 9},\n",
       "  {'n_neighbors': 10},\n",
       "  {'n_neighbors': 11},\n",
       "  {'n_neighbors': 12},\n",
       "  {'n_neighbors': 13},\n",
       "  {'n_neighbors': 14},\n",
       "  {'n_neighbors': 15},\n",
       "  {'n_neighbors': 16},\n",
       "  {'n_neighbors': 17},\n",
       "  {'n_neighbors': 18},\n",
       "  {'n_neighbors': 19}],\n",
       " 'split0_test_score': array([0.91176471, 0.91176471, 0.91176471, 0.88235294, 0.85294118,\n",
       "        0.85294118, 0.85294118, 0.79411765, 0.76470588, 0.79411765,\n",
       "        0.76470588, 0.76470588, 0.76470588, 0.76470588, 0.82352941,\n",
       "        0.76470588, 0.79411765, 0.76470588]),\n",
       " 'split1_test_score': array([0.85294118, 0.88235294, 0.79411765, 0.82352941, 0.85294118,\n",
       "        0.85294118, 0.88235294, 0.85294118, 0.88235294, 0.85294118,\n",
       "        0.88235294, 0.85294118, 0.85294118, 0.85294118, 0.85294118,\n",
       "        0.82352941, 0.82352941, 0.88235294]),\n",
       " 'split2_test_score': array([0.9375 , 0.90625, 0.96875, 0.9375 , 0.90625, 0.90625, 0.9375 ,\n",
       "        0.96875, 0.90625, 0.9375 , 0.90625, 0.90625, 0.90625, 0.90625,\n",
       "        0.90625, 0.90625, 0.9375 , 0.96875]),\n",
       " 'mean_test_score': array([0.9 , 0.9 , 0.89, 0.88, 0.87, 0.87, 0.89, 0.87, 0.85, 0.86, 0.85,\n",
       "        0.84, 0.84, 0.84, 0.86, 0.83, 0.85, 0.87]),\n",
       " 'std_test_score': array([0.03535534, 0.01286239, 0.07260388, 0.04630462, 0.02486729,\n",
       "        0.02486729, 0.03476814, 0.0719528 , 0.06198316, 0.05843548,\n",
       "        0.06198316, 0.05821487, 0.05821487, 0.05821487, 0.03396581,\n",
       "        0.05765644, 0.06123724, 0.08331814]),\n",
       " 'rank_test_score': array([ 1,  1,  3,  5,  6,  6,  3,  6, 12, 10, 12, 15, 15, 15, 10, 18, 12,\n",
       "         6])}"
      ]
     },
     "execution_count": 114,
     "metadata": {},
     "output_type": "execute_result"
    }
   ],
   "source": [
    "grid.cv_results_"
   ]
  },
  {
   "cell_type": "markdown",
   "metadata": {},
   "source": [
    "DataFrame에 넣으면 아까 어렵게 그렸던 표까지 쉽게 그릴 수 있다.  \n",
    "훨씬 다양한 정보를 제공한다."
   ]
  },
  {
   "cell_type": "code",
   "execution_count": 116,
   "metadata": {},
   "outputs": [
    {
     "data": {
      "text/html": [
       "<div>\n",
       "<style scoped>\n",
       "    .dataframe tbody tr th:only-of-type {\n",
       "        vertical-align: middle;\n",
       "    }\n",
       "\n",
       "    .dataframe tbody tr th {\n",
       "        vertical-align: top;\n",
       "    }\n",
       "\n",
       "    .dataframe thead th {\n",
       "        text-align: right;\n",
       "    }\n",
       "</style>\n",
       "<table border=\"1\" class=\"dataframe\">\n",
       "  <thead>\n",
       "    <tr style=\"text-align: right;\">\n",
       "      <th></th>\n",
       "      <th>0</th>\n",
       "      <th>1</th>\n",
       "      <th>2</th>\n",
       "      <th>3</th>\n",
       "      <th>4</th>\n",
       "      <th>5</th>\n",
       "      <th>6</th>\n",
       "      <th>7</th>\n",
       "      <th>8</th>\n",
       "      <th>9</th>\n",
       "      <th>10</th>\n",
       "      <th>11</th>\n",
       "      <th>12</th>\n",
       "      <th>13</th>\n",
       "      <th>14</th>\n",
       "      <th>15</th>\n",
       "      <th>16</th>\n",
       "      <th>17</th>\n",
       "    </tr>\n",
       "  </thead>\n",
       "  <tbody>\n",
       "    <tr>\n",
       "      <th>mean_fit_time</th>\n",
       "      <td>0.00333897</td>\n",
       "      <td>0.00233173</td>\n",
       "      <td>0.00300558</td>\n",
       "      <td>0.00233134</td>\n",
       "      <td>0.00199572</td>\n",
       "      <td>0.00199954</td>\n",
       "      <td>0.00333071</td>\n",
       "      <td>0.00299454</td>\n",
       "      <td>0.0026563</td>\n",
       "      <td>0.00333611</td>\n",
       "      <td>0.00266679</td>\n",
       "      <td>0.00199954</td>\n",
       "      <td>0.00366592</td>\n",
       "      <td>0.00366696</td>\n",
       "      <td>0.00200057</td>\n",
       "      <td>0.00233452</td>\n",
       "      <td>0.00266727</td>\n",
       "      <td>0.00299907</td>\n",
       "    </tr>\n",
       "    <tr>\n",
       "      <th>std_fit_time</th>\n",
       "      <td>0.00125455</td>\n",
       "      <td>0.000472555</td>\n",
       "      <td>0.000817338</td>\n",
       "      <td>0.000471657</td>\n",
       "      <td>2.83664e-06</td>\n",
       "      <td>1.10693e-06</td>\n",
       "      <td>0.00047239</td>\n",
       "      <td>0.000811575</td>\n",
       "      <td>0.000464697</td>\n",
       "      <td>0.000469375</td>\n",
       "      <td>0.000471764</td>\n",
       "      <td>2.9736e-07</td>\n",
       "      <td>0.00124738</td>\n",
       "      <td>0.00124785</td>\n",
       "      <td>5.15043e-07</td>\n",
       "      <td>0.000475473</td>\n",
       "      <td>0.00094319</td>\n",
       "      <td>0.0014131</td>\n",
       "    </tr>\n",
       "    <tr>\n",
       "      <th>mean_score_time</th>\n",
       "      <td>0.00332737</td>\n",
       "      <td>0.00400805</td>\n",
       "      <td>0.00332777</td>\n",
       "      <td>0.00301417</td>\n",
       "      <td>0.00366926</td>\n",
       "      <td>0.00400225</td>\n",
       "      <td>0.00433318</td>\n",
       "      <td>0.00367419</td>\n",
       "      <td>0.00467626</td>\n",
       "      <td>0.00467046</td>\n",
       "      <td>0.00366982</td>\n",
       "      <td>0.00333333</td>\n",
       "      <td>0.00400138</td>\n",
       "      <td>0.00433302</td>\n",
       "      <td>0.00266608</td>\n",
       "      <td>0.00433207</td>\n",
       "      <td>0.0033346</td>\n",
       "      <td>0.00400098</td>\n",
       "    </tr>\n",
       "    <tr>\n",
       "      <th>std_score_time</th>\n",
       "      <td>0.000464628</td>\n",
       "      <td>0.00141987</td>\n",
       "      <td>0.00047144</td>\n",
       "      <td>0.000832828</td>\n",
       "      <td>0.000941564</td>\n",
       "      <td>0.000818094</td>\n",
       "      <td>0.000471764</td>\n",
       "      <td>0.000471365</td>\n",
       "      <td>0.0012422</td>\n",
       "      <td>0.000475141</td>\n",
       "      <td>0.000946394</td>\n",
       "      <td>0.000471202</td>\n",
       "      <td>1.36268e-06</td>\n",
       "      <td>0.00170273</td>\n",
       "      <td>0.000471258</td>\n",
       "      <td>0.00124528</td>\n",
       "      <td>0.00094381</td>\n",
       "      <td>0.00163424</td>\n",
       "    </tr>\n",
       "    <tr>\n",
       "      <th>param_n_neighbors</th>\n",
       "      <td>2</td>\n",
       "      <td>3</td>\n",
       "      <td>4</td>\n",
       "      <td>5</td>\n",
       "      <td>6</td>\n",
       "      <td>7</td>\n",
       "      <td>8</td>\n",
       "      <td>9</td>\n",
       "      <td>10</td>\n",
       "      <td>11</td>\n",
       "      <td>12</td>\n",
       "      <td>13</td>\n",
       "      <td>14</td>\n",
       "      <td>15</td>\n",
       "      <td>16</td>\n",
       "      <td>17</td>\n",
       "      <td>18</td>\n",
       "      <td>19</td>\n",
       "    </tr>\n",
       "    <tr>\n",
       "      <th>params</th>\n",
       "      <td>{'n_neighbors': 2}</td>\n",
       "      <td>{'n_neighbors': 3}</td>\n",
       "      <td>{'n_neighbors': 4}</td>\n",
       "      <td>{'n_neighbors': 5}</td>\n",
       "      <td>{'n_neighbors': 6}</td>\n",
       "      <td>{'n_neighbors': 7}</td>\n",
       "      <td>{'n_neighbors': 8}</td>\n",
       "      <td>{'n_neighbors': 9}</td>\n",
       "      <td>{'n_neighbors': 10}</td>\n",
       "      <td>{'n_neighbors': 11}</td>\n",
       "      <td>{'n_neighbors': 12}</td>\n",
       "      <td>{'n_neighbors': 13}</td>\n",
       "      <td>{'n_neighbors': 14}</td>\n",
       "      <td>{'n_neighbors': 15}</td>\n",
       "      <td>{'n_neighbors': 16}</td>\n",
       "      <td>{'n_neighbors': 17}</td>\n",
       "      <td>{'n_neighbors': 18}</td>\n",
       "      <td>{'n_neighbors': 19}</td>\n",
       "    </tr>\n",
       "    <tr>\n",
       "      <th>split0_test_score</th>\n",
       "      <td>0.911765</td>\n",
       "      <td>0.911765</td>\n",
       "      <td>0.911765</td>\n",
       "      <td>0.882353</td>\n",
       "      <td>0.852941</td>\n",
       "      <td>0.852941</td>\n",
       "      <td>0.852941</td>\n",
       "      <td>0.794118</td>\n",
       "      <td>0.764706</td>\n",
       "      <td>0.794118</td>\n",
       "      <td>0.764706</td>\n",
       "      <td>0.764706</td>\n",
       "      <td>0.764706</td>\n",
       "      <td>0.764706</td>\n",
       "      <td>0.823529</td>\n",
       "      <td>0.764706</td>\n",
       "      <td>0.794118</td>\n",
       "      <td>0.764706</td>\n",
       "    </tr>\n",
       "    <tr>\n",
       "      <th>split1_test_score</th>\n",
       "      <td>0.852941</td>\n",
       "      <td>0.882353</td>\n",
       "      <td>0.794118</td>\n",
       "      <td>0.823529</td>\n",
       "      <td>0.852941</td>\n",
       "      <td>0.852941</td>\n",
       "      <td>0.882353</td>\n",
       "      <td>0.852941</td>\n",
       "      <td>0.882353</td>\n",
       "      <td>0.852941</td>\n",
       "      <td>0.882353</td>\n",
       "      <td>0.852941</td>\n",
       "      <td>0.852941</td>\n",
       "      <td>0.852941</td>\n",
       "      <td>0.852941</td>\n",
       "      <td>0.823529</td>\n",
       "      <td>0.823529</td>\n",
       "      <td>0.882353</td>\n",
       "    </tr>\n",
       "    <tr>\n",
       "      <th>split2_test_score</th>\n",
       "      <td>0.9375</td>\n",
       "      <td>0.90625</td>\n",
       "      <td>0.96875</td>\n",
       "      <td>0.9375</td>\n",
       "      <td>0.90625</td>\n",
       "      <td>0.90625</td>\n",
       "      <td>0.9375</td>\n",
       "      <td>0.96875</td>\n",
       "      <td>0.90625</td>\n",
       "      <td>0.9375</td>\n",
       "      <td>0.90625</td>\n",
       "      <td>0.90625</td>\n",
       "      <td>0.90625</td>\n",
       "      <td>0.90625</td>\n",
       "      <td>0.90625</td>\n",
       "      <td>0.90625</td>\n",
       "      <td>0.9375</td>\n",
       "      <td>0.96875</td>\n",
       "    </tr>\n",
       "    <tr>\n",
       "      <th>mean_test_score</th>\n",
       "      <td>0.9</td>\n",
       "      <td>0.9</td>\n",
       "      <td>0.89</td>\n",
       "      <td>0.88</td>\n",
       "      <td>0.87</td>\n",
       "      <td>0.87</td>\n",
       "      <td>0.89</td>\n",
       "      <td>0.87</td>\n",
       "      <td>0.85</td>\n",
       "      <td>0.86</td>\n",
       "      <td>0.85</td>\n",
       "      <td>0.84</td>\n",
       "      <td>0.84</td>\n",
       "      <td>0.84</td>\n",
       "      <td>0.86</td>\n",
       "      <td>0.83</td>\n",
       "      <td>0.85</td>\n",
       "      <td>0.87</td>\n",
       "    </tr>\n",
       "    <tr>\n",
       "      <th>std_test_score</th>\n",
       "      <td>0.0353553</td>\n",
       "      <td>0.0128624</td>\n",
       "      <td>0.0726039</td>\n",
       "      <td>0.0463046</td>\n",
       "      <td>0.0248673</td>\n",
       "      <td>0.0248673</td>\n",
       "      <td>0.0347681</td>\n",
       "      <td>0.0719528</td>\n",
       "      <td>0.0619832</td>\n",
       "      <td>0.0584355</td>\n",
       "      <td>0.0619832</td>\n",
       "      <td>0.0582149</td>\n",
       "      <td>0.0582149</td>\n",
       "      <td>0.0582149</td>\n",
       "      <td>0.0339658</td>\n",
       "      <td>0.0576564</td>\n",
       "      <td>0.0612372</td>\n",
       "      <td>0.0833181</td>\n",
       "    </tr>\n",
       "    <tr>\n",
       "      <th>rank_test_score</th>\n",
       "      <td>1</td>\n",
       "      <td>1</td>\n",
       "      <td>3</td>\n",
       "      <td>5</td>\n",
       "      <td>6</td>\n",
       "      <td>6</td>\n",
       "      <td>3</td>\n",
       "      <td>6</td>\n",
       "      <td>12</td>\n",
       "      <td>10</td>\n",
       "      <td>12</td>\n",
       "      <td>15</td>\n",
       "      <td>15</td>\n",
       "      <td>15</td>\n",
       "      <td>10</td>\n",
       "      <td>18</td>\n",
       "      <td>12</td>\n",
       "      <td>6</td>\n",
       "    </tr>\n",
       "  </tbody>\n",
       "</table>\n",
       "</div>"
      ],
      "text/plain": [
       "                                    0                   1                   2  \\\n",
       "mean_fit_time              0.00333897          0.00233173          0.00300558   \n",
       "std_fit_time               0.00125455         0.000472555         0.000817338   \n",
       "mean_score_time            0.00332737          0.00400805          0.00332777   \n",
       "std_score_time            0.000464628          0.00141987          0.00047144   \n",
       "param_n_neighbors                   2                   3                   4   \n",
       "params             {'n_neighbors': 2}  {'n_neighbors': 3}  {'n_neighbors': 4}   \n",
       "split0_test_score            0.911765            0.911765            0.911765   \n",
       "split1_test_score            0.852941            0.882353            0.794118   \n",
       "split2_test_score              0.9375             0.90625             0.96875   \n",
       "mean_test_score                   0.9                 0.9                0.89   \n",
       "std_test_score              0.0353553           0.0128624           0.0726039   \n",
       "rank_test_score                     1                   1                   3   \n",
       "\n",
       "                                    3                   4                   5  \\\n",
       "mean_fit_time              0.00233134          0.00199572          0.00199954   \n",
       "std_fit_time              0.000471657         2.83664e-06         1.10693e-06   \n",
       "mean_score_time            0.00301417          0.00366926          0.00400225   \n",
       "std_score_time            0.000832828         0.000941564         0.000818094   \n",
       "param_n_neighbors                   5                   6                   7   \n",
       "params             {'n_neighbors': 5}  {'n_neighbors': 6}  {'n_neighbors': 7}   \n",
       "split0_test_score            0.882353            0.852941            0.852941   \n",
       "split1_test_score            0.823529            0.852941            0.852941   \n",
       "split2_test_score              0.9375             0.90625             0.90625   \n",
       "mean_test_score                  0.88                0.87                0.87   \n",
       "std_test_score              0.0463046           0.0248673           0.0248673   \n",
       "rank_test_score                     5                   6                   6   \n",
       "\n",
       "                                    6                   7  \\\n",
       "mean_fit_time              0.00333071          0.00299454   \n",
       "std_fit_time               0.00047239         0.000811575   \n",
       "mean_score_time            0.00433318          0.00367419   \n",
       "std_score_time            0.000471764         0.000471365   \n",
       "param_n_neighbors                   8                   9   \n",
       "params             {'n_neighbors': 8}  {'n_neighbors': 9}   \n",
       "split0_test_score            0.852941            0.794118   \n",
       "split1_test_score            0.882353            0.852941   \n",
       "split2_test_score              0.9375             0.96875   \n",
       "mean_test_score                  0.89                0.87   \n",
       "std_test_score              0.0347681           0.0719528   \n",
       "rank_test_score                     3                   6   \n",
       "\n",
       "                                     8                    9  \\\n",
       "mean_fit_time                0.0026563           0.00333611   \n",
       "std_fit_time               0.000464697          0.000469375   \n",
       "mean_score_time             0.00467626           0.00467046   \n",
       "std_score_time               0.0012422          0.000475141   \n",
       "param_n_neighbors                   10                   11   \n",
       "params             {'n_neighbors': 10}  {'n_neighbors': 11}   \n",
       "split0_test_score             0.764706             0.794118   \n",
       "split1_test_score             0.882353             0.852941   \n",
       "split2_test_score              0.90625               0.9375   \n",
       "mean_test_score                   0.85                 0.86   \n",
       "std_test_score               0.0619832            0.0584355   \n",
       "rank_test_score                     12                   10   \n",
       "\n",
       "                                    10                   11  \\\n",
       "mean_fit_time               0.00266679           0.00199954   \n",
       "std_fit_time               0.000471764           2.9736e-07   \n",
       "mean_score_time             0.00366982           0.00333333   \n",
       "std_score_time             0.000946394          0.000471202   \n",
       "param_n_neighbors                   12                   13   \n",
       "params             {'n_neighbors': 12}  {'n_neighbors': 13}   \n",
       "split0_test_score             0.764706             0.764706   \n",
       "split1_test_score             0.882353             0.852941   \n",
       "split2_test_score              0.90625              0.90625   \n",
       "mean_test_score                   0.85                 0.84   \n",
       "std_test_score               0.0619832            0.0582149   \n",
       "rank_test_score                     12                   15   \n",
       "\n",
       "                                    12                   13  \\\n",
       "mean_fit_time               0.00366592           0.00366696   \n",
       "std_fit_time                0.00124738           0.00124785   \n",
       "mean_score_time             0.00400138           0.00433302   \n",
       "std_score_time             1.36268e-06           0.00170273   \n",
       "param_n_neighbors                   14                   15   \n",
       "params             {'n_neighbors': 14}  {'n_neighbors': 15}   \n",
       "split0_test_score             0.764706             0.764706   \n",
       "split1_test_score             0.852941             0.852941   \n",
       "split2_test_score              0.90625              0.90625   \n",
       "mean_test_score                   0.84                 0.84   \n",
       "std_test_score               0.0582149            0.0582149   \n",
       "rank_test_score                     15                   15   \n",
       "\n",
       "                                    14                   15  \\\n",
       "mean_fit_time               0.00200057           0.00233452   \n",
       "std_fit_time               5.15043e-07          0.000475473   \n",
       "mean_score_time             0.00266608           0.00433207   \n",
       "std_score_time             0.000471258           0.00124528   \n",
       "param_n_neighbors                   16                   17   \n",
       "params             {'n_neighbors': 16}  {'n_neighbors': 17}   \n",
       "split0_test_score             0.823529             0.764706   \n",
       "split1_test_score             0.852941             0.823529   \n",
       "split2_test_score              0.90625              0.90625   \n",
       "mean_test_score                   0.86                 0.83   \n",
       "std_test_score               0.0339658            0.0576564   \n",
       "rank_test_score                     10                   18   \n",
       "\n",
       "                                    16                   17  \n",
       "mean_fit_time               0.00266727           0.00299907  \n",
       "std_fit_time                0.00094319            0.0014131  \n",
       "mean_score_time              0.0033346           0.00400098  \n",
       "std_score_time              0.00094381           0.00163424  \n",
       "param_n_neighbors                   18                   19  \n",
       "params             {'n_neighbors': 18}  {'n_neighbors': 19}  \n",
       "split0_test_score             0.794118             0.764706  \n",
       "split1_test_score             0.823529             0.882353  \n",
       "split2_test_score               0.9375              0.96875  \n",
       "mean_test_score                   0.85                 0.87  \n",
       "std_test_score               0.0612372            0.0833181  \n",
       "rank_test_score                     12                    6  "
      ]
     },
     "execution_count": 116,
     "metadata": {},
     "output_type": "execute_result"
    }
   ],
   "source": [
    "pd.DataFrame(grid.cv_results_).T"
   ]
  },
  {
   "cell_type": "markdown",
   "metadata": {},
   "source": [
    "hyper parameter는 여러개 쓸 수 있다.  \n",
    "조합 가능한 경우의 수를 모두 만들어서 학습한다.  "
   ]
  },
  {
   "cell_type": "code",
   "execution_count": 122,
   "metadata": {},
   "outputs": [],
   "source": [
    "grid2 = GridSearchCV(KNeighborsClassifier(), {\"n_neighbors\":range(2, 20), \"weights\":[\"uniform\", \"distance\"]})"
   ]
  },
  {
   "cell_type": "code",
   "execution_count": 124,
   "metadata": {},
   "outputs": [
    {
     "name": "stderr",
     "output_type": "stream",
     "text": [
      "C:\\Users\\JINHYO\\Anaconda3\\lib\\site-packages\\sklearn\\model_selection\\_split.py:1978: FutureWarning: The default value of cv will change from 3 to 5 in version 0.22. Specify it explicitly to silence this warning.\n",
      "  warnings.warn(CV_WARNING, FutureWarning)\n"
     ]
    },
    {
     "data": {
      "text/plain": [
       "GridSearchCV(cv='warn', error_score='raise-deprecating',\n",
       "             estimator=KNeighborsClassifier(algorithm='auto', leaf_size=30,\n",
       "                                            metric='minkowski',\n",
       "                                            metric_params=None, n_jobs=None,\n",
       "                                            n_neighbors=5, p=2,\n",
       "                                            weights='uniform'),\n",
       "             iid='warn', n_jobs=None,\n",
       "             param_grid={'n_neighbors': range(2, 20),\n",
       "                         'weights': ['uniform', 'distance']},\n",
       "             pre_dispatch='2*n_jobs', refit=True, return_train_score=False,\n",
       "             scoring=None, verbose=0)"
      ]
     },
     "execution_count": 124,
     "metadata": {},
     "output_type": "execute_result"
    }
   ],
   "source": [
    "grid2.fit(ma.iloc[:, :-1], ma.iloc[:, -1])"
   ]
  },
  {
   "cell_type": "markdown",
   "metadata": {},
   "source": [
    "`best_params_`은 가장 성능 좋았던 하이퍼파라미터 조합을 알려준다."
   ]
  },
  {
   "cell_type": "code",
   "execution_count": 125,
   "metadata": {},
   "outputs": [
    {
     "data": {
      "text/plain": [
       "{'n_neighbors': 2, 'weights': 'distance'}"
      ]
     },
     "execution_count": 125,
     "metadata": {},
     "output_type": "execute_result"
    }
   ],
   "source": [
    "grid2.best_params_"
   ]
  },
  {
   "cell_type": "markdown",
   "metadata": {},
   "source": [
    "`cv_results_`는 하이퍼 파라미터를 조합가능한 모든 경우의 수만큼 결과가 생긴다.  "
   ]
  },
  {
   "cell_type": "markdown",
   "metadata": {},
   "source": [
    "순서는 다음과 같다. \n",
    "각 파라미터를 첫번째 값으로 테스트한다.  \n",
    "-> n_negibors를 고정시키고 weights를 순서대로 바꿔본다.  \n",
    "-> n_neighbors를 한번 바꾼 후, 다시 weights를 순서대로 바꿔본다."
   ]
  },
  {
   "cell_type": "markdown",
   "metadata": {},
   "source": [
    "맨 마지막 하이퍼파라미터부터 순차적으로 바꿔보며 모든 경우를 조합하는 구조이다."
   ]
  },
  {
   "cell_type": "code",
   "execution_count": 126,
   "metadata": {},
   "outputs": [
    {
     "data": {
      "text/html": [
       "<div>\n",
       "<style scoped>\n",
       "    .dataframe tbody tr th:only-of-type {\n",
       "        vertical-align: middle;\n",
       "    }\n",
       "\n",
       "    .dataframe tbody tr th {\n",
       "        vertical-align: top;\n",
       "    }\n",
       "\n",
       "    .dataframe thead th {\n",
       "        text-align: right;\n",
       "    }\n",
       "</style>\n",
       "<table border=\"1\" class=\"dataframe\">\n",
       "  <thead>\n",
       "    <tr style=\"text-align: right;\">\n",
       "      <th></th>\n",
       "      <th>0</th>\n",
       "      <th>1</th>\n",
       "      <th>2</th>\n",
       "      <th>3</th>\n",
       "      <th>4</th>\n",
       "      <th>5</th>\n",
       "      <th>6</th>\n",
       "      <th>7</th>\n",
       "      <th>8</th>\n",
       "      <th>9</th>\n",
       "      <th>...</th>\n",
       "      <th>26</th>\n",
       "      <th>27</th>\n",
       "      <th>28</th>\n",
       "      <th>29</th>\n",
       "      <th>30</th>\n",
       "      <th>31</th>\n",
       "      <th>32</th>\n",
       "      <th>33</th>\n",
       "      <th>34</th>\n",
       "      <th>35</th>\n",
       "    </tr>\n",
       "  </thead>\n",
       "  <tbody>\n",
       "    <tr>\n",
       "      <th>mean_fit_time</th>\n",
       "      <td>0.00266759</td>\n",
       "      <td>0.00233523</td>\n",
       "      <td>0.00266767</td>\n",
       "      <td>0.00233205</td>\n",
       "      <td>0.00333254</td>\n",
       "      <td>0.00233205</td>\n",
       "      <td>0.00366894</td>\n",
       "      <td>0.00333333</td>\n",
       "      <td>0.00299931</td>\n",
       "      <td>0.00366529</td>\n",
       "      <td>...</td>\n",
       "      <td>0.00298683</td>\n",
       "      <td>0.00333381</td>\n",
       "      <td>0.0030036</td>\n",
       "      <td>0.00299891</td>\n",
       "      <td>0.00233245</td>\n",
       "      <td>0.00332888</td>\n",
       "      <td>0.00266393</td>\n",
       "      <td>0.00400027</td>\n",
       "      <td>0.00304508</td>\n",
       "      <td>0.00265495</td>\n",
       "    </tr>\n",
       "    <tr>\n",
       "      <th>std_fit_time</th>\n",
       "      <td>0.000942628</td>\n",
       "      <td>0.000473282</td>\n",
       "      <td>0.00047255</td>\n",
       "      <td>0.000471823</td>\n",
       "      <td>0.00047143</td>\n",
       "      <td>0.000469965</td>\n",
       "      <td>0.000943134</td>\n",
       "      <td>0.00124662</td>\n",
       "      <td>6.7435e-07</td>\n",
       "      <td>0.000472113</td>\n",
       "      <td>...</td>\n",
       "      <td>0.000801105</td>\n",
       "      <td>0.000472046</td>\n",
       "      <td>8.67092e-06</td>\n",
       "      <td>2.09965e-06</td>\n",
       "      <td>0.000471708</td>\n",
       "      <td>0.00124176</td>\n",
       "      <td>0.000470607</td>\n",
       "      <td>0.00141355</td>\n",
       "      <td>6.55892e-05</td>\n",
       "      <td>0.00092948</td>\n",
       "    </tr>\n",
       "    <tr>\n",
       "      <th>mean_score_time</th>\n",
       "      <td>0.00432889</td>\n",
       "      <td>0.00166512</td>\n",
       "      <td>0.00366584</td>\n",
       "      <td>0.00200001</td>\n",
       "      <td>0.00300121</td>\n",
       "      <td>0.00200089</td>\n",
       "      <td>0.00566308</td>\n",
       "      <td>0.00233269</td>\n",
       "      <td>0.00433286</td>\n",
       "      <td>0.00199914</td>\n",
       "      <td>...</td>\n",
       "      <td>0.00467793</td>\n",
       "      <td>0.00366902</td>\n",
       "      <td>0.00466132</td>\n",
       "      <td>0.00233308</td>\n",
       "      <td>0.00533724</td>\n",
       "      <td>0.00366839</td>\n",
       "      <td>0.00533175</td>\n",
       "      <td>0.0036672</td>\n",
       "      <td>0.00401266</td>\n",
       "      <td>0.00300797</td>\n",
       "    </tr>\n",
       "    <tr>\n",
       "      <th>std_score_time</th>\n",
       "      <td>0.000940837</td>\n",
       "      <td>0.000470866</td>\n",
       "      <td>0.000943979</td>\n",
       "      <td>1.87057e-06</td>\n",
       "      <td>9.7334e-07</td>\n",
       "      <td>2.92218e-06</td>\n",
       "      <td>0.000470809</td>\n",
       "      <td>0.000471876</td>\n",
       "      <td>0.00124628</td>\n",
       "      <td>2.88082e-06</td>\n",
       "      <td>...</td>\n",
       "      <td>0.000455298</td>\n",
       "      <td>0.000943922</td>\n",
       "      <td>0.000469062</td>\n",
       "      <td>0.000471595</td>\n",
       "      <td>0.00124574</td>\n",
       "      <td>0.000942182</td>\n",
       "      <td>0.000472214</td>\n",
       "      <td>0.000470752</td>\n",
       "      <td>0.000824608</td>\n",
       "      <td>1.1224e-05</td>\n",
       "    </tr>\n",
       "    <tr>\n",
       "      <th>param_n_neighbors</th>\n",
       "      <td>2</td>\n",
       "      <td>2</td>\n",
       "      <td>3</td>\n",
       "      <td>3</td>\n",
       "      <td>4</td>\n",
       "      <td>4</td>\n",
       "      <td>5</td>\n",
       "      <td>5</td>\n",
       "      <td>6</td>\n",
       "      <td>6</td>\n",
       "      <td>...</td>\n",
       "      <td>15</td>\n",
       "      <td>15</td>\n",
       "      <td>16</td>\n",
       "      <td>16</td>\n",
       "      <td>17</td>\n",
       "      <td>17</td>\n",
       "      <td>18</td>\n",
       "      <td>18</td>\n",
       "      <td>19</td>\n",
       "      <td>19</td>\n",
       "    </tr>\n",
       "    <tr>\n",
       "      <th>param_weights</th>\n",
       "      <td>uniform</td>\n",
       "      <td>distance</td>\n",
       "      <td>uniform</td>\n",
       "      <td>distance</td>\n",
       "      <td>uniform</td>\n",
       "      <td>distance</td>\n",
       "      <td>uniform</td>\n",
       "      <td>distance</td>\n",
       "      <td>uniform</td>\n",
       "      <td>distance</td>\n",
       "      <td>...</td>\n",
       "      <td>uniform</td>\n",
       "      <td>distance</td>\n",
       "      <td>uniform</td>\n",
       "      <td>distance</td>\n",
       "      <td>uniform</td>\n",
       "      <td>distance</td>\n",
       "      <td>uniform</td>\n",
       "      <td>distance</td>\n",
       "      <td>uniform</td>\n",
       "      <td>distance</td>\n",
       "    </tr>\n",
       "    <tr>\n",
       "      <th>params</th>\n",
       "      <td>{'n_neighbors': 2, 'weights': 'uniform'}</td>\n",
       "      <td>{'n_neighbors': 2, 'weights': 'distance'}</td>\n",
       "      <td>{'n_neighbors': 3, 'weights': 'uniform'}</td>\n",
       "      <td>{'n_neighbors': 3, 'weights': 'distance'}</td>\n",
       "      <td>{'n_neighbors': 4, 'weights': 'uniform'}</td>\n",
       "      <td>{'n_neighbors': 4, 'weights': 'distance'}</td>\n",
       "      <td>{'n_neighbors': 5, 'weights': 'uniform'}</td>\n",
       "      <td>{'n_neighbors': 5, 'weights': 'distance'}</td>\n",
       "      <td>{'n_neighbors': 6, 'weights': 'uniform'}</td>\n",
       "      <td>{'n_neighbors': 6, 'weights': 'distance'}</td>\n",
       "      <td>...</td>\n",
       "      <td>{'n_neighbors': 15, 'weights': 'uniform'}</td>\n",
       "      <td>{'n_neighbors': 15, 'weights': 'distance'}</td>\n",
       "      <td>{'n_neighbors': 16, 'weights': 'uniform'}</td>\n",
       "      <td>{'n_neighbors': 16, 'weights': 'distance'}</td>\n",
       "      <td>{'n_neighbors': 17, 'weights': 'uniform'}</td>\n",
       "      <td>{'n_neighbors': 17, 'weights': 'distance'}</td>\n",
       "      <td>{'n_neighbors': 18, 'weights': 'uniform'}</td>\n",
       "      <td>{'n_neighbors': 18, 'weights': 'distance'}</td>\n",
       "      <td>{'n_neighbors': 19, 'weights': 'uniform'}</td>\n",
       "      <td>{'n_neighbors': 19, 'weights': 'distance'}</td>\n",
       "    </tr>\n",
       "    <tr>\n",
       "      <th>split0_test_score</th>\n",
       "      <td>0.911765</td>\n",
       "      <td>0.911765</td>\n",
       "      <td>0.911765</td>\n",
       "      <td>0.911765</td>\n",
       "      <td>0.911765</td>\n",
       "      <td>0.911765</td>\n",
       "      <td>0.882353</td>\n",
       "      <td>0.882353</td>\n",
       "      <td>0.852941</td>\n",
       "      <td>0.882353</td>\n",
       "      <td>...</td>\n",
       "      <td>0.764706</td>\n",
       "      <td>0.852941</td>\n",
       "      <td>0.823529</td>\n",
       "      <td>0.852941</td>\n",
       "      <td>0.764706</td>\n",
       "      <td>0.852941</td>\n",
       "      <td>0.794118</td>\n",
       "      <td>0.882353</td>\n",
       "      <td>0.764706</td>\n",
       "      <td>0.882353</td>\n",
       "    </tr>\n",
       "    <tr>\n",
       "      <th>split1_test_score</th>\n",
       "      <td>0.852941</td>\n",
       "      <td>0.911765</td>\n",
       "      <td>0.882353</td>\n",
       "      <td>0.882353</td>\n",
       "      <td>0.794118</td>\n",
       "      <td>0.882353</td>\n",
       "      <td>0.823529</td>\n",
       "      <td>0.882353</td>\n",
       "      <td>0.852941</td>\n",
       "      <td>0.941176</td>\n",
       "      <td>...</td>\n",
       "      <td>0.852941</td>\n",
       "      <td>0.941176</td>\n",
       "      <td>0.852941</td>\n",
       "      <td>0.911765</td>\n",
       "      <td>0.823529</td>\n",
       "      <td>0.941176</td>\n",
       "      <td>0.823529</td>\n",
       "      <td>0.911765</td>\n",
       "      <td>0.882353</td>\n",
       "      <td>0.911765</td>\n",
       "    </tr>\n",
       "    <tr>\n",
       "      <th>split2_test_score</th>\n",
       "      <td>0.9375</td>\n",
       "      <td>0.9375</td>\n",
       "      <td>0.90625</td>\n",
       "      <td>0.90625</td>\n",
       "      <td>0.96875</td>\n",
       "      <td>0.9375</td>\n",
       "      <td>0.9375</td>\n",
       "      <td>0.9375</td>\n",
       "      <td>0.90625</td>\n",
       "      <td>0.9375</td>\n",
       "      <td>...</td>\n",
       "      <td>0.90625</td>\n",
       "      <td>0.96875</td>\n",
       "      <td>0.90625</td>\n",
       "      <td>0.96875</td>\n",
       "      <td>0.90625</td>\n",
       "      <td>0.96875</td>\n",
       "      <td>0.9375</td>\n",
       "      <td>0.96875</td>\n",
       "      <td>0.96875</td>\n",
       "      <td>0.96875</td>\n",
       "    </tr>\n",
       "    <tr>\n",
       "      <th>mean_test_score</th>\n",
       "      <td>0.9</td>\n",
       "      <td>0.92</td>\n",
       "      <td>0.9</td>\n",
       "      <td>0.9</td>\n",
       "      <td>0.89</td>\n",
       "      <td>0.91</td>\n",
       "      <td>0.88</td>\n",
       "      <td>0.9</td>\n",
       "      <td>0.87</td>\n",
       "      <td>0.92</td>\n",
       "      <td>...</td>\n",
       "      <td>0.84</td>\n",
       "      <td>0.92</td>\n",
       "      <td>0.86</td>\n",
       "      <td>0.91</td>\n",
       "      <td>0.83</td>\n",
       "      <td>0.92</td>\n",
       "      <td>0.85</td>\n",
       "      <td>0.92</td>\n",
       "      <td>0.87</td>\n",
       "      <td>0.92</td>\n",
       "    </tr>\n",
       "    <tr>\n",
       "      <th>std_test_score</th>\n",
       "      <td>0.0353553</td>\n",
       "      <td>0.0120049</td>\n",
       "      <td>0.0128624</td>\n",
       "      <td>0.0128624</td>\n",
       "      <td>0.0726039</td>\n",
       "      <td>0.0224264</td>\n",
       "      <td>0.0463046</td>\n",
       "      <td>0.0257248</td>\n",
       "      <td>0.0248673</td>\n",
       "      <td>0.027062</td>\n",
       "      <td>...</td>\n",
       "      <td>0.0582149</td>\n",
       "      <td>0.0494157</td>\n",
       "      <td>0.0339658</td>\n",
       "      <td>0.0470372</td>\n",
       "      <td>0.0576564</td>\n",
       "      <td>0.0494157</td>\n",
       "      <td>0.0612372</td>\n",
       "      <td>0.035573</td>\n",
       "      <td>0.0833181</td>\n",
       "      <td>0.035573</td>\n",
       "    </tr>\n",
       "    <tr>\n",
       "      <th>rank_test_score</th>\n",
       "      <td>17</td>\n",
       "      <td>1</td>\n",
       "      <td>17</td>\n",
       "      <td>17</td>\n",
       "      <td>21</td>\n",
       "      <td>15</td>\n",
       "      <td>23</td>\n",
       "      <td>17</td>\n",
       "      <td>24</td>\n",
       "      <td>1</td>\n",
       "      <td>...</td>\n",
       "      <td>33</td>\n",
       "      <td>1</td>\n",
       "      <td>28</td>\n",
       "      <td>15</td>\n",
       "      <td>36</td>\n",
       "      <td>1</td>\n",
       "      <td>30</td>\n",
       "      <td>1</td>\n",
       "      <td>24</td>\n",
       "      <td>1</td>\n",
       "    </tr>\n",
       "  </tbody>\n",
       "</table>\n",
       "<p>13 rows × 36 columns</p>\n",
       "</div>"
      ],
      "text/plain": [
       "                                                         0   \\\n",
       "mean_fit_time                                    0.00266759   \n",
       "std_fit_time                                    0.000942628   \n",
       "mean_score_time                                  0.00432889   \n",
       "std_score_time                                  0.000940837   \n",
       "param_n_neighbors                                         2   \n",
       "param_weights                                       uniform   \n",
       "params             {'n_neighbors': 2, 'weights': 'uniform'}   \n",
       "split0_test_score                                  0.911765   \n",
       "split1_test_score                                  0.852941   \n",
       "split2_test_score                                    0.9375   \n",
       "mean_test_score                                         0.9   \n",
       "std_test_score                                    0.0353553   \n",
       "rank_test_score                                          17   \n",
       "\n",
       "                                                          1   \\\n",
       "mean_fit_time                                     0.00233523   \n",
       "std_fit_time                                     0.000473282   \n",
       "mean_score_time                                   0.00166512   \n",
       "std_score_time                                   0.000470866   \n",
       "param_n_neighbors                                          2   \n",
       "param_weights                                       distance   \n",
       "params             {'n_neighbors': 2, 'weights': 'distance'}   \n",
       "split0_test_score                                   0.911765   \n",
       "split1_test_score                                   0.911765   \n",
       "split2_test_score                                     0.9375   \n",
       "mean_test_score                                         0.92   \n",
       "std_test_score                                     0.0120049   \n",
       "rank_test_score                                            1   \n",
       "\n",
       "                                                         2   \\\n",
       "mean_fit_time                                    0.00266767   \n",
       "std_fit_time                                     0.00047255   \n",
       "mean_score_time                                  0.00366584   \n",
       "std_score_time                                  0.000943979   \n",
       "param_n_neighbors                                         3   \n",
       "param_weights                                       uniform   \n",
       "params             {'n_neighbors': 3, 'weights': 'uniform'}   \n",
       "split0_test_score                                  0.911765   \n",
       "split1_test_score                                  0.882353   \n",
       "split2_test_score                                   0.90625   \n",
       "mean_test_score                                         0.9   \n",
       "std_test_score                                    0.0128624   \n",
       "rank_test_score                                          17   \n",
       "\n",
       "                                                          3   \\\n",
       "mean_fit_time                                     0.00233205   \n",
       "std_fit_time                                     0.000471823   \n",
       "mean_score_time                                   0.00200001   \n",
       "std_score_time                                   1.87057e-06   \n",
       "param_n_neighbors                                          3   \n",
       "param_weights                                       distance   \n",
       "params             {'n_neighbors': 3, 'weights': 'distance'}   \n",
       "split0_test_score                                   0.911765   \n",
       "split1_test_score                                   0.882353   \n",
       "split2_test_score                                    0.90625   \n",
       "mean_test_score                                          0.9   \n",
       "std_test_score                                     0.0128624   \n",
       "rank_test_score                                           17   \n",
       "\n",
       "                                                         4   \\\n",
       "mean_fit_time                                    0.00333254   \n",
       "std_fit_time                                     0.00047143   \n",
       "mean_score_time                                  0.00300121   \n",
       "std_score_time                                   9.7334e-07   \n",
       "param_n_neighbors                                         4   \n",
       "param_weights                                       uniform   \n",
       "params             {'n_neighbors': 4, 'weights': 'uniform'}   \n",
       "split0_test_score                                  0.911765   \n",
       "split1_test_score                                  0.794118   \n",
       "split2_test_score                                   0.96875   \n",
       "mean_test_score                                        0.89   \n",
       "std_test_score                                    0.0726039   \n",
       "rank_test_score                                          21   \n",
       "\n",
       "                                                          5   \\\n",
       "mean_fit_time                                     0.00233205   \n",
       "std_fit_time                                     0.000469965   \n",
       "mean_score_time                                   0.00200089   \n",
       "std_score_time                                   2.92218e-06   \n",
       "param_n_neighbors                                          4   \n",
       "param_weights                                       distance   \n",
       "params             {'n_neighbors': 4, 'weights': 'distance'}   \n",
       "split0_test_score                                   0.911765   \n",
       "split1_test_score                                   0.882353   \n",
       "split2_test_score                                     0.9375   \n",
       "mean_test_score                                         0.91   \n",
       "std_test_score                                     0.0224264   \n",
       "rank_test_score                                           15   \n",
       "\n",
       "                                                         6   \\\n",
       "mean_fit_time                                    0.00366894   \n",
       "std_fit_time                                    0.000943134   \n",
       "mean_score_time                                  0.00566308   \n",
       "std_score_time                                  0.000470809   \n",
       "param_n_neighbors                                         5   \n",
       "param_weights                                       uniform   \n",
       "params             {'n_neighbors': 5, 'weights': 'uniform'}   \n",
       "split0_test_score                                  0.882353   \n",
       "split1_test_score                                  0.823529   \n",
       "split2_test_score                                    0.9375   \n",
       "mean_test_score                                        0.88   \n",
       "std_test_score                                    0.0463046   \n",
       "rank_test_score                                          23   \n",
       "\n",
       "                                                          7   \\\n",
       "mean_fit_time                                     0.00333333   \n",
       "std_fit_time                                      0.00124662   \n",
       "mean_score_time                                   0.00233269   \n",
       "std_score_time                                   0.000471876   \n",
       "param_n_neighbors                                          5   \n",
       "param_weights                                       distance   \n",
       "params             {'n_neighbors': 5, 'weights': 'distance'}   \n",
       "split0_test_score                                   0.882353   \n",
       "split1_test_score                                   0.882353   \n",
       "split2_test_score                                     0.9375   \n",
       "mean_test_score                                          0.9   \n",
       "std_test_score                                     0.0257248   \n",
       "rank_test_score                                           17   \n",
       "\n",
       "                                                         8   \\\n",
       "mean_fit_time                                    0.00299931   \n",
       "std_fit_time                                     6.7435e-07   \n",
       "mean_score_time                                  0.00433286   \n",
       "std_score_time                                   0.00124628   \n",
       "param_n_neighbors                                         6   \n",
       "param_weights                                       uniform   \n",
       "params             {'n_neighbors': 6, 'weights': 'uniform'}   \n",
       "split0_test_score                                  0.852941   \n",
       "split1_test_score                                  0.852941   \n",
       "split2_test_score                                   0.90625   \n",
       "mean_test_score                                        0.87   \n",
       "std_test_score                                    0.0248673   \n",
       "rank_test_score                                          24   \n",
       "\n",
       "                                                          9   ...  \\\n",
       "mean_fit_time                                     0.00366529  ...   \n",
       "std_fit_time                                     0.000472113  ...   \n",
       "mean_score_time                                   0.00199914  ...   \n",
       "std_score_time                                   2.88082e-06  ...   \n",
       "param_n_neighbors                                          6  ...   \n",
       "param_weights                                       distance  ...   \n",
       "params             {'n_neighbors': 6, 'weights': 'distance'}  ...   \n",
       "split0_test_score                                   0.882353  ...   \n",
       "split1_test_score                                   0.941176  ...   \n",
       "split2_test_score                                     0.9375  ...   \n",
       "mean_test_score                                         0.92  ...   \n",
       "std_test_score                                      0.027062  ...   \n",
       "rank_test_score                                            1  ...   \n",
       "\n",
       "                                                          26  \\\n",
       "mean_fit_time                                     0.00298683   \n",
       "std_fit_time                                     0.000801105   \n",
       "mean_score_time                                   0.00467793   \n",
       "std_score_time                                   0.000455298   \n",
       "param_n_neighbors                                         15   \n",
       "param_weights                                        uniform   \n",
       "params             {'n_neighbors': 15, 'weights': 'uniform'}   \n",
       "split0_test_score                                   0.764706   \n",
       "split1_test_score                                   0.852941   \n",
       "split2_test_score                                    0.90625   \n",
       "mean_test_score                                         0.84   \n",
       "std_test_score                                     0.0582149   \n",
       "rank_test_score                                           33   \n",
       "\n",
       "                                                           27  \\\n",
       "mean_fit_time                                      0.00333381   \n",
       "std_fit_time                                      0.000472046   \n",
       "mean_score_time                                    0.00366902   \n",
       "std_score_time                                    0.000943922   \n",
       "param_n_neighbors                                          15   \n",
       "param_weights                                        distance   \n",
       "params             {'n_neighbors': 15, 'weights': 'distance'}   \n",
       "split0_test_score                                    0.852941   \n",
       "split1_test_score                                    0.941176   \n",
       "split2_test_score                                     0.96875   \n",
       "mean_test_score                                          0.92   \n",
       "std_test_score                                      0.0494157   \n",
       "rank_test_score                                             1   \n",
       "\n",
       "                                                          28  \\\n",
       "mean_fit_time                                      0.0030036   \n",
       "std_fit_time                                     8.67092e-06   \n",
       "mean_score_time                                   0.00466132   \n",
       "std_score_time                                   0.000469062   \n",
       "param_n_neighbors                                         16   \n",
       "param_weights                                        uniform   \n",
       "params             {'n_neighbors': 16, 'weights': 'uniform'}   \n",
       "split0_test_score                                   0.823529   \n",
       "split1_test_score                                   0.852941   \n",
       "split2_test_score                                    0.90625   \n",
       "mean_test_score                                         0.86   \n",
       "std_test_score                                     0.0339658   \n",
       "rank_test_score                                           28   \n",
       "\n",
       "                                                           29  \\\n",
       "mean_fit_time                                      0.00299891   \n",
       "std_fit_time                                      2.09965e-06   \n",
       "mean_score_time                                    0.00233308   \n",
       "std_score_time                                    0.000471595   \n",
       "param_n_neighbors                                          16   \n",
       "param_weights                                        distance   \n",
       "params             {'n_neighbors': 16, 'weights': 'distance'}   \n",
       "split0_test_score                                    0.852941   \n",
       "split1_test_score                                    0.911765   \n",
       "split2_test_score                                     0.96875   \n",
       "mean_test_score                                          0.91   \n",
       "std_test_score                                      0.0470372   \n",
       "rank_test_score                                            15   \n",
       "\n",
       "                                                          30  \\\n",
       "mean_fit_time                                     0.00233245   \n",
       "std_fit_time                                     0.000471708   \n",
       "mean_score_time                                   0.00533724   \n",
       "std_score_time                                    0.00124574   \n",
       "param_n_neighbors                                         17   \n",
       "param_weights                                        uniform   \n",
       "params             {'n_neighbors': 17, 'weights': 'uniform'}   \n",
       "split0_test_score                                   0.764706   \n",
       "split1_test_score                                   0.823529   \n",
       "split2_test_score                                    0.90625   \n",
       "mean_test_score                                         0.83   \n",
       "std_test_score                                     0.0576564   \n",
       "rank_test_score                                           36   \n",
       "\n",
       "                                                           31  \\\n",
       "mean_fit_time                                      0.00332888   \n",
       "std_fit_time                                       0.00124176   \n",
       "mean_score_time                                    0.00366839   \n",
       "std_score_time                                    0.000942182   \n",
       "param_n_neighbors                                          17   \n",
       "param_weights                                        distance   \n",
       "params             {'n_neighbors': 17, 'weights': 'distance'}   \n",
       "split0_test_score                                    0.852941   \n",
       "split1_test_score                                    0.941176   \n",
       "split2_test_score                                     0.96875   \n",
       "mean_test_score                                          0.92   \n",
       "std_test_score                                      0.0494157   \n",
       "rank_test_score                                             1   \n",
       "\n",
       "                                                          32  \\\n",
       "mean_fit_time                                     0.00266393   \n",
       "std_fit_time                                     0.000470607   \n",
       "mean_score_time                                   0.00533175   \n",
       "std_score_time                                   0.000472214   \n",
       "param_n_neighbors                                         18   \n",
       "param_weights                                        uniform   \n",
       "params             {'n_neighbors': 18, 'weights': 'uniform'}   \n",
       "split0_test_score                                   0.794118   \n",
       "split1_test_score                                   0.823529   \n",
       "split2_test_score                                     0.9375   \n",
       "mean_test_score                                         0.85   \n",
       "std_test_score                                     0.0612372   \n",
       "rank_test_score                                           30   \n",
       "\n",
       "                                                           33  \\\n",
       "mean_fit_time                                      0.00400027   \n",
       "std_fit_time                                       0.00141355   \n",
       "mean_score_time                                     0.0036672   \n",
       "std_score_time                                    0.000470752   \n",
       "param_n_neighbors                                          18   \n",
       "param_weights                                        distance   \n",
       "params             {'n_neighbors': 18, 'weights': 'distance'}   \n",
       "split0_test_score                                    0.882353   \n",
       "split1_test_score                                    0.911765   \n",
       "split2_test_score                                     0.96875   \n",
       "mean_test_score                                          0.92   \n",
       "std_test_score                                       0.035573   \n",
       "rank_test_score                                             1   \n",
       "\n",
       "                                                          34  \\\n",
       "mean_fit_time                                     0.00304508   \n",
       "std_fit_time                                     6.55892e-05   \n",
       "mean_score_time                                   0.00401266   \n",
       "std_score_time                                   0.000824608   \n",
       "param_n_neighbors                                         19   \n",
       "param_weights                                        uniform   \n",
       "params             {'n_neighbors': 19, 'weights': 'uniform'}   \n",
       "split0_test_score                                   0.764706   \n",
       "split1_test_score                                   0.882353   \n",
       "split2_test_score                                    0.96875   \n",
       "mean_test_score                                         0.87   \n",
       "std_test_score                                     0.0833181   \n",
       "rank_test_score                                           24   \n",
       "\n",
       "                                                           35  \n",
       "mean_fit_time                                      0.00265495  \n",
       "std_fit_time                                       0.00092948  \n",
       "mean_score_time                                    0.00300797  \n",
       "std_score_time                                     1.1224e-05  \n",
       "param_n_neighbors                                          19  \n",
       "param_weights                                        distance  \n",
       "params             {'n_neighbors': 19, 'weights': 'distance'}  \n",
       "split0_test_score                                    0.882353  \n",
       "split1_test_score                                    0.911765  \n",
       "split2_test_score                                     0.96875  \n",
       "mean_test_score                                          0.92  \n",
       "std_test_score                                       0.035573  \n",
       "rank_test_score                                             1  \n",
       "\n",
       "[13 rows x 36 columns]"
      ]
     },
     "execution_count": 126,
     "metadata": {},
     "output_type": "execute_result"
    }
   ],
   "source": [
    "pd.DataFrame(grid2.cv_results_).T"
   ]
  },
  {
   "cell_type": "markdown",
   "metadata": {},
   "source": [
    "### 더 고급 기법 : GridSearchCV + Pipeline"
   ]
  },
  {
   "cell_type": "markdown",
   "metadata": {},
   "source": [
    "`GridSearchCV`에 `Pipeline`을 넣어서 전처리부터 하이퍼 파라미터 찾기까지 all-in-one으로 해결한다."
   ]
  },
  {
   "cell_type": "code",
   "execution_count": 135,
   "metadata": {},
   "outputs": [],
   "source": [
    "grid = GridSearchCV(pipe,                          # 알고리즘 대신 Pipeline\n",
    "                   [{\"n_neighbors\":range(2, 20)}]) # 실험할 하이퍼 파라미터"
   ]
  },
  {
   "cell_type": "markdown",
   "metadata": {},
   "source": [
    "`fit`하면 에러가 발생한다.  \n",
    "범인은 이름이다."
   ]
  },
  {
   "cell_type": "code",
   "execution_count": null,
   "metadata": {},
   "outputs": [],
   "source": [
    "# Error\n",
    "grid.fit(ma.iloc[:, :-1], ma.iloc[:, -1])"
   ]
  },
  {
   "cell_type": "markdown",
   "metadata": {},
   "source": [
    "`Pipeline`을 인스턴스할 때 이름이 중요하다고 했다.  \n",
    "`get_params`로 `pipe`의 파라미터를 확인해보면 이름이 바뀐 것을 알 수 있다. "
   ]
  },
  {
   "cell_type": "markdown",
   "metadata": {},
   "source": [
    "> 이름 뒤에 언더바2개 + 하이퍼 파라마미터 이름  \n",
    "\n",
    "이런 네이밍법을 mangling 방식이라고 배웠었다."
   ]
  },
  {
   "cell_type": "code",
   "execution_count": 140,
   "metadata": {},
   "outputs": [
    {
     "data": {
      "text/plain": [
       "{'memory': None,\n",
       " 'steps': [('ss', StandardScaler(copy=True, with_mean=True, with_std=True)),\n",
       "  ('mm', MinMaxScaler(copy=True, feature_range=(0, 1))),\n",
       "  ('knn',\n",
       "   KNeighborsClassifier(algorithm='auto', leaf_size=30, metric='minkowski',\n",
       "                        metric_params=None, n_jobs=None, n_neighbors=5, p=2,\n",
       "                        weights='uniform'))],\n",
       " 'verbose': False,\n",
       " 'ss': StandardScaler(copy=True, with_mean=True, with_std=True),\n",
       " 'mm': MinMaxScaler(copy=True, feature_range=(0, 1)),\n",
       " 'knn': KNeighborsClassifier(algorithm='auto', leaf_size=30, metric='minkowski',\n",
       "                      metric_params=None, n_jobs=None, n_neighbors=5, p=2,\n",
       "                      weights='uniform'),\n",
       " 'ss__copy': True,\n",
       " 'ss__with_mean': True,\n",
       " 'ss__with_std': True,\n",
       " 'mm__copy': True,\n",
       " 'mm__feature_range': (0, 1),\n",
       " 'knn__algorithm': 'auto',\n",
       " 'knn__leaf_size': 30,\n",
       " 'knn__metric': 'minkowski',\n",
       " 'knn__metric_params': None,\n",
       " 'knn__n_jobs': None,\n",
       " 'knn__n_neighbors': 5,\n",
       " 'knn__p': 2,\n",
       " 'knn__weights': 'uniform'}"
      ]
     },
     "execution_count": 140,
     "metadata": {},
     "output_type": "execute_result"
    }
   ],
   "source": [
    "# n_neighbors 아니고 knn__n_neighbors\n",
    "pipe.get_params()"
   ]
  },
  {
   "cell_type": "markdown",
   "metadata": {},
   "source": [
    "바뀐 이름으로는 에러 없이 잘 실행된다."
   ]
  },
  {
   "cell_type": "code",
   "execution_count": 132,
   "metadata": {},
   "outputs": [],
   "source": [
    "grid = GridSearchCV(pipe, \n",
    "                   [{\"knn__n_neighbors\":range(2, 20)}])"
   ]
  },
  {
   "cell_type": "code",
   "execution_count": 133,
   "metadata": {},
   "outputs": [
    {
     "name": "stderr",
     "output_type": "stream",
     "text": [
      "C:\\Users\\JINHYO\\Anaconda3\\lib\\site-packages\\sklearn\\model_selection\\_split.py:1978: FutureWarning: The default value of cv will change from 3 to 5 in version 0.22. Specify it explicitly to silence this warning.\n",
      "  warnings.warn(CV_WARNING, FutureWarning)\n"
     ]
    },
    {
     "data": {
      "text/plain": [
       "GridSearchCV(cv='warn', error_score='raise-deprecating',\n",
       "             estimator=Pipeline(memory=None,\n",
       "                                steps=[('ss',\n",
       "                                        StandardScaler(copy=True,\n",
       "                                                       with_mean=True,\n",
       "                                                       with_std=True)),\n",
       "                                       ('mm',\n",
       "                                        MinMaxScaler(copy=True,\n",
       "                                                     feature_range=(0, 1))),\n",
       "                                       ('knn',\n",
       "                                        KNeighborsClassifier(algorithm='auto',\n",
       "                                                             leaf_size=30,\n",
       "                                                             metric='minkowski',\n",
       "                                                             metric_params=None,\n",
       "                                                             n_jobs=None,\n",
       "                                                             n_neighbors=5, p=2,\n",
       "                                                             weights='uniform'))],\n",
       "                                verbose=False),\n",
       "             iid='warn', n_jobs=None,\n",
       "             param_grid=[{'knn__n_neighbors': range(2, 20)}],\n",
       "             pre_dispatch='2*n_jobs', refit=True, return_train_score=False,\n",
       "             scoring=None, verbose=0)"
      ]
     },
     "execution_count": 133,
     "metadata": {},
     "output_type": "execute_result"
    }
   ],
   "source": [
    "grid.fit(ma.iloc[:, :-1], ma.iloc[:, -1])"
   ]
  },
  {
   "cell_type": "markdown",
   "metadata": {},
   "source": [
    "`make_pipeline` 함수로 Pipeline을 만들었을 때는 이름을 따로 주지 않았었다.  \n",
    "클래스의 이름이 그대로 사용되었다.  \n",
    "단, 모두 소문자로 바뀐 점에 주의하자. "
   ]
  },
  {
   "cell_type": "code",
   "execution_count": 143,
   "metadata": {},
   "outputs": [
    {
     "data": {
      "text/plain": [
       "{'memory': None,\n",
       " 'steps': [('standardscaler',\n",
       "   StandardScaler(copy=True, with_mean=True, with_std=True)),\n",
       "  ('minmaxscaler', MinMaxScaler(copy=True, feature_range=(0, 1))),\n",
       "  ('logisticregression',\n",
       "   LogisticRegression(C=1.0, class_weight=None, dual=False, fit_intercept=True,\n",
       "                      intercept_scaling=1, l1_ratio=None, max_iter=100,\n",
       "                      multi_class='warn', n_jobs=None, penalty='l2',\n",
       "                      random_state=None, solver='warn', tol=0.0001, verbose=0,\n",
       "                      warm_start=False))],\n",
       " 'verbose': False,\n",
       " 'standardscaler': StandardScaler(copy=True, with_mean=True, with_std=True),\n",
       " 'minmaxscaler': MinMaxScaler(copy=True, feature_range=(0, 1)),\n",
       " 'logisticregression': LogisticRegression(C=1.0, class_weight=None, dual=False, fit_intercept=True,\n",
       "                    intercept_scaling=1, l1_ratio=None, max_iter=100,\n",
       "                    multi_class='warn', n_jobs=None, penalty='l2',\n",
       "                    random_state=None, solver='warn', tol=0.0001, verbose=0,\n",
       "                    warm_start=False),\n",
       " 'standardscaler__copy': True,\n",
       " 'standardscaler__with_mean': True,\n",
       " 'standardscaler__with_std': True,\n",
       " 'minmaxscaler__copy': True,\n",
       " 'minmaxscaler__feature_range': (0, 1),\n",
       " 'logisticregression__C': 1.0,\n",
       " 'logisticregression__class_weight': None,\n",
       " 'logisticregression__dual': False,\n",
       " 'logisticregression__fit_intercept': True,\n",
       " 'logisticregression__intercept_scaling': 1,\n",
       " 'logisticregression__l1_ratio': None,\n",
       " 'logisticregression__max_iter': 100,\n",
       " 'logisticregression__multi_class': 'warn',\n",
       " 'logisticregression__n_jobs': None,\n",
       " 'logisticregression__penalty': 'l2',\n",
       " 'logisticregression__random_state': None,\n",
       " 'logisticregression__solver': 'warn',\n",
       " 'logisticregression__tol': 0.0001,\n",
       " 'logisticregression__verbose': 0,\n",
       " 'logisticregression__warm_start': False}"
      ]
     },
     "execution_count": 143,
     "metadata": {},
     "output_type": "execute_result"
    }
   ],
   "source": [
    "# solver가 아니고 logisticregression__solver\n",
    "pipe2.get_params()"
   ]
  },
  {
   "cell_type": "code",
   "execution_count": 276,
   "metadata": {},
   "outputs": [],
   "source": [
    "grid = GridSearchCV(pipe2, {\"logisticregression__solver\":['newton-cg', 'lbfgs', 'liblinear', 'sag', 'saga']})"
   ]
  },
  {
   "cell_type": "code",
   "execution_count": 277,
   "metadata": {},
   "outputs": [
    {
     "name": "stderr",
     "output_type": "stream",
     "text": [
      "C:\\Users\\JINHYO\\Anaconda3\\lib\\site-packages\\sklearn\\model_selection\\_split.py:1978: FutureWarning: The default value of cv will change from 3 to 5 in version 0.22. Specify it explicitly to silence this warning.\n",
      "  warnings.warn(CV_WARNING, FutureWarning)\n"
     ]
    },
    {
     "data": {
      "text/plain": [
       "GridSearchCV(cv='warn', error_score='raise-deprecating',\n",
       "             estimator=Pipeline(memory=None,\n",
       "                                steps=[('standardscaler',\n",
       "                                        StandardScaler(copy=True,\n",
       "                                                       with_mean=True,\n",
       "                                                       with_std=True)),\n",
       "                                       ('minmaxscaler',\n",
       "                                        MinMaxScaler(copy=True,\n",
       "                                                     feature_range=(0, 1))),\n",
       "                                       ('logisticregression',\n",
       "                                        LogisticRegression(C=1.0,\n",
       "                                                           class_weight=None,\n",
       "                                                           dual=False,\n",
       "                                                           fit_intercept=True,\n",
       "                                                           intercept_scaling=1,\n",
       "                                                           l1_ratio=None,\n",
       "                                                           max_iter=100,\n",
       "                                                           multi_class='warn',\n",
       "                                                           n_jobs=None,\n",
       "                                                           penalty='l2',\n",
       "                                                           random_state=None,\n",
       "                                                           solver='warn',\n",
       "                                                           tol=0.0001,\n",
       "                                                           verbose=0,\n",
       "                                                           warm_start=False))],\n",
       "                                verbose=False),\n",
       "             iid='warn', n_jobs=None,\n",
       "             param_grid={'logisticregression__solver': ['newton-cg', 'lbfgs',\n",
       "                                                        'liblinear', 'sag',\n",
       "                                                        'saga']},\n",
       "             pre_dispatch='2*n_jobs', refit=True, return_train_score=False,\n",
       "             scoring=None, verbose=0)"
      ]
     },
     "execution_count": 277,
     "metadata": {},
     "output_type": "execute_result"
    }
   ],
   "source": [
    "grid.fit(ma.iloc[:, :-1], ma.iloc[:, -1])"
   ]
  },
  {
   "cell_type": "code",
   "execution_count": 278,
   "metadata": {},
   "outputs": [
    {
     "data": {
      "text/plain": [
       "{'logisticregression__solver': 'newton-cg'}"
      ]
     },
     "execution_count": 278,
     "metadata": {},
     "output_type": "execute_result"
    }
   ],
   "source": [
    "grid.best_params_"
   ]
  },
  {
   "cell_type": "markdown",
   "metadata": {},
   "source": [
    "지금은 조그마한 연습용 데이터로 하기 때문에 속도가 빠른 것이지, 실무는 다르다.  \n",
    "데이터가 많아지면 fold 1개 도는데 한나절이 걸리기도 한다.  \n",
    "fold 수만큼 학습시간이 길어진다.  \n",
    "GridSearchCV는 데이터가 작을 때만 쓴다."
   ]
  },
  {
   "cell_type": "markdown",
   "metadata": {},
   "source": [
    "## 3way hold-out"
   ]
  },
  {
   "cell_type": "markdown",
   "metadata": {},
   "source": [
    "- 2way : train - test\n",
    "- 3way : train - validation - test"
   ]
  },
  {
   "cell_type": "markdown",
   "metadata": {},
   "source": [
    "train, validation으로 하이퍼 파라미터를 찾고,  \n",
    "test로 최종 성능 확인한다.  \n",
    "validation은 하이퍼 파라미터 찾을 때 봤던 데이터이기 때문에 최종 성능평가용으로 부적절하다.  \n",
    "test는 모델이 한번도 본 적 없는 데이터이다."
   ]
  },
  {
   "cell_type": "code",
   "execution_count": 144,
   "metadata": {},
   "outputs": [],
   "source": [
    "from sklearn.model_selection import train_test_split"
   ]
  },
  {
   "cell_type": "code",
   "execution_count": 145,
   "metadata": {},
   "outputs": [],
   "source": [
    "X_train, X_test, y_train, y_test = train_test_split(ma.iloc[:, :-1], ma.iloc[:, -1])"
   ]
  },
  {
   "cell_type": "code",
   "execution_count": 147,
   "metadata": {},
   "outputs": [],
   "source": [
    "X_test, X_validation, y_test, y_validation = train_test_split(X_test, y_test, test_size=0.5)"
   ]
  },
  {
   "cell_type": "markdown",
   "metadata": {},
   "source": [
    "데이터가 많으면 쪼갠다.  \n",
    "데이터가 많지 않으면 2way hold-out하거나 cross validation한다."
   ]
  },
  {
   "cell_type": "markdown",
   "metadata": {},
   "source": [
    "## Metric"
   ]
  },
  {
   "cell_type": "markdown",
   "metadata": {},
   "source": [
    "모델의 성능을 측정하는 지표이다.  \n",
    "지금까지는 Accuracy(정확도)만 썼지만, 실제로는 다양한 지표를 써야한다.  \n",
    "Accuracy만으로는 모델의 성능을 정확히 파악하기 어렵다. "
   ]
  },
  {
   "cell_type": "code",
   "execution_count": 148,
   "metadata": {},
   "outputs": [],
   "source": [
    "from sklearn.metrics import classification_report"
   ]
  },
  {
   "cell_type": "code",
   "execution_count": 149,
   "metadata": {},
   "outputs": [],
   "source": [
    "knn = KNeighborsClassifier()"
   ]
  },
  {
   "cell_type": "code",
   "execution_count": 150,
   "metadata": {},
   "outputs": [
    {
     "data": {
      "text/plain": [
       "KNeighborsClassifier(algorithm='auto', leaf_size=30, metric='minkowski',\n",
       "                     metric_params=None, n_jobs=None, n_neighbors=5, p=2,\n",
       "                     weights='uniform')"
      ]
     },
     "execution_count": 150,
     "metadata": {},
     "output_type": "execute_result"
    }
   ],
   "source": [
    "knn.fit(X_train, y_train)"
   ]
  },
  {
   "cell_type": "markdown",
   "metadata": {},
   "source": [
    "precision, recall, f1-score를 볼 때 더 정확한 모델 평가를 할 수 있다."
   ]
  },
  {
   "cell_type": "code",
   "execution_count": 152,
   "metadata": {},
   "outputs": [
    {
     "name": "stdout",
     "output_type": "stream",
     "text": [
      "              precision    recall  f1-score   support\n",
      "\n",
      "           0       1.00      1.00      1.00         6\n",
      "           1       1.00      1.00      1.00         6\n",
      "\n",
      "    accuracy                           1.00        12\n",
      "   macro avg       1.00      1.00      1.00        12\n",
      "weighted avg       1.00      1.00      1.00        12\n",
      "\n"
     ]
    }
   ],
   "source": [
    "# 실제값, 예측값\n",
    "# 예쁘게 보려면 print\n",
    "print(classification_report(y_test, knn.predict(X_test)))"
   ]
  },
  {
   "cell_type": "markdown",
   "metadata": {},
   "source": [
    "이제 이 정도 코드는 외워서 할 수 있어야한다!  \n",
    "이 것도 못 외우면 이 바닥에서 할 줄 모른다고 생각한다."
   ]
  },
  {
   "cell_type": "code",
   "execution_count": 153,
   "metadata": {},
   "outputs": [],
   "source": [
    "from sklearn.datasets import load_iris"
   ]
  },
  {
   "cell_type": "code",
   "execution_count": 154,
   "metadata": {},
   "outputs": [],
   "source": [
    "data = load_iris()"
   ]
  },
  {
   "cell_type": "code",
   "execution_count": 155,
   "metadata": {},
   "outputs": [],
   "source": [
    "data_pd = pd.DataFrame(data.data, columns=data.feature_names)\n",
    "data_ta = pd.DataFrame(data.target, columns=[\"target\"])\n",
    "iris = pd.concat([data_pd, data_ta], axis=1)"
   ]
  },
  {
   "cell_type": "code",
   "execution_count": 168,
   "metadata": {},
   "outputs": [],
   "source": [
    "X_train, X_test, y_train, y_test = train_test_split(iris.iloc[:, :-1], iris.iloc[:, -1])"
   ]
  },
  {
   "cell_type": "code",
   "execution_count": 169,
   "metadata": {},
   "outputs": [],
   "source": [
    "knn = KNeighborsClassifier()"
   ]
  },
  {
   "cell_type": "code",
   "execution_count": 170,
   "metadata": {},
   "outputs": [
    {
     "data": {
      "text/plain": [
       "KNeighborsClassifier(algorithm='auto', leaf_size=30, metric='minkowski',\n",
       "                     metric_params=None, n_jobs=None, n_neighbors=5, p=2,\n",
       "                     weights='uniform')"
      ]
     },
     "execution_count": 170,
     "metadata": {},
     "output_type": "execute_result"
    }
   ],
   "source": [
    "knn.fit(X_train, y_train)"
   ]
  },
  {
   "cell_type": "markdown",
   "metadata": {},
   "source": [
    "### confusion matrix(혼동 행렬)  "
   ]
  },
  {
   "cell_type": "markdown",
   "metadata": {},
   "source": [
    "- 예측은 binary로 한다.\n",
    "- 예측은 P, N으로 하고 -> 실제와 일치하면 T, 불일치하면 F\n",
    "- TP, FP, TN, FN 이라고 축약해서 표현함\n",
    "\n",
    "|        |양성이라고 예측|음성이라고 예측|\n",
    "|---     |---           |---|\n",
    "|실제 양성|양성 예측이 맞음(True Positive)|음성 예측이 틀림(False Positive)|\n",
    "|실제 음성|양성 예측이 틀림(False Positive)|음성 예측이 맞음(False Negative)|"
   ]
  },
  {
   "cell_type": "markdown",
   "metadata": {},
   "source": [
    "scikit-learn에서는 `confusion_matrix` 함수로 간단히 만들 수 있다.\n",
    "- row :    실제  \n",
    "- column : 예측  \n",
    "- 프레임 워크에 따라서 row와 column이 바뀔 수도 있으니 반드시 확인해야 한다.\n",
    "- multi class 문제인 경우 : one to many 방식으로 비교한다."
   ]
  },
  {
   "cell_type": "code",
   "execution_count": 171,
   "metadata": {},
   "outputs": [],
   "source": [
    "from sklearn.metrics import confusion_matrix"
   ]
  },
  {
   "cell_type": "code",
   "execution_count": 172,
   "metadata": {},
   "outputs": [
    {
     "data": {
      "text/plain": [
       "array([[13,  0,  0],\n",
       "       [ 0, 12,  0],\n",
       "       [ 0,  1, 12]], dtype=int64)"
      ]
     },
     "execution_count": 172,
     "metadata": {},
     "output_type": "execute_result"
    }
   ],
   "source": [
    "confusion_matrix(y_test, knn.predict(X_test))"
   ]
  },
  {
   "cell_type": "code",
   "execution_count": 173,
   "metadata": {},
   "outputs": [
    {
     "data": {
      "text/plain": [
       "array(['setosa', 'versicolor', 'virginica'], dtype='<U10')"
      ]
     },
     "execution_count": 173,
     "metadata": {},
     "output_type": "execute_result"
    }
   ],
   "source": [
    "# target 순서\n",
    "data.target_names"
   ]
  },
  {
   "cell_type": "markdown",
   "metadata": {},
   "source": [
    "||||예측||\n",
    "|:---:|:---:|:---:|:---:|:---:|\n",
    "||종류|setosa|versicolor|virginica|\n",
    "||setosa|13|0|0|\n",
    "|실제|versicolor|0|12|0|\n",
    "||virginica|0|1|12|"
   ]
  },
  {
   "cell_type": "markdown",
   "metadata": {},
   "source": [
    "**위의 결과 해석**  \n",
    "- test데이터에서 virginica는 총 13개 있다.   \n",
    "- 실제 virginica인데 versicolor로 예측한 경우 1개 있다. (3행 2열)  \n",
    "- 실제 virginica인데 제대로 맞춘 경우 12개 있다. (3행 3열)\n",
    "  \n",
    "virginica에 대하여\n",
    "- TP = 12\n",
    "- FP = 0 + 0\n",
    "- NP = 13 + 12\n",
    "- NF = 0 + 0 + 0 + 1"
   ]
  },
  {
   "cell_type": "markdown",
   "metadata": {},
   "source": [
    "### classification_report"
   ]
  },
  {
   "cell_type": "markdown",
   "metadata": {},
   "source": [
    "confusion matrix를 이용해서 precision, recall, f1-score 계산한다.\n",
    "- precision(정밀도)\n",
    "    - 양성으로 예측한 것 중에서 양성이 맞는 비율\n",
    "    - 즉, 예측한 것 중에 맞은 비율\n",
    "    - $precision = \\frac{TP}{TP+FP}$\n",
    "- recall(재현율)\n",
    "    - 실제 양성인 것  중에서 양성으로 예측한 비율\n",
    "    - 즉, 맞은 비율\n",
    "    - $reacll = \\frac{TP}{TP+FN}$\n",
    "- f-score\n",
    "    - 정밀도와 재현율의 가중조화평균\n",
    "    - 데이터의 클래스가 불균형할 때, 모델의 성능을 정확하게 파악할 수 있다.\n",
    "    - $F_\\beta = (1+\\beta^2) \\frac{precision * recall}{\\beta^2 * precision + recall}$\n",
    "    - f1-score는 $\\beta=1$인 f-score.\n",
    "        - $F_1 = 2 * \\frac{precision * recall}{precision + recall}$"
   ]
  },
  {
   "cell_type": "code",
   "execution_count": 230,
   "metadata": {},
   "outputs": [
    {
     "name": "stdout",
     "output_type": "stream",
     "text": [
      "              precision    recall  f1-score   support\n",
      "\n",
      "           0       1.00      1.00      1.00        13\n",
      "           1       0.92      1.00      0.96        12\n",
      "           2       1.00      0.92      0.96        13\n",
      "\n",
      "    accuracy                           0.97        38\n",
      "   macro avg       0.97      0.97      0.97        38\n",
      "weighted avg       0.98      0.97      0.97        38\n",
      "\n"
     ]
    }
   ],
   "source": [
    "print(classification_report(y_test, knn.predict(X_test)))"
   ]
  },
  {
   "cell_type": "code",
   "execution_count": null,
   "metadata": {},
   "outputs": [],
   "source": []
  }
 ],
 "metadata": {
  "kernelspec": {
   "display_name": "Python 3",
   "language": "python",
   "name": "python3"
  },
  "language_info": {
   "codemirror_mode": {
    "name": "ipython",
    "version": 3
   },
   "file_extension": ".py",
   "mimetype": "text/x-python",
   "name": "python",
   "nbconvert_exporter": "python",
   "pygments_lexer": "ipython3",
   "version": "3.7.3"
  },
  "toc": {
   "base_numbering": 1,
   "nav_menu": {},
   "number_sections": true,
   "sideBar": true,
   "skip_h1_title": true,
   "title_cell": "Table of Contents",
   "title_sidebar": "Contents",
   "toc_cell": true,
   "toc_position": {},
   "toc_section_display": true,
   "toc_window_display": false
  },
  "varInspector": {
   "cols": {
    "lenName": 16,
    "lenType": 16,
    "lenVar": 40
   },
   "kernels_config": {
    "python": {
     "delete_cmd_postfix": "",
     "delete_cmd_prefix": "del ",
     "library": "var_list.py",
     "varRefreshCmd": "print(var_dic_list())"
    },
    "r": {
     "delete_cmd_postfix": ") ",
     "delete_cmd_prefix": "rm(",
     "library": "var_list.r",
     "varRefreshCmd": "cat(var_dic_list()) "
    }
   },
   "types_to_exclude": [
    "module",
    "function",
    "builtin_function_or_method",
    "instance",
    "_Feature"
   ],
   "window_display": false
  }
 },
 "nbformat": 4,
 "nbformat_minor": 2
}
