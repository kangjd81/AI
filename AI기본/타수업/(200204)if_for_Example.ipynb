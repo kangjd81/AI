{
 "cells": [
  {
   "cell_type": "markdown",
   "metadata": {},
   "source": [
    "#### [예제 1] 아래와 같은 패턴의 별(*)을 출력하는 프로그램을 end='' 을 이용하여 작성하시오 "
   ]
  },
  {
   "cell_type": "code",
   "execution_count": 3,
   "metadata": {},
   "outputs": [
    {
     "name": "stdout",
     "output_type": "stream",
     "text": [
      "*****"
     ]
    }
   ],
   "source": [
    "for i in range(5):\n",
    "    \n",
    "    print('*', end='')"
   ]
  },
  {
   "cell_type": "markdown",
   "metadata": {},
   "source": [
    "#### [예제 2] 아래와 같은 패턴의 별(*)을 출력하는 프로그램을 end='' 을 이용하여 작성하시오"
   ]
  },
  {
   "cell_type": "code",
   "execution_count": 4,
   "metadata": {},
   "outputs": [
    {
     "name": "stdout",
     "output_type": "stream",
     "text": [
      "*****\n",
      "****\n",
      "***\n",
      "**\n",
      "*\n"
     ]
    }
   ],
   "source": [
    "for i in range(5):\n",
    "    for k in range(5-i):\n",
    "        print('*', end='')\n",
    "    print(\"\")"
   ]
  },
  {
   "cell_type": "markdown",
   "metadata": {},
   "source": [
    "#### [예제 3] 중첩 루프를 이용해 신문 배달을 하는 프로그램을 작성하시오. \n",
    "#### 단, 아래에서 arrears 리스트는 신문 구독료가 미납된 세대에 대한 정보를 포함하고 있는데, 해당 세대에는 신문을 배달하지 않아야 함"
   ]
  },
  {
   "cell_type": "code",
   "execution_count": 1,
   "metadata": {},
   "outputs": [
    {
     "name": "stdout",
     "output_type": "stream",
     "text": [
      "Newspaper delivery:  102\n",
      "Newspaper delivery:  103\n",
      "Newspaper delivery:  104\n",
      "Newspaper delivery:  201\n",
      "Newspaper delivery:  202\n",
      "Newspaper delivery:  204\n",
      "Newspaper delivery:  302\n",
      "Newspaper delivery:  303\n",
      "Newspaper delivery:  304\n",
      "Newspaper delivery:  401\n",
      "Newspaper delivery:  402\n",
      "Newspaper delivery:  403\n"
     ]
    }
   ],
   "source": [
    "apart = [[101, 102, 103, 104],[201, 202, 203, 204],[301, 302, 303, 304], [401, 402, 403, 404]]\n",
    "arrears = [101, 203, 301, 404] \n",
    "\n",
    "for floor in apart:\n",
    "    \n",
    "    for house in floor:\n",
    "        \n",
    "        if house in arrears:\n",
    "            continue\n",
    "        else:\n",
    "            print(\"Newspaper delivery: \", house)"
   ]
  },
  {
   "cell_type": "markdown",
   "metadata": {},
   "source": [
    "#### [예제 4] 짝수 출력하는 다음 코드를 List Comprehension 으로 구현하시오"
   ]
  },
  {
   "cell_type": "code",
   "execution_count": 2,
   "metadata": {},
   "outputs": [
    {
     "name": "stdout",
     "output_type": "stream",
     "text": [
      "[0, 2, 4, 6, 8]\n"
     ]
    }
   ],
   "source": [
    "even_number = [  x  for x in range(10)  if x % 2 == 0 ]\n",
    "\n",
    "print(even_number)"
   ]
  },
  {
   "cell_type": "markdown",
   "metadata": {},
   "source": [
    "#### [예제 5]  my_list = [‘A’, ‘B’, ‘C’, ‘D’]  에서,  for 문과 슬라이싱을 이용하여 첫 번째 데이터를 제외하고 나머지 데이터를 출력하시오"
   ]
  },
  {
   "cell_type": "code",
   "execution_count": 3,
   "metadata": {},
   "outputs": [
    {
     "name": "stdout",
     "output_type": "stream",
     "text": [
      "B\n",
      "C\n",
      "D\n"
     ]
    }
   ],
   "source": [
    "my_list = [ 'A', 'B', 'C', 'D' ]\n",
    "\n",
    "for data in my_list[1:]:\n",
    "    \n",
    "    print(data)"
   ]
  },
  {
   "cell_type": "markdown",
   "metadata": {},
   "source": [
    "#### [예제 6] my_list = [3, 1, 7, 12, 5, 16]  에서, 3의 배수이거나 4의 배수를 화면에 출력하시오"
   ]
  },
  {
   "cell_type": "code",
   "execution_count": 4,
   "metadata": {},
   "outputs": [
    {
     "name": "stdout",
     "output_type": "stream",
     "text": [
      "3\n",
      "12\n",
      "16\n"
     ]
    }
   ],
   "source": [
    "my_list = [3, 1, 7, 12, 5, 16]  \n",
    "\n",
    "for data in my_list:\n",
    "    \n",
    "    if data % 3 == 0  or  data % 4 == 0:\n",
    "        \n",
    "        print(data)"
   ]
  },
  {
   "cell_type": "markdown",
   "metadata": {},
   "source": [
    "#### test_data= [ [10, 20, 30], [1, 2, 3], [100, 200, 300] ]   에 대하여, 다음의 xdata , tdata 를 구하시오"
   ]
  },
  {
   "cell_type": "code",
   "execution_count": 5,
   "metadata": {},
   "outputs": [],
   "source": [
    "test_data= [ [10, 20, 30], [1, 2, 3], [100, 200, 300] ]"
   ]
  },
  {
   "cell_type": "code",
   "execution_count": 6,
   "metadata": {},
   "outputs": [],
   "source": [
    "xdata= [ x[1:-1] for x in test_data ]\n",
    "tdata= [ x[-1] for x in test_data ]"
   ]
  },
  {
   "cell_type": "code",
   "execution_count": 7,
   "metadata": {},
   "outputs": [
    {
     "data": {
      "text/plain": [
       "[[20], [2], [200]]"
      ]
     },
     "execution_count": 7,
     "metadata": {},
     "output_type": "execute_result"
    }
   ],
   "source": [
    "xdata"
   ]
  },
  {
   "cell_type": "code",
   "execution_count": 8,
   "metadata": {},
   "outputs": [
    {
     "data": {
      "text/plain": [
       "[30, 3, 300]"
      ]
     },
     "execution_count": 8,
     "metadata": {},
     "output_type": "execute_result"
    }
   ],
   "source": [
    "tdata"
   ]
  },
  {
   "cell_type": "markdown",
   "metadata": {},
   "source": [
    "#### [예제 8] train 디렉토리에 다음과 같은 파일이 있을 때, labels 값을 구하시오"
   ]
  },
  {
   "cell_type": "code",
   "execution_count": 11,
   "metadata": {},
   "outputs": [
    {
     "data": {
      "text/plain": [
       "['train\\\\cat.6.jpg',\n",
       " 'train\\\\cat.9.jpg',\n",
       " 'train\\\\dog.6316.jpg',\n",
       " 'train\\\\dog.6331.jpg']"
      ]
     },
     "execution_count": 11,
     "metadata": {},
     "output_type": "execute_result"
    }
   ],
   "source": [
    "import glob\n",
    "\n",
    "files = glob.glob('train/*')\n",
    "\n",
    "files"
   ]
  },
  {
   "cell_type": "code",
   "execution_count": 12,
   "metadata": {},
   "outputs": [
    {
     "data": {
      "text/plain": [
       "['cat', 'cat', 'dog', 'dog']"
      ]
     },
     "execution_count": 12,
     "metadata": {},
     "output_type": "execute_result"
    }
   ],
   "source": [
    "labels = [ fn.split('\\\\')[1].split('.')[0].strip()  for fn in files ]\n",
    "\n",
    "labels"
   ]
  },
  {
   "cell_type": "code",
   "execution_count": null,
   "metadata": {},
   "outputs": [],
   "source": []
  }
 ],
 "metadata": {
  "anaconda-cloud": {},
  "kernelspec": {
   "display_name": "Python 3",
   "language": "python",
   "name": "python3"
  },
  "language_info": {
   "codemirror_mode": {
    "name": "ipython",
    "version": 3
   },
   "file_extension": ".py",
   "mimetype": "text/x-python",
   "name": "python",
   "nbconvert_exporter": "python",
   "pygments_lexer": "ipython3",
   "version": "3.7.4"
  }
 },
 "nbformat": 4,
 "nbformat_minor": 1
}
