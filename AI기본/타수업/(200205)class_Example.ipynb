{
 "cells": [
  {
   "cell_type": "markdown",
   "metadata": {},
   "source": [
    "#### [예제 1] 다음의 조건을 만족하는 Point라는 클래스를 작성하시오.\n",
    "\n",
    "#### Point 클래스는 생성자를 통해 (x, y) 좌표를 입력받는다.\n",
    "#### setx(x), sety(y) 메서드를 통해 x 좌표와 y 좌표를 따로 입력받을 수도 있다.\n",
    "#### get() 메서드를 호출하면 튜플로 구성된 (x, y) 좌표를 반환한다.\n",
    "#### move(dx, dy) 메서드는 현재 좌표를 dx, dy만큼 이동시킨다"
   ]
  },
  {
   "cell_type": "code",
   "execution_count": 13,
   "metadata": {
    "collapsed": true
   },
   "outputs": [],
   "source": [
    "class Point:\n",
    "    \n",
    "    def __init__(self, x, y):\n",
    "        self.x = x\n",
    "        self.y = y\n",
    "        \n",
    "    def setx(self, x):\n",
    "        self.x = x\n",
    "        \n",
    "    def sety(self, y):\n",
    "        self.y = y\n",
    "        \n",
    "    def get(self):\n",
    "        return self.x, self.y\n",
    "    \n",
    "    def move(self, dx, dy):\n",
    "        self.x = self.x + dx\n",
    "        self.y = self.y + dy"
   ]
  },
  {
   "attachments": {},
   "cell_type": "markdown",
   "metadata": {
    "collapsed": true
   },
   "source": [
    "#### [예제 2] 다음의 Error 원인과 해결방안을 기술하시오"
   ]
  },
  {
   "cell_type": "code",
   "execution_count": 1,
   "metadata": {},
   "outputs": [],
   "source": [
    "class MyTest:\n",
    "    \n",
    "    def hello():\n",
    "        \n",
    "        print(\"MyTest hello method\")"
   ]
  },
  {
   "cell_type": "code",
   "execution_count": 2,
   "metadata": {},
   "outputs": [
    {
     "ename": "TypeError",
     "evalue": "hello() takes 0 positional arguments but 1 was given",
     "output_type": "error",
     "traceback": [
      "\u001b[1;31m---------------------------------------------------------------------------\u001b[0m",
      "\u001b[1;31mTypeError\u001b[0m                                 Traceback (most recent call last)",
      "\u001b[1;32m<ipython-input-2-d9d34e58be7e>\u001b[0m in \u001b[0;36m<module>\u001b[1;34m\u001b[0m\n\u001b[0;32m      1\u001b[0m \u001b[0mobj\u001b[0m \u001b[1;33m=\u001b[0m \u001b[0mMyTest\u001b[0m\u001b[1;33m(\u001b[0m\u001b[1;33m)\u001b[0m\u001b[1;33m\u001b[0m\u001b[1;33m\u001b[0m\u001b[0m\n\u001b[0;32m      2\u001b[0m \u001b[1;33m\u001b[0m\u001b[0m\n\u001b[1;32m----> 3\u001b[1;33m \u001b[0mobj\u001b[0m\u001b[1;33m.\u001b[0m\u001b[0mhello\u001b[0m\u001b[1;33m(\u001b[0m\u001b[1;33m)\u001b[0m\u001b[1;33m\u001b[0m\u001b[1;33m\u001b[0m\u001b[0m\n\u001b[0m",
      "\u001b[1;31mTypeError\u001b[0m: hello() takes 0 positional arguments but 1 was given"
     ]
    }
   ],
   "source": [
    "obj = MyTest()\n",
    "\n",
    "obj.hello()"
   ]
  },
  {
   "cell_type": "code",
   "execution_count": 3,
   "metadata": {},
   "outputs": [],
   "source": [
    "class MyTest:\n",
    "    \n",
    "    def hello(self):\n",
    "        \n",
    "        print(\"MyTest hello method\")"
   ]
  },
  {
   "cell_type": "code",
   "execution_count": 4,
   "metadata": {},
   "outputs": [
    {
     "name": "stdout",
     "output_type": "stream",
     "text": [
      "MyTest hello method\n"
     ]
    }
   ],
   "source": [
    "obj = MyTest()\n",
    "\n",
    "obj.hello()"
   ]
  },
  {
   "attachments": {},
   "cell_type": "markdown",
   "metadata": {},
   "source": [
    "#### [예제 3] 다음의 조건을 만족하는 MyCalc 클래스를 작성한후, MyCalc 객체 obj를 생성한 후에 \n",
    "#### 4개의 메서드를 호출하는 코드를 작성하시오\n",
    "#### 임의의 2개의 숫자를 객체 생성시에 입력으로 받아 사칙연산(+,-,*,/)을 수행하여 결과를 return해주는 4개의 메서드  summation, subtract, multiply, divide 를 가지고 있다"
   ]
  },
  {
   "cell_type": "code",
   "execution_count": 5,
   "metadata": {},
   "outputs": [],
   "source": [
    "class MyCalc:\n",
    "    \n",
    "    def __init__(self, x, y):\n",
    "        \n",
    "        self.x = x\n",
    "        self.y = y\n",
    "        \n",
    "        print('MyCalc object is constructed !!')\n",
    "        \n",
    "    def summation(self):\n",
    "        \n",
    "        return self.x + self.y\n",
    "    \n",
    "    def subtract(self):\n",
    "        \n",
    "        return self.x - self.y\n",
    "    \n",
    "    def multiply(self):\n",
    "        \n",
    "        return self.x * self.y\n",
    "    \n",
    "    def divide(self):\n",
    "        \n",
    "        if self.x == 0:\n",
    "            \n",
    "            raise Exception('Divide By Zero')\n",
    "            \n",
    "        else:\n",
    "            \n",
    "            return self.x / self.y"
   ]
  },
  {
   "cell_type": "code",
   "execution_count": 6,
   "metadata": {},
   "outputs": [
    {
     "name": "stdout",
     "output_type": "stream",
     "text": [
      "MyCalc object is constructed !!\n",
      "30\n",
      "-10\n",
      "200\n",
      "0.5\n",
      "Done !!\n"
     ]
    }
   ],
   "source": [
    "# 정상적인 연산\n",
    "# Mycalc Object 생성\n",
    "obj1 = MyCalc(10, 20)\n",
    "\n",
    "try:\n",
    "    print(obj1.summation())\n",
    "    \n",
    "    print(obj1.subtract())\n",
    "    \n",
    "    print(obj1.multiply())\n",
    "    \n",
    "    print(obj1.divide())\n",
    "    \n",
    "except Exception as err:\n",
    "    \n",
    "    print(str(err))\n",
    "    \n",
    "finally:\n",
    "    \n",
    "    print('Done !!')"
   ]
  },
  {
   "cell_type": "code",
   "execution_count": 7,
   "metadata": {},
   "outputs": [
    {
     "name": "stdout",
     "output_type": "stream",
     "text": [
      "MyCalc object is constructed !!\n",
      "20\n",
      "-20\n",
      "0\n",
      "Divide By Zero\n",
      "Done !!\n"
     ]
    }
   ],
   "source": [
    "# 0 으로 나누는 경우의 exception 처리\n",
    "# Mycalc Object 생성\n",
    "obj2 = MyCalc(0, 20)\n",
    "\n",
    "try:\n",
    "    print(obj2.summation())\n",
    "    \n",
    "    print(obj2.subtract())\n",
    "    \n",
    "    print(obj2.multiply())\n",
    "    \n",
    "    print(obj2.divide())\n",
    "    \n",
    "except Exception as err:\n",
    "    \n",
    "    print(str(err))\n",
    "    \n",
    "finally:\n",
    "    \n",
    "    print('Done !!')"
   ]
  },
  {
   "cell_type": "code",
   "execution_count": 8,
   "metadata": {},
   "outputs": [
    {
     "name": "stdout",
     "output_type": "stream",
     "text": [
      "MyCalc object is constructed !!\n",
      "20\n",
      "-20\n",
      "0\n"
     ]
    },
    {
     "ename": "Exception",
     "evalue": "Divide By Zero",
     "output_type": "error",
     "traceback": [
      "\u001b[1;31m---------------------------------------------------------------------------\u001b[0m",
      "\u001b[1;31mException\u001b[0m                                 Traceback (most recent call last)",
      "\u001b[1;32m<ipython-input-8-a695c60d3f07>\u001b[0m in \u001b[0;36m<module>\u001b[1;34m\u001b[0m\n\u001b[0;32m      9\u001b[0m \u001b[0mprint\u001b[0m\u001b[1;33m(\u001b[0m\u001b[0mobj3\u001b[0m\u001b[1;33m.\u001b[0m\u001b[0mmultiply\u001b[0m\u001b[1;33m(\u001b[0m\u001b[1;33m)\u001b[0m\u001b[1;33m)\u001b[0m\u001b[1;33m\u001b[0m\u001b[1;33m\u001b[0m\u001b[0m\n\u001b[0;32m     10\u001b[0m \u001b[1;33m\u001b[0m\u001b[0m\n\u001b[1;32m---> 11\u001b[1;33m \u001b[0mprint\u001b[0m\u001b[1;33m(\u001b[0m\u001b[0mobj3\u001b[0m\u001b[1;33m.\u001b[0m\u001b[0mdivide\u001b[0m\u001b[1;33m(\u001b[0m\u001b[1;33m)\u001b[0m\u001b[1;33m)\u001b[0m\u001b[1;33m\u001b[0m\u001b[1;33m\u001b[0m\u001b[0m\n\u001b[0m",
      "\u001b[1;32m<ipython-input-5-31007f345a12>\u001b[0m in \u001b[0;36mdivide\u001b[1;34m(self)\u001b[0m\n\u001b[0;32m     24\u001b[0m         \u001b[1;32mif\u001b[0m \u001b[0mself\u001b[0m\u001b[1;33m.\u001b[0m\u001b[0mx\u001b[0m \u001b[1;33m==\u001b[0m \u001b[1;36m0\u001b[0m\u001b[1;33m:\u001b[0m\u001b[1;33m\u001b[0m\u001b[1;33m\u001b[0m\u001b[0m\n\u001b[0;32m     25\u001b[0m \u001b[1;33m\u001b[0m\u001b[0m\n\u001b[1;32m---> 26\u001b[1;33m             \u001b[1;32mraise\u001b[0m \u001b[0mException\u001b[0m\u001b[1;33m(\u001b[0m\u001b[1;34m'Divide By Zero'\u001b[0m\u001b[1;33m)\u001b[0m\u001b[1;33m\u001b[0m\u001b[1;33m\u001b[0m\u001b[0m\n\u001b[0m\u001b[0;32m     27\u001b[0m \u001b[1;33m\u001b[0m\u001b[0m\n\u001b[0;32m     28\u001b[0m         \u001b[1;32melse\u001b[0m\u001b[1;33m:\u001b[0m\u001b[1;33m\u001b[0m\u001b[1;33m\u001b[0m\u001b[0m\n",
      "\u001b[1;31mException\u001b[0m: Divide By Zero"
     ]
    }
   ],
   "source": [
    "# 0으로 나누는 경우 exception 처리 하지 않는 경우\n",
    "# Mycalc Object 생성\n",
    "obj3 = MyCalc(0, 20)\n",
    "\n",
    "print(obj3.summation())\n",
    "\n",
    "print(obj3.subtract())\n",
    "\n",
    "print(obj3.multiply())\n",
    "\n",
    "print(obj3.divide())"
   ]
  },
  {
   "attachments": {},
   "cell_type": "markdown",
   "metadata": {},
   "source": [
    "#### [예제 4]  클래스 MyFile의 save_file 메서드는 임의의 문자열을 입력 파라미터로 받아,\n",
    "#### 문자열을 현재 디렉토리에 text_file.txt 파일로 저장하는 기능을 가지고 있음. MyFile 클래스의 save_file 메서드를 구현하시오"
   ]
  },
  {
   "cell_type": "code",
   "execution_count": 12,
   "metadata": {},
   "outputs": [],
   "source": [
    "class MyFile:\n",
    "    \n",
    "    def __init__(self):\n",
    "        \n",
    "        print(\"MyFile object is constructed\")\n",
    "        \n",
    "    def save_file(self, str):\n",
    "        \n",
    "        try:            \n",
    "            with open('./text_file.txt', 'a') as f:\n",
    "            \n",
    "                f.write(str)                \n",
    "                print('write success\\n')\n",
    "                \n",
    "        except Exception as err:   \n",
    "            \n",
    "            print(str(err))            \n",
    "            raise Exception('File Write Error')\n",
    "            \n",
    "    # 현재 디렉토리에서 text_file.txt 읽음        \n",
    "    def read_file(self):\n",
    "        \n",
    "        try:            \n",
    "            with open('./text_file.txt', 'r') as f1:\n",
    "                            \n",
    "                data1 = f1.read()\n",
    "                print('using read()')\n",
    "                print(data1)\n",
    "                \n",
    "            with open('./text_file.txt', 'r') as f2:\n",
    "                \n",
    "                # readlines 함수는 파일의 모든 줄을 읽어서 각각의 줄을 요소로 갖는 리스트로 돌려줌\n",
    "                lines = f2.readlines()  \n",
    "                print('using readlines()')\n",
    "                print('type(lines) = ', type(lines))\n",
    "                print('lines = ', lines)\n",
    "                \n",
    "                for line in lines:\n",
    "                    print(line)  \n",
    "                \n",
    "        except Exception as err:   \n",
    "            \n",
    "            print(str(err))            \n",
    "            raise Exception('File Read Error')"
   ]
  },
  {
   "cell_type": "code",
   "execution_count": 13,
   "metadata": {},
   "outputs": [
    {
     "name": "stdout",
     "output_type": "stream",
     "text": [
      "MyFile object is constructed\n"
     ]
    }
   ],
   "source": [
    "# MyFile object 생성\n",
    "\n",
    "obj1 = MyFile()"
   ]
  },
  {
   "cell_type": "code",
   "execution_count": 14,
   "metadata": {},
   "outputs": [
    {
     "name": "stdout",
     "output_type": "stream",
     "text": [
      "write success\n",
      "\n",
      "write success\n",
      "\n",
      "write success\n",
      "\n"
     ]
    }
   ],
   "source": [
    "try:\n",
    "    obj1.save_file('1st string\\n')\n",
    "    obj1.save_file('2nd string\\n')\n",
    "    obj1.save_file('3rd string\\n')\n",
    "    \n",
    "except Exception as err:\n",
    "    \n",
    "    print(str(err))"
   ]
  },
  {
   "cell_type": "code",
   "execution_count": 16,
   "metadata": {},
   "outputs": [
    {
     "name": "stdout",
     "output_type": "stream",
     "text": [
      "using read()\n",
      "1st string\n",
      "2nd string\n",
      "3rd string\n",
      "1st string\n",
      "2nd string\n",
      "3rd string\n",
      "\n",
      "using readlines()\n",
      "type(lines) =  <class 'list'>\n",
      "lines =  ['1st string\\n', '2nd string\\n', '3rd string\\n', '1st string\\n', '2nd string\\n', '3rd string\\n']\n",
      "1st string\n",
      "\n",
      "2nd string\n",
      "\n",
      "3rd string\n",
      "\n",
      "1st string\n",
      "\n",
      "2nd string\n",
      "\n",
      "3rd string\n",
      "\n"
     ]
    }
   ],
   "source": [
    "try:\n",
    "    obj1.read_file()\n",
    "    \n",
    "except Exception as err:\n",
    "    \n",
    "    print(str(err))"
   ]
  },
  {
   "cell_type": "code",
   "execution_count": null,
   "metadata": {},
   "outputs": [],
   "source": []
  }
 ],
 "metadata": {
  "anaconda-cloud": {},
  "kernelspec": {
   "display_name": "Python 3",
   "language": "python",
   "name": "python3"
  },
  "language_info": {
   "codemirror_mode": {
    "name": "ipython",
    "version": 3
   },
   "file_extension": ".py",
   "mimetype": "text/x-python",
   "name": "python",
   "nbconvert_exporter": "python",
   "pygments_lexer": "ipython3",
   "version": "3.7.3"
  }
 },
 "nbformat": 4,
 "nbformat_minor": 1
}
